{
  "cells": [
    {
      "cell_type": "code",
      "execution_count": null,
      "metadata": {
        "id": "g7nOKwAXYwH_"
      },
      "outputs": [],
      "source": [
        "import pandas as pd\n",
        "import numpy as np"
      ]
    },
    {
      "cell_type": "code",
      "execution_count": null,
      "metadata": {
        "colab": {
          "base_uri": "https://localhost:8080/"
        },
        "id": "UlemjKAXY3IV",
        "outputId": "cce7b002-851a-4b1a-9606-b46be5dcb9fd"
      },
      "outputs": [
        {
          "output_type": "stream",
          "name": "stdout",
          "text": [
            "Mounted at drive\n"
          ]
        }
      ],
      "source": [
        "from google.colab import drive\n",
        "drive.mount('drive', force_remount=True)"
      ]
    },
    {
      "cell_type": "code",
      "execution_count": null,
      "metadata": {
        "colab": {
          "base_uri": "https://localhost:8080/"
        },
        "id": "qj1DpIs5ZYZj",
        "outputId": "1102a0e8-d163-4e0b-f7f2-4f4d0848d213"
      },
      "outputs": [
        {
          "name": "stdout",
          "output_type": "stream",
          "text": [
            "/content/drive/MyDrive/search/lyrics-data.csv\n"
          ]
        }
      ],
      "source": [
        "!ls '/content/drive/MyDrive/search/lyrics-data.csv'"
      ]
    },
    {
      "cell_type": "code",
      "execution_count": null,
      "metadata": {
        "id": "H7rVd7hnYos7"
      },
      "outputs": [],
      "source": [
        "df = pd.read_csv('/content/drive/MyDrive/search/lyrics-data.csv')"
      ]
    },
    {
      "cell_type": "code",
      "execution_count": null,
      "metadata": {
        "colab": {
          "base_uri": "https://localhost:8080/"
        },
        "id": "jfR5KYAnaSOc",
        "outputId": "8cd30eec-e00c-4564-dce7-16026514a222"
      },
      "outputs": [
        {
          "output_type": "stream",
          "name": "stdout",
          "text": [
            "<class 'pandas.core.frame.DataFrame'>\n",
            "RangeIndex: 209522 entries, 0 to 209521\n",
            "Data columns (total 5 columns):\n",
            " #   Column  Non-Null Count   Dtype \n",
            "---  ------  --------------   ----- \n",
            " 0   ALink   209522 non-null  object\n",
            " 1   SName   209522 non-null  object\n",
            " 2   SLink   209522 non-null  object\n",
            " 3   Lyric   209484 non-null  object\n",
            " 4   Idiom   206375 non-null  object\n",
            "dtypes: object(5)\n",
            "memory usage: 8.0+ MB\n"
          ]
        }
      ],
      "source": [
        "df.info()"
      ]
    },
    {
      "cell_type": "code",
      "source": [
        "df.dropna(inplace=True)"
      ],
      "metadata": {
        "id": "9y6ETYeAUqj3"
      },
      "execution_count": null,
      "outputs": []
    },
    {
      "cell_type": "code",
      "execution_count": null,
      "metadata": {
        "colab": {
          "base_uri": "https://localhost:8080/",
          "height": 819
        },
        "id": "pjuE78TibDRX",
        "outputId": "999da0dc-404e-43b7-e985-a52ad464cd22"
      },
      "outputs": [
        {
          "output_type": "execute_result",
          "data": {
            "text/html": [
              "\n",
              "  <div id=\"df-b047f892-a11d-47ba-abdb-e57d9aeea9f0\">\n",
              "    <div class=\"colab-df-container\">\n",
              "      <div>\n",
              "<style scoped>\n",
              "    .dataframe tbody tr th:only-of-type {\n",
              "        vertical-align: middle;\n",
              "    }\n",
              "\n",
              "    .dataframe tbody tr th {\n",
              "        vertical-align: top;\n",
              "    }\n",
              "\n",
              "    .dataframe thead th {\n",
              "        text-align: right;\n",
              "    }\n",
              "</style>\n",
              "<table border=\"1\" class=\"dataframe\">\n",
              "  <thead>\n",
              "    <tr style=\"text-align: right;\">\n",
              "      <th></th>\n",
              "      <th>author</th>\n",
              "      <th>song_name</th>\n",
              "      <th>lyric</th>\n",
              "      <th>Idiom</th>\n",
              "    </tr>\n",
              "  </thead>\n",
              "  <tbody>\n",
              "    <tr>\n",
              "      <th>50</th>\n",
              "      <td>/10000-maniacs/</td>\n",
              "      <td>Dust Bowl</td>\n",
              "      <td>I should know to leave them home. They follow ...</td>\n",
              "      <td>ENGLISH</td>\n",
              "    </tr>\n",
              "    <tr>\n",
              "      <th>51</th>\n",
              "      <td>/10000-maniacs/</td>\n",
              "      <td>Eat For Two</td>\n",
              "      <td>Oh,. Baby blankets and. Baby shoes,. Baby slip...</td>\n",
              "      <td>ENGLISH</td>\n",
              "    </tr>\n",
              "    <tr>\n",
              "      <th>52</th>\n",
              "      <td>/10000-maniacs/</td>\n",
              "      <td>Eden</td>\n",
              "      <td>We are the roses in the garden,. beauty with t...</td>\n",
              "      <td>ENGLISH</td>\n",
              "    </tr>\n",
              "    <tr>\n",
              "      <th>53</th>\n",
              "      <td>/10000-maniacs/</td>\n",
              "      <td>Ellen</td>\n",
              "      <td>Eager to please was just the way that he was. ...</td>\n",
              "      <td>ENGLISH</td>\n",
              "    </tr>\n",
              "    <tr>\n",
              "      <th>54</th>\n",
              "      <td>/10000-maniacs/</td>\n",
              "      <td>Even With My Eyes Closed</td>\n",
              "      <td>Even with my eyes closed,. Funny how I know. i...</td>\n",
              "      <td>ENGLISH</td>\n",
              "    </tr>\n",
              "    <tr>\n",
              "      <th>55</th>\n",
              "      <td>/10000-maniacs/</td>\n",
              "      <td>Everyday Is Like Sunday</td>\n",
              "      <td>Trudging slowly over wet sand. Back to the ben...</td>\n",
              "      <td>ENGLISH</td>\n",
              "    </tr>\n",
              "    <tr>\n",
              "      <th>56</th>\n",
              "      <td>/10000-maniacs/</td>\n",
              "      <td>Everyone A Puzzle Lover</td>\n",
              "      <td>why are some men born. with minds that earn de...</td>\n",
              "      <td>ENGLISH</td>\n",
              "    </tr>\n",
              "    <tr>\n",
              "      <th>57</th>\n",
              "      <td>/10000-maniacs/</td>\n",
              "      <td>Few And Far Between</td>\n",
              "      <td>Times are far between,. and few I bet,. when w...</td>\n",
              "      <td>ENGLISH</td>\n",
              "    </tr>\n",
              "    <tr>\n",
              "      <th>58</th>\n",
              "      <td>/10000-maniacs/</td>\n",
              "      <td>From The Time We Say Goodbye</td>\n",
              "      <td>by the time you say goodbye. by the time you s...</td>\n",
              "      <td>ENGLISH</td>\n",
              "    </tr>\n",
              "    <tr>\n",
              "      <th>59</th>\n",
              "      <td>/10000-maniacs/</td>\n",
              "      <td>Girl On A Train</td>\n",
              "      <td>Waking on a train dreaming, charmed alone they...</td>\n",
              "      <td>ENGLISH</td>\n",
              "    </tr>\n",
              "    <tr>\n",
              "      <th>60</th>\n",
              "      <td>/10000-maniacs/</td>\n",
              "      <td>Glow</td>\n",
              "      <td>In the coolness of the morning sparing moments...</td>\n",
              "      <td>ENGLISH</td>\n",
              "    </tr>\n",
              "    <tr>\n",
              "      <th>61</th>\n",
              "      <td>/10000-maniacs/</td>\n",
              "      <td>Gold Rush Brides</td>\n",
              "      <td>[ Spoken intro from: Women's Diaries of the We...</td>\n",
              "      <td>ENGLISH</td>\n",
              "    </tr>\n",
              "    <tr>\n",
              "      <th>62</th>\n",
              "      <td>/10000-maniacs/</td>\n",
              "      <td>Green Children</td>\n",
              "      <td>An Augist day in the hills of Spain,. a pair o...</td>\n",
              "      <td>ENGLISH</td>\n",
              "    </tr>\n",
              "    <tr>\n",
              "      <th>63</th>\n",
              "      <td>/10000-maniacs/</td>\n",
              "      <td>Grey Victory</td>\n",
              "      <td>there was light. and atomic fission. swelling ...</td>\n",
              "      <td>ENGLISH</td>\n",
              "    </tr>\n",
              "    <tr>\n",
              "      <th>64</th>\n",
              "      <td>/10000-maniacs/</td>\n",
              "      <td>Groove Dub</td>\n",
              "      <td>[ music: John Lombardo/lyric: Natalie Merchant...</td>\n",
              "      <td>ENGLISH</td>\n",
              "    </tr>\n",
              "    <tr>\n",
              "      <th>65</th>\n",
              "      <td>/10000-maniacs/</td>\n",
              "      <td>Gun Shy</td>\n",
              "      <td>I always knew that you would take yourself far...</td>\n",
              "      <td>ENGLISH</td>\n",
              "    </tr>\n",
              "    <tr>\n",
              "      <th>66</th>\n",
              "      <td>/10000-maniacs/</td>\n",
              "      <td>Hateful Hate</td>\n",
              "      <td>[ music: Natalie Merchant/words: Natalie Merch...</td>\n",
              "      <td>ENGLISH</td>\n",
              "    </tr>\n",
              "    <tr>\n",
              "      <th>67</th>\n",
              "      <td>/10000-maniacs/</td>\n",
              "      <td>Headstrong</td>\n",
              "      <td>[ music: Natalie Merchant/words: Natalie Merch...</td>\n",
              "      <td>ENGLISH</td>\n",
              "    </tr>\n",
              "    <tr>\n",
              "      <th>68</th>\n",
              "      <td>/10000-maniacs/</td>\n",
              "      <td>Hello In There</td>\n",
              "      <td>[ John Prine ]. We had an apartment in the cit...</td>\n",
              "      <td>ENGLISH</td>\n",
              "    </tr>\n",
              "    <tr>\n",
              "      <th>69</th>\n",
              "      <td>/10000-maniacs/</td>\n",
              "      <td>Hey Jack Kerouac</td>\n",
              "      <td>Hey Jack Kerouac. I think of you mother. And a...</td>\n",
              "      <td>ENGLISH</td>\n",
              "    </tr>\n",
              "    <tr>\n",
              "      <th>70</th>\n",
              "      <td>/10000-maniacs/</td>\n",
              "      <td>Hidden In My Heart</td>\n",
              "      <td>Music by 10,000 Maniacs - Lyrics by Mary Ramse...</td>\n",
              "      <td>ENGLISH</td>\n",
              "    </tr>\n",
              "    <tr>\n",
              "      <th>71</th>\n",
              "      <td>/10000-maniacs/</td>\n",
              "      <td>How You've Grown</td>\n",
              "      <td>[ Merchant ]. . [ viola: Mary Ramsey ]. \"My, h...</td>\n",
              "      <td>ENGLISH</td>\n",
              "    </tr>\n",
              "    <tr>\n",
              "      <th>72</th>\n",
              "      <td>/10000-maniacs/</td>\n",
              "      <td>I Don't Love You Too</td>\n",
              "      <td>Well I hope that I don't fall in love with you...</td>\n",
              "      <td>ENGLISH</td>\n",
              "    </tr>\n",
              "    <tr>\n",
              "      <th>73</th>\n",
              "      <td>/10000-maniacs/</td>\n",
              "      <td>I Hope That I Don't Fall In Love With You</td>\n",
              "      <td>[ Tom Waits ]. . Well I hope that I don't fall...</td>\n",
              "      <td>ENGLISH</td>\n",
              "    </tr>\n",
              "    <tr>\n",
              "      <th>74</th>\n",
              "      <td>/10000-maniacs/</td>\n",
              "      <td>I'm Not The Man</td>\n",
              "      <td>It crawls on his back, won't ever let him be.....</td>\n",
              "      <td>ENGLISH</td>\n",
              "    </tr>\n",
              "  </tbody>\n",
              "</table>\n",
              "</div>\n",
              "      <button class=\"colab-df-convert\" onclick=\"convertToInteractive('df-b047f892-a11d-47ba-abdb-e57d9aeea9f0')\"\n",
              "              title=\"Convert this dataframe to an interactive table.\"\n",
              "              style=\"display:none;\">\n",
              "        \n",
              "  <svg xmlns=\"http://www.w3.org/2000/svg\" height=\"24px\"viewBox=\"0 0 24 24\"\n",
              "       width=\"24px\">\n",
              "    <path d=\"M0 0h24v24H0V0z\" fill=\"none\"/>\n",
              "    <path d=\"M18.56 5.44l.94 2.06.94-2.06 2.06-.94-2.06-.94-.94-2.06-.94 2.06-2.06.94zm-11 1L8.5 8.5l.94-2.06 2.06-.94-2.06-.94L8.5 2.5l-.94 2.06-2.06.94zm10 10l.94 2.06.94-2.06 2.06-.94-2.06-.94-.94-2.06-.94 2.06-2.06.94z\"/><path d=\"M17.41 7.96l-1.37-1.37c-.4-.4-.92-.59-1.43-.59-.52 0-1.04.2-1.43.59L10.3 9.45l-7.72 7.72c-.78.78-.78 2.05 0 2.83L4 21.41c.39.39.9.59 1.41.59.51 0 1.02-.2 1.41-.59l7.78-7.78 2.81-2.81c.8-.78.8-2.07 0-2.86zM5.41 20L4 18.59l7.72-7.72 1.47 1.35L5.41 20z\"/>\n",
              "  </svg>\n",
              "      </button>\n",
              "      \n",
              "  <style>\n",
              "    .colab-df-container {\n",
              "      display:flex;\n",
              "      flex-wrap:wrap;\n",
              "      gap: 12px;\n",
              "    }\n",
              "\n",
              "    .colab-df-convert {\n",
              "      background-color: #E8F0FE;\n",
              "      border: none;\n",
              "      border-radius: 50%;\n",
              "      cursor: pointer;\n",
              "      display: none;\n",
              "      fill: #1967D2;\n",
              "      height: 32px;\n",
              "      padding: 0 0 0 0;\n",
              "      width: 32px;\n",
              "    }\n",
              "\n",
              "    .colab-df-convert:hover {\n",
              "      background-color: #E2EBFA;\n",
              "      box-shadow: 0px 1px 2px rgba(60, 64, 67, 0.3), 0px 1px 3px 1px rgba(60, 64, 67, 0.15);\n",
              "      fill: #174EA6;\n",
              "    }\n",
              "\n",
              "    [theme=dark] .colab-df-convert {\n",
              "      background-color: #3B4455;\n",
              "      fill: #D2E3FC;\n",
              "    }\n",
              "\n",
              "    [theme=dark] .colab-df-convert:hover {\n",
              "      background-color: #434B5C;\n",
              "      box-shadow: 0px 1px 3px 1px rgba(0, 0, 0, 0.15);\n",
              "      filter: drop-shadow(0px 1px 2px rgba(0, 0, 0, 0.3));\n",
              "      fill: #FFFFFF;\n",
              "    }\n",
              "  </style>\n",
              "\n",
              "      <script>\n",
              "        const buttonEl =\n",
              "          document.querySelector('#df-b047f892-a11d-47ba-abdb-e57d9aeea9f0 button.colab-df-convert');\n",
              "        buttonEl.style.display =\n",
              "          google.colab.kernel.accessAllowed ? 'block' : 'none';\n",
              "\n",
              "        async function convertToInteractive(key) {\n",
              "          const element = document.querySelector('#df-b047f892-a11d-47ba-abdb-e57d9aeea9f0');\n",
              "          const dataTable =\n",
              "            await google.colab.kernel.invokeFunction('convertToInteractive',\n",
              "                                                     [key], {});\n",
              "          if (!dataTable) return;\n",
              "\n",
              "          const docLinkHtml = 'Like what you see? Visit the ' +\n",
              "            '<a target=\"_blank\" href=https://colab.research.google.com/notebooks/data_table.ipynb>data table notebook</a>'\n",
              "            + ' to learn more about interactive tables.';\n",
              "          element.innerHTML = '';\n",
              "          dataTable['output_type'] = 'display_data';\n",
              "          await google.colab.output.renderOutput(dataTable, element);\n",
              "          const docLink = document.createElement('div');\n",
              "          docLink.innerHTML = docLinkHtml;\n",
              "          element.appendChild(docLink);\n",
              "        }\n",
              "      </script>\n",
              "    </div>\n",
              "  </div>\n",
              "  "
            ],
            "text/plain": [
              "             author  ...    Idiom\n",
              "50  /10000-maniacs/  ...  ENGLISH\n",
              "51  /10000-maniacs/  ...  ENGLISH\n",
              "52  /10000-maniacs/  ...  ENGLISH\n",
              "53  /10000-maniacs/  ...  ENGLISH\n",
              "54  /10000-maniacs/  ...  ENGLISH\n",
              "55  /10000-maniacs/  ...  ENGLISH\n",
              "56  /10000-maniacs/  ...  ENGLISH\n",
              "57  /10000-maniacs/  ...  ENGLISH\n",
              "58  /10000-maniacs/  ...  ENGLISH\n",
              "59  /10000-maniacs/  ...  ENGLISH\n",
              "60  /10000-maniacs/  ...  ENGLISH\n",
              "61  /10000-maniacs/  ...  ENGLISH\n",
              "62  /10000-maniacs/  ...  ENGLISH\n",
              "63  /10000-maniacs/  ...  ENGLISH\n",
              "64  /10000-maniacs/  ...  ENGLISH\n",
              "65  /10000-maniacs/  ...  ENGLISH\n",
              "66  /10000-maniacs/  ...  ENGLISH\n",
              "67  /10000-maniacs/  ...  ENGLISH\n",
              "68  /10000-maniacs/  ...  ENGLISH\n",
              "69  /10000-maniacs/  ...  ENGLISH\n",
              "70  /10000-maniacs/  ...  ENGLISH\n",
              "71  /10000-maniacs/  ...  ENGLISH\n",
              "72  /10000-maniacs/  ...  ENGLISH\n",
              "73  /10000-maniacs/  ...  ENGLISH\n",
              "74  /10000-maniacs/  ...  ENGLISH\n",
              "\n",
              "[25 rows x 4 columns]"
            ]
          },
          "metadata": {},
          "execution_count": 132
        }
      ],
      "source": [
        "df[50:75]"
      ]
    },
    {
      "cell_type": "code",
      "execution_count": null,
      "metadata": {
        "id": "260TCclTAGE2"
      },
      "outputs": [],
      "source": [
        "df.drop(labels=['SLink'], axis=1, inplace=True)"
      ]
    },
    {
      "cell_type": "code",
      "execution_count": null,
      "metadata": {
        "id": "oDbu2-NiAGE1"
      },
      "outputs": [],
      "source": [
        "df.rename(columns={'ALink':'author', 'SName':'song_name', 'Lyric':'lyric'}, inplace=True)"
      ]
    },
    {
      "cell_type": "code",
      "execution_count": null,
      "metadata": {
        "colab": {
          "base_uri": "https://localhost:8080/",
          "height": 417
        },
        "id": "0-wOYXO4_4lf",
        "outputId": "ef3fa7c0-d339-4457-b00e-90739c1fe229"
      },
      "outputs": [
        {
          "output_type": "execute_result",
          "data": {
            "text/html": [
              "\n",
              "  <div id=\"df-1c817dcc-3616-48b0-b519-21e5f45839e8\">\n",
              "    <div class=\"colab-df-container\">\n",
              "      <div>\n",
              "<style scoped>\n",
              "    .dataframe tbody tr th:only-of-type {\n",
              "        vertical-align: middle;\n",
              "    }\n",
              "\n",
              "    .dataframe tbody tr th {\n",
              "        vertical-align: top;\n",
              "    }\n",
              "\n",
              "    .dataframe thead th {\n",
              "        text-align: right;\n",
              "    }\n",
              "</style>\n",
              "<table border=\"1\" class=\"dataframe\">\n",
              "  <thead>\n",
              "    <tr style=\"text-align: right;\">\n",
              "      <th></th>\n",
              "      <th>author</th>\n",
              "      <th>song_name</th>\n",
              "      <th>lyric</th>\n",
              "      <th>Idiom</th>\n",
              "    </tr>\n",
              "  </thead>\n",
              "  <tbody>\n",
              "    <tr>\n",
              "      <th>0</th>\n",
              "      <td>/10000-maniacs/</td>\n",
              "      <td>More Than This</td>\n",
              "      <td>I could feel at the time. There was no way of ...</td>\n",
              "      <td>ENGLISH</td>\n",
              "    </tr>\n",
              "    <tr>\n",
              "      <th>1</th>\n",
              "      <td>/10000-maniacs/</td>\n",
              "      <td>Because The Night</td>\n",
              "      <td>Take me now, baby, here as I am. Hold me close...</td>\n",
              "      <td>ENGLISH</td>\n",
              "    </tr>\n",
              "    <tr>\n",
              "      <th>2</th>\n",
              "      <td>/10000-maniacs/</td>\n",
              "      <td>These Are Days</td>\n",
              "      <td>These are. These are days you'll remember. Nev...</td>\n",
              "      <td>ENGLISH</td>\n",
              "    </tr>\n",
              "    <tr>\n",
              "      <th>3</th>\n",
              "      <td>/10000-maniacs/</td>\n",
              "      <td>A Campfire Song</td>\n",
              "      <td>A lie to say, \"O my mountain has coal veins an...</td>\n",
              "      <td>ENGLISH</td>\n",
              "    </tr>\n",
              "    <tr>\n",
              "      <th>4</th>\n",
              "      <td>/10000-maniacs/</td>\n",
              "      <td>Everyday Is Like Sunday</td>\n",
              "      <td>Trudging slowly over wet sand. Back to the ben...</td>\n",
              "      <td>ENGLISH</td>\n",
              "    </tr>\n",
              "    <tr>\n",
              "      <th>...</th>\n",
              "      <td>...</td>\n",
              "      <td>...</td>\n",
              "      <td>...</td>\n",
              "      <td>...</td>\n",
              "    </tr>\n",
              "    <tr>\n",
              "      <th>209517</th>\n",
              "      <td>/zeca-pagodinho/</td>\n",
              "      <td>Vou Botar Teu Nome Na Macumba</td>\n",
              "      <td>Eu vou botar teu nome na macumba. Vou procurar...</td>\n",
              "      <td>PORTUGUESE</td>\n",
              "    </tr>\n",
              "    <tr>\n",
              "      <th>209518</th>\n",
              "      <td>/zeca-pagodinho/</td>\n",
              "      <td>Vou Procurar Esquecer</td>\n",
              "      <td>Vou procurar um novo amor na minha vida. Porqu...</td>\n",
              "      <td>PORTUGUESE</td>\n",
              "    </tr>\n",
              "    <tr>\n",
              "      <th>209519</th>\n",
              "      <td>/zeca-pagodinho/</td>\n",
              "      <td>Vou Ver Juliana</td>\n",
              "      <td>Quando a mare vazá. Vou vê juliana. Vou vê jul...</td>\n",
              "      <td>PORTUGUESE</td>\n",
              "    </tr>\n",
              "    <tr>\n",
              "      <th>209520</th>\n",
              "      <td>/zeca-pagodinho/</td>\n",
              "      <td>Yaô Cadê A Samba / Outro Recado / Hino</td>\n",
              "      <td>Ô Yaô. Yaô, cadê a samba?. Está mangando na cu...</td>\n",
              "      <td>PORTUGUESE</td>\n",
              "    </tr>\n",
              "    <tr>\n",
              "      <th>209521</th>\n",
              "      <td>/zeca-pagodinho/</td>\n",
              "      <td>Zeca, Cadê Você?</td>\n",
              "      <td>Ô, Zeca, tu tá morando onde?. Ô, Zeca, tu tá m...</td>\n",
              "      <td>PORTUGUESE</td>\n",
              "    </tr>\n",
              "  </tbody>\n",
              "</table>\n",
              "<p>206375 rows × 4 columns</p>\n",
              "</div>\n",
              "      <button class=\"colab-df-convert\" onclick=\"convertToInteractive('df-1c817dcc-3616-48b0-b519-21e5f45839e8')\"\n",
              "              title=\"Convert this dataframe to an interactive table.\"\n",
              "              style=\"display:none;\">\n",
              "        \n",
              "  <svg xmlns=\"http://www.w3.org/2000/svg\" height=\"24px\"viewBox=\"0 0 24 24\"\n",
              "       width=\"24px\">\n",
              "    <path d=\"M0 0h24v24H0V0z\" fill=\"none\"/>\n",
              "    <path d=\"M18.56 5.44l.94 2.06.94-2.06 2.06-.94-2.06-.94-.94-2.06-.94 2.06-2.06.94zm-11 1L8.5 8.5l.94-2.06 2.06-.94-2.06-.94L8.5 2.5l-.94 2.06-2.06.94zm10 10l.94 2.06.94-2.06 2.06-.94-2.06-.94-.94-2.06-.94 2.06-2.06.94z\"/><path d=\"M17.41 7.96l-1.37-1.37c-.4-.4-.92-.59-1.43-.59-.52 0-1.04.2-1.43.59L10.3 9.45l-7.72 7.72c-.78.78-.78 2.05 0 2.83L4 21.41c.39.39.9.59 1.41.59.51 0 1.02-.2 1.41-.59l7.78-7.78 2.81-2.81c.8-.78.8-2.07 0-2.86zM5.41 20L4 18.59l7.72-7.72 1.47 1.35L5.41 20z\"/>\n",
              "  </svg>\n",
              "      </button>\n",
              "      \n",
              "  <style>\n",
              "    .colab-df-container {\n",
              "      display:flex;\n",
              "      flex-wrap:wrap;\n",
              "      gap: 12px;\n",
              "    }\n",
              "\n",
              "    .colab-df-convert {\n",
              "      background-color: #E8F0FE;\n",
              "      border: none;\n",
              "      border-radius: 50%;\n",
              "      cursor: pointer;\n",
              "      display: none;\n",
              "      fill: #1967D2;\n",
              "      height: 32px;\n",
              "      padding: 0 0 0 0;\n",
              "      width: 32px;\n",
              "    }\n",
              "\n",
              "    .colab-df-convert:hover {\n",
              "      background-color: #E2EBFA;\n",
              "      box-shadow: 0px 1px 2px rgba(60, 64, 67, 0.3), 0px 1px 3px 1px rgba(60, 64, 67, 0.15);\n",
              "      fill: #174EA6;\n",
              "    }\n",
              "\n",
              "    [theme=dark] .colab-df-convert {\n",
              "      background-color: #3B4455;\n",
              "      fill: #D2E3FC;\n",
              "    }\n",
              "\n",
              "    [theme=dark] .colab-df-convert:hover {\n",
              "      background-color: #434B5C;\n",
              "      box-shadow: 0px 1px 3px 1px rgba(0, 0, 0, 0.15);\n",
              "      filter: drop-shadow(0px 1px 2px rgba(0, 0, 0, 0.3));\n",
              "      fill: #FFFFFF;\n",
              "    }\n",
              "  </style>\n",
              "\n",
              "      <script>\n",
              "        const buttonEl =\n",
              "          document.querySelector('#df-1c817dcc-3616-48b0-b519-21e5f45839e8 button.colab-df-convert');\n",
              "        buttonEl.style.display =\n",
              "          google.colab.kernel.accessAllowed ? 'block' : 'none';\n",
              "\n",
              "        async function convertToInteractive(key) {\n",
              "          const element = document.querySelector('#df-1c817dcc-3616-48b0-b519-21e5f45839e8');\n",
              "          const dataTable =\n",
              "            await google.colab.kernel.invokeFunction('convertToInteractive',\n",
              "                                                     [key], {});\n",
              "          if (!dataTable) return;\n",
              "\n",
              "          const docLinkHtml = 'Like what you see? Visit the ' +\n",
              "            '<a target=\"_blank\" href=https://colab.research.google.com/notebooks/data_table.ipynb>data table notebook</a>'\n",
              "            + ' to learn more about interactive tables.';\n",
              "          element.innerHTML = '';\n",
              "          dataTable['output_type'] = 'display_data';\n",
              "          await google.colab.output.renderOutput(dataTable, element);\n",
              "          const docLink = document.createElement('div');\n",
              "          docLink.innerHTML = docLinkHtml;\n",
              "          element.appendChild(docLink);\n",
              "        }\n",
              "      </script>\n",
              "    </div>\n",
              "  </div>\n",
              "  "
            ],
            "text/plain": [
              "                  author  ...       Idiom\n",
              "0        /10000-maniacs/  ...     ENGLISH\n",
              "1        /10000-maniacs/  ...     ENGLISH\n",
              "2        /10000-maniacs/  ...     ENGLISH\n",
              "3        /10000-maniacs/  ...     ENGLISH\n",
              "4        /10000-maniacs/  ...     ENGLISH\n",
              "...                  ...  ...         ...\n",
              "209517  /zeca-pagodinho/  ...  PORTUGUESE\n",
              "209518  /zeca-pagodinho/  ...  PORTUGUESE\n",
              "209519  /zeca-pagodinho/  ...  PORTUGUESE\n",
              "209520  /zeca-pagodinho/  ...  PORTUGUESE\n",
              "209521  /zeca-pagodinho/  ...  PORTUGUESE\n",
              "\n",
              "[206375 rows x 4 columns]"
            ]
          },
          "metadata": {},
          "execution_count": 195
        }
      ],
      "source": [
        "df"
      ]
    },
    {
      "cell_type": "code",
      "execution_count": null,
      "metadata": {
        "id": "oEiMOVbEBEqR"
      },
      "outputs": [],
      "source": [
        "import re\n",
        "from nltk.stem.snowball import SnowballStemmer\n",
        "\n",
        "def cell_to_lower(cell):\n",
        "    return cell.lower()\n",
        "\n",
        "def prepare_author_cell(cell):\n",
        "    return str(cell).strip('/').replace('-', ' ').title()\n",
        "\n",
        "def prepare_text_cell(cell):\n",
        "    cell = re.sub(r'\\s+', ' ', str(cell))\n",
        "    cell = re.sub(r'[^\\w+\\s]', '', cell).lower()\n",
        "    return cell\n",
        "\n",
        "languages = (\n",
        "        # \"arabic\", cтеммер крашится на каком-то арабском слове\n",
        "        \"danish\",\n",
        "        \"dutch\",\n",
        "        \"english\",\n",
        "        \"finnish\",\n",
        "        \"french\",\n",
        "        \"german\",\n",
        "        \"hungarian\",\n",
        "        \"italian\",\n",
        "        \"norwegian\",\n",
        "        \"porter\",\n",
        "        \"portuguese\",\n",
        "        \"romanian\",\n",
        "        \"russian\",\n",
        "        \"spanish\",\n",
        "        \"swedish\",\n",
        "    ) # взял отсюда https://www.nltk.org/_modules/nltk/stem/snowball.html\n",
        "def stemming(language_and_cell):\n",
        "    language = language_and_cell[0] \n",
        "    cell = language_and_cell[1]\n",
        "    if language in languages:\n",
        "        stemmer = SnowballStemmer(language=language)\n",
        "        return ' '.join([stemmer.stem(word) for word in cell.split()])\n",
        "    return cell"
      ]
    },
    {
      "cell_type": "code",
      "source": [
        "stemming(('english', 'writed wrote written'))"
      ],
      "metadata": {
        "colab": {
          "base_uri": "https://localhost:8080/",
          "height": 35
        },
        "id": "efQvxJerdWIO",
        "outputId": "4288ce9e-ea9d-4620-97ee-9a603ea6e966"
      },
      "execution_count": null,
      "outputs": [
        {
          "output_type": "execute_result",
          "data": {
            "application/vnd.google.colaboratory.intrinsic+json": {
              "type": "string"
            },
            "text/plain": [
              "'write wrote written'"
            ]
          },
          "metadata": {},
          "execution_count": 181
        }
      ]
    },
    {
      "cell_type": "markdown",
      "source": [
        "Мне нужен список кортежей, чтобы пройтись стеммером по тексту песни, зная язык, для этого воспользуюсь zip"
      ],
      "metadata": {
        "id": "QYyFkM7NYsq-"
      }
    },
    {
      "cell_type": "code",
      "source": [
        "print(np.array(list(zip(np.array(df[df.columns[:2]])))).reshape(206375, 2))"
      ],
      "metadata": {
        "colab": {
          "base_uri": "https://localhost:8080/"
        },
        "id": "FFPEy88KXXN9",
        "outputId": "fc464010-7d5c-40a8-d6a9-6f63fc8d2702"
      },
      "execution_count": null,
      "outputs": [
        {
          "output_type": "stream",
          "name": "stdout",
          "text": [
            "[['/10000-maniacs/' 'More Than This']\n",
            " ['/10000-maniacs/' 'Because The Night']\n",
            " ['/10000-maniacs/' 'These Are Days']\n",
            " ...\n",
            " ['/zeca-pagodinho/' 'Vou Ver Juliana']\n",
            " ['/zeca-pagodinho/' 'Yaô Cadê A Samba / Outro Recado / Hino']\n",
            " ['/zeca-pagodinho/' 'Zeca, Cadê Você?']]\n"
          ]
        }
      ]
    },
    {
      "cell_type": "code",
      "source": [
        "df[df.columns[:2]]"
      ],
      "metadata": {
        "colab": {
          "base_uri": "https://localhost:8080/",
          "height": 417
        },
        "id": "JTvLTkZWYWcb",
        "outputId": "742db972-1a8c-4b70-f893-7194300a070f"
      },
      "execution_count": null,
      "outputs": [
        {
          "output_type": "execute_result",
          "data": {
            "text/html": [
              "\n",
              "  <div id=\"df-98272139-bc1a-4d6b-8dc7-52794a0ced12\">\n",
              "    <div class=\"colab-df-container\">\n",
              "      <div>\n",
              "<style scoped>\n",
              "    .dataframe tbody tr th:only-of-type {\n",
              "        vertical-align: middle;\n",
              "    }\n",
              "\n",
              "    .dataframe tbody tr th {\n",
              "        vertical-align: top;\n",
              "    }\n",
              "\n",
              "    .dataframe thead th {\n",
              "        text-align: right;\n",
              "    }\n",
              "</style>\n",
              "<table border=\"1\" class=\"dataframe\">\n",
              "  <thead>\n",
              "    <tr style=\"text-align: right;\">\n",
              "      <th></th>\n",
              "      <th>author</th>\n",
              "      <th>song_name</th>\n",
              "    </tr>\n",
              "  </thead>\n",
              "  <tbody>\n",
              "    <tr>\n",
              "      <th>0</th>\n",
              "      <td>/10000-maniacs/</td>\n",
              "      <td>More Than This</td>\n",
              "    </tr>\n",
              "    <tr>\n",
              "      <th>1</th>\n",
              "      <td>/10000-maniacs/</td>\n",
              "      <td>Because The Night</td>\n",
              "    </tr>\n",
              "    <tr>\n",
              "      <th>2</th>\n",
              "      <td>/10000-maniacs/</td>\n",
              "      <td>These Are Days</td>\n",
              "    </tr>\n",
              "    <tr>\n",
              "      <th>3</th>\n",
              "      <td>/10000-maniacs/</td>\n",
              "      <td>A Campfire Song</td>\n",
              "    </tr>\n",
              "    <tr>\n",
              "      <th>4</th>\n",
              "      <td>/10000-maniacs/</td>\n",
              "      <td>Everyday Is Like Sunday</td>\n",
              "    </tr>\n",
              "    <tr>\n",
              "      <th>...</th>\n",
              "      <td>...</td>\n",
              "      <td>...</td>\n",
              "    </tr>\n",
              "    <tr>\n",
              "      <th>209517</th>\n",
              "      <td>/zeca-pagodinho/</td>\n",
              "      <td>Vou Botar Teu Nome Na Macumba</td>\n",
              "    </tr>\n",
              "    <tr>\n",
              "      <th>209518</th>\n",
              "      <td>/zeca-pagodinho/</td>\n",
              "      <td>Vou Procurar Esquecer</td>\n",
              "    </tr>\n",
              "    <tr>\n",
              "      <th>209519</th>\n",
              "      <td>/zeca-pagodinho/</td>\n",
              "      <td>Vou Ver Juliana</td>\n",
              "    </tr>\n",
              "    <tr>\n",
              "      <th>209520</th>\n",
              "      <td>/zeca-pagodinho/</td>\n",
              "      <td>Yaô Cadê A Samba / Outro Recado / Hino</td>\n",
              "    </tr>\n",
              "    <tr>\n",
              "      <th>209521</th>\n",
              "      <td>/zeca-pagodinho/</td>\n",
              "      <td>Zeca, Cadê Você?</td>\n",
              "    </tr>\n",
              "  </tbody>\n",
              "</table>\n",
              "<p>206375 rows × 2 columns</p>\n",
              "</div>\n",
              "      <button class=\"colab-df-convert\" onclick=\"convertToInteractive('df-98272139-bc1a-4d6b-8dc7-52794a0ced12')\"\n",
              "              title=\"Convert this dataframe to an interactive table.\"\n",
              "              style=\"display:none;\">\n",
              "        \n",
              "  <svg xmlns=\"http://www.w3.org/2000/svg\" height=\"24px\"viewBox=\"0 0 24 24\"\n",
              "       width=\"24px\">\n",
              "    <path d=\"M0 0h24v24H0V0z\" fill=\"none\"/>\n",
              "    <path d=\"M18.56 5.44l.94 2.06.94-2.06 2.06-.94-2.06-.94-.94-2.06-.94 2.06-2.06.94zm-11 1L8.5 8.5l.94-2.06 2.06-.94-2.06-.94L8.5 2.5l-.94 2.06-2.06.94zm10 10l.94 2.06.94-2.06 2.06-.94-2.06-.94-.94-2.06-.94 2.06-2.06.94z\"/><path d=\"M17.41 7.96l-1.37-1.37c-.4-.4-.92-.59-1.43-.59-.52 0-1.04.2-1.43.59L10.3 9.45l-7.72 7.72c-.78.78-.78 2.05 0 2.83L4 21.41c.39.39.9.59 1.41.59.51 0 1.02-.2 1.41-.59l7.78-7.78 2.81-2.81c.8-.78.8-2.07 0-2.86zM5.41 20L4 18.59l7.72-7.72 1.47 1.35L5.41 20z\"/>\n",
              "  </svg>\n",
              "      </button>\n",
              "      \n",
              "  <style>\n",
              "    .colab-df-container {\n",
              "      display:flex;\n",
              "      flex-wrap:wrap;\n",
              "      gap: 12px;\n",
              "    }\n",
              "\n",
              "    .colab-df-convert {\n",
              "      background-color: #E8F0FE;\n",
              "      border: none;\n",
              "      border-radius: 50%;\n",
              "      cursor: pointer;\n",
              "      display: none;\n",
              "      fill: #1967D2;\n",
              "      height: 32px;\n",
              "      padding: 0 0 0 0;\n",
              "      width: 32px;\n",
              "    }\n",
              "\n",
              "    .colab-df-convert:hover {\n",
              "      background-color: #E2EBFA;\n",
              "      box-shadow: 0px 1px 2px rgba(60, 64, 67, 0.3), 0px 1px 3px 1px rgba(60, 64, 67, 0.15);\n",
              "      fill: #174EA6;\n",
              "    }\n",
              "\n",
              "    [theme=dark] .colab-df-convert {\n",
              "      background-color: #3B4455;\n",
              "      fill: #D2E3FC;\n",
              "    }\n",
              "\n",
              "    [theme=dark] .colab-df-convert:hover {\n",
              "      background-color: #434B5C;\n",
              "      box-shadow: 0px 1px 3px 1px rgba(0, 0, 0, 0.15);\n",
              "      filter: drop-shadow(0px 1px 2px rgba(0, 0, 0, 0.3));\n",
              "      fill: #FFFFFF;\n",
              "    }\n",
              "  </style>\n",
              "\n",
              "      <script>\n",
              "        const buttonEl =\n",
              "          document.querySelector('#df-98272139-bc1a-4d6b-8dc7-52794a0ced12 button.colab-df-convert');\n",
              "        buttonEl.style.display =\n",
              "          google.colab.kernel.accessAllowed ? 'block' : 'none';\n",
              "\n",
              "        async function convertToInteractive(key) {\n",
              "          const element = document.querySelector('#df-98272139-bc1a-4d6b-8dc7-52794a0ced12');\n",
              "          const dataTable =\n",
              "            await google.colab.kernel.invokeFunction('convertToInteractive',\n",
              "                                                     [key], {});\n",
              "          if (!dataTable) return;\n",
              "\n",
              "          const docLinkHtml = 'Like what you see? Visit the ' +\n",
              "            '<a target=\"_blank\" href=https://colab.research.google.com/notebooks/data_table.ipynb>data table notebook</a>'\n",
              "            + ' to learn more about interactive tables.';\n",
              "          element.innerHTML = '';\n",
              "          dataTable['output_type'] = 'display_data';\n",
              "          await google.colab.output.renderOutput(dataTable, element);\n",
              "          const docLink = document.createElement('div');\n",
              "          docLink.innerHTML = docLinkHtml;\n",
              "          element.appendChild(docLink);\n",
              "        }\n",
              "      </script>\n",
              "    </div>\n",
              "  </div>\n",
              "  "
            ],
            "text/plain": [
              "                  author                               song_name\n",
              "0        /10000-maniacs/                          More Than This\n",
              "1        /10000-maniacs/                       Because The Night\n",
              "2        /10000-maniacs/                          These Are Days\n",
              "3        /10000-maniacs/                         A Campfire Song\n",
              "4        /10000-maniacs/                 Everyday Is Like Sunday\n",
              "...                  ...                                     ...\n",
              "209517  /zeca-pagodinho/           Vou Botar Teu Nome Na Macumba\n",
              "209518  /zeca-pagodinho/                   Vou Procurar Esquecer\n",
              "209519  /zeca-pagodinho/                         Vou Ver Juliana\n",
              "209520  /zeca-pagodinho/  Yaô Cadê A Samba / Outro Recado / Hino\n",
              "209521  /zeca-pagodinho/                        Zeca, Cadê Você?\n",
              "\n",
              "[206375 rows x 2 columns]"
            ]
          },
          "metadata": {},
          "execution_count": 127
        }
      ]
    },
    {
      "cell_type": "code",
      "source": [
        ""
      ],
      "metadata": {
        "id": "vI7op1kxVSx_"
      },
      "execution_count": null,
      "outputs": []
    },
    {
      "cell_type": "code",
      "execution_count": null,
      "metadata": {
        "colab": {
          "base_uri": "https://localhost:8080/",
          "height": 86
        },
        "id": "bG_9qp1TCzf4",
        "outputId": "c3c5427c-f681-45cb-8781-bd5898d7ad88"
      },
      "outputs": [
        {
          "data": {
            "application/vnd.google.colaboratory.intrinsic+json": {
              "type": "string"
            },
            "text/plain": [
              "'Music by 10,000 Maniacs - Lyrics by Mary Ramsey & John Lombardo. I see the leaves of autumn. changing, falling , turning what was green. I see a door standing open,. open to curiosity. we could be together. tear it all apart. would you ever notice. what was hidden in my heart. heartstrong. do we ever listen. closely as willows start to weep. there as we stood upon the threshold. who said forever was for keeps?. would you ever notice what. was hidden in my heart,. my deep heart is reeling forward. and steady on to keep,. who made me miss the last ferry?. who made this river so deep?. .'"
            ]
          },
          "execution_count": 40,
          "metadata": {},
          "output_type": "execute_result"
        }
      ],
      "source": [
        "df.lyric[70]"
      ]
    },
    {
      "cell_type": "code",
      "execution_count": null,
      "metadata": {
        "colab": {
          "base_uri": "https://localhost:8080/",
          "height": 86
        },
        "id": "3Tj_kFhKCzf6",
        "outputId": "81df0df6-942a-4fa0-be8b-ea321027c796"
      },
      "outputs": [
        {
          "data": {
            "application/vnd.google.colaboratory.intrinsic+json": {
              "type": "string"
            },
            "text/plain": [
              "'music by 10000 maniacs  lyrics by mary ramsey  john lombardo i see the leaves of autumn changing falling  turning what was green i see a door standing open open to curiosity we could be together tear it all apart would you ever notice what was hidden in my heart heartstrong do we ever listen closely as willows start to weep there as we stood upon the threshold who said forever was for keeps would you ever notice what was hidden in my heart my deep heart is reeling forward and steady on to keep who made me miss the last ferry who made this river so deep '"
            ]
          },
          "execution_count": 41,
          "metadata": {},
          "output_type": "execute_result"
        }
      ],
      "source": [
        "prepare_text_cell(df.lyric[70])"
      ]
    },
    {
      "cell_type": "markdown",
      "metadata": {
        "id": "Ntp1qx-7C6Ql"
      },
      "source": [
        "Появились лишние пробелы, но это ок, с ними справится split() при токенизации"
      ]
    },
    {
      "cell_type": "code",
      "source": [
        "df"
      ],
      "metadata": {
        "colab": {
          "base_uri": "https://localhost:8080/",
          "height": 417
        },
        "id": "FxLN46lnb06S",
        "outputId": "64d69375-b466-4481-bff7-cd37d2d23bad"
      },
      "execution_count": null,
      "outputs": [
        {
          "output_type": "execute_result",
          "data": {
            "text/html": [
              "\n",
              "  <div id=\"df-184cb02e-8287-4700-9956-77f25b47f955\">\n",
              "    <div class=\"colab-df-container\">\n",
              "      <div>\n",
              "<style scoped>\n",
              "    .dataframe tbody tr th:only-of-type {\n",
              "        vertical-align: middle;\n",
              "    }\n",
              "\n",
              "    .dataframe tbody tr th {\n",
              "        vertical-align: top;\n",
              "    }\n",
              "\n",
              "    .dataframe thead th {\n",
              "        text-align: right;\n",
              "    }\n",
              "</style>\n",
              "<table border=\"1\" class=\"dataframe\">\n",
              "  <thead>\n",
              "    <tr style=\"text-align: right;\">\n",
              "      <th></th>\n",
              "      <th>author</th>\n",
              "      <th>song_name</th>\n",
              "      <th>lyric</th>\n",
              "      <th>Idiom</th>\n",
              "    </tr>\n",
              "  </thead>\n",
              "  <tbody>\n",
              "    <tr>\n",
              "      <th>0</th>\n",
              "      <td>/10000-maniacs/</td>\n",
              "      <td>More Than This</td>\n",
              "      <td>I could feel at the time. There was no way of ...</td>\n",
              "      <td>ENGLISH</td>\n",
              "    </tr>\n",
              "    <tr>\n",
              "      <th>1</th>\n",
              "      <td>/10000-maniacs/</td>\n",
              "      <td>Because The Night</td>\n",
              "      <td>Take me now, baby, here as I am. Hold me close...</td>\n",
              "      <td>ENGLISH</td>\n",
              "    </tr>\n",
              "    <tr>\n",
              "      <th>2</th>\n",
              "      <td>/10000-maniacs/</td>\n",
              "      <td>These Are Days</td>\n",
              "      <td>These are. These are days you'll remember. Nev...</td>\n",
              "      <td>ENGLISH</td>\n",
              "    </tr>\n",
              "    <tr>\n",
              "      <th>3</th>\n",
              "      <td>/10000-maniacs/</td>\n",
              "      <td>A Campfire Song</td>\n",
              "      <td>A lie to say, \"O my mountain has coal veins an...</td>\n",
              "      <td>ENGLISH</td>\n",
              "    </tr>\n",
              "    <tr>\n",
              "      <th>4</th>\n",
              "      <td>/10000-maniacs/</td>\n",
              "      <td>Everyday Is Like Sunday</td>\n",
              "      <td>Trudging slowly over wet sand. Back to the ben...</td>\n",
              "      <td>ENGLISH</td>\n",
              "    </tr>\n",
              "    <tr>\n",
              "      <th>...</th>\n",
              "      <td>...</td>\n",
              "      <td>...</td>\n",
              "      <td>...</td>\n",
              "      <td>...</td>\n",
              "    </tr>\n",
              "    <tr>\n",
              "      <th>209517</th>\n",
              "      <td>/zeca-pagodinho/</td>\n",
              "      <td>Vou Botar Teu Nome Na Macumba</td>\n",
              "      <td>Eu vou botar teu nome na macumba. Vou procurar...</td>\n",
              "      <td>PORTUGUESE</td>\n",
              "    </tr>\n",
              "    <tr>\n",
              "      <th>209518</th>\n",
              "      <td>/zeca-pagodinho/</td>\n",
              "      <td>Vou Procurar Esquecer</td>\n",
              "      <td>Vou procurar um novo amor na minha vida. Porqu...</td>\n",
              "      <td>PORTUGUESE</td>\n",
              "    </tr>\n",
              "    <tr>\n",
              "      <th>209519</th>\n",
              "      <td>/zeca-pagodinho/</td>\n",
              "      <td>Vou Ver Juliana</td>\n",
              "      <td>Quando a mare vazá. Vou vê juliana. Vou vê jul...</td>\n",
              "      <td>PORTUGUESE</td>\n",
              "    </tr>\n",
              "    <tr>\n",
              "      <th>209520</th>\n",
              "      <td>/zeca-pagodinho/</td>\n",
              "      <td>Yaô Cadê A Samba / Outro Recado / Hino</td>\n",
              "      <td>Ô Yaô. Yaô, cadê a samba?. Está mangando na cu...</td>\n",
              "      <td>PORTUGUESE</td>\n",
              "    </tr>\n",
              "    <tr>\n",
              "      <th>209521</th>\n",
              "      <td>/zeca-pagodinho/</td>\n",
              "      <td>Zeca, Cadê Você?</td>\n",
              "      <td>Ô, Zeca, tu tá morando onde?. Ô, Zeca, tu tá m...</td>\n",
              "      <td>PORTUGUESE</td>\n",
              "    </tr>\n",
              "  </tbody>\n",
              "</table>\n",
              "<p>206375 rows × 4 columns</p>\n",
              "</div>\n",
              "      <button class=\"colab-df-convert\" onclick=\"convertToInteractive('df-184cb02e-8287-4700-9956-77f25b47f955')\"\n",
              "              title=\"Convert this dataframe to an interactive table.\"\n",
              "              style=\"display:none;\">\n",
              "        \n",
              "  <svg xmlns=\"http://www.w3.org/2000/svg\" height=\"24px\"viewBox=\"0 0 24 24\"\n",
              "       width=\"24px\">\n",
              "    <path d=\"M0 0h24v24H0V0z\" fill=\"none\"/>\n",
              "    <path d=\"M18.56 5.44l.94 2.06.94-2.06 2.06-.94-2.06-.94-.94-2.06-.94 2.06-2.06.94zm-11 1L8.5 8.5l.94-2.06 2.06-.94-2.06-.94L8.5 2.5l-.94 2.06-2.06.94zm10 10l.94 2.06.94-2.06 2.06-.94-2.06-.94-.94-2.06-.94 2.06-2.06.94z\"/><path d=\"M17.41 7.96l-1.37-1.37c-.4-.4-.92-.59-1.43-.59-.52 0-1.04.2-1.43.59L10.3 9.45l-7.72 7.72c-.78.78-.78 2.05 0 2.83L4 21.41c.39.39.9.59 1.41.59.51 0 1.02-.2 1.41-.59l7.78-7.78 2.81-2.81c.8-.78.8-2.07 0-2.86zM5.41 20L4 18.59l7.72-7.72 1.47 1.35L5.41 20z\"/>\n",
              "  </svg>\n",
              "      </button>\n",
              "      \n",
              "  <style>\n",
              "    .colab-df-container {\n",
              "      display:flex;\n",
              "      flex-wrap:wrap;\n",
              "      gap: 12px;\n",
              "    }\n",
              "\n",
              "    .colab-df-convert {\n",
              "      background-color: #E8F0FE;\n",
              "      border: none;\n",
              "      border-radius: 50%;\n",
              "      cursor: pointer;\n",
              "      display: none;\n",
              "      fill: #1967D2;\n",
              "      height: 32px;\n",
              "      padding: 0 0 0 0;\n",
              "      width: 32px;\n",
              "    }\n",
              "\n",
              "    .colab-df-convert:hover {\n",
              "      background-color: #E2EBFA;\n",
              "      box-shadow: 0px 1px 2px rgba(60, 64, 67, 0.3), 0px 1px 3px 1px rgba(60, 64, 67, 0.15);\n",
              "      fill: #174EA6;\n",
              "    }\n",
              "\n",
              "    [theme=dark] .colab-df-convert {\n",
              "      background-color: #3B4455;\n",
              "      fill: #D2E3FC;\n",
              "    }\n",
              "\n",
              "    [theme=dark] .colab-df-convert:hover {\n",
              "      background-color: #434B5C;\n",
              "      box-shadow: 0px 1px 3px 1px rgba(0, 0, 0, 0.15);\n",
              "      filter: drop-shadow(0px 1px 2px rgba(0, 0, 0, 0.3));\n",
              "      fill: #FFFFFF;\n",
              "    }\n",
              "  </style>\n",
              "\n",
              "      <script>\n",
              "        const buttonEl =\n",
              "          document.querySelector('#df-184cb02e-8287-4700-9956-77f25b47f955 button.colab-df-convert');\n",
              "        buttonEl.style.display =\n",
              "          google.colab.kernel.accessAllowed ? 'block' : 'none';\n",
              "\n",
              "        async function convertToInteractive(key) {\n",
              "          const element = document.querySelector('#df-184cb02e-8287-4700-9956-77f25b47f955');\n",
              "          const dataTable =\n",
              "            await google.colab.kernel.invokeFunction('convertToInteractive',\n",
              "                                                     [key], {});\n",
              "          if (!dataTable) return;\n",
              "\n",
              "          const docLinkHtml = 'Like what you see? Visit the ' +\n",
              "            '<a target=\"_blank\" href=https://colab.research.google.com/notebooks/data_table.ipynb>data table notebook</a>'\n",
              "            + ' to learn more about interactive tables.';\n",
              "          element.innerHTML = '';\n",
              "          dataTable['output_type'] = 'display_data';\n",
              "          await google.colab.output.renderOutput(dataTable, element);\n",
              "          const docLink = document.createElement('div');\n",
              "          docLink.innerHTML = docLinkHtml;\n",
              "          element.appendChild(docLink);\n",
              "        }\n",
              "      </script>\n",
              "    </div>\n",
              "  </div>\n",
              "  "
            ],
            "text/plain": [
              "                  author  ...       Idiom\n",
              "0        /10000-maniacs/  ...     ENGLISH\n",
              "1        /10000-maniacs/  ...     ENGLISH\n",
              "2        /10000-maniacs/  ...     ENGLISH\n",
              "3        /10000-maniacs/  ...     ENGLISH\n",
              "4        /10000-maniacs/  ...     ENGLISH\n",
              "...                  ...  ...         ...\n",
              "209517  /zeca-pagodinho/  ...  PORTUGUESE\n",
              "209518  /zeca-pagodinho/  ...  PORTUGUESE\n",
              "209519  /zeca-pagodinho/  ...  PORTUGUESE\n",
              "209520  /zeca-pagodinho/  ...  PORTUGUESE\n",
              "209521  /zeca-pagodinho/  ...  PORTUGUESE\n",
              "\n",
              "[206375 rows x 4 columns]"
            ]
          },
          "metadata": {},
          "execution_count": 196
        }
      ]
    },
    {
      "cell_type": "code",
      "execution_count": null,
      "metadata": {
        "id": "_c99N7xmEpOK"
      },
      "outputs": [],
      "source": [
        "def prepare_columns(df):\n",
        "    with mp.Pool(8) as pool:\n",
        "        df['author'] = pool.map(prepare_author_cell, df.author)\n",
        "        for column in ['song_name', 'lyric']:\n",
        "            df['hidden_'+column] = pool.map(prepare_text_cell, df[column])\n",
        "        df['displayed_title'] = df.author + ' — ' + df.song_name\n",
        "        df['hidden_title'] = pool.map(cell_to_lower, df.author)\n",
        "        df['hidden_title'] += ' ' + df.hidden_song_name\n",
        "        df.drop(labels=['author', 'song_name', 'hidden_song_name'], axis=1, inplace=True)\n",
        "        df.rename(columns={'lyric':'display_lyric'}, inplace=True)\n",
        "        df.Idiom = pool.map(cell_to_lower, df.Idiom)\n",
        "        df.hidden_lyric = pool.map(stemming, np.array(list(zip(np.array(df[['Idiom', 'hidden_lyric']])))).reshape(206375, 2))"
      ]
    },
    {
      "cell_type": "code",
      "execution_count": null,
      "metadata": {
        "colab": {
          "base_uri": "https://localhost:8080/"
        },
        "id": "3ZwMM3FZFrhw",
        "outputId": "b407e90b-5469-4191-ae4e-6bd6b68bc662"
      },
      "outputs": [
        {
          "output_type": "stream",
          "name": "stdout",
          "text": [
            "1 loop, best of 1: 15min 6s per loop\n"
          ]
        }
      ],
      "source": [
        "%%timeit -n 1 -r 1\n",
        "prepare_columns(df)"
      ]
    },
    {
      "cell_type": "code",
      "source": [
        "df.to_csv('/content/drive/MyDrive/search/df.csv', index=False)"
      ],
      "metadata": {
        "id": "uvpE3jWFpFCT"
      },
      "execution_count": null,
      "outputs": []
    },
    {
      "cell_type": "code",
      "source": [
        "df = pd.read_csv('/content/drive/MyDrive/search/df.csv')"
      ],
      "metadata": {
        "id": "Vgn-HT13pb6x"
      },
      "execution_count": null,
      "outputs": []
    },
    {
      "cell_type": "code",
      "source": [
        "df.Idiom.value_counts()"
      ],
      "metadata": {
        "colab": {
          "base_uri": "https://localhost:8080/"
        },
        "id": "wXXMqKM5pqJA",
        "outputId": "cb57c97a-65da-4445-f3ea-6967c68a82f2"
      },
      "execution_count": null,
      "outputs": [
        {
          "output_type": "execute_result",
          "data": {
            "text/plain": [
              "english           114723\n",
              "portuguese         85085\n",
              "spanish             4812\n",
              "italian              626\n",
              "french               471\n",
              "german               314\n",
              "kinyarwanda           88\n",
              "icelandic             47\n",
              "swedish               27\n",
              "finnish               24\n",
              "indonesian            17\n",
              "estonian              12\n",
              "galician              12\n",
              "irish                  9\n",
              "haitian_creole         9\n",
              "danish                 9\n",
              "basque                 8\n",
              "norwegian              7\n",
              "tagalog                7\n",
              "croatian               7\n",
              "catalan                6\n",
              "sundanese              6\n",
              "swahili                5\n",
              "dutch                  5\n",
              "malay                  4\n",
              "russian                4\n",
              "serbian                3\n",
              "cebuano                2\n",
              "kurdish                2\n",
              "japanese               2\n",
              "nyanja                 2\n",
              "arabic                 2\n",
              "turkish                2\n",
              "sesotho                2\n",
              "malagasy               2\n",
              "korean                 1\n",
              "welsh                  1\n",
              "afrikaans              1\n",
              "hungarian              1\n",
              "slovak                 1\n",
              "romanian               1\n",
              "hmong                  1\n",
              "slovenian              1\n",
              "czech                  1\n",
              "bosnian                1\n",
              "polish                 1\n",
              "ganda                  1\n",
              "Name: Idiom, dtype: int64"
            ]
          },
          "metadata": {},
          "execution_count": 203
        }
      ]
    },
    {
      "cell_type": "markdown",
      "source": [
        "Просто воспользоваться w2vecом не получится, потому что половина песен не на английском языке "
      ],
      "metadata": {
        "id": "-9VCdreuvtGF"
      }
    },
    {
      "cell_type": "code",
      "execution_count": null,
      "metadata": {
        "id": "0afMQ9gRA4kr",
        "colab": {
          "base_uri": "https://localhost:8080/",
          "height": 612
        },
        "outputId": "1de67471-774f-4473-c136-233cdb38ffdc"
      },
      "outputs": [
        {
          "output_type": "execute_result",
          "data": {
            "text/html": [
              "\n",
              "  <div id=\"df-eaca26f7-a259-4cff-87fc-55ae554124f5\">\n",
              "    <div class=\"colab-df-container\">\n",
              "      <div>\n",
              "<style scoped>\n",
              "    .dataframe tbody tr th:only-of-type {\n",
              "        vertical-align: middle;\n",
              "    }\n",
              "\n",
              "    .dataframe tbody tr th {\n",
              "        vertical-align: top;\n",
              "    }\n",
              "\n",
              "    .dataframe thead th {\n",
              "        text-align: right;\n",
              "    }\n",
              "</style>\n",
              "<table border=\"1\" class=\"dataframe\">\n",
              "  <thead>\n",
              "    <tr style=\"text-align: right;\">\n",
              "      <th></th>\n",
              "      <th>display_lyric</th>\n",
              "      <th>Idiom</th>\n",
              "      <th>hidden_lyric</th>\n",
              "      <th>displayed_title</th>\n",
              "      <th>hidden_title</th>\n",
              "    </tr>\n",
              "  </thead>\n",
              "  <tbody>\n",
              "    <tr>\n",
              "      <th>0</th>\n",
              "      <td>I could feel at the time. There was no way of ...</td>\n",
              "      <td>english</td>\n",
              "      <td>i could feel at the time there was no way of k...</td>\n",
              "      <td>10000 Maniacs — More Than This</td>\n",
              "      <td>10000 maniacs more than this</td>\n",
              "    </tr>\n",
              "    <tr>\n",
              "      <th>1</th>\n",
              "      <td>Take me now, baby, here as I am. Hold me close...</td>\n",
              "      <td>english</td>\n",
              "      <td>take me now babi here as i am hold me close an...</td>\n",
              "      <td>10000 Maniacs — Because The Night</td>\n",
              "      <td>10000 maniacs because the night</td>\n",
              "    </tr>\n",
              "    <tr>\n",
              "      <th>2</th>\n",
              "      <td>These are. These are days you'll remember. Nev...</td>\n",
              "      <td>english</td>\n",
              "      <td>these are these are day youll rememb never bef...</td>\n",
              "      <td>10000 Maniacs — These Are Days</td>\n",
              "      <td>10000 maniacs these are days</td>\n",
              "    </tr>\n",
              "    <tr>\n",
              "      <th>3</th>\n",
              "      <td>A lie to say, \"O my mountain has coal veins an...</td>\n",
              "      <td>english</td>\n",
              "      <td>a lie to say o my mountain has coal vein and b...</td>\n",
              "      <td>10000 Maniacs — A Campfire Song</td>\n",
              "      <td>10000 maniacs a campfire song</td>\n",
              "    </tr>\n",
              "    <tr>\n",
              "      <th>4</th>\n",
              "      <td>Trudging slowly over wet sand. Back to the ben...</td>\n",
              "      <td>english</td>\n",
              "      <td>trudg slowli over wet sand back to the bench w...</td>\n",
              "      <td>10000 Maniacs — Everyday Is Like Sunday</td>\n",
              "      <td>10000 maniacs everyday is like sunday</td>\n",
              "    </tr>\n",
              "    <tr>\n",
              "      <th>...</th>\n",
              "      <td>...</td>\n",
              "      <td>...</td>\n",
              "      <td>...</td>\n",
              "      <td>...</td>\n",
              "      <td>...</td>\n",
              "    </tr>\n",
              "    <tr>\n",
              "      <th>206370</th>\n",
              "      <td>Eu vou botar teu nome na macumba. Vou procurar...</td>\n",
              "      <td>portuguese</td>\n",
              "      <td>eu vou bot teu nom na macumb vou procur uma fe...</td>\n",
              "      <td>Zeca Pagodinho — Vou Botar Teu Nome Na Macumba</td>\n",
              "      <td>zeca pagodinho vou botar teu nome na macumba</td>\n",
              "    </tr>\n",
              "    <tr>\n",
              "      <th>206371</th>\n",
              "      <td>Vou procurar um novo amor na minha vida. Porqu...</td>\n",
              "      <td>portuguese</td>\n",
              "      <td>vou procur um nov amor na minh vid porqu nã po...</td>\n",
              "      <td>Zeca Pagodinho — Vou Procurar Esquecer</td>\n",
              "      <td>zeca pagodinho vou procurar esquecer</td>\n",
              "    </tr>\n",
              "    <tr>\n",
              "      <th>206372</th>\n",
              "      <td>Quando a mare vazá. Vou vê juliana. Vou vê jul...</td>\n",
              "      <td>portuguese</td>\n",
              "      <td>quand a mar vaz vou vê julian vou vê julian ê ...</td>\n",
              "      <td>Zeca Pagodinho — Vou Ver Juliana</td>\n",
              "      <td>zeca pagodinho vou ver juliana</td>\n",
              "    </tr>\n",
              "    <tr>\n",
              "      <th>206373</th>\n",
              "      <td>Ô Yaô. Yaô, cadê a samba?. Está mangando na cu...</td>\n",
              "      <td>portuguese</td>\n",
              "      <td>ô yaô yaô cad a samb está mang na curimb está ...</td>\n",
              "      <td>Zeca Pagodinho — Yaô Cadê A Samba / Outro Reca...</td>\n",
              "      <td>zeca pagodinho yaô cadê a samba  outro recado ...</td>\n",
              "    </tr>\n",
              "    <tr>\n",
              "      <th>206374</th>\n",
              "      <td>Ô, Zeca, tu tá morando onde?. Ô, Zeca, tu tá m...</td>\n",
              "      <td>portuguese</td>\n",
              "      <td>ô zec tu tá mor onde ô zec tu tá mor onde ande...</td>\n",
              "      <td>Zeca Pagodinho — Zeca, Cadê Você?</td>\n",
              "      <td>zeca pagodinho zeca cadê você</td>\n",
              "    </tr>\n",
              "  </tbody>\n",
              "</table>\n",
              "<p>206375 rows × 5 columns</p>\n",
              "</div>\n",
              "      <button class=\"colab-df-convert\" onclick=\"convertToInteractive('df-eaca26f7-a259-4cff-87fc-55ae554124f5')\"\n",
              "              title=\"Convert this dataframe to an interactive table.\"\n",
              "              style=\"display:none;\">\n",
              "        \n",
              "  <svg xmlns=\"http://www.w3.org/2000/svg\" height=\"24px\"viewBox=\"0 0 24 24\"\n",
              "       width=\"24px\">\n",
              "    <path d=\"M0 0h24v24H0V0z\" fill=\"none\"/>\n",
              "    <path d=\"M18.56 5.44l.94 2.06.94-2.06 2.06-.94-2.06-.94-.94-2.06-.94 2.06-2.06.94zm-11 1L8.5 8.5l.94-2.06 2.06-.94-2.06-.94L8.5 2.5l-.94 2.06-2.06.94zm10 10l.94 2.06.94-2.06 2.06-.94-2.06-.94-.94-2.06-.94 2.06-2.06.94z\"/><path d=\"M17.41 7.96l-1.37-1.37c-.4-.4-.92-.59-1.43-.59-.52 0-1.04.2-1.43.59L10.3 9.45l-7.72 7.72c-.78.78-.78 2.05 0 2.83L4 21.41c.39.39.9.59 1.41.59.51 0 1.02-.2 1.41-.59l7.78-7.78 2.81-2.81c.8-.78.8-2.07 0-2.86zM5.41 20L4 18.59l7.72-7.72 1.47 1.35L5.41 20z\"/>\n",
              "  </svg>\n",
              "      </button>\n",
              "      \n",
              "  <style>\n",
              "    .colab-df-container {\n",
              "      display:flex;\n",
              "      flex-wrap:wrap;\n",
              "      gap: 12px;\n",
              "    }\n",
              "\n",
              "    .colab-df-convert {\n",
              "      background-color: #E8F0FE;\n",
              "      border: none;\n",
              "      border-radius: 50%;\n",
              "      cursor: pointer;\n",
              "      display: none;\n",
              "      fill: #1967D2;\n",
              "      height: 32px;\n",
              "      padding: 0 0 0 0;\n",
              "      width: 32px;\n",
              "    }\n",
              "\n",
              "    .colab-df-convert:hover {\n",
              "      background-color: #E2EBFA;\n",
              "      box-shadow: 0px 1px 2px rgba(60, 64, 67, 0.3), 0px 1px 3px 1px rgba(60, 64, 67, 0.15);\n",
              "      fill: #174EA6;\n",
              "    }\n",
              "\n",
              "    [theme=dark] .colab-df-convert {\n",
              "      background-color: #3B4455;\n",
              "      fill: #D2E3FC;\n",
              "    }\n",
              "\n",
              "    [theme=dark] .colab-df-convert:hover {\n",
              "      background-color: #434B5C;\n",
              "      box-shadow: 0px 1px 3px 1px rgba(0, 0, 0, 0.15);\n",
              "      filter: drop-shadow(0px 1px 2px rgba(0, 0, 0, 0.3));\n",
              "      fill: #FFFFFF;\n",
              "    }\n",
              "  </style>\n",
              "\n",
              "      <script>\n",
              "        const buttonEl =\n",
              "          document.querySelector('#df-eaca26f7-a259-4cff-87fc-55ae554124f5 button.colab-df-convert');\n",
              "        buttonEl.style.display =\n",
              "          google.colab.kernel.accessAllowed ? 'block' : 'none';\n",
              "\n",
              "        async function convertToInteractive(key) {\n",
              "          const element = document.querySelector('#df-eaca26f7-a259-4cff-87fc-55ae554124f5');\n",
              "          const dataTable =\n",
              "            await google.colab.kernel.invokeFunction('convertToInteractive',\n",
              "                                                     [key], {});\n",
              "          if (!dataTable) return;\n",
              "\n",
              "          const docLinkHtml = 'Like what you see? Visit the ' +\n",
              "            '<a target=\"_blank\" href=https://colab.research.google.com/notebooks/data_table.ipynb>data table notebook</a>'\n",
              "            + ' to learn more about interactive tables.';\n",
              "          element.innerHTML = '';\n",
              "          dataTable['output_type'] = 'display_data';\n",
              "          await google.colab.output.renderOutput(dataTable, element);\n",
              "          const docLink = document.createElement('div');\n",
              "          docLink.innerHTML = docLinkHtml;\n",
              "          element.appendChild(docLink);\n",
              "        }\n",
              "      </script>\n",
              "    </div>\n",
              "  </div>\n",
              "  "
            ],
            "text/plain": [
              "                                            display_lyric  ...                                       hidden_title\n",
              "0       I could feel at the time. There was no way of ...  ...                       10000 maniacs more than this\n",
              "1       Take me now, baby, here as I am. Hold me close...  ...                    10000 maniacs because the night\n",
              "2       These are. These are days you'll remember. Nev...  ...                       10000 maniacs these are days\n",
              "3       A lie to say, \"O my mountain has coal veins an...  ...                      10000 maniacs a campfire song\n",
              "4       Trudging slowly over wet sand. Back to the ben...  ...              10000 maniacs everyday is like sunday\n",
              "...                                                   ...  ...                                                ...\n",
              "206370  Eu vou botar teu nome na macumba. Vou procurar...  ...       zeca pagodinho vou botar teu nome na macumba\n",
              "206371  Vou procurar um novo amor na minha vida. Porqu...  ...               zeca pagodinho vou procurar esquecer\n",
              "206372  Quando a mare vazá. Vou vê juliana. Vou vê jul...  ...                     zeca pagodinho vou ver juliana\n",
              "206373  Ô Yaô. Yaô, cadê a samba?. Está mangando na cu...  ...  zeca pagodinho yaô cadê a samba  outro recado ...\n",
              "206374  Ô, Zeca, tu tá morando onde?. Ô, Zeca, tu tá m...  ...                      zeca pagodinho zeca cadê você\n",
              "\n",
              "[206375 rows x 5 columns]"
            ]
          },
          "metadata": {},
          "execution_count": 7
        }
      ],
      "source": [
        "df"
      ]
    },
    {
      "cell_type": "markdown",
      "source": [
        "display lyric - будет выдаваться пользователю\n",
        "\n",
        "display title - будет выдаваться пользователю\n",
        "\n",
        "hidden lyric - текст песен как мешок слов, к которому применили стемминг\n",
        "\n",
        "hidden title - заголовок как мешок слов"
      ],
      "metadata": {
        "id": "-FYgRwqPbuAv"
      }
    },
    {
      "cell_type": "code",
      "source": [
        "df.drop('Idiom', axis=1, inplace=True)"
      ],
      "metadata": {
        "id": "f5t9wKWNB5bK"
      },
      "execution_count": null,
      "outputs": []
    },
    {
      "cell_type": "markdown",
      "source": [
        "случайно удалил колонку, сейчас верну"
      ],
      "metadata": {
        "id": "whiqZriQCwYS"
      }
    },
    {
      "cell_type": "code",
      "source": [
        "df = pd.read_csv('/content/drive/MyDrive/search/df.csv')"
      ],
      "metadata": {
        "id": "cjv_lBF3BQcx"
      },
      "execution_count": null,
      "outputs": []
    },
    {
      "cell_type": "code",
      "source": [
        "df"
      ],
      "metadata": {
        "colab": {
          "base_uri": "https://localhost:8080/",
          "height": 612
        },
        "id": "r50HJJS8BX9E",
        "outputId": "063a5bdf-39b5-4fe3-9522-b88ff07381c9"
      },
      "execution_count": null,
      "outputs": [
        {
          "output_type": "execute_result",
          "data": {
            "text/html": [
              "\n",
              "  <div id=\"df-55484362-4f49-4016-a35a-79a26ede5768\">\n",
              "    <div class=\"colab-df-container\">\n",
              "      <div>\n",
              "<style scoped>\n",
              "    .dataframe tbody tr th:only-of-type {\n",
              "        vertical-align: middle;\n",
              "    }\n",
              "\n",
              "    .dataframe tbody tr th {\n",
              "        vertical-align: top;\n",
              "    }\n",
              "\n",
              "    .dataframe thead th {\n",
              "        text-align: right;\n",
              "    }\n",
              "</style>\n",
              "<table border=\"1\" class=\"dataframe\">\n",
              "  <thead>\n",
              "    <tr style=\"text-align: right;\">\n",
              "      <th></th>\n",
              "      <th>display_lyric</th>\n",
              "      <th>Idiom</th>\n",
              "      <th>hidden_lyric</th>\n",
              "      <th>displayed_title</th>\n",
              "      <th>hidden_title</th>\n",
              "    </tr>\n",
              "  </thead>\n",
              "  <tbody>\n",
              "    <tr>\n",
              "      <th>0</th>\n",
              "      <td>I could feel at the time. There was no way of ...</td>\n",
              "      <td>english</td>\n",
              "      <td>i could feel at the time there was no way of k...</td>\n",
              "      <td>10000 Maniacs — More Than This</td>\n",
              "      <td>10000 maniacs more than this</td>\n",
              "    </tr>\n",
              "    <tr>\n",
              "      <th>1</th>\n",
              "      <td>Take me now, baby, here as I am. Hold me close...</td>\n",
              "      <td>english</td>\n",
              "      <td>take me now babi here as i am hold me close an...</td>\n",
              "      <td>10000 Maniacs — Because The Night</td>\n",
              "      <td>10000 maniacs because the night</td>\n",
              "    </tr>\n",
              "    <tr>\n",
              "      <th>2</th>\n",
              "      <td>These are. These are days you'll remember. Nev...</td>\n",
              "      <td>english</td>\n",
              "      <td>these are these are day youll rememb never bef...</td>\n",
              "      <td>10000 Maniacs — These Are Days</td>\n",
              "      <td>10000 maniacs these are days</td>\n",
              "    </tr>\n",
              "    <tr>\n",
              "      <th>3</th>\n",
              "      <td>A lie to say, \"O my mountain has coal veins an...</td>\n",
              "      <td>english</td>\n",
              "      <td>a lie to say o my mountain has coal vein and b...</td>\n",
              "      <td>10000 Maniacs — A Campfire Song</td>\n",
              "      <td>10000 maniacs a campfire song</td>\n",
              "    </tr>\n",
              "    <tr>\n",
              "      <th>4</th>\n",
              "      <td>Trudging slowly over wet sand. Back to the ben...</td>\n",
              "      <td>english</td>\n",
              "      <td>trudg slowli over wet sand back to the bench w...</td>\n",
              "      <td>10000 Maniacs — Everyday Is Like Sunday</td>\n",
              "      <td>10000 maniacs everyday is like sunday</td>\n",
              "    </tr>\n",
              "    <tr>\n",
              "      <th>...</th>\n",
              "      <td>...</td>\n",
              "      <td>...</td>\n",
              "      <td>...</td>\n",
              "      <td>...</td>\n",
              "      <td>...</td>\n",
              "    </tr>\n",
              "    <tr>\n",
              "      <th>206370</th>\n",
              "      <td>Eu vou botar teu nome na macumba. Vou procurar...</td>\n",
              "      <td>portuguese</td>\n",
              "      <td>eu vou bot teu nom na macumb vou procur uma fe...</td>\n",
              "      <td>Zeca Pagodinho — Vou Botar Teu Nome Na Macumba</td>\n",
              "      <td>zeca pagodinho vou botar teu nome na macumba</td>\n",
              "    </tr>\n",
              "    <tr>\n",
              "      <th>206371</th>\n",
              "      <td>Vou procurar um novo amor na minha vida. Porqu...</td>\n",
              "      <td>portuguese</td>\n",
              "      <td>vou procur um nov amor na minh vid porqu nã po...</td>\n",
              "      <td>Zeca Pagodinho — Vou Procurar Esquecer</td>\n",
              "      <td>zeca pagodinho vou procurar esquecer</td>\n",
              "    </tr>\n",
              "    <tr>\n",
              "      <th>206372</th>\n",
              "      <td>Quando a mare vazá. Vou vê juliana. Vou vê jul...</td>\n",
              "      <td>portuguese</td>\n",
              "      <td>quand a mar vaz vou vê julian vou vê julian ê ...</td>\n",
              "      <td>Zeca Pagodinho — Vou Ver Juliana</td>\n",
              "      <td>zeca pagodinho vou ver juliana</td>\n",
              "    </tr>\n",
              "    <tr>\n",
              "      <th>206373</th>\n",
              "      <td>Ô Yaô. Yaô, cadê a samba?. Está mangando na cu...</td>\n",
              "      <td>portuguese</td>\n",
              "      <td>ô yaô yaô cad a samb está mang na curimb está ...</td>\n",
              "      <td>Zeca Pagodinho — Yaô Cadê A Samba / Outro Reca...</td>\n",
              "      <td>zeca pagodinho yaô cadê a samba  outro recado ...</td>\n",
              "    </tr>\n",
              "    <tr>\n",
              "      <th>206374</th>\n",
              "      <td>Ô, Zeca, tu tá morando onde?. Ô, Zeca, tu tá m...</td>\n",
              "      <td>portuguese</td>\n",
              "      <td>ô zec tu tá mor onde ô zec tu tá mor onde ande...</td>\n",
              "      <td>Zeca Pagodinho — Zeca, Cadê Você?</td>\n",
              "      <td>zeca pagodinho zeca cadê você</td>\n",
              "    </tr>\n",
              "  </tbody>\n",
              "</table>\n",
              "<p>206375 rows × 5 columns</p>\n",
              "</div>\n",
              "      <button class=\"colab-df-convert\" onclick=\"convertToInteractive('df-55484362-4f49-4016-a35a-79a26ede5768')\"\n",
              "              title=\"Convert this dataframe to an interactive table.\"\n",
              "              style=\"display:none;\">\n",
              "        \n",
              "  <svg xmlns=\"http://www.w3.org/2000/svg\" height=\"24px\"viewBox=\"0 0 24 24\"\n",
              "       width=\"24px\">\n",
              "    <path d=\"M0 0h24v24H0V0z\" fill=\"none\"/>\n",
              "    <path d=\"M18.56 5.44l.94 2.06.94-2.06 2.06-.94-2.06-.94-.94-2.06-.94 2.06-2.06.94zm-11 1L8.5 8.5l.94-2.06 2.06-.94-2.06-.94L8.5 2.5l-.94 2.06-2.06.94zm10 10l.94 2.06.94-2.06 2.06-.94-2.06-.94-.94-2.06-.94 2.06-2.06.94z\"/><path d=\"M17.41 7.96l-1.37-1.37c-.4-.4-.92-.59-1.43-.59-.52 0-1.04.2-1.43.59L10.3 9.45l-7.72 7.72c-.78.78-.78 2.05 0 2.83L4 21.41c.39.39.9.59 1.41.59.51 0 1.02-.2 1.41-.59l7.78-7.78 2.81-2.81c.8-.78.8-2.07 0-2.86zM5.41 20L4 18.59l7.72-7.72 1.47 1.35L5.41 20z\"/>\n",
              "  </svg>\n",
              "      </button>\n",
              "      \n",
              "  <style>\n",
              "    .colab-df-container {\n",
              "      display:flex;\n",
              "      flex-wrap:wrap;\n",
              "      gap: 12px;\n",
              "    }\n",
              "\n",
              "    .colab-df-convert {\n",
              "      background-color: #E8F0FE;\n",
              "      border: none;\n",
              "      border-radius: 50%;\n",
              "      cursor: pointer;\n",
              "      display: none;\n",
              "      fill: #1967D2;\n",
              "      height: 32px;\n",
              "      padding: 0 0 0 0;\n",
              "      width: 32px;\n",
              "    }\n",
              "\n",
              "    .colab-df-convert:hover {\n",
              "      background-color: #E2EBFA;\n",
              "      box-shadow: 0px 1px 2px rgba(60, 64, 67, 0.3), 0px 1px 3px 1px rgba(60, 64, 67, 0.15);\n",
              "      fill: #174EA6;\n",
              "    }\n",
              "\n",
              "    [theme=dark] .colab-df-convert {\n",
              "      background-color: #3B4455;\n",
              "      fill: #D2E3FC;\n",
              "    }\n",
              "\n",
              "    [theme=dark] .colab-df-convert:hover {\n",
              "      background-color: #434B5C;\n",
              "      box-shadow: 0px 1px 3px 1px rgba(0, 0, 0, 0.15);\n",
              "      filter: drop-shadow(0px 1px 2px rgba(0, 0, 0, 0.3));\n",
              "      fill: #FFFFFF;\n",
              "    }\n",
              "  </style>\n",
              "\n",
              "      <script>\n",
              "        const buttonEl =\n",
              "          document.querySelector('#df-55484362-4f49-4016-a35a-79a26ede5768 button.colab-df-convert');\n",
              "        buttonEl.style.display =\n",
              "          google.colab.kernel.accessAllowed ? 'block' : 'none';\n",
              "\n",
              "        async function convertToInteractive(key) {\n",
              "          const element = document.querySelector('#df-55484362-4f49-4016-a35a-79a26ede5768');\n",
              "          const dataTable =\n",
              "            await google.colab.kernel.invokeFunction('convertToInteractive',\n",
              "                                                     [key], {});\n",
              "          if (!dataTable) return;\n",
              "\n",
              "          const docLinkHtml = 'Like what you see? Visit the ' +\n",
              "            '<a target=\"_blank\" href=https://colab.research.google.com/notebooks/data_table.ipynb>data table notebook</a>'\n",
              "            + ' to learn more about interactive tables.';\n",
              "          element.innerHTML = '';\n",
              "          dataTable['output_type'] = 'display_data';\n",
              "          await google.colab.output.renderOutput(dataTable, element);\n",
              "          const docLink = document.createElement('div');\n",
              "          docLink.innerHTML = docLinkHtml;\n",
              "          element.appendChild(docLink);\n",
              "        }\n",
              "      </script>\n",
              "    </div>\n",
              "  </div>\n",
              "  "
            ],
            "text/plain": [
              "                                            display_lyric  ...                                       hidden_title\n",
              "0       I could feel at the time. There was no way of ...  ...                       10000 maniacs more than this\n",
              "1       Take me now, baby, here as I am. Hold me close...  ...                    10000 maniacs because the night\n",
              "2       These are. These are days you'll remember. Nev...  ...                       10000 maniacs these are days\n",
              "3       A lie to say, \"O my mountain has coal veins an...  ...                      10000 maniacs a campfire song\n",
              "4       Trudging slowly over wet sand. Back to the ben...  ...              10000 maniacs everyday is like sunday\n",
              "...                                                   ...  ...                                                ...\n",
              "206370  Eu vou botar teu nome na macumba. Vou procurar...  ...       zeca pagodinho vou botar teu nome na macumba\n",
              "206371  Vou procurar um novo amor na minha vida. Porqu...  ...               zeca pagodinho vou procurar esquecer\n",
              "206372  Quando a mare vazá. Vou vê juliana. Vou vê jul...  ...                     zeca pagodinho vou ver juliana\n",
              "206373  Ô Yaô. Yaô, cadê a samba?. Está mangando na cu...  ...  zeca pagodinho yaô cadê a samba  outro recado ...\n",
              "206374  Ô, Zeca, tu tá morando onde?. Ô, Zeca, tu tá m...  ...                      zeca pagodinho zeca cadê você\n",
              "\n",
              "[206375 rows x 5 columns]"
            ]
          },
          "metadata": {},
          "execution_count": 7
        }
      ]
    },
    {
      "cell_type": "code",
      "source": [
        "class Document:\n",
        "    def __init__(self,\n",
        "                 displayed_title,\n",
        "                 displayed_lyric,\n",
        "                 hidden_title,\n",
        "                 hidden_lyric,\n",
        "                 language,\n",
        "                 tfidf_dict_title,\n",
        "                 tfidf_dict_lyric):\n",
        "        # можете здесь какие-нибудь свои поля подобавлять\n",
        "        self.displayed_title = displayed_title\n",
        "        self.displayed_lyric = displayed_lyric\n",
        "        self.hidden_title = hidden_title\n",
        "        self.hidden_lyric = hidden_lyric\n",
        "        self.language = language\n",
        "        self.tfidf_dict_title = tfidf_dict_title\n",
        "        self.tfidf_dict_lyric = tfidf_dict_lyric\n",
        "    \n",
        "    def format(self, query):\n",
        "        # возвращает пару тайтл-текст, отформатированную под запрос\n",
        "        return [self.displayed_title, self.displayed_lyric + ' ...']"
      ],
      "metadata": {
        "id": "Vt1wAgtAwjLN"
      },
      "execution_count": null,
      "outputs": []
    },
    {
      "cell_type": "code",
      "source": [
        "df"
      ],
      "metadata": {
        "colab": {
          "base_uri": "https://localhost:8080/",
          "height": 612
        },
        "id": "SJ7zxirkwiw8",
        "outputId": "d5f9abca-aa0e-4728-aa9f-f43d0e9cc7b1"
      },
      "execution_count": null,
      "outputs": [
        {
          "output_type": "execute_result",
          "data": {
            "text/html": [
              "\n",
              "  <div id=\"df-83cade8b-421d-469f-b0b3-6682b179f228\">\n",
              "    <div class=\"colab-df-container\">\n",
              "      <div>\n",
              "<style scoped>\n",
              "    .dataframe tbody tr th:only-of-type {\n",
              "        vertical-align: middle;\n",
              "    }\n",
              "\n",
              "    .dataframe tbody tr th {\n",
              "        vertical-align: top;\n",
              "    }\n",
              "\n",
              "    .dataframe thead th {\n",
              "        text-align: right;\n",
              "    }\n",
              "</style>\n",
              "<table border=\"1\" class=\"dataframe\">\n",
              "  <thead>\n",
              "    <tr style=\"text-align: right;\">\n",
              "      <th></th>\n",
              "      <th>display_lyric</th>\n",
              "      <th>Idiom</th>\n",
              "      <th>hidden_lyric</th>\n",
              "      <th>displayed_title</th>\n",
              "      <th>hidden_title</th>\n",
              "    </tr>\n",
              "  </thead>\n",
              "  <tbody>\n",
              "    <tr>\n",
              "      <th>0</th>\n",
              "      <td>I could feel at the time. There was no way of ...</td>\n",
              "      <td>english</td>\n",
              "      <td>i could feel at the time there was no way of k...</td>\n",
              "      <td>10000 Maniacs — More Than This</td>\n",
              "      <td>10000 maniacs more than this</td>\n",
              "    </tr>\n",
              "    <tr>\n",
              "      <th>1</th>\n",
              "      <td>Take me now, baby, here as I am. Hold me close...</td>\n",
              "      <td>english</td>\n",
              "      <td>take me now babi here as i am hold me close an...</td>\n",
              "      <td>10000 Maniacs — Because The Night</td>\n",
              "      <td>10000 maniacs because the night</td>\n",
              "    </tr>\n",
              "    <tr>\n",
              "      <th>2</th>\n",
              "      <td>These are. These are days you'll remember. Nev...</td>\n",
              "      <td>english</td>\n",
              "      <td>these are these are day youll rememb never bef...</td>\n",
              "      <td>10000 Maniacs — These Are Days</td>\n",
              "      <td>10000 maniacs these are days</td>\n",
              "    </tr>\n",
              "    <tr>\n",
              "      <th>3</th>\n",
              "      <td>A lie to say, \"O my mountain has coal veins an...</td>\n",
              "      <td>english</td>\n",
              "      <td>a lie to say o my mountain has coal vein and b...</td>\n",
              "      <td>10000 Maniacs — A Campfire Song</td>\n",
              "      <td>10000 maniacs a campfire song</td>\n",
              "    </tr>\n",
              "    <tr>\n",
              "      <th>4</th>\n",
              "      <td>Trudging slowly over wet sand. Back to the ben...</td>\n",
              "      <td>english</td>\n",
              "      <td>trudg slowli over wet sand back to the bench w...</td>\n",
              "      <td>10000 Maniacs — Everyday Is Like Sunday</td>\n",
              "      <td>10000 maniacs everyday is like sunday</td>\n",
              "    </tr>\n",
              "    <tr>\n",
              "      <th>...</th>\n",
              "      <td>...</td>\n",
              "      <td>...</td>\n",
              "      <td>...</td>\n",
              "      <td>...</td>\n",
              "      <td>...</td>\n",
              "    </tr>\n",
              "    <tr>\n",
              "      <th>206370</th>\n",
              "      <td>Eu vou botar teu nome na macumba. Vou procurar...</td>\n",
              "      <td>portuguese</td>\n",
              "      <td>eu vou bot teu nom na macumb vou procur uma fe...</td>\n",
              "      <td>Zeca Pagodinho — Vou Botar Teu Nome Na Macumba</td>\n",
              "      <td>zeca pagodinho vou botar teu nome na macumba</td>\n",
              "    </tr>\n",
              "    <tr>\n",
              "      <th>206371</th>\n",
              "      <td>Vou procurar um novo amor na minha vida. Porqu...</td>\n",
              "      <td>portuguese</td>\n",
              "      <td>vou procur um nov amor na minh vid porqu nã po...</td>\n",
              "      <td>Zeca Pagodinho — Vou Procurar Esquecer</td>\n",
              "      <td>zeca pagodinho vou procurar esquecer</td>\n",
              "    </tr>\n",
              "    <tr>\n",
              "      <th>206372</th>\n",
              "      <td>Quando a mare vazá. Vou vê juliana. Vou vê jul...</td>\n",
              "      <td>portuguese</td>\n",
              "      <td>quand a mar vaz vou vê julian vou vê julian ê ...</td>\n",
              "      <td>Zeca Pagodinho — Vou Ver Juliana</td>\n",
              "      <td>zeca pagodinho vou ver juliana</td>\n",
              "    </tr>\n",
              "    <tr>\n",
              "      <th>206373</th>\n",
              "      <td>Ô Yaô. Yaô, cadê a samba?. Está mangando na cu...</td>\n",
              "      <td>portuguese</td>\n",
              "      <td>ô yaô yaô cad a samb está mang na curimb está ...</td>\n",
              "      <td>Zeca Pagodinho — Yaô Cadê A Samba / Outro Reca...</td>\n",
              "      <td>zeca pagodinho yaô cadê a samba  outro recado ...</td>\n",
              "    </tr>\n",
              "    <tr>\n",
              "      <th>206374</th>\n",
              "      <td>Ô, Zeca, tu tá morando onde?. Ô, Zeca, tu tá m...</td>\n",
              "      <td>portuguese</td>\n",
              "      <td>ô zec tu tá mor onde ô zec tu tá mor onde ande...</td>\n",
              "      <td>Zeca Pagodinho — Zeca, Cadê Você?</td>\n",
              "      <td>zeca pagodinho zeca cadê você</td>\n",
              "    </tr>\n",
              "  </tbody>\n",
              "</table>\n",
              "<p>206375 rows × 5 columns</p>\n",
              "</div>\n",
              "      <button class=\"colab-df-convert\" onclick=\"convertToInteractive('df-83cade8b-421d-469f-b0b3-6682b179f228')\"\n",
              "              title=\"Convert this dataframe to an interactive table.\"\n",
              "              style=\"display:none;\">\n",
              "        \n",
              "  <svg xmlns=\"http://www.w3.org/2000/svg\" height=\"24px\"viewBox=\"0 0 24 24\"\n",
              "       width=\"24px\">\n",
              "    <path d=\"M0 0h24v24H0V0z\" fill=\"none\"/>\n",
              "    <path d=\"M18.56 5.44l.94 2.06.94-2.06 2.06-.94-2.06-.94-.94-2.06-.94 2.06-2.06.94zm-11 1L8.5 8.5l.94-2.06 2.06-.94-2.06-.94L8.5 2.5l-.94 2.06-2.06.94zm10 10l.94 2.06.94-2.06 2.06-.94-2.06-.94-.94-2.06-.94 2.06-2.06.94z\"/><path d=\"M17.41 7.96l-1.37-1.37c-.4-.4-.92-.59-1.43-.59-.52 0-1.04.2-1.43.59L10.3 9.45l-7.72 7.72c-.78.78-.78 2.05 0 2.83L4 21.41c.39.39.9.59 1.41.59.51 0 1.02-.2 1.41-.59l7.78-7.78 2.81-2.81c.8-.78.8-2.07 0-2.86zM5.41 20L4 18.59l7.72-7.72 1.47 1.35L5.41 20z\"/>\n",
              "  </svg>\n",
              "      </button>\n",
              "      \n",
              "  <style>\n",
              "    .colab-df-container {\n",
              "      display:flex;\n",
              "      flex-wrap:wrap;\n",
              "      gap: 12px;\n",
              "    }\n",
              "\n",
              "    .colab-df-convert {\n",
              "      background-color: #E8F0FE;\n",
              "      border: none;\n",
              "      border-radius: 50%;\n",
              "      cursor: pointer;\n",
              "      display: none;\n",
              "      fill: #1967D2;\n",
              "      height: 32px;\n",
              "      padding: 0 0 0 0;\n",
              "      width: 32px;\n",
              "    }\n",
              "\n",
              "    .colab-df-convert:hover {\n",
              "      background-color: #E2EBFA;\n",
              "      box-shadow: 0px 1px 2px rgba(60, 64, 67, 0.3), 0px 1px 3px 1px rgba(60, 64, 67, 0.15);\n",
              "      fill: #174EA6;\n",
              "    }\n",
              "\n",
              "    [theme=dark] .colab-df-convert {\n",
              "      background-color: #3B4455;\n",
              "      fill: #D2E3FC;\n",
              "    }\n",
              "\n",
              "    [theme=dark] .colab-df-convert:hover {\n",
              "      background-color: #434B5C;\n",
              "      box-shadow: 0px 1px 3px 1px rgba(0, 0, 0, 0.15);\n",
              "      filter: drop-shadow(0px 1px 2px rgba(0, 0, 0, 0.3));\n",
              "      fill: #FFFFFF;\n",
              "    }\n",
              "  </style>\n",
              "\n",
              "      <script>\n",
              "        const buttonEl =\n",
              "          document.querySelector('#df-83cade8b-421d-469f-b0b3-6682b179f228 button.colab-df-convert');\n",
              "        buttonEl.style.display =\n",
              "          google.colab.kernel.accessAllowed ? 'block' : 'none';\n",
              "\n",
              "        async function convertToInteractive(key) {\n",
              "          const element = document.querySelector('#df-83cade8b-421d-469f-b0b3-6682b179f228');\n",
              "          const dataTable =\n",
              "            await google.colab.kernel.invokeFunction('convertToInteractive',\n",
              "                                                     [key], {});\n",
              "          if (!dataTable) return;\n",
              "\n",
              "          const docLinkHtml = 'Like what you see? Visit the ' +\n",
              "            '<a target=\"_blank\" href=https://colab.research.google.com/notebooks/data_table.ipynb>data table notebook</a>'\n",
              "            + ' to learn more about interactive tables.';\n",
              "          element.innerHTML = '';\n",
              "          dataTable['output_type'] = 'display_data';\n",
              "          await google.colab.output.renderOutput(dataTable, element);\n",
              "          const docLink = document.createElement('div');\n",
              "          docLink.innerHTML = docLinkHtml;\n",
              "          element.appendChild(docLink);\n",
              "        }\n",
              "      </script>\n",
              "    </div>\n",
              "  </div>\n",
              "  "
            ],
            "text/plain": [
              "                                            display_lyric  ...                                       hidden_title\n",
              "0       I could feel at the time. There was no way of ...  ...                       10000 maniacs more than this\n",
              "1       Take me now, baby, here as I am. Hold me close...  ...                    10000 maniacs because the night\n",
              "2       These are. These are days you'll remember. Nev...  ...                       10000 maniacs these are days\n",
              "3       A lie to say, \"O my mountain has coal veins an...  ...                      10000 maniacs a campfire song\n",
              "4       Trudging slowly over wet sand. Back to the ben...  ...              10000 maniacs everyday is like sunday\n",
              "...                                                   ...  ...                                                ...\n",
              "206370  Eu vou botar teu nome na macumba. Vou procurar...  ...       zeca pagodinho vou botar teu nome na macumba\n",
              "206371  Vou procurar um novo amor na minha vida. Porqu...  ...               zeca pagodinho vou procurar esquecer\n",
              "206372  Quando a mare vazá. Vou vê juliana. Vou vê jul...  ...                     zeca pagodinho vou ver juliana\n",
              "206373  Ô Yaô. Yaô, cadê a samba?. Está mangando na cu...  ...  zeca pagodinho yaô cadê a samba  outro recado ...\n",
              "206374  Ô, Zeca, tu tá morando onde?. Ô, Zeca, tu tá m...  ...                      zeca pagodinho zeca cadê você\n",
              "\n",
              "[206375 rows x 5 columns]"
            ]
          },
          "metadata": {},
          "execution_count": 5
        }
      ]
    },
    {
      "cell_type": "markdown",
      "source": [
        "Данным образом, я думаю, лучше будет считать score как сумма tf-idf от каждого совпавшего слова из запроса с заголовком и сумма tf-idf от каждого совпавшего слова из запроса с текстом песни. И мне кажется, что вес каждого совпавшего слова из запроса с заголовком должен быть больше, это нужно будет проверить с помощью оценки качества ранжирования (таких метрик как (precision@k, MRR, DCG, pFound…)"
      ],
      "metadata": {
        "id": "BcesFOF6tivE"
      }
    },
    {
      "cell_type": "markdown",
      "source": [
        "Приступим к составлению tfidf словарей для каждого слова заголовка и текста песни относительно всех заголовков и всех текстов и составлению списка документов"
      ],
      "metadata": {
        "id": "JgyyD9C5x88z"
      }
    },
    {
      "cell_type": "code",
      "source": [
        "df.iloc[0, :]"
      ],
      "metadata": {
        "colab": {
          "base_uri": "https://localhost:8080/"
        },
        "id": "fIEtyXiv1B83",
        "outputId": "8ecf4fdb-3387-4f7b-d9b6-45042709c7ca"
      },
      "execution_count": null,
      "outputs": [
        {
          "output_type": "execute_result",
          "data": {
            "text/plain": [
              "display_lyric      I could feel at the time. There was no way of ...\n",
              "Idiom                                                        english\n",
              "hidden_lyric       i could feel at the time there was no way of k...\n",
              "displayed_title                       10000 Maniacs — More Than This\n",
              "hidden_title                            10000 maniacs more than this\n",
              "Name: 0, dtype: object"
            ]
          },
          "metadata": {},
          "execution_count": 8
        }
      ]
    },
    {
      "cell_type": "code",
      "source": [
        "from sklearn.feature_extraction.text import TfidfVectorizer"
      ],
      "metadata": {
        "id": "vbzqALsNASo0"
      },
      "execution_count": null,
      "outputs": []
    },
    {
      "cell_type": "code",
      "source": [
        "def get_ifidf_for_words_title(text):\n",
        "    tfidf_matrix = tfidf_title.transform([text]).todense()\n",
        "    feature_index = tfidf_matrix[0,:].nonzero()[1]\n",
        "    tfidf_scores = zip([feature_names_title[i] for i in feature_index], [tfidf_matrix[0, x] for x in feature_index])\n",
        "    return dict(tfidf_scores)\n",
        "\n",
        "def get_ifidf_for_words_lyric(text):\n",
        "    tfidf_matrix = tfidf_lyric.transform([text]).todense()\n",
        "    feature_index = tfidf_matrix[0,:].nonzero()[1]\n",
        "    tfidf_scores = zip([feature_names_lyric[i] for i in feature_index], [tfidf_matrix[0, x] for x in feature_index])\n",
        "    return dict(tfidf_scores)"
      ],
      "metadata": {
        "id": "F1eu1i4DAnC8"
      },
      "execution_count": null,
      "outputs": []
    },
    {
      "cell_type": "code",
      "source": [
        "docs = []\n",
        "tfidf_title = TfidfVectorizer()\n",
        "tfidf_title.fit(df.hidden_title)\n",
        "feature_names_title = tfidf_title.get_feature_names()\n",
        "\n",
        "tfidf_lyric = TfidfVectorizer()\n",
        "tfidf_lyric.fit(df.hidden_lyric)\n",
        "feature_names_lyric = tfidf_lyric.get_feature_names()\n",
        "\n",
        "for i in range(len(df)):\n",
        "    displayed_lyric, language, hidden_lyric, displayed_title, hidden_title = df.iloc[i, :]\n",
        "\n",
        "    tfidf_dict_title = get_ifidf_for_words_title(hidden_title)\n",
        "    tfidf_dict_lyric = get_ifidf_for_words_lyric(hidden_lyric)\n",
        "\n",
        "    docs.append(Document(displayed_title=displayed_title,\n",
        "                         displayed_lyric=displayed_lyric,\n",
        "                         hidden_title=hidden_title,\n",
        "                         hidden_lyric=hidden_lyric,\n",
        "                         language=language,\n",
        "                         tfidf_dict_title=tfidf_dict_title,\n",
        "                         tfidf_dict_lyric=tfidf_dict_lyric\n",
        "                         ))"
      ],
      "metadata": {
        "id": "YZLpkdLxxtjd",
        "colab": {
          "base_uri": "https://localhost:8080/"
        },
        "outputId": "1127c98d-eb53-4e1c-f22e-413fb3e8a92d"
      },
      "execution_count": null,
      "outputs": [
        {
          "output_type": "stream",
          "name": "stderr",
          "text": [
            "/usr/local/lib/python3.7/dist-packages/sklearn/utils/deprecation.py:87: FutureWarning: Function get_feature_names is deprecated; get_feature_names is deprecated in 1.0 and will be removed in 1.2. Please use get_feature_names_out instead.\n",
            "  warnings.warn(msg, category=FutureWarning)\n"
          ]
        }
      ]
    },
    {
      "cell_type": "code",
      "source": [
        "len(docs)"
      ],
      "metadata": {
        "colab": {
          "base_uri": "https://localhost:8080/"
        },
        "id": "52ECqlKbx2Gk",
        "outputId": "474bda89-7125-4317-87af-98952c4990f9"
      },
      "execution_count": null,
      "outputs": [
        {
          "output_type": "execute_result",
          "data": {
            "text/plain": [
              "206375"
            ]
          },
          "metadata": {},
          "execution_count": 14
        }
      ]
    },
    {
      "cell_type": "markdown",
      "source": [
        "Сохраню список документов и считаю его в build_index"
      ],
      "metadata": {
        "id": "ifOiyOyMzV4R"
      }
    },
    {
      "cell_type": "code",
      "source": [
        "import pickle\n",
        "with open('/content/drive/MyDrive/search/documents.pkl', 'wb') as file:\n",
        "    pickle.dump(docs, file)"
      ],
      "metadata": {
        "id": "_v_nCrp217jd"
      },
      "execution_count": null,
      "outputs": []
    },
    {
      "cell_type": "code",
      "source": [
        "import pickle\n",
        "with open('/content/drive/MyDrive/search/documents (1).pkl', 'rb') as file:\n",
        "    docs = pickle.load(file)"
      ],
      "metadata": {
        "id": "SqDLrNo_tiXB"
      },
      "execution_count": null,
      "outputs": []
    },
    {
      "cell_type": "code",
      "source": [
        "df = pd.read_csv('/content/drive/MyDrive/search/df.csv')"
      ],
      "metadata": {
        "id": "rGBW8qq7k44u"
      },
      "execution_count": null,
      "outputs": []
    },
    {
      "cell_type": "markdown",
      "source": [
        "Буду определять язык поискового запроса и пользоваться стеммером по каждому слову из запроса (сам поиск я веду по отстеммеренным текстам песен)"
      ],
      "metadata": {
        "id": "SjeDJllfziTD"
      }
    },
    {
      "cell_type": "code",
      "source": [
        "pip install langdetect"
      ],
      "metadata": {
        "colab": {
          "base_uri": "https://localhost:8080/"
        },
        "id": "RyiT9vwpYC6O",
        "outputId": "a80636f8-85c4-42a7-9393-2089dd0e8990"
      },
      "execution_count": null,
      "outputs": [
        {
          "output_type": "stream",
          "name": "stdout",
          "text": [
            "Collecting langdetect\n",
            "  Downloading langdetect-1.0.9.tar.gz (981 kB)\n",
            "\u001b[?25l\r\u001b[K     |▍                               | 10 kB 21.7 MB/s eta 0:00:01\r\u001b[K     |▊                               | 20 kB 12.1 MB/s eta 0:00:01\r\u001b[K     |█                               | 30 kB 9.3 MB/s eta 0:00:01\r\u001b[K     |█▍                              | 40 kB 8.5 MB/s eta 0:00:01\r\u001b[K     |█▊                              | 51 kB 5.2 MB/s eta 0:00:01\r\u001b[K     |██                              | 61 kB 5.7 MB/s eta 0:00:01\r\u001b[K     |██▍                             | 71 kB 5.6 MB/s eta 0:00:01\r\u001b[K     |██▊                             | 81 kB 6.1 MB/s eta 0:00:01\r\u001b[K     |███                             | 92 kB 4.9 MB/s eta 0:00:01\r\u001b[K     |███▍                            | 102 kB 5.4 MB/s eta 0:00:01\r\u001b[K     |███▊                            | 112 kB 5.4 MB/s eta 0:00:01\r\u001b[K     |████                            | 122 kB 5.4 MB/s eta 0:00:01\r\u001b[K     |████▍                           | 133 kB 5.4 MB/s eta 0:00:01\r\u001b[K     |████▊                           | 143 kB 5.4 MB/s eta 0:00:01\r\u001b[K     |█████                           | 153 kB 5.4 MB/s eta 0:00:01\r\u001b[K     |█████▍                          | 163 kB 5.4 MB/s eta 0:00:01\r\u001b[K     |█████▊                          | 174 kB 5.4 MB/s eta 0:00:01\r\u001b[K     |██████                          | 184 kB 5.4 MB/s eta 0:00:01\r\u001b[K     |██████▍                         | 194 kB 5.4 MB/s eta 0:00:01\r\u001b[K     |██████▊                         | 204 kB 5.4 MB/s eta 0:00:01\r\u001b[K     |███████                         | 215 kB 5.4 MB/s eta 0:00:01\r\u001b[K     |███████▍                        | 225 kB 5.4 MB/s eta 0:00:01\r\u001b[K     |███████▊                        | 235 kB 5.4 MB/s eta 0:00:01\r\u001b[K     |████████                        | 245 kB 5.4 MB/s eta 0:00:01\r\u001b[K     |████████▍                       | 256 kB 5.4 MB/s eta 0:00:01\r\u001b[K     |████████▊                       | 266 kB 5.4 MB/s eta 0:00:01\r\u001b[K     |█████████                       | 276 kB 5.4 MB/s eta 0:00:01\r\u001b[K     |█████████▍                      | 286 kB 5.4 MB/s eta 0:00:01\r\u001b[K     |█████████▊                      | 296 kB 5.4 MB/s eta 0:00:01\r\u001b[K     |██████████                      | 307 kB 5.4 MB/s eta 0:00:01\r\u001b[K     |██████████▍                     | 317 kB 5.4 MB/s eta 0:00:01\r\u001b[K     |██████████▊                     | 327 kB 5.4 MB/s eta 0:00:01\r\u001b[K     |███████████                     | 337 kB 5.4 MB/s eta 0:00:01\r\u001b[K     |███████████▍                    | 348 kB 5.4 MB/s eta 0:00:01\r\u001b[K     |███████████▊                    | 358 kB 5.4 MB/s eta 0:00:01\r\u001b[K     |████████████                    | 368 kB 5.4 MB/s eta 0:00:01\r\u001b[K     |████████████▍                   | 378 kB 5.4 MB/s eta 0:00:01\r\u001b[K     |████████████▊                   | 389 kB 5.4 MB/s eta 0:00:01\r\u001b[K     |█████████████                   | 399 kB 5.4 MB/s eta 0:00:01\r\u001b[K     |█████████████▍                  | 409 kB 5.4 MB/s eta 0:00:01\r\u001b[K     |█████████████▊                  | 419 kB 5.4 MB/s eta 0:00:01\r\u001b[K     |██████████████                  | 430 kB 5.4 MB/s eta 0:00:01\r\u001b[K     |██████████████▍                 | 440 kB 5.4 MB/s eta 0:00:01\r\u001b[K     |██████████████▊                 | 450 kB 5.4 MB/s eta 0:00:01\r\u001b[K     |███████████████                 | 460 kB 5.4 MB/s eta 0:00:01\r\u001b[K     |███████████████▍                | 471 kB 5.4 MB/s eta 0:00:01\r\u001b[K     |███████████████▊                | 481 kB 5.4 MB/s eta 0:00:01\r\u001b[K     |████████████████                | 491 kB 5.4 MB/s eta 0:00:01\r\u001b[K     |████████████████▍               | 501 kB 5.4 MB/s eta 0:00:01\r\u001b[K     |████████████████▊               | 512 kB 5.4 MB/s eta 0:00:01\r\u001b[K     |█████████████████               | 522 kB 5.4 MB/s eta 0:00:01\r\u001b[K     |█████████████████▍              | 532 kB 5.4 MB/s eta 0:00:01\r\u001b[K     |█████████████████▊              | 542 kB 5.4 MB/s eta 0:00:01\r\u001b[K     |██████████████████              | 552 kB 5.4 MB/s eta 0:00:01\r\u001b[K     |██████████████████▍             | 563 kB 5.4 MB/s eta 0:00:01\r\u001b[K     |██████████████████▊             | 573 kB 5.4 MB/s eta 0:00:01\r\u001b[K     |███████████████████             | 583 kB 5.4 MB/s eta 0:00:01\r\u001b[K     |███████████████████▍            | 593 kB 5.4 MB/s eta 0:00:01\r\u001b[K     |███████████████████▊            | 604 kB 5.4 MB/s eta 0:00:01\r\u001b[K     |████████████████████            | 614 kB 5.4 MB/s eta 0:00:01\r\u001b[K     |████████████████████▍           | 624 kB 5.4 MB/s eta 0:00:01\r\u001b[K     |████████████████████▊           | 634 kB 5.4 MB/s eta 0:00:01\r\u001b[K     |█████████████████████           | 645 kB 5.4 MB/s eta 0:00:01\r\u001b[K     |█████████████████████▍          | 655 kB 5.4 MB/s eta 0:00:01\r\u001b[K     |█████████████████████▊          | 665 kB 5.4 MB/s eta 0:00:01\r\u001b[K     |██████████████████████          | 675 kB 5.4 MB/s eta 0:00:01\r\u001b[K     |██████████████████████▍         | 686 kB 5.4 MB/s eta 0:00:01\r\u001b[K     |██████████████████████▊         | 696 kB 5.4 MB/s eta 0:00:01\r\u001b[K     |███████████████████████         | 706 kB 5.4 MB/s eta 0:00:01\r\u001b[K     |███████████████████████▍        | 716 kB 5.4 MB/s eta 0:00:01\r\u001b[K     |███████████████████████▊        | 727 kB 5.4 MB/s eta 0:00:01\r\u001b[K     |████████████████████████        | 737 kB 5.4 MB/s eta 0:00:01\r\u001b[K     |████████████████████████▍       | 747 kB 5.4 MB/s eta 0:00:01\r\u001b[K     |████████████████████████▊       | 757 kB 5.4 MB/s eta 0:00:01\r\u001b[K     |█████████████████████████       | 768 kB 5.4 MB/s eta 0:00:01\r\u001b[K     |█████████████████████████▍      | 778 kB 5.4 MB/s eta 0:00:01\r\u001b[K     |█████████████████████████▊      | 788 kB 5.4 MB/s eta 0:00:01\r\u001b[K     |██████████████████████████      | 798 kB 5.4 MB/s eta 0:00:01\r\u001b[K     |██████████████████████████▍     | 808 kB 5.4 MB/s eta 0:00:01\r\u001b[K     |██████████████████████████▊     | 819 kB 5.4 MB/s eta 0:00:01\r\u001b[K     |███████████████████████████     | 829 kB 5.4 MB/s eta 0:00:01\r\u001b[K     |███████████████████████████▍    | 839 kB 5.4 MB/s eta 0:00:01\r\u001b[K     |███████████████████████████▊    | 849 kB 5.4 MB/s eta 0:00:01\r\u001b[K     |████████████████████████████    | 860 kB 5.4 MB/s eta 0:00:01\r\u001b[K     |████████████████████████████▍   | 870 kB 5.4 MB/s eta 0:00:01\r\u001b[K     |████████████████████████████▊   | 880 kB 5.4 MB/s eta 0:00:01\r\u001b[K     |█████████████████████████████   | 890 kB 5.4 MB/s eta 0:00:01\r\u001b[K     |█████████████████████████████▍  | 901 kB 5.4 MB/s eta 0:00:01\r\u001b[K     |█████████████████████████████▊  | 911 kB 5.4 MB/s eta 0:00:01\r\u001b[K     |██████████████████████████████  | 921 kB 5.4 MB/s eta 0:00:01\r\u001b[K     |██████████████████████████████▍ | 931 kB 5.4 MB/s eta 0:00:01\r\u001b[K     |██████████████████████████████▊ | 942 kB 5.4 MB/s eta 0:00:01\r\u001b[K     |███████████████████████████████ | 952 kB 5.4 MB/s eta 0:00:01\r\u001b[K     |███████████████████████████████▍| 962 kB 5.4 MB/s eta 0:00:01\r\u001b[K     |███████████████████████████████▊| 972 kB 5.4 MB/s eta 0:00:01\r\u001b[K     |████████████████████████████████| 981 kB 5.4 MB/s \n",
            "\u001b[?25hRequirement already satisfied: six in /usr/local/lib/python3.7/dist-packages (from langdetect) (1.15.0)\n",
            "Building wheels for collected packages: langdetect\n",
            "  Building wheel for langdetect (setup.py) ... \u001b[?25l\u001b[?25hdone\n",
            "  Created wheel for langdetect: filename=langdetect-1.0.9-py3-none-any.whl size=993242 sha256=485e93e2da30329f1d7bb44528ad1bd2deb4d957d0b3a1b4b836e9a210b5a703\n",
            "  Stored in directory: /root/.cache/pip/wheels/c5/96/8a/f90c59ed25d75e50a8c10a1b1c2d4c402e4dacfa87f3aff36a\n",
            "Successfully built langdetect\n",
            "Installing collected packages: langdetect\n",
            "Successfully installed langdetect-1.0.9\n"
          ]
        }
      ]
    },
    {
      "cell_type": "code",
      "source": [
        "from langdetect import detect\n",
        "\n",
        "detect('ывдо')"
      ],
      "metadata": {
        "colab": {
          "base_uri": "https://localhost:8080/",
          "height": 35
        },
        "id": "4CMDdchCYJUZ",
        "outputId": "117e0052-3fe5-4201-9deb-df1d219165b7"
      },
      "execution_count": null,
      "outputs": [
        {
          "output_type": "execute_result",
          "data": {
            "application/vnd.google.colaboratory.intrinsic+json": {
              "type": "string"
            },
            "text/plain": [
              "'ru'"
            ]
          },
          "metadata": {},
          "execution_count": 21
        }
      ]
    },
    {
      "cell_type": "code",
      "source": [
        "df.hidden_lyric"
      ],
      "metadata": {
        "id": "zPGrANLvYlyC"
      },
      "execution_count": null,
      "outputs": []
    },
    {
      "cell_type": "code",
      "source": [
        "languages_dict = {'da':\"danish\",\n",
        " 'de':\"german\",\n",
        " 'en':\"english\",\n",
        " 'es':\"spanish\",\n",
        " 'fi':\"finnish\",\n",
        " 'fr':\"french\", \n",
        "'hu':\"hungarian\",\n",
        " 'it':\"italian\",\n",
        " 'nl':\"dutch\",\n",
        " 'no':\"norwegian\", \n",
        "'pt':\"portuguese\",\n",
        " 'ro':\"romanian\",\n",
        " 'ru':\"russian\",\n",
        " 'sv':\"swedish\"}"
      ],
      "metadata": {
        "id": "noxRvHOzZb5q"
      },
      "execution_count": null,
      "outputs": []
    },
    {
      "cell_type": "markdown",
      "source": [
        "langdetect выдает мне язык как 2 символа, я создал словарь, который переводит их в вид, читаемый стеммером"
      ],
      "metadata": {
        "id": "Mrr6Vj9SxiYy"
      }
    },
    {
      "cell_type": "code",
      "source": [
        "detect(df.hidden_lyric[33320])"
      ],
      "metadata": {
        "colab": {
          "base_uri": "https://localhost:8080/",
          "height": 35
        },
        "id": "SAHg2JQcblvg",
        "outputId": "ac473769-c9ab-41bb-f453-a5c91efe988d"
      },
      "execution_count": null,
      "outputs": [
        {
          "output_type": "execute_result",
          "data": {
            "application/vnd.google.colaboratory.intrinsic+json": {
              "type": "string"
            },
            "text/plain": [
              "'pt'"
            ]
          },
          "metadata": {},
          "execution_count": 32
        }
      ]
    },
    {
      "cell_type": "code",
      "source": [
        ""
      ],
      "metadata": {
        "id": "DizbH15UkJiq"
      },
      "execution_count": null,
      "outputs": []
    },
    {
      "cell_type": "code",
      "source": [
        "def dcg_at_k(r, k, method=0):\n",
        "    \"\"\"Score is discounted cumulative gain (dcg)\n",
        "    Relevance is positive real values.  Can use binary\n",
        "    as the previous methods.\n",
        "    Example from\n",
        "    http://www.stanford.edu/class/cs276/handouts/EvaluationNew-handout-6-per.pdf\n",
        "    >>> r = [3, 2, 3, 0, 0, 1, 2, 2, 3, 0]\n",
        "    >>> dcg_at_k(r, 1)\n",
        "    3.0\n",
        "    >>> dcg_at_k(r, 1, method=1)\n",
        "    3.0\n",
        "    >>> dcg_at_k(r, 2)\n",
        "    5.0\n",
        "    >>> dcg_at_k(r, 2, method=1)\n",
        "    4.2618595071429155\n",
        "    >>> dcg_at_k(r, 10)\n",
        "    9.6051177391888114\n",
        "    >>> dcg_at_k(r, 11)\n",
        "    9.6051177391888114\n",
        "    Args:\n",
        "        r: Relevance scores (list or numpy) in rank order\n",
        "            (first element is the first item)\n",
        "        k: Number of results to consider\n",
        "        method: If 0 then weights are [1.0, 1.0, 0.6309, 0.5, 0.4307, ...]\n",
        "                If 1 then weights are [1.0, 0.6309, 0.5, 0.4307, ...]\n",
        "    Returns:\n",
        "        Discounted cumulative gain\n",
        "    \"\"\"\n",
        "    r = np.asfarray(r)[:k]\n",
        "    if r.size:\n",
        "        if method == 0:\n",
        "            return r[0] + np.sum(r[1:] / np.log2(np.arange(2, r.size + 1)))\n",
        "        elif method == 1:\n",
        "            return np.sum(r / np.log2(np.arange(2, r.size + 2)))\n",
        "        else:\n",
        "            raise ValueError('method must be 0 or 1.')\n",
        "    return 0.\n",
        "\n",
        "\n",
        "def ndcg_at_k(r, k, method=0):\n",
        "    \"\"\"Score is normalized discounted cumulative gain (ndcg)\n",
        "    Relevance is positive real values.  Can use binary\n",
        "    as the previous methods.\n",
        "    Example from\n",
        "    http://www.stanford.edu/class/cs276/handouts/EvaluationNew-handout-6-per.pdf\n",
        "    >>> r = [3, 2, 3, 0, 0, 1, 2, 2, 3, 0]\n",
        "    >>> ndcg_at_k(r, 1)\n",
        "    1.0\n",
        "    >>> r = [2, 1, 2, 0]\n",
        "    >>> ndcg_at_k(r, 4)\n",
        "    0.9203032077642922\n",
        "    >>> ndcg_at_k(r, 4, method=1)\n",
        "    0.96519546960144276\n",
        "    >>> ndcg_at_k([0], 1)\n",
        "    0.0\n",
        "    >>> ndcg_at_k([1], 2)\n",
        "    1.0\n",
        "    Args:\n",
        "        r: Relevance scores (list or numpy) in rank order\n",
        "            (first element is the first item)\n",
        "        k: Number of results to consider\n",
        "        method: If 0 then weights are [1.0, 1.0, 0.6309, 0.5, 0.4307, ...]\n",
        "                If 1 then weights are [1.0, 0.6309, 0.5, 0.4307, ...]\n",
        "    Returns:\n",
        "        Normalized discounted cumulative gain\n",
        "    \"\"\"\n",
        "    dcg_max = dcg_at_k(sorted(r, reverse=True), k, method)\n",
        "    if not dcg_max:\n",
        "        return 0.\n",
        "    return dcg_at_k(r, k, method) / dcg_max"
      ],
      "metadata": {
        "id": "pA6xegvrZdG2"
      },
      "execution_count": null,
      "outputs": []
    },
    {
      "cell_type": "code",
      "source": [
        "from google.colab import files\n",
        "from io import BytesIO\n",
        "from PIL import Image\n",
        "ims = []\n",
        "for i in range(1, 7):\n",
        "    uploaded = files.upload()\n",
        "    ims.append(Image.open(BytesIO(uploaded[f'0{i}.jpg'])))"
      ],
      "metadata": {
        "colab": {
          "resources": {
            "http://localhost:8080/nbextensions/google.colab/files.js": {
              "data": "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",
              "ok": true,
              "headers": [
                [
                  "content-type",
                  "application/javascript"
                ]
              ],
              "status": 200,
              "status_text": ""
            }
          },
          "base_uri": "https://localhost:8080/",
          "height": 350
        },
        "id": "LsddtFMqz8BJ",
        "outputId": "9eea6ccf-3ffe-49b8-fa18-543afc2e696e"
      },
      "execution_count": null,
      "outputs": [
        {
          "output_type": "display_data",
          "data": {
            "text/html": [
              "\n",
              "     <input type=\"file\" id=\"files-cdee7257-260f-4d84-beb2-04e8b9e9b4d8\" name=\"files[]\" multiple disabled\n",
              "        style=\"border:none\" />\n",
              "     <output id=\"result-cdee7257-260f-4d84-beb2-04e8b9e9b4d8\">\n",
              "      Upload widget is only available when the cell has been executed in the\n",
              "      current browser session. Please rerun this cell to enable.\n",
              "      </output>\n",
              "      <script src=\"/nbextensions/google.colab/files.js\"></script> "
            ],
            "text/plain": [
              "<IPython.core.display.HTML object>"
            ]
          },
          "metadata": {}
        },
        {
          "output_type": "stream",
          "name": "stdout",
          "text": [
            "Saving 01.jpg to 01.jpg\n"
          ]
        },
        {
          "output_type": "display_data",
          "data": {
            "text/html": [
              "\n",
              "     <input type=\"file\" id=\"files-8a31f021-2726-4bc6-9d2a-c4f80e5df0f1\" name=\"files[]\" multiple disabled\n",
              "        style=\"border:none\" />\n",
              "     <output id=\"result-8a31f021-2726-4bc6-9d2a-c4f80e5df0f1\">\n",
              "      Upload widget is only available when the cell has been executed in the\n",
              "      current browser session. Please rerun this cell to enable.\n",
              "      </output>\n",
              "      <script src=\"/nbextensions/google.colab/files.js\"></script> "
            ],
            "text/plain": [
              "<IPython.core.display.HTML object>"
            ]
          },
          "metadata": {}
        },
        {
          "output_type": "stream",
          "name": "stdout",
          "text": [
            "Saving 02.jpg to 02.jpg\n"
          ]
        },
        {
          "output_type": "display_data",
          "data": {
            "text/html": [
              "\n",
              "     <input type=\"file\" id=\"files-914da269-47cc-4bf1-b15f-103455744c1f\" name=\"files[]\" multiple disabled\n",
              "        style=\"border:none\" />\n",
              "     <output id=\"result-914da269-47cc-4bf1-b15f-103455744c1f\">\n",
              "      Upload widget is only available when the cell has been executed in the\n",
              "      current browser session. Please rerun this cell to enable.\n",
              "      </output>\n",
              "      <script src=\"/nbextensions/google.colab/files.js\"></script> "
            ],
            "text/plain": [
              "<IPython.core.display.HTML object>"
            ]
          },
          "metadata": {}
        },
        {
          "output_type": "stream",
          "name": "stdout",
          "text": [
            "Saving 03.jpg to 03.jpg\n"
          ]
        },
        {
          "output_type": "display_data",
          "data": {
            "text/html": [
              "\n",
              "     <input type=\"file\" id=\"files-c7de972a-4b2b-4eb2-983d-5c8a7b86d4f5\" name=\"files[]\" multiple disabled\n",
              "        style=\"border:none\" />\n",
              "     <output id=\"result-c7de972a-4b2b-4eb2-983d-5c8a7b86d4f5\">\n",
              "      Upload widget is only available when the cell has been executed in the\n",
              "      current browser session. Please rerun this cell to enable.\n",
              "      </output>\n",
              "      <script src=\"/nbextensions/google.colab/files.js\"></script> "
            ],
            "text/plain": [
              "<IPython.core.display.HTML object>"
            ]
          },
          "metadata": {}
        },
        {
          "output_type": "stream",
          "name": "stdout",
          "text": [
            "Saving 04.jpg to 04.jpg\n"
          ]
        },
        {
          "output_type": "display_data",
          "data": {
            "text/html": [
              "\n",
              "     <input type=\"file\" id=\"files-2fd8af23-2393-4c4e-91d3-1ba45a266647\" name=\"files[]\" multiple disabled\n",
              "        style=\"border:none\" />\n",
              "     <output id=\"result-2fd8af23-2393-4c4e-91d3-1ba45a266647\">\n",
              "      Upload widget is only available when the cell has been executed in the\n",
              "      current browser session. Please rerun this cell to enable.\n",
              "      </output>\n",
              "      <script src=\"/nbextensions/google.colab/files.js\"></script> "
            ],
            "text/plain": [
              "<IPython.core.display.HTML object>"
            ]
          },
          "metadata": {}
        },
        {
          "output_type": "stream",
          "name": "stdout",
          "text": [
            "Saving 05.jpg to 05.jpg\n"
          ]
        },
        {
          "output_type": "display_data",
          "data": {
            "text/html": [
              "\n",
              "     <input type=\"file\" id=\"files-c97fa243-511b-49e0-9e26-5d8b6ed95283\" name=\"files[]\" multiple disabled\n",
              "        style=\"border:none\" />\n",
              "     <output id=\"result-c97fa243-511b-49e0-9e26-5d8b6ed95283\">\n",
              "      Upload widget is only available when the cell has been executed in the\n",
              "      current browser session. Please rerun this cell to enable.\n",
              "      </output>\n",
              "      <script src=\"/nbextensions/google.colab/files.js\"></script> "
            ],
            "text/plain": [
              "<IPython.core.display.HTML object>"
            ]
          },
          "metadata": {}
        },
        {
          "output_type": "stream",
          "name": "stdout",
          "text": [
            "Saving 06.jpg to 06.jpg\n"
          ]
        }
      ]
    },
    {
      "cell_type": "code",
      "source": [
        "import matplotlib.pyplot as plt\n",
        "\n",
        "plt.imshow(ims[0])\n",
        "plt.show()"
      ],
      "metadata": {
        "colab": {
          "base_uri": "https://localhost:8080/",
          "height": 199
        },
        "id": "Xq5CnWOj1Trc",
        "outputId": "37b97b01-4053-4daf-dd80-baf8d3e5a308"
      },
      "execution_count": null,
      "outputs": [
        {
          "output_type": "display_data",
          "data": {
            "image/png": "[encoded data removed]",
            "text/plain": [
              "<Figure size 432x288 with 1 Axes>"
            ]
          },
          "metadata": {
            "needs_background": "light"
          }
        }
      ]
    },
    {
      "cell_type": "markdown",
      "source": [
        "Извините, что плохо видно, вот тут лучше: https://drive.google.com/file/d/1qyclJpp0Y51uGIeh2SHTs8jPT6cavq59/view?usp=sharing"
      ],
      "metadata": {
        "id": "xjJigSR_4XdQ"
      }
    },
    {
      "cell_type": "code",
      "source": [
        "ndcg_at_k([2, 5, 5, 2, 2], 5)"
      ],
      "metadata": {
        "colab": {
          "base_uri": "https://localhost:8080/"
        },
        "id": "5Fip454MZ7kI",
        "outputId": "58cd7488-dff8-40b2-f6d4-486b5c75589e"
      },
      "execution_count": null,
      "outputs": [
        {
          "output_type": "execute_result",
          "data": {
            "text/plain": [
              "0.9156295968777747"
            ]
          },
          "metadata": {},
          "execution_count": 39
        }
      ]
    },
    {
      "cell_type": "markdown",
      "source": [
        "MRR@1 для этого случая = 1/2\n",
        "\n",
        "\n",
        "MRR@2 = (1/2)*((1/2) + (1/3)) = 5/12\n",
        "\n",
        "nDCG = 0.9156295968777747"
      ],
      "metadata": {
        "id": "rSBsymO0YEkz"
      }
    },
    {
      "cell_type": "markdown",
      "source": [
        "При поиске песни Heart Shaped Box по запросу 'nirvana heart', выпадает первой песня Tourette’s, в тексте которой часто встречается слово 'heart', поэтому вес для tf-idf слов из заголовка сделаем больше:"
      ],
      "metadata": {
        "id": "kyWfHjaIKKF7"
      }
    },
    {
      "cell_type": "markdown",
      "source": [
        "Было:"
      ],
      "metadata": {
        "id": "46dKgBT5NnPV"
      }
    },
    {
      "cell_type": "code",
      "source": [
        "plt.imshow(ims[1])\n",
        "plt.show()"
      ],
      "metadata": {
        "colab": {
          "base_uri": "https://localhost:8080/",
          "height": 208
        },
        "id": "gYL8jSVXKEZr",
        "outputId": "0ec0ba4b-bf38-40ef-e7c1-02b2a4528948"
      },
      "execution_count": null,
      "outputs": [
        {
          "output_type": "display_data",
          "data": {
            "image/png": "[encoded data removed]",
            "text/plain": [
              "<Figure size 432x288 with 1 Axes>"
            ]
          },
          "metadata": {
            "needs_background": "light"
          }
        }
      ]
    },
    {
      "cell_type": "markdown",
      "source": [
        "Стало:"
      ],
      "metadata": {
        "id": "NXSY7eXLNsuj"
      }
    },
    {
      "cell_type": "code",
      "source": [
        "plt.imshow(ims[3])\n",
        "plt.show()"
      ],
      "metadata": {
        "colab": {
          "base_uri": "https://localhost:8080/",
          "height": 191
        },
        "id": "oNQJ699JNrQi",
        "outputId": "7bb94558-ab17-4f14-f30c-afef653a72b0"
      },
      "execution_count": null,
      "outputs": [
        {
          "output_type": "display_data",
          "data": {
            "image/png": "[encoded data removed]",
            "text/plain": [
              "<Figure size 432x288 with 1 Axes>"
            ]
          },
          "metadata": {
            "needs_background": "light"
          }
        }
      ]
    },
    {
      "cell_type": "markdown",
      "source": [
        "Выдача:"
      ],
      "metadata": {
        "id": "XDHZOPvpN0mj"
      }
    },
    {
      "cell_type": "code",
      "source": [
        "plt.imshow(ims[2])\n",
        "plt.show()"
      ],
      "metadata": {
        "colab": {
          "base_uri": "https://localhost:8080/",
          "height": 204
        },
        "id": "wWz63MXGNwZH",
        "outputId": "73ed1d5a-df79-4290-fab6-aa70c5f0b794"
      },
      "execution_count": null,
      "outputs": [
        {
          "output_type": "display_data",
          "data": {
            "image/png": "[encoded data removed]",
            "text/plain": [
              "<Figure size 432x288 with 1 Axes>"
            ]
          },
          "metadata": {
            "needs_background": "light"
          }
        }
      ]
    },
    {
      "cell_type": "markdown",
      "source": [
        "https://drive.google.com/file/d/19tKhRQ921Hk6dXwoVxbn2MLfQSArf0cV/view?usp=sharing"
      ],
      "metadata": {
        "id": "rdxl1pY2N8YR"
      }
    },
    {
      "cell_type": "markdown",
      "source": [
        "MRR@1 для этого случая = 1/2\n",
        "\n",
        "\n",
        "MRR@2 = (1/2)*((1/2) + (1/3)) = 5/12\n",
        "\n",
        "nDCG = 0.9156295968777747"
      ],
      "metadata": {
        "id": "EVdCA5OeY3Wy"
      }
    },
    {
      "cell_type": "markdown",
      "source": [
        "Ничего не изменилось, выдача такая же, подправим вес слов из заголовка еще немного:"
      ],
      "metadata": {
        "id": "3al9VCSQOKZ8"
      }
    },
    {
      "cell_type": "code",
      "source": [
        "plt.imshow(ims[5])\n",
        "plt.show()"
      ],
      "metadata": {
        "colab": {
          "base_uri": "https://localhost:8080/",
          "height": 188
        },
        "id": "aM1p07J5OBw0",
        "outputId": "a6c2ea72-d58c-456d-a475-1b048f93b553"
      },
      "execution_count": null,
      "outputs": [
        {
          "output_type": "display_data",
          "data": {
            "image/png": "[encoded data removed]",
            "text/plain": [
              "<Figure size 432x288 with 1 Axes>"
            ]
          },
          "metadata": {
            "needs_background": "light"
          }
        }
      ]
    },
    {
      "cell_type": "markdown",
      "source": [
        "Выдача:"
      ],
      "metadata": {
        "id": "GwyFpEhbOXv5"
      }
    },
    {
      "cell_type": "code",
      "source": [
        "plt.imshow(ims[4])\n",
        "plt.show()"
      ],
      "metadata": {
        "colab": {
          "base_uri": "https://localhost:8080/",
          "height": 204
        },
        "id": "y7_FjuceOUiH",
        "outputId": "eaa4b751-f3c6-4aab-e541-0b997303321d"
      },
      "execution_count": null,
      "outputs": [
        {
          "output_type": "display_data",
          "data": {
            "image/png": "[encoded data removed]",
            "text/plain": [
              "<Figure size 432x288 with 1 Axes>"
            ]
          },
          "metadata": {
            "needs_background": "light"
          }
        }
      ]
    },
    {
      "cell_type": "markdown",
      "source": [
        "https://drive.google.com/file/d/1z6v00jlJVN7OYet4V3ooaCVKKKRQNpxh/view?usp=sharing"
      ],
      "metadata": {
        "id": "RjpGBhWOOrUx"
      }
    },
    {
      "cell_type": "code",
      "source": [
        "ndcg_at_k([5, 5, 2, 2, 2], 5)"
      ],
      "metadata": {
        "colab": {
          "base_uri": "https://localhost:8080/"
        },
        "id": "11IdbkakaY12",
        "outputId": "c5cfe1b6-9ae7-43eb-d784-b976b3e28d27"
      },
      "execution_count": null,
      "outputs": [
        {
          "output_type": "execute_result",
          "data": {
            "text/plain": [
              "1.0"
            ]
          },
          "metadata": {},
          "execution_count": 40
        }
      ]
    },
    {
      "cell_type": "markdown",
      "source": [
        "MRR@1 для этого случая = 1\n",
        "\n",
        "\n",
        "MRR@2 = (1/2)*((1/1) + (1/2)) = 3/4\n",
        "\n",
        "nDCG = 1"
      ],
      "metadata": {
        "id": "6A9HsryyY6H5"
      }
    },
    {
      "cell_type": "markdown",
      "source": [
        "Наконец Heart Shaped Box стала первой в выдаче, как я и хотел, таким образом, мы подобрали функцию score"
      ],
      "metadata": {
        "id": "Jb1M_4_iOdXY"
      }
    }
  ],
  "metadata": {
    "colab": {
      "collapsed_sections": [],
      "name": "Badriev_information_retrieval_task.ipynb",
      "provenance": []
    },
    "kernelspec": {
      "display_name": "Python 3",
      "name": "python3"
    },
    "language_info": {
      "name": "python"
    }
  },
  "nbformat": 4,
  "nbformat_minor": 0
}