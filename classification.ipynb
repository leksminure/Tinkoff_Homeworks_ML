{
  "nbformat": 4,
  "nbformat_minor": 0,
  "metadata": {
    "kernelspec": {
      "display_name": "Python 3",
      "language": "python",
      "name": "python3"
    },
    "language_info": {
      "codemirror_mode": {
        "name": "ipython",
        "version": 3
      },
      "file_extension": ".py",
      "mimetype": "text/x-python",
      "name": "python",
      "nbconvert_exporter": "python",
      "pygments_lexer": "ipython3",
      "version": "3.7.3"
    },
    "colab": {
      "name": "Badriev_Task4.ipynb",
      "provenance": [],
      "collapsed_sections": []
    }
  },
  "cells": [
    {
      "cell_type": "markdown",
      "metadata": {
        "id": "5KiBI1rG32sd"
      },
      "source": [
        "# Домашнее задание\n",
        "\n",
        "Всего у вас 2 домашних задания:\n",
        "\n",
        "### 1) Бинарная классификация на примере детекции фрода на кредитных картах (6 баллов)\n",
        "(в этом файле)\n",
        "\n",
        "### 2) Небинарная классификация на вашем датасете (6 баллов)\n",
        "(тоже в этом файле)\n",
        "\n",
        "# 1 - Бинарная классификация на примере детекции фрода на кредитных картах (суммарно 6 баллов)\n",
        "У вас есть информация о множесте транзакций. Вам нужно научиться предсказывать, какие из них мошеннические, а какие нет."
      ]
    },
    {
      "cell_type": "markdown",
      "metadata": {
        "id": "ltUMBbJM32sl"
      },
      "source": [
        "### (1 балл) Считайте данные\n",
        "Сами считайте и предобработайте, если надо, данные из файла creditcard.csv"
      ]
    },
    {
      "cell_type": "code",
      "metadata": {
        "id": "_LBOQzcS32sm"
      },
      "source": [
        "import pandas as pd\n",
        "from matplotlib import pyplot as plt\n",
        "import seaborn as sns\n",
        "import numpy as np\n",
        "import plotly.express as px"
      ],
      "execution_count": null,
      "outputs": []
    },
    {
      "cell_type": "code",
      "metadata": {
        "id": "TRDATNtO32sv",
        "colab": {
          "base_uri": "https://localhost:8080/"
        },
        "outputId": "95c5ea21-d8db-469d-b4db-b26e322b877a"
      },
      "source": [
        "from google.colab import drive \n",
        "drive.mount('/content/drive')"
      ],
      "execution_count": null,
      "outputs": [
        {
          "output_type": "stream",
          "name": "stdout",
          "text": [
            "Mounted at /content/drive\n"
          ]
        }
      ]
    },
    {
      "cell_type": "code",
      "metadata": {
        "colab": {
          "base_uri": "https://localhost:8080/"
        },
        "id": "8FeTkloVHCPQ",
        "outputId": "7847d1d7-15fd-41a8-e0c7-f96b93b3f7a6"
      },
      "source": [
        "!ls drive/MyDrive/homeworks/"
      ],
      "execution_count": null,
      "outputs": [
        {
          "output_type": "stream",
          "name": "stdout",
          "text": [
            " creditcard.csv  'Task 2 NumPy.ipynb'  'Task 2 Pandas.ipynb'  'Task 4.ipynb'\n"
          ]
        }
      ]
    },
    {
      "cell_type": "code",
      "metadata": {
        "id": "np7Y3D-YGweu"
      },
      "source": [
        "df = pd.read_csv('drive/MyDrive/homeworks/creditcard.csv')"
      ],
      "execution_count": null,
      "outputs": []
    },
    {
      "cell_type": "code",
      "metadata": {
        "colab": {
          "base_uri": "https://localhost:8080/",
          "height": 437
        },
        "id": "B8E6aUX0KK8Y",
        "outputId": "9d294d6c-29ff-4662-e7f8-e8ab1af27690"
      },
      "source": [
        "df"
      ],
      "execution_count": null,
      "outputs": [
        {
          "output_type": "execute_result",
          "data": {
            "text/html": [
              "<div>\n",
              "<style scoped>\n",
              "    .dataframe tbody tr th:only-of-type {\n",
              "        vertical-align: middle;\n",
              "    }\n",
              "\n",
              "    .dataframe tbody tr th {\n",
              "        vertical-align: top;\n",
              "    }\n",
              "\n",
              "    .dataframe thead th {\n",
              "        text-align: right;\n",
              "    }\n",
              "</style>\n",
              "<table border=\"1\" class=\"dataframe\">\n",
              "  <thead>\n",
              "    <tr style=\"text-align: right;\">\n",
              "      <th></th>\n",
              "      <th>Time</th>\n",
              "      <th>V1</th>\n",
              "      <th>V2</th>\n",
              "      <th>V3</th>\n",
              "      <th>V4</th>\n",
              "      <th>V5</th>\n",
              "      <th>V6</th>\n",
              "      <th>V7</th>\n",
              "      <th>V8</th>\n",
              "      <th>V9</th>\n",
              "      <th>V10</th>\n",
              "      <th>V11</th>\n",
              "      <th>V12</th>\n",
              "      <th>V13</th>\n",
              "      <th>V14</th>\n",
              "      <th>V15</th>\n",
              "      <th>V16</th>\n",
              "      <th>V17</th>\n",
              "      <th>V18</th>\n",
              "      <th>V19</th>\n",
              "      <th>V20</th>\n",
              "      <th>V21</th>\n",
              "      <th>V22</th>\n",
              "      <th>V23</th>\n",
              "      <th>V24</th>\n",
              "      <th>V25</th>\n",
              "      <th>V26</th>\n",
              "      <th>V27</th>\n",
              "      <th>V28</th>\n",
              "      <th>Amount</th>\n",
              "      <th>Class</th>\n",
              "    </tr>\n",
              "  </thead>\n",
              "  <tbody>\n",
              "    <tr>\n",
              "      <th>0</th>\n",
              "      <td>0.0</td>\n",
              "      <td>-1.359807</td>\n",
              "      <td>-0.072781</td>\n",
              "      <td>2.536347</td>\n",
              "      <td>1.378155</td>\n",
              "      <td>-0.338321</td>\n",
              "      <td>0.462388</td>\n",
              "      <td>0.239599</td>\n",
              "      <td>0.098698</td>\n",
              "      <td>0.363787</td>\n",
              "      <td>0.090794</td>\n",
              "      <td>-0.551600</td>\n",
              "      <td>-0.617801</td>\n",
              "      <td>-0.991390</td>\n",
              "      <td>-0.311169</td>\n",
              "      <td>1.468177</td>\n",
              "      <td>-0.470401</td>\n",
              "      <td>0.207971</td>\n",
              "      <td>0.025791</td>\n",
              "      <td>0.403993</td>\n",
              "      <td>0.251412</td>\n",
              "      <td>-0.018307</td>\n",
              "      <td>0.277838</td>\n",
              "      <td>-0.110474</td>\n",
              "      <td>0.066928</td>\n",
              "      <td>0.128539</td>\n",
              "      <td>-0.189115</td>\n",
              "      <td>0.133558</td>\n",
              "      <td>-0.021053</td>\n",
              "      <td>149.62</td>\n",
              "      <td>0</td>\n",
              "    </tr>\n",
              "    <tr>\n",
              "      <th>1</th>\n",
              "      <td>0.0</td>\n",
              "      <td>1.191857</td>\n",
              "      <td>0.266151</td>\n",
              "      <td>0.166480</td>\n",
              "      <td>0.448154</td>\n",
              "      <td>0.060018</td>\n",
              "      <td>-0.082361</td>\n",
              "      <td>-0.078803</td>\n",
              "      <td>0.085102</td>\n",
              "      <td>-0.255425</td>\n",
              "      <td>-0.166974</td>\n",
              "      <td>1.612727</td>\n",
              "      <td>1.065235</td>\n",
              "      <td>0.489095</td>\n",
              "      <td>-0.143772</td>\n",
              "      <td>0.635558</td>\n",
              "      <td>0.463917</td>\n",
              "      <td>-0.114805</td>\n",
              "      <td>-0.183361</td>\n",
              "      <td>-0.145783</td>\n",
              "      <td>-0.069083</td>\n",
              "      <td>-0.225775</td>\n",
              "      <td>-0.638672</td>\n",
              "      <td>0.101288</td>\n",
              "      <td>-0.339846</td>\n",
              "      <td>0.167170</td>\n",
              "      <td>0.125895</td>\n",
              "      <td>-0.008983</td>\n",
              "      <td>0.014724</td>\n",
              "      <td>2.69</td>\n",
              "      <td>0</td>\n",
              "    </tr>\n",
              "    <tr>\n",
              "      <th>2</th>\n",
              "      <td>1.0</td>\n",
              "      <td>-1.358354</td>\n",
              "      <td>-1.340163</td>\n",
              "      <td>1.773209</td>\n",
              "      <td>0.379780</td>\n",
              "      <td>-0.503198</td>\n",
              "      <td>1.800499</td>\n",
              "      <td>0.791461</td>\n",
              "      <td>0.247676</td>\n",
              "      <td>-1.514654</td>\n",
              "      <td>0.207643</td>\n",
              "      <td>0.624501</td>\n",
              "      <td>0.066084</td>\n",
              "      <td>0.717293</td>\n",
              "      <td>-0.165946</td>\n",
              "      <td>2.345865</td>\n",
              "      <td>-2.890083</td>\n",
              "      <td>1.109969</td>\n",
              "      <td>-0.121359</td>\n",
              "      <td>-2.261857</td>\n",
              "      <td>0.524980</td>\n",
              "      <td>0.247998</td>\n",
              "      <td>0.771679</td>\n",
              "      <td>0.909412</td>\n",
              "      <td>-0.689281</td>\n",
              "      <td>-0.327642</td>\n",
              "      <td>-0.139097</td>\n",
              "      <td>-0.055353</td>\n",
              "      <td>-0.059752</td>\n",
              "      <td>378.66</td>\n",
              "      <td>0</td>\n",
              "    </tr>\n",
              "    <tr>\n",
              "      <th>3</th>\n",
              "      <td>1.0</td>\n",
              "      <td>-0.966272</td>\n",
              "      <td>-0.185226</td>\n",
              "      <td>1.792993</td>\n",
              "      <td>-0.863291</td>\n",
              "      <td>-0.010309</td>\n",
              "      <td>1.247203</td>\n",
              "      <td>0.237609</td>\n",
              "      <td>0.377436</td>\n",
              "      <td>-1.387024</td>\n",
              "      <td>-0.054952</td>\n",
              "      <td>-0.226487</td>\n",
              "      <td>0.178228</td>\n",
              "      <td>0.507757</td>\n",
              "      <td>-0.287924</td>\n",
              "      <td>-0.631418</td>\n",
              "      <td>-1.059647</td>\n",
              "      <td>-0.684093</td>\n",
              "      <td>1.965775</td>\n",
              "      <td>-1.232622</td>\n",
              "      <td>-0.208038</td>\n",
              "      <td>-0.108300</td>\n",
              "      <td>0.005274</td>\n",
              "      <td>-0.190321</td>\n",
              "      <td>-1.175575</td>\n",
              "      <td>0.647376</td>\n",
              "      <td>-0.221929</td>\n",
              "      <td>0.062723</td>\n",
              "      <td>0.061458</td>\n",
              "      <td>123.50</td>\n",
              "      <td>0</td>\n",
              "    </tr>\n",
              "    <tr>\n",
              "      <th>4</th>\n",
              "      <td>2.0</td>\n",
              "      <td>-1.158233</td>\n",
              "      <td>0.877737</td>\n",
              "      <td>1.548718</td>\n",
              "      <td>0.403034</td>\n",
              "      <td>-0.407193</td>\n",
              "      <td>0.095921</td>\n",
              "      <td>0.592941</td>\n",
              "      <td>-0.270533</td>\n",
              "      <td>0.817739</td>\n",
              "      <td>0.753074</td>\n",
              "      <td>-0.822843</td>\n",
              "      <td>0.538196</td>\n",
              "      <td>1.345852</td>\n",
              "      <td>-1.119670</td>\n",
              "      <td>0.175121</td>\n",
              "      <td>-0.451449</td>\n",
              "      <td>-0.237033</td>\n",
              "      <td>-0.038195</td>\n",
              "      <td>0.803487</td>\n",
              "      <td>0.408542</td>\n",
              "      <td>-0.009431</td>\n",
              "      <td>0.798278</td>\n",
              "      <td>-0.137458</td>\n",
              "      <td>0.141267</td>\n",
              "      <td>-0.206010</td>\n",
              "      <td>0.502292</td>\n",
              "      <td>0.219422</td>\n",
              "      <td>0.215153</td>\n",
              "      <td>69.99</td>\n",
              "      <td>0</td>\n",
              "    </tr>\n",
              "    <tr>\n",
              "      <th>...</th>\n",
              "      <td>...</td>\n",
              "      <td>...</td>\n",
              "      <td>...</td>\n",
              "      <td>...</td>\n",
              "      <td>...</td>\n",
              "      <td>...</td>\n",
              "      <td>...</td>\n",
              "      <td>...</td>\n",
              "      <td>...</td>\n",
              "      <td>...</td>\n",
              "      <td>...</td>\n",
              "      <td>...</td>\n",
              "      <td>...</td>\n",
              "      <td>...</td>\n",
              "      <td>...</td>\n",
              "      <td>...</td>\n",
              "      <td>...</td>\n",
              "      <td>...</td>\n",
              "      <td>...</td>\n",
              "      <td>...</td>\n",
              "      <td>...</td>\n",
              "      <td>...</td>\n",
              "      <td>...</td>\n",
              "      <td>...</td>\n",
              "      <td>...</td>\n",
              "      <td>...</td>\n",
              "      <td>...</td>\n",
              "      <td>...</td>\n",
              "      <td>...</td>\n",
              "      <td>...</td>\n",
              "      <td>...</td>\n",
              "    </tr>\n",
              "    <tr>\n",
              "      <th>284802</th>\n",
              "      <td>172786.0</td>\n",
              "      <td>-11.881118</td>\n",
              "      <td>10.071785</td>\n",
              "      <td>-9.834783</td>\n",
              "      <td>-2.066656</td>\n",
              "      <td>-5.364473</td>\n",
              "      <td>-2.606837</td>\n",
              "      <td>-4.918215</td>\n",
              "      <td>7.305334</td>\n",
              "      <td>1.914428</td>\n",
              "      <td>4.356170</td>\n",
              "      <td>-1.593105</td>\n",
              "      <td>2.711941</td>\n",
              "      <td>-0.689256</td>\n",
              "      <td>4.626942</td>\n",
              "      <td>-0.924459</td>\n",
              "      <td>1.107641</td>\n",
              "      <td>1.991691</td>\n",
              "      <td>0.510632</td>\n",
              "      <td>-0.682920</td>\n",
              "      <td>1.475829</td>\n",
              "      <td>0.213454</td>\n",
              "      <td>0.111864</td>\n",
              "      <td>1.014480</td>\n",
              "      <td>-0.509348</td>\n",
              "      <td>1.436807</td>\n",
              "      <td>0.250034</td>\n",
              "      <td>0.943651</td>\n",
              "      <td>0.823731</td>\n",
              "      <td>0.77</td>\n",
              "      <td>0</td>\n",
              "    </tr>\n",
              "    <tr>\n",
              "      <th>284803</th>\n",
              "      <td>172787.0</td>\n",
              "      <td>-0.732789</td>\n",
              "      <td>-0.055080</td>\n",
              "      <td>2.035030</td>\n",
              "      <td>-0.738589</td>\n",
              "      <td>0.868229</td>\n",
              "      <td>1.058415</td>\n",
              "      <td>0.024330</td>\n",
              "      <td>0.294869</td>\n",
              "      <td>0.584800</td>\n",
              "      <td>-0.975926</td>\n",
              "      <td>-0.150189</td>\n",
              "      <td>0.915802</td>\n",
              "      <td>1.214756</td>\n",
              "      <td>-0.675143</td>\n",
              "      <td>1.164931</td>\n",
              "      <td>-0.711757</td>\n",
              "      <td>-0.025693</td>\n",
              "      <td>-1.221179</td>\n",
              "      <td>-1.545556</td>\n",
              "      <td>0.059616</td>\n",
              "      <td>0.214205</td>\n",
              "      <td>0.924384</td>\n",
              "      <td>0.012463</td>\n",
              "      <td>-1.016226</td>\n",
              "      <td>-0.606624</td>\n",
              "      <td>-0.395255</td>\n",
              "      <td>0.068472</td>\n",
              "      <td>-0.053527</td>\n",
              "      <td>24.79</td>\n",
              "      <td>0</td>\n",
              "    </tr>\n",
              "    <tr>\n",
              "      <th>284804</th>\n",
              "      <td>172788.0</td>\n",
              "      <td>1.919565</td>\n",
              "      <td>-0.301254</td>\n",
              "      <td>-3.249640</td>\n",
              "      <td>-0.557828</td>\n",
              "      <td>2.630515</td>\n",
              "      <td>3.031260</td>\n",
              "      <td>-0.296827</td>\n",
              "      <td>0.708417</td>\n",
              "      <td>0.432454</td>\n",
              "      <td>-0.484782</td>\n",
              "      <td>0.411614</td>\n",
              "      <td>0.063119</td>\n",
              "      <td>-0.183699</td>\n",
              "      <td>-0.510602</td>\n",
              "      <td>1.329284</td>\n",
              "      <td>0.140716</td>\n",
              "      <td>0.313502</td>\n",
              "      <td>0.395652</td>\n",
              "      <td>-0.577252</td>\n",
              "      <td>0.001396</td>\n",
              "      <td>0.232045</td>\n",
              "      <td>0.578229</td>\n",
              "      <td>-0.037501</td>\n",
              "      <td>0.640134</td>\n",
              "      <td>0.265745</td>\n",
              "      <td>-0.087371</td>\n",
              "      <td>0.004455</td>\n",
              "      <td>-0.026561</td>\n",
              "      <td>67.88</td>\n",
              "      <td>0</td>\n",
              "    </tr>\n",
              "    <tr>\n",
              "      <th>284805</th>\n",
              "      <td>172788.0</td>\n",
              "      <td>-0.240440</td>\n",
              "      <td>0.530483</td>\n",
              "      <td>0.702510</td>\n",
              "      <td>0.689799</td>\n",
              "      <td>-0.377961</td>\n",
              "      <td>0.623708</td>\n",
              "      <td>-0.686180</td>\n",
              "      <td>0.679145</td>\n",
              "      <td>0.392087</td>\n",
              "      <td>-0.399126</td>\n",
              "      <td>-1.933849</td>\n",
              "      <td>-0.962886</td>\n",
              "      <td>-1.042082</td>\n",
              "      <td>0.449624</td>\n",
              "      <td>1.962563</td>\n",
              "      <td>-0.608577</td>\n",
              "      <td>0.509928</td>\n",
              "      <td>1.113981</td>\n",
              "      <td>2.897849</td>\n",
              "      <td>0.127434</td>\n",
              "      <td>0.265245</td>\n",
              "      <td>0.800049</td>\n",
              "      <td>-0.163298</td>\n",
              "      <td>0.123205</td>\n",
              "      <td>-0.569159</td>\n",
              "      <td>0.546668</td>\n",
              "      <td>0.108821</td>\n",
              "      <td>0.104533</td>\n",
              "      <td>10.00</td>\n",
              "      <td>0</td>\n",
              "    </tr>\n",
              "    <tr>\n",
              "      <th>284806</th>\n",
              "      <td>172792.0</td>\n",
              "      <td>-0.533413</td>\n",
              "      <td>-0.189733</td>\n",
              "      <td>0.703337</td>\n",
              "      <td>-0.506271</td>\n",
              "      <td>-0.012546</td>\n",
              "      <td>-0.649617</td>\n",
              "      <td>1.577006</td>\n",
              "      <td>-0.414650</td>\n",
              "      <td>0.486180</td>\n",
              "      <td>-0.915427</td>\n",
              "      <td>-1.040458</td>\n",
              "      <td>-0.031513</td>\n",
              "      <td>-0.188093</td>\n",
              "      <td>-0.084316</td>\n",
              "      <td>0.041333</td>\n",
              "      <td>-0.302620</td>\n",
              "      <td>-0.660377</td>\n",
              "      <td>0.167430</td>\n",
              "      <td>-0.256117</td>\n",
              "      <td>0.382948</td>\n",
              "      <td>0.261057</td>\n",
              "      <td>0.643078</td>\n",
              "      <td>0.376777</td>\n",
              "      <td>0.008797</td>\n",
              "      <td>-0.473649</td>\n",
              "      <td>-0.818267</td>\n",
              "      <td>-0.002415</td>\n",
              "      <td>0.013649</td>\n",
              "      <td>217.00</td>\n",
              "      <td>0</td>\n",
              "    </tr>\n",
              "  </tbody>\n",
              "</table>\n",
              "<p>284807 rows × 31 columns</p>\n",
              "</div>"
            ],
            "text/plain": [
              "            Time         V1         V2  ...       V28  Amount  Class\n",
              "0            0.0  -1.359807  -0.072781  ... -0.021053  149.62      0\n",
              "1            0.0   1.191857   0.266151  ...  0.014724    2.69      0\n",
              "2            1.0  -1.358354  -1.340163  ... -0.059752  378.66      0\n",
              "3            1.0  -0.966272  -0.185226  ...  0.061458  123.50      0\n",
              "4            2.0  -1.158233   0.877737  ...  0.215153   69.99      0\n",
              "...          ...        ...        ...  ...       ...     ...    ...\n",
              "284802  172786.0 -11.881118  10.071785  ...  0.823731    0.77      0\n",
              "284803  172787.0  -0.732789  -0.055080  ... -0.053527   24.79      0\n",
              "284804  172788.0   1.919565  -0.301254  ... -0.026561   67.88      0\n",
              "284805  172788.0  -0.240440   0.530483  ...  0.104533   10.00      0\n",
              "284806  172792.0  -0.533413  -0.189733  ...  0.013649  217.00      0\n",
              "\n",
              "[284807 rows x 31 columns]"
            ]
          },
          "metadata": {},
          "execution_count": 5
        }
      ]
    },
    {
      "cell_type": "code",
      "metadata": {
        "colab": {
          "base_uri": "https://localhost:8080/"
        },
        "id": "0b8xu5HcIv1t",
        "outputId": "23a2612d-d669-4298-d738-1de0bc45ef95"
      },
      "source": [
        "df.info()"
      ],
      "execution_count": null,
      "outputs": [
        {
          "output_type": "stream",
          "name": "stdout",
          "text": [
            "<class 'pandas.core.frame.DataFrame'>\n",
            "RangeIndex: 284807 entries, 0 to 284806\n",
            "Data columns (total 31 columns):\n",
            " #   Column  Non-Null Count   Dtype  \n",
            "---  ------  --------------   -----  \n",
            " 0   Time    284807 non-null  float64\n",
            " 1   V1      284807 non-null  float64\n",
            " 2   V2      284807 non-null  float64\n",
            " 3   V3      284807 non-null  float64\n",
            " 4   V4      284807 non-null  float64\n",
            " 5   V5      284807 non-null  float64\n",
            " 6   V6      284807 non-null  float64\n",
            " 7   V7      284807 non-null  float64\n",
            " 8   V8      284807 non-null  float64\n",
            " 9   V9      284807 non-null  float64\n",
            " 10  V10     284807 non-null  float64\n",
            " 11  V11     284807 non-null  float64\n",
            " 12  V12     284807 non-null  float64\n",
            " 13  V13     284807 non-null  float64\n",
            " 14  V14     284807 non-null  float64\n",
            " 15  V15     284807 non-null  float64\n",
            " 16  V16     284807 non-null  float64\n",
            " 17  V17     284807 non-null  float64\n",
            " 18  V18     284807 non-null  float64\n",
            " 19  V19     284807 non-null  float64\n",
            " 20  V20     284807 non-null  float64\n",
            " 21  V21     284807 non-null  float64\n",
            " 22  V22     284807 non-null  float64\n",
            " 23  V23     284807 non-null  float64\n",
            " 24  V24     284807 non-null  float64\n",
            " 25  V25     284807 non-null  float64\n",
            " 26  V26     284807 non-null  float64\n",
            " 27  V27     284807 non-null  float64\n",
            " 28  V28     284807 non-null  float64\n",
            " 29  Amount  284807 non-null  float64\n",
            " 30  Class   284807 non-null  int64  \n",
            "dtypes: float64(30), int64(1)\n",
            "memory usage: 67.4 MB\n"
          ]
        }
      ]
    },
    {
      "cell_type": "code",
      "metadata": {
        "colab": {
          "base_uri": "https://localhost:8080/"
        },
        "id": "OEqybJ1fNpqi",
        "outputId": "3176b464-59fa-4e57-8736-5eab58875857"
      },
      "source": [
        "df.isna().any().sum(axis=0)"
      ],
      "execution_count": null,
      "outputs": [
        {
          "output_type": "execute_result",
          "data": {
            "text/plain": [
              "0"
            ]
          },
          "metadata": {},
          "execution_count": 7
        }
      ]
    },
    {
      "cell_type": "markdown",
      "metadata": {
        "id": "bIAyIgCKK94R"
      },
      "source": [
        "Мы видим, что все признаки количественные и пропусков в данных нет"
      ]
    },
    {
      "cell_type": "code",
      "metadata": {
        "id": "Oo6106s_PB4f"
      },
      "source": [
        "from sklearn.metrics import accuracy_score, precision_score, recall_score\n",
        "from sklearn.linear_model import LogisticRegression\n",
        "from sklearn.model_selection import train_test_split, cross_val_score"
      ],
      "execution_count": null,
      "outputs": []
    },
    {
      "cell_type": "code",
      "metadata": {
        "id": "5wa3dIzBP3yZ"
      },
      "source": [
        "X = df.drop('Class', axis=1)\n",
        "y = df['Class']"
      ],
      "execution_count": null,
      "outputs": []
    },
    {
      "cell_type": "code",
      "metadata": {
        "id": "hyJm632FP-cF"
      },
      "source": [
        "X_train, X_test, y_train, y_test = train_test_split(X, y, test_size=0.3, random_state=42)"
      ],
      "execution_count": null,
      "outputs": []
    },
    {
      "cell_type": "code",
      "metadata": {
        "colab": {
          "base_uri": "https://localhost:8080/"
        },
        "id": "QUB4SQXSPcnx",
        "outputId": "592fc627-1256-4a58-d3fa-bd28c72c9bd7"
      },
      "source": [
        "log_reg = LogisticRegression()\n",
        "log_reg.fit(X_train, y_train)"
      ],
      "execution_count": null,
      "outputs": [
        {
          "output_type": "stream",
          "name": "stderr",
          "text": [
            "/usr/local/lib/python3.7/dist-packages/sklearn/linear_model/_logistic.py:818: ConvergenceWarning:\n",
            "\n",
            "lbfgs failed to converge (status=1):\n",
            "STOP: TOTAL NO. of ITERATIONS REACHED LIMIT.\n",
            "\n",
            "Increase the number of iterations (max_iter) or scale the data as shown in:\n",
            "    https://scikit-learn.org/stable/modules/preprocessing.html\n",
            "Please also refer to the documentation for alternative solver options:\n",
            "    https://scikit-learn.org/stable/modules/linear_model.html#logistic-regression\n",
            "\n"
          ]
        },
        {
          "output_type": "execute_result",
          "data": {
            "text/plain": [
              "LogisticRegression()"
            ]
          },
          "metadata": {},
          "execution_count": 11
        }
      ]
    },
    {
      "cell_type": "code",
      "metadata": {
        "colab": {
          "base_uri": "https://localhost:8080/"
        },
        "id": "YWPYx5UwQhDa",
        "outputId": "9f2c2ea9-5ba5-4ea8-f695-26e6530e8be7"
      },
      "source": [
        "y_pred_log_reg = log_reg.predict(X_test)\n",
        "np.mean(cross_val_score(log_reg, X, y, cv=5, scoring='accuracy'))"
      ],
      "execution_count": null,
      "outputs": [
        {
          "output_type": "stream",
          "name": "stderr",
          "text": [
            "/usr/local/lib/python3.7/dist-packages/sklearn/linear_model/_logistic.py:818: ConvergenceWarning:\n",
            "\n",
            "lbfgs failed to converge (status=1):\n",
            "STOP: TOTAL NO. of ITERATIONS REACHED LIMIT.\n",
            "\n",
            "Increase the number of iterations (max_iter) or scale the data as shown in:\n",
            "    https://scikit-learn.org/stable/modules/preprocessing.html\n",
            "Please also refer to the documentation for alternative solver options:\n",
            "    https://scikit-learn.org/stable/modules/linear_model.html#logistic-regression\n",
            "\n",
            "/usr/local/lib/python3.7/dist-packages/sklearn/linear_model/_logistic.py:818: ConvergenceWarning:\n",
            "\n",
            "lbfgs failed to converge (status=1):\n",
            "STOP: TOTAL NO. of ITERATIONS REACHED LIMIT.\n",
            "\n",
            "Increase the number of iterations (max_iter) or scale the data as shown in:\n",
            "    https://scikit-learn.org/stable/modules/preprocessing.html\n",
            "Please also refer to the documentation for alternative solver options:\n",
            "    https://scikit-learn.org/stable/modules/linear_model.html#logistic-regression\n",
            "\n",
            "/usr/local/lib/python3.7/dist-packages/sklearn/linear_model/_logistic.py:818: ConvergenceWarning:\n",
            "\n",
            "lbfgs failed to converge (status=1):\n",
            "STOP: TOTAL NO. of ITERATIONS REACHED LIMIT.\n",
            "\n",
            "Increase the number of iterations (max_iter) or scale the data as shown in:\n",
            "    https://scikit-learn.org/stable/modules/preprocessing.html\n",
            "Please also refer to the documentation for alternative solver options:\n",
            "    https://scikit-learn.org/stable/modules/linear_model.html#logistic-regression\n",
            "\n",
            "/usr/local/lib/python3.7/dist-packages/sklearn/linear_model/_logistic.py:818: ConvergenceWarning:\n",
            "\n",
            "lbfgs failed to converge (status=1):\n",
            "STOP: TOTAL NO. of ITERATIONS REACHED LIMIT.\n",
            "\n",
            "Increase the number of iterations (max_iter) or scale the data as shown in:\n",
            "    https://scikit-learn.org/stable/modules/preprocessing.html\n",
            "Please also refer to the documentation for alternative solver options:\n",
            "    https://scikit-learn.org/stable/modules/linear_model.html#logistic-regression\n",
            "\n",
            "/usr/local/lib/python3.7/dist-packages/sklearn/linear_model/_logistic.py:818: ConvergenceWarning:\n",
            "\n",
            "lbfgs failed to converge (status=1):\n",
            "STOP: TOTAL NO. of ITERATIONS REACHED LIMIT.\n",
            "\n",
            "Increase the number of iterations (max_iter) or scale the data as shown in:\n",
            "    https://scikit-learn.org/stable/modules/preprocessing.html\n",
            "Please also refer to the documentation for alternative solver options:\n",
            "    https://scikit-learn.org/stable/modules/linear_model.html#logistic-regression\n",
            "\n"
          ]
        },
        {
          "output_type": "execute_result",
          "data": {
            "text/plain": [
              "0.9970260764101937"
            ]
          },
          "metadata": {},
          "execution_count": 12
        }
      ]
    },
    {
      "cell_type": "code",
      "metadata": {
        "id": "RiWOWAK6RW5t"
      },
      "source": [
        "from sklearn.preprocessing import StandardScaler, MinMaxScaler"
      ],
      "execution_count": null,
      "outputs": []
    },
    {
      "cell_type": "code",
      "metadata": {
        "colab": {
          "base_uri": "https://localhost:8080/"
        },
        "id": "CmU-hNxMRhOn",
        "outputId": "1ec6d2bf-67b0-4499-c11d-ee32505526e8"
      },
      "source": [
        "X = StandardScaler().fit_transform(X)\n",
        "np.mean(cross_val_score(log_reg, X, y, cv=5, scoring='accuracy'))"
      ],
      "execution_count": null,
      "outputs": [
        {
          "output_type": "execute_result",
          "data": {
            "text/plain": [
              "0.999139768026079"
            ]
          },
          "metadata": {},
          "execution_count": 14
        }
      ]
    },
    {
      "cell_type": "code",
      "metadata": {
        "colab": {
          "base_uri": "https://localhost:8080/"
        },
        "id": "HF26KNOuRtIL",
        "outputId": "6e8cc79a-d1d8-4a0c-9f57-bc0524e49d69"
      },
      "source": [
        "X = MinMaxScaler().fit_transform(X)\n",
        "np.mean(cross_val_score(log_reg, X, y, cv=5, scoring='accuracy'))"
      ],
      "execution_count": null,
      "outputs": [
        {
          "output_type": "stream",
          "name": "stderr",
          "text": [
            "/usr/local/lib/python3.7/dist-packages/sklearn/linear_model/_logistic.py:818: ConvergenceWarning:\n",
            "\n",
            "lbfgs failed to converge (status=1):\n",
            "STOP: TOTAL NO. of ITERATIONS REACHED LIMIT.\n",
            "\n",
            "Increase the number of iterations (max_iter) or scale the data as shown in:\n",
            "    https://scikit-learn.org/stable/modules/preprocessing.html\n",
            "Please also refer to the documentation for alternative solver options:\n",
            "    https://scikit-learn.org/stable/modules/linear_model.html#logistic-regression\n",
            "\n"
          ]
        },
        {
          "output_type": "execute_result",
          "data": {
            "text/plain": [
              "0.9990028329675888"
            ]
          },
          "metadata": {},
          "execution_count": 15
        }
      ]
    },
    {
      "cell_type": "markdown",
      "metadata": {
        "id": "LzEzTZQJTYZ7"
      },
      "source": [
        "После z-стандартизации не возникает варнингов и результат на кросс-валидации лучше, оставим его!"
      ]
    },
    {
      "cell_type": "code",
      "metadata": {
        "id": "dCnrgyiETpGb"
      },
      "source": [
        "X = StandardScaler().fit_transform(X)"
      ],
      "execution_count": null,
      "outputs": []
    },
    {
      "cell_type": "markdown",
      "metadata": {
        "id": "7qdLJBqY32sw"
      },
      "source": [
        "### (2 балла) Обучите несколько моделей, посмотрите на метрики.\n",
        "Как модели точно возьмите LogisticRegression, KNN и константу, можете придумать еще какие-нибудь.\n",
        "\n",
        "Как метрики точно возьмите accuracy, precision, recall, f1, roc_auc. Постройте ROC-кривую."
      ]
    },
    {
      "cell_type": "code",
      "metadata": {
        "colab": {
          "base_uri": "https://localhost:8080/"
        },
        "id": "NjJJgFyQJmq8",
        "outputId": "40e9c257-d09d-47e8-9cfb-59d27640f1de"
      },
      "source": [
        "from collections import Counter\n",
        "Counter(df['Class'])"
      ],
      "execution_count": null,
      "outputs": [
        {
          "output_type": "execute_result",
          "data": {
            "text/plain": [
              "Counter({0: 284315, 1: 492})"
            ]
          },
          "metadata": {},
          "execution_count": 17
        }
      ]
    },
    {
      "cell_type": "code",
      "metadata": {
        "id": "mfSL7Ncy32sy",
        "colab": {
          "base_uri": "https://localhost:8080/"
        },
        "outputId": "8660a60a-96e0-4712-b912-c192ad10ff37"
      },
      "source": [
        "from sklearn.neighbors import KNeighborsClassifier\n",
        "knn = KNeighborsClassifier(n_neighbors=5)\n",
        "knn.fit(X_train, y_train)\n",
        "y_pred_knn = knn.predict(X_test)\n",
        "y_pred_proba_knn = knn.predict_proba(X_test)\n",
        "y_pred_proba_knn"
      ],
      "execution_count": null,
      "outputs": [
        {
          "output_type": "execute_result",
          "data": {
            "text/plain": [
              "array([[1., 0.],\n",
              "       [1., 0.],\n",
              "       [1., 0.],\n",
              "       ...,\n",
              "       [1., 0.],\n",
              "       [1., 0.],\n",
              "       [1., 0.]])"
            ]
          },
          "metadata": {},
          "execution_count": 33
        }
      ]
    },
    {
      "cell_type": "code",
      "metadata": {
        "id": "GxKGMZ8UzBfz"
      },
      "source": [
        "y_pred_proba_knn = y_pred_proba_knn[:, 1]"
      ],
      "execution_count": null,
      "outputs": []
    },
    {
      "cell_type": "code",
      "metadata": {
        "id": "ybVViO8znqZ7"
      },
      "source": [
        "log_reg.fit(X_train, y_train)\n",
        "y_pred_log_reg = log_reg.predict(X_test)\n",
        "y_pred_proba_log_reg = log_reg.predict_proba(X_test)[:, 1]"
      ],
      "execution_count": null,
      "outputs": []
    },
    {
      "cell_type": "code",
      "metadata": {
        "id": "CXwuKN5ToLsH"
      },
      "source": [
        "y_pred_const = np.zeros(len(y_test))\n",
        "y_pred_proba_const = y_pred_const"
      ],
      "execution_count": null,
      "outputs": []
    },
    {
      "cell_type": "code",
      "metadata": {
        "id": "UcKfBWxLpGPU"
      },
      "source": [
        "from sklearn.metrics import accuracy_score, precision_score, recall_score, f1_score, roc_auc_score"
      ],
      "execution_count": null,
      "outputs": []
    },
    {
      "cell_type": "code",
      "metadata": {
        "colab": {
          "base_uri": "https://localhost:8080/"
        },
        "id": "d7_soBy-pW57",
        "outputId": "e39970d0-585d-4e97-ff8b-563f738123fd"
      },
      "source": [
        "print('accuracy on log reg:', accuracy_score(y_test, y_pred_log_reg))\n",
        "print('accuracy on knn:', accuracy_score(y_test, y_pred_knn))\n",
        "print('accuracy on const:', accuracy_score(y_test, y_pred_const))"
      ],
      "execution_count": null,
      "outputs": [
        {
          "output_type": "stream",
          "name": "stdout",
          "text": [
            "accuracy on log reg: 0.999180739006855\n",
            "accuracy on knn: 0.99946497241264\n",
            "accuracy on const: 0.9979936465474001\n"
          ]
        }
      ]
    },
    {
      "cell_type": "code",
      "metadata": {
        "colab": {
          "base_uri": "https://localhost:8080/"
        },
        "id": "20DXa4-dq7Hi",
        "outputId": "3a21353d-0f1e-4831-d5c6-1aae06eb959c"
      },
      "source": [
        "print('precision on log reg:', precision_score(y_test, y_pred_log_reg))\n",
        "print('precision on knn:', precision_score(y_test, y_pred_knn))\n",
        "print('precision on const:', precision_score(y_test, y_pred_const))"
      ],
      "execution_count": null,
      "outputs": [
        {
          "output_type": "stream",
          "name": "stdout",
          "text": [
            "precision on log reg: 0.9080459770114943\n",
            "precision on knn: 0.9583333333333334\n",
            "precision on const: 0.0\n"
          ]
        },
        {
          "output_type": "stream",
          "name": "stderr",
          "text": [
            "/usr/local/lib/python3.7/dist-packages/sklearn/metrics/_classification.py:1308: UndefinedMetricWarning:\n",
            "\n",
            "Precision is ill-defined and being set to 0.0 due to no predicted samples. Use `zero_division` parameter to control this behavior.\n",
            "\n"
          ]
        }
      ]
    },
    {
      "cell_type": "code",
      "metadata": {
        "colab": {
          "base_uri": "https://localhost:8080/"
        },
        "id": "6V7a8zIbq7WS",
        "outputId": "d8102af3-ff8c-4b55-a29c-595d543af883"
      },
      "source": [
        "print('recall on log reg:', recall_score(y_test, y_pred_log_reg))\n",
        "print('recall on knn:', recall_score(y_test, y_pred_knn))\n",
        "print('recall on const:', recall_score(y_test, y_pred_const))"
      ],
      "execution_count": null,
      "outputs": [
        {
          "output_type": "stream",
          "name": "stdout",
          "text": [
            "recall on log reg: 0.6583333333333333\n",
            "recall on knn: 0.7666666666666667\n",
            "recall on const: 0.0\n"
          ]
        }
      ]
    },
    {
      "cell_type": "code",
      "metadata": {
        "colab": {
          "base_uri": "https://localhost:8080/"
        },
        "id": "p9clvM2sq8u6",
        "outputId": "3acf6cea-485f-43e6-de9b-38ad12d4c064"
      },
      "source": [
        "print('f1 on log reg:', f1_score(y_test, y_pred_log_reg))\n",
        "print('f1 on knn:', f1_score(y_test, y_pred_knn))\n",
        "print('f1 on const:', f1_score(y_test, y_pred_const))"
      ],
      "execution_count": null,
      "outputs": [
        {
          "output_type": "stream",
          "name": "stdout",
          "text": [
            "f1 on log reg: 0.7632850241545893\n",
            "f1 on knn: 0.8518518518518519\n",
            "f1 on const: 0.0\n"
          ]
        }
      ]
    },
    {
      "cell_type": "code",
      "metadata": {
        "colab": {
          "base_uri": "https://localhost:8080/"
        },
        "id": "DXUxjb22q81d",
        "outputId": "10e4d618-42ad-4a54-f79e-eb8c5f48a3fc"
      },
      "source": [
        "print('roc auc on log reg:', roc_auc_score(y_test, y_pred_proba_log_reg))\n",
        "print('roc auc on knn:', roc_auc_score(y_test, y_pred_proba_knn))\n",
        "print('roc auc on const:', roc_auc_score(y_test, y_pred_proba_const))"
      ],
      "execution_count": null,
      "outputs": [
        {
          "output_type": "stream",
          "name": "stdout",
          "text": [
            "roc auc on log reg: 0.9743744066566147\n",
            "roc auc on knn: 0.9373740715921147\n",
            "roc auc on const: 0.5\n"
          ]
        }
      ]
    },
    {
      "cell_type": "code",
      "metadata": {
        "id": "A6sTkqp6zI7P",
        "colab": {
          "base_uri": "https://localhost:8080/",
          "height": 458
        },
        "outputId": "aaeaa160-7a20-444a-8f19-d06787b1a689"
      },
      "source": [
        "from sklearn.metrics import roc_curve\n",
        "plt.figure(figsize=(7, 7))\n",
        "for y_pred_proba in (y_pred_proba_log_reg, y_pred_proba_knn, y_pred_proba_const):\n",
        "    fpr, tpr, threshholds = roc_curve(y_test, y_pred_proba)\n",
        "    plt.plot(fpr, tpr, linewidth=3)\n",
        "plt.plot([0, 1], [0, 1], 'k--')\n",
        "plt.plot([0, 0], [0, 1], 'k')\n",
        "plt.plot([0, 1], [0, 0], 'k')\n",
        "plt.plot([0, 1], [1, 1], 'k')\n",
        "plt.plot([1, 1], [1, 0], 'k')\n",
        "plt.xlabel('False positive rate')\n",
        "plt.ylabel('True positive rate')\n",
        "plt.title('ROC Curve')\n",
        "plt.xlim((0, 1))\n",
        "plt.ylim((0, 1))\n",
        "plt.axis('equal')\n",
        "plt.show()\n"
      ],
      "execution_count": null,
      "outputs": [
        {
          "output_type": "display_data",
          "data": {
            "image/png": "[encoded data removed]",
            "text/plain": [
              "<Figure size 504x504 with 1 Axes>"
            ]
          },
          "metadata": {
            "needs_background": "light"
          }
        }
      ]
    },
    {
      "cell_type": "markdown",
      "metadata": {
        "id": "-8NvJclhD1wT"
      },
      "source": [
        "Мы видим довольно высокий accuracy на константе, что говорит нам о несбалансированности классов. На тестовой выборке accuracy получился выше у KNN, хотя разница не большая. Precision, recall, f1 тоже лучше у KNN. Однако вероятности с точки зрения порядка лучше предсказала логистическая регрессия, roc auc score у нее немного выше. Для модели, которая предсказывает константы,на этих метриках (кроме accuracy) все печально. "
      ]
    },
    {
      "cell_type": "markdown",
      "metadata": {
        "id": "yD2dg2w432s2"
      },
      "source": [
        "### (1 балл) Выберите одну метрику, которую вы будете максимизировать\n",
        "\n",
        "Представьте, что вы решаете задачу автоматического поиска мошеннических транзакций, чтобы ваш робот автоматически банил пользователей, который их осуществляют.\n",
        "\n",
        "Обоснуйте свой выбор."
      ]
    },
    {
      "cell_type": "markdown",
      "metadata": {
        "id": "ZGmS89HC0h53"
      },
      "source": [
        "Я считаю, что нужно выбрать метрику f1 score. Потому что, когда f1 score будет максимальным, и precision и recall будут на достойном уровне. Это будет говорить, что наша модель довольно точно и полно определяет мошеннические транзакции. Это важно, потому что недостаточно чего-то одного из них: если модель будет точно определять фроды, но при этом не находить многие из них - это плохо (много клиентов станет жертвами мошенничества, рискуем потерять клиентов), если модель будет полно определять фроды, но при этом много ошибаться - это тоже плохо (робот забанит много обычных клиентов, после этого мы тоже рискуем их потерять)"
      ]
    },
    {
      "cell_type": "markdown",
      "metadata": {
        "id": "mf0JEkXw32s8"
      },
      "source": [
        "### (2 балла) Переберите гиперпараметры разных моделей, попытайтесь добиться лучшего результата по этой метрике\n",
        "\n",
        "Постройте график для каждого перебора, сделайте красивый отчет (не надо просто говорить \"я решил выбрать 2, 0.7 и 6, так не пойдет\".\n",
        "\n",
        "Можно преобразовывать датасет, преобразовывать, добавлять, удалять фичи, всё что угодно.\n",
        "\n",
        "Отсутствие результата тоже результат (вдруг вы перебрали кучу вещей, а лучший все еще самый первый запуск, главное что перебрали)."
      ]
    },
    {
      "cell_type": "code",
      "metadata": {
        "id": "ToS-NWJ2aH9h"
      },
      "source": [
        "weight = y.shape[0] / y[y == 1].shape[0]\n",
        "recalls = []\n",
        "precisions = []\n",
        "f1s = []\n",
        "weights_of_one = range(1, 25)\n",
        "for w in weights_of_one:\n",
        "    log_reg = LogisticRegression(class_weight={0:1, 1:w})\n",
        "    f1 = np.mean(cross_val_score(log_reg, X, y, cv=5, scoring='f1'))\n",
        "    precision = np.mean(cross_val_score(log_reg, X, y, cv=5, scoring='precision'))\n",
        "    recall = np.mean(cross_val_score(log_reg, X, y, cv=5, scoring='recall'))\n",
        "    precisions.append(precision)\n",
        "    recalls.append(recall)\n",
        "    f1s.append(f1)"
      ],
      "execution_count": null,
      "outputs": []
    },
    {
      "cell_type": "code",
      "metadata": {
        "colab": {
          "base_uri": "https://localhost:8080/",
          "height": 279
        },
        "id": "y30gfmvzauFm",
        "outputId": "643ee63d-6094-437c-f0fb-0b34125e4731"
      },
      "source": [
        "plt.plot(weights_of_one, precisions)\n",
        "plt.plot(weights_of_one, recalls)\n",
        "plt.plot(weights_of_one, f1s)\n",
        "plt.xlabel('weight of one')\n",
        "plt.ylabel('scores')\n",
        "plt.legend(['precision', 'recall', 'f1 score'])\n",
        "plt.show()"
      ],
      "execution_count": null,
      "outputs": [
        {
          "output_type": "display_data",
          "data": {
            "image/png": "[encoded data removed]",
            "text/plain": [
              "<Figure size 432x288 with 1 Axes>"
            ]
          },
          "metadata": {
            "needs_background": "light"
          }
        }
      ]
    },
    {
      "cell_type": "code",
      "metadata": {
        "colab": {
          "base_uri": "https://localhost:8080/"
        },
        "id": "DmdquxQ4UmZn",
        "outputId": "26911447-bf7c-41d3-85e4-c03bebdf5a1c"
      },
      "source": [
        "f1s = np.array(f1s)\n",
        "weights_of_one[f1s.argmax()]"
      ],
      "execution_count": null,
      "outputs": [
        {
          "output_type": "execute_result",
          "data": {
            "text/plain": [
              "5"
            ]
          },
          "metadata": {},
          "execution_count": 208
        }
      ]
    },
    {
      "cell_type": "code",
      "metadata": {
        "colab": {
          "base_uri": "https://localhost:8080/"
        },
        "id": "IHF0kPYSVJfT",
        "outputId": "23ee594c-b770-4dbe-895e-11c8ea87ce76"
      },
      "source": [
        "precisions[4], recalls[4], f1s[4]"
      ],
      "execution_count": null,
      "outputs": [
        {
          "output_type": "execute_result",
          "data": {
            "text/plain": [
              "(0.8150984979927877, 0.7985190670122176, 0.805391963213139)"
            ]
          },
          "metadata": {},
          "execution_count": 215
        }
      ]
    },
    {
      "cell_type": "markdown",
      "metadata": {
        "id": "UDY7AHniToWM"
      },
      "source": [
        "Мы видим, что при весе класса 0 - 1, класса 1 - 5 получается наибольший f1 score. И при таком распорядке и precision, и recall имеют неплохие значения"
      ]
    },
    {
      "cell_type": "code",
      "metadata": {
        "id": "DPMQrSNoeK0d"
      },
      "source": [
        "reg_coefs = np.arange(0.1, 3, 0.1)\n",
        "f1s = []\n",
        "for coef in reg_coefs:\n",
        "    log_reg = LogisticRegression(C=coef, class_weight={0:1, 1:5})\n",
        "    f1s.append(np.mean(cross_val_score(log_reg, X, y, cv=5, scoring='f1')))"
      ],
      "execution_count": null,
      "outputs": []
    },
    {
      "cell_type": "code",
      "metadata": {
        "colab": {
          "base_uri": "https://localhost:8080/",
          "height": 295
        },
        "id": "1q4qkQ73eomx",
        "outputId": "b461d20d-ec0c-4506-fe37-d4238fc7673c"
      },
      "source": [
        "plt.plot(reg_coefs, f1s)\n",
        "plt.xlabel('Regularization coefficient')\n",
        "plt.ylabel('F1 score')\n",
        "plt.title('Regularization coefficient vs F1 score')\n",
        "plt.ylim((0.8, 0.81))\n",
        "plt.show()"
      ],
      "execution_count": null,
      "outputs": [
        {
          "output_type": "display_data",
          "data": {
            "image/png": "[encoded data removed]",
            "text/plain": [
              "<Figure size 432x288 with 1 Axes>"
            ]
          },
          "metadata": {
            "needs_background": "light"
          }
        }
      ]
    },
    {
      "cell_type": "markdown",
      "metadata": {
        "id": "cA_kWEaEgDgu"
      },
      "source": [
        "Мы видим, что перебор коэффициента регуляризации не помогает улучшить результат"
      ]
    },
    {
      "cell_type": "code",
      "metadata": {
        "colab": {
          "base_uri": "https://localhost:8080/"
        },
        "id": "6XzkEcz1g32h",
        "outputId": "2c32bf88-f4d9-4e1c-a638-fa828c037604"
      },
      "source": [
        "f1s"
      ],
      "execution_count": null,
      "outputs": [
        {
          "output_type": "execute_result",
          "data": {
            "text/plain": [
              "[0.805391963213139,\n",
              " 0.805391963213139,\n",
              " 0.805391963213139,\n",
              " 0.805391963213139,\n",
              " 0.805391963213139,\n",
              " 0.805391963213139,\n",
              " 0.805391963213139,\n",
              " 0.805391963213139,\n",
              " 0.805391963213139,\n",
              " 0.805391963213139,\n",
              " 0.805391963213139,\n",
              " 0.805391963213139,\n",
              " 0.805391963213139,\n",
              " 0.805391963213139,\n",
              " 0.805391963213139,\n",
              " 0.805391963213139,\n",
              " 0.805391963213139,\n",
              " 0.805391963213139,\n",
              " 0.805391963213139,\n",
              " 0.805391963213139,\n",
              " 0.805391963213139,\n",
              " 0.805391963213139,\n",
              " 0.805391963213139,\n",
              " 0.805391963213139,\n",
              " 0.805391963213139,\n",
              " 0.805391963213139,\n",
              " 0.805391963213139,\n",
              " 0.805391963213139,\n",
              " 0.805391963213139]"
            ]
          },
          "metadata": {},
          "execution_count": 219
        }
      ]
    },
    {
      "cell_type": "markdown",
      "metadata": {
        "id": "T_yMiuxSswrB"
      },
      "source": [
        "Попробуем перебрать алгоритмы:"
      ]
    },
    {
      "cell_type": "code",
      "metadata": {
        "colab": {
          "base_uri": "https://localhost:8080/"
        },
        "id": "eDGtpO0qhZ2m",
        "outputId": "18ab3f44-f0a9-4e54-ffc8-8c8132821e7f"
      },
      "source": [
        "solvers = ['newton-cg', 'lbfgs', 'liblinear', 'sag', 'saga']\n",
        "f1s = []\n",
        "for solver in solvers:\n",
        "    log_reg = LogisticRegression(solver=solver, class_weight={0:1, 1:5})\n",
        "    f1s.append(np.mean(cross_val_score(log_reg, X, y, cv=5, scoring='f1')))"
      ],
      "execution_count": null,
      "outputs": [
        {
          "output_type": "stream",
          "name": "stderr",
          "text": [
            "/usr/local/lib/python3.7/dist-packages/sklearn/linear_model/_sag.py:354: ConvergenceWarning:\n",
            "\n",
            "The max_iter was reached which means the coef_ did not converge\n",
            "\n",
            "/usr/local/lib/python3.7/dist-packages/sklearn/linear_model/_sag.py:354: ConvergenceWarning:\n",
            "\n",
            "The max_iter was reached which means the coef_ did not converge\n",
            "\n",
            "/usr/local/lib/python3.7/dist-packages/sklearn/linear_model/_sag.py:354: ConvergenceWarning:\n",
            "\n",
            "The max_iter was reached which means the coef_ did not converge\n",
            "\n",
            "/usr/local/lib/python3.7/dist-packages/sklearn/linear_model/_sag.py:354: ConvergenceWarning:\n",
            "\n",
            "The max_iter was reached which means the coef_ did not converge\n",
            "\n",
            "/usr/local/lib/python3.7/dist-packages/sklearn/linear_model/_sag.py:354: ConvergenceWarning:\n",
            "\n",
            "The max_iter was reached which means the coef_ did not converge\n",
            "\n",
            "/usr/local/lib/python3.7/dist-packages/sklearn/linear_model/_sag.py:354: ConvergenceWarning:\n",
            "\n",
            "The max_iter was reached which means the coef_ did not converge\n",
            "\n",
            "/usr/local/lib/python3.7/dist-packages/sklearn/linear_model/_sag.py:354: ConvergenceWarning:\n",
            "\n",
            "The max_iter was reached which means the coef_ did not converge\n",
            "\n",
            "/usr/local/lib/python3.7/dist-packages/sklearn/linear_model/_sag.py:354: ConvergenceWarning:\n",
            "\n",
            "The max_iter was reached which means the coef_ did not converge\n",
            "\n",
            "/usr/local/lib/python3.7/dist-packages/sklearn/linear_model/_sag.py:354: ConvergenceWarning:\n",
            "\n",
            "The max_iter was reached which means the coef_ did not converge\n",
            "\n",
            "/usr/local/lib/python3.7/dist-packages/sklearn/linear_model/_sag.py:354: ConvergenceWarning:\n",
            "\n",
            "The max_iter was reached which means the coef_ did not converge\n",
            "\n"
          ]
        }
      ]
    },
    {
      "cell_type": "markdown",
      "metadata": {
        "id": "G-jKGUpgs_lU"
      },
      "source": [
        "Мы получили варнинги, что max_iter был достигнут, попробуем сделать его больше:"
      ]
    },
    {
      "cell_type": "code",
      "metadata": {
        "colab": {
          "base_uri": "https://localhost:8080/"
        },
        "id": "qJh0zWjJtHGi",
        "outputId": "38bbafac-3b87-4247-a19a-04f8d551c37a"
      },
      "source": [
        "solvers = ['newton-cg', 'lbfgs', 'liblinear', 'sag', 'saga']\n",
        "f1s = []\n",
        "for solver in solvers:\n",
        "    log_reg = LogisticRegression(solver=solver, class_weight={0:1, 1:5}, max_iter=500)\n",
        "    f1s.append(np.mean(cross_val_score(log_reg, X, y, cv=5, scoring='f1')))"
      ],
      "execution_count": null,
      "outputs": [
        {
          "output_type": "stream",
          "name": "stderr",
          "text": [
            "/usr/local/lib/python3.7/dist-packages/sklearn/linear_model/_sag.py:354: ConvergenceWarning:\n",
            "\n",
            "The max_iter was reached which means the coef_ did not converge\n",
            "\n",
            "/usr/local/lib/python3.7/dist-packages/sklearn/linear_model/_sag.py:354: ConvergenceWarning:\n",
            "\n",
            "The max_iter was reached which means the coef_ did not converge\n",
            "\n"
          ]
        }
      ]
    },
    {
      "cell_type": "code",
      "metadata": {
        "id": "P9h8t_jcxKpG"
      },
      "source": [
        "solvers = ['newton-cg', 'lbfgs', 'liblinear', 'sag', 'saga']\n",
        "f1s = []\n",
        "for solver in solvers:\n",
        "    log_reg = LogisticRegression(solver=solver, class_weight={0:1, 1:5}, max_iter=1000)\n",
        "    f1s.append(np.mean(cross_val_score(log_reg, X, y, cv=5, scoring='f1')))"
      ],
      "execution_count": null,
      "outputs": []
    },
    {
      "cell_type": "code",
      "metadata": {
        "colab": {
          "base_uri": "https://localhost:8080/"
        },
        "id": "Jy-THZcYtM2s",
        "outputId": "ec17461e-e41c-4389-bbaf-450b5bd2e86f"
      },
      "source": [
        "f1s"
      ],
      "execution_count": null,
      "outputs": [
        {
          "output_type": "execute_result",
          "data": {
            "text/plain": [
              "[0.805391963213139,\n",
              " 0.805391963213139,\n",
              " 0.805391963213139,\n",
              " 0.805391963213139,\n",
              " 0.805391963213139]"
            ]
          },
          "metadata": {},
          "execution_count": 236
        }
      ]
    },
    {
      "cell_type": "markdown",
      "metadata": {
        "id": "wcMHUkXfz8J5"
      },
      "source": [
        "Как видим f1 score на кросс-валидации при всех алгоритмах одинаковый "
      ]
    },
    {
      "cell_type": "markdown",
      "metadata": {
        "id": "fhUBjs9Isb-f"
      },
      "source": [
        "Алгоритм лог регрессии solver='lbfgs' поддерживает только l2 и none штрафы, проверим будет ли разница:"
      ]
    },
    {
      "cell_type": "code",
      "metadata": {
        "colab": {
          "base_uri": "https://localhost:8080/"
        },
        "id": "kfrlG4UEq4wE",
        "outputId": "46b69f72-ab73-42de-ad59-c98129e2f3f3"
      },
      "source": [
        "penalties = ['l2', 'none']\n",
        "f1s = []\n",
        "for penalty in penalties:\n",
        "    log_reg = LogisticRegression(penalty=penalty, class_weight={0:1, 1:5})\n",
        "    f1 = np.mean(cross_val_score(log_reg, X, y, cv=5, scoring='f1'))\n",
        "    print('for {} f1 score is {}'.format(penalty, f1))"
      ],
      "execution_count": null,
      "outputs": [
        {
          "output_type": "stream",
          "name": "stdout",
          "text": [
            "for l2 f1 score is 0.805391963213139\n",
            "for none f1 score is 0.805391963213139\n"
          ]
        }
      ]
    },
    {
      "cell_type": "markdown",
      "metadata": {
        "id": "tjKtynlzstkM"
      },
      "source": [
        "Разницы в штрафах нет"
      ]
    },
    {
      "cell_type": "markdown",
      "metadata": {
        "id": "QgfghWoV0yJJ"
      },
      "source": [
        "Окей, кажется мы нашли оптимальный набор гиперпараметров для логрега, это \"class_weight={0:1, 1:5}\""
      ]
    },
    {
      "cell_type": "markdown",
      "metadata": {
        "id": "ZIXBOWC40z_Q"
      },
      "source": [
        "Проведем отбор признаков:"
      ]
    },
    {
      "cell_type": "code",
      "metadata": {
        "id": "Ixv-dxLd5bKr"
      },
      "source": [
        "from sklearn.feature_selection import f_classif, VarianceThreshold, SelectKBest "
      ],
      "execution_count": null,
      "outputs": []
    },
    {
      "cell_type": "code",
      "metadata": {
        "id": "i30P7N7j6zw-"
      },
      "source": [
        "log_reg = LogisticRegression(class_weight={0:1, 1:5})"
      ],
      "execution_count": null,
      "outputs": []
    },
    {
      "cell_type": "code",
      "metadata": {
        "id": "yIrVZ-zh52QB"
      },
      "source": [
        "X = StandardScaler().fit_transform(X)"
      ],
      "execution_count": null,
      "outputs": []
    },
    {
      "cell_type": "code",
      "metadata": {
        "id": "9NVukNF_6LiY"
      },
      "source": [
        "X_kbest = SelectKBest(f_classif, k=5).fit_transform(X, y)\n",
        "X_varth = VarianceThreshold(.9).fit_transform(X)"
      ],
      "execution_count": null,
      "outputs": []
    },
    {
      "cell_type": "code",
      "metadata": {
        "colab": {
          "base_uri": "https://localhost:8080/"
        },
        "id": "lC6qcAsL6twB",
        "outputId": "541528aa-d7c6-4cad-f0d8-98b8467537ea"
      },
      "source": [
        "np.mean(cross_val_score(log_reg, X_kbest, y, cv=5, scoring='f1'))"
      ],
      "execution_count": null,
      "outputs": [
        {
          "output_type": "execute_result",
          "data": {
            "text/plain": [
              "0.8115939131291243"
            ]
          },
          "metadata": {},
          "execution_count": 257
        }
      ]
    },
    {
      "cell_type": "code",
      "metadata": {
        "colab": {
          "base_uri": "https://localhost:8080/"
        },
        "id": "QsQ5OWEb64i_",
        "outputId": "fe5a9d28-658c-4622-f3e9-c843d44ff76b"
      },
      "source": [
        "np.mean(cross_val_score(log_reg, X_varth, y, cv=5, scoring='f1'))"
      ],
      "execution_count": null,
      "outputs": [
        {
          "output_type": "execute_result",
          "data": {
            "text/plain": [
              "0.805391963213139"
            ]
          },
          "metadata": {},
          "execution_count": 258
        }
      ]
    },
    {
      "cell_type": "code",
      "metadata": {
        "colab": {
          "base_uri": "https://localhost:8080/"
        },
        "id": "DmaeZ8Gj7yXV",
        "outputId": "f6e161e4-7c55-42ad-fcf3-96be6e2fc0da"
      },
      "source": [
        "np.mean(cross_val_score(KNeighborsClassifier(), X_kbest, y, cv=5, scoring='f1'))"
      ],
      "execution_count": null,
      "outputs": [
        {
          "output_type": "execute_result",
          "data": {
            "text/plain": [
              "0.8488502873755627"
            ]
          },
          "metadata": {},
          "execution_count": 259
        }
      ]
    },
    {
      "cell_type": "code",
      "metadata": {
        "colab": {
          "base_uri": "https://localhost:8080/"
        },
        "id": "owYb9swv7v5m",
        "outputId": "ca4a98b1-ce4e-47eb-d426-ae2f18ab6b6e"
      },
      "source": [
        "np.mean(cross_val_score(KNeighborsClassifier(), X_varth, y, cv=5, scoring='f1'))"
      ],
      "execution_count": null,
      "outputs": [
        {
          "output_type": "execute_result",
          "data": {
            "text/plain": [
              "0.8390120228106499"
            ]
          },
          "metadata": {},
          "execution_count": 260
        }
      ]
    },
    {
      "cell_type": "markdown",
      "metadata": {
        "id": "-ltJw8cJ_E6n"
      },
      "source": [
        "Видно, какой замечательный результат дает отбор с помощью SelectKBest! Также мы видим, что модель KNN дает лучше результат на кросс-валидации чем модель лог регрессии. Оставим ее\n",
        "\n",
        "Продолжим перебор:"
      ]
    },
    {
      "cell_type": "code",
      "metadata": {
        "id": "HBdzm3smF4np"
      },
      "source": [
        "f1s = []\n",
        "for i in range(1, 10):\n",
        "    for n in range(1, 15):\n",
        "        X_kbest = SelectKBest(f_classif, k=i).fit_transform(X, y)\n",
        "        f1s.append((i, n, np.mean(cross_val_score(KNeighborsClassifier(n_neighbors=n), X_kbest, y, cv=5, scoring='f1'))))"
      ],
      "execution_count": null,
      "outputs": []
    },
    {
      "cell_type": "code",
      "metadata": {
        "colab": {
          "base_uri": "https://localhost:8080/"
        },
        "id": "3NppneRJFtgN",
        "outputId": "ce76278c-43f8-4309-a21c-36108a9a3505"
      },
      "source": [
        "best_result = max(f1s, key=lambda x: x[2])\n",
        "best_number_of_features, best_number_of_neighbors, best_f1 = best_result\n",
        "best_number_of_features, best_number_of_neighbors, best_f1"
      ],
      "execution_count": null,
      "outputs": [
        {
          "output_type": "execute_result",
          "data": {
            "text/plain": [
              "(7, 3, 0.8708735909822867)"
            ]
          },
          "metadata": {},
          "execution_count": 276
        }
      ]
    },
    {
      "cell_type": "markdown",
      "metadata": {
        "id": "CBF1VLFtFuSN"
      },
      "source": [
        "Отлично! На основе перебора можем сказать, что лучшая модель - KNN, лучшее число признаков - 7, лучшее число соседей 3, а f1 score на кросс-валидации = 0.87"
      ]
    },
    {
      "cell_type": "code",
      "metadata": {
        "colab": {
          "base_uri": "https://localhost:8080/"
        },
        "id": "TuJCPtWeTw1R",
        "outputId": "c61db22b-1970-4d42-e800-45113daf13c3"
      },
      "source": [
        "best_model = KNeighborsClassifier(n_neighbors=3)\n",
        "X_kbest = SelectKBest(f_classif, k=7).fit_transform(X, y)\n",
        "print('precision on cross val = ', np.mean(cross_val_score(best_model, X_kbest, y, scoring='precision')))\n",
        "print('recall on cross val = ', np.mean(cross_val_score(best_model, X_kbest, y, scoring='recall')))\n",
        "print('f1 on cross val = ', np.mean(cross_val_score(best_model, X_kbest, y, scoring='f1')))\n",
        "print('roc auc on cross val = ', np.mean(cross_val_score(best_model, X_kbest, y, scoring='roc_auc')))"
      ],
      "execution_count": null,
      "outputs": [
        {
          "output_type": "stream",
          "name": "stdout",
          "text": [
            "precision on cross val =  0.9487087757789068\n",
            "recall on cross val =  0.8065531284709365\n",
            "f1 on cross val =  0.8708735909822867\n",
            "roc auc on cross val =  0.9168366570482075\n"
          ]
        }
      ]
    },
    {
      "cell_type": "markdown",
      "metadata": {
        "id": "Vleo0DGh32tC"
      },
      "source": [
        "# 2 - Небинарная классификация на вашем датасете (суммарно 6 баллов)"
      ]
    },
    {
      "cell_type": "markdown",
      "metadata": {
        "id": "ektNy03932tD"
      },
      "source": [
        "### (2 балла) Выберите какой-нибудь интересный вам датасет, скачайте его и считайте данные\n",
        "\n",
        "Творческое задание - найти в интернете (или собрать свой даже) датасет, сохранить его в файл, и загрузить сюда.\n",
        "\n",
        "Требования:\n",
        "\n",
        "- он должен быть немаленький (хотя бы 500 объектов, лучше больше)\n",
        "- он должен быть интересный\n",
        "- таргет должен быть небинарным классом\n",
        "\n",
        "Минус балл, если ваш датасет с кем-нибудь повторится."
      ]
    },
    {
      "cell_type": "markdown",
      "metadata": {
        "id": "loNWN-m63rBW"
      },
      "source": [
        "Я выбрал задачу классификации музыкального жанра: https://www.kaggle.com/andradaolteanu/gtzan-dataset-music-genre-classification"
      ]
    },
    {
      "cell_type": "code",
      "metadata": {
        "id": "hnZZt8bW32tE"
      },
      "source": [
        "data = pd.read_csv('drive/MyDrive/homeworks/features_3_sec.csv')"
      ],
      "execution_count": null,
      "outputs": []
    },
    {
      "cell_type": "code",
      "metadata": {
        "id": "ED3iBjT-32tG",
        "colab": {
          "base_uri": "https://localhost:8080/"
        },
        "outputId": "78741439-2760-4beb-f9ff-5d3840783350"
      },
      "source": [
        "data.info()"
      ],
      "execution_count": null,
      "outputs": [
        {
          "output_type": "stream",
          "name": "stdout",
          "text": [
            "<class 'pandas.core.frame.DataFrame'>\n",
            "RangeIndex: 9990 entries, 0 to 9989\n",
            "Data columns (total 60 columns):\n",
            " #   Column                   Non-Null Count  Dtype  \n",
            "---  ------                   --------------  -----  \n",
            " 0   filename                 9990 non-null   object \n",
            " 1   length                   9990 non-null   int64  \n",
            " 2   chroma_stft_mean         9990 non-null   float64\n",
            " 3   chroma_stft_var          9990 non-null   float64\n",
            " 4   rms_mean                 9990 non-null   float64\n",
            " 5   rms_var                  9990 non-null   float64\n",
            " 6   spectral_centroid_mean   9990 non-null   float64\n",
            " 7   spectral_centroid_var    9990 non-null   float64\n",
            " 8   spectral_bandwidth_mean  9990 non-null   float64\n",
            " 9   spectral_bandwidth_var   9990 non-null   float64\n",
            " 10  rolloff_mean             9990 non-null   float64\n",
            " 11  rolloff_var              9990 non-null   float64\n",
            " 12  zero_crossing_rate_mean  9990 non-null   float64\n",
            " 13  zero_crossing_rate_var   9990 non-null   float64\n",
            " 14  harmony_mean             9990 non-null   float64\n",
            " 15  harmony_var              9990 non-null   float64\n",
            " 16  perceptr_mean            9990 non-null   float64\n",
            " 17  perceptr_var             9990 non-null   float64\n",
            " 18  tempo                    9990 non-null   float64\n",
            " 19  mfcc1_mean               9990 non-null   float64\n",
            " 20  mfcc1_var                9990 non-null   float64\n",
            " 21  mfcc2_mean               9990 non-null   float64\n",
            " 22  mfcc2_var                9990 non-null   float64\n",
            " 23  mfcc3_mean               9990 non-null   float64\n",
            " 24  mfcc3_var                9990 non-null   float64\n",
            " 25  mfcc4_mean               9990 non-null   float64\n",
            " 26  mfcc4_var                9990 non-null   float64\n",
            " 27  mfcc5_mean               9990 non-null   float64\n",
            " 28  mfcc5_var                9990 non-null   float64\n",
            " 29  mfcc6_mean               9990 non-null   float64\n",
            " 30  mfcc6_var                9990 non-null   float64\n",
            " 31  mfcc7_mean               9990 non-null   float64\n",
            " 32  mfcc7_var                9990 non-null   float64\n",
            " 33  mfcc8_mean               9990 non-null   float64\n",
            " 34  mfcc8_var                9990 non-null   float64\n",
            " 35  mfcc9_mean               9990 non-null   float64\n",
            " 36  mfcc9_var                9990 non-null   float64\n",
            " 37  mfcc10_mean              9990 non-null   float64\n",
            " 38  mfcc10_var               9990 non-null   float64\n",
            " 39  mfcc11_mean              9990 non-null   float64\n",
            " 40  mfcc11_var               9990 non-null   float64\n",
            " 41  mfcc12_mean              9990 non-null   float64\n",
            " 42  mfcc12_var               9990 non-null   float64\n",
            " 43  mfcc13_mean              9990 non-null   float64\n",
            " 44  mfcc13_var               9990 non-null   float64\n",
            " 45  mfcc14_mean              9990 non-null   float64\n",
            " 46  mfcc14_var               9990 non-null   float64\n",
            " 47  mfcc15_mean              9990 non-null   float64\n",
            " 48  mfcc15_var               9990 non-null   float64\n",
            " 49  mfcc16_mean              9990 non-null   float64\n",
            " 50  mfcc16_var               9990 non-null   float64\n",
            " 51  mfcc17_mean              9990 non-null   float64\n",
            " 52  mfcc17_var               9990 non-null   float64\n",
            " 53  mfcc18_mean              9990 non-null   float64\n",
            " 54  mfcc18_var               9990 non-null   float64\n",
            " 55  mfcc19_mean              9990 non-null   float64\n",
            " 56  mfcc19_var               9990 non-null   float64\n",
            " 57  mfcc20_mean              9990 non-null   float64\n",
            " 58  mfcc20_var               9990 non-null   float64\n",
            " 59  label                    9990 non-null   object \n",
            "dtypes: float64(57), int64(1), object(2)\n",
            "memory usage: 4.6+ MB\n"
          ]
        }
      ]
    },
    {
      "cell_type": "code",
      "metadata": {
        "colab": {
          "base_uri": "https://localhost:8080/",
          "height": 437
        },
        "id": "EI6oIyyUI8ag",
        "outputId": "44156916-b070-41fc-e4c2-15caf75c227e"
      },
      "source": [
        "data"
      ],
      "execution_count": null,
      "outputs": [
        {
          "output_type": "execute_result",
          "data": {
            "text/html": [
              "<div>\n",
              "<style scoped>\n",
              "    .dataframe tbody tr th:only-of-type {\n",
              "        vertical-align: middle;\n",
              "    }\n",
              "\n",
              "    .dataframe tbody tr th {\n",
              "        vertical-align: top;\n",
              "    }\n",
              "\n",
              "    .dataframe thead th {\n",
              "        text-align: right;\n",
              "    }\n",
              "</style>\n",
              "<table border=\"1\" class=\"dataframe\">\n",
              "  <thead>\n",
              "    <tr style=\"text-align: right;\">\n",
              "      <th></th>\n",
              "      <th>filename</th>\n",
              "      <th>length</th>\n",
              "      <th>chroma_stft_mean</th>\n",
              "      <th>chroma_stft_var</th>\n",
              "      <th>rms_mean</th>\n",
              "      <th>rms_var</th>\n",
              "      <th>spectral_centroid_mean</th>\n",
              "      <th>spectral_centroid_var</th>\n",
              "      <th>spectral_bandwidth_mean</th>\n",
              "      <th>spectral_bandwidth_var</th>\n",
              "      <th>rolloff_mean</th>\n",
              "      <th>rolloff_var</th>\n",
              "      <th>zero_crossing_rate_mean</th>\n",
              "      <th>zero_crossing_rate_var</th>\n",
              "      <th>harmony_mean</th>\n",
              "      <th>harmony_var</th>\n",
              "      <th>perceptr_mean</th>\n",
              "      <th>perceptr_var</th>\n",
              "      <th>tempo</th>\n",
              "      <th>mfcc1_mean</th>\n",
              "      <th>mfcc1_var</th>\n",
              "      <th>mfcc2_mean</th>\n",
              "      <th>mfcc2_var</th>\n",
              "      <th>mfcc3_mean</th>\n",
              "      <th>mfcc3_var</th>\n",
              "      <th>mfcc4_mean</th>\n",
              "      <th>mfcc4_var</th>\n",
              "      <th>mfcc5_mean</th>\n",
              "      <th>mfcc5_var</th>\n",
              "      <th>mfcc6_mean</th>\n",
              "      <th>mfcc6_var</th>\n",
              "      <th>mfcc7_mean</th>\n",
              "      <th>mfcc7_var</th>\n",
              "      <th>mfcc8_mean</th>\n",
              "      <th>mfcc8_var</th>\n",
              "      <th>mfcc9_mean</th>\n",
              "      <th>mfcc9_var</th>\n",
              "      <th>mfcc10_mean</th>\n",
              "      <th>mfcc10_var</th>\n",
              "      <th>mfcc11_mean</th>\n",
              "      <th>mfcc11_var</th>\n",
              "      <th>mfcc12_mean</th>\n",
              "      <th>mfcc12_var</th>\n",
              "      <th>mfcc13_mean</th>\n",
              "      <th>mfcc13_var</th>\n",
              "      <th>mfcc14_mean</th>\n",
              "      <th>mfcc14_var</th>\n",
              "      <th>mfcc15_mean</th>\n",
              "      <th>mfcc15_var</th>\n",
              "      <th>mfcc16_mean</th>\n",
              "      <th>mfcc16_var</th>\n",
              "      <th>mfcc17_mean</th>\n",
              "      <th>mfcc17_var</th>\n",
              "      <th>mfcc18_mean</th>\n",
              "      <th>mfcc18_var</th>\n",
              "      <th>mfcc19_mean</th>\n",
              "      <th>mfcc19_var</th>\n",
              "      <th>mfcc20_mean</th>\n",
              "      <th>mfcc20_var</th>\n",
              "      <th>label</th>\n",
              "    </tr>\n",
              "  </thead>\n",
              "  <tbody>\n",
              "    <tr>\n",
              "      <th>0</th>\n",
              "      <td>blues.00000.0.wav</td>\n",
              "      <td>66149</td>\n",
              "      <td>0.335406</td>\n",
              "      <td>0.091048</td>\n",
              "      <td>0.130405</td>\n",
              "      <td>0.003521</td>\n",
              "      <td>1773.065032</td>\n",
              "      <td>167541.630869</td>\n",
              "      <td>1972.744388</td>\n",
              "      <td>117335.771563</td>\n",
              "      <td>3714.560359</td>\n",
              "      <td>1.080790e+06</td>\n",
              "      <td>0.081851</td>\n",
              "      <td>0.000558</td>\n",
              "      <td>-0.000078</td>\n",
              "      <td>0.008354</td>\n",
              "      <td>-0.000068</td>\n",
              "      <td>0.005535</td>\n",
              "      <td>129.199219</td>\n",
              "      <td>-118.627914</td>\n",
              "      <td>2440.286621</td>\n",
              "      <td>125.083626</td>\n",
              "      <td>260.956909</td>\n",
              "      <td>-23.443724</td>\n",
              "      <td>364.081726</td>\n",
              "      <td>41.321484</td>\n",
              "      <td>181.694855</td>\n",
              "      <td>-5.976108</td>\n",
              "      <td>152.963135</td>\n",
              "      <td>20.115141</td>\n",
              "      <td>75.652298</td>\n",
              "      <td>-16.045410</td>\n",
              "      <td>40.227104</td>\n",
              "      <td>17.855198</td>\n",
              "      <td>84.320282</td>\n",
              "      <td>-14.633434</td>\n",
              "      <td>83.437233</td>\n",
              "      <td>10.270527</td>\n",
              "      <td>97.001335</td>\n",
              "      <td>-9.708279</td>\n",
              "      <td>66.669891</td>\n",
              "      <td>10.183875</td>\n",
              "      <td>45.103611</td>\n",
              "      <td>-4.681614</td>\n",
              "      <td>34.169498</td>\n",
              "      <td>8.417439</td>\n",
              "      <td>48.269444</td>\n",
              "      <td>-7.233477</td>\n",
              "      <td>42.770947</td>\n",
              "      <td>-2.853603</td>\n",
              "      <td>39.687145</td>\n",
              "      <td>-3.241280</td>\n",
              "      <td>36.488243</td>\n",
              "      <td>0.722209</td>\n",
              "      <td>38.099152</td>\n",
              "      <td>-5.050335</td>\n",
              "      <td>33.618073</td>\n",
              "      <td>-0.243027</td>\n",
              "      <td>43.771767</td>\n",
              "      <td>blues</td>\n",
              "    </tr>\n",
              "    <tr>\n",
              "      <th>1</th>\n",
              "      <td>blues.00000.1.wav</td>\n",
              "      <td>66149</td>\n",
              "      <td>0.343065</td>\n",
              "      <td>0.086147</td>\n",
              "      <td>0.112699</td>\n",
              "      <td>0.001450</td>\n",
              "      <td>1816.693777</td>\n",
              "      <td>90525.690866</td>\n",
              "      <td>2010.051501</td>\n",
              "      <td>65671.875673</td>\n",
              "      <td>3869.682242</td>\n",
              "      <td>6.722448e+05</td>\n",
              "      <td>0.087173</td>\n",
              "      <td>0.001030</td>\n",
              "      <td>-0.000099</td>\n",
              "      <td>0.004950</td>\n",
              "      <td>-0.000103</td>\n",
              "      <td>0.004854</td>\n",
              "      <td>123.046875</td>\n",
              "      <td>-125.590706</td>\n",
              "      <td>2038.344238</td>\n",
              "      <td>122.421227</td>\n",
              "      <td>216.774185</td>\n",
              "      <td>-20.718019</td>\n",
              "      <td>231.979767</td>\n",
              "      <td>50.128387</td>\n",
              "      <td>142.700409</td>\n",
              "      <td>-11.333302</td>\n",
              "      <td>139.243118</td>\n",
              "      <td>21.385401</td>\n",
              "      <td>77.817947</td>\n",
              "      <td>-15.960796</td>\n",
              "      <td>97.364029</td>\n",
              "      <td>19.454103</td>\n",
              "      <td>57.948093</td>\n",
              "      <td>-12.465918</td>\n",
              "      <td>68.271523</td>\n",
              "      <td>17.898169</td>\n",
              "      <td>56.222176</td>\n",
              "      <td>-11.732554</td>\n",
              "      <td>54.373909</td>\n",
              "      <td>8.145000</td>\n",
              "      <td>40.662876</td>\n",
              "      <td>-7.717751</td>\n",
              "      <td>30.808521</td>\n",
              "      <td>8.397150</td>\n",
              "      <td>48.784225</td>\n",
              "      <td>-8.300493</td>\n",
              "      <td>68.584824</td>\n",
              "      <td>4.074709</td>\n",
              "      <td>64.748276</td>\n",
              "      <td>-6.055294</td>\n",
              "      <td>40.677654</td>\n",
              "      <td>0.159015</td>\n",
              "      <td>51.264091</td>\n",
              "      <td>-2.837699</td>\n",
              "      <td>97.030830</td>\n",
              "      <td>5.784063</td>\n",
              "      <td>59.943081</td>\n",
              "      <td>blues</td>\n",
              "    </tr>\n",
              "    <tr>\n",
              "      <th>2</th>\n",
              "      <td>blues.00000.2.wav</td>\n",
              "      <td>66149</td>\n",
              "      <td>0.346815</td>\n",
              "      <td>0.092243</td>\n",
              "      <td>0.132003</td>\n",
              "      <td>0.004620</td>\n",
              "      <td>1788.539719</td>\n",
              "      <td>111407.437613</td>\n",
              "      <td>2084.565132</td>\n",
              "      <td>75124.921716</td>\n",
              "      <td>3997.639160</td>\n",
              "      <td>7.907127e+05</td>\n",
              "      <td>0.071383</td>\n",
              "      <td>0.000425</td>\n",
              "      <td>-0.000066</td>\n",
              "      <td>0.012476</td>\n",
              "      <td>0.000065</td>\n",
              "      <td>0.004357</td>\n",
              "      <td>123.046875</td>\n",
              "      <td>-132.441940</td>\n",
              "      <td>3798.532227</td>\n",
              "      <td>115.085175</td>\n",
              "      <td>257.321289</td>\n",
              "      <td>-14.811666</td>\n",
              "      <td>192.448074</td>\n",
              "      <td>50.189293</td>\n",
              "      <td>144.166031</td>\n",
              "      <td>-0.680819</td>\n",
              "      <td>128.376892</td>\n",
              "      <td>24.650375</td>\n",
              "      <td>66.371170</td>\n",
              "      <td>-13.506104</td>\n",
              "      <td>89.319336</td>\n",
              "      <td>15.643386</td>\n",
              "      <td>55.253967</td>\n",
              "      <td>-13.216637</td>\n",
              "      <td>120.308784</td>\n",
              "      <td>10.406025</td>\n",
              "      <td>35.757862</td>\n",
              "      <td>-7.991465</td>\n",
              "      <td>47.911613</td>\n",
              "      <td>11.853963</td>\n",
              "      <td>36.569931</td>\n",
              "      <td>-4.677677</td>\n",
              "      <td>40.725075</td>\n",
              "      <td>6.571110</td>\n",
              "      <td>30.686846</td>\n",
              "      <td>-2.424750</td>\n",
              "      <td>50.313499</td>\n",
              "      <td>4.806280</td>\n",
              "      <td>67.336563</td>\n",
              "      <td>-1.768610</td>\n",
              "      <td>28.348579</td>\n",
              "      <td>2.378768</td>\n",
              "      <td>45.717648</td>\n",
              "      <td>-1.938424</td>\n",
              "      <td>53.050835</td>\n",
              "      <td>2.517375</td>\n",
              "      <td>33.105122</td>\n",
              "      <td>blues</td>\n",
              "    </tr>\n",
              "    <tr>\n",
              "      <th>3</th>\n",
              "      <td>blues.00000.3.wav</td>\n",
              "      <td>66149</td>\n",
              "      <td>0.363639</td>\n",
              "      <td>0.086856</td>\n",
              "      <td>0.132565</td>\n",
              "      <td>0.002448</td>\n",
              "      <td>1655.289045</td>\n",
              "      <td>111952.284517</td>\n",
              "      <td>1960.039988</td>\n",
              "      <td>82913.639269</td>\n",
              "      <td>3568.300218</td>\n",
              "      <td>9.216524e+05</td>\n",
              "      <td>0.069426</td>\n",
              "      <td>0.000304</td>\n",
              "      <td>-0.000014</td>\n",
              "      <td>0.008318</td>\n",
              "      <td>0.000018</td>\n",
              "      <td>0.005927</td>\n",
              "      <td>123.046875</td>\n",
              "      <td>-118.231087</td>\n",
              "      <td>2508.781006</td>\n",
              "      <td>132.116501</td>\n",
              "      <td>332.650574</td>\n",
              "      <td>-18.758335</td>\n",
              "      <td>109.357529</td>\n",
              "      <td>39.769306</td>\n",
              "      <td>184.693344</td>\n",
              "      <td>-13.260426</td>\n",
              "      <td>144.398224</td>\n",
              "      <td>20.468134</td>\n",
              "      <td>122.516464</td>\n",
              "      <td>-14.563448</td>\n",
              "      <td>68.937332</td>\n",
              "      <td>18.745104</td>\n",
              "      <td>74.748886</td>\n",
              "      <td>-13.755463</td>\n",
              "      <td>73.868576</td>\n",
              "      <td>12.993759</td>\n",
              "      <td>41.549564</td>\n",
              "      <td>-12.648887</td>\n",
              "      <td>58.540478</td>\n",
              "      <td>10.389314</td>\n",
              "      <td>39.102024</td>\n",
              "      <td>-4.362739</td>\n",
              "      <td>60.714748</td>\n",
              "      <td>9.156193</td>\n",
              "      <td>40.411537</td>\n",
              "      <td>-9.889441</td>\n",
              "      <td>44.666325</td>\n",
              "      <td>-1.359111</td>\n",
              "      <td>47.739452</td>\n",
              "      <td>-3.841155</td>\n",
              "      <td>28.337118</td>\n",
              "      <td>1.218588</td>\n",
              "      <td>34.770935</td>\n",
              "      <td>-3.580352</td>\n",
              "      <td>50.836224</td>\n",
              "      <td>3.630866</td>\n",
              "      <td>32.023678</td>\n",
              "      <td>blues</td>\n",
              "    </tr>\n",
              "    <tr>\n",
              "      <th>4</th>\n",
              "      <td>blues.00000.4.wav</td>\n",
              "      <td>66149</td>\n",
              "      <td>0.335579</td>\n",
              "      <td>0.088129</td>\n",
              "      <td>0.143289</td>\n",
              "      <td>0.001701</td>\n",
              "      <td>1630.656199</td>\n",
              "      <td>79667.267654</td>\n",
              "      <td>1948.503884</td>\n",
              "      <td>60204.020268</td>\n",
              "      <td>3469.992864</td>\n",
              "      <td>6.102111e+05</td>\n",
              "      <td>0.070095</td>\n",
              "      <td>0.000289</td>\n",
              "      <td>0.000041</td>\n",
              "      <td>0.009634</td>\n",
              "      <td>-0.000106</td>\n",
              "      <td>0.005833</td>\n",
              "      <td>123.046875</td>\n",
              "      <td>-105.968376</td>\n",
              "      <td>2118.919922</td>\n",
              "      <td>134.643646</td>\n",
              "      <td>219.562622</td>\n",
              "      <td>-19.961748</td>\n",
              "      <td>171.878754</td>\n",
              "      <td>40.171753</td>\n",
              "      <td>103.120712</td>\n",
              "      <td>-14.271939</td>\n",
              "      <td>102.651230</td>\n",
              "      <td>18.734617</td>\n",
              "      <td>79.070000</td>\n",
              "      <td>-15.619381</td>\n",
              "      <td>48.510284</td>\n",
              "      <td>19.207966</td>\n",
              "      <td>53.642956</td>\n",
              "      <td>-18.274683</td>\n",
              "      <td>95.300995</td>\n",
              "      <td>14.316693</td>\n",
              "      <td>58.821163</td>\n",
              "      <td>-5.792194</td>\n",
              "      <td>55.030254</td>\n",
              "      <td>17.045437</td>\n",
              "      <td>43.229939</td>\n",
              "      <td>-5.681399</td>\n",
              "      <td>46.515259</td>\n",
              "      <td>5.705521</td>\n",
              "      <td>24.956211</td>\n",
              "      <td>-7.986080</td>\n",
              "      <td>39.816933</td>\n",
              "      <td>2.092937</td>\n",
              "      <td>30.336359</td>\n",
              "      <td>0.664582</td>\n",
              "      <td>45.880913</td>\n",
              "      <td>1.689446</td>\n",
              "      <td>51.363583</td>\n",
              "      <td>-3.392489</td>\n",
              "      <td>26.738789</td>\n",
              "      <td>0.536961</td>\n",
              "      <td>29.146694</td>\n",
              "      <td>blues</td>\n",
              "    </tr>\n",
              "    <tr>\n",
              "      <th>...</th>\n",
              "      <td>...</td>\n",
              "      <td>...</td>\n",
              "      <td>...</td>\n",
              "      <td>...</td>\n",
              "      <td>...</td>\n",
              "      <td>...</td>\n",
              "      <td>...</td>\n",
              "      <td>...</td>\n",
              "      <td>...</td>\n",
              "      <td>...</td>\n",
              "      <td>...</td>\n",
              "      <td>...</td>\n",
              "      <td>...</td>\n",
              "      <td>...</td>\n",
              "      <td>...</td>\n",
              "      <td>...</td>\n",
              "      <td>...</td>\n",
              "      <td>...</td>\n",
              "      <td>...</td>\n",
              "      <td>...</td>\n",
              "      <td>...</td>\n",
              "      <td>...</td>\n",
              "      <td>...</td>\n",
              "      <td>...</td>\n",
              "      <td>...</td>\n",
              "      <td>...</td>\n",
              "      <td>...</td>\n",
              "      <td>...</td>\n",
              "      <td>...</td>\n",
              "      <td>...</td>\n",
              "      <td>...</td>\n",
              "      <td>...</td>\n",
              "      <td>...</td>\n",
              "      <td>...</td>\n",
              "      <td>...</td>\n",
              "      <td>...</td>\n",
              "      <td>...</td>\n",
              "      <td>...</td>\n",
              "      <td>...</td>\n",
              "      <td>...</td>\n",
              "      <td>...</td>\n",
              "      <td>...</td>\n",
              "      <td>...</td>\n",
              "      <td>...</td>\n",
              "      <td>...</td>\n",
              "      <td>...</td>\n",
              "      <td>...</td>\n",
              "      <td>...</td>\n",
              "      <td>...</td>\n",
              "      <td>...</td>\n",
              "      <td>...</td>\n",
              "      <td>...</td>\n",
              "      <td>...</td>\n",
              "      <td>...</td>\n",
              "      <td>...</td>\n",
              "      <td>...</td>\n",
              "      <td>...</td>\n",
              "      <td>...</td>\n",
              "      <td>...</td>\n",
              "      <td>...</td>\n",
              "    </tr>\n",
              "    <tr>\n",
              "      <th>9985</th>\n",
              "      <td>rock.00099.5.wav</td>\n",
              "      <td>66149</td>\n",
              "      <td>0.349126</td>\n",
              "      <td>0.080515</td>\n",
              "      <td>0.050019</td>\n",
              "      <td>0.000097</td>\n",
              "      <td>1499.083005</td>\n",
              "      <td>164266.886443</td>\n",
              "      <td>1718.707215</td>\n",
              "      <td>85931.574523</td>\n",
              "      <td>3015.559458</td>\n",
              "      <td>8.479527e+05</td>\n",
              "      <td>0.072885</td>\n",
              "      <td>0.000661</td>\n",
              "      <td>-0.000034</td>\n",
              "      <td>0.002113</td>\n",
              "      <td>-0.000020</td>\n",
              "      <td>0.000146</td>\n",
              "      <td>123.046875</td>\n",
              "      <td>-224.972168</td>\n",
              "      <td>2012.923584</td>\n",
              "      <td>141.034027</td>\n",
              "      <td>516.071289</td>\n",
              "      <td>-31.418577</td>\n",
              "      <td>183.526886</td>\n",
              "      <td>44.239845</td>\n",
              "      <td>87.187004</td>\n",
              "      <td>-7.560237</td>\n",
              "      <td>113.792641</td>\n",
              "      <td>23.984304</td>\n",
              "      <td>40.124763</td>\n",
              "      <td>-4.667820</td>\n",
              "      <td>52.830784</td>\n",
              "      <td>16.754074</td>\n",
              "      <td>54.547379</td>\n",
              "      <td>-15.778140</td>\n",
              "      <td>35.361969</td>\n",
              "      <td>21.247795</td>\n",
              "      <td>30.610723</td>\n",
              "      <td>-2.748509</td>\n",
              "      <td>30.471853</td>\n",
              "      <td>9.496511</td>\n",
              "      <td>46.488537</td>\n",
              "      <td>-16.715929</td>\n",
              "      <td>51.195080</td>\n",
              "      <td>8.380793</td>\n",
              "      <td>30.274279</td>\n",
              "      <td>-2.225949</td>\n",
              "      <td>80.351776</td>\n",
              "      <td>5.773784</td>\n",
              "      <td>42.485981</td>\n",
              "      <td>-9.094270</td>\n",
              "      <td>38.326839</td>\n",
              "      <td>-4.246976</td>\n",
              "      <td>31.049839</td>\n",
              "      <td>-5.625813</td>\n",
              "      <td>48.804092</td>\n",
              "      <td>1.818823</td>\n",
              "      <td>38.966969</td>\n",
              "      <td>rock</td>\n",
              "    </tr>\n",
              "    <tr>\n",
              "      <th>9986</th>\n",
              "      <td>rock.00099.6.wav</td>\n",
              "      <td>66149</td>\n",
              "      <td>0.372564</td>\n",
              "      <td>0.082626</td>\n",
              "      <td>0.057897</td>\n",
              "      <td>0.000088</td>\n",
              "      <td>1847.965128</td>\n",
              "      <td>281054.935973</td>\n",
              "      <td>1906.468492</td>\n",
              "      <td>99727.037054</td>\n",
              "      <td>3746.694524</td>\n",
              "      <td>1.170890e+06</td>\n",
              "      <td>0.089111</td>\n",
              "      <td>0.000987</td>\n",
              "      <td>-0.000027</td>\n",
              "      <td>0.002897</td>\n",
              "      <td>-0.000045</td>\n",
              "      <td>0.000145</td>\n",
              "      <td>83.354335</td>\n",
              "      <td>-192.806641</td>\n",
              "      <td>885.160339</td>\n",
              "      <td>118.249252</td>\n",
              "      <td>545.983276</td>\n",
              "      <td>-36.626003</td>\n",
              "      <td>140.996994</td>\n",
              "      <td>47.933037</td>\n",
              "      <td>186.287338</td>\n",
              "      <td>-6.903654</td>\n",
              "      <td>76.394951</td>\n",
              "      <td>26.585802</td>\n",
              "      <td>88.797173</td>\n",
              "      <td>-8.740885</td>\n",
              "      <td>71.156433</td>\n",
              "      <td>10.913206</td>\n",
              "      <td>61.830791</td>\n",
              "      <td>-17.822914</td>\n",
              "      <td>41.004284</td>\n",
              "      <td>23.483845</td>\n",
              "      <td>92.437691</td>\n",
              "      <td>-4.919242</td>\n",
              "      <td>33.177044</td>\n",
              "      <td>11.510695</td>\n",
              "      <td>40.045124</td>\n",
              "      <td>-19.505360</td>\n",
              "      <td>39.993141</td>\n",
              "      <td>2.598546</td>\n",
              "      <td>45.540180</td>\n",
              "      <td>-8.003813</td>\n",
              "      <td>34.249245</td>\n",
              "      <td>2.074155</td>\n",
              "      <td>32.415203</td>\n",
              "      <td>-12.375726</td>\n",
              "      <td>66.418587</td>\n",
              "      <td>-3.081278</td>\n",
              "      <td>54.414265</td>\n",
              "      <td>-11.960546</td>\n",
              "      <td>63.452255</td>\n",
              "      <td>0.428857</td>\n",
              "      <td>18.697033</td>\n",
              "      <td>rock</td>\n",
              "    </tr>\n",
              "    <tr>\n",
              "      <th>9987</th>\n",
              "      <td>rock.00099.7.wav</td>\n",
              "      <td>66149</td>\n",
              "      <td>0.347481</td>\n",
              "      <td>0.089019</td>\n",
              "      <td>0.052403</td>\n",
              "      <td>0.000701</td>\n",
              "      <td>1346.157659</td>\n",
              "      <td>662956.246325</td>\n",
              "      <td>1561.859087</td>\n",
              "      <td>138762.841945</td>\n",
              "      <td>2442.362154</td>\n",
              "      <td>2.602871e+06</td>\n",
              "      <td>0.072194</td>\n",
              "      <td>0.003784</td>\n",
              "      <td>0.000015</td>\n",
              "      <td>0.002455</td>\n",
              "      <td>-0.000029</td>\n",
              "      <td>0.000356</td>\n",
              "      <td>123.046875</td>\n",
              "      <td>-287.840088</td>\n",
              "      <td>18053.564453</td>\n",
              "      <td>131.430176</td>\n",
              "      <td>990.859253</td>\n",
              "      <td>-11.647097</td>\n",
              "      <td>1331.622681</td>\n",
              "      <td>55.451031</td>\n",
              "      <td>183.539337</td>\n",
              "      <td>11.773556</td>\n",
              "      <td>201.108780</td>\n",
              "      <td>24.390709</td>\n",
              "      <td>172.583389</td>\n",
              "      <td>-6.812969</td>\n",
              "      <td>121.175438</td>\n",
              "      <td>11.158732</td>\n",
              "      <td>132.398453</td>\n",
              "      <td>-11.628373</td>\n",
              "      <td>38.258247</td>\n",
              "      <td>7.262672</td>\n",
              "      <td>68.381416</td>\n",
              "      <td>-1.402563</td>\n",
              "      <td>91.842232</td>\n",
              "      <td>6.899863</td>\n",
              "      <td>33.722115</td>\n",
              "      <td>-13.186050</td>\n",
              "      <td>28.824409</td>\n",
              "      <td>-3.914767</td>\n",
              "      <td>98.936378</td>\n",
              "      <td>-9.124884</td>\n",
              "      <td>44.127342</td>\n",
              "      <td>-1.005473</td>\n",
              "      <td>78.228149</td>\n",
              "      <td>-2.524483</td>\n",
              "      <td>21.778994</td>\n",
              "      <td>4.809936</td>\n",
              "      <td>25.980829</td>\n",
              "      <td>1.775686</td>\n",
              "      <td>48.582378</td>\n",
              "      <td>-0.299545</td>\n",
              "      <td>41.586990</td>\n",
              "      <td>rock</td>\n",
              "    </tr>\n",
              "    <tr>\n",
              "      <th>9988</th>\n",
              "      <td>rock.00099.8.wav</td>\n",
              "      <td>66149</td>\n",
              "      <td>0.387527</td>\n",
              "      <td>0.084815</td>\n",
              "      <td>0.066430</td>\n",
              "      <td>0.000320</td>\n",
              "      <td>2084.515327</td>\n",
              "      <td>203891.039161</td>\n",
              "      <td>2018.366254</td>\n",
              "      <td>22860.992562</td>\n",
              "      <td>4313.266226</td>\n",
              "      <td>4.968878e+05</td>\n",
              "      <td>0.104072</td>\n",
              "      <td>0.001951</td>\n",
              "      <td>0.000004</td>\n",
              "      <td>0.003681</td>\n",
              "      <td>-0.000048</td>\n",
              "      <td>0.000311</td>\n",
              "      <td>123.046875</td>\n",
              "      <td>-162.659592</td>\n",
              "      <td>3131.105469</td>\n",
              "      <td>105.525452</td>\n",
              "      <td>340.165039</td>\n",
              "      <td>-36.225224</td>\n",
              "      <td>187.097839</td>\n",
              "      <td>63.086830</td>\n",
              "      <td>110.704758</td>\n",
              "      <td>-14.349810</td>\n",
              "      <td>65.637077</td>\n",
              "      <td>31.208384</td>\n",
              "      <td>52.937691</td>\n",
              "      <td>-16.295706</td>\n",
              "      <td>68.101440</td>\n",
              "      <td>18.583887</td>\n",
              "      <td>110.503654</td>\n",
              "      <td>-19.150936</td>\n",
              "      <td>27.294020</td>\n",
              "      <td>16.491760</td>\n",
              "      <td>32.721035</td>\n",
              "      <td>-8.492604</td>\n",
              "      <td>28.602901</td>\n",
              "      <td>12.855068</td>\n",
              "      <td>24.554409</td>\n",
              "      <td>-14.699870</td>\n",
              "      <td>18.588800</td>\n",
              "      <td>4.112486</td>\n",
              "      <td>18.905340</td>\n",
              "      <td>-5.266814</td>\n",
              "      <td>20.634571</td>\n",
              "      <td>4.123402</td>\n",
              "      <td>28.323744</td>\n",
              "      <td>-5.363541</td>\n",
              "      <td>17.209942</td>\n",
              "      <td>6.462601</td>\n",
              "      <td>21.442928</td>\n",
              "      <td>2.354765</td>\n",
              "      <td>24.843613</td>\n",
              "      <td>0.675824</td>\n",
              "      <td>12.787750</td>\n",
              "      <td>rock</td>\n",
              "    </tr>\n",
              "    <tr>\n",
              "      <th>9989</th>\n",
              "      <td>rock.00099.9.wav</td>\n",
              "      <td>66149</td>\n",
              "      <td>0.369293</td>\n",
              "      <td>0.086759</td>\n",
              "      <td>0.050524</td>\n",
              "      <td>0.000067</td>\n",
              "      <td>1634.330126</td>\n",
              "      <td>411429.169769</td>\n",
              "      <td>1867.422378</td>\n",
              "      <td>119722.211518</td>\n",
              "      <td>3462.042142</td>\n",
              "      <td>1.517016e+06</td>\n",
              "      <td>0.068495</td>\n",
              "      <td>0.001388</td>\n",
              "      <td>-0.000032</td>\n",
              "      <td>0.002151</td>\n",
              "      <td>0.000014</td>\n",
              "      <td>0.000165</td>\n",
              "      <td>234.907670</td>\n",
              "      <td>-236.018494</td>\n",
              "      <td>1983.238525</td>\n",
              "      <td>125.729851</td>\n",
              "      <td>1026.560547</td>\n",
              "      <td>-17.066608</td>\n",
              "      <td>220.924911</td>\n",
              "      <td>62.751545</td>\n",
              "      <td>138.793884</td>\n",
              "      <td>-7.210380</td>\n",
              "      <td>59.799850</td>\n",
              "      <td>12.051001</td>\n",
              "      <td>144.436005</td>\n",
              "      <td>-9.803603</td>\n",
              "      <td>87.197350</td>\n",
              "      <td>11.539696</td>\n",
              "      <td>49.170475</td>\n",
              "      <td>-14.211831</td>\n",
              "      <td>47.710716</td>\n",
              "      <td>19.525213</td>\n",
              "      <td>89.985863</td>\n",
              "      <td>-2.227311</td>\n",
              "      <td>54.529694</td>\n",
              "      <td>18.518749</td>\n",
              "      <td>36.854664</td>\n",
              "      <td>-13.869130</td>\n",
              "      <td>43.309685</td>\n",
              "      <td>9.048212</td>\n",
              "      <td>34.981422</td>\n",
              "      <td>-7.005269</td>\n",
              "      <td>28.990051</td>\n",
              "      <td>1.342274</td>\n",
              "      <td>38.801735</td>\n",
              "      <td>-11.598399</td>\n",
              "      <td>58.983097</td>\n",
              "      <td>-0.178517</td>\n",
              "      <td>55.761299</td>\n",
              "      <td>-6.903252</td>\n",
              "      <td>39.485901</td>\n",
              "      <td>-3.412534</td>\n",
              "      <td>31.727489</td>\n",
              "      <td>rock</td>\n",
              "    </tr>\n",
              "  </tbody>\n",
              "</table>\n",
              "<p>9990 rows × 60 columns</p>\n",
              "</div>"
            ],
            "text/plain": [
              "               filename  length  ...  mfcc20_var  label\n",
              "0     blues.00000.0.wav   66149  ...   43.771767  blues\n",
              "1     blues.00000.1.wav   66149  ...   59.943081  blues\n",
              "2     blues.00000.2.wav   66149  ...   33.105122  blues\n",
              "3     blues.00000.3.wav   66149  ...   32.023678  blues\n",
              "4     blues.00000.4.wav   66149  ...   29.146694  blues\n",
              "...                 ...     ...  ...         ...    ...\n",
              "9985   rock.00099.5.wav   66149  ...   38.966969   rock\n",
              "9986   rock.00099.6.wav   66149  ...   18.697033   rock\n",
              "9987   rock.00099.7.wav   66149  ...   41.586990   rock\n",
              "9988   rock.00099.8.wav   66149  ...   12.787750   rock\n",
              "9989   rock.00099.9.wav   66149  ...   31.727489   rock\n",
              "\n",
              "[9990 rows x 60 columns]"
            ]
          },
          "metadata": {},
          "execution_count": 14
        }
      ]
    },
    {
      "cell_type": "code",
      "metadata": {
        "colab": {
          "base_uri": "https://localhost:8080/"
        },
        "id": "DpWlSRRaaTIl",
        "outputId": "3910119a-9b3b-4b9f-97b8-54f3e316e0e1"
      },
      "source": [
        "data.isna().any().sum(axis=0)"
      ],
      "execution_count": null,
      "outputs": [
        {
          "output_type": "execute_result",
          "data": {
            "text/plain": [
              "0"
            ]
          },
          "metadata": {},
          "execution_count": 82
        }
      ]
    },
    {
      "cell_type": "markdown",
      "metadata": {
        "id": "chDNknCDan3R"
      },
      "source": [
        "Пропусков в данных нет"
      ]
    },
    {
      "cell_type": "code",
      "metadata": {
        "id": "sc1uotV9MRce"
      },
      "source": [
        "data.drop(['filename', 'length'], axis=1, inplace=True)"
      ],
      "execution_count": null,
      "outputs": []
    },
    {
      "cell_type": "code",
      "metadata": {
        "colab": {
          "base_uri": "https://localhost:8080/"
        },
        "id": "qaLeYmioKUjW",
        "outputId": "b4b045e7-d52d-4562-ff76-6392dbd0dda3"
      },
      "source": [
        "data.label.value_counts()"
      ],
      "execution_count": null,
      "outputs": [
        {
          "output_type": "execute_result",
          "data": {
            "text/plain": [
              "reggae       1000\n",
              "blues        1000\n",
              "metal        1000\n",
              "pop          1000\n",
              "jazz         1000\n",
              "disco         999\n",
              "hiphop        998\n",
              "classical     998\n",
              "rock          998\n",
              "country       997\n",
              "Name: label, dtype: int64"
            ]
          },
          "metadata": {},
          "execution_count": 21
        }
      ]
    },
    {
      "cell_type": "markdown",
      "metadata": {
        "id": "LKU_h8kVKm4Z"
      },
      "source": [
        "Прекрасно, у нас 10 сбалансированных классов!"
      ]
    },
    {
      "cell_type": "markdown",
      "metadata": {
        "id": "whQnj5MZ32tG"
      },
      "source": [
        "### (2 балла) Обучите несколько моделей, посмотрите на метрики.\n",
        "Как модели точно возьмите LogisticRegression, KNN и константу, можете придумать еще какие-нибудь.\n",
        "\n",
        "Как метрики точно возьмите accuracy, разные усреднения precision, recall и f1."
      ]
    },
    {
      "cell_type": "code",
      "metadata": {
        "id": "hgrJPeQ1LXUB"
      },
      "source": [
        "X = StandardScaler().fit_transform(data.drop('label', axis=1))\n",
        "y = data.label"
      ],
      "execution_count": null,
      "outputs": []
    },
    {
      "cell_type": "code",
      "metadata": {
        "id": "87m7MrAqKzf6"
      },
      "source": [
        "X_train, X_test, y_train, y_test = train_test_split(X, y, test_size=0.2, random_state=42)"
      ],
      "execution_count": null,
      "outputs": []
    },
    {
      "cell_type": "code",
      "metadata": {
        "id": "MmST1_qi32tI"
      },
      "source": [
        "log_reg = LogisticRegression(max_iter=1000)\n",
        "log_reg.fit(X_train, y_train)\n",
        "y_pred_log_reg = log_reg.predict(X_test)\n",
        "y_pred_proba_log_reg = log_reg.predict_proba(X_test)"
      ],
      "execution_count": null,
      "outputs": []
    },
    {
      "cell_type": "code",
      "metadata": {
        "id": "nEPMSeRoTG1h"
      },
      "source": [
        "from sklearn.neighbors import KNeighborsClassifier"
      ],
      "execution_count": null,
      "outputs": []
    },
    {
      "cell_type": "code",
      "metadata": {
        "id": "IAUGRpN3TQpf"
      },
      "source": [
        "knn = KNeighborsClassifier(n_neighbors=5)\n",
        "knn.fit(X_train, y_train)\n",
        "y_pred_knn = knn.predict(X_test)\n",
        "y_pred_proba_knn = knn.predict_proba(X_test)"
      ],
      "execution_count": null,
      "outputs": []
    },
    {
      "cell_type": "code",
      "metadata": {
        "id": "QWJsCjQDU8PZ"
      },
      "source": [
        "y_pred_const = np.array(['reggae'] * y_test.shape[0])"
      ],
      "execution_count": null,
      "outputs": []
    },
    {
      "cell_type": "code",
      "metadata": {
        "colab": {
          "base_uri": "https://localhost:8080/"
        },
        "id": "Rtggp1yaMGA9",
        "outputId": "d1fa0bc3-e966-42d8-a47c-958693fd6cfb"
      },
      "source": [
        "print(accuracy_score(y_test, y_pred_log_reg))"
      ],
      "execution_count": null,
      "outputs": [
        {
          "output_type": "stream",
          "name": "stdout",
          "text": [
            "0.7362362362362362\n"
          ]
        }
      ]
    },
    {
      "cell_type": "code",
      "metadata": {
        "colab": {
          "base_uri": "https://localhost:8080/"
        },
        "id": "-uLyC3-kTg0K",
        "outputId": "829b6cf0-19a0-4ad6-f0f8-67f08e78b012"
      },
      "source": [
        "print(accuracy_score(y_test, y_pred_knn))"
      ],
      "execution_count": null,
      "outputs": [
        {
          "output_type": "stream",
          "name": "stdout",
          "text": [
            "0.9024024024024024\n"
          ]
        }
      ]
    },
    {
      "cell_type": "code",
      "metadata": {
        "colab": {
          "base_uri": "https://localhost:8080/"
        },
        "id": "FQlrHdGuVV2-",
        "outputId": "38bdba8d-9ca3-4501-aeda-0895f713704b"
      },
      "source": [
        "print(accuracy_score(y_test, y_pred_const))"
      ],
      "execution_count": null,
      "outputs": [
        {
          "output_type": "stream",
          "name": "stdout",
          "text": [
            "0.10560560560560561\n"
          ]
        }
      ]
    },
    {
      "cell_type": "code",
      "metadata": {
        "colab": {
          "base_uri": "https://localhost:8080/"
        },
        "id": "o18-oTT_OGh1",
        "outputId": "e402b855-200a-4721-f9da-4f4a6a10272e"
      },
      "source": [
        "print(precision_score(y_test, y_pred_log_reg, average='macro'))\n",
        "print(recall_score(y_test, y_pred_log_reg, average='macro'))\n",
        "print(f1_score(y_test, y_pred_log_reg, average='macro'))"
      ],
      "execution_count": null,
      "outputs": [
        {
          "output_type": "stream",
          "name": "stdout",
          "text": [
            "0.7317296605806933\n",
            "0.737082782464558\n",
            "0.7329753678895695\n"
          ]
        }
      ]
    },
    {
      "cell_type": "code",
      "metadata": {
        "colab": {
          "base_uri": "https://localhost:8080/"
        },
        "id": "R06xssnMOQlJ",
        "outputId": "cb70e005-3f1c-450f-afbd-98ff72bdb0a7"
      },
      "source": [
        "print(precision_score(y_test, y_pred_log_reg, average='micro'))\n",
        "print(recall_score(y_test, y_pred_log_reg, average='micro'))\n",
        "print(f1_score(y_test, y_pred_log_reg, average='micro'))"
      ],
      "execution_count": null,
      "outputs": [
        {
          "output_type": "stream",
          "name": "stdout",
          "text": [
            "0.7362362362362362\n",
            "0.7362362362362362\n",
            "0.7362362362362362\n"
          ]
        }
      ]
    },
    {
      "cell_type": "code",
      "metadata": {
        "colab": {
          "base_uri": "https://localhost:8080/"
        },
        "id": "aEtfqanNToU3",
        "outputId": "d6c906cc-2081-47c1-deb7-fee2b8ee9e2d"
      },
      "source": [
        "print(precision_score(y_test, y_pred_knn, average='macro'))\n",
        "print(recall_score(y_test, y_pred_knn, average='macro'))\n",
        "print(f1_score(y_test, y_pred_knn, average='macro'))"
      ],
      "execution_count": null,
      "outputs": [
        {
          "output_type": "stream",
          "name": "stdout",
          "text": [
            "0.9028564231707508\n",
            "0.9014989626464469\n",
            "0.9014914416601117\n"
          ]
        }
      ]
    },
    {
      "cell_type": "code",
      "metadata": {
        "colab": {
          "base_uri": "https://localhost:8080/"
        },
        "id": "P-zKw04wTouS",
        "outputId": "f2c6841c-23a0-4682-9df2-c6a8cce8cd4d"
      },
      "source": [
        "print(precision_score(y_test, y_pred_knn, average='micro'))\n",
        "print(recall_score(y_test, y_pred_knn, average='micro'))\n",
        "print(f1_score(y_test, y_pred_knn, average='micro'))"
      ],
      "execution_count": null,
      "outputs": [
        {
          "output_type": "stream",
          "name": "stdout",
          "text": [
            "0.9024024024024024\n",
            "0.9024024024024024\n",
            "0.9024024024024024\n"
          ]
        }
      ]
    },
    {
      "cell_type": "code",
      "metadata": {
        "colab": {
          "base_uri": "https://localhost:8080/"
        },
        "id": "AE6alPQcVj9r",
        "outputId": "5d130c79-3456-483f-d00d-cdaafbf7c2cc"
      },
      "source": [
        "print(precision_score(y_test, y_pred_const, average='macro'))\n",
        "print(recall_score(y_test, y_pred_const, average='macro'))\n",
        "print(f1_score(y_test, y_pred_const, average='macro'))"
      ],
      "execution_count": null,
      "outputs": [
        {
          "output_type": "stream",
          "name": "stdout",
          "text": [
            "0.010560560560560562\n",
            "0.1\n",
            "0.01910366681756451\n"
          ]
        },
        {
          "output_type": "stream",
          "name": "stderr",
          "text": [
            "/usr/local/lib/python3.7/dist-packages/sklearn/metrics/_classification.py:1308: UndefinedMetricWarning:\n",
            "\n",
            "Precision is ill-defined and being set to 0.0 in labels with no predicted samples. Use `zero_division` parameter to control this behavior.\n",
            "\n"
          ]
        }
      ]
    },
    {
      "cell_type": "code",
      "metadata": {
        "id": "ugzAJbOmf93m"
      },
      "source": [
        "from sklearn.metrics import make_scorer\n",
        "prec = make_scorer(precision_score, average='macro')\n",
        "rec = make_scorer(recall_score, average='macro')"
      ],
      "execution_count": null,
      "outputs": []
    },
    {
      "cell_type": "code",
      "metadata": {
        "id": "BdRZh_DZ32tI",
        "colab": {
          "base_uri": "https://localhost:8080/"
        },
        "outputId": "90730f7a-ef74-4f13-c19f-ed8f0d5c53fd"
      },
      "source": [
        "np.mean(cross_val_score(log_reg, X, y, cv=5, scoring='accuracy'))"
      ],
      "execution_count": null,
      "outputs": [
        {
          "output_type": "execute_result",
          "data": {
            "text/plain": [
              "0.5605605605605606"
            ]
          },
          "metadata": {},
          "execution_count": 57
        }
      ]
    },
    {
      "cell_type": "code",
      "metadata": {
        "colab": {
          "base_uri": "https://localhost:8080/"
        },
        "id": "ednkdPbPgPi6",
        "outputId": "d42a2f3e-c556-438a-a20b-beeb7f76a0d3"
      },
      "source": [
        "np.mean(cross_val_score(log_reg, X, y, cv=5, scoring=prec))"
      ],
      "execution_count": null,
      "outputs": [
        {
          "output_type": "execute_result",
          "data": {
            "text/plain": [
              "0.5593533599332919"
            ]
          },
          "metadata": {},
          "execution_count": 14
        }
      ]
    },
    {
      "cell_type": "code",
      "metadata": {
        "colab": {
          "base_uri": "https://localhost:8080/"
        },
        "id": "ZcUyya8cgfqz",
        "outputId": "5a44751e-971c-448a-e554-b326836439b7"
      },
      "source": [
        "np.mean(cross_val_score(log_reg, X, y, cv=5, scoring=rec))"
      ],
      "execution_count": null,
      "outputs": [
        {
          "output_type": "execute_result",
          "data": {
            "text/plain": [
              "0.560535175879397"
            ]
          },
          "metadata": {},
          "execution_count": 17
        }
      ]
    },
    {
      "cell_type": "code",
      "metadata": {
        "colab": {
          "base_uri": "https://localhost:8080/"
        },
        "id": "H2oni2u7Tz3e",
        "outputId": "8a553d07-061d-4bef-d43a-0c272a6a75db"
      },
      "source": [
        "np.mean(cross_val_score(knn, X, y, cv=5, scoring='accuracy'))"
      ],
      "execution_count": null,
      "outputs": [
        {
          "output_type": "execute_result",
          "data": {
            "text/plain": [
              "0.513113113113113"
            ]
          },
          "metadata": {},
          "execution_count": 55
        }
      ]
    },
    {
      "cell_type": "code",
      "metadata": {
        "colab": {
          "base_uri": "https://localhost:8080/"
        },
        "id": "GQHSCJ5Tg9Ig",
        "outputId": "37f0273f-0380-4513-ac69-62c52f8bf01e"
      },
      "source": [
        "np.mean(cross_val_score(knn, X, y, cv=5, scoring=prec))"
      ],
      "execution_count": null,
      "outputs": [
        {
          "output_type": "execute_result",
          "data": {
            "text/plain": [
              "0.519977885512639"
            ]
          },
          "metadata": {},
          "execution_count": 18
        }
      ]
    },
    {
      "cell_type": "code",
      "metadata": {
        "colab": {
          "base_uri": "https://localhost:8080/"
        },
        "id": "FFTaZ-_Wg9Q4",
        "outputId": "78f83b16-edfd-4f49-dbb8-74104ef1c331"
      },
      "source": [
        "np.mean(cross_val_score(knn, X, y, cv=5, scoring=rec))"
      ],
      "execution_count": null,
      "outputs": [
        {
          "output_type": "execute_result",
          "data": {
            "text/plain": [
              "0.5131653266331658"
            ]
          },
          "metadata": {},
          "execution_count": 19
        }
      ]
    },
    {
      "cell_type": "markdown",
      "metadata": {
        "id": "SqpCcEq1Ut31"
      },
      "source": [
        "Константное предсказание имеет очень плохие результаты, как и ожидалось. А остальные модели хоть и на тестовой выборке и показывают неплохой результат, на кросс-валидации же все куда хуже."
      ]
    },
    {
      "cell_type": "markdown",
      "metadata": {
        "id": "G8pONHCP32tK"
      },
      "source": [
        "### (2 балла) Выберите метрику, которую вы хотите максимизировать. Переберите гиперпараметры, постарайтесь найти модель, которая максимизирует эту метрику.\n",
        "\n",
        "Обоснуйте свой выбор. Напишите красивый отчет с графиками. Добились ли вы результатов, которых хотели добиться для этого датасета?"
      ]
    },
    {
      "cell_type": "markdown",
      "metadata": {
        "id": "l0x1ZntJSOR0"
      },
      "source": [
        "Я хочу предсказать правильно жанр как можно у больших песен! Считаю, что для этой цели идеально подходит метрика accuracy"
      ]
    },
    {
      "cell_type": "code",
      "metadata": {
        "id": "srJQP3w532tL"
      },
      "source": [
        "reg_coefs = np.arange(0.1, 3, 0.1)\n",
        "accuracies = []\n",
        "for coef in reg_coefs:\n",
        "    log_reg = LogisticRegression(C=coef, max_iter=1000)\n",
        "    accuracies.append(np.mean(cross_val_score(log_reg, X, y, cv=5, scoring='accuracy')))"
      ],
      "execution_count": null,
      "outputs": []
    },
    {
      "cell_type": "code",
      "metadata": {
        "colab": {
          "base_uri": "https://localhost:8080/",
          "height": 295
        },
        "id": "MKsATfD9bBqj",
        "outputId": "9d0f3d17-13b8-4ab4-97d1-47b6043993ab"
      },
      "source": [
        "plt.plot(reg_coefs, accuracies)\n",
        "plt.xlabel('Regularization coefficient')\n",
        "plt.ylabel('Accuracy score')\n",
        "plt.title('Regularization coefficient vs Accuracy score')\n",
        "plt.show()"
      ],
      "execution_count": null,
      "outputs": [
        {
          "output_type": "display_data",
          "data": {
            "image/png": "[encoded data removed]",
            "text/plain": [
              "<Figure size 432x288 with 1 Axes>"
            ]
          },
          "metadata": {
            "needs_background": "light"
          }
        }
      ]
    },
    {
      "cell_type": "code",
      "metadata": {
        "colab": {
          "base_uri": "https://localhost:8080/"
        },
        "id": "UYMyZ6aeeBNR",
        "outputId": "ec041ef3-2c2d-4614-c101-08e3ebde17bc"
      },
      "source": [
        "np.mean(cross_val_score(LogisticRegression(C=50, max_iter=2000), X, y, cv=5, scoring='accuracy'))"
      ],
      "execution_count": null,
      "outputs": [
        {
          "output_type": "execute_result",
          "data": {
            "text/plain": [
              "0.5645645645645645"
            ]
          },
          "metadata": {},
          "execution_count": 27
        }
      ]
    },
    {
      "cell_type": "code",
      "metadata": {
        "id": "9fK7yVWpdv5m"
      },
      "source": [
        "reg_coefs = np.arange(3, 150, 5)\n",
        "accuracies = []\n",
        "for coef in reg_coefs:\n",
        "    log_reg = LogisticRegression(C=coef, max_iter=3000)\n",
        "    accuracies.append(np.mean(cross_val_score(log_reg, X, y, cv=5, scoring='accuracy')))"
      ],
      "execution_count": null,
      "outputs": []
    },
    {
      "cell_type": "code",
      "metadata": {
        "colab": {
          "base_uri": "https://localhost:8080/",
          "height": 295
        },
        "id": "lj8ZrOXcdyEm",
        "outputId": "bc1d1fb9-4ea2-40b1-cb16-ddb6c9092aa9"
      },
      "source": [
        "plt.plot(reg_coefs, accuracies)\n",
        "plt.xlabel('Regularization coefficient')\n",
        "plt.ylabel('Accuracy score')\n",
        "plt.title('Regularization coefficient vs Accuracy score')\n",
        "plt.show()"
      ],
      "execution_count": null,
      "outputs": [
        {
          "output_type": "display_data",
          "data": {
            "image/png": "[encoded data removed]",
            "text/plain": [
              "<Figure size 432x288 with 1 Axes>"
            ]
          },
          "metadata": {
            "needs_background": "light"
          }
        }
      ]
    },
    {
      "cell_type": "code",
      "metadata": {
        "colab": {
          "base_uri": "https://localhost:8080/"
        },
        "id": "7S_9_Xb0kv4v",
        "outputId": "07cdb8d3-4a9c-4d05-b485-f0bee7ba936c"
      },
      "source": [
        "reg_coefs[np.array(accuracies).argmax()], np.array(accuracies).max()"
      ],
      "execution_count": null,
      "outputs": [
        {
          "output_type": "execute_result",
          "data": {
            "text/plain": [
              "(68, 0.5647647647647649)"
            ]
          },
          "metadata": {},
          "execution_count": 34
        }
      ]
    },
    {
      "cell_type": "markdown",
      "metadata": {
        "id": "HSSUG3MSmGx9"
      },
      "source": [
        "Коэффициент регуляризации улучшил результат на кросс-валидации на 3 сотые, то есть почти не улучшил. Попробуем еще что-нибудь"
      ]
    },
    {
      "cell_type": "code",
      "metadata": {
        "id": "yieXdacb32tM"
      },
      "source": [
        "solvers = ['newton-cg', 'lbfgs', 'liblinear', 'sag', 'saga']\n",
        "accuracies = []\n",
        "for solver in solvers:\n",
        "    log_reg = LogisticRegression(solver=solver, max_iter=3000)\n",
        "    accuracies.append(np.mean(cross_val_score(log_reg, X, y, cv=5, scoring='accuracy')))"
      ],
      "execution_count": null,
      "outputs": []
    },
    {
      "cell_type": "code",
      "metadata": {
        "colab": {
          "base_uri": "https://localhost:8080/"
        },
        "id": "XsmNijZapFtQ",
        "outputId": "73912f47-a5c9-4f88-ba21-c9a3e1773fa8"
      },
      "source": [
        "accuracies"
      ],
      "execution_count": null,
      "outputs": [
        {
          "output_type": "execute_result",
          "data": {
            "text/plain": [
              "[0.5606606606606606,\n",
              " 0.5605605605605606,\n",
              " 0.5475475475475475,\n",
              " 0.5609609609609609,\n",
              " 0.5609609609609609]"
            ]
          },
          "metadata": {},
          "execution_count": 37
        }
      ]
    },
    {
      "cell_type": "markdown",
      "metadata": {
        "id": "CCfVpGw5r_Pf"
      },
      "source": [
        "Ощутимого результата нет"
      ]
    },
    {
      "cell_type": "markdown",
      "metadata": {
        "id": "95aZ2iDZtdfo"
      },
      "source": [
        "Попробуем воспользоваться SelectKBest и посчитать скор на кросс-валидации:"
      ]
    },
    {
      "cell_type": "code",
      "metadata": {
        "colab": {
          "base_uri": "https://localhost:8080/"
        },
        "id": "jowsDd-gusOw",
        "outputId": "99ae6754-93e8-4bd2-f6ff-b069d4cdaede"
      },
      "source": [
        "data.info()"
      ],
      "execution_count": null,
      "outputs": [
        {
          "output_type": "stream",
          "name": "stdout",
          "text": [
            "<class 'pandas.core.frame.DataFrame'>\n",
            "RangeIndex: 9990 entries, 0 to 9989\n",
            "Data columns (total 58 columns):\n",
            " #   Column                   Non-Null Count  Dtype  \n",
            "---  ------                   --------------  -----  \n",
            " 0   chroma_stft_mean         9990 non-null   float64\n",
            " 1   chroma_stft_var          9990 non-null   float64\n",
            " 2   rms_mean                 9990 non-null   float64\n",
            " 3   rms_var                  9990 non-null   float64\n",
            " 4   spectral_centroid_mean   9990 non-null   float64\n",
            " 5   spectral_centroid_var    9990 non-null   float64\n",
            " 6   spectral_bandwidth_mean  9990 non-null   float64\n",
            " 7   spectral_bandwidth_var   9990 non-null   float64\n",
            " 8   rolloff_mean             9990 non-null   float64\n",
            " 9   rolloff_var              9990 non-null   float64\n",
            " 10  zero_crossing_rate_mean  9990 non-null   float64\n",
            " 11  zero_crossing_rate_var   9990 non-null   float64\n",
            " 12  harmony_mean             9990 non-null   float64\n",
            " 13  harmony_var              9990 non-null   float64\n",
            " 14  perceptr_mean            9990 non-null   float64\n",
            " 15  perceptr_var             9990 non-null   float64\n",
            " 16  tempo                    9990 non-null   float64\n",
            " 17  mfcc1_mean               9990 non-null   float64\n",
            " 18  mfcc1_var                9990 non-null   float64\n",
            " 19  mfcc2_mean               9990 non-null   float64\n",
            " 20  mfcc2_var                9990 non-null   float64\n",
            " 21  mfcc3_mean               9990 non-null   float64\n",
            " 22  mfcc3_var                9990 non-null   float64\n",
            " 23  mfcc4_mean               9990 non-null   float64\n",
            " 24  mfcc4_var                9990 non-null   float64\n",
            " 25  mfcc5_mean               9990 non-null   float64\n",
            " 26  mfcc5_var                9990 non-null   float64\n",
            " 27  mfcc6_mean               9990 non-null   float64\n",
            " 28  mfcc6_var                9990 non-null   float64\n",
            " 29  mfcc7_mean               9990 non-null   float64\n",
            " 30  mfcc7_var                9990 non-null   float64\n",
            " 31  mfcc8_mean               9990 non-null   float64\n",
            " 32  mfcc8_var                9990 non-null   float64\n",
            " 33  mfcc9_mean               9990 non-null   float64\n",
            " 34  mfcc9_var                9990 non-null   float64\n",
            " 35  mfcc10_mean              9990 non-null   float64\n",
            " 36  mfcc10_var               9990 non-null   float64\n",
            " 37  mfcc11_mean              9990 non-null   float64\n",
            " 38  mfcc11_var               9990 non-null   float64\n",
            " 39  mfcc12_mean              9990 non-null   float64\n",
            " 40  mfcc12_var               9990 non-null   float64\n",
            " 41  mfcc13_mean              9990 non-null   float64\n",
            " 42  mfcc13_var               9990 non-null   float64\n",
            " 43  mfcc14_mean              9990 non-null   float64\n",
            " 44  mfcc14_var               9990 non-null   float64\n",
            " 45  mfcc15_mean              9990 non-null   float64\n",
            " 46  mfcc15_var               9990 non-null   float64\n",
            " 47  mfcc16_mean              9990 non-null   float64\n",
            " 48  mfcc16_var               9990 non-null   float64\n",
            " 49  mfcc17_mean              9990 non-null   float64\n",
            " 50  mfcc17_var               9990 non-null   float64\n",
            " 51  mfcc18_mean              9990 non-null   float64\n",
            " 52  mfcc18_var               9990 non-null   float64\n",
            " 53  mfcc19_mean              9990 non-null   float64\n",
            " 54  mfcc19_var               9990 non-null   float64\n",
            " 55  mfcc20_mean              9990 non-null   float64\n",
            " 56  mfcc20_var               9990 non-null   float64\n",
            " 57  label                    9990 non-null   object \n",
            "dtypes: float64(57), object(1)\n",
            "memory usage: 4.4+ MB\n"
          ]
        }
      ]
    },
    {
      "cell_type": "code",
      "metadata": {
        "id": "nEI63HSAtcQ1"
      },
      "source": [
        "from sklearn.feature_selection import SelectKBest, f_classif\n",
        "X_kbest = SelectKBest(f_classif, k=20).fit_transform(X, y)"
      ],
      "execution_count": null,
      "outputs": []
    },
    {
      "cell_type": "code",
      "metadata": {
        "id": "plFoHL9Ytsoh"
      },
      "source": [
        "log_reg = LogisticRegression(max_iter=1000)"
      ],
      "execution_count": null,
      "outputs": []
    },
    {
      "cell_type": "code",
      "metadata": {
        "id": "qGgSKJh1up7D"
      },
      "source": [
        "accuracies = []\n",
        "for i in range(10, 40):\n",
        "    for n in range(1, 30):\n",
        "        X_kbest = SelectKBest(f_classif, k=i).fit_transform(X, y)\n",
        "        accuracies.append((i, n, np.mean(cross_val_score(KNeighborsClassifier(n_neighbors=n), X_kbest, y, cv=5, scoring='accuracy'))))"
      ],
      "execution_count": null,
      "outputs": []
    },
    {
      "cell_type": "code",
      "metadata": {
        "colab": {
          "base_uri": "https://localhost:8080/"
        },
        "id": "XRWHHFvV1Od_",
        "outputId": "7af82239-42b8-47ff-fbb1-ccde33445a2a"
      },
      "source": [
        "best_result = max(accuracies, key=lambda x: x[2])\n",
        "best_number_of_features, best_number_of_neighbors, best_accuracy = best_result\n",
        "best_number_of_features, best_number_of_neighbors, best_accuracy"
      ],
      "execution_count": null,
      "outputs": [
        {
          "output_type": "execute_result",
          "data": {
            "text/plain": [
              "(39, 17, 0.5146146146146147)"
            ]
          },
          "metadata": {},
          "execution_count": 56
        }
      ]
    },
    {
      "cell_type": "code",
      "metadata": {
        "colab": {
          "base_uri": "https://localhost:8080/"
        },
        "id": "sZqva1G71Y70",
        "outputId": "fb12a427-059e-4ebd-9577-ee1522dc8f3d"
      },
      "source": [
        "accuracies"
      ],
      "execution_count": null,
      "outputs": [
        {
          "output_type": "execute_result",
          "data": {
            "text/plain": [
              "[(10, 1, 0.40760760760760767),\n",
              " (10, 2, 0.4085085085085085),\n",
              " (10, 3, 0.41821821821821825),\n",
              " (10, 4, 0.4185185185185185),\n",
              " (10, 5, 0.4227227227227227),\n",
              " (10, 6, 0.4255255255255255),\n",
              " (10, 7, 0.42372372372372374),\n",
              " (10, 8, 0.4255255255255255),\n",
              " (10, 9, 0.42592592592592593),\n",
              " (10, 10, 0.42592592592592593),\n",
              " (10, 11, 0.427027027027027),\n",
              " (10, 12, 0.4268268268268268),\n",
              " (10, 13, 0.42842842842842843),\n",
              " (10, 14, 0.4291291291291291),\n",
              " (10, 15, 0.4286286286286286),\n",
              " (10, 16, 0.4288288288288288),\n",
              " (10, 17, 0.42892892892892887),\n",
              " (10, 18, 0.4283283283283283),\n",
              " (10, 19, 0.4295295295295295),\n",
              " (10, 20, 0.42892892892892887),\n",
              " (10, 21, 0.43193193193193197),\n",
              " (10, 22, 0.43073073073073076),\n",
              " (10, 23, 0.43253253253253254),\n",
              " (10, 24, 0.4296296296296297),\n",
              " (10, 25, 0.4291291291291291),\n",
              " (10, 26, 0.428928928928929),\n",
              " (10, 27, 0.4283283283283283),\n",
              " (10, 28, 0.4303303303303303),\n",
              " (10, 29, 0.429029029029029),\n",
              " (11, 1, 0.41821821821821825),\n",
              " (11, 2, 0.416016016016016),\n",
              " (11, 3, 0.4272272272272272),\n",
              " (11, 4, 0.43063063063063056),\n",
              " (11, 5, 0.43343343343343343),\n",
              " (11, 6, 0.43443443443443447),\n",
              " (11, 7, 0.43323323323323326),\n",
              " (11, 8, 0.4363363363363364),\n",
              " (11, 9, 0.43923923923923924),\n",
              " (11, 10, 0.4386386386386386),\n",
              " (11, 11, 0.44244244244244246),\n",
              " (11, 12, 0.4438438438438438),\n",
              " (11, 13, 0.4452452452452452),\n",
              " (11, 14, 0.4438438438438438),\n",
              " (11, 15, 0.44424424424424425),\n",
              " (11, 16, 0.44164164164164166),\n",
              " (11, 17, 0.44424424424424425),\n",
              " (11, 18, 0.4423423423423423),\n",
              " (11, 19, 0.44324324324324327),\n",
              " (11, 20, 0.44304304304304304),\n",
              " (11, 21, 0.44604604604604603),\n",
              " (11, 22, 0.44474474474474485),\n",
              " (11, 23, 0.4421421421421421),\n",
              " (11, 24, 0.44344344344344344),\n",
              " (11, 25, 0.44294294294294295),\n",
              " (11, 26, 0.4433433433433433),\n",
              " (11, 27, 0.4415415415415415),\n",
              " (11, 28, 0.44374374374374376),\n",
              " (11, 29, 0.444044044044044),\n",
              " (12, 1, 0.41791791791791794),\n",
              " (12, 2, 0.4168168168168168),\n",
              " (12, 3, 0.4318318318318318),\n",
              " (12, 4, 0.4351351351351351),\n",
              " (12, 5, 0.43933933933933933),\n",
              " (12, 6, 0.44064064064064057),\n",
              " (12, 7, 0.4396396396396397),\n",
              " (12, 8, 0.4385385385385385),\n",
              " (12, 9, 0.4385385385385385),\n",
              " (12, 10, 0.4385385385385385),\n",
              " (12, 11, 0.44254254254254255),\n",
              " (12, 12, 0.4395395395395395),\n",
              " (12, 13, 0.44064064064064057),\n",
              " (12, 14, 0.442042042042042),\n",
              " (12, 15, 0.44244244244244246),\n",
              " (12, 16, 0.44254254254254255),\n",
              " (12, 17, 0.4423423423423423),\n",
              " (12, 18, 0.44224224224224223),\n",
              " (12, 19, 0.4418418418418419),\n",
              " (12, 20, 0.439039039039039),\n",
              " (12, 21, 0.44054054054054054),\n",
              " (12, 22, 0.4414414414414415),\n",
              " (12, 23, 0.44074074074074077),\n",
              " (12, 24, 0.4398398398398398),\n",
              " (12, 25, 0.4411411411411411),\n",
              " (12, 26, 0.439039039039039),\n",
              " (12, 27, 0.43683683683683683),\n",
              " (12, 28, 0.43693693693693697),\n",
              " (12, 29, 0.4371371371371372),\n",
              " (13, 1, 0.42192192192192196),\n",
              " (13, 2, 0.414014014014014),\n",
              " (13, 3, 0.4271271271271272),\n",
              " (13, 4, 0.42872872872872875),\n",
              " (13, 5, 0.4322322322322322),\n",
              " (13, 6, 0.43253253253253254),\n",
              " (13, 7, 0.4363363363363364),\n",
              " (13, 8, 0.4403403403403404),\n",
              " (13, 9, 0.43723723723723723),\n",
              " (13, 10, 0.44004004004004005),\n",
              " (13, 11, 0.4368368368368369),\n",
              " (13, 12, 0.4378378378378378),\n",
              " (13, 13, 0.43973973973973973),\n",
              " (13, 14, 0.4431431431431432),\n",
              " (13, 15, 0.4413413413413414),\n",
              " (13, 16, 0.4403403403403404),\n",
              " (13, 17, 0.4413413413413414),\n",
              " (13, 18, 0.4365365365365365),\n",
              " (13, 19, 0.43543543543543545),\n",
              " (13, 20, 0.43493493493493496),\n",
              " (13, 21, 0.4371371371371372),\n",
              " (13, 22, 0.43553553553553553),\n",
              " (13, 23, 0.4343343343343344),\n",
              " (13, 24, 0.434034034034034),\n",
              " (13, 25, 0.43503503503503504),\n",
              " (13, 26, 0.4322322322322322),\n",
              " (13, 27, 0.4322322322322322),\n",
              " (13, 28, 0.4298298298298298),\n",
              " (13, 29, 0.4306306306306307),\n",
              " (14, 1, 0.42142142142142147),\n",
              " (14, 2, 0.42492492492492495),\n",
              " (14, 3, 0.4352352352352352),\n",
              " (14, 4, 0.4388388388388388),\n",
              " (14, 5, 0.43693693693693697),\n",
              " (14, 6, 0.44354354354354364),\n",
              " (14, 7, 0.4438438438438439),\n",
              " (14, 8, 0.44374374374374376),\n",
              " (14, 9, 0.4421421421421421),\n",
              " (14, 10, 0.44344344344344344),\n",
              " (14, 11, 0.44424424424424425),\n",
              " (14, 12, 0.4416416416416416),\n",
              " (14, 13, 0.44124124124124126),\n",
              " (14, 14, 0.44074074074074077),\n",
              " (14, 15, 0.439039039039039),\n",
              " (14, 16, 0.441041041041041),\n",
              " (14, 17, 0.44064064064064057),\n",
              " (14, 18, 0.438938938938939),\n",
              " (14, 19, 0.4408408408408408),\n",
              " (14, 20, 0.4413413413413413),\n",
              " (14, 21, 0.44054054054054054),\n",
              " (14, 22, 0.4402402402402402),\n",
              " (14, 23, 0.43873873873873875),\n",
              " (14, 24, 0.4377377377377377),\n",
              " (14, 25, 0.43943943943943947),\n",
              " (14, 26, 0.4377377377377377),\n",
              " (14, 27, 0.4352352352352352),\n",
              " (14, 28, 0.4372372372372372),\n",
              " (14, 29, 0.43543543543543545),\n",
              " (15, 1, 0.4278278278278278),\n",
              " (15, 2, 0.42992992992992995),\n",
              " (15, 3, 0.4378378378378378),\n",
              " (15, 4, 0.4411411411411411),\n",
              " (15, 5, 0.44564564564564557),\n",
              " (15, 6, 0.44544544544544545),\n",
              " (15, 7, 0.448948948948949),\n",
              " (15, 8, 0.4501501501501501),\n",
              " (15, 9, 0.45025025025025023),\n",
              " (15, 10, 0.45305305305305305),\n",
              " (15, 11, 0.4500500500500501),\n",
              " (15, 12, 0.4528528528528528),\n",
              " (15, 13, 0.44974974974974974),\n",
              " (15, 14, 0.4506506506506507),\n",
              " (15, 15, 0.4506506506506507),\n",
              " (15, 16, 0.4483483483483483),\n",
              " (15, 17, 0.4503503503503503),\n",
              " (15, 18, 0.45045045045045046),\n",
              " (15, 19, 0.44874874874874876),\n",
              " (15, 20, 0.44794794794794796),\n",
              " (15, 21, 0.44594594594594594),\n",
              " (15, 22, 0.4468468468468469),\n",
              " (15, 23, 0.44604604604604603),\n",
              " (15, 24, 0.4461461461461461),\n",
              " (15, 25, 0.44724724724724724),\n",
              " (15, 26, 0.4461461461461461),\n",
              " (15, 27, 0.44574574574574577),\n",
              " (15, 28, 0.4463463463463463),\n",
              " (15, 29, 0.446946946946947),\n",
              " (16, 1, 0.4338338338338338),\n",
              " (16, 2, 0.4333333333333334),\n",
              " (16, 3, 0.4428428428428428),\n",
              " (16, 4, 0.44304304304304304),\n",
              " (16, 5, 0.4464464464464465),\n",
              " (16, 6, 0.45045045045045046),\n",
              " (16, 7, 0.4513513513513514),\n",
              " (16, 8, 0.45375375375375376),\n",
              " (16, 9, 0.4533533533533533),\n",
              " (16, 10, 0.45545545545545546),\n",
              " (16, 11, 0.45185185185185184),\n",
              " (16, 12, 0.45175175175175175),\n",
              " (16, 13, 0.453953953953954),\n",
              " (16, 14, 0.453953953953954),\n",
              " (16, 15, 0.4558558558558558),\n",
              " (16, 16, 0.45545545545545546),\n",
              " (16, 17, 0.45345345345345345),\n",
              " (16, 18, 0.45255255255255256),\n",
              " (16, 19, 0.45105105105105103),\n",
              " (16, 20, 0.4504504504504504),\n",
              " (16, 21, 0.45045045045045046),\n",
              " (16, 22, 0.4503503503503503),\n",
              " (16, 23, 0.45045045045045046),\n",
              " (16, 24, 0.45025025025025023),\n",
              " (16, 25, 0.4481481481481481),\n",
              " (16, 26, 0.449049049049049),\n",
              " (16, 27, 0.44924924924924925),\n",
              " (16, 28, 0.44874874874874876),\n",
              " (16, 29, 0.44854854854854853),\n",
              " (17, 1, 0.4386386386386386),\n",
              " (17, 2, 0.4471471471471472),\n",
              " (17, 3, 0.45595595595595595),\n",
              " (17, 4, 0.4636636636636637),\n",
              " (17, 5, 0.4641641641641642),\n",
              " (17, 6, 0.46656656656656653),\n",
              " (17, 7, 0.46346346346346345),\n",
              " (17, 8, 0.4687687687687688),\n",
              " (17, 9, 0.46546546546546547),\n",
              " (17, 10, 0.4674674674674675),\n",
              " (17, 11, 0.46406406406406414),\n",
              " (17, 12, 0.4657657657657658),\n",
              " (17, 13, 0.46376376376376377),\n",
              " (17, 14, 0.46376376376376377),\n",
              " (17, 15, 0.4636636636636636),\n",
              " (17, 16, 0.46526526526526524),\n",
              " (17, 17, 0.4624624624624625),\n",
              " (17, 18, 0.46186186186186184),\n",
              " (17, 19, 0.4614614614614615),\n",
              " (17, 20, 0.4621621621621622),\n",
              " (17, 21, 0.46436436436436435),\n",
              " (17, 22, 0.4651651651651651),\n",
              " (17, 23, 0.46486486486486484),\n",
              " (17, 24, 0.4656656656656657),\n",
              " (17, 25, 0.4657657657657658),\n",
              " (17, 26, 0.46546546546546547),\n",
              " (17, 27, 0.4641641641641642),\n",
              " (17, 28, 0.46346346346346345),\n",
              " (17, 29, 0.4621621621621621),\n",
              " (18, 1, 0.4488488488488488),\n",
              " (18, 2, 0.4546546546546546),\n",
              " (18, 3, 0.46546546546546547),\n",
              " (18, 4, 0.4694694694694695),\n",
              " (18, 5, 0.4713713713713714),\n",
              " (18, 6, 0.47277277277277274),\n",
              " (18, 7, 0.4713713713713713),\n",
              " (18, 8, 0.47477477477477475),\n",
              " (18, 9, 0.474974974974975),\n",
              " (18, 10, 0.47347347347347346),\n",
              " (18, 11, 0.4714714714714715),\n",
              " (18, 12, 0.472072072072072),\n",
              " (18, 13, 0.4732732732732733),\n",
              " (18, 14, 0.4721721721721722),\n",
              " (18, 15, 0.472072072072072),\n",
              " (18, 16, 0.47187187187187185),\n",
              " (18, 17, 0.4703703703703703),\n",
              " (18, 18, 0.47287287287287283),\n",
              " (18, 19, 0.4723723723723724),\n",
              " (18, 20, 0.4737737737737738),\n",
              " (18, 21, 0.47307307307307306),\n",
              " (18, 22, 0.4757757757757758),\n",
              " (18, 23, 0.47527527527527536),\n",
              " (18, 24, 0.4776776776776777),\n",
              " (18, 25, 0.474974974974975),\n",
              " (18, 26, 0.4762762762762763),\n",
              " (18, 27, 0.47507507507507507),\n",
              " (18, 28, 0.4744744744744745),\n",
              " (18, 29, 0.4737737737737738),\n",
              " (19, 1, 0.4589589589589589),\n",
              " (19, 2, 0.453953953953954),\n",
              " (19, 3, 0.46686686686686685),\n",
              " (19, 4, 0.47087087087087093),\n",
              " (19, 5, 0.4724724724724725),\n",
              " (19, 6, 0.4773773773773774),\n",
              " (19, 7, 0.4775775775775776),\n",
              " (19, 8, 0.47847847847847846),\n",
              " (19, 9, 0.4796796796796797),\n",
              " (19, 10, 0.48218218218218223),\n",
              " (19, 11, 0.4787787787787788),\n",
              " (19, 12, 0.47847847847847846),\n",
              " (19, 13, 0.4814814814814815),\n",
              " (19, 14, 0.4801801801801802),\n",
              " (19, 15, 0.478978978978979),\n",
              " (19, 16, 0.48028028028028025),\n",
              " (19, 17, 0.47957957957957953),\n",
              " (19, 18, 0.47987987987987984),\n",
              " (19, 19, 0.47977977977977976),\n",
              " (19, 20, 0.4796796796796797),\n",
              " (19, 21, 0.4804804804804805),\n",
              " (19, 22, 0.4813813813813814),\n",
              " (19, 23, 0.48128128128128134),\n",
              " (19, 24, 0.47847847847847846),\n",
              " (19, 25, 0.478978978978979),\n",
              " (19, 26, 0.4791791791791792),\n",
              " (19, 27, 0.47937937937937936),\n",
              " (19, 28, 0.48128128128128134),\n",
              " (19, 29, 0.4798798798798799),\n",
              " (20, 1, 0.4666666666666667),\n",
              " (20, 2, 0.46296296296296297),\n",
              " (20, 3, 0.47367367367367363),\n",
              " (20, 4, 0.47847847847847846),\n",
              " (20, 5, 0.47857857857857855),\n",
              " (20, 6, 0.4817817817817819),\n",
              " (20, 7, 0.48458458458458453),\n",
              " (20, 8, 0.48878878878878884),\n",
              " (20, 9, 0.48478478478478476),\n",
              " (20, 10, 0.48408408408408404),\n",
              " (20, 11, 0.48528528528528525),\n",
              " (20, 12, 0.483983983983984),\n",
              " (20, 13, 0.4844844844844845),\n",
              " (20, 14, 0.483983983983984),\n",
              " (20, 15, 0.4854854854854855),\n",
              " (20, 16, 0.48438438438438436),\n",
              " (20, 17, 0.48538538538538545),\n",
              " (20, 18, 0.48598598598598597),\n",
              " (20, 19, 0.4855855855855856),\n",
              " (20, 20, 0.4854854854854855),\n",
              " (20, 21, 0.4872872872872874),\n",
              " (20, 22, 0.48788788788788795),\n",
              " (20, 23, 0.48858858858858856),\n",
              " (20, 24, 0.4875875875875876),\n",
              " (20, 25, 0.48588588588588594),\n",
              " (20, 26, 0.483983983983984),\n",
              " (20, 27, 0.4850850850850851),\n",
              " (20, 28, 0.4837837837837838),\n",
              " (20, 29, 0.48348348348348347),\n",
              " (21, 1, 0.46526526526526524),\n",
              " (21, 2, 0.46856856856856866),\n",
              " (21, 3, 0.4766766766766767),\n",
              " (21, 4, 0.4814814814814815),\n",
              " (21, 5, 0.4823823823823824),\n",
              " (21, 6, 0.48378378378378367),\n",
              " (21, 7, 0.4832832832832833),\n",
              " (21, 8, 0.48418418418418413),\n",
              " (21, 9, 0.48858858858858867),\n",
              " (21, 10, 0.486986986986987),\n",
              " (21, 11, 0.4832832832832833),\n",
              " (21, 12, 0.4864864864864865),\n",
              " (21, 13, 0.4856856856856856),\n",
              " (21, 14, 0.4864864864864865),\n",
              " (21, 15, 0.48608608608608606),\n",
              " (21, 16, 0.487987987987988),\n",
              " (21, 17, 0.48668668668668663),\n",
              " (21, 18, 0.48828828828828835),\n",
              " (21, 19, 0.48728728728728726),\n",
              " (21, 20, 0.4867867867867868),\n",
              " (21, 21, 0.4867867867867868),\n",
              " (21, 22, 0.4871871871871871),\n",
              " (21, 23, 0.4876876876876876),\n",
              " (21, 24, 0.48648648648648657),\n",
              " (21, 25, 0.48658658658658654),\n",
              " (21, 26, 0.4867867867867868),\n",
              " (21, 27, 0.48728728728728726),\n",
              " (21, 28, 0.48538538538538545),\n",
              " (21, 29, 0.4862862862862863),\n",
              " (22, 1, 0.46806806806806805),\n",
              " (22, 2, 0.4681681681681681),\n",
              " (22, 3, 0.47867867867867864),\n",
              " (22, 4, 0.4831831831831832),\n",
              " (22, 5, 0.4862862862862863),\n",
              " (22, 6, 0.48778778778778775),\n",
              " (22, 7, 0.48778778778778786),\n",
              " (22, 8, 0.4864864864864865),\n",
              " (22, 9, 0.48718718718718723),\n",
              " (22, 10, 0.48598598598598597),\n",
              " (22, 11, 0.4900900900900901),\n",
              " (22, 12, 0.48848848848848847),\n",
              " (22, 13, 0.4918918918918919),\n",
              " (22, 14, 0.49279279279279287),\n",
              " (22, 15, 0.4936936936936937),\n",
              " (22, 16, 0.48858858858858867),\n",
              " (22, 17, 0.4886886886886887),\n",
              " (22, 18, 0.49159159159159166),\n",
              " (22, 19, 0.4916916916916918),\n",
              " (22, 20, 0.49059059059059057),\n",
              " (22, 21, 0.491991991991992),\n",
              " (22, 22, 0.49029029029029036),\n",
              " (22, 23, 0.4892892892892894),\n",
              " (22, 24, 0.4904904904904905),\n",
              " (22, 25, 0.4896896896896896),\n",
              " (22, 26, 0.48918918918918913),\n",
              " (22, 27, 0.48758758758758763),\n",
              " (22, 28, 0.48558558558558557),\n",
              " (22, 29, 0.48658658658658654),\n",
              " (23, 1, 0.47487487487487484),\n",
              " (23, 2, 0.4696696696696697),\n",
              " (23, 3, 0.4812812812812813),\n",
              " (23, 4, 0.4857857857857858),\n",
              " (23, 5, 0.49119119119119115),\n",
              " (23, 6, 0.4906906906906907),\n",
              " (23, 7, 0.491991991991992),\n",
              " (23, 8, 0.49189189189189186),\n",
              " (23, 9, 0.4925925925925926),\n",
              " (23, 10, 0.49209209209209215),\n",
              " (23, 11, 0.4931931931931932),\n",
              " (23, 12, 0.4926926926926927),\n",
              " (23, 13, 0.4936936936936937),\n",
              " (23, 14, 0.49189189189189186),\n",
              " (23, 15, 0.4924924924924925),\n",
              " (23, 16, 0.48988988988988985),\n",
              " (23, 17, 0.49089089089089083),\n",
              " (23, 18, 0.49239239239239235),\n",
              " (23, 19, 0.4911911911911912),\n",
              " (23, 20, 0.49159159159159166),\n",
              " (23, 21, 0.49159159159159166),\n",
              " (23, 22, 0.4918918918918919),\n",
              " (23, 23, 0.49209209209209204),\n",
              " (23, 24, 0.4914914914914915),\n",
              " (23, 25, 0.4904904904904905),\n",
              " (23, 26, 0.4900900900900901),\n",
              " (23, 27, 0.49099099099099097),\n",
              " (23, 28, 0.4906906906906906),\n",
              " (23, 29, 0.49089089089089094),\n",
              " (24, 1, 0.47527527527527524),\n",
              " (24, 2, 0.4666666666666666),\n",
              " (24, 3, 0.4851851851851852),\n",
              " (24, 4, 0.4862862862862863),\n",
              " (24, 5, 0.48858858858858867),\n",
              " (24, 6, 0.49109109109109106),\n",
              " (24, 7, 0.49589589589589594),\n",
              " (24, 8, 0.49579579579579586),\n",
              " (24, 9, 0.4932932932932932),\n",
              " (24, 10, 0.49339339339339344),\n",
              " (24, 11, 0.49229229229229227),\n",
              " (24, 12, 0.4932932932932933),\n",
              " (24, 13, 0.49489489489489485),\n",
              " (24, 14, 0.4925925925925926),\n",
              " (24, 15, 0.4937937937937938),\n",
              " (24, 16, 0.49719719719719724),\n",
              " (24, 17, 0.4954954954954955),\n",
              " (24, 18, 0.4934934934934935),\n",
              " (24, 19, 0.4930930930930931),\n",
              " (24, 20, 0.493993993993994),\n",
              " (24, 21, 0.492992992992993),\n",
              " (24, 22, 0.49289289289289295),\n",
              " (24, 23, 0.4911911911911912),\n",
              " (24, 24, 0.49159159159159166),\n",
              " (24, 25, 0.491991991991992),\n",
              " (24, 26, 0.4914914914914915),\n",
              " (24, 27, 0.49179179179179167),\n",
              " (24, 28, 0.49259259259259264),\n",
              " (24, 29, 0.4927927927927927),\n",
              " (25, 1, 0.47307307307307306),\n",
              " (25, 2, 0.46676676676676676),\n",
              " (25, 3, 0.4786786786786787),\n",
              " (25, 4, 0.4854854854854855),\n",
              " (25, 5, 0.4905905905905906),\n",
              " (25, 6, 0.4904904904904905),\n",
              " (25, 7, 0.4932932932932933),\n",
              " (25, 8, 0.49779779779779787),\n",
              " (25, 9, 0.4993993993993994),\n",
              " (25, 10, 0.496996996996997),\n",
              " (25, 11, 0.49759759759759764),\n",
              " (25, 12, 0.49909909909909905),\n",
              " (25, 13, 0.49579579579579586),\n",
              " (25, 14, 0.4976976976976977),\n",
              " (25, 15, 0.4988988988988988),\n",
              " (25, 16, 0.5005005005005005),\n",
              " (25, 17, 0.49739739739739736),\n",
              " (25, 18, 0.4984984984984985),\n",
              " (25, 19, 0.4964964964964965),\n",
              " (25, 20, 0.49789789789789796),\n",
              " (25, 21, 0.49609609609609606),\n",
              " (25, 22, 0.4961961961961962),\n",
              " (25, 23, 0.49479479479479477),\n",
              " (25, 24, 0.49479479479479477),\n",
              " (25, 25, 0.49489489489489485),\n",
              " (25, 26, 0.4964964964964965),\n",
              " (25, 27, 0.49439439439439437),\n",
              " (25, 28, 0.495995995995996),\n",
              " (25, 29, 0.49459459459459454),\n",
              " (26, 1, 0.47787787787787794),\n",
              " (26, 2, 0.47177177177177176),\n",
              " (26, 3, 0.48588588588588594),\n",
              " (26, 4, 0.4912912912912912),\n",
              " (26, 5, 0.4964964964964965),\n",
              " (26, 6, 0.49669669669669664),\n",
              " (26, 7, 0.4991991991991992),\n",
              " (26, 8, 0.502102102102102),\n",
              " (26, 9, 0.504004004004004),\n",
              " (26, 10, 0.5049049049049049),\n",
              " (26, 11, 0.5044044044044045),\n",
              " (26, 12, 0.5039039039039039),\n",
              " (26, 13, 0.5039039039039039),\n",
              " (26, 14, 0.5021021021021022),\n",
              " (26, 15, 0.5022022022022022),\n",
              " (26, 16, 0.4992992992992993),\n",
              " (26, 17, 0.5011011011011011),\n",
              " (26, 18, 0.5022022022022022),\n",
              " (26, 19, 0.503003003003003),\n",
              " (26, 20, 0.5005005005005005),\n",
              " (26, 21, 0.497997997997998),\n",
              " (26, 22, 0.4981981981981982),\n",
              " (26, 23, 0.49839839839839845),\n",
              " (26, 24, 0.497997997997998),\n",
              " (26, 25, 0.4973973973973974),\n",
              " (26, 26, 0.49889889889889893),\n",
              " (26, 27, 0.4997997997997999),\n",
              " (26, 28, 0.4973973973973974),\n",
              " (26, 29, 0.49789789789789796),\n",
              " (27, 1, 0.48008008008008013),\n",
              " (27, 2, 0.4718718718718719),\n",
              " (27, 3, 0.4846846846846846),\n",
              " (27, 4, 0.49059059059059057),\n",
              " (27, 5, 0.4943943943943944),\n",
              " (27, 6, 0.49619619619619615),\n",
              " (27, 7, 0.4991991991991992),\n",
              " (27, 8, 0.503103103103103),\n",
              " (27, 9, 0.5043043043043044),\n",
              " (27, 10, 0.5033033033033033),\n",
              " (27, 11, 0.5052052052052052),\n",
              " (27, 12, 0.5018018018018019),\n",
              " (27, 13, 0.5024024024024024),\n",
              " (27, 14, 0.49959959959959954),\n",
              " (27, 15, 0.502002002002002),\n",
              " (27, 16, 0.5031031031031031),\n",
              " (27, 17, 0.5025025025025025),\n",
              " (27, 18, 0.5037037037037038),\n",
              " (27, 19, 0.5025025025025025),\n",
              " (27, 20, 0.5028028028028028),\n",
              " (27, 21, 0.5011011011011011),\n",
              " (27, 22, 0.49919919919919914),\n",
              " (27, 23, 0.49909909909909905),\n",
              " (27, 24, 0.49839839839839845),\n",
              " (27, 25, 0.498998998998999),\n",
              " (27, 26, 0.497997997997998),\n",
              " (27, 27, 0.49709709709709704),\n",
              " (27, 28, 0.4975975975975976),\n",
              " (27, 29, 0.49709709709709715),\n",
              " (28, 1, 0.4781781781781781),\n",
              " (28, 2, 0.47027027027027024),\n",
              " (28, 3, 0.48558558558558557),\n",
              " (28, 4, 0.4911911911911912),\n",
              " (28, 5, 0.49309309309309307),\n",
              " (28, 6, 0.49529529529529537),\n",
              " (28, 7, 0.49959959959959954),\n",
              " (28, 8, 0.5013013013013012),\n",
              " (28, 9, 0.5016016016016016),\n",
              " (28, 10, 0.5013013013013013),\n",
              " (28, 11, 0.5006006006006005),\n",
              " (28, 12, 0.5017017017017017),\n",
              " (28, 13, 0.4985985985985987),\n",
              " (28, 14, 0.5005005005005005),\n",
              " (28, 15, 0.49909909909909905),\n",
              " (28, 16, 0.4981981981981981),\n",
              " (28, 17, 0.5004004004004005),\n",
              " (28, 18, 0.4968968968968969),\n",
              " (28, 19, 0.4975975975975976),\n",
              " (28, 20, 0.49589589589589583),\n",
              " (28, 21, 0.4954954954954955),\n",
              " (28, 22, 0.49369369369369365),\n",
              " (28, 23, 0.4950950950950951),\n",
              " (28, 24, 0.4923923923923924),\n",
              " (28, 25, 0.49289289289289284),\n",
              " (28, 26, 0.49239239239239235),\n",
              " (28, 27, 0.4923923923923924),\n",
              " (28, 28, 0.4926926926926926),\n",
              " (28, 29, 0.49199199199199206),\n",
              " (29, 1, 0.47677677677677677),\n",
              " (29, 2, 0.471971971971972),\n",
              " (29, 3, 0.4887887887887888),\n",
              " (29, 4, 0.492992992992993),\n",
              " (29, 5, 0.4934934934934935),\n",
              " (29, 6, 0.4998998998998999),\n",
              " (29, 7, 0.5026026026026026),\n",
              " (29, 8, 0.5018018018018018),\n",
              " (29, 9, 0.5),\n",
              " (29, 10, 0.5016016016016016),\n",
              " (29, 11, 0.5017017017017017),\n",
              " (29, 12, 0.5026026026026027),\n",
              " (29, 13, 0.501001001001001),\n",
              " (29, 14, 0.5005005005005005),\n",
              " (29, 15, 0.4987987987987988),\n",
              " (29, 16, 0.4986986986986987),\n",
              " (29, 17, 0.49619619619619615),\n",
              " (29, 18, 0.4973973973973974),\n",
              " (29, 19, 0.4971971971971971),\n",
              " (29, 20, 0.49709709709709704),\n",
              " (29, 21, 0.49709709709709715),\n",
              " (29, 22, 0.4968968968968969),\n",
              " (29, 23, 0.4964964964964965),\n",
              " (29, 24, 0.49539539539539534),\n",
              " (29, 25, 0.4956956956956956),\n",
              " (29, 26, 0.4941941941941942),\n",
              " (29, 27, 0.4934934934934935),\n",
              " (29, 28, 0.4923923923923924),\n",
              " (29, 29, 0.49159159159159166),\n",
              " (30, 1, 0.47507507507507507),\n",
              " (30, 2, 0.473973973973974),\n",
              " (30, 3, 0.48658658658658654),\n",
              " (30, 4, 0.4925925925925926),\n",
              " (30, 5, 0.49459459459459454),\n",
              " (30, 6, 0.498998998998999),\n",
              " (30, 7, 0.4987987987987988),\n",
              " (30, 8, 0.5013013013013012),\n",
              " (30, 9, 0.5008008008008008),\n",
              " (30, 10, 0.4984984984984985),\n",
              " (30, 11, 0.498998998998999),\n",
              " (30, 12, 0.4997997997997999),\n",
              " (30, 13, 0.4987987987987988),\n",
              " (30, 14, 0.4974974974974975),\n",
              " (30, 15, 0.4964964964964965),\n",
              " (30, 16, 0.4961961961961962),\n",
              " (30, 17, 0.4973973973973974),\n",
              " (30, 18, 0.4962962962962963),\n",
              " (30, 19, 0.49659659659659666),\n",
              " (30, 20, 0.4967967967967968),\n",
              " (30, 21, 0.493993993993994),\n",
              " (30, 22, 0.49579579579579586),\n",
              " (30, 23, 0.4955955955955956),\n",
              " (30, 24, 0.49539539539539545),\n",
              " (30, 25, 0.49359359359359356),\n",
              " (30, 26, 0.4922922922922924),\n",
              " (30, 27, 0.4925925925925926),\n",
              " (30, 28, 0.49229229229229227),\n",
              " (30, 29, 0.49039039039039045),\n",
              " (31, 1, 0.48038038038038033),\n",
              " (31, 2, 0.4816816816816817),\n",
              " (31, 3, 0.4922922922922922),\n",
              " (31, 4, 0.49759759759759764),\n",
              " (31, 5, 0.4975975975975976),\n",
              " (31, 6, 0.5035035035035035),\n",
              " (31, 7, 0.5025025025025025),\n",
              " (31, 8, 0.5038038038038039),\n",
              " (31, 9, 0.5026026026026026),\n",
              " (31, 10, 0.5026026026026026),\n",
              " (31, 11, 0.5008008008008009),\n",
              " (31, 12, 0.5047047047047049),\n",
              " (31, 13, 0.5026026026026027),\n",
              " (31, 14, 0.5033033033033033),\n",
              " (31, 15, 0.5053053053053053),\n",
              " (31, 16, 0.5017017017017017),\n",
              " (31, 17, 0.5034034034034034),\n",
              " (31, 18, 0.5034034034034034),\n",
              " (31, 19, 0.5021021021021022),\n",
              " (31, 20, 0.5026026026026026),\n",
              " (31, 21, 0.5012012012012013),\n",
              " (31, 22, 0.5008008008008008),\n",
              " (31, 23, 0.4977977977977977),\n",
              " (31, 24, 0.4992992992992993),\n",
              " (31, 25, 0.4998998998998999),\n",
              " (31, 26, 0.4994994994994995),\n",
              " (31, 27, 0.4976976976976977),\n",
              " (31, 28, 0.4961961961961962),\n",
              " (31, 29, 0.49659659659659666),\n",
              " (32, 1, 0.4841841841841843),\n",
              " (32, 2, 0.47997997997998),\n",
              " (32, 3, 0.49109109109109117),\n",
              " (32, 4, 0.4941941941941942),\n",
              " (32, 5, 0.49689689689689687),\n",
              " (32, 6, 0.5011011011011011),\n",
              " (32, 7, 0.5034034034034034),\n",
              " (32, 8, 0.5061061061061061),\n",
              " (32, 9, 0.5003003003003003),\n",
              " (32, 10, 0.5012012012012012),\n",
              " (32, 11, 0.5014014014014014),\n",
              " (32, 12, 0.5003003003003003),\n",
              " (32, 13, 0.5014014014014013),\n",
              " (32, 14, 0.5011011011011012),\n",
              " (32, 15, 0.5024024024024023),\n",
              " (32, 16, 0.502002002002002),\n",
              " (32, 17, 0.5024024024024023),\n",
              " (32, 18, 0.502102102102102),\n",
              " (32, 19, 0.5002002002002002),\n",
              " (32, 20, 0.5024024024024023),\n",
              " (32, 21, 0.5017017017017017),\n",
              " (32, 22, 0.49659659659659666),\n",
              " (32, 23, 0.4966966966966967),\n",
              " (32, 24, 0.49839839839839833),\n",
              " (32, 25, 0.4966966966966967),\n",
              " (32, 26, 0.4956956956956957),\n",
              " (32, 27, 0.496996996996997),\n",
              " (32, 28, 0.4964964964964965),\n",
              " (32, 29, 0.49459459459459465),\n",
              " (33, 1, 0.48408408408408404),\n",
              " (33, 2, 0.48208208208208214),\n",
              " (33, 3, 0.49279279279279276),\n",
              " (33, 4, 0.4962962962962963),\n",
              " (33, 5, 0.5002002002002002),\n",
              " (33, 6, 0.5046046046046045),\n",
              " (33, 7, 0.505005005005005),\n",
              " (33, 8, 0.5099099099099099),\n",
              " (33, 9, 0.5038038038038037),\n",
              " (33, 10, 0.503003003003003),\n",
              " (33, 11, 0.5027027027027027),\n",
              " (33, 12, 0.5038038038038037),\n",
              " (33, 13, 0.5046046046046045),\n",
              " (33, 14, 0.506006006006006),\n",
              " (33, 15, 0.5047047047047046),\n",
              " (33, 16, 0.5037037037037038),\n",
              " (33, 17, 0.5044044044044044),\n",
              " (33, 18, 0.5056056056056055),\n",
              " (33, 19, 0.5041041041041041),\n",
              " (33, 20, 0.5045045045045045),\n",
              " (33, 21, 0.501901901901902),\n",
              " (33, 22, 0.5011011011011011),\n",
              " (33, 23, 0.5001001001001001),\n",
              " (33, 24, 0.5026026026026026),\n",
              " (33, 25, 0.502002002002002),\n",
              " (33, 26, 0.5002002002002002),\n",
              " (33, 27, 0.498998998998999),\n",
              " (33, 28, 0.4975975975975976),\n",
              " (33, 29, 0.49719719719719724),\n",
              " (34, 1, 0.4825825825825826),\n",
              " (34, 2, 0.48218218218218223),\n",
              " (34, 3, 0.49339339339339344),\n",
              " (34, 4, 0.4968968968968969),\n",
              " (34, 5, 0.5023023023023023),\n",
              " (34, 6, 0.503103103103103),\n",
              " (34, 7, 0.505005005005005),\n",
              " (34, 8, 0.5067067067067067),\n",
              " (34, 9, 0.5037037037037037),\n",
              " (34, 10, 0.5049049049049049),\n",
              " (34, 11, 0.5052052052052052),\n",
              " (34, 12, 0.5064064064064063),\n",
              " (34, 13, 0.505005005005005),\n",
              " (34, 14, 0.5059059059059059),\n",
              " (34, 15, 0.5035035035035035),\n",
              " (34, 16, 0.503103103103103),\n",
              " (34, 17, 0.5046046046046047),\n",
              " (34, 18, 0.5037037037037038),\n",
              " (34, 19, 0.5043043043043043),\n",
              " (34, 20, 0.5032032032032031),\n",
              " (34, 21, 0.5046046046046045),\n",
              " (34, 22, 0.5043043043043043),\n",
              " (34, 23, 0.5026026026026026),\n",
              " (34, 24, 0.5054054054054054),\n",
              " (34, 25, 0.5033033033033033),\n",
              " (34, 26, 0.5042042042042041),\n",
              " (34, 27, 0.5),\n",
              " (34, 28, 0.4999999999999999),\n",
              " (34, 29, 0.49959959959959954),\n",
              " (35, 1, 0.4864864864864865),\n",
              " (35, 2, 0.4846846846846846),\n",
              " (35, 3, 0.4936936936936938),\n",
              " (35, 4, 0.5005005005005005),\n",
              " (35, 5, 0.5056056056056055),\n",
              " (35, 6, 0.5056056056056055),\n",
              " (35, 7, 0.5084084084084084),\n",
              " (35, 8, 0.5053053053053053),\n",
              " (35, 9, 0.5014014014014014),\n",
              " (35, 10, 0.506906906906907),\n",
              " (35, 11, 0.5056056056056056),\n",
              " (35, 12, 0.5075075075075075),\n",
              " (35, 13, 0.5076076076076077),\n",
              " (35, 14, 0.5082082082082081),\n",
              " (35, 15, 0.5041041041041041),\n",
              " (35, 16, 0.5065065065065065),\n",
              " (35, 17, 0.5061061061061061),\n",
              " (35, 18, 0.5061061061061062),\n",
              " (35, 19, 0.5051051051051051),\n",
              " (35, 20, 0.5046046046046045),\n",
              " (35, 21, 0.5048048048048048),\n",
              " (35, 22, 0.5053053053053053),\n",
              " (35, 23, 0.5044044044044045),\n",
              " (35, 24, 0.5053053053053054),\n",
              " (35, 25, 0.5048048048048048),\n",
              " (35, 26, 0.5041041041041041),\n",
              " (35, 27, 0.5026026026026026),\n",
              " (35, 28, 0.502102102102102),\n",
              " (35, 29, 0.5000000000000001),\n",
              " (36, 1, 0.48658658658658654),\n",
              " (36, 2, 0.4836836836836837),\n",
              " (36, 3, 0.49729729729729727),\n",
              " (36, 4, 0.5025025025025025),\n",
              " (36, 5, 0.5057057057057056),\n",
              " (36, 6, 0.5062062062062062),\n",
              " (36, 7, 0.5052052052052052),\n",
              " (36, 8, 0.5052052052052052),\n",
              " (36, 9, 0.5032032032032032),\n",
              " (36, 10, 0.5052052052052052),\n",
              " (36, 11, 0.5054054054054054),\n",
              " (36, 12, 0.5054054054054055),\n",
              " (36, 13, 0.5051051051051051),\n",
              " (36, 14, 0.5023023023023023),\n",
              " (36, 15, 0.502102102102102),\n",
              " (36, 16, 0.5035035035035035),\n",
              " (36, 17, 0.5048048048048048),\n",
              " (36, 18, 0.5033033033033034),\n",
              " (36, 19, 0.5035035035035035),\n",
              " (36, 20, 0.5016016016016016),\n",
              " (36, 21, 0.5002002002002003),\n",
              " (36, 22, 0.49919919919919914),\n",
              " (36, 23, 0.49979979979979977),\n",
              " (36, 24, 0.5007007007007007),\n",
              " (36, 25, 0.49909909909909905),\n",
              " (36, 26, 0.4981981981981981),\n",
              " (36, 27, 0.49959959959959965),\n",
              " (36, 28, 0.4980980980980981),\n",
              " (36, 29, 0.49779779779779787),\n",
              " (37, 1, 0.48578578578578585),\n",
              " (37, 2, 0.4831831831831831),\n",
              " (37, 3, 0.49709709709709704),\n",
              " (37, 4, 0.4988988988988988),\n",
              " (37, 5, 0.503003003003003),\n",
              " (37, 6, 0.5042042042042043),\n",
              " (37, 7, 0.5041041041041041),\n",
              " (37, 8, 0.5061061061061061),\n",
              " (37, 9, 0.507107107107107),\n",
              " (37, 10, 0.5061061061061061),\n",
              " (37, 11, 0.5011011011011012),\n",
              " (37, 12, 0.5024024024024024),\n",
              " (37, 13, 0.5047047047047047),\n",
              " (37, 14, 0.5053053053053053),\n",
              " (37, 15, 0.5035035035035035),\n",
              " (37, 16, 0.5043043043043044),\n",
              " (37, 17, 0.5038038038038037),\n",
              " (37, 18, 0.5046046046046045),\n",
              " (37, 19, 0.5024024024024024),\n",
              " (37, 20, 0.5027027027027027),\n",
              " (37, 21, 0.502102102102102),\n",
              " (37, 22, 0.4998998998998999),\n",
              " (37, 23, 0.5025025025025025),\n",
              " (37, 24, 0.5013013013013013),\n",
              " (37, 25, 0.4998998998998999),\n",
              " (37, 26, 0.4994994994994995),\n",
              " (37, 27, 0.49969969969969963),\n",
              " (37, 28, 0.4981981981981982),\n",
              " (37, 29, 0.4976976976976977),\n",
              " (38, 1, 0.48698698698698706),\n",
              " (38, 2, 0.48608608608608617),\n",
              " (38, 3, 0.4957957957957958),\n",
              " (38, 4, 0.5034034034034034),\n",
              " (38, 5, 0.5038038038038039),\n",
              " (38, 6, 0.5088088088088087),\n",
              " (38, 7, 0.5112112112112113),\n",
              " (38, 8, 0.5131131131131131),\n",
              " (38, 9, 0.51001001001001),\n",
              " (38, 10, 0.5111111111111111),\n",
              " (38, 11, 0.508008008008008),\n",
              " (38, 12, 0.5089089089089089),\n",
              " (38, 13, 0.5101101101101101),\n",
              " (38, 14, 0.5097097097097096),\n",
              " (38, 15, 0.5093093093093093),\n",
              " (38, 16, 0.5078078078078078),\n",
              " (38, 17, 0.5053053053053054),\n",
              " (38, 18, 0.5058058058058058),\n",
              " (38, 19, 0.5046046046046047),\n",
              " (38, 20, 0.5035035035035035),\n",
              " (38, 21, 0.504004004004004),\n",
              " (38, 22, 0.5063063063063062),\n",
              " (38, 23, 0.5046046046046045),\n",
              " (38, 24, 0.5027027027027027),\n",
              " (38, 25, 0.5039039039039039),\n",
              " (38, 26, 0.5052052052052052),\n",
              " (38, 27, 0.504004004004004),\n",
              " (38, 28, 0.5027027027027027),\n",
              " (38, 29, 0.5031031031031031),\n",
              " (39, 1, 0.487987987987988),\n",
              " (39, 2, 0.48708708708708703),\n",
              " (39, 3, 0.493993993993994),\n",
              " (39, 4, 0.5032032032032032),\n",
              " (39, 5, 0.5055055055055055),\n",
              " (39, 6, 0.5091091091091091),\n",
              " (39, 7, 0.5136136136136137),\n",
              " (39, 8, 0.5102102102102102),\n",
              " (39, 9, 0.5124124124124123),\n",
              " (39, 10, 0.5101101101101101),\n",
              " (39, 11, 0.514014014014014),\n",
              " (39, 12, 0.5134134134134134),\n",
              " (39, 13, 0.5128128128128129),\n",
              " (39, 14, 0.512912912912913),\n",
              " (39, 15, 0.5136136136136136),\n",
              " (39, 16, 0.5133133133133133),\n",
              " (39, 17, 0.5146146146146147),\n",
              " (39, 18, 0.5117117117117117),\n",
              " (39, 19, 0.5111111111111111),\n",
              " (39, 20, 0.5122122122122121),\n",
              " (39, 21, 0.5104104104104104),\n",
              " (39, 22, 0.511011011011011),\n",
              " (39, 23, 0.5085085085085084),\n",
              " (39, 24, 0.511011011011011),\n",
              " (39, 25, 0.5088088088088089),\n",
              " (39, 26, 0.5086086086086087),\n",
              " (39, 27, 0.5091091091091091),\n",
              " (39, 28, 0.5078078078078078),\n",
              " (39, 29, 0.5045045045045045)]"
            ]
          },
          "metadata": {},
          "execution_count": 57
        }
      ]
    },
    {
      "cell_type": "markdown",
      "metadata": {
        "id": "C38TXlR71n0C"
      },
      "source": [
        "Результат стал лучше всего на 2 сотые, попробуем еще раз поперебирать, только немного сдвинем границы:"
      ]
    },
    {
      "cell_type": "code",
      "metadata": {
        "id": "5nnCwIPt1Yc1"
      },
      "source": [
        "accuracies = []\n",
        "for i in range(40, 56):\n",
        "    for n in range(1, 56):\n",
        "        X_kbest = SelectKBest(f_classif, k=i).fit_transform(X, y)\n",
        "        accuracies.append((i, n, np.mean(cross_val_score(KNeighborsClassifier(n_neighbors=n), X_kbest, y, cv=5, scoring='accuracy'))))"
      ],
      "execution_count": null,
      "outputs": []
    },
    {
      "cell_type": "code",
      "metadata": {
        "colab": {
          "base_uri": "https://localhost:8080/"
        },
        "id": "u282cGwY_YNy",
        "outputId": "c93eab53-b668-41fe-cb1a-ae3d57ce8a0b"
      },
      "source": [
        "best_result = max(accuracies, key=lambda x: x[2])\n",
        "best_number_of_features, best_number_of_neighbors, best_accuracy = best_result\n",
        "best_number_of_features, best_number_of_neighbors, best_accuracy"
      ],
      "execution_count": null,
      "outputs": [
        {
          "output_type": "execute_result",
          "data": {
            "text/plain": [
              "(49, 8, 0.5224224224224224)"
            ]
          },
          "metadata": {},
          "execution_count": 59
        }
      ]
    },
    {
      "cell_type": "markdown",
      "metadata": {
        "id": "t9DoDcNqB2q7"
      },
      "source": [
        "Лучший результат на knn на кросс-валидации accuracy = 0.522\n",
        "Проделаем аналогичное с логистической регрессией, постараемся добиться лучшего результата:"
      ]
    },
    {
      "cell_type": "code",
      "metadata": {
        "id": "QMatjaAdB7lc"
      },
      "source": [
        "accuracies = []\n",
        "log_reg = LogisticRegression(max_iter=1000)\n",
        "for i in range(10, 56):\n",
        "    X_kbest = SelectKBest(f_classif, k=i).fit_transform(X, y)\n",
        "    accuracies.append((i, np.mean(cross_val_score(log_reg, X_kbest, y, cv=5, scoring='accuracy'))))"
      ],
      "execution_count": null,
      "outputs": []
    },
    {
      "cell_type": "code",
      "metadata": {
        "colab": {
          "base_uri": "https://localhost:8080/"
        },
        "id": "qv2Cith3FIS1",
        "outputId": "8f1de4da-123e-4976-c633-98158a8757c1"
      },
      "source": [
        "best_result = max(accuracies, key=lambda x: x[1])\n",
        "best_number_of_features, best_accuracy = best_result\n",
        "best_number_of_features, best_accuracy"
      ],
      "execution_count": null,
      "outputs": [
        {
          "output_type": "execute_result",
          "data": {
            "text/plain": [
              "(54, 0.561961961961962)"
            ]
          },
          "metadata": {},
          "execution_count": 63
        }
      ]
    },
    {
      "cell_type": "code",
      "metadata": {
        "colab": {
          "base_uri": "https://localhost:8080/"
        },
        "id": "lQ5AQoHrK8HG",
        "outputId": "88e34378-33e0-40fd-d24c-354baeef3838"
      },
      "source": [
        "accuracies"
      ],
      "execution_count": null,
      "outputs": [
        {
          "output_type": "execute_result",
          "data": {
            "text/plain": [
              "[(10, 0.433933933933934),\n",
              " (11, 0.4528528528528528),\n",
              " (12, 0.4556556556556557),\n",
              " (13, 0.4570570570570571),\n",
              " (14, 0.47837837837837843),\n",
              " (15, 0.48718718718718723),\n",
              " (16, 0.4894894894894895),\n",
              " (17, 0.5006006006006006),\n",
              " (18, 0.5073073073073073),\n",
              " (19, 0.512912912912913),\n",
              " (20, 0.5197197197197198),\n",
              " (21, 0.5221221221221222),\n",
              " (22, 0.5230230230230231),\n",
              " (23, 0.5307307307307307),\n",
              " (24, 0.535035035035035),\n",
              " (25, 0.5357357357357357),\n",
              " (26, 0.5377377377377377),\n",
              " (27, 0.5414414414414415),\n",
              " (28, 0.5377377377377377),\n",
              " (29, 0.5353353353353354),\n",
              " (30, 0.5335335335335335),\n",
              " (31, 0.5404404404404405),\n",
              " (32, 0.5418418418418419),\n",
              " (33, 0.5424424424424424),\n",
              " (34, 0.5434434434434434),\n",
              " (35, 0.5495495495495495),\n",
              " (36, 0.5504504504504505),\n",
              " (37, 0.5515515515515516),\n",
              " (38, 0.552952952952953),\n",
              " (39, 0.5553553553553554),\n",
              " (40, 0.5565565565565567),\n",
              " (41, 0.5535535535535534),\n",
              " (42, 0.5576576576576577),\n",
              " (43, 0.5567567567567567),\n",
              " (44, 0.556056056056056),\n",
              " (45, 0.5595595595595595),\n",
              " (46, 0.557957957957958),\n",
              " (47, 0.5565565565565566),\n",
              " (48, 0.5557557557557558),\n",
              " (49, 0.5613613613613613),\n",
              " (50, 0.5588588588588589),\n",
              " (51, 0.5597597597597598),\n",
              " (52, 0.557957957957958),\n",
              " (53, 0.5586586586586587),\n",
              " (54, 0.561961961961962),\n",
              " (55, 0.5608608608608608)]"
            ]
          },
          "metadata": {},
          "execution_count": 70
        }
      ]
    },
    {
      "cell_type": "code",
      "metadata": {
        "colab": {
          "base_uri": "https://localhost:8080/",
          "height": 295
        },
        "id": "SoqHSRhkY7bw",
        "outputId": "118ab3cb-a677-48a1-9b41-b9247b53e556"
      },
      "source": [
        "plt.plot(reg_coefs, accuracies)\n",
        "plt.xlabel('Regularization coefficient')\n",
        "plt.ylabel('cv Accuracy score')\n",
        "plt.title('Regularization coefficient vs cv Accuracy score')\n",
        "plt.show()"
      ],
      "execution_count": null,
      "outputs": [
        {
          "output_type": "display_data",
          "data": {
            "image/png": "[encoded data removed]",
            "text/plain": [
              "<Figure size 432x288 with 1 Axes>"
            ]
          },
          "metadata": {
            "needs_background": "light"
          }
        }
      ]
    },
    {
      "cell_type": "code",
      "metadata": {
        "id": "amlYCOKhKwIl"
      },
      "source": [
        "reg_coefs = np.arange(3, 150, 5)\n",
        "X_kbest = SelectKBest(f_classif, k=54).fit_transform(X, y)\n",
        "accuracies = []\n",
        "for coef in reg_coefs:\n",
        "    log_reg = LogisticRegression(C=coef, max_iter=3000)\n",
        "    accuracies.append(np.mean(cross_val_score(log_reg, X_kbest, y, cv=5, scoring='accuracy')))"
      ],
      "execution_count": null,
      "outputs": []
    },
    {
      "cell_type": "code",
      "metadata": {
        "colab": {
          "base_uri": "https://localhost:8080/"
        },
        "id": "leLYHBbhRNjC",
        "outputId": "d6a735a1-e5de-40e8-e0cc-b32095159ee4"
      },
      "source": [
        "reg_coefs[np.array(accuracies).argmax()]"
      ],
      "execution_count": null,
      "outputs": [
        {
          "output_type": "execute_result",
          "data": {
            "text/plain": [
              "23"
            ]
          },
          "metadata": {},
          "execution_count": 74
        }
      ]
    },
    {
      "cell_type": "code",
      "metadata": {
        "colab": {
          "base_uri": "https://localhost:8080/"
        },
        "id": "8H4NinkmF9sz",
        "outputId": "a6f9b2fc-2de9-4fd7-b95d-a3277fd246f2"
      },
      "source": [
        "X_kbest = SelectKBest(f_classif, k=54).fit_transform(X, y)\n",
        "log_reg = LogisticRegression(C=23, max_iter=2000)\n",
        "np.mean(cross_val_score(log_reg, X_kbest, y, cv=5, scoring='accuracy'))"
      ],
      "execution_count": null,
      "outputs": [
        {
          "output_type": "execute_result",
          "data": {
            "text/plain": [
              "0.5654654654654655"
            ]
          },
          "metadata": {},
          "execution_count": 75
        }
      ]
    },
    {
      "cell_type": "markdown",
      "metadata": {
        "id": "4QUpUg3tYDjc"
      },
      "source": [
        "Мой лучший скор accuracy на кросс-валидации равен 0.565 при отборе признаков с помощью SelectKBest(f_classif, k=54) и гиперпараметрах лог регрессии C=23, max_iter=2000. max_iter=2000 поставил, чтобы не возникали варнинги. Модель лог регрессии дала лучше результат (0.565), чем knn (0.522). На самом деле мне не удалось добиться результата, которого бы мне хотелось для этого датасета, скор получился невысоким"
      ]
    }
  ]
}