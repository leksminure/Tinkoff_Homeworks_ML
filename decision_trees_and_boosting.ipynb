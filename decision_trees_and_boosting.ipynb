{
  "cells": [
    {
      "cell_type": "markdown",
      "metadata": {
        "id": "EADmNKm_ucFI"
      },
      "source": [
        "## Homework"
      ]
    },
    {
      "cell_type": "code",
      "execution_count": null,
      "metadata": {
        "colab": {
          "base_uri": "https://localhost:8080/"
        },
        "id": "wjurpt4KJmCh",
        "outputId": "09832364-476c-41ac-87ca-d6349fb4109c"
      },
      "outputs": [
        {
          "output_type": "stream",
          "name": "stdout",
          "text": [
            "--2021-12-12 07:55:24--  https://docs.google.com/uc?export=download&id=1OKFSv2GpuUFDphO0r8LdM7bl6MAWwBfX\n",
            "Resolving docs.google.com (docs.google.com)... 142.250.125.101, 142.250.125.113, 142.250.125.139, ...\n",
            "Connecting to docs.google.com (docs.google.com)|142.250.125.101|:443... connected.\n",
            "HTTP request sent, awaiting response... 302 Moved Temporarily\n",
            "Location: https://doc-04-ak-docs.googleusercontent.com/docs/securesc/ha0ro937gcuc7l7deffksulhg5h7mbp1/r1rlvdthdckme68j2c8ifq0n50f69mu2/1639295700000/03856158561714992485/*/1OKFSv2GpuUFDphO0r8LdM7bl6MAWwBfX?e=download [following]\n",
            "Warning: wildcards not supported in HTTP.\n",
            "--2021-12-12 07:55:26--  https://doc-04-ak-docs.googleusercontent.com/docs/securesc/ha0ro937gcuc7l7deffksulhg5h7mbp1/r1rlvdthdckme68j2c8ifq0n50f69mu2/1639295700000/03856158561714992485/*/1OKFSv2GpuUFDphO0r8LdM7bl6MAWwBfX?e=download\n",
            "Resolving doc-04-ak-docs.googleusercontent.com (doc-04-ak-docs.googleusercontent.com)... 209.85.147.132, 2607:f8b0:4001:c20::84\n",
            "Connecting to doc-04-ak-docs.googleusercontent.com (doc-04-ak-docs.googleusercontent.com)|209.85.147.132|:443... connected.\n",
            "HTTP request sent, awaiting response... 200 OK\n",
            "Length: 33322228 (32M) [text/csv]\n",
            "Saving to: ‘data.csv’\n",
            "\n",
            "data.csv            100%[===================>]  31.78M  91.9MB/s    in 0.3s    \n",
            "\n",
            "2021-12-12 07:55:26 (91.9 MB/s) - ‘data.csv’ saved [33322228/33322228]\n",
            "\n"
          ]
        }
      ],
      "source": [
        "!wget --no-check-certificate 'https://docs.google.com/uc?export=download&id=1OKFSv2GpuUFDphO0r8LdM7bl6MAWwBfX' -O data.csv"
      ]
    },
    {
      "cell_type": "markdown",
      "metadata": {
        "id": "UBAI5LS2xBSm"
      },
      "source": [
        "В этой домашней работе вы будете предсказывать стоимость домов по их характеристикам.\n",
        "\n",
        "Метрика качества: `RMSE`\n",
        "\n",
        "Оценивание:\n",
        "* Baseline - 2 балла\n",
        "* Feature Engineering - 2 балла\n",
        "* Model Selection - 3 балла\n",
        "* Ensemble v.1 - 3 балла\n",
        "* (*) Ensemble v.2 - дополнительно, 2 балла"
      ]
    },
    {
      "cell_type": "markdown",
      "metadata": {
        "id": "aBZhr_dw6HAn"
      },
      "source": [
        "### Описание датасета\n",
        "\n",
        "Короткое описание данных:\n",
        "```\n",
        "price: sale price (this is the target variable)\n",
        "id: transaction id\n",
        "timestamp: date of transaction\n",
        "full_sq: total area in square meters, including loggias, balconies and other non-residential areas\n",
        "life_sq: living area in square meters, excluding loggias, balconies and other non-residential areas\n",
        "floor: for apartments, floor of the building\n",
        "max_floor: number of floors in the building\n",
        "material: wall material\n",
        "build_year: year built\n",
        "num_room: number of living rooms\n",
        "kitch_sq: kitchen area\n",
        "state: apartment condition\n",
        "product_type: owner-occupier purchase or investment\n",
        "sub_area: name of the district\n",
        "\n",
        "The dataset also includes a collection of features about each property's surrounding neighbourhood, and some features that are constant across each sub area (known as a Raion). Most of the feature names are self explanatory, with the following notes. See below for a complete list.\n",
        "\n",
        "full_all: subarea population\n",
        "male_f, female_f: subarea population by gender\n",
        "young_*: population younger than working age\n",
        "work_*: working-age population\n",
        "ekder_*: retirement-age population\n",
        "n_m_{all|male|female}: population between n and m years old\n",
        "build_count_*: buildings in the subarea by construction type or year\n",
        "x_count_500: the number of x within 500m of the property\n",
        "x_part_500: the share of x within 500m of the property\n",
        "_sqm_: square meters\n",
        "cafe_count_d_price_p: number of cafes within d meters of the property that have an average bill under p RUB\n",
        "trc_: shopping malls\n",
        "prom_: industrial zones\n",
        "green_: green zones\n",
        "metro_: subway\n",
        "_avto_: distances by car\n",
        "mkad_: Moscow Circle Auto Road\n",
        "ttk_: Third Transport Ring\n",
        "sadovoe_: Garden Ring\n",
        "bulvar_ring_: Boulevard Ring\n",
        "kremlin_: City center\n",
        "zd_vokzaly_: Train station\n",
        "oil_chemistry_: Dirty industry\n",
        "ts_: Power plant\n",
        "```"
      ]
    },
    {
      "cell_type": "markdown",
      "metadata": {
        "id": "TOPtM_06uyqv"
      },
      "source": [
        "### Setup"
      ]
    },
    {
      "cell_type": "code",
      "execution_count": null,
      "metadata": {
        "id": "9TpHMcn3u0MV"
      },
      "outputs": [],
      "source": [
        "import pandas as pd"
      ]
    },
    {
      "cell_type": "code",
      "execution_count": null,
      "metadata": {
        "id": "-TLkVG3EwJzj"
      },
      "outputs": [],
      "source": [
        "df = pd.read_csv(\"data.csv\", parse_dates=[\"timestamp\"])"
      ]
    },
    {
      "cell_type": "markdown",
      "metadata": {
        "id": "znjwH9_mx3fZ"
      },
      "source": [
        "Разделите имеющиеся у вас данные на обучающую и тестовую выборки. В качестве обучающей выборки возьмите первые 80% данных, последние 20% - тестовая выборка."
      ]
    },
    {
      "cell_type": "code",
      "execution_count": null,
      "metadata": {
        "id": "hoCOrbkt7JqF"
      },
      "outputs": [],
      "source": [
        "from sklearn.model_selection import train_test_split"
      ]
    },
    {
      "cell_type": "code",
      "execution_count": null,
      "metadata": {
        "colab": {
          "base_uri": "https://localhost:8080/"
        },
        "id": "WufwBCRT7_CZ",
        "outputId": "a5257949-aa98-4a3c-9b7d-d43489272e22"
      },
      "outputs": [
        {
          "output_type": "execute_result",
          "data": {
            "text/plain": [
              "(20000, 292)"
            ]
          },
          "metadata": {},
          "execution_count": 6
        }
      ],
      "source": [
        "df.shape"
      ]
    },
    {
      "cell_type": "markdown",
      "metadata": {
        "id": "pL4dJJwZP86w"
      },
      "source": [
        "Возможно в ваших моделях вам придется указывать, какие колонки являются категориальными (например, в бустингах). Для упрощения предлагается разделить колонки по следующему принципу:\n",
        "```\n",
        "drop_columns = [\n",
        "    'id',           # May leak information\n",
        "    'timestamp',    # May leak information\n",
        "]\n",
        "cat_columns = [\n",
        "    'product_type',              #\n",
        "    'material',                  # Material of the wall\n",
        "    'state',                     # Satisfaction level\n",
        "    'sub_area',                  # District name\n",
        "    'culture_objects_top_25',    #\n",
        "    'thermal_power_plant_raion', #\n",
        "    'incineration_raion',        #\n",
        "    'oil_chemistry_raion',       #\n",
        "    'radiation_raion',           #\n",
        "    'railroad_terminal_raion',   #\n",
        "    'big_market_raion',          #\n",
        "    'nuclear_reactor_raion',     #\n",
        "    'detention_facility_raion',  #\n",
        "    'ID_metro',                  #\n",
        "    'ID_railroad_station_walk',  #\n",
        "    'ID_railroad_station_avto',  #\n",
        "    'water_1line',               #\n",
        "    'ID_big_road1',              #\n",
        "    'big_road1_1line',           #\n",
        "    'ID_big_road2',              #\n",
        "    'railroad_1line',            #\n",
        "    'ID_railroad_terminal',      #\n",
        "    'ID_bus_terminal',           #\n",
        "    'ecology',                   #\n",
        "]\n",
        "num_columns = list(set(df.columns).difference(set(cat_columns + drop_columns)))\n",
        "```"
      ]
    },
    {
      "cell_type": "code",
      "execution_count": null,
      "metadata": {
        "id": "qyM8tA3yOPZf"
      },
      "outputs": [],
      "source": [
        "from sklearn.tree import DecisionTreeRegressor"
      ]
    },
    {
      "cell_type": "code",
      "execution_count": null,
      "metadata": {
        "colab": {
          "base_uri": "https://localhost:8080/"
        },
        "id": "HVqSNoQQBdGi",
        "outputId": "365be483-237d-4d68-931b-8f2b1d66d8f0"
      },
      "outputs": [
        {
          "output_type": "execute_result",
          "data": {
            "text/plain": [
              "DecisionTreeRegressor()"
            ]
          },
          "metadata": {},
          "execution_count": 9
        }
      ],
      "source": [
        "DecisionTreeRegressor()"
      ]
    },
    {
      "cell_type": "code",
      "execution_count": null,
      "metadata": {
        "colab": {
          "base_uri": "https://localhost:8080/"
        },
        "id": "shsqcc2G_Hyp",
        "outputId": "7929490c-9e0b-44ae-cbfa-5fbbff790202"
      },
      "outputs": [
        {
          "output_type": "stream",
          "name": "stdout",
          "text": [
            "<class 'pandas.core.frame.DataFrame'>\n",
            "RangeIndex: 20000 entries, 0 to 19999\n",
            "Columns: 292 entries, id to price\n",
            "dtypes: datetime64[ns](1), float64(119), int64(157), object(15)\n",
            "memory usage: 44.6+ MB\n"
          ]
        }
      ],
      "source": [
        "df.info()"
      ]
    },
    {
      "cell_type": "code",
      "execution_count": null,
      "metadata": {
        "colab": {
          "base_uri": "https://localhost:8080/"
        },
        "id": "_i89T_oWEAUb",
        "outputId": "7cb3a62d-58e0-4561-c7cb-dbd5f1701a4f"
      },
      "outputs": [
        {
          "output_type": "stream",
          "name": "stdout",
          "text": [
            "<class 'pandas.core.frame.DataFrame'>\n",
            "RangeIndex: 20000 entries, 0 to 19999\n",
            "Columns: 292 entries, id to price\n",
            "dtypes: datetime64[ns](1), float64(119), int64(157), object(15)\n",
            "memory usage: 44.6+ MB\n",
            "None\n"
          ]
        }
      ],
      "source": [
        "print(df.info())"
      ]
    },
    {
      "cell_type": "code",
      "execution_count": null,
      "metadata": {
        "id": "GMfwAezpEYDI"
      },
      "outputs": [],
      "source": [
        "drop_columns = df[['id', 'timestamp']]\n",
        "cat_columns = df[[\n",
        "    'product_type',              #\n",
        "    'material',                  # Material of the wall\n",
        "    'state',                     # Satisfaction level\n",
        "    'sub_area',                  # District name\n",
        "    'culture_objects_top_25',    #\n",
        "    'thermal_power_plant_raion', #\n",
        "    'incineration_raion',        #\n",
        "    'oil_chemistry_raion',       #\n",
        "    'radiation_raion',           #\n",
        "    'railroad_terminal_raion',   #\n",
        "    'big_market_raion',          #\n",
        "    'nuclear_reactor_raion',     #\n",
        "    'detention_facility_raion',  #\n",
        "    'ID_metro',                  #\n",
        "    'ID_railroad_station_walk',  #\n",
        "    'ID_railroad_station_avto',  #\n",
        "    'water_1line',               #\n",
        "    'ID_big_road1',              #\n",
        "    'big_road1_1line',           #\n",
        "    'ID_big_road2',              #\n",
        "    'railroad_1line',            #\n",
        "    'ID_railroad_terminal',      #\n",
        "    'ID_bus_terminal',           #\n",
        "    'ecology',                   #\n",
        "]]\n",
        "num_columns = list(set(df.columns).difference(set(cat_columns + drop_columns)))"
      ]
    },
    {
      "cell_type": "code",
      "execution_count": null,
      "metadata": {
        "colab": {
          "base_uri": "https://localhost:8080/",
          "height": 504
        },
        "id": "BkzwRzibEwwV",
        "outputId": "6c6f1e8b-baa9-490b-dba8-f7ac66e036bc"
      },
      "outputs": [
        {
          "output_type": "execute_result",
          "data": {
            "text/html": [
              "<div>\n",
              "<style scoped>\n",
              "    .dataframe tbody tr th:only-of-type {\n",
              "        vertical-align: middle;\n",
              "    }\n",
              "\n",
              "    .dataframe tbody tr th {\n",
              "        vertical-align: top;\n",
              "    }\n",
              "\n",
              "    .dataframe thead th {\n",
              "        text-align: right;\n",
              "    }\n",
              "</style>\n",
              "<table border=\"1\" class=\"dataframe\">\n",
              "  <thead>\n",
              "    <tr style=\"text-align: right;\">\n",
              "      <th></th>\n",
              "      <th>product_type</th>\n",
              "      <th>material</th>\n",
              "      <th>state</th>\n",
              "      <th>sub_area</th>\n",
              "      <th>culture_objects_top_25</th>\n",
              "      <th>thermal_power_plant_raion</th>\n",
              "      <th>incineration_raion</th>\n",
              "      <th>oil_chemistry_raion</th>\n",
              "      <th>radiation_raion</th>\n",
              "      <th>railroad_terminal_raion</th>\n",
              "      <th>big_market_raion</th>\n",
              "      <th>nuclear_reactor_raion</th>\n",
              "      <th>detention_facility_raion</th>\n",
              "      <th>ID_metro</th>\n",
              "      <th>ID_railroad_station_walk</th>\n",
              "      <th>ID_railroad_station_avto</th>\n",
              "      <th>water_1line</th>\n",
              "      <th>ID_big_road1</th>\n",
              "      <th>big_road1_1line</th>\n",
              "      <th>ID_big_road2</th>\n",
              "      <th>railroad_1line</th>\n",
              "      <th>ID_railroad_terminal</th>\n",
              "      <th>ID_bus_terminal</th>\n",
              "      <th>ecology</th>\n",
              "    </tr>\n",
              "  </thead>\n",
              "  <tbody>\n",
              "    <tr>\n",
              "      <th>0</th>\n",
              "      <td>OwnerOccupier</td>\n",
              "      <td>1.0</td>\n",
              "      <td>1.0</td>\n",
              "      <td>Nagornoe</td>\n",
              "      <td>no</td>\n",
              "      <td>no</td>\n",
              "      <td>no</td>\n",
              "      <td>no</td>\n",
              "      <td>no</td>\n",
              "      <td>no</td>\n",
              "      <td>no</td>\n",
              "      <td>no</td>\n",
              "      <td>no</td>\n",
              "      <td>18</td>\n",
              "      <td>2.0</td>\n",
              "      <td>42</td>\n",
              "      <td>no</td>\n",
              "      <td>2</td>\n",
              "      <td>no</td>\n",
              "      <td>4</td>\n",
              "      <td>no</td>\n",
              "      <td>32</td>\n",
              "      <td>2</td>\n",
              "      <td>poor</td>\n",
              "    </tr>\n",
              "    <tr>\n",
              "      <th>1</th>\n",
              "      <td>OwnerOccupier</td>\n",
              "      <td>NaN</td>\n",
              "      <td>NaN</td>\n",
              "      <td>Poselenie Sosenskoe</td>\n",
              "      <td>no</td>\n",
              "      <td>no</td>\n",
              "      <td>no</td>\n",
              "      <td>no</td>\n",
              "      <td>no</td>\n",
              "      <td>no</td>\n",
              "      <td>yes</td>\n",
              "      <td>no</td>\n",
              "      <td>no</td>\n",
              "      <td>132</td>\n",
              "      <td>47.0</td>\n",
              "      <td>105</td>\n",
              "      <td>no</td>\n",
              "      <td>38</td>\n",
              "      <td>no</td>\n",
              "      <td>1</td>\n",
              "      <td>no</td>\n",
              "      <td>32</td>\n",
              "      <td>8</td>\n",
              "      <td>no data</td>\n",
              "    </tr>\n",
              "    <tr>\n",
              "      <th>2</th>\n",
              "      <td>Investment</td>\n",
              "      <td>1.0</td>\n",
              "      <td>3.0</td>\n",
              "      <td>Krylatskoe</td>\n",
              "      <td>no</td>\n",
              "      <td>no</td>\n",
              "      <td>no</td>\n",
              "      <td>no</td>\n",
              "      <td>no</td>\n",
              "      <td>no</td>\n",
              "      <td>no</td>\n",
              "      <td>no</td>\n",
              "      <td>yes</td>\n",
              "      <td>92</td>\n",
              "      <td>10.0</td>\n",
              "      <td>22</td>\n",
              "      <td>no</td>\n",
              "      <td>29</td>\n",
              "      <td>no</td>\n",
              "      <td>1</td>\n",
              "      <td>no</td>\n",
              "      <td>50</td>\n",
              "      <td>1</td>\n",
              "      <td>good</td>\n",
              "    </tr>\n",
              "    <tr>\n",
              "      <th>3</th>\n",
              "      <td>Investment</td>\n",
              "      <td>NaN</td>\n",
              "      <td>NaN</td>\n",
              "      <td>Matushkino</td>\n",
              "      <td>no</td>\n",
              "      <td>no</td>\n",
              "      <td>no</td>\n",
              "      <td>no</td>\n",
              "      <td>no</td>\n",
              "      <td>no</td>\n",
              "      <td>no</td>\n",
              "      <td>no</td>\n",
              "      <td>no</td>\n",
              "      <td>12</td>\n",
              "      <td>28.0</td>\n",
              "      <td>28</td>\n",
              "      <td>no</td>\n",
              "      <td>14</td>\n",
              "      <td>no</td>\n",
              "      <td>49</td>\n",
              "      <td>no</td>\n",
              "      <td>83</td>\n",
              "      <td>1</td>\n",
              "      <td>no data</td>\n",
              "    </tr>\n",
              "    <tr>\n",
              "      <th>4</th>\n",
              "      <td>Investment</td>\n",
              "      <td>1.0</td>\n",
              "      <td>2.0</td>\n",
              "      <td>Gol'janovo</td>\n",
              "      <td>no</td>\n",
              "      <td>no</td>\n",
              "      <td>no</td>\n",
              "      <td>no</td>\n",
              "      <td>yes</td>\n",
              "      <td>no</td>\n",
              "      <td>no</td>\n",
              "      <td>no</td>\n",
              "      <td>no</td>\n",
              "      <td>20</td>\n",
              "      <td>18.0</td>\n",
              "      <td>136</td>\n",
              "      <td>yes</td>\n",
              "      <td>1</td>\n",
              "      <td>no</td>\n",
              "      <td>12</td>\n",
              "      <td>no</td>\n",
              "      <td>97</td>\n",
              "      <td>7</td>\n",
              "      <td>good</td>\n",
              "    </tr>\n",
              "    <tr>\n",
              "      <th>...</th>\n",
              "      <td>...</td>\n",
              "      <td>...</td>\n",
              "      <td>...</td>\n",
              "      <td>...</td>\n",
              "      <td>...</td>\n",
              "      <td>...</td>\n",
              "      <td>...</td>\n",
              "      <td>...</td>\n",
              "      <td>...</td>\n",
              "      <td>...</td>\n",
              "      <td>...</td>\n",
              "      <td>...</td>\n",
              "      <td>...</td>\n",
              "      <td>...</td>\n",
              "      <td>...</td>\n",
              "      <td>...</td>\n",
              "      <td>...</td>\n",
              "      <td>...</td>\n",
              "      <td>...</td>\n",
              "      <td>...</td>\n",
              "      <td>...</td>\n",
              "      <td>...</td>\n",
              "      <td>...</td>\n",
              "      <td>...</td>\n",
              "    </tr>\n",
              "    <tr>\n",
              "      <th>19995</th>\n",
              "      <td>Investment</td>\n",
              "      <td>1.0</td>\n",
              "      <td>2.0</td>\n",
              "      <td>Jasenevo</td>\n",
              "      <td>no</td>\n",
              "      <td>no</td>\n",
              "      <td>no</td>\n",
              "      <td>no</td>\n",
              "      <td>yes</td>\n",
              "      <td>no</td>\n",
              "      <td>no</td>\n",
              "      <td>no</td>\n",
              "      <td>no</td>\n",
              "      <td>79</td>\n",
              "      <td>42.0</td>\n",
              "      <td>73</td>\n",
              "      <td>yes</td>\n",
              "      <td>1</td>\n",
              "      <td>no</td>\n",
              "      <td>43</td>\n",
              "      <td>no</td>\n",
              "      <td>32</td>\n",
              "      <td>8</td>\n",
              "      <td>good</td>\n",
              "    </tr>\n",
              "    <tr>\n",
              "      <th>19996</th>\n",
              "      <td>OwnerOccupier</td>\n",
              "      <td>1.0</td>\n",
              "      <td>1.0</td>\n",
              "      <td>Poselenie Sosenskoe</td>\n",
              "      <td>no</td>\n",
              "      <td>no</td>\n",
              "      <td>no</td>\n",
              "      <td>no</td>\n",
              "      <td>no</td>\n",
              "      <td>no</td>\n",
              "      <td>yes</td>\n",
              "      <td>no</td>\n",
              "      <td>no</td>\n",
              "      <td>45</td>\n",
              "      <td>47.0</td>\n",
              "      <td>105</td>\n",
              "      <td>no</td>\n",
              "      <td>38</td>\n",
              "      <td>no</td>\n",
              "      <td>1</td>\n",
              "      <td>no</td>\n",
              "      <td>32</td>\n",
              "      <td>8</td>\n",
              "      <td>no data</td>\n",
              "    </tr>\n",
              "    <tr>\n",
              "      <th>19997</th>\n",
              "      <td>Investment</td>\n",
              "      <td>1.0</td>\n",
              "      <td>2.0</td>\n",
              "      <td>Moskvorech'e-Saburovo</td>\n",
              "      <td>no</td>\n",
              "      <td>no</td>\n",
              "      <td>no</td>\n",
              "      <td>no</td>\n",
              "      <td>yes</td>\n",
              "      <td>no</td>\n",
              "      <td>no</td>\n",
              "      <td>yes</td>\n",
              "      <td>no</td>\n",
              "      <td>71</td>\n",
              "      <td>29.0</td>\n",
              "      <td>27</td>\n",
              "      <td>no</td>\n",
              "      <td>2</td>\n",
              "      <td>no</td>\n",
              "      <td>4</td>\n",
              "      <td>no</td>\n",
              "      <td>32</td>\n",
              "      <td>2</td>\n",
              "      <td>excellent</td>\n",
              "    </tr>\n",
              "    <tr>\n",
              "      <th>19998</th>\n",
              "      <td>Investment</td>\n",
              "      <td>1.0</td>\n",
              "      <td>NaN</td>\n",
              "      <td>Poselenie Moskovskij</td>\n",
              "      <td>no</td>\n",
              "      <td>no</td>\n",
              "      <td>no</td>\n",
              "      <td>no</td>\n",
              "      <td>no</td>\n",
              "      <td>no</td>\n",
              "      <td>no</td>\n",
              "      <td>no</td>\n",
              "      <td>no</td>\n",
              "      <td>206</td>\n",
              "      <td>24.0</td>\n",
              "      <td>19</td>\n",
              "      <td>no</td>\n",
              "      <td>13</td>\n",
              "      <td>no</td>\n",
              "      <td>38</td>\n",
              "      <td>no</td>\n",
              "      <td>50</td>\n",
              "      <td>8</td>\n",
              "      <td>no data</td>\n",
              "    </tr>\n",
              "    <tr>\n",
              "      <th>19999</th>\n",
              "      <td>Investment</td>\n",
              "      <td>NaN</td>\n",
              "      <td>NaN</td>\n",
              "      <td>Kon'kovo</td>\n",
              "      <td>no</td>\n",
              "      <td>no</td>\n",
              "      <td>no</td>\n",
              "      <td>no</td>\n",
              "      <td>yes</td>\n",
              "      <td>no</td>\n",
              "      <td>no</td>\n",
              "      <td>no</td>\n",
              "      <td>no</td>\n",
              "      <td>65</td>\n",
              "      <td>33.0</td>\n",
              "      <td>105</td>\n",
              "      <td>no</td>\n",
              "      <td>16</td>\n",
              "      <td>no</td>\n",
              "      <td>1</td>\n",
              "      <td>no</td>\n",
              "      <td>32</td>\n",
              "      <td>8</td>\n",
              "      <td>satisfactory</td>\n",
              "    </tr>\n",
              "  </tbody>\n",
              "</table>\n",
              "<p>20000 rows × 24 columns</p>\n",
              "</div>"
            ],
            "text/plain": [
              "        product_type  material  ...  ID_bus_terminal       ecology\n",
              "0      OwnerOccupier       1.0  ...                2          poor\n",
              "1      OwnerOccupier       NaN  ...                8       no data\n",
              "2         Investment       1.0  ...                1          good\n",
              "3         Investment       NaN  ...                1       no data\n",
              "4         Investment       1.0  ...                7          good\n",
              "...              ...       ...  ...              ...           ...\n",
              "19995     Investment       1.0  ...                8          good\n",
              "19996  OwnerOccupier       1.0  ...                8       no data\n",
              "19997     Investment       1.0  ...                2     excellent\n",
              "19998     Investment       1.0  ...                8       no data\n",
              "19999     Investment       NaN  ...                8  satisfactory\n",
              "\n",
              "[20000 rows x 24 columns]"
            ]
          },
          "metadata": {},
          "execution_count": 16
        }
      ],
      "source": [
        "cat_columns"
      ]
    },
    {
      "cell_type": "code",
      "execution_count": null,
      "metadata": {
        "colab": {
          "base_uri": "https://localhost:8080/"
        },
        "id": "35hFizTTE-To",
        "outputId": "332d47f1-5591-4213-efc7-04fc055cef11"
      },
      "outputs": [
        {
          "output_type": "execute_result",
          "data": {
            "text/plain": [
              "51"
            ]
          },
          "metadata": {},
          "execution_count": 17
        }
      ],
      "source": [
        "df.isna().any().sum(axis=0)"
      ]
    },
    {
      "cell_type": "code",
      "execution_count": null,
      "metadata": {
        "colab": {
          "base_uri": "https://localhost:8080/"
        },
        "id": "bve3jd00F7c9",
        "outputId": "a9ef9db6-0480-4322-ee42-c27355cb724e"
      },
      "outputs": [
        {
          "output_type": "execute_result",
          "data": {
            "text/plain": [
              "(51,)"
            ]
          },
          "metadata": {},
          "execution_count": 18
        }
      ],
      "source": [
        "columns_with_missed_values = df.isna().sum()[df.isna().sum() > 0].index\n",
        "columns_with_missed_values.shape"
      ]
    },
    {
      "cell_type": "code",
      "execution_count": null,
      "metadata": {
        "colab": {
          "base_uri": "https://localhost:8080/",
          "height": 454
        },
        "id": "UKWYAgVBJqJY",
        "outputId": "992d9321-87f5-4e5f-96e2-d15e3a0af51b"
      },
      "outputs": [
        {
          "output_type": "execute_result",
          "data": {
            "text/html": [
              "<div>\n",
              "<style scoped>\n",
              "    .dataframe tbody tr th:only-of-type {\n",
              "        vertical-align: middle;\n",
              "    }\n",
              "\n",
              "    .dataframe tbody tr th {\n",
              "        vertical-align: top;\n",
              "    }\n",
              "\n",
              "    .dataframe thead th {\n",
              "        text-align: right;\n",
              "    }\n",
              "</style>\n",
              "<table border=\"1\" class=\"dataframe\">\n",
              "  <thead>\n",
              "    <tr style=\"text-align: right;\">\n",
              "      <th></th>\n",
              "      <th>life_sq</th>\n",
              "      <th>floor</th>\n",
              "      <th>max_floor</th>\n",
              "      <th>material</th>\n",
              "      <th>build_year</th>\n",
              "      <th>num_room</th>\n",
              "      <th>kitch_sq</th>\n",
              "      <th>state</th>\n",
              "      <th>preschool_quota</th>\n",
              "      <th>school_quota</th>\n",
              "      <th>hospital_beds_raion</th>\n",
              "      <th>raion_build_count_with_material_info</th>\n",
              "      <th>build_count_block</th>\n",
              "      <th>build_count_wood</th>\n",
              "      <th>build_count_frame</th>\n",
              "      <th>build_count_brick</th>\n",
              "      <th>build_count_monolith</th>\n",
              "      <th>build_count_panel</th>\n",
              "      <th>build_count_foam</th>\n",
              "      <th>build_count_slag</th>\n",
              "      <th>build_count_mix</th>\n",
              "      <th>raion_build_count_with_builddate_info</th>\n",
              "      <th>build_count_before_1920</th>\n",
              "      <th>build_count_1921-1945</th>\n",
              "      <th>build_count_1946-1970</th>\n",
              "      <th>build_count_1971-1995</th>\n",
              "      <th>build_count_after_1995</th>\n",
              "      <th>metro_min_walk</th>\n",
              "      <th>metro_km_walk</th>\n",
              "      <th>railroad_station_walk_km</th>\n",
              "      <th>railroad_station_walk_min</th>\n",
              "      <th>ID_railroad_station_walk</th>\n",
              "      <th>cafe_sum_500_min_price_avg</th>\n",
              "      <th>cafe_sum_500_max_price_avg</th>\n",
              "      <th>cafe_avg_price_500</th>\n",
              "      <th>cafe_sum_1000_min_price_avg</th>\n",
              "      <th>cafe_sum_1000_max_price_avg</th>\n",
              "      <th>cafe_avg_price_1000</th>\n",
              "      <th>cafe_sum_1500_min_price_avg</th>\n",
              "      <th>cafe_sum_1500_max_price_avg</th>\n",
              "      <th>cafe_avg_price_1500</th>\n",
              "      <th>cafe_sum_2000_min_price_avg</th>\n",
              "      <th>cafe_sum_2000_max_price_avg</th>\n",
              "      <th>cafe_avg_price_2000</th>\n",
              "      <th>cafe_sum_3000_min_price_avg</th>\n",
              "      <th>cafe_sum_3000_max_price_avg</th>\n",
              "      <th>cafe_avg_price_3000</th>\n",
              "      <th>prom_part_5000</th>\n",
              "      <th>cafe_sum_5000_min_price_avg</th>\n",
              "      <th>cafe_sum_5000_max_price_avg</th>\n",
              "      <th>cafe_avg_price_5000</th>\n",
              "    </tr>\n",
              "  </thead>\n",
              "  <tbody>\n",
              "    <tr>\n",
              "      <th>0</th>\n",
              "      <td>1.0</td>\n",
              "      <td>1.0</td>\n",
              "      <td>1.0</td>\n",
              "      <td>1.0</td>\n",
              "      <td>1.0</td>\n",
              "      <td>1.0</td>\n",
              "      <td>1.0</td>\n",
              "      <td>1.0</td>\n",
              "      <td>2279.0</td>\n",
              "      <td>10027.0</td>\n",
              "      <td>NaN</td>\n",
              "      <td>244.0</td>\n",
              "      <td>71.0</td>\n",
              "      <td>0.0</td>\n",
              "      <td>0.0</td>\n",
              "      <td>105.0</td>\n",
              "      <td>4.0</td>\n",
              "      <td>64.0</td>\n",
              "      <td>0.0</td>\n",
              "      <td>0.0</td>\n",
              "      <td>0.0</td>\n",
              "      <td>243.0</td>\n",
              "      <td>0.0</td>\n",
              "      <td>1.0</td>\n",
              "      <td>153.0</td>\n",
              "      <td>56.0</td>\n",
              "      <td>33.0</td>\n",
              "      <td>5.023493</td>\n",
              "      <td>0.418624</td>\n",
              "      <td>3.053683</td>\n",
              "      <td>36.644198</td>\n",
              "      <td>2.0</td>\n",
              "      <td>500.00</td>\n",
              "      <td>1000.00</td>\n",
              "      <td>750.00</td>\n",
              "      <td>400.00</td>\n",
              "      <td>750.00</td>\n",
              "      <td>575.00</td>\n",
              "      <td>735.29</td>\n",
              "      <td>1235.29</td>\n",
              "      <td>985.29</td>\n",
              "      <td>665.79</td>\n",
              "      <td>1157.89</td>\n",
              "      <td>911.84</td>\n",
              "      <td>705.32</td>\n",
              "      <td>1186.17</td>\n",
              "      <td>945.74</td>\n",
              "      <td>19.83</td>\n",
              "      <td>755.99</td>\n",
              "      <td>1263.47</td>\n",
              "      <td>1009.73</td>\n",
              "    </tr>\n",
              "    <tr>\n",
              "      <th>1</th>\n",
              "      <td>64.0</td>\n",
              "      <td>16.0</td>\n",
              "      <td>NaN</td>\n",
              "      <td>NaN</td>\n",
              "      <td>NaN</td>\n",
              "      <td>NaN</td>\n",
              "      <td>NaN</td>\n",
              "      <td>NaN</td>\n",
              "      <td>NaN</td>\n",
              "      <td>NaN</td>\n",
              "      <td>NaN</td>\n",
              "      <td>NaN</td>\n",
              "      <td>NaN</td>\n",
              "      <td>NaN</td>\n",
              "      <td>NaN</td>\n",
              "      <td>NaN</td>\n",
              "      <td>NaN</td>\n",
              "      <td>NaN</td>\n",
              "      <td>NaN</td>\n",
              "      <td>NaN</td>\n",
              "      <td>NaN</td>\n",
              "      <td>NaN</td>\n",
              "      <td>NaN</td>\n",
              "      <td>NaN</td>\n",
              "      <td>NaN</td>\n",
              "      <td>NaN</td>\n",
              "      <td>NaN</td>\n",
              "      <td>75.679494</td>\n",
              "      <td>6.306624</td>\n",
              "      <td>10.463345</td>\n",
              "      <td>125.560144</td>\n",
              "      <td>47.0</td>\n",
              "      <td>NaN</td>\n",
              "      <td>NaN</td>\n",
              "      <td>NaN</td>\n",
              "      <td>500.00</td>\n",
              "      <td>1000.00</td>\n",
              "      <td>750.00</td>\n",
              "      <td>500.00</td>\n",
              "      <td>1000.00</td>\n",
              "      <td>750.00</td>\n",
              "      <td>500.00</td>\n",
              "      <td>1000.00</td>\n",
              "      <td>750.00</td>\n",
              "      <td>1750.00</td>\n",
              "      <td>2875.00</td>\n",
              "      <td>2312.50</td>\n",
              "      <td>8.70</td>\n",
              "      <td>1108.33</td>\n",
              "      <td>1833.33</td>\n",
              "      <td>1470.83</td>\n",
              "    </tr>\n",
              "    <tr>\n",
              "      <th>2</th>\n",
              "      <td>44.0</td>\n",
              "      <td>9.0</td>\n",
              "      <td>17.0</td>\n",
              "      <td>1.0</td>\n",
              "      <td>1985.0</td>\n",
              "      <td>3.0</td>\n",
              "      <td>10.0</td>\n",
              "      <td>3.0</td>\n",
              "      <td>3092.0</td>\n",
              "      <td>7478.0</td>\n",
              "      <td>NaN</td>\n",
              "      <td>188.0</td>\n",
              "      <td>3.0</td>\n",
              "      <td>3.0</td>\n",
              "      <td>0.0</td>\n",
              "      <td>66.0</td>\n",
              "      <td>27.0</td>\n",
              "      <td>89.0</td>\n",
              "      <td>0.0</td>\n",
              "      <td>0.0</td>\n",
              "      <td>0.0</td>\n",
              "      <td>188.0</td>\n",
              "      <td>1.0</td>\n",
              "      <td>0.0</td>\n",
              "      <td>3.0</td>\n",
              "      <td>81.0</td>\n",
              "      <td>103.0</td>\n",
              "      <td>3.359196</td>\n",
              "      <td>0.279933</td>\n",
              "      <td>4.389323</td>\n",
              "      <td>52.671880</td>\n",
              "      <td>10.0</td>\n",
              "      <td>762.50</td>\n",
              "      <td>1250.00</td>\n",
              "      <td>1006.25</td>\n",
              "      <td>885.71</td>\n",
              "      <td>1464.29</td>\n",
              "      <td>1175.00</td>\n",
              "      <td>955.56</td>\n",
              "      <td>1583.33</td>\n",
              "      <td>1269.44</td>\n",
              "      <td>890.63</td>\n",
              "      <td>1500.00</td>\n",
              "      <td>1195.31</td>\n",
              "      <td>987.50</td>\n",
              "      <td>1645.83</td>\n",
              "      <td>1316.67</td>\n",
              "      <td>4.58</td>\n",
              "      <td>923.26</td>\n",
              "      <td>1523.26</td>\n",
              "      <td>1223.26</td>\n",
              "    </tr>\n",
              "    <tr>\n",
              "      <th>3</th>\n",
              "      <td>49.0</td>\n",
              "      <td>2.0</td>\n",
              "      <td>NaN</td>\n",
              "      <td>NaN</td>\n",
              "      <td>NaN</td>\n",
              "      <td>NaN</td>\n",
              "      <td>NaN</td>\n",
              "      <td>NaN</td>\n",
              "      <td>2080.0</td>\n",
              "      <td>3885.0</td>\n",
              "      <td>NaN</td>\n",
              "      <td>107.0</td>\n",
              "      <td>23.0</td>\n",
              "      <td>0.0</td>\n",
              "      <td>0.0</td>\n",
              "      <td>10.0</td>\n",
              "      <td>16.0</td>\n",
              "      <td>58.0</td>\n",
              "      <td>0.0</td>\n",
              "      <td>0.0</td>\n",
              "      <td>0.0</td>\n",
              "      <td>107.0</td>\n",
              "      <td>0.0</td>\n",
              "      <td>0.0</td>\n",
              "      <td>46.0</td>\n",
              "      <td>15.0</td>\n",
              "      <td>46.0</td>\n",
              "      <td>294.672161</td>\n",
              "      <td>24.556013</td>\n",
              "      <td>4.935636</td>\n",
              "      <td>59.227626</td>\n",
              "      <td>28.0</td>\n",
              "      <td>300.00</td>\n",
              "      <td>500.00</td>\n",
              "      <td>400.00</td>\n",
              "      <td>340.00</td>\n",
              "      <td>600.00</td>\n",
              "      <td>470.00</td>\n",
              "      <td>340.00</td>\n",
              "      <td>600.00</td>\n",
              "      <td>470.00</td>\n",
              "      <td>525.00</td>\n",
              "      <td>875.00</td>\n",
              "      <td>700.00</td>\n",
              "      <td>500.00</td>\n",
              "      <td>850.00</td>\n",
              "      <td>675.00</td>\n",
              "      <td>7.28</td>\n",
              "      <td>507.14</td>\n",
              "      <td>857.14</td>\n",
              "      <td>682.14</td>\n",
              "    </tr>\n",
              "    <tr>\n",
              "      <th>4</th>\n",
              "      <td>42.0</td>\n",
              "      <td>9.0</td>\n",
              "      <td>9.0</td>\n",
              "      <td>1.0</td>\n",
              "      <td>1970.0</td>\n",
              "      <td>3.0</td>\n",
              "      <td>6.0</td>\n",
              "      <td>2.0</td>\n",
              "      <td>5041.0</td>\n",
              "      <td>11081.0</td>\n",
              "      <td>125.0</td>\n",
              "      <td>371.0</td>\n",
              "      <td>88.0</td>\n",
              "      <td>0.0</td>\n",
              "      <td>0.0</td>\n",
              "      <td>68.0</td>\n",
              "      <td>8.0</td>\n",
              "      <td>207.0</td>\n",
              "      <td>0.0</td>\n",
              "      <td>0.0</td>\n",
              "      <td>0.0</td>\n",
              "      <td>371.0</td>\n",
              "      <td>0.0</td>\n",
              "      <td>1.0</td>\n",
              "      <td>221.0</td>\n",
              "      <td>129.0</td>\n",
              "      <td>20.0</td>\n",
              "      <td>27.544802</td>\n",
              "      <td>2.295400</td>\n",
              "      <td>6.879740</td>\n",
              "      <td>82.556879</td>\n",
              "      <td>18.0</td>\n",
              "      <td>300.00</td>\n",
              "      <td>500.00</td>\n",
              "      <td>400.00</td>\n",
              "      <td>366.67</td>\n",
              "      <td>666.67</td>\n",
              "      <td>516.67</td>\n",
              "      <td>520.00</td>\n",
              "      <td>900.00</td>\n",
              "      <td>710.00</td>\n",
              "      <td>518.18</td>\n",
              "      <td>909.09</td>\n",
              "      <td>713.64</td>\n",
              "      <td>608.33</td>\n",
              "      <td>1020.83</td>\n",
              "      <td>814.58</td>\n",
              "      <td>9.08</td>\n",
              "      <td>656.00</td>\n",
              "      <td>1110.00</td>\n",
              "      <td>883.00</td>\n",
              "    </tr>\n",
              "    <tr>\n",
              "      <th>...</th>\n",
              "      <td>...</td>\n",
              "      <td>...</td>\n",
              "      <td>...</td>\n",
              "      <td>...</td>\n",
              "      <td>...</td>\n",
              "      <td>...</td>\n",
              "      <td>...</td>\n",
              "      <td>...</td>\n",
              "      <td>...</td>\n",
              "      <td>...</td>\n",
              "      <td>...</td>\n",
              "      <td>...</td>\n",
              "      <td>...</td>\n",
              "      <td>...</td>\n",
              "      <td>...</td>\n",
              "      <td>...</td>\n",
              "      <td>...</td>\n",
              "      <td>...</td>\n",
              "      <td>...</td>\n",
              "      <td>...</td>\n",
              "      <td>...</td>\n",
              "      <td>...</td>\n",
              "      <td>...</td>\n",
              "      <td>...</td>\n",
              "      <td>...</td>\n",
              "      <td>...</td>\n",
              "      <td>...</td>\n",
              "      <td>...</td>\n",
              "      <td>...</td>\n",
              "      <td>...</td>\n",
              "      <td>...</td>\n",
              "      <td>...</td>\n",
              "      <td>...</td>\n",
              "      <td>...</td>\n",
              "      <td>...</td>\n",
              "      <td>...</td>\n",
              "      <td>...</td>\n",
              "      <td>...</td>\n",
              "      <td>...</td>\n",
              "      <td>...</td>\n",
              "      <td>...</td>\n",
              "      <td>...</td>\n",
              "      <td>...</td>\n",
              "      <td>...</td>\n",
              "      <td>...</td>\n",
              "      <td>...</td>\n",
              "      <td>...</td>\n",
              "      <td>...</td>\n",
              "      <td>...</td>\n",
              "      <td>...</td>\n",
              "      <td>...</td>\n",
              "    </tr>\n",
              "    <tr>\n",
              "      <th>19995</th>\n",
              "      <td>27.0</td>\n",
              "      <td>2.0</td>\n",
              "      <td>9.0</td>\n",
              "      <td>1.0</td>\n",
              "      <td>1978.0</td>\n",
              "      <td>2.0</td>\n",
              "      <td>5.0</td>\n",
              "      <td>2.0</td>\n",
              "      <td>4172.0</td>\n",
              "      <td>10559.0</td>\n",
              "      <td>2300.0</td>\n",
              "      <td>175.0</td>\n",
              "      <td>16.0</td>\n",
              "      <td>5.0</td>\n",
              "      <td>0.0</td>\n",
              "      <td>2.0</td>\n",
              "      <td>0.0</td>\n",
              "      <td>150.0</td>\n",
              "      <td>0.0</td>\n",
              "      <td>2.0</td>\n",
              "      <td>0.0</td>\n",
              "      <td>175.0</td>\n",
              "      <td>0.0</td>\n",
              "      <td>2.0</td>\n",
              "      <td>7.0</td>\n",
              "      <td>159.0</td>\n",
              "      <td>7.0</td>\n",
              "      <td>19.786133</td>\n",
              "      <td>1.648844</td>\n",
              "      <td>11.210426</td>\n",
              "      <td>134.525109</td>\n",
              "      <td>42.0</td>\n",
              "      <td>300.00</td>\n",
              "      <td>500.00</td>\n",
              "      <td>400.00</td>\n",
              "      <td>400.00</td>\n",
              "      <td>750.00</td>\n",
              "      <td>575.00</td>\n",
              "      <td>485.71</td>\n",
              "      <td>857.14</td>\n",
              "      <td>671.43</td>\n",
              "      <td>544.44</td>\n",
              "      <td>944.44</td>\n",
              "      <td>744.44</td>\n",
              "      <td>576.32</td>\n",
              "      <td>986.84</td>\n",
              "      <td>781.58</td>\n",
              "      <td>7.54</td>\n",
              "      <td>622.97</td>\n",
              "      <td>1054.05</td>\n",
              "      <td>838.51</td>\n",
              "    </tr>\n",
              "    <tr>\n",
              "      <th>19996</th>\n",
              "      <td>NaN</td>\n",
              "      <td>4.0</td>\n",
              "      <td>17.0</td>\n",
              "      <td>1.0</td>\n",
              "      <td>NaN</td>\n",
              "      <td>2.0</td>\n",
              "      <td>1.0</td>\n",
              "      <td>1.0</td>\n",
              "      <td>NaN</td>\n",
              "      <td>NaN</td>\n",
              "      <td>NaN</td>\n",
              "      <td>NaN</td>\n",
              "      <td>NaN</td>\n",
              "      <td>NaN</td>\n",
              "      <td>NaN</td>\n",
              "      <td>NaN</td>\n",
              "      <td>NaN</td>\n",
              "      <td>NaN</td>\n",
              "      <td>NaN</td>\n",
              "      <td>NaN</td>\n",
              "      <td>NaN</td>\n",
              "      <td>NaN</td>\n",
              "      <td>NaN</td>\n",
              "      <td>NaN</td>\n",
              "      <td>NaN</td>\n",
              "      <td>NaN</td>\n",
              "      <td>NaN</td>\n",
              "      <td>73.800122</td>\n",
              "      <td>6.150010</td>\n",
              "      <td>10.037414</td>\n",
              "      <td>120.448965</td>\n",
              "      <td>47.0</td>\n",
              "      <td>NaN</td>\n",
              "      <td>NaN</td>\n",
              "      <td>NaN</td>\n",
              "      <td>500.00</td>\n",
              "      <td>1000.00</td>\n",
              "      <td>750.00</td>\n",
              "      <td>500.00</td>\n",
              "      <td>1000.00</td>\n",
              "      <td>750.00</td>\n",
              "      <td>500.00</td>\n",
              "      <td>1000.00</td>\n",
              "      <td>750.00</td>\n",
              "      <td>1750.00</td>\n",
              "      <td>2875.00</td>\n",
              "      <td>2312.50</td>\n",
              "      <td>7.92</td>\n",
              "      <td>1191.67</td>\n",
              "      <td>1916.67</td>\n",
              "      <td>1554.17</td>\n",
              "    </tr>\n",
              "    <tr>\n",
              "      <th>19997</th>\n",
              "      <td>14.0</td>\n",
              "      <td>9.0</td>\n",
              "      <td>22.0</td>\n",
              "      <td>1.0</td>\n",
              "      <td>2001.0</td>\n",
              "      <td>1.0</td>\n",
              "      <td>10.0</td>\n",
              "      <td>2.0</td>\n",
              "      <td>3150.0</td>\n",
              "      <td>5519.0</td>\n",
              "      <td>2715.0</td>\n",
              "      <td>153.0</td>\n",
              "      <td>4.0</td>\n",
              "      <td>0.0</td>\n",
              "      <td>0.0</td>\n",
              "      <td>75.0</td>\n",
              "      <td>3.0</td>\n",
              "      <td>71.0</td>\n",
              "      <td>0.0</td>\n",
              "      <td>0.0</td>\n",
              "      <td>0.0</td>\n",
              "      <td>153.0</td>\n",
              "      <td>0.0</td>\n",
              "      <td>0.0</td>\n",
              "      <td>78.0</td>\n",
              "      <td>54.0</td>\n",
              "      <td>21.0</td>\n",
              "      <td>16.208502</td>\n",
              "      <td>1.350709</td>\n",
              "      <td>3.738577</td>\n",
              "      <td>44.862929</td>\n",
              "      <td>29.0</td>\n",
              "      <td>400.00</td>\n",
              "      <td>750.00</td>\n",
              "      <td>575.00</td>\n",
              "      <td>450.00</td>\n",
              "      <td>875.00</td>\n",
              "      <td>662.50</td>\n",
              "      <td>490.00</td>\n",
              "      <td>900.00</td>\n",
              "      <td>695.00</td>\n",
              "      <td>569.23</td>\n",
              "      <td>1000.00</td>\n",
              "      <td>784.62</td>\n",
              "      <td>637.50</td>\n",
              "      <td>1100.00</td>\n",
              "      <td>868.75</td>\n",
              "      <td>22.68</td>\n",
              "      <td>673.57</td>\n",
              "      <td>1142.86</td>\n",
              "      <td>908.21</td>\n",
              "    </tr>\n",
              "    <tr>\n",
              "      <th>19998</th>\n",
              "      <td>30.0</td>\n",
              "      <td>8.0</td>\n",
              "      <td>17.0</td>\n",
              "      <td>1.0</td>\n",
              "      <td>2011.0</td>\n",
              "      <td>2.0</td>\n",
              "      <td>9.0</td>\n",
              "      <td>NaN</td>\n",
              "      <td>NaN</td>\n",
              "      <td>NaN</td>\n",
              "      <td>NaN</td>\n",
              "      <td>1.0</td>\n",
              "      <td>0.0</td>\n",
              "      <td>1.0</td>\n",
              "      <td>0.0</td>\n",
              "      <td>0.0</td>\n",
              "      <td>0.0</td>\n",
              "      <td>0.0</td>\n",
              "      <td>0.0</td>\n",
              "      <td>0.0</td>\n",
              "      <td>0.0</td>\n",
              "      <td>1.0</td>\n",
              "      <td>0.0</td>\n",
              "      <td>0.0</td>\n",
              "      <td>1.0</td>\n",
              "      <td>0.0</td>\n",
              "      <td>0.0</td>\n",
              "      <td>83.379523</td>\n",
              "      <td>6.948294</td>\n",
              "      <td>8.961726</td>\n",
              "      <td>107.540712</td>\n",
              "      <td>24.0</td>\n",
              "      <td>NaN</td>\n",
              "      <td>NaN</td>\n",
              "      <td>NaN</td>\n",
              "      <td>NaN</td>\n",
              "      <td>NaN</td>\n",
              "      <td>NaN</td>\n",
              "      <td>NaN</td>\n",
              "      <td>NaN</td>\n",
              "      <td>NaN</td>\n",
              "      <td>NaN</td>\n",
              "      <td>NaN</td>\n",
              "      <td>NaN</td>\n",
              "      <td>500.00</td>\n",
              "      <td>1000.00</td>\n",
              "      <td>750.00</td>\n",
              "      <td>5.13</td>\n",
              "      <td>833.33</td>\n",
              "      <td>1416.67</td>\n",
              "      <td>1125.00</td>\n",
              "    </tr>\n",
              "    <tr>\n",
              "      <th>19999</th>\n",
              "      <td>32.0</td>\n",
              "      <td>9.0</td>\n",
              "      <td>NaN</td>\n",
              "      <td>NaN</td>\n",
              "      <td>NaN</td>\n",
              "      <td>NaN</td>\n",
              "      <td>NaN</td>\n",
              "      <td>NaN</td>\n",
              "      <td>2627.0</td>\n",
              "      <td>9650.0</td>\n",
              "      <td>350.0</td>\n",
              "      <td>314.0</td>\n",
              "      <td>44.0</td>\n",
              "      <td>0.0</td>\n",
              "      <td>0.0</td>\n",
              "      <td>7.0</td>\n",
              "      <td>3.0</td>\n",
              "      <td>260.0</td>\n",
              "      <td>0.0</td>\n",
              "      <td>0.0</td>\n",
              "      <td>0.0</td>\n",
              "      <td>315.0</td>\n",
              "      <td>0.0</td>\n",
              "      <td>0.0</td>\n",
              "      <td>156.0</td>\n",
              "      <td>126.0</td>\n",
              "      <td>33.0</td>\n",
              "      <td>14.413719</td>\n",
              "      <td>1.201143</td>\n",
              "      <td>7.570019</td>\n",
              "      <td>90.840227</td>\n",
              "      <td>33.0</td>\n",
              "      <td>833.33</td>\n",
              "      <td>1333.33</td>\n",
              "      <td>1083.33</td>\n",
              "      <td>700.00</td>\n",
              "      <td>1166.67</td>\n",
              "      <td>933.33</td>\n",
              "      <td>729.03</td>\n",
              "      <td>1258.06</td>\n",
              "      <td>993.55</td>\n",
              "      <td>655.77</td>\n",
              "      <td>1125.00</td>\n",
              "      <td>890.38</td>\n",
              "      <td>652.29</td>\n",
              "      <td>1100.92</td>\n",
              "      <td>876.61</td>\n",
              "      <td>9.19</td>\n",
              "      <td>705.78</td>\n",
              "      <td>1186.67</td>\n",
              "      <td>946.22</td>\n",
              "    </tr>\n",
              "  </tbody>\n",
              "</table>\n",
              "<p>20000 rows × 51 columns</p>\n",
              "</div>"
            ],
            "text/plain": [
              "       life_sq  floor  ...  cafe_sum_5000_max_price_avg  cafe_avg_price_5000\n",
              "0          1.0    1.0  ...                      1263.47              1009.73\n",
              "1         64.0   16.0  ...                      1833.33              1470.83\n",
              "2         44.0    9.0  ...                      1523.26              1223.26\n",
              "3         49.0    2.0  ...                       857.14               682.14\n",
              "4         42.0    9.0  ...                      1110.00               883.00\n",
              "...        ...    ...  ...                          ...                  ...\n",
              "19995     27.0    2.0  ...                      1054.05               838.51\n",
              "19996      NaN    4.0  ...                      1916.67              1554.17\n",
              "19997     14.0    9.0  ...                      1142.86               908.21\n",
              "19998     30.0    8.0  ...                      1416.67              1125.00\n",
              "19999     32.0    9.0  ...                      1186.67               946.22\n",
              "\n",
              "[20000 rows x 51 columns]"
            ]
          },
          "metadata": {},
          "execution_count": 19
        }
      ],
      "source": [
        "df[columns_with_missed_values]"
      ]
    },
    {
      "cell_type": "code",
      "execution_count": null,
      "metadata": {
        "colab": {
          "base_uri": "https://localhost:8080/"
        },
        "id": "fzYBuSKqF-p9",
        "outputId": "c3fabf0b-b9ae-4235-976f-948bb046a68c"
      },
      "outputs": [
        {
          "output_type": "execute_result",
          "data": {
            "text/plain": [
              "169607"
            ]
          },
          "metadata": {},
          "execution_count": 20
        }
      ],
      "source": [
        "df.isna().sum().sum()"
      ]
    },
    {
      "cell_type": "markdown",
      "metadata": {
        "id": "n0kofKPElV53"
      },
      "source": [
        "У нас очень много пропущенных данных, их примерно 169 тысяч. Воспользуемся Multiple Imputations with Random Forests: https://pythonrepo.com/repo/AnotherSamWilson-miceforest-python-python-implementation-of-algorithms-and-design-patterns"
      ]
    },
    {
      "cell_type": "code",
      "execution_count": null,
      "metadata": {
        "colab": {
          "base_uri": "https://localhost:8080/"
        },
        "id": "jDjkmpqgj_Fx",
        "outputId": "1b8b26d8-e757-4ee9-d5cb-a58372a639f4"
      },
      "outputs": [
        {
          "name": "stdout",
          "output_type": "stream",
          "text": [
            "Collecting miceforest\n",
            "  Downloading miceforest-5.1.2-py3-none-any.whl (69 kB)\n",
            "\u001b[?25l\r\u001b[K     |████▊                           | 10 kB 26.8 MB/s eta 0:00:01\r\u001b[K     |█████████▍                      | 20 kB 26.3 MB/s eta 0:00:01\r\u001b[K     |██████████████                  | 30 kB 11.8 MB/s eta 0:00:01\r\u001b[K     |██████████████████▊             | 40 kB 9.2 MB/s eta 0:00:01\r\u001b[K     |███████████████████████▍        | 51 kB 5.5 MB/s eta 0:00:01\r\u001b[K     |████████████████████████████▏   | 61 kB 5.9 MB/s eta 0:00:01\r\u001b[K     |████████████████████████████████| 69 kB 6.3 MB/s \n",
            "\u001b[?25hRequirement already satisfied: numpy in /usr/local/lib/python3.7/dist-packages (from miceforest) (1.19.5)\n",
            "Requirement already satisfied: lightgbm in /usr/local/lib/python3.7/dist-packages (from miceforest) (2.2.3)\n",
            "Requirement already satisfied: scipy in /usr/local/lib/python3.7/dist-packages (from lightgbm->miceforest) (1.4.1)\n",
            "Requirement already satisfied: scikit-learn in /usr/local/lib/python3.7/dist-packages (from lightgbm->miceforest) (1.0.1)\n",
            "Requirement already satisfied: joblib>=0.11 in /usr/local/lib/python3.7/dist-packages (from scikit-learn->lightgbm->miceforest) (1.1.0)\n",
            "Requirement already satisfied: threadpoolctl>=2.0.0 in /usr/local/lib/python3.7/dist-packages (from scikit-learn->lightgbm->miceforest) (3.0.0)\n",
            "Installing collected packages: miceforest\n",
            "Successfully installed miceforest-5.1.2\n"
          ]
        }
      ],
      "source": [
        "!pip install miceforest --no-cache-dir"
      ]
    },
    {
      "cell_type": "code",
      "execution_count": null,
      "metadata": {
        "id": "O3GKegX_kFRg"
      },
      "outputs": [],
      "source": [
        "import miceforest as mf"
      ]
    },
    {
      "cell_type": "code",
      "execution_count": null,
      "metadata": {
        "colab": {
          "base_uri": "https://localhost:8080/",
          "height": 320
        },
        "id": "uaJz_lUepKX3",
        "outputId": "d5887718-ab83-4940-bb85-aadf81c59f17"
      },
      "outputs": [
        {
          "name": "stdout",
          "output_type": "stream",
          "text": [
            "Requirement already satisfied: scipy in /usr/local/lib/python3.7/dist-packages (1.4.1)\n",
            "Collecting scipy\n",
            "  Downloading scipy-1.7.3-cp37-cp37m-manylinux_2_12_x86_64.manylinux2010_x86_64.whl (38.1 MB)\n",
            "\u001b[K     |████████████████████████████████| 38.1 MB 1.2 MB/s \n",
            "\u001b[?25hRequirement already satisfied: numpy<1.23.0,>=1.16.5 in /usr/local/lib/python3.7/dist-packages (from scipy) (1.19.5)\n",
            "Installing collected packages: scipy\n",
            "  Attempting uninstall: scipy\n",
            "    Found existing installation: scipy 1.4.1\n",
            "    Uninstalling scipy-1.4.1:\n",
            "      Successfully uninstalled scipy-1.4.1\n",
            "\u001b[31mERROR: pip's dependency resolver does not currently take into account all the packages that are installed. This behaviour is the source of the following dependency conflicts.\n",
            "albumentations 0.1.12 requires imgaug<0.2.7,>=0.2.5, but you have imgaug 0.2.9 which is incompatible.\u001b[0m\n",
            "Successfully installed scipy-1.7.3\n"
          ]
        },
        {
          "data": {
            "application/vnd.colab-display-data+json": {
              "pip_warning": {
                "packages": [
                  "scipy"
                ]
              }
            }
          },
          "metadata": {},
          "output_type": "display_data"
        }
      ],
      "source": [
        "!pip install scipy --upgrade"
      ]
    },
    {
      "cell_type": "code",
      "execution_count": null,
      "metadata": {
        "id": "olOnHkv8nU1S"
      },
      "outputs": [],
      "source": [
        "df.drop('timestamp', axis=1, inplace=True)"
      ]
    },
    {
      "cell_type": "code",
      "execution_count": null,
      "metadata": {
        "id": "ganRpLxOGQNR"
      },
      "outputs": [],
      "source": [
        "df = pd.get_dummies(df)"
      ]
    },
    {
      "cell_type": "code",
      "execution_count": null,
      "metadata": {
        "colab": {
          "base_uri": "https://localhost:8080/"
        },
        "id": "s__8N4ODlnIO",
        "outputId": "bb52069f-60ec-4b08-aea4-17345ef8e6bd"
      },
      "outputs": [
        {
          "name": "stdout",
          "output_type": "stream",
          "text": [
            "              Class: ImputationKernel\n",
            "           Datasets: 1\n",
            "         Iterations: 5\n",
            "  Imputed Variables: 51\n",
            "save_all_iterations: True\n"
          ]
        }
      ],
      "source": [
        "kernel = mf.ImputationKernel(\n",
        "                             df, \n",
        "                             datasets=1, \n",
        "                             save_all_iterations=True, \n",
        "                             random_state=42,\n",
        "                             )\n",
        "kernel.mice()\n",
        "print(kernel)"
      ]
    },
    {
      "cell_type": "code",
      "execution_count": null,
      "metadata": {
        "colab": {
          "base_uri": "https://localhost:8080/"
        },
        "id": "G4SeANm3msWX",
        "outputId": "8097a64a-136d-4b0a-8795-691040d6830b"
      },
      "outputs": [
        {
          "name": "stdout",
          "output_type": "stream",
          "text": [
            "0\n"
          ]
        }
      ],
      "source": [
        "completed_dataset = kernel.complete_data(dataset=0, inplace=False)\n",
        "print(completed_dataset.isnull().sum().sum())"
      ]
    },
    {
      "cell_type": "markdown",
      "metadata": {
        "id": "R_sOX7c-xGcj"
      },
      "source": [
        "Ячейка выполнялась 30 минут, поэтому я сохраню получившийся фрейм и пойду спать"
      ]
    },
    {
      "cell_type": "code",
      "execution_count": null,
      "metadata": {
        "id": "w4Q4U0QVx8YK",
        "colab": {
          "base_uri": "https://localhost:8080/"
        },
        "outputId": "1b5f270e-8eb9-4505-9366-dafa47347dd8"
      },
      "outputs": [
        {
          "output_type": "stream",
          "name": "stdout",
          "text": [
            "Mounted at drive\n"
          ]
        }
      ],
      "source": [
        "from google.colab import drive\n",
        "drive.mount('drive')"
      ]
    },
    {
      "cell_type": "code",
      "execution_count": null,
      "metadata": {
        "id": "-lXsPIxixNwc"
      },
      "outputs": [],
      "source": [
        "completed_dataset.to_csv('completed_dataset.csv', encoding='utf-8', index=False)\n",
        "!cp completed_dataset.csv \"drive/MyDrive/\""
      ]
    },
    {
      "cell_type": "code",
      "execution_count": null,
      "metadata": {
        "colab": {
          "base_uri": "https://localhost:8080/",
          "height": 454
        },
        "id": "xxTPob7Eyfzu",
        "outputId": "c0e9e10c-8faf-41c0-b9bc-343985b27d43"
      },
      "outputs": [
        {
          "data": {
            "text/html": [
              "<div>\n",
              "<style scoped>\n",
              "    .dataframe tbody tr th:only-of-type {\n",
              "        vertical-align: middle;\n",
              "    }\n",
              "\n",
              "    .dataframe tbody tr th {\n",
              "        vertical-align: top;\n",
              "    }\n",
              "\n",
              "    .dataframe thead th {\n",
              "        text-align: right;\n",
              "    }\n",
              "</style>\n",
              "<table border=\"1\" class=\"dataframe\">\n",
              "  <thead>\n",
              "    <tr style=\"text-align: right;\">\n",
              "      <th></th>\n",
              "      <th>id</th>\n",
              "      <th>full_sq</th>\n",
              "      <th>life_sq</th>\n",
              "      <th>floor</th>\n",
              "      <th>max_floor</th>\n",
              "      <th>material</th>\n",
              "      <th>build_year</th>\n",
              "      <th>num_room</th>\n",
              "      <th>kitch_sq</th>\n",
              "      <th>state</th>\n",
              "      <th>area_m</th>\n",
              "      <th>raion_popul</th>\n",
              "      <th>green_zone_part</th>\n",
              "      <th>indust_part</th>\n",
              "      <th>children_preschool</th>\n",
              "      <th>preschool_quota</th>\n",
              "      <th>preschool_education_centers_raion</th>\n",
              "      <th>children_school</th>\n",
              "      <th>school_quota</th>\n",
              "      <th>school_education_centers_raion</th>\n",
              "      <th>school_education_centers_top_20_raion</th>\n",
              "      <th>hospital_beds_raion</th>\n",
              "      <th>healthcare_centers_raion</th>\n",
              "      <th>university_top_20_raion</th>\n",
              "      <th>sport_objects_raion</th>\n",
              "      <th>additional_education_raion</th>\n",
              "      <th>culture_objects_top_25_raion</th>\n",
              "      <th>shopping_centers_raion</th>\n",
              "      <th>office_raion</th>\n",
              "      <th>full_all</th>\n",
              "      <th>male_f</th>\n",
              "      <th>female_f</th>\n",
              "      <th>young_all</th>\n",
              "      <th>young_male</th>\n",
              "      <th>young_female</th>\n",
              "      <th>work_all</th>\n",
              "      <th>work_male</th>\n",
              "      <th>work_female</th>\n",
              "      <th>ekder_all</th>\n",
              "      <th>ekder_male</th>\n",
              "      <th>...</th>\n",
              "      <th>sub_area_Veshnjaki</th>\n",
              "      <th>sub_area_Vnukovo</th>\n",
              "      <th>sub_area_Vojkovskoe</th>\n",
              "      <th>sub_area_Vostochnoe</th>\n",
              "      <th>sub_area_Vostochnoe Degunino</th>\n",
              "      <th>sub_area_Vostochnoe Izmajlovo</th>\n",
              "      <th>sub_area_Vyhino-Zhulebino</th>\n",
              "      <th>sub_area_Zamoskvorech'e</th>\n",
              "      <th>sub_area_Zapadnoe Degunino</th>\n",
              "      <th>sub_area_Zjablikovo</th>\n",
              "      <th>sub_area_Zjuzino</th>\n",
              "      <th>culture_objects_top_25_no</th>\n",
              "      <th>culture_objects_top_25_yes</th>\n",
              "      <th>thermal_power_plant_raion_no</th>\n",
              "      <th>thermal_power_plant_raion_yes</th>\n",
              "      <th>incineration_raion_no</th>\n",
              "      <th>incineration_raion_yes</th>\n",
              "      <th>oil_chemistry_raion_no</th>\n",
              "      <th>oil_chemistry_raion_yes</th>\n",
              "      <th>radiation_raion_no</th>\n",
              "      <th>radiation_raion_yes</th>\n",
              "      <th>railroad_terminal_raion_no</th>\n",
              "      <th>railroad_terminal_raion_yes</th>\n",
              "      <th>big_market_raion_no</th>\n",
              "      <th>big_market_raion_yes</th>\n",
              "      <th>nuclear_reactor_raion_no</th>\n",
              "      <th>nuclear_reactor_raion_yes</th>\n",
              "      <th>detention_facility_raion_no</th>\n",
              "      <th>detention_facility_raion_yes</th>\n",
              "      <th>water_1line_no</th>\n",
              "      <th>water_1line_yes</th>\n",
              "      <th>big_road1_1line_no</th>\n",
              "      <th>big_road1_1line_yes</th>\n",
              "      <th>railroad_1line_no</th>\n",
              "      <th>railroad_1line_yes</th>\n",
              "      <th>ecology_excellent</th>\n",
              "      <th>ecology_good</th>\n",
              "      <th>ecology_no data</th>\n",
              "      <th>ecology_poor</th>\n",
              "      <th>ecology_satisfactory</th>\n",
              "    </tr>\n",
              "  </thead>\n",
              "  <tbody>\n",
              "    <tr>\n",
              "      <th>0</th>\n",
              "      <td>0</td>\n",
              "      <td>1</td>\n",
              "      <td>1.0</td>\n",
              "      <td>1.0</td>\n",
              "      <td>1.0</td>\n",
              "      <td>1.0</td>\n",
              "      <td>1.0</td>\n",
              "      <td>1.0</td>\n",
              "      <td>1.0</td>\n",
              "      <td>1.0</td>\n",
              "      <td>5.293465e+06</td>\n",
              "      <td>77878</td>\n",
              "      <td>0.023464</td>\n",
              "      <td>0.195781</td>\n",
              "      <td>4713</td>\n",
              "      <td>2279.0</td>\n",
              "      <td>4</td>\n",
              "      <td>5212</td>\n",
              "      <td>10027.0</td>\n",
              "      <td>8</td>\n",
              "      <td>1</td>\n",
              "      <td>2729.0</td>\n",
              "      <td>3</td>\n",
              "      <td>0</td>\n",
              "      <td>2</td>\n",
              "      <td>2</td>\n",
              "      <td>0</td>\n",
              "      <td>2</td>\n",
              "      <td>6</td>\n",
              "      <td>115352</td>\n",
              "      <td>52813</td>\n",
              "      <td>62539</td>\n",
              "      <td>10600</td>\n",
              "      <td>5422</td>\n",
              "      <td>5178</td>\n",
              "      <td>49882</td>\n",
              "      <td>24603</td>\n",
              "      <td>25279</td>\n",
              "      <td>17396</td>\n",
              "      <td>5130</td>\n",
              "      <td>...</td>\n",
              "      <td>0</td>\n",
              "      <td>0</td>\n",
              "      <td>0</td>\n",
              "      <td>0</td>\n",
              "      <td>0</td>\n",
              "      <td>0</td>\n",
              "      <td>0</td>\n",
              "      <td>0</td>\n",
              "      <td>0</td>\n",
              "      <td>0</td>\n",
              "      <td>0</td>\n",
              "      <td>1</td>\n",
              "      <td>0</td>\n",
              "      <td>1</td>\n",
              "      <td>0</td>\n",
              "      <td>1</td>\n",
              "      <td>0</td>\n",
              "      <td>1</td>\n",
              "      <td>0</td>\n",
              "      <td>1</td>\n",
              "      <td>0</td>\n",
              "      <td>1</td>\n",
              "      <td>0</td>\n",
              "      <td>1</td>\n",
              "      <td>0</td>\n",
              "      <td>1</td>\n",
              "      <td>0</td>\n",
              "      <td>1</td>\n",
              "      <td>0</td>\n",
              "      <td>1</td>\n",
              "      <td>0</td>\n",
              "      <td>1</td>\n",
              "      <td>0</td>\n",
              "      <td>1</td>\n",
              "      <td>0</td>\n",
              "      <td>0</td>\n",
              "      <td>0</td>\n",
              "      <td>0</td>\n",
              "      <td>1</td>\n",
              "      <td>0</td>\n",
              "    </tr>\n",
              "    <tr>\n",
              "      <th>1</th>\n",
              "      <td>1</td>\n",
              "      <td>64</td>\n",
              "      <td>64.0</td>\n",
              "      <td>16.0</td>\n",
              "      <td>16.0</td>\n",
              "      <td>1.0</td>\n",
              "      <td>2014.0</td>\n",
              "      <td>2.0</td>\n",
              "      <td>1.0</td>\n",
              "      <td>1.0</td>\n",
              "      <td>6.677245e+07</td>\n",
              "      <td>9553</td>\n",
              "      <td>0.336177</td>\n",
              "      <td>0.072158</td>\n",
              "      <td>656</td>\n",
              "      <td>1065.0</td>\n",
              "      <td>0</td>\n",
              "      <td>629</td>\n",
              "      <td>3068.0</td>\n",
              "      <td>0</td>\n",
              "      <td>0</td>\n",
              "      <td>540.0</td>\n",
              "      <td>0</td>\n",
              "      <td>0</td>\n",
              "      <td>1</td>\n",
              "      <td>0</td>\n",
              "      <td>0</td>\n",
              "      <td>0</td>\n",
              "      <td>1</td>\n",
              "      <td>13890</td>\n",
              "      <td>6584</td>\n",
              "      <td>7307</td>\n",
              "      <td>1370</td>\n",
              "      <td>709</td>\n",
              "      <td>661</td>\n",
              "      <td>6127</td>\n",
              "      <td>3237</td>\n",
              "      <td>2890</td>\n",
              "      <td>2056</td>\n",
              "      <td>583</td>\n",
              "      <td>...</td>\n",
              "      <td>0</td>\n",
              "      <td>0</td>\n",
              "      <td>0</td>\n",
              "      <td>0</td>\n",
              "      <td>0</td>\n",
              "      <td>0</td>\n",
              "      <td>0</td>\n",
              "      <td>0</td>\n",
              "      <td>0</td>\n",
              "      <td>0</td>\n",
              "      <td>0</td>\n",
              "      <td>1</td>\n",
              "      <td>0</td>\n",
              "      <td>1</td>\n",
              "      <td>0</td>\n",
              "      <td>1</td>\n",
              "      <td>0</td>\n",
              "      <td>1</td>\n",
              "      <td>0</td>\n",
              "      <td>1</td>\n",
              "      <td>0</td>\n",
              "      <td>1</td>\n",
              "      <td>0</td>\n",
              "      <td>0</td>\n",
              "      <td>1</td>\n",
              "      <td>1</td>\n",
              "      <td>0</td>\n",
              "      <td>1</td>\n",
              "      <td>0</td>\n",
              "      <td>1</td>\n",
              "      <td>0</td>\n",
              "      <td>1</td>\n",
              "      <td>0</td>\n",
              "      <td>1</td>\n",
              "      <td>0</td>\n",
              "      <td>0</td>\n",
              "      <td>0</td>\n",
              "      <td>1</td>\n",
              "      <td>0</td>\n",
              "      <td>0</td>\n",
              "    </tr>\n",
              "    <tr>\n",
              "      <th>2</th>\n",
              "      <td>2</td>\n",
              "      <td>83</td>\n",
              "      <td>44.0</td>\n",
              "      <td>9.0</td>\n",
              "      <td>17.0</td>\n",
              "      <td>1.0</td>\n",
              "      <td>1985.0</td>\n",
              "      <td>3.0</td>\n",
              "      <td>10.0</td>\n",
              "      <td>3.0</td>\n",
              "      <td>1.216448e+07</td>\n",
              "      <td>78507</td>\n",
              "      <td>0.297166</td>\n",
              "      <td>0.000000</td>\n",
              "      <td>4611</td>\n",
              "      <td>3092.0</td>\n",
              "      <td>7</td>\n",
              "      <td>5067</td>\n",
              "      <td>7478.0</td>\n",
              "      <td>7</td>\n",
              "      <td>0</td>\n",
              "      <td>125.0</td>\n",
              "      <td>2</td>\n",
              "      <td>0</td>\n",
              "      <td>14</td>\n",
              "      <td>1</td>\n",
              "      <td>0</td>\n",
              "      <td>6</td>\n",
              "      <td>4</td>\n",
              "      <td>67710</td>\n",
              "      <td>33382</td>\n",
              "      <td>34328</td>\n",
              "      <td>10175</td>\n",
              "      <td>5105</td>\n",
              "      <td>5070</td>\n",
              "      <td>48620</td>\n",
              "      <td>25579</td>\n",
              "      <td>23041</td>\n",
              "      <td>19712</td>\n",
              "      <td>6368</td>\n",
              "      <td>...</td>\n",
              "      <td>0</td>\n",
              "      <td>0</td>\n",
              "      <td>0</td>\n",
              "      <td>0</td>\n",
              "      <td>0</td>\n",
              "      <td>0</td>\n",
              "      <td>0</td>\n",
              "      <td>0</td>\n",
              "      <td>0</td>\n",
              "      <td>0</td>\n",
              "      <td>0</td>\n",
              "      <td>1</td>\n",
              "      <td>0</td>\n",
              "      <td>1</td>\n",
              "      <td>0</td>\n",
              "      <td>1</td>\n",
              "      <td>0</td>\n",
              "      <td>1</td>\n",
              "      <td>0</td>\n",
              "      <td>1</td>\n",
              "      <td>0</td>\n",
              "      <td>1</td>\n",
              "      <td>0</td>\n",
              "      <td>1</td>\n",
              "      <td>0</td>\n",
              "      <td>1</td>\n",
              "      <td>0</td>\n",
              "      <td>0</td>\n",
              "      <td>1</td>\n",
              "      <td>1</td>\n",
              "      <td>0</td>\n",
              "      <td>1</td>\n",
              "      <td>0</td>\n",
              "      <td>1</td>\n",
              "      <td>0</td>\n",
              "      <td>0</td>\n",
              "      <td>1</td>\n",
              "      <td>0</td>\n",
              "      <td>0</td>\n",
              "      <td>0</td>\n",
              "    </tr>\n",
              "    <tr>\n",
              "      <th>3</th>\n",
              "      <td>3</td>\n",
              "      <td>71</td>\n",
              "      <td>49.0</td>\n",
              "      <td>2.0</td>\n",
              "      <td>13.0</td>\n",
              "      <td>1.0</td>\n",
              "      <td>2003.0</td>\n",
              "      <td>3.0</td>\n",
              "      <td>12.0</td>\n",
              "      <td>3.0</td>\n",
              "      <td>4.708040e+06</td>\n",
              "      <td>38075</td>\n",
              "      <td>0.271702</td>\n",
              "      <td>0.310199</td>\n",
              "      <td>2448</td>\n",
              "      <td>2080.0</td>\n",
              "      <td>3</td>\n",
              "      <td>2748</td>\n",
              "      <td>3885.0</td>\n",
              "      <td>4</td>\n",
              "      <td>0</td>\n",
              "      <td>1815.0</td>\n",
              "      <td>0</td>\n",
              "      <td>0</td>\n",
              "      <td>0</td>\n",
              "      <td>0</td>\n",
              "      <td>0</td>\n",
              "      <td>0</td>\n",
              "      <td>1</td>\n",
              "      <td>85219</td>\n",
              "      <td>39138</td>\n",
              "      <td>46081</td>\n",
              "      <td>5572</td>\n",
              "      <td>2978</td>\n",
              "      <td>2594</td>\n",
              "      <td>22413</td>\n",
              "      <td>11273</td>\n",
              "      <td>11140</td>\n",
              "      <td>10090</td>\n",
              "      <td>2911</td>\n",
              "      <td>...</td>\n",
              "      <td>0</td>\n",
              "      <td>0</td>\n",
              "      <td>0</td>\n",
              "      <td>0</td>\n",
              "      <td>0</td>\n",
              "      <td>0</td>\n",
              "      <td>0</td>\n",
              "      <td>0</td>\n",
              "      <td>0</td>\n",
              "      <td>0</td>\n",
              "      <td>0</td>\n",
              "      <td>1</td>\n",
              "      <td>0</td>\n",
              "      <td>1</td>\n",
              "      <td>0</td>\n",
              "      <td>1</td>\n",
              "      <td>0</td>\n",
              "      <td>1</td>\n",
              "      <td>0</td>\n",
              "      <td>1</td>\n",
              "      <td>0</td>\n",
              "      <td>1</td>\n",
              "      <td>0</td>\n",
              "      <td>1</td>\n",
              "      <td>0</td>\n",
              "      <td>1</td>\n",
              "      <td>0</td>\n",
              "      <td>1</td>\n",
              "      <td>0</td>\n",
              "      <td>1</td>\n",
              "      <td>0</td>\n",
              "      <td>1</td>\n",
              "      <td>0</td>\n",
              "      <td>1</td>\n",
              "      <td>0</td>\n",
              "      <td>0</td>\n",
              "      <td>0</td>\n",
              "      <td>1</td>\n",
              "      <td>0</td>\n",
              "      <td>0</td>\n",
              "    </tr>\n",
              "    <tr>\n",
              "      <th>4</th>\n",
              "      <td>4</td>\n",
              "      <td>60</td>\n",
              "      <td>42.0</td>\n",
              "      <td>9.0</td>\n",
              "      <td>9.0</td>\n",
              "      <td>1.0</td>\n",
              "      <td>1970.0</td>\n",
              "      <td>3.0</td>\n",
              "      <td>6.0</td>\n",
              "      <td>2.0</td>\n",
              "      <td>1.428699e+07</td>\n",
              "      <td>157010</td>\n",
              "      <td>0.389354</td>\n",
              "      <td>0.194489</td>\n",
              "      <td>7751</td>\n",
              "      <td>5041.0</td>\n",
              "      <td>6</td>\n",
              "      <td>8004</td>\n",
              "      <td>11081.0</td>\n",
              "      <td>7</td>\n",
              "      <td>0</td>\n",
              "      <td>125.0</td>\n",
              "      <td>3</td>\n",
              "      <td>0</td>\n",
              "      <td>5</td>\n",
              "      <td>3</td>\n",
              "      <td>0</td>\n",
              "      <td>5</td>\n",
              "      <td>3</td>\n",
              "      <td>12327</td>\n",
              "      <td>5588</td>\n",
              "      <td>6739</td>\n",
              "      <td>16831</td>\n",
              "      <td>8637</td>\n",
              "      <td>8194</td>\n",
              "      <td>98260</td>\n",
              "      <td>47405</td>\n",
              "      <td>50855</td>\n",
              "      <td>41919</td>\n",
              "      <td>12424</td>\n",
              "      <td>...</td>\n",
              "      <td>0</td>\n",
              "      <td>0</td>\n",
              "      <td>0</td>\n",
              "      <td>0</td>\n",
              "      <td>0</td>\n",
              "      <td>0</td>\n",
              "      <td>0</td>\n",
              "      <td>0</td>\n",
              "      <td>0</td>\n",
              "      <td>0</td>\n",
              "      <td>0</td>\n",
              "      <td>1</td>\n",
              "      <td>0</td>\n",
              "      <td>1</td>\n",
              "      <td>0</td>\n",
              "      <td>1</td>\n",
              "      <td>0</td>\n",
              "      <td>1</td>\n",
              "      <td>0</td>\n",
              "      <td>0</td>\n",
              "      <td>1</td>\n",
              "      <td>1</td>\n",
              "      <td>0</td>\n",
              "      <td>1</td>\n",
              "      <td>0</td>\n",
              "      <td>1</td>\n",
              "      <td>0</td>\n",
              "      <td>1</td>\n",
              "      <td>0</td>\n",
              "      <td>0</td>\n",
              "      <td>1</td>\n",
              "      <td>1</td>\n",
              "      <td>0</td>\n",
              "      <td>1</td>\n",
              "      <td>0</td>\n",
              "      <td>0</td>\n",
              "      <td>1</td>\n",
              "      <td>0</td>\n",
              "      <td>0</td>\n",
              "      <td>0</td>\n",
              "    </tr>\n",
              "    <tr>\n",
              "      <th>...</th>\n",
              "      <td>...</td>\n",
              "      <td>...</td>\n",
              "      <td>...</td>\n",
              "      <td>...</td>\n",
              "      <td>...</td>\n",
              "      <td>...</td>\n",
              "      <td>...</td>\n",
              "      <td>...</td>\n",
              "      <td>...</td>\n",
              "      <td>...</td>\n",
              "      <td>...</td>\n",
              "      <td>...</td>\n",
              "      <td>...</td>\n",
              "      <td>...</td>\n",
              "      <td>...</td>\n",
              "      <td>...</td>\n",
              "      <td>...</td>\n",
              "      <td>...</td>\n",
              "      <td>...</td>\n",
              "      <td>...</td>\n",
              "      <td>...</td>\n",
              "      <td>...</td>\n",
              "      <td>...</td>\n",
              "      <td>...</td>\n",
              "      <td>...</td>\n",
              "      <td>...</td>\n",
              "      <td>...</td>\n",
              "      <td>...</td>\n",
              "      <td>...</td>\n",
              "      <td>...</td>\n",
              "      <td>...</td>\n",
              "      <td>...</td>\n",
              "      <td>...</td>\n",
              "      <td>...</td>\n",
              "      <td>...</td>\n",
              "      <td>...</td>\n",
              "      <td>...</td>\n",
              "      <td>...</td>\n",
              "      <td>...</td>\n",
              "      <td>...</td>\n",
              "      <td>...</td>\n",
              "      <td>...</td>\n",
              "      <td>...</td>\n",
              "      <td>...</td>\n",
              "      <td>...</td>\n",
              "      <td>...</td>\n",
              "      <td>...</td>\n",
              "      <td>...</td>\n",
              "      <td>...</td>\n",
              "      <td>...</td>\n",
              "      <td>...</td>\n",
              "      <td>...</td>\n",
              "      <td>...</td>\n",
              "      <td>...</td>\n",
              "      <td>...</td>\n",
              "      <td>...</td>\n",
              "      <td>...</td>\n",
              "      <td>...</td>\n",
              "      <td>...</td>\n",
              "      <td>...</td>\n",
              "      <td>...</td>\n",
              "      <td>...</td>\n",
              "      <td>...</td>\n",
              "      <td>...</td>\n",
              "      <td>...</td>\n",
              "      <td>...</td>\n",
              "      <td>...</td>\n",
              "      <td>...</td>\n",
              "      <td>...</td>\n",
              "      <td>...</td>\n",
              "      <td>...</td>\n",
              "      <td>...</td>\n",
              "      <td>...</td>\n",
              "      <td>...</td>\n",
              "      <td>...</td>\n",
              "      <td>...</td>\n",
              "      <td>...</td>\n",
              "      <td>...</td>\n",
              "      <td>...</td>\n",
              "      <td>...</td>\n",
              "      <td>...</td>\n",
              "    </tr>\n",
              "    <tr>\n",
              "      <th>19995</th>\n",
              "      <td>19995</td>\n",
              "      <td>45</td>\n",
              "      <td>27.0</td>\n",
              "      <td>2.0</td>\n",
              "      <td>9.0</td>\n",
              "      <td>1.0</td>\n",
              "      <td>1978.0</td>\n",
              "      <td>2.0</td>\n",
              "      <td>5.0</td>\n",
              "      <td>2.0</td>\n",
              "      <td>2.481385e+07</td>\n",
              "      <td>174831</td>\n",
              "      <td>0.683844</td>\n",
              "      <td>0.037178</td>\n",
              "      <td>10712</td>\n",
              "      <td>4172.0</td>\n",
              "      <td>7</td>\n",
              "      <td>11217</td>\n",
              "      <td>10559.0</td>\n",
              "      <td>7</td>\n",
              "      <td>0</td>\n",
              "      <td>2300.0</td>\n",
              "      <td>1</td>\n",
              "      <td>0</td>\n",
              "      <td>7</td>\n",
              "      <td>7</td>\n",
              "      <td>0</td>\n",
              "      <td>7</td>\n",
              "      <td>1</td>\n",
              "      <td>178264</td>\n",
              "      <td>82799</td>\n",
              "      <td>95465</td>\n",
              "      <td>23483</td>\n",
              "      <td>12083</td>\n",
              "      <td>11400</td>\n",
              "      <td>105171</td>\n",
              "      <td>52848</td>\n",
              "      <td>52323</td>\n",
              "      <td>46177</td>\n",
              "      <td>14748</td>\n",
              "      <td>...</td>\n",
              "      <td>0</td>\n",
              "      <td>0</td>\n",
              "      <td>0</td>\n",
              "      <td>0</td>\n",
              "      <td>0</td>\n",
              "      <td>0</td>\n",
              "      <td>0</td>\n",
              "      <td>0</td>\n",
              "      <td>0</td>\n",
              "      <td>0</td>\n",
              "      <td>0</td>\n",
              "      <td>1</td>\n",
              "      <td>0</td>\n",
              "      <td>1</td>\n",
              "      <td>0</td>\n",
              "      <td>1</td>\n",
              "      <td>0</td>\n",
              "      <td>1</td>\n",
              "      <td>0</td>\n",
              "      <td>0</td>\n",
              "      <td>1</td>\n",
              "      <td>1</td>\n",
              "      <td>0</td>\n",
              "      <td>1</td>\n",
              "      <td>0</td>\n",
              "      <td>1</td>\n",
              "      <td>0</td>\n",
              "      <td>1</td>\n",
              "      <td>0</td>\n",
              "      <td>0</td>\n",
              "      <td>1</td>\n",
              "      <td>1</td>\n",
              "      <td>0</td>\n",
              "      <td>1</td>\n",
              "      <td>0</td>\n",
              "      <td>0</td>\n",
              "      <td>1</td>\n",
              "      <td>0</td>\n",
              "      <td>0</td>\n",
              "      <td>0</td>\n",
              "    </tr>\n",
              "    <tr>\n",
              "      <th>19996</th>\n",
              "      <td>19996</td>\n",
              "      <td>38</td>\n",
              "      <td>38.0</td>\n",
              "      <td>4.0</td>\n",
              "      <td>17.0</td>\n",
              "      <td>1.0</td>\n",
              "      <td>2014.0</td>\n",
              "      <td>2.0</td>\n",
              "      <td>1.0</td>\n",
              "      <td>1.0</td>\n",
              "      <td>6.677245e+07</td>\n",
              "      <td>9553</td>\n",
              "      <td>0.336177</td>\n",
              "      <td>0.072158</td>\n",
              "      <td>656</td>\n",
              "      <td>1065.0</td>\n",
              "      <td>0</td>\n",
              "      <td>629</td>\n",
              "      <td>2367.0</td>\n",
              "      <td>0</td>\n",
              "      <td>0</td>\n",
              "      <td>350.0</td>\n",
              "      <td>0</td>\n",
              "      <td>0</td>\n",
              "      <td>1</td>\n",
              "      <td>0</td>\n",
              "      <td>0</td>\n",
              "      <td>0</td>\n",
              "      <td>1</td>\n",
              "      <td>13890</td>\n",
              "      <td>6584</td>\n",
              "      <td>7307</td>\n",
              "      <td>1370</td>\n",
              "      <td>709</td>\n",
              "      <td>661</td>\n",
              "      <td>6127</td>\n",
              "      <td>3237</td>\n",
              "      <td>2890</td>\n",
              "      <td>2056</td>\n",
              "      <td>583</td>\n",
              "      <td>...</td>\n",
              "      <td>0</td>\n",
              "      <td>0</td>\n",
              "      <td>0</td>\n",
              "      <td>0</td>\n",
              "      <td>0</td>\n",
              "      <td>0</td>\n",
              "      <td>0</td>\n",
              "      <td>0</td>\n",
              "      <td>0</td>\n",
              "      <td>0</td>\n",
              "      <td>0</td>\n",
              "      <td>1</td>\n",
              "      <td>0</td>\n",
              "      <td>1</td>\n",
              "      <td>0</td>\n",
              "      <td>1</td>\n",
              "      <td>0</td>\n",
              "      <td>1</td>\n",
              "      <td>0</td>\n",
              "      <td>1</td>\n",
              "      <td>0</td>\n",
              "      <td>1</td>\n",
              "      <td>0</td>\n",
              "      <td>0</td>\n",
              "      <td>1</td>\n",
              "      <td>1</td>\n",
              "      <td>0</td>\n",
              "      <td>1</td>\n",
              "      <td>0</td>\n",
              "      <td>1</td>\n",
              "      <td>0</td>\n",
              "      <td>1</td>\n",
              "      <td>0</td>\n",
              "      <td>1</td>\n",
              "      <td>0</td>\n",
              "      <td>0</td>\n",
              "      <td>0</td>\n",
              "      <td>1</td>\n",
              "      <td>0</td>\n",
              "      <td>0</td>\n",
              "    </tr>\n",
              "    <tr>\n",
              "      <th>19997</th>\n",
              "      <td>19997</td>\n",
              "      <td>35</td>\n",
              "      <td>14.0</td>\n",
              "      <td>9.0</td>\n",
              "      <td>22.0</td>\n",
              "      <td>1.0</td>\n",
              "      <td>2001.0</td>\n",
              "      <td>1.0</td>\n",
              "      <td>10.0</td>\n",
              "      <td>2.0</td>\n",
              "      <td>1.004686e+07</td>\n",
              "      <td>76156</td>\n",
              "      <td>0.071056</td>\n",
              "      <td>0.246032</td>\n",
              "      <td>3816</td>\n",
              "      <td>3150.0</td>\n",
              "      <td>5</td>\n",
              "      <td>3151</td>\n",
              "      <td>5519.0</td>\n",
              "      <td>5</td>\n",
              "      <td>0</td>\n",
              "      <td>2715.0</td>\n",
              "      <td>3</td>\n",
              "      <td>1</td>\n",
              "      <td>7</td>\n",
              "      <td>6</td>\n",
              "      <td>0</td>\n",
              "      <td>3</td>\n",
              "      <td>4</td>\n",
              "      <td>130229</td>\n",
              "      <td>60619</td>\n",
              "      <td>69610</td>\n",
              "      <td>7296</td>\n",
              "      <td>3649</td>\n",
              "      <td>3647</td>\n",
              "      <td>52450</td>\n",
              "      <td>26354</td>\n",
              "      <td>26096</td>\n",
              "      <td>16410</td>\n",
              "      <td>4819</td>\n",
              "      <td>...</td>\n",
              "      <td>0</td>\n",
              "      <td>0</td>\n",
              "      <td>0</td>\n",
              "      <td>0</td>\n",
              "      <td>0</td>\n",
              "      <td>0</td>\n",
              "      <td>0</td>\n",
              "      <td>0</td>\n",
              "      <td>0</td>\n",
              "      <td>0</td>\n",
              "      <td>0</td>\n",
              "      <td>1</td>\n",
              "      <td>0</td>\n",
              "      <td>1</td>\n",
              "      <td>0</td>\n",
              "      <td>1</td>\n",
              "      <td>0</td>\n",
              "      <td>1</td>\n",
              "      <td>0</td>\n",
              "      <td>0</td>\n",
              "      <td>1</td>\n",
              "      <td>1</td>\n",
              "      <td>0</td>\n",
              "      <td>1</td>\n",
              "      <td>0</td>\n",
              "      <td>0</td>\n",
              "      <td>1</td>\n",
              "      <td>1</td>\n",
              "      <td>0</td>\n",
              "      <td>1</td>\n",
              "      <td>0</td>\n",
              "      <td>1</td>\n",
              "      <td>0</td>\n",
              "      <td>1</td>\n",
              "      <td>0</td>\n",
              "      <td>1</td>\n",
              "      <td>0</td>\n",
              "      <td>0</td>\n",
              "      <td>0</td>\n",
              "      <td>0</td>\n",
              "    </tr>\n",
              "    <tr>\n",
              "      <th>19998</th>\n",
              "      <td>19998</td>\n",
              "      <td>51</td>\n",
              "      <td>30.0</td>\n",
              "      <td>8.0</td>\n",
              "      <td>17.0</td>\n",
              "      <td>1.0</td>\n",
              "      <td>2011.0</td>\n",
              "      <td>2.0</td>\n",
              "      <td>9.0</td>\n",
              "      <td>2.0</td>\n",
              "      <td>4.036700e+07</td>\n",
              "      <td>21819</td>\n",
              "      <td>0.492840</td>\n",
              "      <td>0.075779</td>\n",
              "      <td>1497</td>\n",
              "      <td>1427.0</td>\n",
              "      <td>0</td>\n",
              "      <td>1437</td>\n",
              "      <td>1924.0</td>\n",
              "      <td>0</td>\n",
              "      <td>0</td>\n",
              "      <td>800.0</td>\n",
              "      <td>0</td>\n",
              "      <td>0</td>\n",
              "      <td>3</td>\n",
              "      <td>3</td>\n",
              "      <td>0</td>\n",
              "      <td>2</td>\n",
              "      <td>3</td>\n",
              "      <td>7341</td>\n",
              "      <td>3445</td>\n",
              "      <td>3898</td>\n",
              "      <td>3128</td>\n",
              "      <td>1618</td>\n",
              "      <td>1510</td>\n",
              "      <td>13996</td>\n",
              "      <td>7394</td>\n",
              "      <td>6602</td>\n",
              "      <td>4695</td>\n",
              "      <td>1331</td>\n",
              "      <td>...</td>\n",
              "      <td>0</td>\n",
              "      <td>0</td>\n",
              "      <td>0</td>\n",
              "      <td>0</td>\n",
              "      <td>0</td>\n",
              "      <td>0</td>\n",
              "      <td>0</td>\n",
              "      <td>0</td>\n",
              "      <td>0</td>\n",
              "      <td>0</td>\n",
              "      <td>0</td>\n",
              "      <td>1</td>\n",
              "      <td>0</td>\n",
              "      <td>1</td>\n",
              "      <td>0</td>\n",
              "      <td>1</td>\n",
              "      <td>0</td>\n",
              "      <td>1</td>\n",
              "      <td>0</td>\n",
              "      <td>1</td>\n",
              "      <td>0</td>\n",
              "      <td>1</td>\n",
              "      <td>0</td>\n",
              "      <td>1</td>\n",
              "      <td>0</td>\n",
              "      <td>1</td>\n",
              "      <td>0</td>\n",
              "      <td>1</td>\n",
              "      <td>0</td>\n",
              "      <td>1</td>\n",
              "      <td>0</td>\n",
              "      <td>1</td>\n",
              "      <td>0</td>\n",
              "      <td>1</td>\n",
              "      <td>0</td>\n",
              "      <td>0</td>\n",
              "      <td>0</td>\n",
              "      <td>1</td>\n",
              "      <td>0</td>\n",
              "      <td>0</td>\n",
              "    </tr>\n",
              "    <tr>\n",
              "      <th>19999</th>\n",
              "      <td>19999</td>\n",
              "      <td>54</td>\n",
              "      <td>32.0</td>\n",
              "      <td>9.0</td>\n",
              "      <td>12.0</td>\n",
              "      <td>1.0</td>\n",
              "      <td>1975.0</td>\n",
              "      <td>2.0</td>\n",
              "      <td>7.0</td>\n",
              "      <td>2.0</td>\n",
              "      <td>7.811375e+06</td>\n",
              "      <td>153248</td>\n",
              "      <td>0.127002</td>\n",
              "      <td>0.135650</td>\n",
              "      <td>7517</td>\n",
              "      <td>2627.0</td>\n",
              "      <td>5</td>\n",
              "      <td>7960</td>\n",
              "      <td>9650.0</td>\n",
              "      <td>5</td>\n",
              "      <td>0</td>\n",
              "      <td>350.0</td>\n",
              "      <td>3</td>\n",
              "      <td>0</td>\n",
              "      <td>11</td>\n",
              "      <td>3</td>\n",
              "      <td>0</td>\n",
              "      <td>11</td>\n",
              "      <td>6</td>\n",
              "      <td>123000</td>\n",
              "      <td>58226</td>\n",
              "      <td>64774</td>\n",
              "      <td>16468</td>\n",
              "      <td>8851</td>\n",
              "      <td>7617</td>\n",
              "      <td>100062</td>\n",
              "      <td>55456</td>\n",
              "      <td>44606</td>\n",
              "      <td>36718</td>\n",
              "      <td>11958</td>\n",
              "      <td>...</td>\n",
              "      <td>0</td>\n",
              "      <td>0</td>\n",
              "      <td>0</td>\n",
              "      <td>0</td>\n",
              "      <td>0</td>\n",
              "      <td>0</td>\n",
              "      <td>0</td>\n",
              "      <td>0</td>\n",
              "      <td>0</td>\n",
              "      <td>0</td>\n",
              "      <td>0</td>\n",
              "      <td>1</td>\n",
              "      <td>0</td>\n",
              "      <td>1</td>\n",
              "      <td>0</td>\n",
              "      <td>1</td>\n",
              "      <td>0</td>\n",
              "      <td>1</td>\n",
              "      <td>0</td>\n",
              "      <td>0</td>\n",
              "      <td>1</td>\n",
              "      <td>1</td>\n",
              "      <td>0</td>\n",
              "      <td>1</td>\n",
              "      <td>0</td>\n",
              "      <td>1</td>\n",
              "      <td>0</td>\n",
              "      <td>1</td>\n",
              "      <td>0</td>\n",
              "      <td>1</td>\n",
              "      <td>0</td>\n",
              "      <td>1</td>\n",
              "      <td>0</td>\n",
              "      <td>1</td>\n",
              "      <td>0</td>\n",
              "      <td>0</td>\n",
              "      <td>0</td>\n",
              "      <td>0</td>\n",
              "      <td>0</td>\n",
              "      <td>1</td>\n",
              "    </tr>\n",
              "  </tbody>\n",
              "</table>\n",
              "<p>20000 rows × 453 columns</p>\n",
              "</div>"
            ],
            "text/plain": [
              "          id  full_sq  ...  ecology_poor  ecology_satisfactory\n",
              "0          0        1  ...             1                     0\n",
              "1          1       64  ...             0                     0\n",
              "2          2       83  ...             0                     0\n",
              "3          3       71  ...             0                     0\n",
              "4          4       60  ...             0                     0\n",
              "...      ...      ...  ...           ...                   ...\n",
              "19995  19995       45  ...             0                     0\n",
              "19996  19996       38  ...             0                     0\n",
              "19997  19997       35  ...             0                     0\n",
              "19998  19998       51  ...             0                     0\n",
              "19999  19999       54  ...             0                     1\n",
              "\n",
              "[20000 rows x 453 columns]"
            ]
          },
          "execution_count": 22,
          "metadata": {},
          "output_type": "execute_result"
        }
      ],
      "source": [
        "completed_dataset"
      ]
    },
    {
      "cell_type": "code",
      "execution_count": null,
      "metadata": {
        "colab": {
          "base_uri": "https://localhost:8080/",
          "height": 454
        },
        "id": "5IEeHN3xyh74",
        "outputId": "63bf5730-c91b-4222-ad28-27ee8f20e170"
      },
      "outputs": [
        {
          "data": {
            "text/html": [
              "<div>\n",
              "<style scoped>\n",
              "    .dataframe tbody tr th:only-of-type {\n",
              "        vertical-align: middle;\n",
              "    }\n",
              "\n",
              "    .dataframe tbody tr th {\n",
              "        vertical-align: top;\n",
              "    }\n",
              "\n",
              "    .dataframe thead th {\n",
              "        text-align: right;\n",
              "    }\n",
              "</style>\n",
              "<table border=\"1\" class=\"dataframe\">\n",
              "  <thead>\n",
              "    <tr style=\"text-align: right;\">\n",
              "      <th></th>\n",
              "      <th>id</th>\n",
              "      <th>full_sq</th>\n",
              "      <th>life_sq</th>\n",
              "      <th>floor</th>\n",
              "      <th>max_floor</th>\n",
              "      <th>material</th>\n",
              "      <th>build_year</th>\n",
              "      <th>num_room</th>\n",
              "      <th>kitch_sq</th>\n",
              "      <th>state</th>\n",
              "      <th>area_m</th>\n",
              "      <th>raion_popul</th>\n",
              "      <th>green_zone_part</th>\n",
              "      <th>indust_part</th>\n",
              "      <th>children_preschool</th>\n",
              "      <th>preschool_quota</th>\n",
              "      <th>preschool_education_centers_raion</th>\n",
              "      <th>children_school</th>\n",
              "      <th>school_quota</th>\n",
              "      <th>school_education_centers_raion</th>\n",
              "      <th>school_education_centers_top_20_raion</th>\n",
              "      <th>hospital_beds_raion</th>\n",
              "      <th>healthcare_centers_raion</th>\n",
              "      <th>university_top_20_raion</th>\n",
              "      <th>sport_objects_raion</th>\n",
              "      <th>additional_education_raion</th>\n",
              "      <th>culture_objects_top_25_raion</th>\n",
              "      <th>shopping_centers_raion</th>\n",
              "      <th>office_raion</th>\n",
              "      <th>full_all</th>\n",
              "      <th>male_f</th>\n",
              "      <th>female_f</th>\n",
              "      <th>young_all</th>\n",
              "      <th>young_male</th>\n",
              "      <th>young_female</th>\n",
              "      <th>work_all</th>\n",
              "      <th>work_male</th>\n",
              "      <th>work_female</th>\n",
              "      <th>ekder_all</th>\n",
              "      <th>ekder_male</th>\n",
              "      <th>...</th>\n",
              "      <th>sub_area_Veshnjaki</th>\n",
              "      <th>sub_area_Vnukovo</th>\n",
              "      <th>sub_area_Vojkovskoe</th>\n",
              "      <th>sub_area_Vostochnoe</th>\n",
              "      <th>sub_area_Vostochnoe Degunino</th>\n",
              "      <th>sub_area_Vostochnoe Izmajlovo</th>\n",
              "      <th>sub_area_Vyhino-Zhulebino</th>\n",
              "      <th>sub_area_Zamoskvorech'e</th>\n",
              "      <th>sub_area_Zapadnoe Degunino</th>\n",
              "      <th>sub_area_Zjablikovo</th>\n",
              "      <th>sub_area_Zjuzino</th>\n",
              "      <th>culture_objects_top_25_no</th>\n",
              "      <th>culture_objects_top_25_yes</th>\n",
              "      <th>thermal_power_plant_raion_no</th>\n",
              "      <th>thermal_power_plant_raion_yes</th>\n",
              "      <th>incineration_raion_no</th>\n",
              "      <th>incineration_raion_yes</th>\n",
              "      <th>oil_chemistry_raion_no</th>\n",
              "      <th>oil_chemistry_raion_yes</th>\n",
              "      <th>radiation_raion_no</th>\n",
              "      <th>radiation_raion_yes</th>\n",
              "      <th>railroad_terminal_raion_no</th>\n",
              "      <th>railroad_terminal_raion_yes</th>\n",
              "      <th>big_market_raion_no</th>\n",
              "      <th>big_market_raion_yes</th>\n",
              "      <th>nuclear_reactor_raion_no</th>\n",
              "      <th>nuclear_reactor_raion_yes</th>\n",
              "      <th>detention_facility_raion_no</th>\n",
              "      <th>detention_facility_raion_yes</th>\n",
              "      <th>water_1line_no</th>\n",
              "      <th>water_1line_yes</th>\n",
              "      <th>big_road1_1line_no</th>\n",
              "      <th>big_road1_1line_yes</th>\n",
              "      <th>railroad_1line_no</th>\n",
              "      <th>railroad_1line_yes</th>\n",
              "      <th>ecology_excellent</th>\n",
              "      <th>ecology_good</th>\n",
              "      <th>ecology_no data</th>\n",
              "      <th>ecology_poor</th>\n",
              "      <th>ecology_satisfactory</th>\n",
              "    </tr>\n",
              "  </thead>\n",
              "  <tbody>\n",
              "    <tr>\n",
              "      <th>0</th>\n",
              "      <td>0</td>\n",
              "      <td>1</td>\n",
              "      <td>1.0</td>\n",
              "      <td>1.0</td>\n",
              "      <td>1.0</td>\n",
              "      <td>1.0</td>\n",
              "      <td>1.0</td>\n",
              "      <td>1.0</td>\n",
              "      <td>1.0</td>\n",
              "      <td>1.0</td>\n",
              "      <td>5.293465e+06</td>\n",
              "      <td>77878</td>\n",
              "      <td>0.023464</td>\n",
              "      <td>0.195781</td>\n",
              "      <td>4713</td>\n",
              "      <td>2279.0</td>\n",
              "      <td>4</td>\n",
              "      <td>5212</td>\n",
              "      <td>10027.0</td>\n",
              "      <td>8</td>\n",
              "      <td>1</td>\n",
              "      <td>NaN</td>\n",
              "      <td>3</td>\n",
              "      <td>0</td>\n",
              "      <td>2</td>\n",
              "      <td>2</td>\n",
              "      <td>0</td>\n",
              "      <td>2</td>\n",
              "      <td>6</td>\n",
              "      <td>115352</td>\n",
              "      <td>52813</td>\n",
              "      <td>62539</td>\n",
              "      <td>10600</td>\n",
              "      <td>5422</td>\n",
              "      <td>5178</td>\n",
              "      <td>49882</td>\n",
              "      <td>24603</td>\n",
              "      <td>25279</td>\n",
              "      <td>17396</td>\n",
              "      <td>5130</td>\n",
              "      <td>...</td>\n",
              "      <td>0</td>\n",
              "      <td>0</td>\n",
              "      <td>0</td>\n",
              "      <td>0</td>\n",
              "      <td>0</td>\n",
              "      <td>0</td>\n",
              "      <td>0</td>\n",
              "      <td>0</td>\n",
              "      <td>0</td>\n",
              "      <td>0</td>\n",
              "      <td>0</td>\n",
              "      <td>1</td>\n",
              "      <td>0</td>\n",
              "      <td>1</td>\n",
              "      <td>0</td>\n",
              "      <td>1</td>\n",
              "      <td>0</td>\n",
              "      <td>1</td>\n",
              "      <td>0</td>\n",
              "      <td>1</td>\n",
              "      <td>0</td>\n",
              "      <td>1</td>\n",
              "      <td>0</td>\n",
              "      <td>1</td>\n",
              "      <td>0</td>\n",
              "      <td>1</td>\n",
              "      <td>0</td>\n",
              "      <td>1</td>\n",
              "      <td>0</td>\n",
              "      <td>1</td>\n",
              "      <td>0</td>\n",
              "      <td>1</td>\n",
              "      <td>0</td>\n",
              "      <td>1</td>\n",
              "      <td>0</td>\n",
              "      <td>0</td>\n",
              "      <td>0</td>\n",
              "      <td>0</td>\n",
              "      <td>1</td>\n",
              "      <td>0</td>\n",
              "    </tr>\n",
              "    <tr>\n",
              "      <th>1</th>\n",
              "      <td>1</td>\n",
              "      <td>64</td>\n",
              "      <td>64.0</td>\n",
              "      <td>16.0</td>\n",
              "      <td>NaN</td>\n",
              "      <td>NaN</td>\n",
              "      <td>NaN</td>\n",
              "      <td>NaN</td>\n",
              "      <td>NaN</td>\n",
              "      <td>NaN</td>\n",
              "      <td>6.677245e+07</td>\n",
              "      <td>9553</td>\n",
              "      <td>0.336177</td>\n",
              "      <td>0.072158</td>\n",
              "      <td>656</td>\n",
              "      <td>NaN</td>\n",
              "      <td>0</td>\n",
              "      <td>629</td>\n",
              "      <td>NaN</td>\n",
              "      <td>0</td>\n",
              "      <td>0</td>\n",
              "      <td>NaN</td>\n",
              "      <td>0</td>\n",
              "      <td>0</td>\n",
              "      <td>1</td>\n",
              "      <td>0</td>\n",
              "      <td>0</td>\n",
              "      <td>0</td>\n",
              "      <td>1</td>\n",
              "      <td>13890</td>\n",
              "      <td>6584</td>\n",
              "      <td>7307</td>\n",
              "      <td>1370</td>\n",
              "      <td>709</td>\n",
              "      <td>661</td>\n",
              "      <td>6127</td>\n",
              "      <td>3237</td>\n",
              "      <td>2890</td>\n",
              "      <td>2056</td>\n",
              "      <td>583</td>\n",
              "      <td>...</td>\n",
              "      <td>0</td>\n",
              "      <td>0</td>\n",
              "      <td>0</td>\n",
              "      <td>0</td>\n",
              "      <td>0</td>\n",
              "      <td>0</td>\n",
              "      <td>0</td>\n",
              "      <td>0</td>\n",
              "      <td>0</td>\n",
              "      <td>0</td>\n",
              "      <td>0</td>\n",
              "      <td>1</td>\n",
              "      <td>0</td>\n",
              "      <td>1</td>\n",
              "      <td>0</td>\n",
              "      <td>1</td>\n",
              "      <td>0</td>\n",
              "      <td>1</td>\n",
              "      <td>0</td>\n",
              "      <td>1</td>\n",
              "      <td>0</td>\n",
              "      <td>1</td>\n",
              "      <td>0</td>\n",
              "      <td>0</td>\n",
              "      <td>1</td>\n",
              "      <td>1</td>\n",
              "      <td>0</td>\n",
              "      <td>1</td>\n",
              "      <td>0</td>\n",
              "      <td>1</td>\n",
              "      <td>0</td>\n",
              "      <td>1</td>\n",
              "      <td>0</td>\n",
              "      <td>1</td>\n",
              "      <td>0</td>\n",
              "      <td>0</td>\n",
              "      <td>0</td>\n",
              "      <td>1</td>\n",
              "      <td>0</td>\n",
              "      <td>0</td>\n",
              "    </tr>\n",
              "    <tr>\n",
              "      <th>2</th>\n",
              "      <td>2</td>\n",
              "      <td>83</td>\n",
              "      <td>44.0</td>\n",
              "      <td>9.0</td>\n",
              "      <td>17.0</td>\n",
              "      <td>1.0</td>\n",
              "      <td>1985.0</td>\n",
              "      <td>3.0</td>\n",
              "      <td>10.0</td>\n",
              "      <td>3.0</td>\n",
              "      <td>1.216448e+07</td>\n",
              "      <td>78507</td>\n",
              "      <td>0.297166</td>\n",
              "      <td>0.000000</td>\n",
              "      <td>4611</td>\n",
              "      <td>3092.0</td>\n",
              "      <td>7</td>\n",
              "      <td>5067</td>\n",
              "      <td>7478.0</td>\n",
              "      <td>7</td>\n",
              "      <td>0</td>\n",
              "      <td>NaN</td>\n",
              "      <td>2</td>\n",
              "      <td>0</td>\n",
              "      <td>14</td>\n",
              "      <td>1</td>\n",
              "      <td>0</td>\n",
              "      <td>6</td>\n",
              "      <td>4</td>\n",
              "      <td>67710</td>\n",
              "      <td>33382</td>\n",
              "      <td>34328</td>\n",
              "      <td>10175</td>\n",
              "      <td>5105</td>\n",
              "      <td>5070</td>\n",
              "      <td>48620</td>\n",
              "      <td>25579</td>\n",
              "      <td>23041</td>\n",
              "      <td>19712</td>\n",
              "      <td>6368</td>\n",
              "      <td>...</td>\n",
              "      <td>0</td>\n",
              "      <td>0</td>\n",
              "      <td>0</td>\n",
              "      <td>0</td>\n",
              "      <td>0</td>\n",
              "      <td>0</td>\n",
              "      <td>0</td>\n",
              "      <td>0</td>\n",
              "      <td>0</td>\n",
              "      <td>0</td>\n",
              "      <td>0</td>\n",
              "      <td>1</td>\n",
              "      <td>0</td>\n",
              "      <td>1</td>\n",
              "      <td>0</td>\n",
              "      <td>1</td>\n",
              "      <td>0</td>\n",
              "      <td>1</td>\n",
              "      <td>0</td>\n",
              "      <td>1</td>\n",
              "      <td>0</td>\n",
              "      <td>1</td>\n",
              "      <td>0</td>\n",
              "      <td>1</td>\n",
              "      <td>0</td>\n",
              "      <td>1</td>\n",
              "      <td>0</td>\n",
              "      <td>0</td>\n",
              "      <td>1</td>\n",
              "      <td>1</td>\n",
              "      <td>0</td>\n",
              "      <td>1</td>\n",
              "      <td>0</td>\n",
              "      <td>1</td>\n",
              "      <td>0</td>\n",
              "      <td>0</td>\n",
              "      <td>1</td>\n",
              "      <td>0</td>\n",
              "      <td>0</td>\n",
              "      <td>0</td>\n",
              "    </tr>\n",
              "    <tr>\n",
              "      <th>3</th>\n",
              "      <td>3</td>\n",
              "      <td>71</td>\n",
              "      <td>49.0</td>\n",
              "      <td>2.0</td>\n",
              "      <td>NaN</td>\n",
              "      <td>NaN</td>\n",
              "      <td>NaN</td>\n",
              "      <td>NaN</td>\n",
              "      <td>NaN</td>\n",
              "      <td>NaN</td>\n",
              "      <td>4.708040e+06</td>\n",
              "      <td>38075</td>\n",
              "      <td>0.271702</td>\n",
              "      <td>0.310199</td>\n",
              "      <td>2448</td>\n",
              "      <td>2080.0</td>\n",
              "      <td>3</td>\n",
              "      <td>2748</td>\n",
              "      <td>3885.0</td>\n",
              "      <td>4</td>\n",
              "      <td>0</td>\n",
              "      <td>NaN</td>\n",
              "      <td>0</td>\n",
              "      <td>0</td>\n",
              "      <td>0</td>\n",
              "      <td>0</td>\n",
              "      <td>0</td>\n",
              "      <td>0</td>\n",
              "      <td>1</td>\n",
              "      <td>85219</td>\n",
              "      <td>39138</td>\n",
              "      <td>46081</td>\n",
              "      <td>5572</td>\n",
              "      <td>2978</td>\n",
              "      <td>2594</td>\n",
              "      <td>22413</td>\n",
              "      <td>11273</td>\n",
              "      <td>11140</td>\n",
              "      <td>10090</td>\n",
              "      <td>2911</td>\n",
              "      <td>...</td>\n",
              "      <td>0</td>\n",
              "      <td>0</td>\n",
              "      <td>0</td>\n",
              "      <td>0</td>\n",
              "      <td>0</td>\n",
              "      <td>0</td>\n",
              "      <td>0</td>\n",
              "      <td>0</td>\n",
              "      <td>0</td>\n",
              "      <td>0</td>\n",
              "      <td>0</td>\n",
              "      <td>1</td>\n",
              "      <td>0</td>\n",
              "      <td>1</td>\n",
              "      <td>0</td>\n",
              "      <td>1</td>\n",
              "      <td>0</td>\n",
              "      <td>1</td>\n",
              "      <td>0</td>\n",
              "      <td>1</td>\n",
              "      <td>0</td>\n",
              "      <td>1</td>\n",
              "      <td>0</td>\n",
              "      <td>1</td>\n",
              "      <td>0</td>\n",
              "      <td>1</td>\n",
              "      <td>0</td>\n",
              "      <td>1</td>\n",
              "      <td>0</td>\n",
              "      <td>1</td>\n",
              "      <td>0</td>\n",
              "      <td>1</td>\n",
              "      <td>0</td>\n",
              "      <td>1</td>\n",
              "      <td>0</td>\n",
              "      <td>0</td>\n",
              "      <td>0</td>\n",
              "      <td>1</td>\n",
              "      <td>0</td>\n",
              "      <td>0</td>\n",
              "    </tr>\n",
              "    <tr>\n",
              "      <th>4</th>\n",
              "      <td>4</td>\n",
              "      <td>60</td>\n",
              "      <td>42.0</td>\n",
              "      <td>9.0</td>\n",
              "      <td>9.0</td>\n",
              "      <td>1.0</td>\n",
              "      <td>1970.0</td>\n",
              "      <td>3.0</td>\n",
              "      <td>6.0</td>\n",
              "      <td>2.0</td>\n",
              "      <td>1.428699e+07</td>\n",
              "      <td>157010</td>\n",
              "      <td>0.389354</td>\n",
              "      <td>0.194489</td>\n",
              "      <td>7751</td>\n",
              "      <td>5041.0</td>\n",
              "      <td>6</td>\n",
              "      <td>8004</td>\n",
              "      <td>11081.0</td>\n",
              "      <td>7</td>\n",
              "      <td>0</td>\n",
              "      <td>125.0</td>\n",
              "      <td>3</td>\n",
              "      <td>0</td>\n",
              "      <td>5</td>\n",
              "      <td>3</td>\n",
              "      <td>0</td>\n",
              "      <td>5</td>\n",
              "      <td>3</td>\n",
              "      <td>12327</td>\n",
              "      <td>5588</td>\n",
              "      <td>6739</td>\n",
              "      <td>16831</td>\n",
              "      <td>8637</td>\n",
              "      <td>8194</td>\n",
              "      <td>98260</td>\n",
              "      <td>47405</td>\n",
              "      <td>50855</td>\n",
              "      <td>41919</td>\n",
              "      <td>12424</td>\n",
              "      <td>...</td>\n",
              "      <td>0</td>\n",
              "      <td>0</td>\n",
              "      <td>0</td>\n",
              "      <td>0</td>\n",
              "      <td>0</td>\n",
              "      <td>0</td>\n",
              "      <td>0</td>\n",
              "      <td>0</td>\n",
              "      <td>0</td>\n",
              "      <td>0</td>\n",
              "      <td>0</td>\n",
              "      <td>1</td>\n",
              "      <td>0</td>\n",
              "      <td>1</td>\n",
              "      <td>0</td>\n",
              "      <td>1</td>\n",
              "      <td>0</td>\n",
              "      <td>1</td>\n",
              "      <td>0</td>\n",
              "      <td>0</td>\n",
              "      <td>1</td>\n",
              "      <td>1</td>\n",
              "      <td>0</td>\n",
              "      <td>1</td>\n",
              "      <td>0</td>\n",
              "      <td>1</td>\n",
              "      <td>0</td>\n",
              "      <td>1</td>\n",
              "      <td>0</td>\n",
              "      <td>0</td>\n",
              "      <td>1</td>\n",
              "      <td>1</td>\n",
              "      <td>0</td>\n",
              "      <td>1</td>\n",
              "      <td>0</td>\n",
              "      <td>0</td>\n",
              "      <td>1</td>\n",
              "      <td>0</td>\n",
              "      <td>0</td>\n",
              "      <td>0</td>\n",
              "    </tr>\n",
              "    <tr>\n",
              "      <th>...</th>\n",
              "      <td>...</td>\n",
              "      <td>...</td>\n",
              "      <td>...</td>\n",
              "      <td>...</td>\n",
              "      <td>...</td>\n",
              "      <td>...</td>\n",
              "      <td>...</td>\n",
              "      <td>...</td>\n",
              "      <td>...</td>\n",
              "      <td>...</td>\n",
              "      <td>...</td>\n",
              "      <td>...</td>\n",
              "      <td>...</td>\n",
              "      <td>...</td>\n",
              "      <td>...</td>\n",
              "      <td>...</td>\n",
              "      <td>...</td>\n",
              "      <td>...</td>\n",
              "      <td>...</td>\n",
              "      <td>...</td>\n",
              "      <td>...</td>\n",
              "      <td>...</td>\n",
              "      <td>...</td>\n",
              "      <td>...</td>\n",
              "      <td>...</td>\n",
              "      <td>...</td>\n",
              "      <td>...</td>\n",
              "      <td>...</td>\n",
              "      <td>...</td>\n",
              "      <td>...</td>\n",
              "      <td>...</td>\n",
              "      <td>...</td>\n",
              "      <td>...</td>\n",
              "      <td>...</td>\n",
              "      <td>...</td>\n",
              "      <td>...</td>\n",
              "      <td>...</td>\n",
              "      <td>...</td>\n",
              "      <td>...</td>\n",
              "      <td>...</td>\n",
              "      <td>...</td>\n",
              "      <td>...</td>\n",
              "      <td>...</td>\n",
              "      <td>...</td>\n",
              "      <td>...</td>\n",
              "      <td>...</td>\n",
              "      <td>...</td>\n",
              "      <td>...</td>\n",
              "      <td>...</td>\n",
              "      <td>...</td>\n",
              "      <td>...</td>\n",
              "      <td>...</td>\n",
              "      <td>...</td>\n",
              "      <td>...</td>\n",
              "      <td>...</td>\n",
              "      <td>...</td>\n",
              "      <td>...</td>\n",
              "      <td>...</td>\n",
              "      <td>...</td>\n",
              "      <td>...</td>\n",
              "      <td>...</td>\n",
              "      <td>...</td>\n",
              "      <td>...</td>\n",
              "      <td>...</td>\n",
              "      <td>...</td>\n",
              "      <td>...</td>\n",
              "      <td>...</td>\n",
              "      <td>...</td>\n",
              "      <td>...</td>\n",
              "      <td>...</td>\n",
              "      <td>...</td>\n",
              "      <td>...</td>\n",
              "      <td>...</td>\n",
              "      <td>...</td>\n",
              "      <td>...</td>\n",
              "      <td>...</td>\n",
              "      <td>...</td>\n",
              "      <td>...</td>\n",
              "      <td>...</td>\n",
              "      <td>...</td>\n",
              "      <td>...</td>\n",
              "    </tr>\n",
              "    <tr>\n",
              "      <th>19995</th>\n",
              "      <td>19995</td>\n",
              "      <td>45</td>\n",
              "      <td>27.0</td>\n",
              "      <td>2.0</td>\n",
              "      <td>9.0</td>\n",
              "      <td>1.0</td>\n",
              "      <td>1978.0</td>\n",
              "      <td>2.0</td>\n",
              "      <td>5.0</td>\n",
              "      <td>2.0</td>\n",
              "      <td>2.481385e+07</td>\n",
              "      <td>174831</td>\n",
              "      <td>0.683844</td>\n",
              "      <td>0.037178</td>\n",
              "      <td>10712</td>\n",
              "      <td>4172.0</td>\n",
              "      <td>7</td>\n",
              "      <td>11217</td>\n",
              "      <td>10559.0</td>\n",
              "      <td>7</td>\n",
              "      <td>0</td>\n",
              "      <td>2300.0</td>\n",
              "      <td>1</td>\n",
              "      <td>0</td>\n",
              "      <td>7</td>\n",
              "      <td>7</td>\n",
              "      <td>0</td>\n",
              "      <td>7</td>\n",
              "      <td>1</td>\n",
              "      <td>178264</td>\n",
              "      <td>82799</td>\n",
              "      <td>95465</td>\n",
              "      <td>23483</td>\n",
              "      <td>12083</td>\n",
              "      <td>11400</td>\n",
              "      <td>105171</td>\n",
              "      <td>52848</td>\n",
              "      <td>52323</td>\n",
              "      <td>46177</td>\n",
              "      <td>14748</td>\n",
              "      <td>...</td>\n",
              "      <td>0</td>\n",
              "      <td>0</td>\n",
              "      <td>0</td>\n",
              "      <td>0</td>\n",
              "      <td>0</td>\n",
              "      <td>0</td>\n",
              "      <td>0</td>\n",
              "      <td>0</td>\n",
              "      <td>0</td>\n",
              "      <td>0</td>\n",
              "      <td>0</td>\n",
              "      <td>1</td>\n",
              "      <td>0</td>\n",
              "      <td>1</td>\n",
              "      <td>0</td>\n",
              "      <td>1</td>\n",
              "      <td>0</td>\n",
              "      <td>1</td>\n",
              "      <td>0</td>\n",
              "      <td>0</td>\n",
              "      <td>1</td>\n",
              "      <td>1</td>\n",
              "      <td>0</td>\n",
              "      <td>1</td>\n",
              "      <td>0</td>\n",
              "      <td>1</td>\n",
              "      <td>0</td>\n",
              "      <td>1</td>\n",
              "      <td>0</td>\n",
              "      <td>0</td>\n",
              "      <td>1</td>\n",
              "      <td>1</td>\n",
              "      <td>0</td>\n",
              "      <td>1</td>\n",
              "      <td>0</td>\n",
              "      <td>0</td>\n",
              "      <td>1</td>\n",
              "      <td>0</td>\n",
              "      <td>0</td>\n",
              "      <td>0</td>\n",
              "    </tr>\n",
              "    <tr>\n",
              "      <th>19996</th>\n",
              "      <td>19996</td>\n",
              "      <td>38</td>\n",
              "      <td>NaN</td>\n",
              "      <td>4.0</td>\n",
              "      <td>17.0</td>\n",
              "      <td>1.0</td>\n",
              "      <td>NaN</td>\n",
              "      <td>2.0</td>\n",
              "      <td>1.0</td>\n",
              "      <td>1.0</td>\n",
              "      <td>6.677245e+07</td>\n",
              "      <td>9553</td>\n",
              "      <td>0.336177</td>\n",
              "      <td>0.072158</td>\n",
              "      <td>656</td>\n",
              "      <td>NaN</td>\n",
              "      <td>0</td>\n",
              "      <td>629</td>\n",
              "      <td>NaN</td>\n",
              "      <td>0</td>\n",
              "      <td>0</td>\n",
              "      <td>NaN</td>\n",
              "      <td>0</td>\n",
              "      <td>0</td>\n",
              "      <td>1</td>\n",
              "      <td>0</td>\n",
              "      <td>0</td>\n",
              "      <td>0</td>\n",
              "      <td>1</td>\n",
              "      <td>13890</td>\n",
              "      <td>6584</td>\n",
              "      <td>7307</td>\n",
              "      <td>1370</td>\n",
              "      <td>709</td>\n",
              "      <td>661</td>\n",
              "      <td>6127</td>\n",
              "      <td>3237</td>\n",
              "      <td>2890</td>\n",
              "      <td>2056</td>\n",
              "      <td>583</td>\n",
              "      <td>...</td>\n",
              "      <td>0</td>\n",
              "      <td>0</td>\n",
              "      <td>0</td>\n",
              "      <td>0</td>\n",
              "      <td>0</td>\n",
              "      <td>0</td>\n",
              "      <td>0</td>\n",
              "      <td>0</td>\n",
              "      <td>0</td>\n",
              "      <td>0</td>\n",
              "      <td>0</td>\n",
              "      <td>1</td>\n",
              "      <td>0</td>\n",
              "      <td>1</td>\n",
              "      <td>0</td>\n",
              "      <td>1</td>\n",
              "      <td>0</td>\n",
              "      <td>1</td>\n",
              "      <td>0</td>\n",
              "      <td>1</td>\n",
              "      <td>0</td>\n",
              "      <td>1</td>\n",
              "      <td>0</td>\n",
              "      <td>0</td>\n",
              "      <td>1</td>\n",
              "      <td>1</td>\n",
              "      <td>0</td>\n",
              "      <td>1</td>\n",
              "      <td>0</td>\n",
              "      <td>1</td>\n",
              "      <td>0</td>\n",
              "      <td>1</td>\n",
              "      <td>0</td>\n",
              "      <td>1</td>\n",
              "      <td>0</td>\n",
              "      <td>0</td>\n",
              "      <td>0</td>\n",
              "      <td>1</td>\n",
              "      <td>0</td>\n",
              "      <td>0</td>\n",
              "    </tr>\n",
              "    <tr>\n",
              "      <th>19997</th>\n",
              "      <td>19997</td>\n",
              "      <td>35</td>\n",
              "      <td>14.0</td>\n",
              "      <td>9.0</td>\n",
              "      <td>22.0</td>\n",
              "      <td>1.0</td>\n",
              "      <td>2001.0</td>\n",
              "      <td>1.0</td>\n",
              "      <td>10.0</td>\n",
              "      <td>2.0</td>\n",
              "      <td>1.004686e+07</td>\n",
              "      <td>76156</td>\n",
              "      <td>0.071056</td>\n",
              "      <td>0.246032</td>\n",
              "      <td>3816</td>\n",
              "      <td>3150.0</td>\n",
              "      <td>5</td>\n",
              "      <td>3151</td>\n",
              "      <td>5519.0</td>\n",
              "      <td>5</td>\n",
              "      <td>0</td>\n",
              "      <td>2715.0</td>\n",
              "      <td>3</td>\n",
              "      <td>1</td>\n",
              "      <td>7</td>\n",
              "      <td>6</td>\n",
              "      <td>0</td>\n",
              "      <td>3</td>\n",
              "      <td>4</td>\n",
              "      <td>130229</td>\n",
              "      <td>60619</td>\n",
              "      <td>69610</td>\n",
              "      <td>7296</td>\n",
              "      <td>3649</td>\n",
              "      <td>3647</td>\n",
              "      <td>52450</td>\n",
              "      <td>26354</td>\n",
              "      <td>26096</td>\n",
              "      <td>16410</td>\n",
              "      <td>4819</td>\n",
              "      <td>...</td>\n",
              "      <td>0</td>\n",
              "      <td>0</td>\n",
              "      <td>0</td>\n",
              "      <td>0</td>\n",
              "      <td>0</td>\n",
              "      <td>0</td>\n",
              "      <td>0</td>\n",
              "      <td>0</td>\n",
              "      <td>0</td>\n",
              "      <td>0</td>\n",
              "      <td>0</td>\n",
              "      <td>1</td>\n",
              "      <td>0</td>\n",
              "      <td>1</td>\n",
              "      <td>0</td>\n",
              "      <td>1</td>\n",
              "      <td>0</td>\n",
              "      <td>1</td>\n",
              "      <td>0</td>\n",
              "      <td>0</td>\n",
              "      <td>1</td>\n",
              "      <td>1</td>\n",
              "      <td>0</td>\n",
              "      <td>1</td>\n",
              "      <td>0</td>\n",
              "      <td>0</td>\n",
              "      <td>1</td>\n",
              "      <td>1</td>\n",
              "      <td>0</td>\n",
              "      <td>1</td>\n",
              "      <td>0</td>\n",
              "      <td>1</td>\n",
              "      <td>0</td>\n",
              "      <td>1</td>\n",
              "      <td>0</td>\n",
              "      <td>1</td>\n",
              "      <td>0</td>\n",
              "      <td>0</td>\n",
              "      <td>0</td>\n",
              "      <td>0</td>\n",
              "    </tr>\n",
              "    <tr>\n",
              "      <th>19998</th>\n",
              "      <td>19998</td>\n",
              "      <td>51</td>\n",
              "      <td>30.0</td>\n",
              "      <td>8.0</td>\n",
              "      <td>17.0</td>\n",
              "      <td>1.0</td>\n",
              "      <td>2011.0</td>\n",
              "      <td>2.0</td>\n",
              "      <td>9.0</td>\n",
              "      <td>NaN</td>\n",
              "      <td>4.036700e+07</td>\n",
              "      <td>21819</td>\n",
              "      <td>0.492840</td>\n",
              "      <td>0.075779</td>\n",
              "      <td>1497</td>\n",
              "      <td>NaN</td>\n",
              "      <td>0</td>\n",
              "      <td>1437</td>\n",
              "      <td>NaN</td>\n",
              "      <td>0</td>\n",
              "      <td>0</td>\n",
              "      <td>NaN</td>\n",
              "      <td>0</td>\n",
              "      <td>0</td>\n",
              "      <td>3</td>\n",
              "      <td>3</td>\n",
              "      <td>0</td>\n",
              "      <td>2</td>\n",
              "      <td>3</td>\n",
              "      <td>7341</td>\n",
              "      <td>3445</td>\n",
              "      <td>3898</td>\n",
              "      <td>3128</td>\n",
              "      <td>1618</td>\n",
              "      <td>1510</td>\n",
              "      <td>13996</td>\n",
              "      <td>7394</td>\n",
              "      <td>6602</td>\n",
              "      <td>4695</td>\n",
              "      <td>1331</td>\n",
              "      <td>...</td>\n",
              "      <td>0</td>\n",
              "      <td>0</td>\n",
              "      <td>0</td>\n",
              "      <td>0</td>\n",
              "      <td>0</td>\n",
              "      <td>0</td>\n",
              "      <td>0</td>\n",
              "      <td>0</td>\n",
              "      <td>0</td>\n",
              "      <td>0</td>\n",
              "      <td>0</td>\n",
              "      <td>1</td>\n",
              "      <td>0</td>\n",
              "      <td>1</td>\n",
              "      <td>0</td>\n",
              "      <td>1</td>\n",
              "      <td>0</td>\n",
              "      <td>1</td>\n",
              "      <td>0</td>\n",
              "      <td>1</td>\n",
              "      <td>0</td>\n",
              "      <td>1</td>\n",
              "      <td>0</td>\n",
              "      <td>1</td>\n",
              "      <td>0</td>\n",
              "      <td>1</td>\n",
              "      <td>0</td>\n",
              "      <td>1</td>\n",
              "      <td>0</td>\n",
              "      <td>1</td>\n",
              "      <td>0</td>\n",
              "      <td>1</td>\n",
              "      <td>0</td>\n",
              "      <td>1</td>\n",
              "      <td>0</td>\n",
              "      <td>0</td>\n",
              "      <td>0</td>\n",
              "      <td>1</td>\n",
              "      <td>0</td>\n",
              "      <td>0</td>\n",
              "    </tr>\n",
              "    <tr>\n",
              "      <th>19999</th>\n",
              "      <td>19999</td>\n",
              "      <td>54</td>\n",
              "      <td>32.0</td>\n",
              "      <td>9.0</td>\n",
              "      <td>NaN</td>\n",
              "      <td>NaN</td>\n",
              "      <td>NaN</td>\n",
              "      <td>NaN</td>\n",
              "      <td>NaN</td>\n",
              "      <td>NaN</td>\n",
              "      <td>7.811375e+06</td>\n",
              "      <td>153248</td>\n",
              "      <td>0.127002</td>\n",
              "      <td>0.135650</td>\n",
              "      <td>7517</td>\n",
              "      <td>2627.0</td>\n",
              "      <td>5</td>\n",
              "      <td>7960</td>\n",
              "      <td>9650.0</td>\n",
              "      <td>5</td>\n",
              "      <td>0</td>\n",
              "      <td>350.0</td>\n",
              "      <td>3</td>\n",
              "      <td>0</td>\n",
              "      <td>11</td>\n",
              "      <td>3</td>\n",
              "      <td>0</td>\n",
              "      <td>11</td>\n",
              "      <td>6</td>\n",
              "      <td>123000</td>\n",
              "      <td>58226</td>\n",
              "      <td>64774</td>\n",
              "      <td>16468</td>\n",
              "      <td>8851</td>\n",
              "      <td>7617</td>\n",
              "      <td>100062</td>\n",
              "      <td>55456</td>\n",
              "      <td>44606</td>\n",
              "      <td>36718</td>\n",
              "      <td>11958</td>\n",
              "      <td>...</td>\n",
              "      <td>0</td>\n",
              "      <td>0</td>\n",
              "      <td>0</td>\n",
              "      <td>0</td>\n",
              "      <td>0</td>\n",
              "      <td>0</td>\n",
              "      <td>0</td>\n",
              "      <td>0</td>\n",
              "      <td>0</td>\n",
              "      <td>0</td>\n",
              "      <td>0</td>\n",
              "      <td>1</td>\n",
              "      <td>0</td>\n",
              "      <td>1</td>\n",
              "      <td>0</td>\n",
              "      <td>1</td>\n",
              "      <td>0</td>\n",
              "      <td>1</td>\n",
              "      <td>0</td>\n",
              "      <td>0</td>\n",
              "      <td>1</td>\n",
              "      <td>1</td>\n",
              "      <td>0</td>\n",
              "      <td>1</td>\n",
              "      <td>0</td>\n",
              "      <td>1</td>\n",
              "      <td>0</td>\n",
              "      <td>1</td>\n",
              "      <td>0</td>\n",
              "      <td>1</td>\n",
              "      <td>0</td>\n",
              "      <td>1</td>\n",
              "      <td>0</td>\n",
              "      <td>1</td>\n",
              "      <td>0</td>\n",
              "      <td>0</td>\n",
              "      <td>0</td>\n",
              "      <td>0</td>\n",
              "      <td>0</td>\n",
              "      <td>1</td>\n",
              "    </tr>\n",
              "  </tbody>\n",
              "</table>\n",
              "<p>20000 rows × 453 columns</p>\n",
              "</div>"
            ],
            "text/plain": [
              "          id  full_sq  ...  ecology_poor  ecology_satisfactory\n",
              "0          0        1  ...             1                     0\n",
              "1          1       64  ...             0                     0\n",
              "2          2       83  ...             0                     0\n",
              "3          3       71  ...             0                     0\n",
              "4          4       60  ...             0                     0\n",
              "...      ...      ...  ...           ...                   ...\n",
              "19995  19995       45  ...             0                     0\n",
              "19996  19996       38  ...             0                     0\n",
              "19997  19997       35  ...             0                     0\n",
              "19998  19998       51  ...             0                     0\n",
              "19999  19999       54  ...             0                     1\n",
              "\n",
              "[20000 rows x 453 columns]"
            ]
          },
          "execution_count": 23,
          "metadata": {},
          "output_type": "execute_result"
        }
      ],
      "source": [
        "df"
      ]
    },
    {
      "cell_type": "code",
      "execution_count": null,
      "metadata": {
        "colab": {
          "base_uri": "https://localhost:8080/",
          "height": 454
        },
        "id": "WQzu01w-0HIC",
        "outputId": "bd4c8beb-9081-4197-f6db-5d65edb60de9"
      },
      "outputs": [
        {
          "output_type": "execute_result",
          "data": {
            "text/html": [
              "<div>\n",
              "<style scoped>\n",
              "    .dataframe tbody tr th:only-of-type {\n",
              "        vertical-align: middle;\n",
              "    }\n",
              "\n",
              "    .dataframe tbody tr th {\n",
              "        vertical-align: top;\n",
              "    }\n",
              "\n",
              "    .dataframe thead th {\n",
              "        text-align: right;\n",
              "    }\n",
              "</style>\n",
              "<table border=\"1\" class=\"dataframe\">\n",
              "  <thead>\n",
              "    <tr style=\"text-align: right;\">\n",
              "      <th></th>\n",
              "      <th>id</th>\n",
              "      <th>full_sq</th>\n",
              "      <th>life_sq</th>\n",
              "      <th>floor</th>\n",
              "      <th>max_floor</th>\n",
              "      <th>material</th>\n",
              "      <th>build_year</th>\n",
              "      <th>num_room</th>\n",
              "      <th>kitch_sq</th>\n",
              "      <th>state</th>\n",
              "      <th>area_m</th>\n",
              "      <th>raion_popul</th>\n",
              "      <th>green_zone_part</th>\n",
              "      <th>indust_part</th>\n",
              "      <th>children_preschool</th>\n",
              "      <th>preschool_quota</th>\n",
              "      <th>preschool_education_centers_raion</th>\n",
              "      <th>children_school</th>\n",
              "      <th>school_quota</th>\n",
              "      <th>school_education_centers_raion</th>\n",
              "      <th>school_education_centers_top_20_raion</th>\n",
              "      <th>hospital_beds_raion</th>\n",
              "      <th>healthcare_centers_raion</th>\n",
              "      <th>university_top_20_raion</th>\n",
              "      <th>sport_objects_raion</th>\n",
              "      <th>additional_education_raion</th>\n",
              "      <th>culture_objects_top_25_raion</th>\n",
              "      <th>shopping_centers_raion</th>\n",
              "      <th>office_raion</th>\n",
              "      <th>full_all</th>\n",
              "      <th>male_f</th>\n",
              "      <th>female_f</th>\n",
              "      <th>young_all</th>\n",
              "      <th>young_male</th>\n",
              "      <th>young_female</th>\n",
              "      <th>work_all</th>\n",
              "      <th>work_male</th>\n",
              "      <th>work_female</th>\n",
              "      <th>ekder_all</th>\n",
              "      <th>ekder_male</th>\n",
              "      <th>...</th>\n",
              "      <th>sub_area_Veshnjaki</th>\n",
              "      <th>sub_area_Vnukovo</th>\n",
              "      <th>sub_area_Vojkovskoe</th>\n",
              "      <th>sub_area_Vostochnoe</th>\n",
              "      <th>sub_area_Vostochnoe Degunino</th>\n",
              "      <th>sub_area_Vostochnoe Izmajlovo</th>\n",
              "      <th>sub_area_Vyhino-Zhulebino</th>\n",
              "      <th>sub_area_Zamoskvorech'e</th>\n",
              "      <th>sub_area_Zapadnoe Degunino</th>\n",
              "      <th>sub_area_Zjablikovo</th>\n",
              "      <th>sub_area_Zjuzino</th>\n",
              "      <th>culture_objects_top_25_no</th>\n",
              "      <th>culture_objects_top_25_yes</th>\n",
              "      <th>thermal_power_plant_raion_no</th>\n",
              "      <th>thermal_power_plant_raion_yes</th>\n",
              "      <th>incineration_raion_no</th>\n",
              "      <th>incineration_raion_yes</th>\n",
              "      <th>oil_chemistry_raion_no</th>\n",
              "      <th>oil_chemistry_raion_yes</th>\n",
              "      <th>radiation_raion_no</th>\n",
              "      <th>radiation_raion_yes</th>\n",
              "      <th>railroad_terminal_raion_no</th>\n",
              "      <th>railroad_terminal_raion_yes</th>\n",
              "      <th>big_market_raion_no</th>\n",
              "      <th>big_market_raion_yes</th>\n",
              "      <th>nuclear_reactor_raion_no</th>\n",
              "      <th>nuclear_reactor_raion_yes</th>\n",
              "      <th>detention_facility_raion_no</th>\n",
              "      <th>detention_facility_raion_yes</th>\n",
              "      <th>water_1line_no</th>\n",
              "      <th>water_1line_yes</th>\n",
              "      <th>big_road1_1line_no</th>\n",
              "      <th>big_road1_1line_yes</th>\n",
              "      <th>railroad_1line_no</th>\n",
              "      <th>railroad_1line_yes</th>\n",
              "      <th>ecology_excellent</th>\n",
              "      <th>ecology_good</th>\n",
              "      <th>ecology_no data</th>\n",
              "      <th>ecology_poor</th>\n",
              "      <th>ecology_satisfactory</th>\n",
              "    </tr>\n",
              "  </thead>\n",
              "  <tbody>\n",
              "    <tr>\n",
              "      <th>0</th>\n",
              "      <td>0</td>\n",
              "      <td>1</td>\n",
              "      <td>1.0</td>\n",
              "      <td>1.0</td>\n",
              "      <td>1.0</td>\n",
              "      <td>1.0</td>\n",
              "      <td>1.0</td>\n",
              "      <td>1.0</td>\n",
              "      <td>1.0</td>\n",
              "      <td>1.0</td>\n",
              "      <td>5.293465e+06</td>\n",
              "      <td>77878</td>\n",
              "      <td>0.023464</td>\n",
              "      <td>0.195781</td>\n",
              "      <td>4713</td>\n",
              "      <td>2279.0</td>\n",
              "      <td>4</td>\n",
              "      <td>5212</td>\n",
              "      <td>10027.0</td>\n",
              "      <td>8</td>\n",
              "      <td>1</td>\n",
              "      <td>2729.0</td>\n",
              "      <td>3</td>\n",
              "      <td>0</td>\n",
              "      <td>2</td>\n",
              "      <td>2</td>\n",
              "      <td>0</td>\n",
              "      <td>2</td>\n",
              "      <td>6</td>\n",
              "      <td>115352</td>\n",
              "      <td>52813</td>\n",
              "      <td>62539</td>\n",
              "      <td>10600</td>\n",
              "      <td>5422</td>\n",
              "      <td>5178</td>\n",
              "      <td>49882</td>\n",
              "      <td>24603</td>\n",
              "      <td>25279</td>\n",
              "      <td>17396</td>\n",
              "      <td>5130</td>\n",
              "      <td>...</td>\n",
              "      <td>0</td>\n",
              "      <td>0</td>\n",
              "      <td>0</td>\n",
              "      <td>0</td>\n",
              "      <td>0</td>\n",
              "      <td>0</td>\n",
              "      <td>0</td>\n",
              "      <td>0</td>\n",
              "      <td>0</td>\n",
              "      <td>0</td>\n",
              "      <td>0</td>\n",
              "      <td>1</td>\n",
              "      <td>0</td>\n",
              "      <td>1</td>\n",
              "      <td>0</td>\n",
              "      <td>1</td>\n",
              "      <td>0</td>\n",
              "      <td>1</td>\n",
              "      <td>0</td>\n",
              "      <td>1</td>\n",
              "      <td>0</td>\n",
              "      <td>1</td>\n",
              "      <td>0</td>\n",
              "      <td>1</td>\n",
              "      <td>0</td>\n",
              "      <td>1</td>\n",
              "      <td>0</td>\n",
              "      <td>1</td>\n",
              "      <td>0</td>\n",
              "      <td>1</td>\n",
              "      <td>0</td>\n",
              "      <td>1</td>\n",
              "      <td>0</td>\n",
              "      <td>1</td>\n",
              "      <td>0</td>\n",
              "      <td>0</td>\n",
              "      <td>0</td>\n",
              "      <td>0</td>\n",
              "      <td>1</td>\n",
              "      <td>0</td>\n",
              "    </tr>\n",
              "    <tr>\n",
              "      <th>1</th>\n",
              "      <td>1</td>\n",
              "      <td>64</td>\n",
              "      <td>64.0</td>\n",
              "      <td>16.0</td>\n",
              "      <td>16.0</td>\n",
              "      <td>1.0</td>\n",
              "      <td>2014.0</td>\n",
              "      <td>2.0</td>\n",
              "      <td>1.0</td>\n",
              "      <td>1.0</td>\n",
              "      <td>6.677245e+07</td>\n",
              "      <td>9553</td>\n",
              "      <td>0.336177</td>\n",
              "      <td>0.072158</td>\n",
              "      <td>656</td>\n",
              "      <td>1065.0</td>\n",
              "      <td>0</td>\n",
              "      <td>629</td>\n",
              "      <td>3068.0</td>\n",
              "      <td>0</td>\n",
              "      <td>0</td>\n",
              "      <td>540.0</td>\n",
              "      <td>0</td>\n",
              "      <td>0</td>\n",
              "      <td>1</td>\n",
              "      <td>0</td>\n",
              "      <td>0</td>\n",
              "      <td>0</td>\n",
              "      <td>1</td>\n",
              "      <td>13890</td>\n",
              "      <td>6584</td>\n",
              "      <td>7307</td>\n",
              "      <td>1370</td>\n",
              "      <td>709</td>\n",
              "      <td>661</td>\n",
              "      <td>6127</td>\n",
              "      <td>3237</td>\n",
              "      <td>2890</td>\n",
              "      <td>2056</td>\n",
              "      <td>583</td>\n",
              "      <td>...</td>\n",
              "      <td>0</td>\n",
              "      <td>0</td>\n",
              "      <td>0</td>\n",
              "      <td>0</td>\n",
              "      <td>0</td>\n",
              "      <td>0</td>\n",
              "      <td>0</td>\n",
              "      <td>0</td>\n",
              "      <td>0</td>\n",
              "      <td>0</td>\n",
              "      <td>0</td>\n",
              "      <td>1</td>\n",
              "      <td>0</td>\n",
              "      <td>1</td>\n",
              "      <td>0</td>\n",
              "      <td>1</td>\n",
              "      <td>0</td>\n",
              "      <td>1</td>\n",
              "      <td>0</td>\n",
              "      <td>1</td>\n",
              "      <td>0</td>\n",
              "      <td>1</td>\n",
              "      <td>0</td>\n",
              "      <td>0</td>\n",
              "      <td>1</td>\n",
              "      <td>1</td>\n",
              "      <td>0</td>\n",
              "      <td>1</td>\n",
              "      <td>0</td>\n",
              "      <td>1</td>\n",
              "      <td>0</td>\n",
              "      <td>1</td>\n",
              "      <td>0</td>\n",
              "      <td>1</td>\n",
              "      <td>0</td>\n",
              "      <td>0</td>\n",
              "      <td>0</td>\n",
              "      <td>1</td>\n",
              "      <td>0</td>\n",
              "      <td>0</td>\n",
              "    </tr>\n",
              "    <tr>\n",
              "      <th>2</th>\n",
              "      <td>2</td>\n",
              "      <td>83</td>\n",
              "      <td>44.0</td>\n",
              "      <td>9.0</td>\n",
              "      <td>17.0</td>\n",
              "      <td>1.0</td>\n",
              "      <td>1985.0</td>\n",
              "      <td>3.0</td>\n",
              "      <td>10.0</td>\n",
              "      <td>3.0</td>\n",
              "      <td>1.216448e+07</td>\n",
              "      <td>78507</td>\n",
              "      <td>0.297166</td>\n",
              "      <td>0.000000</td>\n",
              "      <td>4611</td>\n",
              "      <td>3092.0</td>\n",
              "      <td>7</td>\n",
              "      <td>5067</td>\n",
              "      <td>7478.0</td>\n",
              "      <td>7</td>\n",
              "      <td>0</td>\n",
              "      <td>125.0</td>\n",
              "      <td>2</td>\n",
              "      <td>0</td>\n",
              "      <td>14</td>\n",
              "      <td>1</td>\n",
              "      <td>0</td>\n",
              "      <td>6</td>\n",
              "      <td>4</td>\n",
              "      <td>67710</td>\n",
              "      <td>33382</td>\n",
              "      <td>34328</td>\n",
              "      <td>10175</td>\n",
              "      <td>5105</td>\n",
              "      <td>5070</td>\n",
              "      <td>48620</td>\n",
              "      <td>25579</td>\n",
              "      <td>23041</td>\n",
              "      <td>19712</td>\n",
              "      <td>6368</td>\n",
              "      <td>...</td>\n",
              "      <td>0</td>\n",
              "      <td>0</td>\n",
              "      <td>0</td>\n",
              "      <td>0</td>\n",
              "      <td>0</td>\n",
              "      <td>0</td>\n",
              "      <td>0</td>\n",
              "      <td>0</td>\n",
              "      <td>0</td>\n",
              "      <td>0</td>\n",
              "      <td>0</td>\n",
              "      <td>1</td>\n",
              "      <td>0</td>\n",
              "      <td>1</td>\n",
              "      <td>0</td>\n",
              "      <td>1</td>\n",
              "      <td>0</td>\n",
              "      <td>1</td>\n",
              "      <td>0</td>\n",
              "      <td>1</td>\n",
              "      <td>0</td>\n",
              "      <td>1</td>\n",
              "      <td>0</td>\n",
              "      <td>1</td>\n",
              "      <td>0</td>\n",
              "      <td>1</td>\n",
              "      <td>0</td>\n",
              "      <td>0</td>\n",
              "      <td>1</td>\n",
              "      <td>1</td>\n",
              "      <td>0</td>\n",
              "      <td>1</td>\n",
              "      <td>0</td>\n",
              "      <td>1</td>\n",
              "      <td>0</td>\n",
              "      <td>0</td>\n",
              "      <td>1</td>\n",
              "      <td>0</td>\n",
              "      <td>0</td>\n",
              "      <td>0</td>\n",
              "    </tr>\n",
              "    <tr>\n",
              "      <th>3</th>\n",
              "      <td>3</td>\n",
              "      <td>71</td>\n",
              "      <td>49.0</td>\n",
              "      <td>2.0</td>\n",
              "      <td>13.0</td>\n",
              "      <td>1.0</td>\n",
              "      <td>2003.0</td>\n",
              "      <td>3.0</td>\n",
              "      <td>12.0</td>\n",
              "      <td>3.0</td>\n",
              "      <td>4.708040e+06</td>\n",
              "      <td>38075</td>\n",
              "      <td>0.271702</td>\n",
              "      <td>0.310199</td>\n",
              "      <td>2448</td>\n",
              "      <td>2080.0</td>\n",
              "      <td>3</td>\n",
              "      <td>2748</td>\n",
              "      <td>3885.0</td>\n",
              "      <td>4</td>\n",
              "      <td>0</td>\n",
              "      <td>1815.0</td>\n",
              "      <td>0</td>\n",
              "      <td>0</td>\n",
              "      <td>0</td>\n",
              "      <td>0</td>\n",
              "      <td>0</td>\n",
              "      <td>0</td>\n",
              "      <td>1</td>\n",
              "      <td>85219</td>\n",
              "      <td>39138</td>\n",
              "      <td>46081</td>\n",
              "      <td>5572</td>\n",
              "      <td>2978</td>\n",
              "      <td>2594</td>\n",
              "      <td>22413</td>\n",
              "      <td>11273</td>\n",
              "      <td>11140</td>\n",
              "      <td>10090</td>\n",
              "      <td>2911</td>\n",
              "      <td>...</td>\n",
              "      <td>0</td>\n",
              "      <td>0</td>\n",
              "      <td>0</td>\n",
              "      <td>0</td>\n",
              "      <td>0</td>\n",
              "      <td>0</td>\n",
              "      <td>0</td>\n",
              "      <td>0</td>\n",
              "      <td>0</td>\n",
              "      <td>0</td>\n",
              "      <td>0</td>\n",
              "      <td>1</td>\n",
              "      <td>0</td>\n",
              "      <td>1</td>\n",
              "      <td>0</td>\n",
              "      <td>1</td>\n",
              "      <td>0</td>\n",
              "      <td>1</td>\n",
              "      <td>0</td>\n",
              "      <td>1</td>\n",
              "      <td>0</td>\n",
              "      <td>1</td>\n",
              "      <td>0</td>\n",
              "      <td>1</td>\n",
              "      <td>0</td>\n",
              "      <td>1</td>\n",
              "      <td>0</td>\n",
              "      <td>1</td>\n",
              "      <td>0</td>\n",
              "      <td>1</td>\n",
              "      <td>0</td>\n",
              "      <td>1</td>\n",
              "      <td>0</td>\n",
              "      <td>1</td>\n",
              "      <td>0</td>\n",
              "      <td>0</td>\n",
              "      <td>0</td>\n",
              "      <td>1</td>\n",
              "      <td>0</td>\n",
              "      <td>0</td>\n",
              "    </tr>\n",
              "    <tr>\n",
              "      <th>4</th>\n",
              "      <td>4</td>\n",
              "      <td>60</td>\n",
              "      <td>42.0</td>\n",
              "      <td>9.0</td>\n",
              "      <td>9.0</td>\n",
              "      <td>1.0</td>\n",
              "      <td>1970.0</td>\n",
              "      <td>3.0</td>\n",
              "      <td>6.0</td>\n",
              "      <td>2.0</td>\n",
              "      <td>1.428699e+07</td>\n",
              "      <td>157010</td>\n",
              "      <td>0.389354</td>\n",
              "      <td>0.194489</td>\n",
              "      <td>7751</td>\n",
              "      <td>5041.0</td>\n",
              "      <td>6</td>\n",
              "      <td>8004</td>\n",
              "      <td>11081.0</td>\n",
              "      <td>7</td>\n",
              "      <td>0</td>\n",
              "      <td>125.0</td>\n",
              "      <td>3</td>\n",
              "      <td>0</td>\n",
              "      <td>5</td>\n",
              "      <td>3</td>\n",
              "      <td>0</td>\n",
              "      <td>5</td>\n",
              "      <td>3</td>\n",
              "      <td>12327</td>\n",
              "      <td>5588</td>\n",
              "      <td>6739</td>\n",
              "      <td>16831</td>\n",
              "      <td>8637</td>\n",
              "      <td>8194</td>\n",
              "      <td>98260</td>\n",
              "      <td>47405</td>\n",
              "      <td>50855</td>\n",
              "      <td>41919</td>\n",
              "      <td>12424</td>\n",
              "      <td>...</td>\n",
              "      <td>0</td>\n",
              "      <td>0</td>\n",
              "      <td>0</td>\n",
              "      <td>0</td>\n",
              "      <td>0</td>\n",
              "      <td>0</td>\n",
              "      <td>0</td>\n",
              "      <td>0</td>\n",
              "      <td>0</td>\n",
              "      <td>0</td>\n",
              "      <td>0</td>\n",
              "      <td>1</td>\n",
              "      <td>0</td>\n",
              "      <td>1</td>\n",
              "      <td>0</td>\n",
              "      <td>1</td>\n",
              "      <td>0</td>\n",
              "      <td>1</td>\n",
              "      <td>0</td>\n",
              "      <td>0</td>\n",
              "      <td>1</td>\n",
              "      <td>1</td>\n",
              "      <td>0</td>\n",
              "      <td>1</td>\n",
              "      <td>0</td>\n",
              "      <td>1</td>\n",
              "      <td>0</td>\n",
              "      <td>1</td>\n",
              "      <td>0</td>\n",
              "      <td>0</td>\n",
              "      <td>1</td>\n",
              "      <td>1</td>\n",
              "      <td>0</td>\n",
              "      <td>1</td>\n",
              "      <td>0</td>\n",
              "      <td>0</td>\n",
              "      <td>1</td>\n",
              "      <td>0</td>\n",
              "      <td>0</td>\n",
              "      <td>0</td>\n",
              "    </tr>\n",
              "    <tr>\n",
              "      <th>...</th>\n",
              "      <td>...</td>\n",
              "      <td>...</td>\n",
              "      <td>...</td>\n",
              "      <td>...</td>\n",
              "      <td>...</td>\n",
              "      <td>...</td>\n",
              "      <td>...</td>\n",
              "      <td>...</td>\n",
              "      <td>...</td>\n",
              "      <td>...</td>\n",
              "      <td>...</td>\n",
              "      <td>...</td>\n",
              "      <td>...</td>\n",
              "      <td>...</td>\n",
              "      <td>...</td>\n",
              "      <td>...</td>\n",
              "      <td>...</td>\n",
              "      <td>...</td>\n",
              "      <td>...</td>\n",
              "      <td>...</td>\n",
              "      <td>...</td>\n",
              "      <td>...</td>\n",
              "      <td>...</td>\n",
              "      <td>...</td>\n",
              "      <td>...</td>\n",
              "      <td>...</td>\n",
              "      <td>...</td>\n",
              "      <td>...</td>\n",
              "      <td>...</td>\n",
              "      <td>...</td>\n",
              "      <td>...</td>\n",
              "      <td>...</td>\n",
              "      <td>...</td>\n",
              "      <td>...</td>\n",
              "      <td>...</td>\n",
              "      <td>...</td>\n",
              "      <td>...</td>\n",
              "      <td>...</td>\n",
              "      <td>...</td>\n",
              "      <td>...</td>\n",
              "      <td>...</td>\n",
              "      <td>...</td>\n",
              "      <td>...</td>\n",
              "      <td>...</td>\n",
              "      <td>...</td>\n",
              "      <td>...</td>\n",
              "      <td>...</td>\n",
              "      <td>...</td>\n",
              "      <td>...</td>\n",
              "      <td>...</td>\n",
              "      <td>...</td>\n",
              "      <td>...</td>\n",
              "      <td>...</td>\n",
              "      <td>...</td>\n",
              "      <td>...</td>\n",
              "      <td>...</td>\n",
              "      <td>...</td>\n",
              "      <td>...</td>\n",
              "      <td>...</td>\n",
              "      <td>...</td>\n",
              "      <td>...</td>\n",
              "      <td>...</td>\n",
              "      <td>...</td>\n",
              "      <td>...</td>\n",
              "      <td>...</td>\n",
              "      <td>...</td>\n",
              "      <td>...</td>\n",
              "      <td>...</td>\n",
              "      <td>...</td>\n",
              "      <td>...</td>\n",
              "      <td>...</td>\n",
              "      <td>...</td>\n",
              "      <td>...</td>\n",
              "      <td>...</td>\n",
              "      <td>...</td>\n",
              "      <td>...</td>\n",
              "      <td>...</td>\n",
              "      <td>...</td>\n",
              "      <td>...</td>\n",
              "      <td>...</td>\n",
              "      <td>...</td>\n",
              "    </tr>\n",
              "    <tr>\n",
              "      <th>19995</th>\n",
              "      <td>19995</td>\n",
              "      <td>45</td>\n",
              "      <td>27.0</td>\n",
              "      <td>2.0</td>\n",
              "      <td>9.0</td>\n",
              "      <td>1.0</td>\n",
              "      <td>1978.0</td>\n",
              "      <td>2.0</td>\n",
              "      <td>5.0</td>\n",
              "      <td>2.0</td>\n",
              "      <td>2.481385e+07</td>\n",
              "      <td>174831</td>\n",
              "      <td>0.683844</td>\n",
              "      <td>0.037178</td>\n",
              "      <td>10712</td>\n",
              "      <td>4172.0</td>\n",
              "      <td>7</td>\n",
              "      <td>11217</td>\n",
              "      <td>10559.0</td>\n",
              "      <td>7</td>\n",
              "      <td>0</td>\n",
              "      <td>2300.0</td>\n",
              "      <td>1</td>\n",
              "      <td>0</td>\n",
              "      <td>7</td>\n",
              "      <td>7</td>\n",
              "      <td>0</td>\n",
              "      <td>7</td>\n",
              "      <td>1</td>\n",
              "      <td>178264</td>\n",
              "      <td>82799</td>\n",
              "      <td>95465</td>\n",
              "      <td>23483</td>\n",
              "      <td>12083</td>\n",
              "      <td>11400</td>\n",
              "      <td>105171</td>\n",
              "      <td>52848</td>\n",
              "      <td>52323</td>\n",
              "      <td>46177</td>\n",
              "      <td>14748</td>\n",
              "      <td>...</td>\n",
              "      <td>0</td>\n",
              "      <td>0</td>\n",
              "      <td>0</td>\n",
              "      <td>0</td>\n",
              "      <td>0</td>\n",
              "      <td>0</td>\n",
              "      <td>0</td>\n",
              "      <td>0</td>\n",
              "      <td>0</td>\n",
              "      <td>0</td>\n",
              "      <td>0</td>\n",
              "      <td>1</td>\n",
              "      <td>0</td>\n",
              "      <td>1</td>\n",
              "      <td>0</td>\n",
              "      <td>1</td>\n",
              "      <td>0</td>\n",
              "      <td>1</td>\n",
              "      <td>0</td>\n",
              "      <td>0</td>\n",
              "      <td>1</td>\n",
              "      <td>1</td>\n",
              "      <td>0</td>\n",
              "      <td>1</td>\n",
              "      <td>0</td>\n",
              "      <td>1</td>\n",
              "      <td>0</td>\n",
              "      <td>1</td>\n",
              "      <td>0</td>\n",
              "      <td>0</td>\n",
              "      <td>1</td>\n",
              "      <td>1</td>\n",
              "      <td>0</td>\n",
              "      <td>1</td>\n",
              "      <td>0</td>\n",
              "      <td>0</td>\n",
              "      <td>1</td>\n",
              "      <td>0</td>\n",
              "      <td>0</td>\n",
              "      <td>0</td>\n",
              "    </tr>\n",
              "    <tr>\n",
              "      <th>19996</th>\n",
              "      <td>19996</td>\n",
              "      <td>38</td>\n",
              "      <td>38.0</td>\n",
              "      <td>4.0</td>\n",
              "      <td>17.0</td>\n",
              "      <td>1.0</td>\n",
              "      <td>2014.0</td>\n",
              "      <td>2.0</td>\n",
              "      <td>1.0</td>\n",
              "      <td>1.0</td>\n",
              "      <td>6.677245e+07</td>\n",
              "      <td>9553</td>\n",
              "      <td>0.336177</td>\n",
              "      <td>0.072158</td>\n",
              "      <td>656</td>\n",
              "      <td>1065.0</td>\n",
              "      <td>0</td>\n",
              "      <td>629</td>\n",
              "      <td>2367.0</td>\n",
              "      <td>0</td>\n",
              "      <td>0</td>\n",
              "      <td>350.0</td>\n",
              "      <td>0</td>\n",
              "      <td>0</td>\n",
              "      <td>1</td>\n",
              "      <td>0</td>\n",
              "      <td>0</td>\n",
              "      <td>0</td>\n",
              "      <td>1</td>\n",
              "      <td>13890</td>\n",
              "      <td>6584</td>\n",
              "      <td>7307</td>\n",
              "      <td>1370</td>\n",
              "      <td>709</td>\n",
              "      <td>661</td>\n",
              "      <td>6127</td>\n",
              "      <td>3237</td>\n",
              "      <td>2890</td>\n",
              "      <td>2056</td>\n",
              "      <td>583</td>\n",
              "      <td>...</td>\n",
              "      <td>0</td>\n",
              "      <td>0</td>\n",
              "      <td>0</td>\n",
              "      <td>0</td>\n",
              "      <td>0</td>\n",
              "      <td>0</td>\n",
              "      <td>0</td>\n",
              "      <td>0</td>\n",
              "      <td>0</td>\n",
              "      <td>0</td>\n",
              "      <td>0</td>\n",
              "      <td>1</td>\n",
              "      <td>0</td>\n",
              "      <td>1</td>\n",
              "      <td>0</td>\n",
              "      <td>1</td>\n",
              "      <td>0</td>\n",
              "      <td>1</td>\n",
              "      <td>0</td>\n",
              "      <td>1</td>\n",
              "      <td>0</td>\n",
              "      <td>1</td>\n",
              "      <td>0</td>\n",
              "      <td>0</td>\n",
              "      <td>1</td>\n",
              "      <td>1</td>\n",
              "      <td>0</td>\n",
              "      <td>1</td>\n",
              "      <td>0</td>\n",
              "      <td>1</td>\n",
              "      <td>0</td>\n",
              "      <td>1</td>\n",
              "      <td>0</td>\n",
              "      <td>1</td>\n",
              "      <td>0</td>\n",
              "      <td>0</td>\n",
              "      <td>0</td>\n",
              "      <td>1</td>\n",
              "      <td>0</td>\n",
              "      <td>0</td>\n",
              "    </tr>\n",
              "    <tr>\n",
              "      <th>19997</th>\n",
              "      <td>19997</td>\n",
              "      <td>35</td>\n",
              "      <td>14.0</td>\n",
              "      <td>9.0</td>\n",
              "      <td>22.0</td>\n",
              "      <td>1.0</td>\n",
              "      <td>2001.0</td>\n",
              "      <td>1.0</td>\n",
              "      <td>10.0</td>\n",
              "      <td>2.0</td>\n",
              "      <td>1.004686e+07</td>\n",
              "      <td>76156</td>\n",
              "      <td>0.071056</td>\n",
              "      <td>0.246032</td>\n",
              "      <td>3816</td>\n",
              "      <td>3150.0</td>\n",
              "      <td>5</td>\n",
              "      <td>3151</td>\n",
              "      <td>5519.0</td>\n",
              "      <td>5</td>\n",
              "      <td>0</td>\n",
              "      <td>2715.0</td>\n",
              "      <td>3</td>\n",
              "      <td>1</td>\n",
              "      <td>7</td>\n",
              "      <td>6</td>\n",
              "      <td>0</td>\n",
              "      <td>3</td>\n",
              "      <td>4</td>\n",
              "      <td>130229</td>\n",
              "      <td>60619</td>\n",
              "      <td>69610</td>\n",
              "      <td>7296</td>\n",
              "      <td>3649</td>\n",
              "      <td>3647</td>\n",
              "      <td>52450</td>\n",
              "      <td>26354</td>\n",
              "      <td>26096</td>\n",
              "      <td>16410</td>\n",
              "      <td>4819</td>\n",
              "      <td>...</td>\n",
              "      <td>0</td>\n",
              "      <td>0</td>\n",
              "      <td>0</td>\n",
              "      <td>0</td>\n",
              "      <td>0</td>\n",
              "      <td>0</td>\n",
              "      <td>0</td>\n",
              "      <td>0</td>\n",
              "      <td>0</td>\n",
              "      <td>0</td>\n",
              "      <td>0</td>\n",
              "      <td>1</td>\n",
              "      <td>0</td>\n",
              "      <td>1</td>\n",
              "      <td>0</td>\n",
              "      <td>1</td>\n",
              "      <td>0</td>\n",
              "      <td>1</td>\n",
              "      <td>0</td>\n",
              "      <td>0</td>\n",
              "      <td>1</td>\n",
              "      <td>1</td>\n",
              "      <td>0</td>\n",
              "      <td>1</td>\n",
              "      <td>0</td>\n",
              "      <td>0</td>\n",
              "      <td>1</td>\n",
              "      <td>1</td>\n",
              "      <td>0</td>\n",
              "      <td>1</td>\n",
              "      <td>0</td>\n",
              "      <td>1</td>\n",
              "      <td>0</td>\n",
              "      <td>1</td>\n",
              "      <td>0</td>\n",
              "      <td>1</td>\n",
              "      <td>0</td>\n",
              "      <td>0</td>\n",
              "      <td>0</td>\n",
              "      <td>0</td>\n",
              "    </tr>\n",
              "    <tr>\n",
              "      <th>19998</th>\n",
              "      <td>19998</td>\n",
              "      <td>51</td>\n",
              "      <td>30.0</td>\n",
              "      <td>8.0</td>\n",
              "      <td>17.0</td>\n",
              "      <td>1.0</td>\n",
              "      <td>2011.0</td>\n",
              "      <td>2.0</td>\n",
              "      <td>9.0</td>\n",
              "      <td>2.0</td>\n",
              "      <td>4.036700e+07</td>\n",
              "      <td>21819</td>\n",
              "      <td>0.492840</td>\n",
              "      <td>0.075779</td>\n",
              "      <td>1497</td>\n",
              "      <td>1427.0</td>\n",
              "      <td>0</td>\n",
              "      <td>1437</td>\n",
              "      <td>1924.0</td>\n",
              "      <td>0</td>\n",
              "      <td>0</td>\n",
              "      <td>800.0</td>\n",
              "      <td>0</td>\n",
              "      <td>0</td>\n",
              "      <td>3</td>\n",
              "      <td>3</td>\n",
              "      <td>0</td>\n",
              "      <td>2</td>\n",
              "      <td>3</td>\n",
              "      <td>7341</td>\n",
              "      <td>3445</td>\n",
              "      <td>3898</td>\n",
              "      <td>3128</td>\n",
              "      <td>1618</td>\n",
              "      <td>1510</td>\n",
              "      <td>13996</td>\n",
              "      <td>7394</td>\n",
              "      <td>6602</td>\n",
              "      <td>4695</td>\n",
              "      <td>1331</td>\n",
              "      <td>...</td>\n",
              "      <td>0</td>\n",
              "      <td>0</td>\n",
              "      <td>0</td>\n",
              "      <td>0</td>\n",
              "      <td>0</td>\n",
              "      <td>0</td>\n",
              "      <td>0</td>\n",
              "      <td>0</td>\n",
              "      <td>0</td>\n",
              "      <td>0</td>\n",
              "      <td>0</td>\n",
              "      <td>1</td>\n",
              "      <td>0</td>\n",
              "      <td>1</td>\n",
              "      <td>0</td>\n",
              "      <td>1</td>\n",
              "      <td>0</td>\n",
              "      <td>1</td>\n",
              "      <td>0</td>\n",
              "      <td>1</td>\n",
              "      <td>0</td>\n",
              "      <td>1</td>\n",
              "      <td>0</td>\n",
              "      <td>1</td>\n",
              "      <td>0</td>\n",
              "      <td>1</td>\n",
              "      <td>0</td>\n",
              "      <td>1</td>\n",
              "      <td>0</td>\n",
              "      <td>1</td>\n",
              "      <td>0</td>\n",
              "      <td>1</td>\n",
              "      <td>0</td>\n",
              "      <td>1</td>\n",
              "      <td>0</td>\n",
              "      <td>0</td>\n",
              "      <td>0</td>\n",
              "      <td>1</td>\n",
              "      <td>0</td>\n",
              "      <td>0</td>\n",
              "    </tr>\n",
              "    <tr>\n",
              "      <th>19999</th>\n",
              "      <td>19999</td>\n",
              "      <td>54</td>\n",
              "      <td>32.0</td>\n",
              "      <td>9.0</td>\n",
              "      <td>12.0</td>\n",
              "      <td>1.0</td>\n",
              "      <td>1975.0</td>\n",
              "      <td>2.0</td>\n",
              "      <td>7.0</td>\n",
              "      <td>2.0</td>\n",
              "      <td>7.811375e+06</td>\n",
              "      <td>153248</td>\n",
              "      <td>0.127002</td>\n",
              "      <td>0.135650</td>\n",
              "      <td>7517</td>\n",
              "      <td>2627.0</td>\n",
              "      <td>5</td>\n",
              "      <td>7960</td>\n",
              "      <td>9650.0</td>\n",
              "      <td>5</td>\n",
              "      <td>0</td>\n",
              "      <td>350.0</td>\n",
              "      <td>3</td>\n",
              "      <td>0</td>\n",
              "      <td>11</td>\n",
              "      <td>3</td>\n",
              "      <td>0</td>\n",
              "      <td>11</td>\n",
              "      <td>6</td>\n",
              "      <td>123000</td>\n",
              "      <td>58226</td>\n",
              "      <td>64774</td>\n",
              "      <td>16468</td>\n",
              "      <td>8851</td>\n",
              "      <td>7617</td>\n",
              "      <td>100062</td>\n",
              "      <td>55456</td>\n",
              "      <td>44606</td>\n",
              "      <td>36718</td>\n",
              "      <td>11958</td>\n",
              "      <td>...</td>\n",
              "      <td>0</td>\n",
              "      <td>0</td>\n",
              "      <td>0</td>\n",
              "      <td>0</td>\n",
              "      <td>0</td>\n",
              "      <td>0</td>\n",
              "      <td>0</td>\n",
              "      <td>0</td>\n",
              "      <td>0</td>\n",
              "      <td>0</td>\n",
              "      <td>0</td>\n",
              "      <td>1</td>\n",
              "      <td>0</td>\n",
              "      <td>1</td>\n",
              "      <td>0</td>\n",
              "      <td>1</td>\n",
              "      <td>0</td>\n",
              "      <td>1</td>\n",
              "      <td>0</td>\n",
              "      <td>0</td>\n",
              "      <td>1</td>\n",
              "      <td>1</td>\n",
              "      <td>0</td>\n",
              "      <td>1</td>\n",
              "      <td>0</td>\n",
              "      <td>1</td>\n",
              "      <td>0</td>\n",
              "      <td>1</td>\n",
              "      <td>0</td>\n",
              "      <td>1</td>\n",
              "      <td>0</td>\n",
              "      <td>1</td>\n",
              "      <td>0</td>\n",
              "      <td>1</td>\n",
              "      <td>0</td>\n",
              "      <td>0</td>\n",
              "      <td>0</td>\n",
              "      <td>0</td>\n",
              "      <td>0</td>\n",
              "      <td>1</td>\n",
              "    </tr>\n",
              "  </tbody>\n",
              "</table>\n",
              "<p>20000 rows × 453 columns</p>\n",
              "</div>"
            ],
            "text/plain": [
              "          id  full_sq  ...  ecology_poor  ecology_satisfactory\n",
              "0          0        1  ...             1                     0\n",
              "1          1       64  ...             0                     0\n",
              "2          2       83  ...             0                     0\n",
              "3          3       71  ...             0                     0\n",
              "4          4       60  ...             0                     0\n",
              "...      ...      ...  ...           ...                   ...\n",
              "19995  19995       45  ...             0                     0\n",
              "19996  19996       38  ...             0                     0\n",
              "19997  19997       35  ...             0                     0\n",
              "19998  19998       51  ...             0                     0\n",
              "19999  19999       54  ...             0                     1\n",
              "\n",
              "[20000 rows x 453 columns]"
            ]
          },
          "metadata": {},
          "execution_count": 15
        }
      ],
      "source": [
        "completed_dataset = pd.read_csv('drive/MyDrive/completed_dataset.csv', encoding='utf-8')\n",
        "completed_dataset"
      ]
    },
    {
      "cell_type": "code",
      "source": [
        "X = completed_dataset.drop(labels=['price'], axis=1)\n",
        "y = completed_dataset.price\n",
        "X_train, X_test, y_train, y_test = train_test_split(X, y, test_size=0.2, random_state=42)"
      ],
      "metadata": {
        "id": "Bx43O9T6BpPf"
      },
      "execution_count": null,
      "outputs": []
    },
    {
      "cell_type": "markdown",
      "metadata": {
        "id": "oiOby6hNu92W"
      },
      "source": [
        "### Baseline (2 балла)\n",
        "\n",
        "В качестве Baseline обучите `DecisionTreeRegressor` из `sklearn`."
      ]
    },
    {
      "cell_type": "code",
      "execution_count": null,
      "metadata": {
        "id": "gJIDf3kn1Wfv"
      },
      "outputs": [],
      "source": [
        "from sklearn.tree import DecisionTreeRegressor\n",
        "from sklearn.metrics import mean_squared_error\n",
        "from sklearn.model_selection import cross_val_score"
      ]
    },
    {
      "cell_type": "code",
      "execution_count": null,
      "metadata": {
        "id": "Ze0BLLcp9c6P"
      },
      "outputs": [],
      "source": [
        "clf = DecisionTreeRegressor(random_state=42)\n",
        "clf.fit(X_train, y_train)\n",
        "y_pred_tree = clf.predict(X_test)"
      ]
    },
    {
      "cell_type": "markdown",
      "metadata": {
        "id": "XUC7NFhw1X41"
      },
      "source": [
        "Проверьте качество на отложенной выборке."
      ]
    },
    {
      "cell_type": "markdown",
      "source": [
        "RMSE на тестовой выборке:"
      ],
      "metadata": {
        "id": "sNXebpaNG9El"
      }
    },
    {
      "cell_type": "code",
      "execution_count": null,
      "metadata": {
        "id": "O_LCiQIN1bzD",
        "colab": {
          "base_uri": "https://localhost:8080/"
        },
        "outputId": "d6c588f3-f4a1-40c5-aada-c3b870b2a111"
      },
      "outputs": [
        {
          "output_type": "execute_result",
          "data": {
            "text/plain": [
              "3648629.213634534"
            ]
          },
          "metadata": {},
          "execution_count": 29
        }
      ],
      "source": [
        "mean_squared_error(y_test, y_pred_tree, squared=False)"
      ]
    },
    {
      "cell_type": "markdown",
      "source": [
        "RMSE на кросс-валидации:"
      ],
      "metadata": {
        "id": "cMR0a-qLHJJb"
      }
    },
    {
      "cell_type": "code",
      "source": [
        "-np.mean(cross_val_score(\n",
        "                        clf,\n",
        "                        X, \n",
        "                        y, \n",
        "                        cv=5, \n",
        "                        scoring='neg_root_mean_squared_error',\n",
        "                        )\n",
        "        )"
      ],
      "metadata": {
        "colab": {
          "base_uri": "https://localhost:8080/"
        },
        "id": "wbfbrW1mHAqY",
        "outputId": "81a2bcb9-2977-47f3-f036-596e7148af1f"
      },
      "execution_count": null,
      "outputs": [
        {
          "output_type": "execute_result",
          "data": {
            "text/plain": [
              "3870245.250718093"
            ]
          },
          "metadata": {},
          "execution_count": 36
        }
      ]
    },
    {
      "cell_type": "code",
      "source": [
        "pd.DataFrame(list(zip(y_pred_tree, y_test)), columns=['y_pred_tree', 'y_test'])"
      ],
      "metadata": {
        "colab": {
          "base_uri": "https://localhost:8080/",
          "height": 417
        },
        "id": "nGYFquSgB8bk",
        "outputId": "5faf2e94-320f-42f1-92e8-8b8f5166d870"
      },
      "execution_count": null,
      "outputs": [
        {
          "output_type": "execute_result",
          "data": {
            "text/html": [
              "<div>\n",
              "<style scoped>\n",
              "    .dataframe tbody tr th:only-of-type {\n",
              "        vertical-align: middle;\n",
              "    }\n",
              "\n",
              "    .dataframe tbody tr th {\n",
              "        vertical-align: top;\n",
              "    }\n",
              "\n",
              "    .dataframe thead th {\n",
              "        text-align: right;\n",
              "    }\n",
              "</style>\n",
              "<table border=\"1\" class=\"dataframe\">\n",
              "  <thead>\n",
              "    <tr style=\"text-align: right;\">\n",
              "      <th></th>\n",
              "      <th>y_pred</th>\n",
              "      <th>y_test</th>\n",
              "    </tr>\n",
              "  </thead>\n",
              "  <tbody>\n",
              "    <tr>\n",
              "      <th>0</th>\n",
              "      <td>12132590.0</td>\n",
              "      <td>8408003</td>\n",
              "    </tr>\n",
              "    <tr>\n",
              "      <th>1</th>\n",
              "      <td>5813760.0</td>\n",
              "      <td>5606580</td>\n",
              "    </tr>\n",
              "    <tr>\n",
              "      <th>2</th>\n",
              "      <td>10400000.0</td>\n",
              "      <td>12800000</td>\n",
              "    </tr>\n",
              "    <tr>\n",
              "      <th>3</th>\n",
              "      <td>5571000.0</td>\n",
              "      <td>6468000</td>\n",
              "    </tr>\n",
              "    <tr>\n",
              "      <th>4</th>\n",
              "      <td>14000000.0</td>\n",
              "      <td>1000000</td>\n",
              "    </tr>\n",
              "    <tr>\n",
              "      <th>...</th>\n",
              "      <td>...</td>\n",
              "      <td>...</td>\n",
              "    </tr>\n",
              "    <tr>\n",
              "      <th>3995</th>\n",
              "      <td>4000000.0</td>\n",
              "      <td>15300000</td>\n",
              "    </tr>\n",
              "    <tr>\n",
              "      <th>3996</th>\n",
              "      <td>1000000.0</td>\n",
              "      <td>6300000</td>\n",
              "    </tr>\n",
              "    <tr>\n",
              "      <th>3997</th>\n",
              "      <td>2357000.0</td>\n",
              "      <td>2922350</td>\n",
              "    </tr>\n",
              "    <tr>\n",
              "      <th>3998</th>\n",
              "      <td>8700000.0</td>\n",
              "      <td>5750000</td>\n",
              "    </tr>\n",
              "    <tr>\n",
              "      <th>3999</th>\n",
              "      <td>5900000.0</td>\n",
              "      <td>6400000</td>\n",
              "    </tr>\n",
              "  </tbody>\n",
              "</table>\n",
              "<p>4000 rows × 2 columns</p>\n",
              "</div>"
            ],
            "text/plain": [
              "          y_pred    y_test\n",
              "0     12132590.0   8408003\n",
              "1      5813760.0   5606580\n",
              "2     10400000.0  12800000\n",
              "3      5571000.0   6468000\n",
              "4     14000000.0   1000000\n",
              "...          ...       ...\n",
              "3995   4000000.0  15300000\n",
              "3996   1000000.0   6300000\n",
              "3997   2357000.0   2922350\n",
              "3998   8700000.0   5750000\n",
              "3999   5900000.0   6400000\n",
              "\n",
              "[4000 rows x 2 columns]"
            ]
          },
          "metadata": {},
          "execution_count": 30
        }
      ]
    },
    {
      "cell_type": "markdown",
      "metadata": {
        "id": "3bezBBI7u_oF"
      },
      "source": [
        "### Feature Engineering (2 балла)\n",
        "\n",
        "Часто улучшить модель можно с помощью аккуратного Feature Engineering.\n",
        "\n",
        "Добавим в модель дополнительные признаки:\n",
        "* \"Как часто в этот год и этот месяц появлились объявления\"\n",
        "* \"Как часто в этот год и эту неделю появлялись объявления\""
      ]
    },
    {
      "cell_type": "code",
      "source": [
        "completed_dataset['timestamp'] = drop_columns['timestamp']\n",
        "df = completed_dataset"
      ],
      "metadata": {
        "id": "FyZ19jVskYjh"
      },
      "execution_count": null,
      "outputs": []
    },
    {
      "cell_type": "code",
      "execution_count": null,
      "metadata": {
        "id": "_cJ6SBqUKC4C",
        "colab": {
          "base_uri": "https://localhost:8080/"
        },
        "outputId": "950c6098-5214-4363-df04-1c9c67e7397b"
      },
      "outputs": [
        {
          "output_type": "stream",
          "name": "stderr",
          "text": [
            "/usr/local/lib/python3.7/dist-packages/ipykernel_launcher.py:5: FutureWarning: Series.dt.weekofyear and Series.dt.week have been deprecated.  Please use Series.dt.isocalendar().week instead.\n",
            "  \"\"\"\n"
          ]
        }
      ],
      "source": [
        "month_year = (df.timestamp.dt.month + df.timestamp.dt.year * 100)\n",
        "month_year_cnt_map = month_year.value_counts().to_dict()\n",
        "df[\"month_year_cnt\"] = month_year.map(month_year_cnt_map)\n",
        "\n",
        "week_year = (df.timestamp.dt.weekofyear + df.timestamp.dt.year * 100)\n",
        "week_year_cnt_map = week_year.value_counts().to_dict()\n",
        "df[\"week_year_cnt\"] = week_year.map(week_year_cnt_map)"
      ]
    },
    {
      "cell_type": "code",
      "source": [
        "df"
      ],
      "metadata": {
        "colab": {
          "base_uri": "https://localhost:8080/",
          "height": 622
        },
        "id": "fy0AsCJLLOrQ",
        "outputId": "2e114dd2-cee6-40bd-cee1-c1ffa0c16f87"
      },
      "execution_count": null,
      "outputs": [
        {
          "output_type": "execute_result",
          "data": {
            "text/html": [
              "<div>\n",
              "<style scoped>\n",
              "    .dataframe tbody tr th:only-of-type {\n",
              "        vertical-align: middle;\n",
              "    }\n",
              "\n",
              "    .dataframe tbody tr th {\n",
              "        vertical-align: top;\n",
              "    }\n",
              "\n",
              "    .dataframe thead th {\n",
              "        text-align: right;\n",
              "    }\n",
              "</style>\n",
              "<table border=\"1\" class=\"dataframe\">\n",
              "  <thead>\n",
              "    <tr style=\"text-align: right;\">\n",
              "      <th></th>\n",
              "      <th>id</th>\n",
              "      <th>full_sq</th>\n",
              "      <th>life_sq</th>\n",
              "      <th>floor</th>\n",
              "      <th>max_floor</th>\n",
              "      <th>material</th>\n",
              "      <th>build_year</th>\n",
              "      <th>num_room</th>\n",
              "      <th>kitch_sq</th>\n",
              "      <th>state</th>\n",
              "      <th>area_m</th>\n",
              "      <th>raion_popul</th>\n",
              "      <th>green_zone_part</th>\n",
              "      <th>indust_part</th>\n",
              "      <th>children_preschool</th>\n",
              "      <th>preschool_quota</th>\n",
              "      <th>preschool_education_centers_raion</th>\n",
              "      <th>children_school</th>\n",
              "      <th>school_quota</th>\n",
              "      <th>school_education_centers_raion</th>\n",
              "      <th>school_education_centers_top_20_raion</th>\n",
              "      <th>hospital_beds_raion</th>\n",
              "      <th>healthcare_centers_raion</th>\n",
              "      <th>university_top_20_raion</th>\n",
              "      <th>sport_objects_raion</th>\n",
              "      <th>additional_education_raion</th>\n",
              "      <th>culture_objects_top_25_raion</th>\n",
              "      <th>shopping_centers_raion</th>\n",
              "      <th>office_raion</th>\n",
              "      <th>full_all</th>\n",
              "      <th>male_f</th>\n",
              "      <th>female_f</th>\n",
              "      <th>young_all</th>\n",
              "      <th>young_male</th>\n",
              "      <th>young_female</th>\n",
              "      <th>work_all</th>\n",
              "      <th>work_male</th>\n",
              "      <th>work_female</th>\n",
              "      <th>ekder_all</th>\n",
              "      <th>ekder_male</th>\n",
              "      <th>...</th>\n",
              "      <th>sub_area_Vostochnoe</th>\n",
              "      <th>sub_area_Vostochnoe Degunino</th>\n",
              "      <th>sub_area_Vostochnoe Izmajlovo</th>\n",
              "      <th>sub_area_Vyhino-Zhulebino</th>\n",
              "      <th>sub_area_Zamoskvorech'e</th>\n",
              "      <th>sub_area_Zapadnoe Degunino</th>\n",
              "      <th>sub_area_Zjablikovo</th>\n",
              "      <th>sub_area_Zjuzino</th>\n",
              "      <th>culture_objects_top_25_no</th>\n",
              "      <th>culture_objects_top_25_yes</th>\n",
              "      <th>thermal_power_plant_raion_no</th>\n",
              "      <th>thermal_power_plant_raion_yes</th>\n",
              "      <th>incineration_raion_no</th>\n",
              "      <th>incineration_raion_yes</th>\n",
              "      <th>oil_chemistry_raion_no</th>\n",
              "      <th>oil_chemistry_raion_yes</th>\n",
              "      <th>radiation_raion_no</th>\n",
              "      <th>radiation_raion_yes</th>\n",
              "      <th>railroad_terminal_raion_no</th>\n",
              "      <th>railroad_terminal_raion_yes</th>\n",
              "      <th>big_market_raion_no</th>\n",
              "      <th>big_market_raion_yes</th>\n",
              "      <th>nuclear_reactor_raion_no</th>\n",
              "      <th>nuclear_reactor_raion_yes</th>\n",
              "      <th>detention_facility_raion_no</th>\n",
              "      <th>detention_facility_raion_yes</th>\n",
              "      <th>water_1line_no</th>\n",
              "      <th>water_1line_yes</th>\n",
              "      <th>big_road1_1line_no</th>\n",
              "      <th>big_road1_1line_yes</th>\n",
              "      <th>railroad_1line_no</th>\n",
              "      <th>railroad_1line_yes</th>\n",
              "      <th>ecology_excellent</th>\n",
              "      <th>ecology_good</th>\n",
              "      <th>ecology_no data</th>\n",
              "      <th>ecology_poor</th>\n",
              "      <th>ecology_satisfactory</th>\n",
              "      <th>timestamp</th>\n",
              "      <th>month_year_cnt</th>\n",
              "      <th>week_year_cnt</th>\n",
              "    </tr>\n",
              "  </thead>\n",
              "  <tbody>\n",
              "    <tr>\n",
              "      <th>0</th>\n",
              "      <td>0</td>\n",
              "      <td>1</td>\n",
              "      <td>1.0</td>\n",
              "      <td>1.0</td>\n",
              "      <td>1.0</td>\n",
              "      <td>1.0</td>\n",
              "      <td>1.0</td>\n",
              "      <td>1.0</td>\n",
              "      <td>1.0</td>\n",
              "      <td>1.0</td>\n",
              "      <td>5.293465e+06</td>\n",
              "      <td>77878</td>\n",
              "      <td>0.023464</td>\n",
              "      <td>0.195781</td>\n",
              "      <td>4713</td>\n",
              "      <td>2279.0</td>\n",
              "      <td>4</td>\n",
              "      <td>5212</td>\n",
              "      <td>10027.0</td>\n",
              "      <td>8</td>\n",
              "      <td>1</td>\n",
              "      <td>2729.0</td>\n",
              "      <td>3</td>\n",
              "      <td>0</td>\n",
              "      <td>2</td>\n",
              "      <td>2</td>\n",
              "      <td>0</td>\n",
              "      <td>2</td>\n",
              "      <td>6</td>\n",
              "      <td>115352</td>\n",
              "      <td>52813</td>\n",
              "      <td>62539</td>\n",
              "      <td>10600</td>\n",
              "      <td>5422</td>\n",
              "      <td>5178</td>\n",
              "      <td>49882</td>\n",
              "      <td>24603</td>\n",
              "      <td>25279</td>\n",
              "      <td>17396</td>\n",
              "      <td>5130</td>\n",
              "      <td>...</td>\n",
              "      <td>0</td>\n",
              "      <td>0</td>\n",
              "      <td>0</td>\n",
              "      <td>0</td>\n",
              "      <td>0</td>\n",
              "      <td>0</td>\n",
              "      <td>0</td>\n",
              "      <td>0</td>\n",
              "      <td>1</td>\n",
              "      <td>0</td>\n",
              "      <td>1</td>\n",
              "      <td>0</td>\n",
              "      <td>1</td>\n",
              "      <td>0</td>\n",
              "      <td>1</td>\n",
              "      <td>0</td>\n",
              "      <td>1</td>\n",
              "      <td>0</td>\n",
              "      <td>1</td>\n",
              "      <td>0</td>\n",
              "      <td>1</td>\n",
              "      <td>0</td>\n",
              "      <td>1</td>\n",
              "      <td>0</td>\n",
              "      <td>1</td>\n",
              "      <td>0</td>\n",
              "      <td>1</td>\n",
              "      <td>0</td>\n",
              "      <td>1</td>\n",
              "      <td>0</td>\n",
              "      <td>1</td>\n",
              "      <td>0</td>\n",
              "      <td>0</td>\n",
              "      <td>0</td>\n",
              "      <td>0</td>\n",
              "      <td>1</td>\n",
              "      <td>0</td>\n",
              "      <td>2014-12-26</td>\n",
              "      <td>1122</td>\n",
              "      <td>112</td>\n",
              "    </tr>\n",
              "    <tr>\n",
              "      <th>1</th>\n",
              "      <td>1</td>\n",
              "      <td>64</td>\n",
              "      <td>64.0</td>\n",
              "      <td>16.0</td>\n",
              "      <td>16.0</td>\n",
              "      <td>1.0</td>\n",
              "      <td>2014.0</td>\n",
              "      <td>2.0</td>\n",
              "      <td>1.0</td>\n",
              "      <td>1.0</td>\n",
              "      <td>6.677245e+07</td>\n",
              "      <td>9553</td>\n",
              "      <td>0.336177</td>\n",
              "      <td>0.072158</td>\n",
              "      <td>656</td>\n",
              "      <td>1065.0</td>\n",
              "      <td>0</td>\n",
              "      <td>629</td>\n",
              "      <td>3068.0</td>\n",
              "      <td>0</td>\n",
              "      <td>0</td>\n",
              "      <td>540.0</td>\n",
              "      <td>0</td>\n",
              "      <td>0</td>\n",
              "      <td>1</td>\n",
              "      <td>0</td>\n",
              "      <td>0</td>\n",
              "      <td>0</td>\n",
              "      <td>1</td>\n",
              "      <td>13890</td>\n",
              "      <td>6584</td>\n",
              "      <td>7307</td>\n",
              "      <td>1370</td>\n",
              "      <td>709</td>\n",
              "      <td>661</td>\n",
              "      <td>6127</td>\n",
              "      <td>3237</td>\n",
              "      <td>2890</td>\n",
              "      <td>2056</td>\n",
              "      <td>583</td>\n",
              "      <td>...</td>\n",
              "      <td>0</td>\n",
              "      <td>0</td>\n",
              "      <td>0</td>\n",
              "      <td>0</td>\n",
              "      <td>0</td>\n",
              "      <td>0</td>\n",
              "      <td>0</td>\n",
              "      <td>0</td>\n",
              "      <td>1</td>\n",
              "      <td>0</td>\n",
              "      <td>1</td>\n",
              "      <td>0</td>\n",
              "      <td>1</td>\n",
              "      <td>0</td>\n",
              "      <td>1</td>\n",
              "      <td>0</td>\n",
              "      <td>1</td>\n",
              "      <td>0</td>\n",
              "      <td>1</td>\n",
              "      <td>0</td>\n",
              "      <td>0</td>\n",
              "      <td>1</td>\n",
              "      <td>1</td>\n",
              "      <td>0</td>\n",
              "      <td>1</td>\n",
              "      <td>0</td>\n",
              "      <td>1</td>\n",
              "      <td>0</td>\n",
              "      <td>1</td>\n",
              "      <td>0</td>\n",
              "      <td>1</td>\n",
              "      <td>0</td>\n",
              "      <td>0</td>\n",
              "      <td>0</td>\n",
              "      <td>1</td>\n",
              "      <td>0</td>\n",
              "      <td>0</td>\n",
              "      <td>2012-10-04</td>\n",
              "      <td>327</td>\n",
              "      <td>68</td>\n",
              "    </tr>\n",
              "    <tr>\n",
              "      <th>2</th>\n",
              "      <td>2</td>\n",
              "      <td>83</td>\n",
              "      <td>44.0</td>\n",
              "      <td>9.0</td>\n",
              "      <td>17.0</td>\n",
              "      <td>1.0</td>\n",
              "      <td>1985.0</td>\n",
              "      <td>3.0</td>\n",
              "      <td>10.0</td>\n",
              "      <td>3.0</td>\n",
              "      <td>1.216448e+07</td>\n",
              "      <td>78507</td>\n",
              "      <td>0.297166</td>\n",
              "      <td>0.000000</td>\n",
              "      <td>4611</td>\n",
              "      <td>3092.0</td>\n",
              "      <td>7</td>\n",
              "      <td>5067</td>\n",
              "      <td>7478.0</td>\n",
              "      <td>7</td>\n",
              "      <td>0</td>\n",
              "      <td>125.0</td>\n",
              "      <td>2</td>\n",
              "      <td>0</td>\n",
              "      <td>14</td>\n",
              "      <td>1</td>\n",
              "      <td>0</td>\n",
              "      <td>6</td>\n",
              "      <td>4</td>\n",
              "      <td>67710</td>\n",
              "      <td>33382</td>\n",
              "      <td>34328</td>\n",
              "      <td>10175</td>\n",
              "      <td>5105</td>\n",
              "      <td>5070</td>\n",
              "      <td>48620</td>\n",
              "      <td>25579</td>\n",
              "      <td>23041</td>\n",
              "      <td>19712</td>\n",
              "      <td>6368</td>\n",
              "      <td>...</td>\n",
              "      <td>0</td>\n",
              "      <td>0</td>\n",
              "      <td>0</td>\n",
              "      <td>0</td>\n",
              "      <td>0</td>\n",
              "      <td>0</td>\n",
              "      <td>0</td>\n",
              "      <td>0</td>\n",
              "      <td>1</td>\n",
              "      <td>0</td>\n",
              "      <td>1</td>\n",
              "      <td>0</td>\n",
              "      <td>1</td>\n",
              "      <td>0</td>\n",
              "      <td>1</td>\n",
              "      <td>0</td>\n",
              "      <td>1</td>\n",
              "      <td>0</td>\n",
              "      <td>1</td>\n",
              "      <td>0</td>\n",
              "      <td>1</td>\n",
              "      <td>0</td>\n",
              "      <td>1</td>\n",
              "      <td>0</td>\n",
              "      <td>0</td>\n",
              "      <td>1</td>\n",
              "      <td>1</td>\n",
              "      <td>0</td>\n",
              "      <td>1</td>\n",
              "      <td>0</td>\n",
              "      <td>1</td>\n",
              "      <td>0</td>\n",
              "      <td>0</td>\n",
              "      <td>1</td>\n",
              "      <td>0</td>\n",
              "      <td>0</td>\n",
              "      <td>0</td>\n",
              "      <td>2014-02-05</td>\n",
              "      <td>752</td>\n",
              "      <td>192</td>\n",
              "    </tr>\n",
              "    <tr>\n",
              "      <th>3</th>\n",
              "      <td>3</td>\n",
              "      <td>71</td>\n",
              "      <td>49.0</td>\n",
              "      <td>2.0</td>\n",
              "      <td>13.0</td>\n",
              "      <td>1.0</td>\n",
              "      <td>2003.0</td>\n",
              "      <td>3.0</td>\n",
              "      <td>12.0</td>\n",
              "      <td>3.0</td>\n",
              "      <td>4.708040e+06</td>\n",
              "      <td>38075</td>\n",
              "      <td>0.271702</td>\n",
              "      <td>0.310199</td>\n",
              "      <td>2448</td>\n",
              "      <td>2080.0</td>\n",
              "      <td>3</td>\n",
              "      <td>2748</td>\n",
              "      <td>3885.0</td>\n",
              "      <td>4</td>\n",
              "      <td>0</td>\n",
              "      <td>1815.0</td>\n",
              "      <td>0</td>\n",
              "      <td>0</td>\n",
              "      <td>0</td>\n",
              "      <td>0</td>\n",
              "      <td>0</td>\n",
              "      <td>0</td>\n",
              "      <td>1</td>\n",
              "      <td>85219</td>\n",
              "      <td>39138</td>\n",
              "      <td>46081</td>\n",
              "      <td>5572</td>\n",
              "      <td>2978</td>\n",
              "      <td>2594</td>\n",
              "      <td>22413</td>\n",
              "      <td>11273</td>\n",
              "      <td>11140</td>\n",
              "      <td>10090</td>\n",
              "      <td>2911</td>\n",
              "      <td>...</td>\n",
              "      <td>0</td>\n",
              "      <td>0</td>\n",
              "      <td>0</td>\n",
              "      <td>0</td>\n",
              "      <td>0</td>\n",
              "      <td>0</td>\n",
              "      <td>0</td>\n",
              "      <td>0</td>\n",
              "      <td>1</td>\n",
              "      <td>0</td>\n",
              "      <td>1</td>\n",
              "      <td>0</td>\n",
              "      <td>1</td>\n",
              "      <td>0</td>\n",
              "      <td>1</td>\n",
              "      <td>0</td>\n",
              "      <td>1</td>\n",
              "      <td>0</td>\n",
              "      <td>1</td>\n",
              "      <td>0</td>\n",
              "      <td>1</td>\n",
              "      <td>0</td>\n",
              "      <td>1</td>\n",
              "      <td>0</td>\n",
              "      <td>1</td>\n",
              "      <td>0</td>\n",
              "      <td>1</td>\n",
              "      <td>0</td>\n",
              "      <td>1</td>\n",
              "      <td>0</td>\n",
              "      <td>1</td>\n",
              "      <td>0</td>\n",
              "      <td>0</td>\n",
              "      <td>0</td>\n",
              "      <td>1</td>\n",
              "      <td>0</td>\n",
              "      <td>0</td>\n",
              "      <td>2012-07-26</td>\n",
              "      <td>262</td>\n",
              "      <td>69</td>\n",
              "    </tr>\n",
              "    <tr>\n",
              "      <th>4</th>\n",
              "      <td>4</td>\n",
              "      <td>60</td>\n",
              "      <td>42.0</td>\n",
              "      <td>9.0</td>\n",
              "      <td>9.0</td>\n",
              "      <td>1.0</td>\n",
              "      <td>1970.0</td>\n",
              "      <td>3.0</td>\n",
              "      <td>6.0</td>\n",
              "      <td>2.0</td>\n",
              "      <td>1.428699e+07</td>\n",
              "      <td>157010</td>\n",
              "      <td>0.389354</td>\n",
              "      <td>0.194489</td>\n",
              "      <td>7751</td>\n",
              "      <td>5041.0</td>\n",
              "      <td>6</td>\n",
              "      <td>8004</td>\n",
              "      <td>11081.0</td>\n",
              "      <td>7</td>\n",
              "      <td>0</td>\n",
              "      <td>125.0</td>\n",
              "      <td>3</td>\n",
              "      <td>0</td>\n",
              "      <td>5</td>\n",
              "      <td>3</td>\n",
              "      <td>0</td>\n",
              "      <td>5</td>\n",
              "      <td>3</td>\n",
              "      <td>12327</td>\n",
              "      <td>5588</td>\n",
              "      <td>6739</td>\n",
              "      <td>16831</td>\n",
              "      <td>8637</td>\n",
              "      <td>8194</td>\n",
              "      <td>98260</td>\n",
              "      <td>47405</td>\n",
              "      <td>50855</td>\n",
              "      <td>41919</td>\n",
              "      <td>12424</td>\n",
              "      <td>...</td>\n",
              "      <td>0</td>\n",
              "      <td>0</td>\n",
              "      <td>0</td>\n",
              "      <td>0</td>\n",
              "      <td>0</td>\n",
              "      <td>0</td>\n",
              "      <td>0</td>\n",
              "      <td>0</td>\n",
              "      <td>1</td>\n",
              "      <td>0</td>\n",
              "      <td>1</td>\n",
              "      <td>0</td>\n",
              "      <td>1</td>\n",
              "      <td>0</td>\n",
              "      <td>1</td>\n",
              "      <td>0</td>\n",
              "      <td>0</td>\n",
              "      <td>1</td>\n",
              "      <td>1</td>\n",
              "      <td>0</td>\n",
              "      <td>1</td>\n",
              "      <td>0</td>\n",
              "      <td>1</td>\n",
              "      <td>0</td>\n",
              "      <td>1</td>\n",
              "      <td>0</td>\n",
              "      <td>0</td>\n",
              "      <td>1</td>\n",
              "      <td>1</td>\n",
              "      <td>0</td>\n",
              "      <td>1</td>\n",
              "      <td>0</td>\n",
              "      <td>0</td>\n",
              "      <td>1</td>\n",
              "      <td>0</td>\n",
              "      <td>0</td>\n",
              "      <td>0</td>\n",
              "      <td>2014-10-29</td>\n",
              "      <td>711</td>\n",
              "      <td>214</td>\n",
              "    </tr>\n",
              "    <tr>\n",
              "      <th>...</th>\n",
              "      <td>...</td>\n",
              "      <td>...</td>\n",
              "      <td>...</td>\n",
              "      <td>...</td>\n",
              "      <td>...</td>\n",
              "      <td>...</td>\n",
              "      <td>...</td>\n",
              "      <td>...</td>\n",
              "      <td>...</td>\n",
              "      <td>...</td>\n",
              "      <td>...</td>\n",
              "      <td>...</td>\n",
              "      <td>...</td>\n",
              "      <td>...</td>\n",
              "      <td>...</td>\n",
              "      <td>...</td>\n",
              "      <td>...</td>\n",
              "      <td>...</td>\n",
              "      <td>...</td>\n",
              "      <td>...</td>\n",
              "      <td>...</td>\n",
              "      <td>...</td>\n",
              "      <td>...</td>\n",
              "      <td>...</td>\n",
              "      <td>...</td>\n",
              "      <td>...</td>\n",
              "      <td>...</td>\n",
              "      <td>...</td>\n",
              "      <td>...</td>\n",
              "      <td>...</td>\n",
              "      <td>...</td>\n",
              "      <td>...</td>\n",
              "      <td>...</td>\n",
              "      <td>...</td>\n",
              "      <td>...</td>\n",
              "      <td>...</td>\n",
              "      <td>...</td>\n",
              "      <td>...</td>\n",
              "      <td>...</td>\n",
              "      <td>...</td>\n",
              "      <td>...</td>\n",
              "      <td>...</td>\n",
              "      <td>...</td>\n",
              "      <td>...</td>\n",
              "      <td>...</td>\n",
              "      <td>...</td>\n",
              "      <td>...</td>\n",
              "      <td>...</td>\n",
              "      <td>...</td>\n",
              "      <td>...</td>\n",
              "      <td>...</td>\n",
              "      <td>...</td>\n",
              "      <td>...</td>\n",
              "      <td>...</td>\n",
              "      <td>...</td>\n",
              "      <td>...</td>\n",
              "      <td>...</td>\n",
              "      <td>...</td>\n",
              "      <td>...</td>\n",
              "      <td>...</td>\n",
              "      <td>...</td>\n",
              "      <td>...</td>\n",
              "      <td>...</td>\n",
              "      <td>...</td>\n",
              "      <td>...</td>\n",
              "      <td>...</td>\n",
              "      <td>...</td>\n",
              "      <td>...</td>\n",
              "      <td>...</td>\n",
              "      <td>...</td>\n",
              "      <td>...</td>\n",
              "      <td>...</td>\n",
              "      <td>...</td>\n",
              "      <td>...</td>\n",
              "      <td>...</td>\n",
              "      <td>...</td>\n",
              "      <td>...</td>\n",
              "      <td>...</td>\n",
              "      <td>...</td>\n",
              "      <td>...</td>\n",
              "      <td>...</td>\n",
              "    </tr>\n",
              "    <tr>\n",
              "      <th>19995</th>\n",
              "      <td>19995</td>\n",
              "      <td>45</td>\n",
              "      <td>27.0</td>\n",
              "      <td>2.0</td>\n",
              "      <td>9.0</td>\n",
              "      <td>1.0</td>\n",
              "      <td>1978.0</td>\n",
              "      <td>2.0</td>\n",
              "      <td>5.0</td>\n",
              "      <td>2.0</td>\n",
              "      <td>2.481385e+07</td>\n",
              "      <td>174831</td>\n",
              "      <td>0.683844</td>\n",
              "      <td>0.037178</td>\n",
              "      <td>10712</td>\n",
              "      <td>4172.0</td>\n",
              "      <td>7</td>\n",
              "      <td>11217</td>\n",
              "      <td>10559.0</td>\n",
              "      <td>7</td>\n",
              "      <td>0</td>\n",
              "      <td>2300.0</td>\n",
              "      <td>1</td>\n",
              "      <td>0</td>\n",
              "      <td>7</td>\n",
              "      <td>7</td>\n",
              "      <td>0</td>\n",
              "      <td>7</td>\n",
              "      <td>1</td>\n",
              "      <td>178264</td>\n",
              "      <td>82799</td>\n",
              "      <td>95465</td>\n",
              "      <td>23483</td>\n",
              "      <td>12083</td>\n",
              "      <td>11400</td>\n",
              "      <td>105171</td>\n",
              "      <td>52848</td>\n",
              "      <td>52323</td>\n",
              "      <td>46177</td>\n",
              "      <td>14748</td>\n",
              "      <td>...</td>\n",
              "      <td>0</td>\n",
              "      <td>0</td>\n",
              "      <td>0</td>\n",
              "      <td>0</td>\n",
              "      <td>0</td>\n",
              "      <td>0</td>\n",
              "      <td>0</td>\n",
              "      <td>0</td>\n",
              "      <td>1</td>\n",
              "      <td>0</td>\n",
              "      <td>1</td>\n",
              "      <td>0</td>\n",
              "      <td>1</td>\n",
              "      <td>0</td>\n",
              "      <td>1</td>\n",
              "      <td>0</td>\n",
              "      <td>0</td>\n",
              "      <td>1</td>\n",
              "      <td>1</td>\n",
              "      <td>0</td>\n",
              "      <td>1</td>\n",
              "      <td>0</td>\n",
              "      <td>1</td>\n",
              "      <td>0</td>\n",
              "      <td>1</td>\n",
              "      <td>0</td>\n",
              "      <td>0</td>\n",
              "      <td>1</td>\n",
              "      <td>1</td>\n",
              "      <td>0</td>\n",
              "      <td>1</td>\n",
              "      <td>0</td>\n",
              "      <td>0</td>\n",
              "      <td>1</td>\n",
              "      <td>0</td>\n",
              "      <td>0</td>\n",
              "      <td>0</td>\n",
              "      <td>2014-09-22</td>\n",
              "      <td>734</td>\n",
              "      <td>181</td>\n",
              "    </tr>\n",
              "    <tr>\n",
              "      <th>19996</th>\n",
              "      <td>19996</td>\n",
              "      <td>38</td>\n",
              "      <td>38.0</td>\n",
              "      <td>4.0</td>\n",
              "      <td>17.0</td>\n",
              "      <td>1.0</td>\n",
              "      <td>2014.0</td>\n",
              "      <td>2.0</td>\n",
              "      <td>1.0</td>\n",
              "      <td>1.0</td>\n",
              "      <td>6.677245e+07</td>\n",
              "      <td>9553</td>\n",
              "      <td>0.336177</td>\n",
              "      <td>0.072158</td>\n",
              "      <td>656</td>\n",
              "      <td>1065.0</td>\n",
              "      <td>0</td>\n",
              "      <td>629</td>\n",
              "      <td>2367.0</td>\n",
              "      <td>0</td>\n",
              "      <td>0</td>\n",
              "      <td>350.0</td>\n",
              "      <td>0</td>\n",
              "      <td>0</td>\n",
              "      <td>1</td>\n",
              "      <td>0</td>\n",
              "      <td>0</td>\n",
              "      <td>0</td>\n",
              "      <td>1</td>\n",
              "      <td>13890</td>\n",
              "      <td>6584</td>\n",
              "      <td>7307</td>\n",
              "      <td>1370</td>\n",
              "      <td>709</td>\n",
              "      <td>661</td>\n",
              "      <td>6127</td>\n",
              "      <td>3237</td>\n",
              "      <td>2890</td>\n",
              "      <td>2056</td>\n",
              "      <td>583</td>\n",
              "      <td>...</td>\n",
              "      <td>0</td>\n",
              "      <td>0</td>\n",
              "      <td>0</td>\n",
              "      <td>0</td>\n",
              "      <td>0</td>\n",
              "      <td>0</td>\n",
              "      <td>0</td>\n",
              "      <td>0</td>\n",
              "      <td>1</td>\n",
              "      <td>0</td>\n",
              "      <td>1</td>\n",
              "      <td>0</td>\n",
              "      <td>1</td>\n",
              "      <td>0</td>\n",
              "      <td>1</td>\n",
              "      <td>0</td>\n",
              "      <td>1</td>\n",
              "      <td>0</td>\n",
              "      <td>1</td>\n",
              "      <td>0</td>\n",
              "      <td>0</td>\n",
              "      <td>1</td>\n",
              "      <td>1</td>\n",
              "      <td>0</td>\n",
              "      <td>1</td>\n",
              "      <td>0</td>\n",
              "      <td>1</td>\n",
              "      <td>0</td>\n",
              "      <td>1</td>\n",
              "      <td>0</td>\n",
              "      <td>1</td>\n",
              "      <td>0</td>\n",
              "      <td>0</td>\n",
              "      <td>0</td>\n",
              "      <td>1</td>\n",
              "      <td>0</td>\n",
              "      <td>0</td>\n",
              "      <td>2013-12-06</td>\n",
              "      <td>579</td>\n",
              "      <td>153</td>\n",
              "    </tr>\n",
              "    <tr>\n",
              "      <th>19997</th>\n",
              "      <td>19997</td>\n",
              "      <td>35</td>\n",
              "      <td>14.0</td>\n",
              "      <td>9.0</td>\n",
              "      <td>22.0</td>\n",
              "      <td>1.0</td>\n",
              "      <td>2001.0</td>\n",
              "      <td>1.0</td>\n",
              "      <td>10.0</td>\n",
              "      <td>2.0</td>\n",
              "      <td>1.004686e+07</td>\n",
              "      <td>76156</td>\n",
              "      <td>0.071056</td>\n",
              "      <td>0.246032</td>\n",
              "      <td>3816</td>\n",
              "      <td>3150.0</td>\n",
              "      <td>5</td>\n",
              "      <td>3151</td>\n",
              "      <td>5519.0</td>\n",
              "      <td>5</td>\n",
              "      <td>0</td>\n",
              "      <td>2715.0</td>\n",
              "      <td>3</td>\n",
              "      <td>1</td>\n",
              "      <td>7</td>\n",
              "      <td>6</td>\n",
              "      <td>0</td>\n",
              "      <td>3</td>\n",
              "      <td>4</td>\n",
              "      <td>130229</td>\n",
              "      <td>60619</td>\n",
              "      <td>69610</td>\n",
              "      <td>7296</td>\n",
              "      <td>3649</td>\n",
              "      <td>3647</td>\n",
              "      <td>52450</td>\n",
              "      <td>26354</td>\n",
              "      <td>26096</td>\n",
              "      <td>16410</td>\n",
              "      <td>4819</td>\n",
              "      <td>...</td>\n",
              "      <td>0</td>\n",
              "      <td>0</td>\n",
              "      <td>0</td>\n",
              "      <td>0</td>\n",
              "      <td>0</td>\n",
              "      <td>0</td>\n",
              "      <td>0</td>\n",
              "      <td>0</td>\n",
              "      <td>1</td>\n",
              "      <td>0</td>\n",
              "      <td>1</td>\n",
              "      <td>0</td>\n",
              "      <td>1</td>\n",
              "      <td>0</td>\n",
              "      <td>1</td>\n",
              "      <td>0</td>\n",
              "      <td>0</td>\n",
              "      <td>1</td>\n",
              "      <td>1</td>\n",
              "      <td>0</td>\n",
              "      <td>1</td>\n",
              "      <td>0</td>\n",
              "      <td>0</td>\n",
              "      <td>1</td>\n",
              "      <td>1</td>\n",
              "      <td>0</td>\n",
              "      <td>1</td>\n",
              "      <td>0</td>\n",
              "      <td>1</td>\n",
              "      <td>0</td>\n",
              "      <td>1</td>\n",
              "      <td>0</td>\n",
              "      <td>1</td>\n",
              "      <td>0</td>\n",
              "      <td>0</td>\n",
              "      <td>0</td>\n",
              "      <td>0</td>\n",
              "      <td>2014-06-26</td>\n",
              "      <td>861</td>\n",
              "      <td>277</td>\n",
              "    </tr>\n",
              "    <tr>\n",
              "      <th>19998</th>\n",
              "      <td>19998</td>\n",
              "      <td>51</td>\n",
              "      <td>30.0</td>\n",
              "      <td>8.0</td>\n",
              "      <td>17.0</td>\n",
              "      <td>1.0</td>\n",
              "      <td>2011.0</td>\n",
              "      <td>2.0</td>\n",
              "      <td>9.0</td>\n",
              "      <td>2.0</td>\n",
              "      <td>4.036700e+07</td>\n",
              "      <td>21819</td>\n",
              "      <td>0.492840</td>\n",
              "      <td>0.075779</td>\n",
              "      <td>1497</td>\n",
              "      <td>1427.0</td>\n",
              "      <td>0</td>\n",
              "      <td>1437</td>\n",
              "      <td>1924.0</td>\n",
              "      <td>0</td>\n",
              "      <td>0</td>\n",
              "      <td>800.0</td>\n",
              "      <td>0</td>\n",
              "      <td>0</td>\n",
              "      <td>3</td>\n",
              "      <td>3</td>\n",
              "      <td>0</td>\n",
              "      <td>2</td>\n",
              "      <td>3</td>\n",
              "      <td>7341</td>\n",
              "      <td>3445</td>\n",
              "      <td>3898</td>\n",
              "      <td>3128</td>\n",
              "      <td>1618</td>\n",
              "      <td>1510</td>\n",
              "      <td>13996</td>\n",
              "      <td>7394</td>\n",
              "      <td>6602</td>\n",
              "      <td>4695</td>\n",
              "      <td>1331</td>\n",
              "      <td>...</td>\n",
              "      <td>0</td>\n",
              "      <td>0</td>\n",
              "      <td>0</td>\n",
              "      <td>0</td>\n",
              "      <td>0</td>\n",
              "      <td>0</td>\n",
              "      <td>0</td>\n",
              "      <td>0</td>\n",
              "      <td>1</td>\n",
              "      <td>0</td>\n",
              "      <td>1</td>\n",
              "      <td>0</td>\n",
              "      <td>1</td>\n",
              "      <td>0</td>\n",
              "      <td>1</td>\n",
              "      <td>0</td>\n",
              "      <td>1</td>\n",
              "      <td>0</td>\n",
              "      <td>1</td>\n",
              "      <td>0</td>\n",
              "      <td>1</td>\n",
              "      <td>0</td>\n",
              "      <td>1</td>\n",
              "      <td>0</td>\n",
              "      <td>1</td>\n",
              "      <td>0</td>\n",
              "      <td>1</td>\n",
              "      <td>0</td>\n",
              "      <td>1</td>\n",
              "      <td>0</td>\n",
              "      <td>1</td>\n",
              "      <td>0</td>\n",
              "      <td>0</td>\n",
              "      <td>0</td>\n",
              "      <td>1</td>\n",
              "      <td>0</td>\n",
              "      <td>0</td>\n",
              "      <td>2014-01-21</td>\n",
              "      <td>573</td>\n",
              "      <td>164</td>\n",
              "    </tr>\n",
              "    <tr>\n",
              "      <th>19999</th>\n",
              "      <td>19999</td>\n",
              "      <td>54</td>\n",
              "      <td>32.0</td>\n",
              "      <td>9.0</td>\n",
              "      <td>12.0</td>\n",
              "      <td>1.0</td>\n",
              "      <td>1975.0</td>\n",
              "      <td>2.0</td>\n",
              "      <td>7.0</td>\n",
              "      <td>2.0</td>\n",
              "      <td>7.811375e+06</td>\n",
              "      <td>153248</td>\n",
              "      <td>0.127002</td>\n",
              "      <td>0.135650</td>\n",
              "      <td>7517</td>\n",
              "      <td>2627.0</td>\n",
              "      <td>5</td>\n",
              "      <td>7960</td>\n",
              "      <td>9650.0</td>\n",
              "      <td>5</td>\n",
              "      <td>0</td>\n",
              "      <td>350.0</td>\n",
              "      <td>3</td>\n",
              "      <td>0</td>\n",
              "      <td>11</td>\n",
              "      <td>3</td>\n",
              "      <td>0</td>\n",
              "      <td>11</td>\n",
              "      <td>6</td>\n",
              "      <td>123000</td>\n",
              "      <td>58226</td>\n",
              "      <td>64774</td>\n",
              "      <td>16468</td>\n",
              "      <td>8851</td>\n",
              "      <td>7617</td>\n",
              "      <td>100062</td>\n",
              "      <td>55456</td>\n",
              "      <td>44606</td>\n",
              "      <td>36718</td>\n",
              "      <td>11958</td>\n",
              "      <td>...</td>\n",
              "      <td>0</td>\n",
              "      <td>0</td>\n",
              "      <td>0</td>\n",
              "      <td>0</td>\n",
              "      <td>0</td>\n",
              "      <td>0</td>\n",
              "      <td>0</td>\n",
              "      <td>0</td>\n",
              "      <td>1</td>\n",
              "      <td>0</td>\n",
              "      <td>1</td>\n",
              "      <td>0</td>\n",
              "      <td>1</td>\n",
              "      <td>0</td>\n",
              "      <td>1</td>\n",
              "      <td>0</td>\n",
              "      <td>0</td>\n",
              "      <td>1</td>\n",
              "      <td>1</td>\n",
              "      <td>0</td>\n",
              "      <td>1</td>\n",
              "      <td>0</td>\n",
              "      <td>1</td>\n",
              "      <td>0</td>\n",
              "      <td>1</td>\n",
              "      <td>0</td>\n",
              "      <td>1</td>\n",
              "      <td>0</td>\n",
              "      <td>1</td>\n",
              "      <td>0</td>\n",
              "      <td>1</td>\n",
              "      <td>0</td>\n",
              "      <td>0</td>\n",
              "      <td>0</td>\n",
              "      <td>0</td>\n",
              "      <td>0</td>\n",
              "      <td>1</td>\n",
              "      <td>2012-04-09</td>\n",
              "      <td>210</td>\n",
              "      <td>61</td>\n",
              "    </tr>\n",
              "  </tbody>\n",
              "</table>\n",
              "<p>20000 rows × 456 columns</p>\n",
              "</div>"
            ],
            "text/plain": [
              "          id  full_sq  life_sq  ...  timestamp  month_year_cnt  week_year_cnt\n",
              "0          0        1      1.0  ... 2014-12-26            1122            112\n",
              "1          1       64     64.0  ... 2012-10-04             327             68\n",
              "2          2       83     44.0  ... 2014-02-05             752            192\n",
              "3          3       71     49.0  ... 2012-07-26             262             69\n",
              "4          4       60     42.0  ... 2014-10-29             711            214\n",
              "...      ...      ...      ...  ...        ...             ...            ...\n",
              "19995  19995       45     27.0  ... 2014-09-22             734            181\n",
              "19996  19996       38     38.0  ... 2013-12-06             579            153\n",
              "19997  19997       35     14.0  ... 2014-06-26             861            277\n",
              "19998  19998       51     30.0  ... 2014-01-21             573            164\n",
              "19999  19999       54     32.0  ... 2012-04-09             210             61\n",
              "\n",
              "[20000 rows x 456 columns]"
            ]
          },
          "metadata": {},
          "execution_count": 24
        }
      ]
    },
    {
      "cell_type": "markdown",
      "metadata": {
        "id": "pCajk45_KDSz"
      },
      "source": [
        "Добавьте следюущие дополнительные признаки:\n",
        "* Месяц (из колонки `timestamp`)\n",
        "* День недели (из колонки `timestamp`)\n",
        "* Отношение \"этаж / максимальный этаж в здании\" (колонки `floor` и `max_floor`)\n",
        "* Отношение \"площадь кухни / площадь квартиры\" (колонки `kitchen_sq` и `full_sq`)\n",
        "\n",
        "По желанию можно добавить и другие признаки."
      ]
    },
    {
      "cell_type": "markdown",
      "source": [
        "Поменяем те ячейки, в которых максимальное количество этажей в доме меньше чем количество этажей в квартире"
      ],
      "metadata": {
        "id": "N1PHdVBBFbMS"
      }
    },
    {
      "cell_type": "code",
      "source": [
        "df['max_floor'][df['floor'] > df['max_floor']] = df['floor']"
      ],
      "metadata": {
        "colab": {
          "base_uri": "https://localhost:8080/"
        },
        "id": "gHdWjvIbVWi_",
        "outputId": "47b042ff-5d5a-46d0-81f7-9faaab358b9e"
      },
      "execution_count": null,
      "outputs": [
        {
          "output_type": "stream",
          "name": "stderr",
          "text": [
            "/usr/local/lib/python3.7/dist-packages/ipykernel_launcher.py:1: SettingWithCopyWarning: \n",
            "A value is trying to be set on a copy of a slice from a DataFrame\n",
            "\n",
            "See the caveats in the documentation: https://pandas.pydata.org/pandas-docs/stable/user_guide/indexing.html#returning-a-view-versus-a-copy\n",
            "  \"\"\"Entry point for launching an IPython kernel.\n"
          ]
        }
      ]
    },
    {
      "cell_type": "code",
      "execution_count": null,
      "metadata": {
        "id": "dXZkoUL8Kve6"
      },
      "outputs": [],
      "source": [
        "df['month'] = df.timestamp.dt.month\n",
        "df['weekday'] = df.timestamp.dt.weekday\n",
        "df['ratio_of_floors'] = df['floor'] / df['max_floor']\n",
        "df['ratio_of_squares'] = df['kitch_sq'] / df['full_sq']"
      ]
    },
    {
      "cell_type": "markdown",
      "metadata": {
        "id": "_-jCowvWLiXZ"
      },
      "source": [
        "Разделите выборку на обучающую и тестовую еще раз (потому что дополнительные признаки созданы для исходной выборки)."
      ]
    },
    {
      "cell_type": "code",
      "execution_count": null,
      "metadata": {
        "id": "0f-vO3LcLhdf"
      },
      "outputs": [],
      "source": [
        "X = df.drop(labels=['price'], axis=1)\n",
        "y = df.price\n",
        "X_train, X_test, y_train, y_test = train_test_split(X, y, test_size=0.2, random_state=42)"
      ]
    },
    {
      "cell_type": "code",
      "source": [
        "columns_with_missed_values = df.isna().sum()[df.isna().sum() > 0].index\n",
        "columns_with_missed_values, df.isna().sum().sum()"
      ],
      "metadata": {
        "colab": {
          "base_uri": "https://localhost:8080/"
        },
        "id": "uzKNWZxlPBhN",
        "outputId": "8ba11a53-b6e0-4059-c087-cf2f9f9463c2"
      },
      "execution_count": null,
      "outputs": [
        {
          "output_type": "execute_result",
          "data": {
            "text/plain": [
              "(Index(['ratio_of_floors', 'ratio_of_squares'], dtype='object'), 4)"
            ]
          },
          "metadata": {},
          "execution_count": 32
        }
      ]
    },
    {
      "cell_type": "markdown",
      "source": [
        "Есть пропуски в данных"
      ],
      "metadata": {
        "id": "Q1dQ4Gn8F7XE"
      }
    },
    {
      "cell_type": "code",
      "source": [
        "# df[df.ratio_of_floors == np.nan]\n",
        "df[['floor', 'max_floor']][df['ratio_of_floors'].isnull()]"
      ],
      "metadata": {
        "colab": {
          "base_uri": "https://localhost:8080/",
          "height": 142
        },
        "id": "YVUl_ExhQtJ3",
        "outputId": "f036c6dc-c0fa-4ffb-b8a7-1c4643abd678"
      },
      "execution_count": null,
      "outputs": [
        {
          "output_type": "execute_result",
          "data": {
            "text/html": [
              "<div>\n",
              "<style scoped>\n",
              "    .dataframe tbody tr th:only-of-type {\n",
              "        vertical-align: middle;\n",
              "    }\n",
              "\n",
              "    .dataframe tbody tr th {\n",
              "        vertical-align: top;\n",
              "    }\n",
              "\n",
              "    .dataframe thead th {\n",
              "        text-align: right;\n",
              "    }\n",
              "</style>\n",
              "<table border=\"1\" class=\"dataframe\">\n",
              "  <thead>\n",
              "    <tr style=\"text-align: right;\">\n",
              "      <th></th>\n",
              "      <th>floor</th>\n",
              "      <th>max_floor</th>\n",
              "    </tr>\n",
              "  </thead>\n",
              "  <tbody>\n",
              "    <tr>\n",
              "      <th>1201</th>\n",
              "      <td>0.0</td>\n",
              "      <td>0.0</td>\n",
              "    </tr>\n",
              "    <tr>\n",
              "      <th>8974</th>\n",
              "      <td>0.0</td>\n",
              "      <td>0.0</td>\n",
              "    </tr>\n",
              "    <tr>\n",
              "      <th>18527</th>\n",
              "      <td>0.0</td>\n",
              "      <td>0.0</td>\n",
              "    </tr>\n",
              "  </tbody>\n",
              "</table>\n",
              "</div>"
            ],
            "text/plain": [
              "       floor  max_floor\n",
              "1201     0.0        0.0\n",
              "8974     0.0        0.0\n",
              "18527    0.0        0.0"
            ]
          },
          "metadata": {},
          "execution_count": 33
        }
      ]
    },
    {
      "cell_type": "code",
      "source": [
        "df[['kitch_sq', 'full_sq']][df['ratio_of_squares'].isnull()]"
      ],
      "metadata": {
        "colab": {
          "base_uri": "https://localhost:8080/",
          "height": 80
        },
        "id": "9EBy3SqtSdXx",
        "outputId": "8c8e66a6-bbd4-44ae-fb02-0c8ee1f64913"
      },
      "execution_count": null,
      "outputs": [
        {
          "output_type": "execute_result",
          "data": {
            "text/html": [
              "<div>\n",
              "<style scoped>\n",
              "    .dataframe tbody tr th:only-of-type {\n",
              "        vertical-align: middle;\n",
              "    }\n",
              "\n",
              "    .dataframe tbody tr th {\n",
              "        vertical-align: top;\n",
              "    }\n",
              "\n",
              "    .dataframe thead th {\n",
              "        text-align: right;\n",
              "    }\n",
              "</style>\n",
              "<table border=\"1\" class=\"dataframe\">\n",
              "  <thead>\n",
              "    <tr style=\"text-align: right;\">\n",
              "      <th></th>\n",
              "      <th>kitch_sq</th>\n",
              "      <th>full_sq</th>\n",
              "    </tr>\n",
              "  </thead>\n",
              "  <tbody>\n",
              "    <tr>\n",
              "      <th>4007</th>\n",
              "      <td>0.0</td>\n",
              "      <td>0</td>\n",
              "    </tr>\n",
              "  </tbody>\n",
              "</table>\n",
              "</div>"
            ],
            "text/plain": [
              "      kitch_sq  full_sq\n",
              "4007       0.0        0"
            ]
          },
          "metadata": {},
          "execution_count": 34
        }
      ]
    },
    {
      "cell_type": "markdown",
      "source": [
        "Просто удалим данные пропуски"
      ],
      "metadata": {
        "id": "ceGHnrqWF-oa"
      }
    },
    {
      "cell_type": "code",
      "source": [
        "df.drop(df[['floor', 'max_floor']][df['ratio_of_floors'].isnull()].index, inplace=True)\n",
        "df.drop(df[['kitch_sq', 'full_sq']][df['ratio_of_squares'].isnull()].index, inplace=True)"
      ],
      "metadata": {
        "id": "1vShbw2eSoMV"
      },
      "execution_count": null,
      "outputs": []
    },
    {
      "cell_type": "code",
      "source": [
        "df[['kitch_sq', 'full_sq', 'ratio_of_squares']][df['ratio_of_squares'] > 1] "
      ],
      "metadata": {
        "colab": {
          "base_uri": "https://localhost:8080/",
          "height": 758
        },
        "id": "i6zMQoyRT9gF",
        "outputId": "a7afa468-e766-4c56-952f-1f364aba089b"
      },
      "execution_count": null,
      "outputs": [
        {
          "output_type": "execute_result",
          "data": {
            "text/html": [
              "<div>\n",
              "<style scoped>\n",
              "    .dataframe tbody tr th:only-of-type {\n",
              "        vertical-align: middle;\n",
              "    }\n",
              "\n",
              "    .dataframe tbody tr th {\n",
              "        vertical-align: top;\n",
              "    }\n",
              "\n",
              "    .dataframe thead th {\n",
              "        text-align: right;\n",
              "    }\n",
              "</style>\n",
              "<table border=\"1\" class=\"dataframe\">\n",
              "  <thead>\n",
              "    <tr style=\"text-align: right;\">\n",
              "      <th></th>\n",
              "      <th>kitch_sq</th>\n",
              "      <th>full_sq</th>\n",
              "      <th>ratio_of_squares</th>\n",
              "    </tr>\n",
              "  </thead>\n",
              "  <tbody>\n",
              "    <tr>\n",
              "      <th>554</th>\n",
              "      <td>43.0</td>\n",
              "      <td>29</td>\n",
              "      <td>1.482759</td>\n",
              "    </tr>\n",
              "    <tr>\n",
              "      <th>626</th>\n",
              "      <td>39.0</td>\n",
              "      <td>35</td>\n",
              "      <td>1.114286</td>\n",
              "    </tr>\n",
              "    <tr>\n",
              "      <th>761</th>\n",
              "      <td>73.0</td>\n",
              "      <td>37</td>\n",
              "      <td>1.972973</td>\n",
              "    </tr>\n",
              "    <tr>\n",
              "      <th>1302</th>\n",
              "      <td>63.0</td>\n",
              "      <td>42</td>\n",
              "      <td>1.500000</td>\n",
              "    </tr>\n",
              "    <tr>\n",
              "      <th>1700</th>\n",
              "      <td>9.0</td>\n",
              "      <td>5</td>\n",
              "      <td>1.800000</td>\n",
              "    </tr>\n",
              "    <tr>\n",
              "      <th>1959</th>\n",
              "      <td>96.0</td>\n",
              "      <td>73</td>\n",
              "      <td>1.315068</td>\n",
              "    </tr>\n",
              "    <tr>\n",
              "      <th>2095</th>\n",
              "      <td>2013.0</td>\n",
              "      <td>79</td>\n",
              "      <td>25.481013</td>\n",
              "    </tr>\n",
              "    <tr>\n",
              "      <th>2157</th>\n",
              "      <td>112.0</td>\n",
              "      <td>40</td>\n",
              "      <td>2.800000</td>\n",
              "    </tr>\n",
              "    <tr>\n",
              "      <th>2310</th>\n",
              "      <td>2013.0</td>\n",
              "      <td>79</td>\n",
              "      <td>25.481013</td>\n",
              "    </tr>\n",
              "    <tr>\n",
              "      <th>3354</th>\n",
              "      <td>112.0</td>\n",
              "      <td>77</td>\n",
              "      <td>1.454545</td>\n",
              "    </tr>\n",
              "    <tr>\n",
              "      <th>3452</th>\n",
              "      <td>43.0</td>\n",
              "      <td>40</td>\n",
              "      <td>1.075000</td>\n",
              "    </tr>\n",
              "    <tr>\n",
              "      <th>3800</th>\n",
              "      <td>112.0</td>\n",
              "      <td>76</td>\n",
              "      <td>1.473684</td>\n",
              "    </tr>\n",
              "    <tr>\n",
              "      <th>4062</th>\n",
              "      <td>620.0</td>\n",
              "      <td>38</td>\n",
              "      <td>16.315789</td>\n",
              "    </tr>\n",
              "    <tr>\n",
              "      <th>6574</th>\n",
              "      <td>61.0</td>\n",
              "      <td>40</td>\n",
              "      <td>1.525000</td>\n",
              "    </tr>\n",
              "    <tr>\n",
              "      <th>7341</th>\n",
              "      <td>40.0</td>\n",
              "      <td>35</td>\n",
              "      <td>1.142857</td>\n",
              "    </tr>\n",
              "    <tr>\n",
              "      <th>8257</th>\n",
              "      <td>84.0</td>\n",
              "      <td>34</td>\n",
              "      <td>2.470588</td>\n",
              "    </tr>\n",
              "    <tr>\n",
              "      <th>8716</th>\n",
              "      <td>112.0</td>\n",
              "      <td>79</td>\n",
              "      <td>1.417722</td>\n",
              "    </tr>\n",
              "    <tr>\n",
              "      <th>10781</th>\n",
              "      <td>79.0</td>\n",
              "      <td>71</td>\n",
              "      <td>1.112676</td>\n",
              "    </tr>\n",
              "    <tr>\n",
              "      <th>12159</th>\n",
              "      <td>1974.0</td>\n",
              "      <td>31</td>\n",
              "      <td>63.677419</td>\n",
              "    </tr>\n",
              "    <tr>\n",
              "      <th>12239</th>\n",
              "      <td>96.0</td>\n",
              "      <td>38</td>\n",
              "      <td>2.526316</td>\n",
              "    </tr>\n",
              "    <tr>\n",
              "      <th>15164</th>\n",
              "      <td>2014.0</td>\n",
              "      <td>43</td>\n",
              "      <td>46.837209</td>\n",
              "    </tr>\n",
              "    <tr>\n",
              "      <th>18865</th>\n",
              "      <td>86.0</td>\n",
              "      <td>38</td>\n",
              "      <td>2.263158</td>\n",
              "    </tr>\n",
              "    <tr>\n",
              "      <th>19368</th>\n",
              "      <td>79.0</td>\n",
              "      <td>65</td>\n",
              "      <td>1.215385</td>\n",
              "    </tr>\n",
              "  </tbody>\n",
              "</table>\n",
              "</div>"
            ],
            "text/plain": [
              "       kitch_sq  full_sq  ratio_of_squares\n",
              "554        43.0       29          1.482759\n",
              "626        39.0       35          1.114286\n",
              "761        73.0       37          1.972973\n",
              "1302       63.0       42          1.500000\n",
              "1700        9.0        5          1.800000\n",
              "1959       96.0       73          1.315068\n",
              "2095     2013.0       79         25.481013\n",
              "2157      112.0       40          2.800000\n",
              "2310     2013.0       79         25.481013\n",
              "3354      112.0       77          1.454545\n",
              "3452       43.0       40          1.075000\n",
              "3800      112.0       76          1.473684\n",
              "4062      620.0       38         16.315789\n",
              "6574       61.0       40          1.525000\n",
              "7341       40.0       35          1.142857\n",
              "8257       84.0       34          2.470588\n",
              "8716      112.0       79          1.417722\n",
              "10781      79.0       71          1.112676\n",
              "12159    1974.0       31         63.677419\n",
              "12239      96.0       38          2.526316\n",
              "15164    2014.0       43         46.837209\n",
              "18865      86.0       38          2.263158\n",
              "19368      79.0       65          1.215385"
            ]
          },
          "metadata": {},
          "execution_count": 22
        }
      ]
    },
    {
      "cell_type": "markdown",
      "source": [
        "Тоже небольшая странность, площадь кухни больше площади квартиры, просто удалим данные строки"
      ],
      "metadata": {
        "id": "S2QXKXpkGEdZ"
      }
    },
    {
      "cell_type": "code",
      "source": [
        "df.drop(df[['kitch_sq', 'full_sq', 'ratio_of_squares']][df['ratio_of_squares'] > 1].index, inplace=True)"
      ],
      "metadata": {
        "id": "cCLpmbKqXEnF"
      },
      "execution_count": null,
      "outputs": []
    },
    {
      "cell_type": "code",
      "source": [
        "X = df.drop(labels=['price', 'timestamp'], axis=1)\n",
        "y = df.price\n",
        "X_train, X_test, y_train, y_test = train_test_split(X, y, test_size=0.2, random_state=42)"
      ],
      "metadata": {
        "id": "W9f8GiF_Sxjc"
      },
      "execution_count": null,
      "outputs": []
    },
    {
      "cell_type": "markdown",
      "metadata": {
        "id": "CPtzkpFEvBw9"
      },
      "source": [
        "### Model Selection (3 балла)\n",
        "\n",
        "Посмотрите, какого качества можно добиться если использовать разные модели:\n",
        "* `DecisionTreeRegressor` из `sklearn`\n",
        "* `RandomForestRegressor` из `sklearn`\n",
        "* `CatBoostRegressor`\n",
        "\n",
        "Также вы можете попробовать линейные модели, другие бустинги (`LigthGBM` и `XGBoost`).\n",
        "\n",
        "Почти все библиотеки поддерживают удобный способ подбора гиперпараметров: посмотрите как это делать в [sklearn](https://scikit-learn.org/stable/modules/generated/sklearn.model_selection.GridSearchCV.html) или в [catboost](https://catboost.ai/docs/concepts/python-reference_catboostregressor_grid_search.html).\n",
        "\n",
        "Проверяйте качество каждой модели на тестовой выборке и выберите наилучшую."
      ]
    },
    {
      "cell_type": "code",
      "source": [
        "clf = DecisionTreeRegressor(random_state=42)"
      ],
      "metadata": {
        "id": "sJkSql5nXTMB"
      },
      "execution_count": null,
      "outputs": []
    },
    {
      "cell_type": "markdown",
      "source": [
        "RMSE на тестовой выборке у decision tree"
      ],
      "metadata": {
        "id": "eLMTqIKMgd0-"
      }
    },
    {
      "cell_type": "code",
      "execution_count": null,
      "metadata": {
        "id": "PZstXx6uNRfE",
        "colab": {
          "base_uri": "https://localhost:8080/"
        },
        "outputId": "b1d5cb7e-056c-43db-8ab3-8e11f1fbd919"
      },
      "outputs": [
        {
          "output_type": "execute_result",
          "data": {
            "text/plain": [
              "3919642.10369074"
            ]
          },
          "metadata": {},
          "execution_count": 155
        }
      ],
      "source": [
        "clf.fit(X_train, y_train)\n",
        "y_pred_tree = clf.predict(X_test)\n",
        "mean_squared_error(y_test, y_pred_tree, squared=False)"
      ]
    },
    {
      "cell_type": "markdown",
      "source": [
        "RMSE на кросс-валидации у decision tree:"
      ],
      "metadata": {
        "id": "KIgkbKAoYYJr"
      }
    },
    {
      "cell_type": "code",
      "source": [
        "-np.mean(cross_val_score(\n",
        "                        clf,\n",
        "                        X, \n",
        "                        y, \n",
        "                        cv=5, \n",
        "                        scoring='neg_root_mean_squared_error',\n",
        "                        )\n",
        "        )"
      ],
      "metadata": {
        "colab": {
          "base_uri": "https://localhost:8080/"
        },
        "id": "z3LgYGiBXsao",
        "outputId": "0730cfb7-abae-4781-e6ee-d126c9c6abe2"
      },
      "execution_count": null,
      "outputs": [
        {
          "output_type": "execute_result",
          "data": {
            "text/plain": [
              "3782082.9981625294"
            ]
          },
          "metadata": {},
          "execution_count": 156
        }
      ]
    },
    {
      "cell_type": "markdown",
      "source": [
        "Результат стал немного лучше после feature engineering, но все равно плохой"
      ],
      "metadata": {
        "id": "02cPcJsFYbhl"
      }
    },
    {
      "cell_type": "code",
      "source": [
        "from sklearn.ensemble import RandomForestRegressor"
      ],
      "metadata": {
        "id": "WURsdfodYor3"
      },
      "execution_count": null,
      "outputs": []
    },
    {
      "cell_type": "code",
      "source": [
        "rf = RandomForestRegressor()"
      ],
      "metadata": {
        "id": "R7SekoDYY1fN"
      },
      "execution_count": null,
      "outputs": []
    },
    {
      "cell_type": "code",
      "source": [
        "rf.fit(X_train, y_train)\n",
        "y_pred_rf = rf.predict(X_test)"
      ],
      "metadata": {
        "id": "96vdyGxWfBZJ"
      },
      "execution_count": null,
      "outputs": []
    },
    {
      "cell_type": "markdown",
      "source": [
        "RMSE на тестовой выборке у random forest"
      ],
      "metadata": {
        "id": "r3jsRU_qgSFA"
      }
    },
    {
      "cell_type": "code",
      "source": [
        "mean_squared_error(y_test, y_pred_rf, squared=False)"
      ],
      "metadata": {
        "colab": {
          "base_uri": "https://localhost:8080/"
        },
        "id": "jpYPUC9igNzX",
        "outputId": "a34bd2c2-c332-46ea-f583-547db1eca5ee"
      },
      "execution_count": null,
      "outputs": [
        {
          "output_type": "execute_result",
          "data": {
            "text/plain": [
              "2698204.4652805626"
            ]
          },
          "metadata": {},
          "execution_count": 162
        }
      ]
    },
    {
      "cell_type": "markdown",
      "source": [
        "RMSE на кросс-валидации у random forest"
      ],
      "metadata": {
        "id": "exLHepnPHdgO"
      }
    },
    {
      "cell_type": "code",
      "source": [
        "-np.mean(cross_val_score(\n",
        "                        rf,\n",
        "                        X, \n",
        "                        y, \n",
        "                        cv=5, \n",
        "                        scoring='neg_root_mean_squared_error',\n",
        "                        )\n",
        "        )"
      ],
      "metadata": {
        "colab": {
          "base_uri": "https://localhost:8080/"
        },
        "id": "MWarUzN_Y-0g",
        "outputId": "2ee29aa1-7bfc-4867-8231-8c4ddf84eb4c"
      },
      "execution_count": null,
      "outputs": [
        {
          "output_type": "execute_result",
          "data": {
            "text/plain": [
              "2683292.178013331"
            ]
          },
          "metadata": {},
          "execution_count": 160
        }
      ]
    },
    {
      "cell_type": "markdown",
      "source": [
        "Так как я воспользовался one-hot кодированием, чего не надо делать, когда используем catboost, поэтому я удалю данные колонки и верну все как было для категориальных признаков"
      ],
      "metadata": {
        "id": "mZUyYb1hjvlA"
      }
    },
    {
      "cell_type": "code",
      "source": [
        "df1 = df.copy()"
      ],
      "metadata": {
        "id": "s03_x7NctMVE"
      },
      "execution_count": null,
      "outputs": []
    },
    {
      "cell_type": "code",
      "source": [
        "data = pd.read_csv(\"data.csv\", parse_dates=[\"timestamp\"])"
      ],
      "metadata": {
        "id": "AmaFSN1tpzbi"
      },
      "execution_count": null,
      "outputs": []
    },
    {
      "cell_type": "code",
      "source": [
        "will_be_deleted_columns = df1.iloc[:, -6:]"
      ],
      "metadata": {
        "id": "t4ehc4QW3HVz"
      },
      "execution_count": null,
      "outputs": []
    },
    {
      "cell_type": "code",
      "source": [
        "need_columns = set(data.columns).difference(set(df1.columns))\n",
        "unwanted_columns = set(df1.columns).difference(set(data.columns))"
      ],
      "metadata": {
        "id": "-M68DoxP1uLz"
      },
      "execution_count": null,
      "outputs": []
    },
    {
      "cell_type": "code",
      "source": [
        "df1.drop(unwanted_columns, axis=1, inplace=True)"
      ],
      "metadata": {
        "id": "Sbb_ty7AFNJ1"
      },
      "execution_count": null,
      "outputs": []
    },
    {
      "cell_type": "code",
      "source": [
        "df1 = df1.join(data[need_columns], how='left', lsuffix='_left', rsuffix='_right')"
      ],
      "metadata": {
        "id": "WWIT6yAHFbCS"
      },
      "execution_count": null,
      "outputs": []
    },
    {
      "cell_type": "code",
      "source": [
        "df1 = df1.join(df[will_be_deleted_columns.columns], how='left', lsuffix='_left', rsuffix='_right')"
      ],
      "metadata": {
        "id": "beBzD08VGI2-"
      },
      "execution_count": null,
      "outputs": []
    },
    {
      "cell_type": "code",
      "source": [
        "X_1 = df1.drop(['price', 'timestamp', 'id'], axis=1)\n",
        "y_1 = df1.price"
      ],
      "metadata": {
        "id": "t8HT-dRGKz-G"
      },
      "execution_count": null,
      "outputs": []
    },
    {
      "cell_type": "code",
      "source": [
        "X_train_1, X_test_1, y_train_1, y_test_1 = train_test_split(X_1, y_1, test_size=0.2, random_state=42)"
      ],
      "metadata": {
        "id": "BBFZG0ylK-4f"
      },
      "execution_count": null,
      "outputs": []
    },
    {
      "cell_type": "code",
      "source": [
        "!pip install catboost"
      ],
      "metadata": {
        "colab": {
          "base_uri": "https://localhost:8080/"
        },
        "id": "aroubPJ_KEgK",
        "outputId": "5b397835-057c-4b8e-b614-eb9f807f4c34"
      },
      "execution_count": null,
      "outputs": [
        {
          "output_type": "stream",
          "name": "stdout",
          "text": [
            "Collecting catboost\n",
            "  Downloading catboost-1.0.3-cp37-none-manylinux1_x86_64.whl (76.3 MB)\n",
            "\u001b[K     |████████████████████████████████| 76.3 MB 1.3 MB/s \n",
            "\u001b[?25hRequirement already satisfied: pandas>=0.24.0 in /usr/local/lib/python3.7/dist-packages (from catboost) (1.1.5)\n",
            "Requirement already satisfied: scipy in /usr/local/lib/python3.7/dist-packages (from catboost) (1.4.1)\n",
            "Requirement already satisfied: graphviz in /usr/local/lib/python3.7/dist-packages (from catboost) (0.10.1)\n",
            "Requirement already satisfied: matplotlib in /usr/local/lib/python3.7/dist-packages (from catboost) (3.2.2)\n",
            "Requirement already satisfied: six in /usr/local/lib/python3.7/dist-packages (from catboost) (1.15.0)\n",
            "Requirement already satisfied: numpy>=1.16.0 in /usr/local/lib/python3.7/dist-packages (from catboost) (1.19.5)\n",
            "Requirement already satisfied: plotly in /usr/local/lib/python3.7/dist-packages (from catboost) (4.4.1)\n",
            "Requirement already satisfied: python-dateutil>=2.7.3 in /usr/local/lib/python3.7/dist-packages (from pandas>=0.24.0->catboost) (2.8.2)\n",
            "Requirement already satisfied: pytz>=2017.2 in /usr/local/lib/python3.7/dist-packages (from pandas>=0.24.0->catboost) (2018.9)\n",
            "Requirement already satisfied: cycler>=0.10 in /usr/local/lib/python3.7/dist-packages (from matplotlib->catboost) (0.11.0)\n",
            "Requirement already satisfied: kiwisolver>=1.0.1 in /usr/local/lib/python3.7/dist-packages (from matplotlib->catboost) (1.3.2)\n",
            "Requirement already satisfied: pyparsing!=2.0.4,!=2.1.2,!=2.1.6,>=2.0.1 in /usr/local/lib/python3.7/dist-packages (from matplotlib->catboost) (3.0.6)\n",
            "Requirement already satisfied: retrying>=1.3.3 in /usr/local/lib/python3.7/dist-packages (from plotly->catboost) (1.3.3)\n",
            "Installing collected packages: catboost\n",
            "Successfully installed catboost-1.0.3\n"
          ]
        }
      ]
    },
    {
      "cell_type": "code",
      "source": [
        "import catboost as cb"
      ],
      "metadata": {
        "id": "fkn_DyJaKKdH"
      },
      "execution_count": null,
      "outputs": []
    },
    {
      "cell_type": "code",
      "source": [
        "model_cbr = cb.CatBoostRegressor(\n",
        "                                loss_function='RMSE',\n",
        "                                random_seed=42,\n",
        "                                logging_level='Silent'\n",
        "                                )"
      ],
      "metadata": {
        "id": "p8cEaTKtKND2"
      },
      "execution_count": null,
      "outputs": []
    },
    {
      "cell_type": "code",
      "source": [
        "categorical_feature_indices = [X_1.columns.get_loc(c) for c in cat_columns.columns if c in X_1]"
      ],
      "metadata": {
        "id": "dzgbQsmUNbxP"
      },
      "execution_count": null,
      "outputs": []
    },
    {
      "cell_type": "code",
      "source": [
        "train_dataset = cb.Pool(X_train_1, y_train_1, cat_features=categorical_feature_indices)\n",
        "test_dataset = cb.Pool(X_test_1, y_test_1, cat_features=categorical_feature_indices)"
      ],
      "metadata": {
        "colab": {
          "base_uri": "https://localhost:8080/",
          "height": 690
        },
        "id": "bLq-0A6AKtYD",
        "outputId": "949659bc-e470-4ffa-dc74-ecbc99adfae9"
      },
      "execution_count": null,
      "outputs": [
        {
          "output_type": "error",
          "ename": "CatBoostError",
          "evalue": "ignored",
          "traceback": [
            "\u001b[0;31m---------------------------------------------------------------------------\u001b[0m",
            "\u001b[0;31mCatBoostError\u001b[0m                             Traceback (most recent call last)",
            "\u001b[0;32m_catboost.pyx\u001b[0m in \u001b[0;36m_catboost.get_cat_factor_bytes_representation\u001b[0;34m()\u001b[0m\n",
            "\u001b[0;32m_catboost.pyx\u001b[0m in \u001b[0;36m_catboost.get_id_object_bytes_string_representation\u001b[0;34m()\u001b[0m\n",
            "\u001b[0;31mCatBoostError\u001b[0m: bad object for id: 6.0",
            "\nDuring handling of the above exception, another exception occurred:\n",
            "\u001b[0;31mCatBoostError\u001b[0m                             Traceback (most recent call last)",
            "\u001b[0;32m<ipython-input-351-30fe86b7a496>\u001b[0m in \u001b[0;36m<module>\u001b[0;34m()\u001b[0m\n\u001b[0;32m----> 1\u001b[0;31m \u001b[0mtrain_dataset\u001b[0m \u001b[0;34m=\u001b[0m \u001b[0mcb\u001b[0m\u001b[0;34m.\u001b[0m\u001b[0mPool\u001b[0m\u001b[0;34m(\u001b[0m\u001b[0mX_train_1\u001b[0m\u001b[0;34m,\u001b[0m \u001b[0my_train_1\u001b[0m\u001b[0;34m,\u001b[0m \u001b[0mcat_features\u001b[0m\u001b[0;34m=\u001b[0m\u001b[0msorted\u001b[0m\u001b[0;34m(\u001b[0m\u001b[0mcategorical_feature_indices\u001b[0m\u001b[0;34m)\u001b[0m\u001b[0;34m)\u001b[0m\u001b[0;34m\u001b[0m\u001b[0;34m\u001b[0m\u001b[0m\n\u001b[0m\u001b[1;32m      2\u001b[0m \u001b[0mtest_dataset\u001b[0m \u001b[0;34m=\u001b[0m \u001b[0mcb\u001b[0m\u001b[0;34m.\u001b[0m\u001b[0mPool\u001b[0m\u001b[0;34m(\u001b[0m\u001b[0mX_test_1\u001b[0m\u001b[0;34m,\u001b[0m \u001b[0my_test_1\u001b[0m\u001b[0;34m,\u001b[0m \u001b[0mcat_features\u001b[0m\u001b[0;34m=\u001b[0m\u001b[0mcategorical_feature_indices\u001b[0m\u001b[0;34m)\u001b[0m\u001b[0;34m\u001b[0m\u001b[0;34m\u001b[0m\u001b[0m\n",
            "\u001b[0;32m/usr/local/lib/python3.7/dist-packages/catboost/core.py\u001b[0m in \u001b[0;36m__init__\u001b[0;34m(self, data, label, cat_features, text_features, embedding_features, column_description, pairs, delimiter, has_header, ignore_csv_quoting, weight, group_id, group_weight, subgroup_id, pairs_weight, baseline, timestamp, feature_names, thread_count, log_cout, log_cerr)\u001b[0m\n\u001b[1;32m    626\u001b[0m                     )\n\u001b[1;32m    627\u001b[0m \u001b[0;34m\u001b[0m\u001b[0m\n\u001b[0;32m--> 628\u001b[0;31m                 \u001b[0mself\u001b[0m\u001b[0;34m.\u001b[0m\u001b[0m_init\u001b[0m\u001b[0;34m(\u001b[0m\u001b[0mdata\u001b[0m\u001b[0;34m,\u001b[0m \u001b[0mlabel\u001b[0m\u001b[0;34m,\u001b[0m \u001b[0mcat_features\u001b[0m\u001b[0;34m,\u001b[0m \u001b[0mtext_features\u001b[0m\u001b[0;34m,\u001b[0m \u001b[0membedding_features\u001b[0m\u001b[0;34m,\u001b[0m \u001b[0mpairs\u001b[0m\u001b[0;34m,\u001b[0m \u001b[0mweight\u001b[0m\u001b[0;34m,\u001b[0m \u001b[0mgroup_id\u001b[0m\u001b[0;34m,\u001b[0m \u001b[0mgroup_weight\u001b[0m\u001b[0;34m,\u001b[0m \u001b[0msubgroup_id\u001b[0m\u001b[0;34m,\u001b[0m \u001b[0mpairs_weight\u001b[0m\u001b[0;34m,\u001b[0m \u001b[0mbaseline\u001b[0m\u001b[0;34m,\u001b[0m \u001b[0mtimestamp\u001b[0m\u001b[0;34m,\u001b[0m \u001b[0mfeature_names\u001b[0m\u001b[0;34m,\u001b[0m \u001b[0mthread_count\u001b[0m\u001b[0;34m)\u001b[0m\u001b[0;34m\u001b[0m\u001b[0;34m\u001b[0m\u001b[0m\n\u001b[0m\u001b[1;32m    629\u001b[0m         \u001b[0msuper\u001b[0m\u001b[0;34m(\u001b[0m\u001b[0mPool\u001b[0m\u001b[0;34m,\u001b[0m \u001b[0mself\u001b[0m\u001b[0;34m)\u001b[0m\u001b[0;34m.\u001b[0m\u001b[0m__init__\u001b[0m\u001b[0;34m(\u001b[0m\u001b[0;34m)\u001b[0m\u001b[0;34m\u001b[0m\u001b[0;34m\u001b[0m\u001b[0m\n\u001b[1;32m    630\u001b[0m \u001b[0;34m\u001b[0m\u001b[0m\n",
            "\u001b[0;32m/usr/local/lib/python3.7/dist-packages/catboost/core.py\u001b[0m in \u001b[0;36m_init\u001b[0;34m(self, data, label, cat_features, text_features, embedding_features, pairs, weight, group_id, group_weight, subgroup_id, pairs_weight, baseline, timestamp, feature_names, thread_count)\u001b[0m\n\u001b[1;32m   1169\u001b[0m             \u001b[0mtimestamp\u001b[0m \u001b[0;34m=\u001b[0m \u001b[0mself\u001b[0m\u001b[0;34m.\u001b[0m\u001b[0m_if_pandas_to_numpy\u001b[0m\u001b[0;34m(\u001b[0m\u001b[0mtimestamp\u001b[0m\u001b[0;34m)\u001b[0m\u001b[0;34m\u001b[0m\u001b[0;34m\u001b[0m\u001b[0m\n\u001b[1;32m   1170\u001b[0m             \u001b[0mself\u001b[0m\u001b[0;34m.\u001b[0m\u001b[0m_check_timestamp_shape\u001b[0m\u001b[0;34m(\u001b[0m\u001b[0mtimestamp\u001b[0m\u001b[0;34m,\u001b[0m \u001b[0msamples_count\u001b[0m\u001b[0;34m)\u001b[0m\u001b[0;34m\u001b[0m\u001b[0;34m\u001b[0m\u001b[0m\n\u001b[0;32m-> 1171\u001b[0;31m         \u001b[0mself\u001b[0m\u001b[0;34m.\u001b[0m\u001b[0m_init_pool\u001b[0m\u001b[0;34m(\u001b[0m\u001b[0mdata\u001b[0m\u001b[0;34m,\u001b[0m \u001b[0mlabel\u001b[0m\u001b[0;34m,\u001b[0m \u001b[0mcat_features\u001b[0m\u001b[0;34m,\u001b[0m \u001b[0mtext_features\u001b[0m\u001b[0;34m,\u001b[0m \u001b[0membedding_features\u001b[0m\u001b[0;34m,\u001b[0m \u001b[0mpairs\u001b[0m\u001b[0;34m,\u001b[0m \u001b[0mweight\u001b[0m\u001b[0;34m,\u001b[0m \u001b[0mgroup_id\u001b[0m\u001b[0;34m,\u001b[0m \u001b[0mgroup_weight\u001b[0m\u001b[0;34m,\u001b[0m \u001b[0msubgroup_id\u001b[0m\u001b[0;34m,\u001b[0m \u001b[0mpairs_weight\u001b[0m\u001b[0;34m,\u001b[0m \u001b[0mbaseline\u001b[0m\u001b[0;34m,\u001b[0m \u001b[0mtimestamp\u001b[0m\u001b[0;34m,\u001b[0m \u001b[0mfeature_names\u001b[0m\u001b[0;34m,\u001b[0m \u001b[0mthread_count\u001b[0m\u001b[0;34m)\u001b[0m\u001b[0;34m\u001b[0m\u001b[0;34m\u001b[0m\u001b[0m\n\u001b[0m\u001b[1;32m   1172\u001b[0m \u001b[0;34m\u001b[0m\u001b[0m\n\u001b[1;32m   1173\u001b[0m \u001b[0;34m\u001b[0m\u001b[0m\n",
            "\u001b[0;32m_catboost.pyx\u001b[0m in \u001b[0;36m_catboost._PoolBase._init_pool\u001b[0;34m()\u001b[0m\n",
            "\u001b[0;32m_catboost.pyx\u001b[0m in \u001b[0;36m_catboost._PoolBase._init_pool\u001b[0;34m()\u001b[0m\n",
            "\u001b[0;32m_catboost.pyx\u001b[0m in \u001b[0;36m_catboost._PoolBase._init_features_order_layout_pool\u001b[0;34m()\u001b[0m\n",
            "\u001b[0;32m_catboost.pyx\u001b[0m in \u001b[0;36m_catboost._set_features_order_data_pd_data_frame\u001b[0;34m()\u001b[0m\n",
            "\u001b[0;32m_catboost.pyx\u001b[0m in \u001b[0;36m_catboost.get_cat_factor_bytes_representation\u001b[0;34m()\u001b[0m\n",
            "\u001b[0;31mCatBoostError\u001b[0m: Invalid type for cat_feature[non-default value idx=0,feature_idx=4]=6.0 : cat_features must be integer or string, real number values and NaN values should be converted to string."
          ]
        }
      ]
    },
    {
      "cell_type": "code",
      "source": [
        "for column in cat_columns:\n",
        "    if df1[column].dtypes == 'float64':\n",
        "        df1[column] = df1[column].apply(lambda x: int(x))    \n",
        "\n",
        "X_1 = df1.drop(['price', 'timestamp', 'id'], axis=1)\n",
        "y_1 = df1.price\n",
        "X_train_1, X_test_1, y_train_1, y_test_1 = train_test_split(X_1, y_1, test_size=0.2, random_state=42)"
      ],
      "metadata": {
        "id": "Ch7im-2wR03m"
      },
      "execution_count": null,
      "outputs": []
    },
    {
      "cell_type": "code",
      "source": [
        "train_dataset = cb.Pool(X_train_1, y_train_1, cat_features=categorical_feature_indices)\n",
        "test_dataset = cb.Pool(X_test_1, y_test_1, cat_features=categorical_feature_indices)"
      ],
      "metadata": {
        "id": "BbwcHJc2SXDk"
      },
      "execution_count": null,
      "outputs": []
    },
    {
      "cell_type": "code",
      "source": [
        "grid = {'iterations': [100, 150, 200],\n",
        " 'learning_rate': [0.03, 0.1, 1],\n",
        " 'depth': [2, 4, 6, 8],\n",
        " 'l2_leaf_reg': [0.2, 0.5, 1, 3]}\n",
        "\n",
        "model_cbr.grid_search(grid, train_dataset, partition_random_seed=42, )"
      ],
      "metadata": {
        "colab": {
          "base_uri": "https://localhost:8080/"
        },
        "id": "2JUx6Vw_Kk63",
        "outputId": "89ead6e9-87d5-4696-caeb-a6515a4fa329"
      },
      "execution_count": null,
      "outputs": [
        {
          "output_type": "stream",
          "name": "stdout",
          "text": [
            "0:\tloss: 2983472.9586127\tbest: 2983472.9586127 (0)\ttotal: 1.82s\tremaining: 4m 19s\n",
            "1:\tloss: 2724152.8567132\tbest: 2724152.8567132 (1)\ttotal: 3.27s\tremaining: 3m 51s\n",
            "2:\tloss: 2917567.8883308\tbest: 2724152.8567132 (1)\ttotal: 4.72s\tremaining: 3m 41s\n",
            "3:\tloss: 2986124.7576019\tbest: 2724152.8567132 (1)\ttotal: 6.17s\tremaining: 3m 36s\n",
            "4:\tloss: 2724310.4840889\tbest: 2724152.8567132 (1)\ttotal: 7.59s\tremaining: 3m 31s\n",
            "5:\tloss: 2886117.4305844\tbest: 2724152.8567132 (1)\ttotal: 9.01s\tremaining: 3m 27s\n",
            "6:\tloss: 2989696.7189291\tbest: 2724152.8567132 (1)\ttotal: 10.5s\tremaining: 3m 24s\n",
            "7:\tloss: 2736039.1434047\tbest: 2724152.8567132 (1)\ttotal: 11.9s\tremaining: 3m 22s\n",
            "8:\tloss: 2751556.7216772\tbest: 2724152.8567132 (1)\ttotal: 13.3s\tremaining: 3m 19s\n",
            "9:\tloss: 2980700.9410448\tbest: 2724152.8567132 (1)\ttotal: 14.8s\tremaining: 3m 18s\n",
            "10:\tloss: 2739523.7767365\tbest: 2724152.8567132 (1)\ttotal: 16.2s\tremaining: 3m 16s\n",
            "11:\tloss: 2758392.4741993\tbest: 2724152.8567132 (1)\ttotal: 17.7s\tremaining: 3m 14s\n",
            "12:\tloss: 2851364.4341018\tbest: 2724152.8567132 (1)\ttotal: 19.8s\tremaining: 3m 19s\n",
            "13:\tloss: 2677922.2451304\tbest: 2677922.2451304 (13)\ttotal: 21.9s\tremaining: 3m 23s\n",
            "14:\tloss: 2902381.8821692\tbest: 2677922.2451304 (13)\ttotal: 24s\tremaining: 3m 26s\n",
            "15:\tloss: 2846506.5083853\tbest: 2677922.2451304 (13)\ttotal: 26.2s\tremaining: 3m 29s\n",
            "16:\tloss: 2682991.0883251\tbest: 2677922.2451304 (13)\ttotal: 28.3s\tremaining: 3m 31s\n",
            "17:\tloss: 2886117.4305844\tbest: 2677922.2451304 (13)\ttotal: 30.4s\tremaining: 3m 32s\n",
            "18:\tloss: 2852906.6589581\tbest: 2677922.2451304 (13)\ttotal: 32.6s\tremaining: 3m 34s\n",
            "19:\tloss: 2686614.5642607\tbest: 2677922.2451304 (13)\ttotal: 34.7s\tremaining: 3m 35s\n",
            "20:\tloss: 2735896.9519840\tbest: 2677922.2451304 (13)\ttotal: 36.9s\tremaining: 3m 35s\n",
            "21:\tloss: 2848736.5471452\tbest: 2677922.2451304 (13)\ttotal: 39s\tremaining: 3m 36s\n",
            "22:\tloss: 2692965.0855651\tbest: 2677922.2451304 (13)\ttotal: 41.1s\tremaining: 3m 36s\n",
            "23:\tloss: 2744060.9402017\tbest: 2677922.2451304 (13)\ttotal: 43.2s\tremaining: 3m 36s\n",
            "24:\tloss: 2783040.6294472\tbest: 2677922.2451304 (13)\ttotal: 46.6s\tremaining: 3m 42s\n",
            "25:\tloss: 2649757.3461214\tbest: 2649757.3461214 (25)\ttotal: 50s\tremaining: 3m 47s\n",
            "26:\tloss: 2715978.4255310\tbest: 2649757.3461214 (25)\ttotal: 53.5s\tremaining: 3m 51s\n",
            "27:\tloss: 2784365.7908620\tbest: 2649757.3461214 (25)\ttotal: 57s\tremaining: 3m 56s\n",
            "28:\tloss: 2663697.1680112\tbest: 2649757.3461214 (25)\ttotal: 1m\tremaining: 3m 59s\n",
            "29:\tloss: 2802097.4680755\tbest: 2649757.3461214 (25)\ttotal: 1m 3s\tremaining: 4m 2s\n",
            "30:\tloss: 2783081.8752268\tbest: 2649757.3461214 (25)\ttotal: 1m 7s\tremaining: 4m 5s\n",
            "31:\tloss: 2640834.7276877\tbest: 2640834.7276877 (31)\ttotal: 1m 10s\tremaining: 4m 7s\n",
            "32:\tloss: 2782133.4734274\tbest: 2640834.7276877 (31)\ttotal: 1m 14s\tremaining: 4m 9s\n",
            "33:\tloss: 2795513.0077394\tbest: 2640834.7276877 (31)\ttotal: 1m 17s\tremaining: 4m 11s\n",
            "34:\tloss: 2673141.2074363\tbest: 2640834.7276877 (31)\ttotal: 1m 20s\tremaining: 4m 12s\n",
            "35:\tloss: 2693577.7146415\tbest: 2640834.7276877 (31)\ttotal: 1m 24s\tremaining: 4m 13s\n",
            "36:\tloss: 2845652.2774471\tbest: 2640834.7276877 (31)\ttotal: 1m 27s\tremaining: 4m 12s\n",
            "37:\tloss: 2607002.4651146\tbest: 2607002.4651146 (37)\ttotal: 1m 30s\tremaining: 4m 11s\n",
            "38:\tloss: 2845933.2911844\tbest: 2607002.4651146 (37)\ttotal: 1m 32s\tremaining: 4m 9s\n",
            "39:\tloss: 2844738.9885660\tbest: 2607002.4651146 (37)\ttotal: 1m 35s\tremaining: 4m 8s\n",
            "40:\tloss: 2624974.1856910\tbest: 2607002.4651146 (37)\ttotal: 1m 38s\tremaining: 4m 7s\n",
            "41:\tloss: 2866630.3077657\tbest: 2607002.4651146 (37)\ttotal: 1m 41s\tremaining: 4m 5s\n",
            "42:\tloss: 2858455.3744563\tbest: 2607002.4651146 (37)\ttotal: 1m 44s\tremaining: 4m 4s\n",
            "43:\tloss: 2656446.3398400\tbest: 2607002.4651146 (37)\ttotal: 1m 46s\tremaining: 4m 2s\n",
            "44:\tloss: 2857880.9332851\tbest: 2607002.4651146 (37)\ttotal: 1m 49s\tremaining: 4m 1s\n",
            "45:\tloss: 2848828.6750717\tbest: 2607002.4651146 (37)\ttotal: 1m 52s\tremaining: 3m 59s\n",
            "46:\tloss: 2596701.8855530\tbest: 2596701.8855530 (46)\ttotal: 1m 55s\tremaining: 3m 57s\n",
            "47:\tloss: 2731166.3387195\tbest: 2596701.8855530 (46)\ttotal: 1m 57s\tremaining: 3m 55s\n",
            "48:\tloss: 2741985.5788684\tbest: 2596701.8855530 (46)\ttotal: 2m 2s\tremaining: 3m 56s\n",
            "49:\tloss: 2573588.1573156\tbest: 2573588.1573156 (49)\ttotal: 2m 6s\tremaining: 3m 57s\n",
            "50:\tloss: 2845933.2911844\tbest: 2573588.1573156 (49)\ttotal: 2m 10s\tremaining: 3m 57s\n",
            "51:\tloss: 2733386.6170586\tbest: 2573588.1573156 (49)\ttotal: 2m 14s\tremaining: 3m 58s\n",
            "52:\tloss: 2579605.9844494\tbest: 2573588.1573156 (49)\ttotal: 2m 18s\tremaining: 3m 58s\n",
            "53:\tloss: 2866630.3077657\tbest: 2573588.1573156 (49)\ttotal: 2m 22s\tremaining: 3m 58s\n",
            "54:\tloss: 2750012.1705774\tbest: 2573588.1573156 (49)\ttotal: 2m 27s\tremaining: 3m 58s\n",
            "55:\tloss: 2602092.7580048\tbest: 2573588.1573156 (49)\ttotal: 2m 31s\tremaining: 3m 57s\n",
            "56:\tloss: 2857880.9332851\tbest: 2573588.1573156 (49)\ttotal: 2m 35s\tremaining: 3m 57s\n",
            "57:\tloss: 2726805.6498170\tbest: 2573588.1573156 (49)\ttotal: 2m 39s\tremaining: 3m 56s\n",
            "58:\tloss: 2535806.0701210\tbest: 2535806.0701210 (58)\ttotal: 2m 43s\tremaining: 3m 56s\n",
            "59:\tloss: 2731166.3387195\tbest: 2535806.0701210 (58)\ttotal: 2m 48s\tremaining: 3m 55s\n",
            "60:\tloss: 2666209.3422431\tbest: 2535806.0701210 (58)\ttotal: 2m 55s\tremaining: 3m 59s\n",
            "61:\tloss: 2584954.1825138\tbest: 2535806.0701210 (58)\ttotal: 3m 3s\tremaining: 4m 2s\n",
            "62:\tloss: 2905369.7676792\tbest: 2535806.0701210 (58)\ttotal: 3m 10s\tremaining: 4m 5s\n",
            "63:\tloss: 2684196.2321992\tbest: 2535806.0701210 (58)\ttotal: 3m 18s\tremaining: 4m 8s\n",
            "64:\tloss: 2540072.8809808\tbest: 2535806.0701210 (58)\ttotal: 3m 25s\tremaining: 4m 10s\n",
            "65:\tloss: 2718987.2285326\tbest: 2535806.0701210 (58)\ttotal: 3m 33s\tremaining: 4m 12s\n",
            "66:\tloss: 2673582.3818312\tbest: 2535806.0701210 (58)\ttotal: 3m 41s\tremaining: 4m 14s\n",
            "67:\tloss: 2556551.2930553\tbest: 2535806.0701210 (58)\ttotal: 3m 48s\tremaining: 4m 15s\n",
            "68:\tloss: 2738678.4251982\tbest: 2535806.0701210 (58)\ttotal: 3m 56s\tremaining: 4m 16s\n",
            "69:\tloss: 2679661.6435576\tbest: 2535806.0701210 (58)\ttotal: 4m 4s\tremaining: 4m 18s\n",
            "70:\tloss: 2555568.8756627\tbest: 2535806.0701210 (58)\ttotal: 4m 11s\tremaining: 4m 18s\n",
            "71:\tloss: 2757245.7210166\tbest: 2535806.0701210 (58)\ttotal: 4m 19s\tremaining: 4m 19s\n",
            "72:\tloss: 2801114.9022938\tbest: 2535806.0701210 (58)\ttotal: 4m 24s\tremaining: 4m 17s\n",
            "73:\tloss: 2627742.1908744\tbest: 2535806.0701210 (58)\ttotal: 4m 30s\tremaining: 4m 16s\n",
            "74:\tloss: 2917588.2731734\tbest: 2535806.0701210 (58)\ttotal: 4m 36s\tremaining: 4m 14s\n",
            "75:\tloss: 2800975.0617794\tbest: 2535806.0701210 (58)\ttotal: 4m 42s\tremaining: 4m 12s\n",
            "76:\tloss: 2554423.8367761\tbest: 2535806.0701210 (58)\ttotal: 4m 47s\tremaining: 4m 10s\n",
            "77:\tloss: 3143480.1209730\tbest: 2535806.0701210 (58)\ttotal: 4m 53s\tremaining: 4m 8s\n",
            "78:\tloss: 2820332.8917593\tbest: 2535806.0701210 (58)\ttotal: 4m 59s\tremaining: 4m 6s\n",
            "79:\tloss: 2600525.5241004\tbest: 2535806.0701210 (58)\ttotal: 5m 4s\tremaining: 4m 3s\n",
            "80:\tloss: 2804937.5513433\tbest: 2535806.0701210 (58)\ttotal: 5m 10s\tremaining: 4m 1s\n",
            "81:\tloss: 2815295.6593873\tbest: 2535806.0701210 (58)\ttotal: 5m 16s\tremaining: 3m 59s\n",
            "82:\tloss: 2607697.9924376\tbest: 2535806.0701210 (58)\ttotal: 5m 21s\tremaining: 3m 56s\n",
            "83:\tloss: 2905964.7733047\tbest: 2535806.0701210 (58)\ttotal: 5m 27s\tremaining: 3m 54s\n",
            "84:\tloss: 2703248.9482884\tbest: 2535806.0701210 (58)\ttotal: 5m 36s\tremaining: 3m 53s\n",
            "85:\tloss: 2573820.8737491\tbest: 2535806.0701210 (58)\ttotal: 5m 44s\tremaining: 3m 52s\n",
            "86:\tloss: 2917588.2731734\tbest: 2535806.0701210 (58)\ttotal: 5m 53s\tremaining: 3m 51s\n",
            "87:\tloss: 2673839.1082322\tbest: 2535806.0701210 (58)\ttotal: 6m 2s\tremaining: 3m 50s\n",
            "88:\tloss: 2524891.5310482\tbest: 2524891.5310482 (88)\ttotal: 6m 10s\tremaining: 3m 49s\n",
            "89:\tloss: 3143480.1209730\tbest: 2524891.5310482 (88)\ttotal: 6m 19s\tremaining: 3m 47s\n",
            "90:\tloss: 2704363.5002450\tbest: 2524891.5310482 (88)\ttotal: 6m 27s\tremaining: 3m 45s\n",
            "91:\tloss: 2533681.1104054\tbest: 2524891.5310482 (88)\ttotal: 6m 36s\tremaining: 3m 44s\n",
            "92:\tloss: 2804937.5513433\tbest: 2524891.5310482 (88)\ttotal: 6m 44s\tremaining: 3m 42s\n",
            "93:\tloss: 2691038.8081906\tbest: 2524891.5310482 (88)\ttotal: 6m 53s\tremaining: 3m 40s\n",
            "94:\tloss: 2557547.5486979\tbest: 2524891.5310482 (88)\ttotal: 7m 2s\tremaining: 3m 37s\n",
            "95:\tloss: 2905964.7733047\tbest: 2524891.5310482 (88)\ttotal: 7m 10s\tremaining: 3m 35s\n",
            "96:\tloss: 2620332.7364994\tbest: 2524891.5310482 (88)\ttotal: 7m 26s\tremaining: 3m 36s\n",
            "97:\tloss: 2479872.5415516\tbest: 2479872.5415516 (97)\ttotal: 7m 42s\tremaining: 3m 36s\n",
            "98:\tloss: 2881648.3143875\tbest: 2479872.5415516 (97)\ttotal: 7m 57s\tremaining: 3m 37s\n",
            "99:\tloss: 2636368.8881364\tbest: 2479872.5415516 (97)\ttotal: 8m 13s\tremaining: 3m 37s\n",
            "100:\tloss: 2493334.6463168\tbest: 2479872.5415516 (97)\ttotal: 8m 28s\tremaining: 3m 36s\n",
            "101:\tloss: 2775697.0386722\tbest: 2479872.5415516 (97)\ttotal: 8m 44s\tremaining: 3m 35s\n",
            "102:\tloss: 2630327.7430020\tbest: 2479872.5415516 (97)\ttotal: 9m\tremaining: 3m 35s\n",
            "103:\tloss: 2505788.8119712\tbest: 2479872.5415516 (97)\ttotal: 9m 15s\tremaining: 3m 33s\n",
            "104:\tloss: 2722820.2301143\tbest: 2479872.5415516 (97)\ttotal: 9m 31s\tremaining: 3m 32s\n",
            "105:\tloss: 2644180.3545368\tbest: 2479872.5415516 (97)\ttotal: 9m 46s\tremaining: 3m 30s\n",
            "106:\tloss: 2473386.0788516\tbest: 2473386.0788516 (106)\ttotal: 10m 1s\tremaining: 3m 28s\n",
            "107:\tloss: 2714753.5415588\tbest: 2473386.0788516 (106)\ttotal: 10m 17s\tremaining: 3m 25s\n",
            "108:\tloss: 2753922.4135971\tbest: 2473386.0788516 (106)\ttotal: 10m 31s\tremaining: 3m 22s\n",
            "109:\tloss: 2555465.8536328\tbest: 2473386.0788516 (106)\ttotal: 10m 45s\tremaining: 3m 19s\n",
            "110:\tloss: 2914262.9405275\tbest: 2473386.0788516 (106)\ttotal: 10m 59s\tremaining: 3m 16s\n",
            "111:\tloss: 2771316.7459711\tbest: 2473386.0788516 (106)\ttotal: 11m 13s\tremaining: 3m 12s\n",
            "112:\tloss: 2562877.5082514\tbest: 2473386.0788516 (106)\ttotal: 11m 27s\tremaining: 3m 8s\n",
            "113:\tloss: 2791729.7952286\tbest: 2473386.0788516 (106)\ttotal: 11m 41s\tremaining: 3m 4s\n",
            "114:\tloss: 2781779.1036608\tbest: 2473386.0788516 (106)\ttotal: 11m 55s\tremaining: 3m\n",
            "115:\tloss: 2595547.7019571\tbest: 2473386.0788516 (106)\ttotal: 12m 9s\tremaining: 2m 56s\n",
            "116:\tloss: 2884222.2920180\tbest: 2473386.0788516 (106)\ttotal: 12m 23s\tremaining: 2m 51s\n",
            "117:\tloss: 2818916.7025156\tbest: 2473386.0788516 (106)\ttotal: 12m 38s\tremaining: 2m 47s\n",
            "118:\tloss: 2566325.1652283\tbest: 2473386.0788516 (106)\ttotal: 12m 52s\tremaining: 2m 42s\n",
            "119:\tloss: 2902160.6849694\tbest: 2473386.0788516 (106)\ttotal: 13m 6s\tremaining: 2m 37s\n",
            "120:\tloss: 2650053.4829561\tbest: 2473386.0788516 (106)\ttotal: 13m 27s\tremaining: 2m 33s\n",
            "121:\tloss: 2537675.4926866\tbest: 2473386.0788516 (106)\ttotal: 13m 48s\tremaining: 2m 29s\n",
            "122:\tloss: 2914262.9405275\tbest: 2473386.0788516 (106)\ttotal: 14m 9s\tremaining: 2m 25s\n",
            "123:\tloss: 2666947.4141525\tbest: 2473386.0788516 (106)\ttotal: 14m 30s\tremaining: 2m 20s\n",
            "124:\tloss: 2521327.1306975\tbest: 2473386.0788516 (106)\ttotal: 14m 51s\tremaining: 2m 15s\n",
            "125:\tloss: 2791729.7952286\tbest: 2473386.0788516 (106)\ttotal: 15m 12s\tremaining: 2m 10s\n",
            "126:\tloss: 2659245.6477975\tbest: 2473386.0788516 (106)\ttotal: 15m 33s\tremaining: 2m 5s\n",
            "127:\tloss: 2565187.6615485\tbest: 2473386.0788516 (106)\ttotal: 15m 54s\tremaining: 1m 59s\n",
            "128:\tloss: 2884222.2920180\tbest: 2473386.0788516 (106)\ttotal: 16m 15s\tremaining: 1m 53s\n",
            "129:\tloss: 2696833.8757985\tbest: 2473386.0788516 (106)\ttotal: 16m 36s\tremaining: 1m 47s\n",
            "130:\tloss: 2505995.6626766\tbest: 2473386.0788516 (106)\ttotal: 16m 57s\tremaining: 1m 41s\n",
            "131:\tloss: 2902160.6849694\tbest: 2473386.0788516 (106)\ttotal: 17m 18s\tremaining: 1m 34s\n",
            "132:\tloss: 2623607.8145592\tbest: 2473386.0788516 (106)\ttotal: 17m 54s\tremaining: 1m 28s\n",
            "133:\tloss: 2543175.2400859\tbest: 2473386.0788516 (106)\ttotal: 18m 30s\tremaining: 1m 22s\n",
            "134:\tloss: 2994723.6448319\tbest: 2473386.0788516 (106)\ttotal: 19m 6s\tremaining: 1m 16s\n",
            "135:\tloss: 2624349.8542424\tbest: 2473386.0788516 (106)\ttotal: 19m 41s\tremaining: 1m 9s\n",
            "136:\tloss: 2515960.3142460\tbest: 2473386.0788516 (106)\ttotal: 20m 17s\tremaining: 1m 2s\n",
            "137:\tloss: 2928585.1697922\tbest: 2473386.0788516 (106)\ttotal: 20m 52s\tremaining: 54.5s\n",
            "138:\tloss: 2626450.9851172\tbest: 2473386.0788516 (106)\ttotal: 21m 28s\tremaining: 46.4s\n",
            "139:\tloss: 2581809.3922996\tbest: 2473386.0788516 (106)\ttotal: 22m 3s\tremaining: 37.8s\n",
            "140:\tloss: 2884296.4786759\tbest: 2473386.0788516 (106)\ttotal: 22m 39s\tremaining: 28.9s\n",
            "141:\tloss: 2631009.2558028\tbest: 2473386.0788516 (106)\ttotal: 23m 16s\tremaining: 19.7s\n",
            "142:\tloss: 2518536.0414705\tbest: 2473386.0788516 (106)\ttotal: 23m 51s\tremaining: 10s\n",
            "143:\tloss: 2827031.2056231\tbest: 2473386.0788516 (106)\ttotal: 24m 26s\tremaining: 0us\n",
            "Estimating final quality...\n"
          ]
        },
        {
          "output_type": "execute_result",
          "data": {
            "text/plain": [
              "{'cv_results': defaultdict(list,\n",
              "             {'iterations': [0,\n",
              "               1,\n",
              "               2,\n",
              "               3,\n",
              "               4,\n",
              "               5,\n",
              "               6,\n",
              "               7,\n",
              "               8,\n",
              "               9,\n",
              "               10,\n",
              "               11,\n",
              "               12,\n",
              "               13,\n",
              "               14,\n",
              "               15,\n",
              "               16,\n",
              "               17,\n",
              "               18,\n",
              "               19,\n",
              "               20,\n",
              "               21,\n",
              "               22,\n",
              "               23,\n",
              "               24,\n",
              "               25,\n",
              "               26,\n",
              "               27,\n",
              "               28,\n",
              "               29,\n",
              "               30,\n",
              "               31,\n",
              "               32,\n",
              "               33,\n",
              "               34,\n",
              "               35,\n",
              "               36,\n",
              "               37,\n",
              "               38,\n",
              "               39,\n",
              "               40,\n",
              "               41,\n",
              "               42,\n",
              "               43,\n",
              "               44,\n",
              "               45,\n",
              "               46,\n",
              "               47,\n",
              "               48,\n",
              "               49,\n",
              "               50,\n",
              "               51,\n",
              "               52,\n",
              "               53,\n",
              "               54,\n",
              "               55,\n",
              "               56,\n",
              "               57,\n",
              "               58,\n",
              "               59,\n",
              "               60,\n",
              "               61,\n",
              "               62,\n",
              "               63,\n",
              "               64,\n",
              "               65,\n",
              "               66,\n",
              "               67,\n",
              "               68,\n",
              "               69,\n",
              "               70,\n",
              "               71,\n",
              "               72,\n",
              "               73,\n",
              "               74,\n",
              "               75,\n",
              "               76,\n",
              "               77,\n",
              "               78,\n",
              "               79,\n",
              "               80,\n",
              "               81,\n",
              "               82,\n",
              "               83,\n",
              "               84,\n",
              "               85,\n",
              "               86,\n",
              "               87,\n",
              "               88,\n",
              "               89,\n",
              "               90,\n",
              "               91,\n",
              "               92,\n",
              "               93,\n",
              "               94,\n",
              "               95,\n",
              "               96,\n",
              "               97,\n",
              "               98,\n",
              "               99,\n",
              "               100,\n",
              "               101,\n",
              "               102,\n",
              "               103,\n",
              "               104,\n",
              "               105,\n",
              "               106,\n",
              "               107,\n",
              "               108,\n",
              "               109,\n",
              "               110,\n",
              "               111,\n",
              "               112,\n",
              "               113,\n",
              "               114,\n",
              "               115,\n",
              "               116,\n",
              "               117,\n",
              "               118,\n",
              "               119,\n",
              "               120,\n",
              "               121,\n",
              "               122,\n",
              "               123,\n",
              "               124,\n",
              "               125,\n",
              "               126,\n",
              "               127,\n",
              "               128,\n",
              "               129,\n",
              "               130,\n",
              "               131,\n",
              "               132,\n",
              "               133,\n",
              "               134,\n",
              "               135,\n",
              "               136,\n",
              "               137,\n",
              "               138,\n",
              "               139,\n",
              "               140,\n",
              "               141,\n",
              "               142,\n",
              "               143,\n",
              "               144,\n",
              "               145,\n",
              "               146,\n",
              "               147,\n",
              "               148,\n",
              "               149,\n",
              "               150,\n",
              "               151,\n",
              "               152,\n",
              "               153,\n",
              "               154,\n",
              "               155,\n",
              "               156,\n",
              "               157,\n",
              "               158,\n",
              "               159,\n",
              "               160,\n",
              "               161,\n",
              "               162,\n",
              "               163,\n",
              "               164,\n",
              "               165,\n",
              "               166,\n",
              "               167,\n",
              "               168,\n",
              "               169,\n",
              "               170,\n",
              "               171,\n",
              "               172,\n",
              "               173,\n",
              "               174,\n",
              "               175,\n",
              "               176,\n",
              "               177,\n",
              "               178,\n",
              "               179,\n",
              "               180,\n",
              "               181,\n",
              "               182,\n",
              "               183,\n",
              "               184,\n",
              "               185,\n",
              "               186,\n",
              "               187,\n",
              "               188,\n",
              "               189,\n",
              "               190,\n",
              "               191,\n",
              "               192,\n",
              "               193,\n",
              "               194,\n",
              "               195,\n",
              "               196,\n",
              "               197,\n",
              "               198,\n",
              "               199],\n",
              "              'test-RMSE-mean': [7817574.186317618,\n",
              "               7239240.549119788,\n",
              "               6686383.778268698,\n",
              "               6199133.0845050635,\n",
              "               5782146.868964877,\n",
              "               5402272.542653657,\n",
              "               5076634.383322463,\n",
              "               4783762.089441494,\n",
              "               4519115.281196262,\n",
              "               4292004.608419084,\n",
              "               4083961.501941974,\n",
              "               3912937.795299217,\n",
              "               3767104.7570269792,\n",
              "               3641115.6379588787,\n",
              "               3531635.9612927265,\n",
              "               3433001.1198402047,\n",
              "               3348474.0596378664,\n",
              "               3280984.9699844657,\n",
              "               3223152.6946315053,\n",
              "               3172217.1432612506,\n",
              "               3128895.108078929,\n",
              "               3091026.7888255194,\n",
              "               3053609.822607286,\n",
              "               3023533.4034675714,\n",
              "               3002180.315747538,\n",
              "               2981879.6199700623,\n",
              "               2965250.9350619935,\n",
              "               2946395.7415559106,\n",
              "               2928084.230584388,\n",
              "               2914959.3575177304,\n",
              "               2904530.5807109196,\n",
              "               2890784.320646158,\n",
              "               2878010.3947642758,\n",
              "               2865876.4020617562,\n",
              "               2856376.475419382,\n",
              "               2848240.7556960904,\n",
              "               2838501.9973225445,\n",
              "               2831042.4653703663,\n",
              "               2823351.7009033025,\n",
              "               2818087.0970701054,\n",
              "               2811386.2715893188,\n",
              "               2806587.0969251865,\n",
              "               2801492.3158014547,\n",
              "               2795463.1555898027,\n",
              "               2792913.1376478947,\n",
              "               2790981.547726598,\n",
              "               2786294.219881157,\n",
              "               2781740.0388902966,\n",
              "               2776761.6854379685,\n",
              "               2773736.3141393247,\n",
              "               2769735.856630282,\n",
              "               2765700.685928255,\n",
              "               2760197.4974599867,\n",
              "               2759973.403415618,\n",
              "               2757321.664411604,\n",
              "               2756192.2227369705,\n",
              "               2753539.3350891205,\n",
              "               2752943.071938522,\n",
              "               2749855.8367870674,\n",
              "               2746535.34070042,\n",
              "               2744960.577162245,\n",
              "               2743211.1455070805,\n",
              "               2740503.8161336803,\n",
              "               2737939.2052352056,\n",
              "               2735682.8622506834,\n",
              "               2731897.326123945,\n",
              "               2731145.0804992197,\n",
              "               2730158.2941839662,\n",
              "               2727050.2272702944,\n",
              "               2725481.4093584027,\n",
              "               2723574.40659955,\n",
              "               2719824.6220602687,\n",
              "               2718915.2239974793,\n",
              "               2717381.49682279,\n",
              "               2714146.255360108,\n",
              "               2713554.891674274,\n",
              "               2713224.064389065,\n",
              "               2711674.389883704,\n",
              "               2710652.257123388,\n",
              "               2708845.5062632677,\n",
              "               2708126.8214161606,\n",
              "               2706174.5729127866,\n",
              "               2705516.2130944175,\n",
              "               2704219.1176870014,\n",
              "               2703087.9183423053,\n",
              "               2702546.7834426663,\n",
              "               2702137.8932026355,\n",
              "               2701547.0234239367,\n",
              "               2702306.33730357,\n",
              "               2700767.9865172817,\n",
              "               2701439.2858342705,\n",
              "               2698709.0828820462,\n",
              "               2696814.5529541406,\n",
              "               2696044.513522148,\n",
              "               2696036.1039990867,\n",
              "               2695094.4459221563,\n",
              "               2693251.3964588935,\n",
              "               2692094.007709667,\n",
              "               2691215.011162044,\n",
              "               2689179.6329203243,\n",
              "               2687891.0584887727,\n",
              "               2688496.982725868,\n",
              "               2687283.5413562832,\n",
              "               2687485.2728653825,\n",
              "               2686009.0070576705,\n",
              "               2685470.003743848,\n",
              "               2685043.278559103,\n",
              "               2683077.706083163,\n",
              "               2682013.96509435,\n",
              "               2680080.947988586,\n",
              "               2679789.044020187,\n",
              "               2679687.2732568625,\n",
              "               2677613.9269987564,\n",
              "               2675964.2349276324,\n",
              "               2676040.756946108,\n",
              "               2675849.9067237773,\n",
              "               2675849.4247362353,\n",
              "               2674816.686650089,\n",
              "               2673243.2903779987,\n",
              "               2672951.078403165,\n",
              "               2671423.4901721007,\n",
              "               2671089.466619777,\n",
              "               2671320.0484897573,\n",
              "               2671037.5586661957,\n",
              "               2670955.669438873,\n",
              "               2669669.3314473922,\n",
              "               2669829.557759472,\n",
              "               2669445.635473496,\n",
              "               2668011.4622807926,\n",
              "               2668453.1674395013,\n",
              "               2668502.8109954726,\n",
              "               2665999.9522673693,\n",
              "               2664206.1403212924,\n",
              "               2664327.934161581,\n",
              "               2663299.958210235,\n",
              "               2662213.788022321,\n",
              "               2661914.593271358,\n",
              "               2662521.810329525,\n",
              "               2661380.096324339,\n",
              "               2661362.9872180163,\n",
              "               2660177.864474186,\n",
              "               2659605.8293055403,\n",
              "               2659013.215305824,\n",
              "               2658193.3881641827,\n",
              "               2657204.019310888,\n",
              "               2657523.5305160256,\n",
              "               2656168.532401566,\n",
              "               2656859.126115821,\n",
              "               2656298.8887689617,\n",
              "               2655273.7751021576,\n",
              "               2654686.493374738,\n",
              "               2654642.7541849576,\n",
              "               2654556.1134200697,\n",
              "               2654123.9837992876,\n",
              "               2653610.60200866,\n",
              "               2653102.3792514503,\n",
              "               2653297.9272282417,\n",
              "               2653251.5402980396,\n",
              "               2651875.9982600696,\n",
              "               2651639.9754318697,\n",
              "               2651380.0547930966,\n",
              "               2651165.236311708,\n",
              "               2651066.3696212485,\n",
              "               2651131.412465839,\n",
              "               2651021.796402827,\n",
              "               2650526.807003641,\n",
              "               2649690.9249126706,\n",
              "               2648219.6518827598,\n",
              "               2648364.2915607938,\n",
              "               2647791.420281326,\n",
              "               2647548.209280455,\n",
              "               2646975.314292245,\n",
              "               2646803.9269377147,\n",
              "               2645211.490154458,\n",
              "               2645101.90560162,\n",
              "               2644460.8496997138,\n",
              "               2643423.329615446,\n",
              "               2643398.5342817083,\n",
              "               2643276.2357905726,\n",
              "               2643152.262675632,\n",
              "               2642976.1246574097,\n",
              "               2642636.1975877895,\n",
              "               2642264.873316793,\n",
              "               2641781.570065543,\n",
              "               2641132.524321038,\n",
              "               2640844.1832569046,\n",
              "               2639263.8830903317,\n",
              "               2638238.0126452674,\n",
              "               2637851.068554867,\n",
              "               2637642.8056600653,\n",
              "               2638228.7669945885,\n",
              "               2638040.1093182177,\n",
              "               2636923.7645222056,\n",
              "               2636527.919197732,\n",
              "               2636122.3050954365,\n",
              "               2636194.7637221427,\n",
              "               2635909.1134161646,\n",
              "               2635772.4197498974,\n",
              "               2635325.3947619363,\n",
              "               2634963.0007120417],\n",
              "              'test-RMSE-std': [86327.38139687576,\n",
              "               87153.22256953937,\n",
              "               90277.32515315873,\n",
              "               91670.7305811381,\n",
              "               91873.19637469748,\n",
              "               91974.05308529417,\n",
              "               82460.64793356376,\n",
              "               87578.33187071818,\n",
              "               78344.78457810606,\n",
              "               74818.42183017202,\n",
              "               73337.10234781458,\n",
              "               80401.68859808402,\n",
              "               69705.36909475175,\n",
              "               73421.04025373793,\n",
              "               65921.1775183755,\n",
              "               60770.69205883227,\n",
              "               56069.43145541254,\n",
              "               43076.6009029666,\n",
              "               45149.01989864451,\n",
              "               42945.03615214533,\n",
              "               38526.17601732927,\n",
              "               27943.230493280415,\n",
              "               27750.12085892521,\n",
              "               25635.29334666503,\n",
              "               26967.196163354878,\n",
              "               24952.99527096407,\n",
              "               19195.87683679128,\n",
              "               12132.31020322351,\n",
              "               11313.80692642107,\n",
              "               7973.446604239045,\n",
              "               7278.71799095423,\n",
              "               7857.774862868186,\n",
              "               10003.495470620219,\n",
              "               12273.458971998929,\n",
              "               14935.79804305739,\n",
              "               13608.217588013022,\n",
              "               14806.47641035629,\n",
              "               13320.71475510956,\n",
              "               13510.334324165085,\n",
              "               16245.674344261974,\n",
              "               17707.782859998682,\n",
              "               20944.88127038694,\n",
              "               24927.36009304395,\n",
              "               26265.353882085965,\n",
              "               27338.449507848898,\n",
              "               25705.363610004402,\n",
              "               28231.886208378535,\n",
              "               29822.314661272976,\n",
              "               31248.17028674625,\n",
              "               31548.689986816087,\n",
              "               32300.40999828243,\n",
              "               32878.4329576143,\n",
              "               34524.25585706745,\n",
              "               35316.68906995005,\n",
              "               36635.51144165135,\n",
              "               37534.47196168805,\n",
              "               38755.38427431343,\n",
              "               41489.02581552578,\n",
              "               41053.91599431724,\n",
              "               41240.47186384678,\n",
              "               41591.13112634828,\n",
              "               38705.30200992278,\n",
              "               39287.93608748872,\n",
              "               38434.114909010794,\n",
              "               40330.55817609058,\n",
              "               43688.32938107039,\n",
              "               43937.12398561963,\n",
              "               43860.57729162899,\n",
              "               46024.06978212329,\n",
              "               46270.21707115715,\n",
              "               48078.4066313532,\n",
              "               48296.279961725115,\n",
              "               48993.60423199479,\n",
              "               49773.45532747469,\n",
              "               48984.545762666385,\n",
              "               48381.270369298516,\n",
              "               50322.99639865263,\n",
              "               50858.50797696858,\n",
              "               51288.347483778605,\n",
              "               51627.72153531094,\n",
              "               51132.03465678599,\n",
              "               52372.5877587591,\n",
              "               52771.18699704838,\n",
              "               55103.00675320608,\n",
              "               54224.123342605686,\n",
              "               53778.65142655087,\n",
              "               52458.46648070649,\n",
              "               52395.551666245556,\n",
              "               52936.73090246329,\n",
              "               52760.395333405526,\n",
              "               52715.473580709244,\n",
              "               52910.295807973635,\n",
              "               53820.57776871665,\n",
              "               54464.66136049279,\n",
              "               54983.20193138169,\n",
              "               56438.34351103365,\n",
              "               58041.58860364514,\n",
              "               57963.629516544264,\n",
              "               57782.41062031288,\n",
              "               58508.025459440956,\n",
              "               57100.29790999147,\n",
              "               57935.19298499404,\n",
              "               57958.154295580694,\n",
              "               57674.126138872954,\n",
              "               59269.02529560907,\n",
              "               58812.05103715351,\n",
              "               58849.48246324548,\n",
              "               59119.611379666254,\n",
              "               60544.301570511365,\n",
              "               60604.070654343996,\n",
              "               61358.174078180265,\n",
              "               61050.122271962515,\n",
              "               60931.33117699195,\n",
              "               64529.78927287227,\n",
              "               65547.3451992379,\n",
              "               64417.57784643959,\n",
              "               63936.059673953256,\n",
              "               64768.91883637824,\n",
              "               66031.84092656263,\n",
              "               65521.14986537336,\n",
              "               65813.22179532111,\n",
              "               65625.67219630451,\n",
              "               65786.40212459254,\n",
              "               65288.4947106666,\n",
              "               64887.30021202335,\n",
              "               63229.911375505995,\n",
              "               63412.79542172036,\n",
              "               63409.29990970742,\n",
              "               63908.212109053544,\n",
              "               64617.81705597302,\n",
              "               64986.35679453368,\n",
              "               65128.300913356834,\n",
              "               64964.096254484306,\n",
              "               65742.90693002135,\n",
              "               65500.073473471835,\n",
              "               65523.579812391516,\n",
              "               65882.33964753235,\n",
              "               66773.38617767669,\n",
              "               68479.53293031525,\n",
              "               68163.57700242208,\n",
              "               67036.7375568574,\n",
              "               67124.51781491988,\n",
              "               68558.65531975913,\n",
              "               69154.44888845333,\n",
              "               72042.16617463919,\n",
              "               71911.35036075776,\n",
              "               70770.69497129855,\n",
              "               69357.52153157978,\n",
              "               69288.4660825515,\n",
              "               70346.79961388286,\n",
              "               70006.56845731815,\n",
              "               69229.05095810408,\n",
              "               70136.31729686039,\n",
              "               71003.02789133081,\n",
              "               71573.93374564886,\n",
              "               72090.1832407334,\n",
              "               72308.33037748694,\n",
              "               72237.82572274123,\n",
              "               74014.61218602904,\n",
              "               73776.22135286793,\n",
              "               74203.13944698051,\n",
              "               77407.37902365126,\n",
              "               77827.65445028718,\n",
              "               78239.82796899677,\n",
              "               77555.74644866353,\n",
              "               77474.23578314026,\n",
              "               78257.54773820467,\n",
              "               78289.12236599099,\n",
              "               79422.84704027136,\n",
              "               80830.35368484771,\n",
              "               81302.52488499167,\n",
              "               80678.37681025857,\n",
              "               80129.526624346,\n",
              "               81832.25816019485,\n",
              "               82086.13062180812,\n",
              "               83102.31239954822,\n",
              "               83686.3734744496,\n",
              "               83624.27937709192,\n",
              "               83736.47045586734,\n",
              "               84187.38614224717,\n",
              "               84770.57319320586,\n",
              "               85052.67815310918,\n",
              "               84535.4914248571,\n",
              "               84152.68904339343,\n",
              "               84067.74533333392,\n",
              "               83817.09854630406,\n",
              "               82293.61265180632,\n",
              "               81098.54219089291,\n",
              "               80931.23626844284,\n",
              "               81466.17452250092,\n",
              "               82258.31145361614,\n",
              "               82346.55804070487,\n",
              "               83507.72011021784,\n",
              "               83707.13712010073,\n",
              "               82663.20574101519,\n",
              "               82654.15485759987,\n",
              "               83222.86431750367,\n",
              "               83828.18951893852,\n",
              "               82766.18485641241,\n",
              "               82398.00950191352],\n",
              "              'train-RMSE-mean': [7816518.771355957,\n",
              "               7233257.298012099,\n",
              "               6677190.355163104,\n",
              "               6185309.909413825,\n",
              "               5766328.451739726,\n",
              "               5382811.147536314,\n",
              "               5052087.719525346,\n",
              "               4753924.263410732,\n",
              "               4485721.637042528,\n",
              "               4255252.8037898345,\n",
              "               4041378.4653285346,\n",
              "               3862646.194630996,\n",
              "               3708451.9323582486,\n",
              "               3575489.578781018,\n",
              "               3458752.905022184,\n",
              "               3353069.2629726375,\n",
              "               3259114.7180980295,\n",
              "               3182640.4315186567,\n",
              "               3113548.548113253,\n",
              "               3057464.946850566,\n",
              "               3005859.7728899023,\n",
              "               2957500.2384327427,\n",
              "               2916046.2921407204,\n",
              "               2878014.0288992845,\n",
              "               2847574.159099314,\n",
              "               2819393.0773416236,\n",
              "               2793149.019728746,\n",
              "               2769396.41092297,\n",
              "               2746224.6302444804,\n",
              "               2727039.6232185215,\n",
              "               2706260.6465487056,\n",
              "               2690291.0872098114,\n",
              "               2672414.22872744,\n",
              "               2656656.8286240483,\n",
              "               2639754.171434914,\n",
              "               2624662.639330507,\n",
              "               2613931.9546102113,\n",
              "               2600779.6654365053,\n",
              "               2590267.7085370473,\n",
              "               2578835.315590227,\n",
              "               2568155.2682378967,\n",
              "               2558193.9730753615,\n",
              "               2549169.7188230907,\n",
              "               2540537.6295101712,\n",
              "               2532192.803643564,\n",
              "               2524038.8157746354,\n",
              "               2516269.0377830365,\n",
              "               2508540.5678752637,\n",
              "               2501821.0946505056,\n",
              "               2496249.422868079,\n",
              "               2489463.99591463,\n",
              "               2483289.9292853107,\n",
              "               2475668.1617254247,\n",
              "               2471187.210376156,\n",
              "               2465746.5636346103,\n",
              "               2462185.651272948,\n",
              "               2455251.623199254,\n",
              "               2448633.703011232,\n",
              "               2443351.698012046,\n",
              "               2438168.809495739,\n",
              "               2433803.318564174,\n",
              "               2427358.4693652387,\n",
              "               2422840.10338117,\n",
              "               2418354.702856476,\n",
              "               2414436.8123331945,\n",
              "               2410226.2336372533,\n",
              "               2407140.706822664,\n",
              "               2402965.614532623,\n",
              "               2397938.050697401,\n",
              "               2394915.5798655455,\n",
              "               2391285.0307924678,\n",
              "               2386259.549972058,\n",
              "               2382459.940079479,\n",
              "               2378360.7598424326,\n",
              "               2372666.0438294387,\n",
              "               2370305.6024630233,\n",
              "               2366562.7530213934,\n",
              "               2362978.563950125,\n",
              "               2361260.995890659,\n",
              "               2357709.8735181014,\n",
              "               2355885.2079557725,\n",
              "               2351687.383626338,\n",
              "               2347362.710018592,\n",
              "               2342053.2735124216,\n",
              "               2339112.9878699887,\n",
              "               2336296.237064156,\n",
              "               2333687.6904054056,\n",
              "               2331266.8616240392,\n",
              "               2328527.2591005526,\n",
              "               2323984.811856518,\n",
              "               2322434.0655692383,\n",
              "               2317318.0634082593,\n",
              "               2313213.991765564,\n",
              "               2310657.622412002,\n",
              "               2307702.6843236103,\n",
              "               2303806.274921375,\n",
              "               2300679.937709418,\n",
              "               2296847.6944156564,\n",
              "               2295290.2674475065,\n",
              "               2290690.293244844,\n",
              "               2288385.9354109485,\n",
              "               2286937.8035686766,\n",
              "               2282131.6782968366,\n",
              "               2280913.8979095663,\n",
              "               2276973.4754828685,\n",
              "               2274564.262634288,\n",
              "               2271078.354795307,\n",
              "               2267936.705765214,\n",
              "               2265782.123031392,\n",
              "               2263085.4055650607,\n",
              "               2258437.731715959,\n",
              "               2257052.732374048,\n",
              "               2252337.7716592755,\n",
              "               2249922.0018199156,\n",
              "               2246794.632900069,\n",
              "               2244096.501954191,\n",
              "               2241492.729737211,\n",
              "               2239473.4323949637,\n",
              "               2236680.6450132313,\n",
              "               2233758.094982385,\n",
              "               2228777.794071546,\n",
              "               2226774.1669138856,\n",
              "               2225351.687245752,\n",
              "               2222692.157634432,\n",
              "               2221184.3133141347,\n",
              "               2219304.607734968,\n",
              "               2217392.665004011,\n",
              "               2214654.2688612323,\n",
              "               2210615.2174174157,\n",
              "               2209101.2461407497,\n",
              "               2206904.285774006,\n",
              "               2203409.1258879253,\n",
              "               2200074.5792077123,\n",
              "               2197767.9721444077,\n",
              "               2194398.0430204673,\n",
              "               2191439.477236924,\n",
              "               2189251.4625944844,\n",
              "               2185641.974629696,\n",
              "               2181725.739314255,\n",
              "               2180463.4388641133,\n",
              "               2176566.6335391724,\n",
              "               2174012.7888567783,\n",
              "               2172434.4767579082,\n",
              "               2169850.348116124,\n",
              "               2166292.541235547,\n",
              "               2162517.460288351,\n",
              "               2160026.943271687,\n",
              "               2156400.7419316587,\n",
              "               2154578.3355558827,\n",
              "               2152269.9184140433,\n",
              "               2150034.2417570446,\n",
              "               2147293.596588042,\n",
              "               2144951.7993034604,\n",
              "               2140573.0661262283,\n",
              "               2137313.7778886463,\n",
              "               2135191.4679445117,\n",
              "               2132409.464977158,\n",
              "               2130030.3199944478,\n",
              "               2127525.2400399726,\n",
              "               2125533.1263742275,\n",
              "               2122371.812132726,\n",
              "               2119625.7419499904,\n",
              "               2118797.9806001857,\n",
              "               2117193.2984320507,\n",
              "               2114767.0576937106,\n",
              "               2112437.353557566,\n",
              "               2110310.609138249,\n",
              "               2106790.7242458533,\n",
              "               2103683.8354868405,\n",
              "               2100471.5523167434,\n",
              "               2099280.325914713,\n",
              "               2096917.5822362695,\n",
              "               2093602.752350257,\n",
              "               2090726.263781396,\n",
              "               2088820.7586345654,\n",
              "               2086510.0639313776,\n",
              "               2083900.064043061,\n",
              "               2081573.5087920625,\n",
              "               2080369.1387559765,\n",
              "               2077827.0518100169,\n",
              "               2075648.6695578508,\n",
              "               2073590.5023380918,\n",
              "               2070493.1790959437,\n",
              "               2067539.2391967254,\n",
              "               2064922.2617235465,\n",
              "               2063197.6183308417,\n",
              "               2058326.836399739,\n",
              "               2055978.0461614088,\n",
              "               2053171.8406325101,\n",
              "               2050875.6823263166,\n",
              "               2049207.676266948,\n",
              "               2048280.1824110032,\n",
              "               2045339.5707816128,\n",
              "               2043281.9137874146,\n",
              "               2041172.6102941714,\n",
              "               2038362.531791945,\n",
              "               2037240.3077906407,\n",
              "               2036077.6674867712,\n",
              "               2033885.876141994,\n",
              "               2031689.7913183905],\n",
              "              'train-RMSE-std': [36983.45241539159,\n",
              "               33389.42788222856,\n",
              "               32088.90692249515,\n",
              "               23360.28684214725,\n",
              "               18546.798009805236,\n",
              "               17793.444415494876,\n",
              "               20802.803579477008,\n",
              "               14515.443940809715,\n",
              "               16648.17271581872,\n",
              "               16275.87792130153,\n",
              "               15502.670520138257,\n",
              "               13667.784672856962,\n",
              "               18099.347721013157,\n",
              "               13428.726640162244,\n",
              "               13111.199464413749,\n",
              "               15046.459671776185,\n",
              "               20064.59298459722,\n",
              "               21778.827470255022,\n",
              "               22309.962328357306,\n",
              "               23812.425394992883,\n",
              "               28661.89697630842,\n",
              "               30836.035268296884,\n",
              "               31207.55414074451,\n",
              "               32234.795964665143,\n",
              "               33846.61873448065,\n",
              "               35155.14317945018,\n",
              "               33852.550202192106,\n",
              "               34736.64168082133,\n",
              "               35137.23212801517,\n",
              "               35268.76672405808,\n",
              "               36900.958341813755,\n",
              "               39440.27195931675,\n",
              "               38496.30810632875,\n",
              "               39875.82098278504,\n",
              "               40446.62640286133,\n",
              "               43043.25122730112,\n",
              "               43429.816440745526,\n",
              "               44892.60275368456,\n",
              "               44123.98442474117,\n",
              "               45439.231061860075,\n",
              "               43989.164358159986,\n",
              "               46307.60124932744,\n",
              "               45011.056603923476,\n",
              "               44680.380390006314,\n",
              "               45115.49269644037,\n",
              "               46398.16693275444,\n",
              "               44790.8146392151,\n",
              "               44567.909160991825,\n",
              "               45853.95622724744,\n",
              "               44992.03384556427,\n",
              "               45221.04303753188,\n",
              "               43887.55347945237,\n",
              "               42284.605001050186,\n",
              "               43914.7775900701,\n",
              "               42466.092217460595,\n",
              "               42083.89696190105,\n",
              "               39542.3745509192,\n",
              "               40761.70415554183,\n",
              "               41934.35565435491,\n",
              "               39268.69474637717,\n",
              "               36506.362573933955,\n",
              "               36343.99812513518,\n",
              "               34569.60847155021,\n",
              "               36076.16024987706,\n",
              "               36422.12869021306,\n",
              "               35014.92162095574,\n",
              "               35081.93746725629,\n",
              "               35967.53015088264,\n",
              "               36192.45215233567,\n",
              "               36569.303234546125,\n",
              "               36632.56061444482,\n",
              "               37317.950184201945,\n",
              "               37341.45576527642,\n",
              "               36384.37943236322,\n",
              "               36757.0610561491,\n",
              "               36003.63277740631,\n",
              "               34924.54070280262,\n",
              "               35087.2888161726,\n",
              "               34202.31531822873,\n",
              "               35142.12859168405,\n",
              "               36226.80421033874,\n",
              "               37105.05449024733,\n",
              "               38892.139512208116,\n",
              "               37874.59815476128,\n",
              "               38641.7216030262,\n",
              "               38876.813788089305,\n",
              "               39852.65874687908,\n",
              "               38434.19836314495,\n",
              "               37172.0004322394,\n",
              "               35813.82742448876,\n",
              "               35561.727775197876,\n",
              "               36111.3821386616,\n",
              "               36409.31793798994,\n",
              "               36349.25241957246,\n",
              "               38233.264995466554,\n",
              "               36640.94861254454,\n",
              "               38034.66759847393,\n",
              "               36899.526545172426,\n",
              "               36641.94278037499,\n",
              "               37641.89363883701,\n",
              "               38443.09662438719,\n",
              "               38400.41032489055,\n",
              "               37016.89376088067,\n",
              "               37766.59036221211,\n",
              "               35445.42208955006,\n",
              "               35216.08412848899,\n",
              "               35295.29508238196,\n",
              "               36407.55109448331,\n",
              "               35116.68375346499,\n",
              "               35263.325660416594,\n",
              "               35728.81480807892,\n",
              "               35871.70547432647,\n",
              "               36231.767432176435,\n",
              "               33411.36113612788,\n",
              "               32676.461954770228,\n",
              "               33355.28962918083,\n",
              "               31270.642903633743,\n",
              "               31310.87711366376,\n",
              "               29820.574563243335,\n",
              "               30236.327268837125,\n",
              "               32338.64820894652,\n",
              "               33284.788789094906,\n",
              "               34612.669077998224,\n",
              "               33618.59828973759,\n",
              "               33812.39618279822,\n",
              "               34260.5952192658,\n",
              "               35867.92148181159,\n",
              "               36397.239170038105,\n",
              "               35229.75307797501,\n",
              "               36549.8888011825,\n",
              "               37853.47667856418,\n",
              "               38184.211963170164,\n",
              "               38739.1172263428,\n",
              "               38272.53060747453,\n",
              "               37513.7475607849,\n",
              "               38493.149453280574,\n",
              "               37804.85803882077,\n",
              "               37335.47064469764,\n",
              "               36535.876947462224,\n",
              "               36622.72770860314,\n",
              "               36694.77418782383,\n",
              "               36432.60049645511,\n",
              "               36694.70840490807,\n",
              "               37280.2505052085,\n",
              "               34731.48298658882,\n",
              "               34488.265677325,\n",
              "               35946.20344370035,\n",
              "               36319.12284232874,\n",
              "               35665.92635034718,\n",
              "               35598.962006091126,\n",
              "               36191.70114746557,\n",
              "               37676.902271797444,\n",
              "               35675.59082926368,\n",
              "               35361.681772586526,\n",
              "               35378.26902457647,\n",
              "               35399.85268791562,\n",
              "               34643.812212271354,\n",
              "               33121.17883591394,\n",
              "               33447.93615088749,\n",
              "               33950.1792815759,\n",
              "               33362.96644843649,\n",
              "               30463.9050421189,\n",
              "               29580.42522914544,\n",
              "               30683.344507884325,\n",
              "               30863.17994987623,\n",
              "               31798.785351719656,\n",
              "               30680.600181847476,\n",
              "               30728.653720487648,\n",
              "               31125.275953960423,\n",
              "               29674.411425131333,\n",
              "               29274.07326298237,\n",
              "               29205.294203546477,\n",
              "               29109.3979967133,\n",
              "               30867.514319535465,\n",
              "               29418.562942546538,\n",
              "               30417.365583327897,\n",
              "               29653.30336864771,\n",
              "               29318.28532254184,\n",
              "               29105.446627088033,\n",
              "               29853.890829451884,\n",
              "               29749.79500076212,\n",
              "               30123.601732532756,\n",
              "               29155.398146761498,\n",
              "               28757.462198921337,\n",
              "               28615.458366744468,\n",
              "               29210.431075553723,\n",
              "               29759.970118232384,\n",
              "               30514.424904747106,\n",
              "               31203.5828298541,\n",
              "               30281.282207297052,\n",
              "               28219.307151565878,\n",
              "               27911.864575500193,\n",
              "               27548.968902584355,\n",
              "               28084.985812777104,\n",
              "               29464.676380639117,\n",
              "               28473.439560217117,\n",
              "               27990.394356527075,\n",
              "               27377.797720213945,\n",
              "               27706.481987550185,\n",
              "               28100.585554338104]}),\n",
              " 'params': {'depth': 6,\n",
              "  'iterations': 200,\n",
              "  'l2_leaf_reg': 3,\n",
              "  'learning_rate': 0.1}}"
            ]
          },
          "metadata": {},
          "execution_count": 366
        }
      ]
    },
    {
      "cell_type": "code",
      "source": [
        "from sklearn.metrics import r2_score, mean_squared_error"
      ],
      "metadata": {
        "id": "ixXzwk3Remiy"
      },
      "execution_count": null,
      "outputs": []
    },
    {
      "cell_type": "code",
      "source": [
        "y_pred_cbr = model_cbr.predict(X_test_1)\n",
        "print('RMSE on test sample = {}\\nr2_score = {}'.format(mean_squared_error(y_test_1, y_pred_cbr, squared=False), r2_score(y_test_1, y_pred_cbr)))"
      ],
      "metadata": {
        "colab": {
          "base_uri": "https://localhost:8080/"
        },
        "id": "VCumgs38eT9T",
        "outputId": "d573dad0-7f61-4997-ca6d-2363678d9363"
      },
      "execution_count": null,
      "outputs": [
        {
          "output_type": "stream",
          "name": "stdout",
          "text": [
            "RMSE on test sample = 2548583.8861317113\n",
            "r2_score = 0.7136928843400657\n"
          ]
        }
      ]
    },
    {
      "cell_type": "code",
      "source": [
        "pd.DataFrame(list(zip(y_pred_cbr, y_test)), columns=['y_pred_cbr', 'y_test'])"
      ],
      "metadata": {
        "colab": {
          "base_uri": "https://localhost:8080/",
          "height": 417
        },
        "id": "cstG981qf26t",
        "outputId": "94de22cf-72ea-44d7-de4c-132ba21d93d9"
      },
      "execution_count": null,
      "outputs": [
        {
          "output_type": "execute_result",
          "data": {
            "text/html": [
              "<div>\n",
              "<style scoped>\n",
              "    .dataframe tbody tr th:only-of-type {\n",
              "        vertical-align: middle;\n",
              "    }\n",
              "\n",
              "    .dataframe tbody tr th {\n",
              "        vertical-align: top;\n",
              "    }\n",
              "\n",
              "    .dataframe thead th {\n",
              "        text-align: right;\n",
              "    }\n",
              "</style>\n",
              "<table border=\"1\" class=\"dataframe\">\n",
              "  <thead>\n",
              "    <tr style=\"text-align: right;\">\n",
              "      <th></th>\n",
              "      <th>y_pred_cbr</th>\n",
              "      <th>y_test</th>\n",
              "    </tr>\n",
              "  </thead>\n",
              "  <tbody>\n",
              "    <tr>\n",
              "      <th>0</th>\n",
              "      <td>9.292934e+06</td>\n",
              "      <td>3000000</td>\n",
              "    </tr>\n",
              "    <tr>\n",
              "      <th>1</th>\n",
              "      <td>4.822851e+06</td>\n",
              "      <td>5200000</td>\n",
              "    </tr>\n",
              "    <tr>\n",
              "      <th>2</th>\n",
              "      <td>4.304078e+06</td>\n",
              "      <td>3994557</td>\n",
              "    </tr>\n",
              "    <tr>\n",
              "      <th>3</th>\n",
              "      <td>6.455394e+06</td>\n",
              "      <td>6900000</td>\n",
              "    </tr>\n",
              "    <tr>\n",
              "      <th>4</th>\n",
              "      <td>6.401606e+06</td>\n",
              "      <td>6500000</td>\n",
              "    </tr>\n",
              "    <tr>\n",
              "      <th>...</th>\n",
              "      <td>...</td>\n",
              "      <td>...</td>\n",
              "    </tr>\n",
              "    <tr>\n",
              "      <th>3990</th>\n",
              "      <td>5.076974e+06</td>\n",
              "      <td>5300000</td>\n",
              "    </tr>\n",
              "    <tr>\n",
              "      <th>3991</th>\n",
              "      <td>3.218872e+06</td>\n",
              "      <td>5000000</td>\n",
              "    </tr>\n",
              "    <tr>\n",
              "      <th>3992</th>\n",
              "      <td>8.097901e+06</td>\n",
              "      <td>6372400</td>\n",
              "    </tr>\n",
              "    <tr>\n",
              "      <th>3993</th>\n",
              "      <td>5.884639e+06</td>\n",
              "      <td>5500000</td>\n",
              "    </tr>\n",
              "    <tr>\n",
              "      <th>3994</th>\n",
              "      <td>2.096467e+07</td>\n",
              "      <td>25000000</td>\n",
              "    </tr>\n",
              "  </tbody>\n",
              "</table>\n",
              "<p>3995 rows × 2 columns</p>\n",
              "</div>"
            ],
            "text/plain": [
              "        y_pred_cbr    y_test\n",
              "0     9.292934e+06   3000000\n",
              "1     4.822851e+06   5200000\n",
              "2     4.304078e+06   3994557\n",
              "3     6.455394e+06   6900000\n",
              "4     6.401606e+06   6500000\n",
              "...            ...       ...\n",
              "3990  5.076974e+06   5300000\n",
              "3991  3.218872e+06   5000000\n",
              "3992  8.097901e+06   6372400\n",
              "3993  5.884639e+06   5500000\n",
              "3994  2.096467e+07  25000000\n",
              "\n",
              "[3995 rows x 2 columns]"
            ]
          },
          "metadata": {},
          "execution_count": 372
        }
      ]
    },
    {
      "cell_type": "markdown",
      "source": [
        "Подберем гиперпараметры для Деревья Решений"
      ],
      "metadata": {
        "id": "TNbYSfGjIBP6"
      }
    },
    {
      "cell_type": "code",
      "source": [
        "from sklearn.model_selection import GridSearchCV\n",
        "from sklearn.metrics import make_scorer"
      ],
      "metadata": {
        "id": "jlSv3lDt0V2o"
      },
      "execution_count": null,
      "outputs": []
    },
    {
      "cell_type": "code",
      "source": [
        "parametrs = {\n",
        "    'max_depth': range(2, 11, 2),\n",
        "    'min_samples_split': [2, 3, 4],\n",
        "    'min_samples_leaf': range(1, 10, 3),\n",
        "    'max_features': ['auto', 'sqrt', 'log2']\n",
        "}\n",
        "rmse = make_scorer(mean_squared_error, squared=False)\n",
        "grid = GridSearchCV(DecisionTreeRegressor(random_state=42), parametrs, cv=5, scoring=rmse)\n",
        "grid.fit(X, y)"
      ],
      "metadata": {
        "colab": {
          "base_uri": "https://localhost:8080/"
        },
        "id": "0I7dBabp0U6n",
        "outputId": "ad1766f3-ade0-4d2b-9a8e-d516fc013eb6"
      },
      "execution_count": null,
      "outputs": [
        {
          "output_type": "execute_result",
          "data": {
            "text/plain": [
              "GridSearchCV(cv=5, estimator=DecisionTreeRegressor(random_state=42),\n",
              "             param_grid={'max_depth': range(2, 11, 2),\n",
              "                         'max_features': ['auto', 'sqrt', 'log2'],\n",
              "                         'min_samples_leaf': range(1, 10, 3),\n",
              "                         'min_samples_split': [2, 3, 4]},\n",
              "             scoring=make_scorer(mean_squared_error, squared=False))"
            ]
          },
          "metadata": {},
          "execution_count": 389
        }
      ]
    },
    {
      "cell_type": "code",
      "source": [
        "grid.best_score_"
      ],
      "metadata": {
        "colab": {
          "base_uri": "https://localhost:8080/"
        },
        "id": "WaqJYzty8Ef5",
        "outputId": "ebf69092-ae6d-4d1e-aabf-fad946932dfb"
      },
      "execution_count": null,
      "outputs": [
        {
          "output_type": "execute_result",
          "data": {
            "text/plain": [
              "3889905.2465689727"
            ]
          },
          "metadata": {},
          "execution_count": 390
        }
      ]
    },
    {
      "cell_type": "code",
      "source": [
        "grid.best_params_"
      ],
      "metadata": {
        "colab": {
          "base_uri": "https://localhost:8080/"
        },
        "id": "jC2PJ9pyKQvE",
        "outputId": "c2bd04aa-aa2c-43b3-9d9c-1eb8deedca4a"
      },
      "execution_count": null,
      "outputs": [
        {
          "output_type": "execute_result",
          "data": {
            "text/plain": [
              "{'max_depth': 2,\n",
              " 'max_features': 'log2',\n",
              " 'min_samples_leaf': 1,\n",
              " 'min_samples_split': 2}"
            ]
          },
          "metadata": {},
          "execution_count": 391
        }
      ]
    },
    {
      "cell_type": "markdown",
      "source": [
        "baseline дает плохие результаты, поэтому больше не будем его использовать"
      ],
      "metadata": {
        "id": "ySf41LLdKqNs"
      }
    },
    {
      "cell_type": "markdown",
      "source": [
        "Приступим к подбору гиперпараметров для Случайного Леса"
      ],
      "metadata": {
        "id": "gS-aDkbjIYlg"
      }
    },
    {
      "cell_type": "code",
      "source": [
        "-np.mean(cross_val_score(\n",
        "                        RandomForestRegressor(random_state=42, max_depth=10),\n",
        "                        X, \n",
        "                        y, \n",
        "                        cv=5, \n",
        "                        scoring='neg_root_mean_squared_error',\n",
        "                        )\n",
        "        )"
      ],
      "metadata": {
        "colab": {
          "base_uri": "https://localhost:8080/"
        },
        "id": "Iw0Y49xlLnP9",
        "outputId": "4d714e79-961d-4000-9781-8ace56558301"
      },
      "execution_count": null,
      "outputs": [
        {
          "output_type": "execute_result",
          "data": {
            "text/plain": [
              "2702136.9731747014"
            ]
          },
          "metadata": {},
          "execution_count": 38
        }
      ]
    },
    {
      "cell_type": "code",
      "source": [
        "-np.mean(cross_val_score(\n",
        "                        RandomForestRegressor(random_state=42, max_depth=20),\n",
        "                        X, \n",
        "                        y, \n",
        "                        cv=5, \n",
        "                        scoring='neg_root_mean_squared_error',\n",
        "                        )\n",
        "        )"
      ],
      "metadata": {
        "colab": {
          "base_uri": "https://localhost:8080/"
        },
        "id": "bSck87qiW8Tf",
        "outputId": "adc4ed1c-4f6b-4a89-e7f5-d0728da63d63"
      },
      "execution_count": null,
      "outputs": [
        {
          "output_type": "execute_result",
          "data": {
            "text/plain": [
              "2697434.332144283"
            ]
          },
          "metadata": {},
          "execution_count": 394
        }
      ]
    },
    {
      "cell_type": "code",
      "source": [
        "parametrs = {\n",
        "    'max_depth': range(6, 11, 2),\n",
        "    'min_samples_leaf': range(1, 11, 3),\n",
        "    'max_features': ['auto', 'sqrt', 'log2']\n",
        "}\n",
        "rmse = make_scorer(mean_squared_error, squared=False)\n",
        "grid = GridSearchCV(RandomForestRegressor(random_state=42), parametrs, cv=5, scoring=rmse)\n",
        "grid.fit(X, y)"
      ],
      "metadata": {
        "colab": {
          "base_uri": "https://localhost:8080/"
        },
        "id": "ZAnziuCrcJsx",
        "outputId": "3d157861-f0ed-445a-f52d-cc3310219715"
      },
      "execution_count": null,
      "outputs": [
        {
          "output_type": "execute_result",
          "data": {
            "text/plain": [
              "GridSearchCV(cv=5, estimator=RandomForestRegressor(random_state=42),\n",
              "             param_grid={'max_depth': range(6, 11, 2),\n",
              "                         'max_features': ['auto', 'sqrt', 'log2'],\n",
              "                         'min_samples_leaf': range(1, 11, 3)},\n",
              "             scoring=make_scorer(mean_squared_error, squared=False))"
            ]
          },
          "metadata": {},
          "execution_count": 39
        }
      ]
    },
    {
      "cell_type": "code",
      "source": [
        "grid.best_score_"
      ],
      "metadata": {
        "colab": {
          "base_uri": "https://localhost:8080/"
        },
        "id": "hHaf97ZXmJo8",
        "outputId": "c0f2225a-8d5c-44bd-81db-f878cbc63ef9"
      },
      "execution_count": null,
      "outputs": [
        {
          "output_type": "execute_result",
          "data": {
            "text/plain": [
              "3687214.8742310777"
            ]
          },
          "metadata": {},
          "execution_count": 44
        }
      ]
    },
    {
      "cell_type": "code",
      "source": [
        "grid.best_params_"
      ],
      "metadata": {
        "colab": {
          "base_uri": "https://localhost:8080/"
        },
        "id": "S8hNxDcPoPD9",
        "outputId": "c06edb69-a473-4206-a026-da8858b3a7ff"
      },
      "execution_count": null,
      "outputs": [
        {
          "output_type": "execute_result",
          "data": {
            "text/plain": [
              "{'max_depth': 6, 'max_features': 'log2', 'min_samples_leaf': 10}"
            ]
          },
          "metadata": {},
          "execution_count": 41
        }
      ]
    },
    {
      "cell_type": "code",
      "source": [
        "grid.best_estimator_"
      ],
      "metadata": {
        "colab": {
          "base_uri": "https://localhost:8080/"
        },
        "id": "nvNUyoeKKPSf",
        "outputId": "8e26f8e0-b254-414b-8e4e-610bd8e20749"
      },
      "execution_count": null,
      "outputs": [
        {
          "output_type": "execute_result",
          "data": {
            "text/plain": [
              "RandomForestRegressor(max_depth=6, max_features='log2', min_samples_leaf=10,\n",
              "                      random_state=42)"
            ]
          },
          "metadata": {},
          "execution_count": 46
        }
      ]
    },
    {
      "cell_type": "code",
      "source": [
        "-np.mean(cross_val_score(\n",
        "                        RandomForestRegressor(max_depth=10,\n",
        "                                              max_features='auto',\n",
        "                                              min_samples_leaf=1,\n",
        "                                              random_state=42),\n",
        "                        X, \n",
        "                        y, \n",
        "                        cv=5, \n",
        "                        scoring='neg_root_mean_squared_error',\n",
        "                        )\n",
        "        )"
      ],
      "metadata": {
        "colab": {
          "base_uri": "https://localhost:8080/"
        },
        "id": "Mamt5kkrL03o",
        "outputId": "2270dc0b-a423-4ab9-c7be-4b1bda6b4169"
      },
      "execution_count": null,
      "outputs": [
        {
          "output_type": "execute_result",
          "data": {
            "text/plain": [
              "2702136.9731747014"
            ]
          },
          "metadata": {},
          "execution_count": 48
        }
      ]
    },
    {
      "cell_type": "code",
      "source": [
        "min(grid.cv_results_['mean_test_score'])"
      ],
      "metadata": {
        "colab": {
          "base_uri": "https://localhost:8080/"
        },
        "id": "XOa-1VRyN6WW",
        "outputId": "817c8f46-7493-43b0-9b18-94ae78c6f62f"
      },
      "execution_count": null,
      "outputs": [
        {
          "output_type": "execute_result",
          "data": {
            "text/plain": [
              "2699327.966279132"
            ]
          },
          "metadata": {},
          "execution_count": 54
        }
      ]
    },
    {
      "cell_type": "markdown",
      "source": [
        "Поскольку я воспользовался не scoring = \"neg_root_mean_squared_error\", а make_scorer, мне гридсерч дал не совсем то, что нужно, поэтому, примерно его лучший результат это RMSE on cv = 2.700.000 при max_depth = 10 это для RandomForest"
      ],
      "metadata": {
        "id": "gvRw2dNfavjo"
      }
    },
    {
      "cell_type": "code",
      "source": [
        ""
      ],
      "metadata": {
        "id": "npZry-0nyUAO"
      },
      "execution_count": null,
      "outputs": []
    },
    {
      "cell_type": "markdown",
      "source": [
        "На данном этапе я понял, что есть небольшое различие запуска катбустовского грид серча. Если запускать на трейне (как я сделал выше), мы все еще можем посчитать rmse на тестовой выборке. Но если запустить ее на всем множестве, не получится рассчитать rmse на тестовой выборке (потому что модель уже видела эти данные), но гиперпараметры будут подобраны, как по мне, более точно. Сейчас я повторю запуск на всем множестве X_1, y_1"
      ],
      "metadata": {
        "id": "4YMl3msr_6ko"
      }
    },
    {
      "cell_type": "code",
      "source": [
        "from catboost import Pool "
      ],
      "metadata": {
        "id": "cOEybg3sguBb"
      },
      "execution_count": null,
      "outputs": []
    },
    {
      "cell_type": "code",
      "source": [
        "model_cbr = cb.CatBoostRegressor(\n",
        "                                loss_function='RMSE',\n",
        "                                random_seed=42,\n",
        "                                logging_level='Silent',\n",
        "                                )"
      ],
      "metadata": {
        "id": "YFc0NDFWdLkz"
      },
      "execution_count": null,
      "outputs": []
    },
    {
      "cell_type": "code",
      "source": [
        "for column in cat_columns:\n",
        "    if df1[column].dtypes == 'float64':\n",
        "        df1[column] = df1[column].apply(lambda x: int(x))    \n",
        "\n",
        "X_1 = df1.drop(['price', 'timestamp', 'id'], axis=1)\n",
        "y_1 = df1.price\n",
        "X_train_1, X_test_1, y_train_1, y_test_1 = train_test_split(X_1, y_1, test_size=0.2, random_state=42)"
      ],
      "metadata": {
        "id": "4OH65GhfhGqK"
      },
      "execution_count": null,
      "outputs": []
    },
    {
      "cell_type": "code",
      "source": [
        "categorical_feature_indices = [X_1.columns.get_loc(c) for c in cat_columns.columns if c in X_1]"
      ],
      "metadata": {
        "id": "r2B-08rCin_Z"
      },
      "execution_count": null,
      "outputs": []
    },
    {
      "cell_type": "code",
      "source": [
        "grid = {'iterations': [100, 150, 200],\n",
        " 'learning_rate': [0.03, 0.1, 1],\n",
        " 'depth': [2, 4, 6, 8],\n",
        " 'l2_leaf_reg': [0.2, 0.5, 1, 3]}\n",
        "\n",
        "model_cbr.grid_search(grid, \n",
        "                      Pool(X_1,\n",
        "                           y_1,\n",
        "                           cat_features = categorical_feature_indices\n",
        "                           ),\n",
        "                      partition_random_seed=42)"
      ],
      "metadata": {
        "colab": {
          "base_uri": "https://localhost:8080/"
        },
        "id": "hWs1rC2YiZmq",
        "outputId": "5c1213ba-f0f6-4c7c-a9b0-671fbe717c10"
      },
      "execution_count": null,
      "outputs": [
        {
          "output_type": "stream",
          "name": "stdout",
          "text": [
            "0:\tloss: 3519478.4609143\tbest: 3519478.4609143 (0)\ttotal: 2.32s\tremaining: 5m 31s\n",
            "1:\tloss: 3097735.6049302\tbest: 3097735.6049302 (1)\ttotal: 4.17s\tremaining: 4m 56s\n",
            "2:\tloss: 3107263.9853650\tbest: 3097735.6049302 (1)\ttotal: 6.03s\tremaining: 4m 43s\n",
            "3:\tloss: 3520237.7028783\tbest: 3097735.6049302 (1)\ttotal: 7.92s\tremaining: 4m 37s\n",
            "4:\tloss: 3069591.4020863\tbest: 3069591.4020863 (4)\ttotal: 9.79s\tremaining: 4m 32s\n",
            "5:\tloss: 3000148.4919933\tbest: 3000148.4919933 (5)\ttotal: 11.7s\tremaining: 4m 28s\n",
            "6:\tloss: 3514021.1583588\tbest: 3000148.4919933 (5)\ttotal: 13.6s\tremaining: 4m 25s\n",
            "7:\tloss: 3071083.5392065\tbest: 3000148.4919933 (5)\ttotal: 15.4s\tremaining: 4m 22s\n",
            "8:\tloss: 2964073.6483574\tbest: 2964073.6483574 (8)\ttotal: 17.3s\tremaining: 4m 18s\n",
            "9:\tloss: 3520663.2533701\tbest: 2964073.6483574 (8)\ttotal: 19.1s\tremaining: 4m 16s\n",
            "10:\tloss: 3093641.6614577\tbest: 2964073.6483574 (8)\ttotal: 21s\tremaining: 4m 13s\n",
            "11:\tloss: 2983810.5125455\tbest: 2964073.6483574 (8)\ttotal: 22.8s\tremaining: 4m 11s\n",
            "12:\tloss: 3312818.3457036\tbest: 2964073.6483574 (8)\ttotal: 25.7s\tremaining: 4m 18s\n",
            "13:\tloss: 3000050.9904962\tbest: 2964073.6483574 (8)\ttotal: 28.4s\tremaining: 4m 23s\n",
            "14:\tloss: 3107263.9853650\tbest: 2964073.6483574 (8)\ttotal: 31.2s\tremaining: 4m 28s\n",
            "15:\tloss: 3313417.8841348\tbest: 2964073.6483574 (8)\ttotal: 34s\tremaining: 4m 32s\n",
            "16:\tloss: 2996926.8796132\tbest: 2964073.6483574 (8)\ttotal: 36.8s\tremaining: 4m 35s\n",
            "17:\tloss: 2952720.0233596\tbest: 2952720.0233596 (17)\ttotal: 39.6s\tremaining: 4m 36s\n",
            "18:\tloss: 3306579.1988447\tbest: 2952720.0233596 (17)\ttotal: 42.4s\tremaining: 4m 38s\n",
            "19:\tloss: 2991798.2161343\tbest: 2952720.0233596 (17)\ttotal: 45.2s\tremaining: 4m 39s\n",
            "20:\tloss: 2952408.2311392\tbest: 2952408.2311392 (20)\ttotal: 47.9s\tremaining: 4m 40s\n",
            "21:\tloss: 3326489.0253318\tbest: 2952408.2311392 (20)\ttotal: 50.7s\tremaining: 4m 41s\n",
            "22:\tloss: 3019133.7962928\tbest: 2952408.2311392 (20)\ttotal: 53.5s\tremaining: 4m 41s\n",
            "23:\tloss: 2983810.5125455\tbest: 2952408.2311392 (20)\ttotal: 56.2s\tremaining: 4m 41s\n",
            "24:\tloss: 3217155.5636302\tbest: 2952408.2311392 (20)\ttotal: 1m\tremaining: 4m 50s\n",
            "25:\tloss: 2939665.1184648\tbest: 2939665.1184648 (25)\ttotal: 1m 5s\tremaining: 4m 57s\n",
            "26:\tloss: 2981495.1648660\tbest: 2939665.1184648 (25)\ttotal: 1m 10s\tremaining: 5m 4s\n",
            "27:\tloss: 3207605.1238565\tbest: 2939665.1184648 (25)\ttotal: 1m 15s\tremaining: 5m 10s\n",
            "28:\tloss: 2949955.3971540\tbest: 2939665.1184648 (25)\ttotal: 1m 19s\tremaining: 5m 15s\n",
            "29:\tloss: 2898182.1611953\tbest: 2898182.1611953 (29)\ttotal: 1m 24s\tremaining: 5m 20s\n",
            "30:\tloss: 3220994.2028282\tbest: 2898182.1611953 (29)\ttotal: 1m 28s\tremaining: 5m 24s\n",
            "31:\tloss: 2943798.6027911\tbest: 2898182.1611953 (29)\ttotal: 1m 33s\tremaining: 5m 27s\n",
            "32:\tloss: 2996950.6928189\tbest: 2898182.1611953 (29)\ttotal: 1m 38s\tremaining: 5m 30s\n",
            "33:\tloss: 3229692.2054114\tbest: 2898182.1611953 (29)\ttotal: 1m 42s\tremaining: 5m 32s\n",
            "34:\tloss: 2968034.2512383\tbest: 2898182.1611953 (29)\ttotal: 1m 47s\tremaining: 5m 34s\n",
            "35:\tloss: 2908220.1974246\tbest: 2898182.1611953 (29)\ttotal: 1m 52s\tremaining: 5m 36s\n",
            "36:\tloss: 3290758.0002643\tbest: 2898182.1611953 (29)\ttotal: 1m 55s\tremaining: 5m 35s\n",
            "37:\tloss: 2894524.6723574\tbest: 2894524.6723574 (37)\ttotal: 1m 59s\tremaining: 5m 33s\n",
            "38:\tloss: 3114088.6802867\tbest: 2894524.6723574 (37)\ttotal: 2m 3s\tremaining: 5m 31s\n",
            "39:\tloss: 3280447.4481334\tbest: 2894524.6723574 (37)\ttotal: 2m 6s\tremaining: 5m 29s\n",
            "40:\tloss: 2857968.3019432\tbest: 2857968.3019432 (40)\ttotal: 2m 10s\tremaining: 5m 27s\n",
            "41:\tloss: 3045594.3783754\tbest: 2857968.3019432 (40)\ttotal: 2m 13s\tremaining: 5m 25s\n",
            "42:\tloss: 3285873.6841012\tbest: 2857968.3019432 (40)\ttotal: 2m 17s\tremaining: 5m 23s\n",
            "43:\tloss: 2897280.8832627\tbest: 2857968.3019432 (40)\ttotal: 2m 21s\tremaining: 5m 20s\n",
            "44:\tloss: 3003624.8522676\tbest: 2857968.3019432 (40)\ttotal: 2m 24s\tremaining: 5m 18s\n",
            "45:\tloss: 3302715.8986292\tbest: 2857968.3019432 (40)\ttotal: 2m 28s\tremaining: 5m 16s\n",
            "46:\tloss: 2913645.0433989\tbest: 2857968.3019432 (40)\ttotal: 2m 31s\tremaining: 5m 13s\n",
            "47:\tloss: 2880720.5818299\tbest: 2857968.3019432 (40)\ttotal: 2m 35s\tremaining: 5m 11s\n",
            "48:\tloss: 3101075.2426607\tbest: 2857968.3019432 (40)\ttotal: 2m 40s\tremaining: 5m 12s\n",
            "49:\tloss: 2828007.7782789\tbest: 2828007.7782789 (49)\ttotal: 2m 46s\tremaining: 5m 12s\n",
            "50:\tloss: 3114088.6802867\tbest: 2828007.7782789 (49)\ttotal: 2m 51s\tremaining: 5m 12s\n",
            "51:\tloss: 3094510.5045484\tbest: 2828007.7782789 (49)\ttotal: 2m 57s\tremaining: 5m 13s\n",
            "52:\tloss: 2766475.1334968\tbest: 2766475.1334968 (52)\ttotal: 3m 2s\tremaining: 5m 13s\n",
            "53:\tloss: 3045594.3783754\tbest: 2766475.1334968 (52)\ttotal: 3m 7s\tremaining: 5m 12s\n",
            "54:\tloss: 3101996.9011516\tbest: 2766475.1334968 (52)\ttotal: 3m 13s\tremaining: 5m 12s\n",
            "55:\tloss: 2818149.2177738\tbest: 2766475.1334968 (52)\ttotal: 3m 18s\tremaining: 5m 12s\n",
            "56:\tloss: 3003624.8522676\tbest: 2766475.1334968 (52)\ttotal: 3m 23s\tremaining: 5m 11s\n",
            "57:\tloss: 3112566.0030699\tbest: 2766475.1334968 (52)\ttotal: 3m 29s\tremaining: 5m 10s\n",
            "58:\tloss: 2803867.8619643\tbest: 2766475.1334968 (52)\ttotal: 3m 34s\tremaining: 5m 9s\n",
            "59:\tloss: 2880720.5818299\tbest: 2766475.1334968 (52)\ttotal: 3m 39s\tremaining: 5m 7s\n",
            "60:\tloss: 2982948.5005957\tbest: 2766475.1334968 (52)\ttotal: 3m 50s\tremaining: 5m 13s\n",
            "61:\tloss: 2782295.2896083\tbest: 2766475.1334968 (52)\ttotal: 4m\tremaining: 5m 18s\n",
            "62:\tloss: 3027092.3534853\tbest: 2766475.1334968 (52)\ttotal: 4m 11s\tremaining: 5m 22s\n",
            "63:\tloss: 2977846.3992240\tbest: 2766475.1334968 (52)\ttotal: 4m 21s\tremaining: 5m 26s\n",
            "64:\tloss: 2800274.2697373\tbest: 2766475.1334968 (52)\ttotal: 4m 31s\tremaining: 5m 30s\n",
            "65:\tloss: 3132846.2150667\tbest: 2766475.1334968 (52)\ttotal: 4m 42s\tremaining: 5m 33s\n",
            "66:\tloss: 3009423.3359054\tbest: 2766475.1334968 (52)\ttotal: 4m 52s\tremaining: 5m 36s\n",
            "67:\tloss: 2740719.8792543\tbest: 2740719.8792543 (67)\ttotal: 5m 2s\tremaining: 5m 38s\n",
            "68:\tloss: 3107354.8149931\tbest: 2740719.8792543 (67)\ttotal: 5m 13s\tremaining: 5m 40s\n",
            "69:\tloss: 3013230.7454982\tbest: 2740719.8792543 (67)\ttotal: 5m 23s\tremaining: 5m 42s\n",
            "70:\tloss: 2794383.6889732\tbest: 2740719.8792543 (67)\ttotal: 5m 34s\tremaining: 5m 43s\n",
            "71:\tloss: 2928061.3989579\tbest: 2740719.8792543 (67)\ttotal: 5m 44s\tremaining: 5m 44s\n",
            "72:\tloss: 3178408.9931360\tbest: 2740719.8792543 (67)\ttotal: 5m 51s\tremaining: 5m 42s\n",
            "73:\tloss: 2786338.1574837\tbest: 2740719.8792543 (67)\ttotal: 5m 59s\tremaining: 5m 39s\n",
            "74:\tloss: 3106762.0171451\tbest: 2740719.8792543 (67)\ttotal: 6m 6s\tremaining: 5m 37s\n",
            "75:\tloss: 3136413.7263728\tbest: 2740719.8792543 (67)\ttotal: 6m 14s\tremaining: 5m 34s\n",
            "76:\tloss: 2847144.3939311\tbest: 2740719.8792543 (67)\ttotal: 6m 21s\tremaining: 5m 32s\n",
            "77:\tloss: 3119011.9291264\tbest: 2740719.8792543 (67)\ttotal: 6m 29s\tremaining: 5m 29s\n",
            "78:\tloss: 3186426.2086945\tbest: 2740719.8792543 (67)\ttotal: 6m 36s\tremaining: 5m 26s\n",
            "79:\tloss: 2825021.6889503\tbest: 2740719.8792543 (67)\ttotal: 6m 44s\tremaining: 5m 23s\n",
            "80:\tloss: 2965178.3318102\tbest: 2740719.8792543 (67)\ttotal: 6m 51s\tremaining: 5m 19s\n",
            "81:\tloss: 3209002.0273848\tbest: 2740719.8792543 (67)\ttotal: 6m 58s\tremaining: 5m 16s\n",
            "82:\tloss: 2851222.5110933\tbest: 2740719.8792543 (67)\ttotal: 7m 6s\tremaining: 5m 13s\n",
            "83:\tloss: 3012075.9526522\tbest: 2740719.8792543 (67)\ttotal: 7m 13s\tremaining: 5m 9s\n",
            "84:\tloss: 3001454.8987778\tbest: 2740719.8792543 (67)\ttotal: 7m 24s\tremaining: 5m 8s\n",
            "85:\tloss: 2742135.2016336\tbest: 2740719.8792543 (67)\ttotal: 7m 36s\tremaining: 5m 7s\n",
            "86:\tloss: 3106762.0171451\tbest: 2740719.8792543 (67)\ttotal: 7m 47s\tremaining: 5m 5s\n",
            "87:\tloss: 2952033.3797522\tbest: 2740719.8792543 (67)\ttotal: 7m 58s\tremaining: 5m 4s\n",
            "88:\tloss: 2788509.8133712\tbest: 2740719.8792543 (67)\ttotal: 8m 8s\tremaining: 5m 2s\n",
            "89:\tloss: 3119011.9291264\tbest: 2740719.8792543 (67)\ttotal: 8m 19s\tremaining: 4m 59s\n",
            "90:\tloss: 3009360.8075928\tbest: 2740719.8792543 (67)\ttotal: 8m 31s\tremaining: 4m 57s\n",
            "91:\tloss: 2765811.3688205\tbest: 2740719.8792543 (67)\ttotal: 8m 41s\tremaining: 4m 54s\n",
            "92:\tloss: 2965178.3318102\tbest: 2740719.8792543 (67)\ttotal: 8m 52s\tremaining: 4m 52s\n",
            "93:\tloss: 3039236.2544319\tbest: 2740719.8792543 (67)\ttotal: 9m 4s\tremaining: 4m 49s\n",
            "94:\tloss: 2790088.5215612\tbest: 2740719.8792543 (67)\ttotal: 9m 14s\tremaining: 4m 46s\n",
            "95:\tloss: 3012075.9526522\tbest: 2740719.8792543 (67)\ttotal: 9m 25s\tremaining: 4m 42s\n",
            "96:\tloss: 2876255.6861097\tbest: 2740719.8792543 (67)\ttotal: 9m 47s\tremaining: 4m 44s\n",
            "97:\tloss: 2728786.6512628\tbest: 2728786.6512628 (97)\ttotal: 10m 8s\tremaining: 4m 45s\n",
            "98:\tloss: 3022408.4021510\tbest: 2728786.6512628 (97)\ttotal: 10m 30s\tremaining: 4m 46s\n",
            "99:\tloss: 2929511.9383576\tbest: 2728786.6512628 (97)\ttotal: 10m 51s\tremaining: 4m 46s\n",
            "100:\tloss: 2739818.5131317\tbest: 2728786.6512628 (97)\ttotal: 11m 13s\tremaining: 4m 46s\n",
            "101:\tloss: 2973728.1198244\tbest: 2728786.6512628 (97)\ttotal: 11m 34s\tremaining: 4m 45s\n",
            "102:\tloss: 2917618.9357418\tbest: 2728786.6512628 (97)\ttotal: 11m 56s\tremaining: 4m 45s\n",
            "103:\tloss: 2722938.3692097\tbest: 2722938.3692097 (103)\ttotal: 12m 17s\tremaining: 4m 43s\n",
            "104:\tloss: 3076423.9287202\tbest: 2722938.3692097 (103)\ttotal: 12m 38s\tremaining: 4m 41s\n",
            "105:\tloss: 2959958.2436701\tbest: 2722938.3692097 (103)\ttotal: 13m\tremaining: 4m 39s\n",
            "106:\tloss: 2774313.2264796\tbest: 2722938.3692097 (103)\ttotal: 13m 21s\tremaining: 4m 36s\n",
            "107:\tloss: 2962914.8211781\tbest: 2722938.3692097 (103)\ttotal: 13m 42s\tremaining: 4m 34s\n",
            "108:\tloss: 3132836.0268923\tbest: 2722938.3692097 (103)\ttotal: 14m 1s\tremaining: 4m 30s\n",
            "109:\tloss: 2896275.8849680\tbest: 2722938.3692097 (103)\ttotal: 14m 19s\tremaining: 4m 25s\n",
            "110:\tloss: 3074827.8710412\tbest: 2722938.3692097 (103)\ttotal: 14m 38s\tremaining: 4m 21s\n",
            "111:\tloss: 3150453.4810364\tbest: 2722938.3692097 (103)\ttotal: 14m 57s\tremaining: 4m 16s\n",
            "112:\tloss: 2875301.8055346\tbest: 2722938.3692097 (103)\ttotal: 15m 15s\tremaining: 4m 11s\n",
            "113:\tloss: 3145136.4370806\tbest: 2722938.3692097 (103)\ttotal: 15m 34s\tremaining: 4m 5s\n",
            "114:\tloss: 3172439.0798638\tbest: 2722938.3692097 (103)\ttotal: 15m 53s\tremaining: 4m\n",
            "115:\tloss: 2837068.5035739\tbest: 2722938.3692097 (103)\ttotal: 16m 11s\tremaining: 3m 54s\n",
            "116:\tloss: 3243328.6648736\tbest: 2722938.3692097 (103)\ttotal: 16m 30s\tremaining: 3m 48s\n",
            "117:\tloss: 3229421.5314848\tbest: 2722938.3692097 (103)\ttotal: 16m 48s\tremaining: 3m 42s\n",
            "118:\tloss: 2868158.5420132\tbest: 2722938.3692097 (103)\ttotal: 17m 7s\tremaining: 3m 35s\n",
            "119:\tloss: 3135917.7068749\tbest: 2722938.3692097 (103)\ttotal: 17m 26s\tremaining: 3m 29s\n",
            "120:\tloss: 2958391.5033852\tbest: 2722938.3692097 (103)\ttotal: 17m 53s\tremaining: 3m 24s\n",
            "121:\tloss: 2843767.9114331\tbest: 2722938.3692097 (103)\ttotal: 18m 21s\tremaining: 3m 18s\n",
            "122:\tloss: 3074827.8710412\tbest: 2722938.3692097 (103)\ttotal: 18m 49s\tremaining: 3m 12s\n",
            "123:\tloss: 2990592.2571045\tbest: 2722938.3692097 (103)\ttotal: 19m 17s\tremaining: 3m 6s\n",
            "124:\tloss: 2833891.6204499\tbest: 2722938.3692097 (103)\ttotal: 19m 45s\tremaining: 3m\n",
            "125:\tloss: 3145136.4370806\tbest: 2722938.3692097 (103)\ttotal: 20m 13s\tremaining: 2m 53s\n",
            "126:\tloss: 3001386.8778910\tbest: 2722938.3692097 (103)\ttotal: 20m 41s\tremaining: 2m 46s\n",
            "127:\tloss: 2791152.9021115\tbest: 2722938.3692097 (103)\ttotal: 21m 8s\tremaining: 2m 38s\n",
            "128:\tloss: 3243328.6648736\tbest: 2722938.3692097 (103)\ttotal: 21m 36s\tremaining: 2m 30s\n",
            "129:\tloss: 3052122.4490715\tbest: 2722938.3692097 (103)\ttotal: 22m 5s\tremaining: 2m 22s\n",
            "130:\tloss: 2809915.0160266\tbest: 2722938.3692097 (103)\ttotal: 22m 32s\tremaining: 2m 14s\n",
            "131:\tloss: 3135917.7068749\tbest: 2722938.3692097 (103)\ttotal: 23m\tremaining: 2m 5s\n",
            "132:\tloss: 2873225.8107757\tbest: 2722938.3692097 (103)\ttotal: 23m 49s\tremaining: 1m 58s\n",
            "133:\tloss: 2787980.0206491\tbest: 2722938.3692097 (103)\ttotal: 24m 38s\tremaining: 1m 50s\n",
            "134:\tloss: 3286145.8902378\tbest: 2722938.3692097 (103)\ttotal: 25m 27s\tremaining: 1m 41s\n",
            "135:\tloss: 2881444.9694809\tbest: 2722938.3692097 (103)\ttotal: 26m 16s\tremaining: 1m 32s\n",
            "136:\tloss: 2779458.7098132\tbest: 2722938.3692097 (103)\ttotal: 27m 5s\tremaining: 1m 23s\n",
            "137:\tloss: 3251226.8413500\tbest: 2722938.3692097 (103)\ttotal: 27m 54s\tremaining: 1m 12s\n",
            "138:\tloss: 2920398.6494637\tbest: 2722938.3692097 (103)\ttotal: 28m 43s\tremaining: 1m 1s\n",
            "139:\tloss: 2805751.6267165\tbest: 2722938.3692097 (103)\ttotal: 29m 31s\tremaining: 50.6s\n",
            "140:\tloss: 3220811.7907731\tbest: 2722938.3692097 (103)\ttotal: 30m 20s\tremaining: 38.7s\n",
            "141:\tloss: 2953096.7524158\tbest: 2722938.3692097 (103)\ttotal: 31m 9s\tremaining: 26.3s\n",
            "142:\tloss: 2814366.7005659\tbest: 2722938.3692097 (103)\ttotal: 31m 58s\tremaining: 13.4s\n",
            "143:\tloss: 3137379.1196672\tbest: 2722938.3692097 (103)\ttotal: 32m 47s\tremaining: 0us\n",
            "Estimating final quality...\n"
          ]
        },
        {
          "output_type": "execute_result",
          "data": {
            "text/plain": [
              "{'cv_results': defaultdict(list,\n",
              "             {'iterations': [0,\n",
              "               1,\n",
              "               2,\n",
              "               3,\n",
              "               4,\n",
              "               5,\n",
              "               6,\n",
              "               7,\n",
              "               8,\n",
              "               9,\n",
              "               10,\n",
              "               11,\n",
              "               12,\n",
              "               13,\n",
              "               14,\n",
              "               15,\n",
              "               16,\n",
              "               17,\n",
              "               18,\n",
              "               19,\n",
              "               20,\n",
              "               21,\n",
              "               22,\n",
              "               23,\n",
              "               24,\n",
              "               25,\n",
              "               26,\n",
              "               27,\n",
              "               28,\n",
              "               29,\n",
              "               30,\n",
              "               31,\n",
              "               32,\n",
              "               33,\n",
              "               34,\n",
              "               35,\n",
              "               36,\n",
              "               37,\n",
              "               38,\n",
              "               39,\n",
              "               40,\n",
              "               41,\n",
              "               42,\n",
              "               43,\n",
              "               44,\n",
              "               45,\n",
              "               46,\n",
              "               47,\n",
              "               48,\n",
              "               49,\n",
              "               50,\n",
              "               51,\n",
              "               52,\n",
              "               53,\n",
              "               54,\n",
              "               55,\n",
              "               56,\n",
              "               57,\n",
              "               58,\n",
              "               59,\n",
              "               60,\n",
              "               61,\n",
              "               62,\n",
              "               63,\n",
              "               64,\n",
              "               65,\n",
              "               66,\n",
              "               67,\n",
              "               68,\n",
              "               69,\n",
              "               70,\n",
              "               71,\n",
              "               72,\n",
              "               73,\n",
              "               74,\n",
              "               75,\n",
              "               76,\n",
              "               77,\n",
              "               78,\n",
              "               79,\n",
              "               80,\n",
              "               81,\n",
              "               82,\n",
              "               83,\n",
              "               84,\n",
              "               85,\n",
              "               86,\n",
              "               87,\n",
              "               88,\n",
              "               89,\n",
              "               90,\n",
              "               91,\n",
              "               92,\n",
              "               93,\n",
              "               94,\n",
              "               95,\n",
              "               96,\n",
              "               97,\n",
              "               98,\n",
              "               99,\n",
              "               100,\n",
              "               101,\n",
              "               102,\n",
              "               103,\n",
              "               104,\n",
              "               105,\n",
              "               106,\n",
              "               107,\n",
              "               108,\n",
              "               109,\n",
              "               110,\n",
              "               111,\n",
              "               112,\n",
              "               113,\n",
              "               114,\n",
              "               115,\n",
              "               116,\n",
              "               117,\n",
              "               118,\n",
              "               119,\n",
              "               120,\n",
              "               121,\n",
              "               122,\n",
              "               123,\n",
              "               124,\n",
              "               125,\n",
              "               126,\n",
              "               127,\n",
              "               128,\n",
              "               129,\n",
              "               130,\n",
              "               131,\n",
              "               132,\n",
              "               133,\n",
              "               134,\n",
              "               135,\n",
              "               136,\n",
              "               137,\n",
              "               138,\n",
              "               139,\n",
              "               140,\n",
              "               141,\n",
              "               142,\n",
              "               143,\n",
              "               144,\n",
              "               145,\n",
              "               146,\n",
              "               147,\n",
              "               148,\n",
              "               149,\n",
              "               150,\n",
              "               151,\n",
              "               152,\n",
              "               153,\n",
              "               154,\n",
              "               155,\n",
              "               156,\n",
              "               157,\n",
              "               158,\n",
              "               159,\n",
              "               160,\n",
              "               161,\n",
              "               162,\n",
              "               163,\n",
              "               164,\n",
              "               165,\n",
              "               166,\n",
              "               167,\n",
              "               168,\n",
              "               169,\n",
              "               170,\n",
              "               171,\n",
              "               172,\n",
              "               173,\n",
              "               174,\n",
              "               175,\n",
              "               176,\n",
              "               177,\n",
              "               178,\n",
              "               179,\n",
              "               180,\n",
              "               181,\n",
              "               182,\n",
              "               183,\n",
              "               184,\n",
              "               185,\n",
              "               186,\n",
              "               187,\n",
              "               188,\n",
              "               189,\n",
              "               190,\n",
              "               191,\n",
              "               192,\n",
              "               193,\n",
              "               194,\n",
              "               195,\n",
              "               196,\n",
              "               197,\n",
              "               198,\n",
              "               199],\n",
              "              'test-RMSE-mean': [7822829.590343078,\n",
              "               7207253.320885793,\n",
              "               6653810.097490382,\n",
              "               6178458.072880451,\n",
              "               5736388.158509341,\n",
              "               5349879.179460436,\n",
              "               5025911.756961137,\n",
              "               4721675.571170782,\n",
              "               4467299.1762708165,\n",
              "               4239312.33358504,\n",
              "               4050980.802834838,\n",
              "               3879819.26767337,\n",
              "               3729918.9172675484,\n",
              "               3598609.799739974,\n",
              "               3489685.8758200197,\n",
              "               3392561.2482832223,\n",
              "               3310909.717436044,\n",
              "               3244022.339147123,\n",
              "               3187067.2433084976,\n",
              "               3136472.8150454573,\n",
              "               3088231.230418507,\n",
              "               3052469.9885909576,\n",
              "               3018447.1529132635,\n",
              "               2991278.6243328904,\n",
              "               2963928.3864119784,\n",
              "               2942409.4480697736,\n",
              "               2923791.942897258,\n",
              "               2910447.1126096398,\n",
              "               2896918.1415260397,\n",
              "               2880930.8364483914,\n",
              "               2870620.848964156,\n",
              "               2859751.954792835,\n",
              "               2849161.0364096803,\n",
              "               2839795.832449613,\n",
              "               2831716.0018417,\n",
              "               2823013.7772669364,\n",
              "               2816126.256596277,\n",
              "               2808567.6885730736,\n",
              "               2799585.470594112,\n",
              "               2792433.9706691434,\n",
              "               2786446.545636562,\n",
              "               2780825.6051316196,\n",
              "               2774814.6605117745,\n",
              "               2770919.9987405795,\n",
              "               2765099.059242151,\n",
              "               2761182.1097888188,\n",
              "               2757592.2676855605,\n",
              "               2753303.7205024264,\n",
              "               2750934.0399362855,\n",
              "               2748900.889772345,\n",
              "               2746230.159826169,\n",
              "               2743002.7157278,\n",
              "               2739124.8318480467,\n",
              "               2736575.5456242454,\n",
              "               2733890.360632101,\n",
              "               2730398.1557607767,\n",
              "               2726491.9666921315,\n",
              "               2724957.7738468335,\n",
              "               2721748.6209219587,\n",
              "               2718833.1074153283,\n",
              "               2717671.662192646,\n",
              "               2715668.4891937934,\n",
              "               2712911.0360582457,\n",
              "               2710762.370877212,\n",
              "               2709819.2992056687,\n",
              "               2706977.237639965,\n",
              "               2705125.1246388075,\n",
              "               2704414.4814963974,\n",
              "               2702771.5589378052,\n",
              "               2701481.4475489235,\n",
              "               2698684.5921839257,\n",
              "               2697215.664145304,\n",
              "               2696444.1914223223,\n",
              "               2696042.2701184815,\n",
              "               2695097.6925163227,\n",
              "               2693758.1812106553,\n",
              "               2692703.556549573,\n",
              "               2691156.361241058,\n",
              "               2689763.198595038,\n",
              "               2688176.8307954553,\n",
              "               2686509.6662700535,\n",
              "               2684006.632959492,\n",
              "               2681217.0389805646,\n",
              "               2680131.051329641,\n",
              "               2677529.111982922,\n",
              "               2676500.6132524577,\n",
              "               2674742.630676335,\n",
              "               2672527.724320118,\n",
              "               2671702.1017302503,\n",
              "               2669727.9718652484,\n",
              "               2668128.531570162,\n",
              "               2666192.0955261667,\n",
              "               2665039.808074167,\n",
              "               2663525.6616742876,\n",
              "               2662077.4315261263,\n",
              "               2661119.2114524376,\n",
              "               2659638.051588685,\n",
              "               2657053.752291105,\n",
              "               2657246.7681039576,\n",
              "               2656176.9399928735,\n",
              "               2655384.753960218,\n",
              "               2655408.1447849963,\n",
              "               2653501.572146809,\n",
              "               2651507.0819427655,\n",
              "               2649823.3449745253,\n",
              "               2647656.8440958015,\n",
              "               2646790.4533764715,\n",
              "               2645355.877901573,\n",
              "               2644658.065403093,\n",
              "               2644936.3600067715,\n",
              "               2643418.8599865735,\n",
              "               2641841.827504339,\n",
              "               2640361.7610929837,\n",
              "               2639473.0037092357,\n",
              "               2637826.804614078,\n",
              "               2636862.293779382,\n",
              "               2634662.286865112,\n",
              "               2633355.759073823,\n",
              "               2632676.050235188,\n",
              "               2631863.714976941,\n",
              "               2630067.1269932063,\n",
              "               2628462.9208904942,\n",
              "               2627759.6351904925,\n",
              "               2626801.4853995587,\n",
              "               2626389.982415522,\n",
              "               2625993.8277836037,\n",
              "               2625031.526669389,\n",
              "               2623767.2948097247,\n",
              "               2622017.3759454326,\n",
              "               2621129.6594599355,\n",
              "               2619988.2321923045,\n",
              "               2619620.440449093,\n",
              "               2619267.9011068717,\n",
              "               2618705.2108718506,\n",
              "               2618379.3035338423,\n",
              "               2617619.636833764,\n",
              "               2616611.8069832646,\n",
              "               2616072.0764312595,\n",
              "               2615664.174985953,\n",
              "               2614805.058758426,\n",
              "               2614774.5246428843,\n",
              "               2614198.4335073326,\n",
              "               2613076.334382471,\n",
              "               2612501.871575443,\n",
              "               2612104.722683784,\n",
              "               2612806.4493803107,\n",
              "               2612222.0336354673,\n",
              "               2610363.742296344,\n",
              "               2610400.4754543253,\n",
              "               2610213.7228156556,\n",
              "               2609649.7492525834,\n",
              "               2609362.4741387465,\n",
              "               2609247.5189307095,\n",
              "               2609031.454136047,\n",
              "               2609515.2852065316,\n",
              "               2609715.858861779,\n",
              "               2608662.4713098034,\n",
              "               2607224.6776891206,\n",
              "               2606551.062749766,\n",
              "               2606686.054752014,\n",
              "               2606480.5266678175,\n",
              "               2604963.920345424,\n",
              "               2604587.603076093,\n",
              "               2604174.632752678,\n",
              "               2603946.9478586563,\n",
              "               2603443.0844914466,\n",
              "               2601925.6440003733,\n",
              "               2602145.5100876787,\n",
              "               2601666.824019045,\n",
              "               2600204.6298648417,\n",
              "               2600582.887249943,\n",
              "               2600728.087531218,\n",
              "               2600187.784219008,\n",
              "               2600291.598731557,\n",
              "               2599779.270382915,\n",
              "               2599696.9742261274,\n",
              "               2599946.283103733,\n",
              "               2599733.4560865206,\n",
              "               2598191.987182724,\n",
              "               2597224.0191811696,\n",
              "               2596889.4260777477,\n",
              "               2596218.426345896,\n",
              "               2595898.992775845,\n",
              "               2595165.722449538,\n",
              "               2594248.086289483,\n",
              "               2593695.688829422,\n",
              "               2592878.303852949,\n",
              "               2592261.63471516,\n",
              "               2591799.8411458773,\n",
              "               2591596.135936788,\n",
              "               2591258.8427545778,\n",
              "               2591241.00139151,\n",
              "               2591245.1040742095,\n",
              "               2591233.458357354,\n",
              "               2590876.1829716344,\n",
              "               2590771.1168376114,\n",
              "               2590534.5291573456,\n",
              "               2589807.0757683436,\n",
              "               2590468.8836682905,\n",
              "               2589611.1348938015],\n",
              "              'test-RMSE-std': [197753.1040703961,\n",
              "               208283.47866753594,\n",
              "               214113.69725394406,\n",
              "               211558.3373289982,\n",
              "               210277.85268627125,\n",
              "               228255.998697281,\n",
              "               229885.71660018724,\n",
              "               232934.21003253805,\n",
              "               243840.9075328985,\n",
              "               240845.94342578037,\n",
              "               226594.8779453019,\n",
              "               219805.89705842236,\n",
              "               225729.54438542936,\n",
              "               219716.52936139668,\n",
              "               222321.91887969285,\n",
              "               212005.65921167293,\n",
              "               214090.97529447207,\n",
              "               208514.11527453086,\n",
              "               198053.9458934071,\n",
              "               188668.08501483873,\n",
              "               179777.08922296812,\n",
              "               179692.2271875967,\n",
              "               174773.4973169881,\n",
              "               174492.650006892,\n",
              "               167342.34157403398,\n",
              "               166276.3369002565,\n",
              "               165154.86537320234,\n",
              "               168201.01065295885,\n",
              "               157981.72320670137,\n",
              "               156675.40701797188,\n",
              "               153353.96435615534,\n",
              "               149240.7837083308,\n",
              "               143810.1128635045,\n",
              "               142357.73725044442,\n",
              "               141925.99768101034,\n",
              "               136877.51272364086,\n",
              "               134005.26235414264,\n",
              "               137058.10027472963,\n",
              "               135961.09223350682,\n",
              "               138184.20115058112,\n",
              "               137253.3628036068,\n",
              "               136536.81258755314,\n",
              "               136553.08791752544,\n",
              "               137994.12711783143,\n",
              "               134309.57821523736,\n",
              "               132872.9468544886,\n",
              "               134217.91273763223,\n",
              "               133561.6140052079,\n",
              "               132864.5778562857,\n",
              "               130932.88315652091,\n",
              "               131025.64565445241,\n",
              "               128477.9871083811,\n",
              "               129814.90077719677,\n",
              "               128614.70382438003,\n",
              "               128560.84579802166,\n",
              "               127141.90458625801,\n",
              "               125013.42884107992,\n",
              "               124332.22085534412,\n",
              "               122837.99103790514,\n",
              "               122483.53599136983,\n",
              "               120981.27285566325,\n",
              "               120400.94891676551,\n",
              "               120767.25648296991,\n",
              "               121104.45817534445,\n",
              "               122187.9659791195,\n",
              "               122139.94096254434,\n",
              "               123259.38797299919,\n",
              "               124431.12190260741,\n",
              "               125701.25606158111,\n",
              "               125129.27419623498,\n",
              "               124106.25909083015,\n",
              "               122870.01392848545,\n",
              "               122312.82099701071,\n",
              "               121585.84135659815,\n",
              "               121164.03326635643,\n",
              "               120991.08165348804,\n",
              "               121743.52522405851,\n",
              "               122606.4184341972,\n",
              "               121106.23297268605,\n",
              "               120493.33326394121,\n",
              "               121091.96846657094,\n",
              "               120120.82289491867,\n",
              "               119719.34725720523,\n",
              "               119706.44257800604,\n",
              "               119400.71327219823,\n",
              "               120895.88441032296,\n",
              "               120200.34407715203,\n",
              "               117398.56762900489,\n",
              "               116569.46565038254,\n",
              "               114573.91584676964,\n",
              "               114743.58961058434,\n",
              "               114399.9414192284,\n",
              "               115060.2549339157,\n",
              "               114542.97953115657,\n",
              "               115067.84138883052,\n",
              "               113711.82077069696,\n",
              "               113376.55668559778,\n",
              "               111588.57356835168,\n",
              "               111049.55243886489,\n",
              "               111108.76193727972,\n",
              "               111205.20400517192,\n",
              "               110297.21894675794,\n",
              "               109789.6011952842,\n",
              "               109309.35141999391,\n",
              "               109816.3978352237,\n",
              "               111163.75367901594,\n",
              "               111493.34305800188,\n",
              "               111443.16221104129,\n",
              "               111200.04689883233,\n",
              "               111490.6255192639,\n",
              "               111191.65039819774,\n",
              "               111885.22074484697,\n",
              "               111049.59175877924,\n",
              "               112116.63830920059,\n",
              "               110071.66445681942,\n",
              "               110441.42575328659,\n",
              "               110297.17132654069,\n",
              "               110205.59401203482,\n",
              "               111778.9722437792,\n",
              "               110452.30686694622,\n",
              "               110372.129196917,\n",
              "               109288.33193163792,\n",
              "               109552.82031442758,\n",
              "               109836.46239807968,\n",
              "               109894.54454880803,\n",
              "               110349.61164948321,\n",
              "               110070.2402019055,\n",
              "               110699.13533547428,\n",
              "               111346.55764699237,\n",
              "               109529.9513471282,\n",
              "               109035.9366746361,\n",
              "               108983.11850812107,\n",
              "               108760.50455931378,\n",
              "               107183.11924243897,\n",
              "               108198.34017428353,\n",
              "               108206.18850055455,\n",
              "               108186.52870898196,\n",
              "               107629.09369145232,\n",
              "               107266.67996489072,\n",
              "               107150.4398964021,\n",
              "               107610.12013781606,\n",
              "               108244.85257813672,\n",
              "               107287.35663764743,\n",
              "               107296.1861402626,\n",
              "               107533.12374570273,\n",
              "               108691.07490090615,\n",
              "               108461.22145486067,\n",
              "               107116.66557637109,\n",
              "               107516.88020943307,\n",
              "               107205.96202819655,\n",
              "               106903.8549699582,\n",
              "               107014.94496336856,\n",
              "               107210.82797359079,\n",
              "               107332.20899004905,\n",
              "               107371.9855978601,\n",
              "               107515.20336442927,\n",
              "               108207.3618435082,\n",
              "               107569.15179194116,\n",
              "               107717.6375103448,\n",
              "               107741.20892569893,\n",
              "               107642.22098549124,\n",
              "               107971.00285033396,\n",
              "               108121.64088766773,\n",
              "               108422.86015791868,\n",
              "               108153.59039616761,\n",
              "               108134.62806670945,\n",
              "               109333.35722619967,\n",
              "               109183.28770423488,\n",
              "               108305.5071288349,\n",
              "               108927.96398285133,\n",
              "               108548.49621282297,\n",
              "               108693.98247729414,\n",
              "               108681.40149162956,\n",
              "               108725.16301365095,\n",
              "               108456.26198173568,\n",
              "               108976.97202566982,\n",
              "               108579.62054220695,\n",
              "               109375.38031317253,\n",
              "               110252.65423073023,\n",
              "               110470.89221896594,\n",
              "               110569.85813807797,\n",
              "               111473.82559860699,\n",
              "               111755.95282808034,\n",
              "               111728.57776348942,\n",
              "               112603.6493668143,\n",
              "               111923.21342300827,\n",
              "               111564.31155763085,\n",
              "               111312.82656662291,\n",
              "               111021.86564195374,\n",
              "               110636.61095982097,\n",
              "               109366.71007256678,\n",
              "               108765.04507664283,\n",
              "               108560.95596681813,\n",
              "               108221.93092624618,\n",
              "               108055.49085795948,\n",
              "               109700.78767739916,\n",
              "               109238.05089162287,\n",
              "               109678.61741505624,\n",
              "               110662.11700084952,\n",
              "               110222.1171732669],\n",
              "              'train-RMSE-mean': [7818071.069520734,\n",
              "               7199690.3323557675,\n",
              "               6638545.4917617915,\n",
              "               6159021.03690232,\n",
              "               5713476.927371626,\n",
              "               5319983.251119506,\n",
              "               4988096.179587081,\n",
              "               4678872.385982241,\n",
              "               4416563.185963559,\n",
              "               4184776.844548013,\n",
              "               3988574.9461225183,\n",
              "               3812196.7540634484,\n",
              "               3658606.1120307413,\n",
              "               3518457.7734808694,\n",
              "               3397850.7476466945,\n",
              "               3290991.141307143,\n",
              "               3201000.14316343,\n",
              "               3124212.1030186773,\n",
              "               3057352.3626753525,\n",
              "               2997325.947730567,\n",
              "               2943273.3767660386,\n",
              "               2897999.5217337706,\n",
              "               2857408.4710460403,\n",
              "               2823130.087255016,\n",
              "               2793352.5889751036,\n",
              "               2768180.4370806124,\n",
              "               2741780.419144156,\n",
              "               2717479.1535369195,\n",
              "               2693683.6209009164,\n",
              "               2673220.797689488,\n",
              "               2654805.798229914,\n",
              "               2639044.860760392,\n",
              "               2622155.2223784532,\n",
              "               2607364.7305549933,\n",
              "               2596662.68843147,\n",
              "               2583739.7038083556,\n",
              "               2570225.2017888655,\n",
              "               2557355.803073341,\n",
              "               2546398.393356305,\n",
              "               2535039.696469959,\n",
              "               2526953.0866140723,\n",
              "               2517476.8502032943,\n",
              "               2509464.6888703923,\n",
              "               2500353.257591132,\n",
              "               2492002.64329304,\n",
              "               2485000.226678455,\n",
              "               2477786.111268493,\n",
              "               2470168.6343886456,\n",
              "               2463138.031107197,\n",
              "               2456644.9334327355,\n",
              "               2448402.03694931,\n",
              "               2441807.1327841855,\n",
              "               2436497.289719414,\n",
              "               2429900.14900822,\n",
              "               2424115.104117377,\n",
              "               2418906.8487866153,\n",
              "               2413251.9595504873,\n",
              "               2408540.0039195362,\n",
              "               2403387.96255397,\n",
              "               2397923.62290829,\n",
              "               2393452.841633865,\n",
              "               2388037.6666699206,\n",
              "               2382607.6272149025,\n",
              "               2378194.411506545,\n",
              "               2371113.421004682,\n",
              "               2367648.6956075765,\n",
              "               2362985.885449488,\n",
              "               2358297.9378416897,\n",
              "               2355233.297841538,\n",
              "               2352486.4102833453,\n",
              "               2348229.3969165436,\n",
              "               2343913.45807896,\n",
              "               2340519.8715379364,\n",
              "               2336581.8792404323,\n",
              "               2333423.360369591,\n",
              "               2331027.966780475,\n",
              "               2326228.0655660103,\n",
              "               2320787.275965906,\n",
              "               2316868.9762002784,\n",
              "               2314236.6180528495,\n",
              "               2311634.585586627,\n",
              "               2307479.237727407,\n",
              "               2303362.613978199,\n",
              "               2300690.80933948,\n",
              "               2296583.022516463,\n",
              "               2293137.834098017,\n",
              "               2289694.422032021,\n",
              "               2287965.9513103478,\n",
              "               2284325.446013115,\n",
              "               2280476.150058599,\n",
              "               2276956.6657141433,\n",
              "               2273320.7422525138,\n",
              "               2269264.960585273,\n",
              "               2266687.4460015176,\n",
              "               2262367.8566329735,\n",
              "               2258505.3005873393,\n",
              "               2255414.9688746096,\n",
              "               2251677.2559808632,\n",
              "               2249125.6457182416,\n",
              "               2246214.151146831,\n",
              "               2243423.212178001,\n",
              "               2239964.752255442,\n",
              "               2236647.6089315717,\n",
              "               2232507.4012091397,\n",
              "               2229240.8703538165,\n",
              "               2225822.909047577,\n",
              "               2223253.786798147,\n",
              "               2219316.073736953,\n",
              "               2217032.704960432,\n",
              "               2213207.079874569,\n",
              "               2210529.363576304,\n",
              "               2206664.8016667683,\n",
              "               2203358.564947031,\n",
              "               2200152.1775274384,\n",
              "               2196056.5420159665,\n",
              "               2192953.119943009,\n",
              "               2188393.15704672,\n",
              "               2186560.106114888,\n",
              "               2182698.058986261,\n",
              "               2179818.2784791035,\n",
              "               2176109.2314276122,\n",
              "               2173195.6284484263,\n",
              "               2170515.9723201892,\n",
              "               2167741.1714692567,\n",
              "               2165784.7363345413,\n",
              "               2163639.9909949335,\n",
              "               2160590.8321128245,\n",
              "               2156728.704287089,\n",
              "               2154499.946390049,\n",
              "               2151932.8774501556,\n",
              "               2148065.7695338773,\n",
              "               2145419.584210118,\n",
              "               2143255.3007773063,\n",
              "               2140400.612966805,\n",
              "               2136755.918629048,\n",
              "               2133820.922793577,\n",
              "               2131437.6682923436,\n",
              "               2129835.117927922,\n",
              "               2126663.0459844274,\n",
              "               2124232.903497471,\n",
              "               2120318.6813989156,\n",
              "               2118001.076076023,\n",
              "               2115628.1435745806,\n",
              "               2113139.2571441685,\n",
              "               2111496.2835818743,\n",
              "               2108709.9531680816,\n",
              "               2106175.299261704,\n",
              "               2103565.930640641,\n",
              "               2100688.0747969453,\n",
              "               2098659.845830957,\n",
              "               2096461.300023529,\n",
              "               2094735.775799441,\n",
              "               2092128.5715976215,\n",
              "               2089855.3487140574,\n",
              "               2087327.727891868,\n",
              "               2085407.860863811,\n",
              "               2082905.7714478548,\n",
              "               2080856.5850930146,\n",
              "               2078071.4721813528,\n",
              "               2076042.7267697966,\n",
              "               2073037.2135643046,\n",
              "               2069464.6879657388,\n",
              "               2067366.7827124198,\n",
              "               2064975.5509496385,\n",
              "               2062828.2971163532,\n",
              "               2060997.5778641307,\n",
              "               2058213.1726888344,\n",
              "               2055526.0611406434,\n",
              "               2053084.3590184497,\n",
              "               2050248.051185472,\n",
              "               2047634.7561761977,\n",
              "               2044922.8903259092,\n",
              "               2042997.8090299817,\n",
              "               2041158.6396520503,\n",
              "               2039150.1942025966,\n",
              "               2037956.388724777,\n",
              "               2035875.0397588194,\n",
              "               2033537.8132962107,\n",
              "               2031024.5798190534,\n",
              "               2027832.5857761295,\n",
              "               2025475.5863641917,\n",
              "               2023497.772881075,\n",
              "               2021872.9639147718,\n",
              "               2018740.7387860026,\n",
              "               2016756.7094473199,\n",
              "               2014905.4367352205,\n",
              "               2012684.562138839,\n",
              "               2011217.6289002632,\n",
              "               2009405.3993179842,\n",
              "               2007784.6467167626,\n",
              "               2005018.9284296865,\n",
              "               2002525.8084806248,\n",
              "               2000610.0773238472,\n",
              "               1998607.4276655067,\n",
              "               1996663.4645985663,\n",
              "               1994690.4005041139,\n",
              "               1992725.323870187,\n",
              "               1990383.4042859778,\n",
              "               1987998.9407456105,\n",
              "               1986156.8828556223],\n",
              "              'train-RMSE-std': [86923.14837861242,\n",
              "               77206.99854514159,\n",
              "               71307.1343500871,\n",
              "               69646.85067779396,\n",
              "               66258.89316344442,\n",
              "               51029.01554238036,\n",
              "               45664.038500420495,\n",
              "               41705.88665245838,\n",
              "               31908.42970722197,\n",
              "               32608.011306795386,\n",
              "               32214.322880627988,\n",
              "               31992.897504272467,\n",
              "               23230.53943895871,\n",
              "               26060.443845836617,\n",
              "               25002.994546523165,\n",
              "               23973.9327113105,\n",
              "               20081.91111074344,\n",
              "               23556.25432730649,\n",
              "               26770.509221836044,\n",
              "               27741.20539087739,\n",
              "               35500.357433848214,\n",
              "               32270.50545255124,\n",
              "               32899.35695987059,\n",
              "               29718.770785715755,\n",
              "               32017.810100135142,\n",
              "               31846.914781085932,\n",
              "               27031.70972548023,\n",
              "               23655.87907241962,\n",
              "               25019.834091298722,\n",
              "               22119.527993876574,\n",
              "               25970.329698553036,\n",
              "               30197.145987622243,\n",
              "               28292.72605908189,\n",
              "               26968.42089200243,\n",
              "               27197.880758715957,\n",
              "               26114.686833410808,\n",
              "               27934.00220719054,\n",
              "               25747.222058028998,\n",
              "               22923.64972721052,\n",
              "               19913.276449687826,\n",
              "               19389.077097948168,\n",
              "               17622.283380610734,\n",
              "               17407.784484834647,\n",
              "               16169.931616709151,\n",
              "               17754.32923623048,\n",
              "               18829.049822031182,\n",
              "               17569.887097273757,\n",
              "               16383.814176644017,\n",
              "               16005.390642765717,\n",
              "               15932.561537324784,\n",
              "               14274.086456458703,\n",
              "               14678.318874681741,\n",
              "               13056.417738267002,\n",
              "               13201.379231190158,\n",
              "               14492.207253872564,\n",
              "               12639.732986290534,\n",
              "               14382.304874015792,\n",
              "               14403.569129291705,\n",
              "               17070.227377310683,\n",
              "               18162.09476322074,\n",
              "               18984.2883607558,\n",
              "               17418.73851664029,\n",
              "               17271.503423481034,\n",
              "               17716.477476990407,\n",
              "               18541.198131529793,\n",
              "               18893.831362109013,\n",
              "               19906.436861107704,\n",
              "               20182.346694659627,\n",
              "               20604.914133591094,\n",
              "               20179.183696801018,\n",
              "               20537.36167232447,\n",
              "               19704.504163502803,\n",
              "               18693.555634830696,\n",
              "               19005.336219141987,\n",
              "               20263.368799646334,\n",
              "               20477.615253635304,\n",
              "               19838.136499386204,\n",
              "               20878.88416731699,\n",
              "               21975.32763654368,\n",
              "               21200.45719292782,\n",
              "               21903.65738565658,\n",
              "               22721.334320610527,\n",
              "               23099.618549041144,\n",
              "               22389.84888594865,\n",
              "               20919.751342099647,\n",
              "               21750.17528018472,\n",
              "               21919.64220029504,\n",
              "               21963.72685939867,\n",
              "               23169.240836170444,\n",
              "               24369.232708834556,\n",
              "               23640.690248316543,\n",
              "               24113.065191837028,\n",
              "               23491.26809175536,\n",
              "               24541.601782519232,\n",
              "               23299.307274387764,\n",
              "               21668.998599697297,\n",
              "               20425.658520475037,\n",
              "               20979.58003159913,\n",
              "               21239.873867460992,\n",
              "               21513.44605500383,\n",
              "               22241.948718104864,\n",
              "               24289.583541031352,\n",
              "               22882.339590175594,\n",
              "               22598.79219750144,\n",
              "               21920.714521494596,\n",
              "               20490.43385110257,\n",
              "               21254.24882543937,\n",
              "               21606.43283809228,\n",
              "               21794.78976240645,\n",
              "               21191.650355859794,\n",
              "               22193.630817591424,\n",
              "               21744.581405875717,\n",
              "               22636.73073940819,\n",
              "               21849.04197384476,\n",
              "               24106.25646915584,\n",
              "               23608.61249667622,\n",
              "               21871.573367055375,\n",
              "               22281.326489057865,\n",
              "               22106.2713478311,\n",
              "               23481.150760217082,\n",
              "               23663.016641591043,\n",
              "               23832.50096026931,\n",
              "               24553.998727579026,\n",
              "               23779.52313020312,\n",
              "               24852.47546577022,\n",
              "               23805.986097852696,\n",
              "               24547.205072880144,\n",
              "               24009.1264719656,\n",
              "               23310.534178989863,\n",
              "               24565.1914246344,\n",
              "               26573.899669548486,\n",
              "               26399.99114767113,\n",
              "               25625.837115409984,\n",
              "               26198.62361671015,\n",
              "               27055.48460505104,\n",
              "               27145.45456160396,\n",
              "               26780.46640336382,\n",
              "               27224.518034126973,\n",
              "               27708.94159817196,\n",
              "               25909.63711497203,\n",
              "               25742.740231664415,\n",
              "               24420.592488542377,\n",
              "               25225.167047263,\n",
              "               26675.027614657407,\n",
              "               25795.569680797198,\n",
              "               25406.29968210979,\n",
              "               24944.68349141323,\n",
              "               24710.25785820641,\n",
              "               24896.115234091783,\n",
              "               24928.357590166,\n",
              "               24502.673305604625,\n",
              "               25306.533427141116,\n",
              "               24947.783258960182,\n",
              "               23932.6383283143,\n",
              "               24182.751978963708,\n",
              "               24911.887416407433,\n",
              "               24342.29369580425,\n",
              "               24181.382967863436,\n",
              "               24044.42175129072,\n",
              "               26346.69819953047,\n",
              "               25563.191089156375,\n",
              "               26154.74030514793,\n",
              "               25950.54119737642,\n",
              "               25277.89484638207,\n",
              "               24731.883081989676,\n",
              "               23731.804546319756,\n",
              "               24764.422557002963,\n",
              "               23065.548271853735,\n",
              "               24209.21175912775,\n",
              "               24687.21929837832,\n",
              "               24209.481994929312,\n",
              "               23481.725725887678,\n",
              "               23498.032717478505,\n",
              "               22513.1128256162,\n",
              "               22967.72670090821,\n",
              "               23682.9310491178,\n",
              "               23939.746011285606,\n",
              "               23781.054123870294,\n",
              "               22381.12539763316,\n",
              "               23204.81675072265,\n",
              "               22440.66868061163,\n",
              "               22194.73100349164,\n",
              "               21656.331397300495,\n",
              "               22376.12358080633,\n",
              "               23422.343949226943,\n",
              "               23680.23961801885,\n",
              "               23566.299347743963,\n",
              "               22517.30143235849,\n",
              "               22351.779089992695,\n",
              "               22326.06179991696,\n",
              "               23267.785405645755,\n",
              "               23201.115792437762,\n",
              "               22659.128327708404,\n",
              "               22745.754617592647,\n",
              "               22688.008482442856,\n",
              "               23206.37300116754,\n",
              "               23120.899501302087,\n",
              "               22698.24595726788,\n",
              "               21594.918989996488,\n",
              "               21172.293587789096]}),\n",
              " 'params': {'depth': 6,\n",
              "  'iterations': 200,\n",
              "  'l2_leaf_reg': 1,\n",
              "  'learning_rate': 0.1}}"
            ]
          },
          "metadata": {},
          "execution_count": 83
        }
      ]
    },
    {
      "cell_type": "markdown",
      "source": [
        "RMSE стал больше, чем в предыдущий раз (2.473.000 vs 2.722.938)\n",
        "\n",
        "гиперпараметры почти те же, отличается только l2_leaf_reg (было 3, сейчас 1)"
      ],
      "metadata": {
        "id": "QBd9MjAMBCln"
      }
    },
    {
      "cell_type": "code",
      "source": [
        ""
      ],
      "metadata": {
        "id": "jAGifgvFyUPX"
      },
      "execution_count": null,
      "outputs": []
    },
    {
      "cell_type": "markdown",
      "source": [
        "Для катбуста лучший результат RMSE on cv on train = 2.473.000, RMSE on cv on X_1, y_1 = 2.722.938 при гиперпараметрах:\n",
        "\n",
        "  'params': \n",
        "{'depth': 6,\n",
        "\n",
        "  'iterations': 200,\n",
        "\n",
        "  'l2_leaf_reg': 3 и 1,\n",
        "\n",
        "  'learning_rate': 0.1}"
      ],
      "metadata": {
        "id": "H_C_TNIPb3R9"
      }
    },
    {
      "cell_type": "markdown",
      "source": [
        "Пока лучшей моделью является Случайный лес, хотя результаты у них очень близкие примерно 2.7М"
      ],
      "metadata": {
        "id": "553TVGfozhKa"
      }
    },
    {
      "cell_type": "markdown",
      "metadata": {
        "id": "JxQnozbtvD6x"
      },
      "source": [
        "### Ensemble v.1 (3 балла)\n",
        "\n",
        "Ансамбли иногда оказываются лучше чем одна большая модель.\n",
        "\n",
        "В колонке `product_type` содержится информация о том, каким является объявление: `Investment` (продажа квартиры как инвестиции) или `OwnerOccupier` (продажа квартиры для жилья). Логично предположить, что если сделать по модели на каждый из этих типов, то качество будет выше.\n",
        "\n",
        "Обучите свои лучшие модели на отдельно на `Investment` и `OwnerOccupier` (т.е. у вас будет `model_invest`, обученная на `(invest_train_X, invest_train_Y)` и `model_owner`, обученная на `(owner_train_X, owner_train_Y)`) и проверьте качество на отложенной выборке (т.е. на исходном `test_split`)."
      ]
    },
    {
      "cell_type": "code",
      "execution_count": null,
      "metadata": {
        "id": "HeJOCYa-O_VE"
      },
      "outputs": [],
      "source": [
        "X_invest = df[df.product_type_Investment == 1].drop(['product_type_Investment', 'price', 'timestamp'], axis=1)\n",
        "y_invest = df[df.product_type_Investment == 1].price\n",
        "invest_train_X, invest_test_X, invest_train_y, invest_test_y = train_test_split(X_invest,\n",
        "                                                                                y_invest,\n",
        "                                                                                test_size= 0.2,\n",
        "                                                                                random_state=42)"
      ]
    },
    {
      "cell_type": "code",
      "source": [
        "X_owner = df[df.product_type_OwnerOccupier == 1].drop(['product_type_OwnerOccupier', 'price', 'timestamp'], axis=1)\n",
        "y_owner = df[df.product_type_OwnerOccupier == 1].price\n",
        "owner_train_X, owner_test_X, owner_train_y, owner_test_y = train_test_split(X_owner,\n",
        "                                                                            y_owner,\n",
        "                                                                            test_size= 0.2,\n",
        "                                                                            random_state=42)"
      ],
      "metadata": {
        "id": "BGiY19gQZpYI"
      },
      "execution_count": null,
      "outputs": []
    },
    {
      "cell_type": "code",
      "source": [
        "categorical_feature_indices = [X_invest.columns.get_loc(c) for c in cat_columns.columns if c in X_invest]"
      ],
      "metadata": {
        "id": "IqEG9CIHdoNE"
      },
      "execution_count": null,
      "outputs": []
    },
    {
      "cell_type": "markdown",
      "source": [
        "И для катбуста без one hot encoding "
      ],
      "metadata": {
        "id": "EDeInX-4aXEG"
      }
    },
    {
      "cell_type": "code",
      "source": [
        "X_invest_1 = df1[df1.product_type == 'Investment'].drop(['product_type', 'price', 'timestamp'], axis=1)\n",
        "y_invest_1 = df1[df1.product_type == 'Investment'].price\n",
        "invest_train_X_1, invest_test_X_1, invest_train_y_1, invest_test_y_1 = train_test_split(X_invest_1,\n",
        "                                                                                        y_invest_1,\n",
        "                                                                                        test_size= 0.2,\n",
        "                                                                                        random_state=42)"
      ],
      "metadata": {
        "id": "AMmlQ4xBZLac"
      },
      "execution_count": null,
      "outputs": []
    },
    {
      "cell_type": "code",
      "source": [
        "X_owner_1 = df1[df1.product_type == 'OwnerOccupier'].drop(['product_type', 'price', 'timestamp'], axis=1)\n",
        "y_owner_1 = df1[df1.product_type == 'OwnerOccupier'].price\n",
        "owner_train_X_1, owner_test_X_1, owner_train_y_1, owner_test_y_1 = train_test_split(X_owner_1,\n",
        "                                                                                    y_owner_1,\n",
        "                                                                                    test_size= 0.2,\n",
        "                                                                                    random_state=42)"
      ],
      "metadata": {
        "id": "9J56rVJaZphf"
      },
      "execution_count": null,
      "outputs": []
    },
    {
      "cell_type": "code",
      "source": [
        ""
      ],
      "metadata": {
        "id": "GRQYnAWnguo_"
      },
      "execution_count": null,
      "outputs": []
    },
    {
      "cell_type": "code",
      "source": [
        ""
      ],
      "metadata": {
        "id": "HcHmBsfnmzRk"
      },
      "execution_count": null,
      "outputs": []
    },
    {
      "cell_type": "code",
      "source": [
        "categorical_feature_indices_1 = [X_invest_1.columns.get_loc(c) for c in cat_columns.columns if c in X_invest_1]"
      ],
      "metadata": {
        "id": "FLcl9k_Hys3y"
      },
      "execution_count": null,
      "outputs": []
    },
    {
      "cell_type": "code",
      "source": [
        "invest_train_dataset_1 = cb.Pool(invest_train_X_1, invest_train_y_1, cat_features=categorical_feature_indices_1)\n",
        "invest_test_dataset_1 = cb.Pool(invest_test_X_1, invest_test_y_1, cat_features=categorical_feature_indices_1)"
      ],
      "metadata": {
        "id": "7iLu7UrDys3y"
      },
      "execution_count": null,
      "outputs": []
    },
    {
      "cell_type": "code",
      "source": [
        "owner_train_dataset_1 = cb.Pool(owner_train_X_1, owner_train_y_1, cat_features=categorical_feature_indices_1)\n",
        "owner_test_dataset_1 = cb.Pool(owner_test_X_1, owner_test_y_1, cat_features=categorical_feature_indices_1)"
      ],
      "metadata": {
        "id": "924vo2sLys3z"
      },
      "execution_count": null,
      "outputs": []
    },
    {
      "cell_type": "code",
      "source": [
        ""
      ],
      "metadata": {
        "id": "FpduyspBz6C7"
      },
      "execution_count": null,
      "outputs": []
    },
    {
      "cell_type": "code",
      "source": [
        ""
      ],
      "metadata": {
        "id": "K1GjU16rz6PI"
      },
      "execution_count": null,
      "outputs": []
    },
    {
      "cell_type": "code",
      "source": [
        "model_invest_cbr = cb.CatBoostRegressor(\n",
        "                                loss_function='RMSE',\n",
        "                                random_seed=42,\n",
        "                                logging_level='Silent',\n",
        "                                )"
      ],
      "metadata": {
        "id": "rH1juHccnkSk"
      },
      "execution_count": null,
      "outputs": []
    },
    {
      "cell_type": "code",
      "source": [
        "model_owner_cbr = cb.CatBoostRegressor(\n",
        "                                loss_function='RMSE',\n",
        "                                random_seed=42,\n",
        "                                logging_level='Silent',\n",
        "                                )"
      ],
      "metadata": {
        "id": "4ArI0BZ_nkX3"
      },
      "execution_count": null,
      "outputs": []
    },
    {
      "cell_type": "code",
      "source": [
        "grid = {'iterations': [100, 150, 200],\n",
        " 'learning_rate': [0.03, 0.1, 1],\n",
        " 'depth': [2, 4, 6, 8],\n",
        " 'l2_leaf_reg': [0.2, 0.5, 1, 3]}\n",
        "\n",
        "model_invest_cbr.grid_search(\n",
        "                      grid, \n",
        "                      Pool(X_invest_1,\n",
        "                           y_invest_1,\n",
        "                           cat_features = categorical_feature_indices_1),\n",
        "                      partition_random_seed=42,\n",
        "                      plot=True)"
      ],
      "metadata": {
        "colab": {
          "base_uri": "https://localhost:8080/",
          "height": 1000,
          "referenced_widgets": [
            "e873315a165442aba34ac6c28bb2e4d1"
          ]
        },
        "id": "EkGuyK4_mt3A",
        "outputId": "c8de5f16-d424-4409-ce2d-083dcdf42859"
      },
      "execution_count": null,
      "outputs": [
        {
          "output_type": "display_data",
          "data": {
            "application/vnd.jupyter.widget-view+json": {
              "model_id": "e873315a165442aba34ac6c28bb2e4d1",
              "version_minor": 0,
              "version_major": 2
            },
            "text/plain": [
              "MetricVisualizer(layout=Layout(align_self='stretch', height='500px'))"
            ]
          },
          "metadata": {}
        },
        {
          "output_type": "stream",
          "name": "stdout",
          "text": [
            "0:\tloss: 3138630.7615276\tbest: 3138630.7615276 (0)\ttotal: 1.74s\tremaining: 4m 8s\n",
            "1:\tloss: 2936623.8970589\tbest: 2936623.8970589 (1)\ttotal: 3.23s\tremaining: 3m 49s\n",
            "2:\tloss: 3072372.7206287\tbest: 2936623.8970589 (1)\ttotal: 4.7s\tremaining: 3m 40s\n",
            "3:\tloss: 3140054.9207474\tbest: 2936623.8970589 (1)\ttotal: 6.22s\tremaining: 3m 37s\n",
            "4:\tloss: 2941402.2253874\tbest: 2936623.8970589 (1)\ttotal: 7.72s\tremaining: 3m 34s\n",
            "5:\tloss: 3179702.6005080\tbest: 2936623.8970589 (1)\ttotal: 9.21s\tremaining: 3m 31s\n",
            "6:\tloss: 3139058.6312035\tbest: 2936623.8970589 (1)\ttotal: 10.7s\tremaining: 3m 29s\n",
            "7:\tloss: 2942291.5371927\tbest: 2936623.8970589 (1)\ttotal: 12.2s\tremaining: 3m 27s\n",
            "8:\tloss: 3137361.4844122\tbest: 2936623.8970589 (1)\ttotal: 13.7s\tremaining: 3m 24s\n",
            "9:\tloss: 3140901.8185006\tbest: 2936623.8970589 (1)\ttotal: 15.1s\tremaining: 3m 22s\n",
            "10:\tloss: 2930452.6126138\tbest: 2930452.6126138 (10)\ttotal: 16.6s\tremaining: 3m 20s\n",
            "11:\tloss: 2966428.1482989\tbest: 2930452.6126138 (10)\ttotal: 18s\tremaining: 3m 18s\n",
            "12:\tloss: 3011100.5229909\tbest: 2930452.6126138 (10)\ttotal: 20.3s\tremaining: 3m 24s\n",
            "13:\tloss: 2918842.0918055\tbest: 2918842.0918055 (13)\ttotal: 22.5s\tremaining: 3m 28s\n",
            "14:\tloss: 3072372.7206287\tbest: 2918842.0918055 (13)\ttotal: 24.7s\tremaining: 3m 32s\n",
            "15:\tloss: 3016472.3103246\tbest: 2918842.0918055 (13)\ttotal: 26.9s\tremaining: 3m 35s\n",
            "16:\tloss: 2920675.7232994\tbest: 2918842.0918055 (13)\ttotal: 29.1s\tremaining: 3m 37s\n",
            "17:\tloss: 3179702.6005080\tbest: 2918842.0918055 (13)\ttotal: 31.3s\tremaining: 3m 38s\n",
            "18:\tloss: 3013426.0685128\tbest: 2918842.0918055 (13)\ttotal: 33.4s\tremaining: 3m 39s\n",
            "19:\tloss: 2926197.6843311\tbest: 2918842.0918055 (13)\ttotal: 35.6s\tremaining: 3m 40s\n",
            "20:\tloss: 3137361.4844122\tbest: 2918842.0918055 (13)\ttotal: 37.8s\tremaining: 3m 41s\n",
            "21:\tloss: 3021170.9132819\tbest: 2918842.0918055 (13)\ttotal: 40s\tremaining: 3m 41s\n",
            "23:\tloss: 2966428.1482989\tbest: 2917658.8723204 (22)\ttotal: 44.3s\tremaining: 3m 41s\n",
            "24:\tloss: 2973282.1109410\tbest: 2917658.8723204 (22)\ttotal: 47.9s\tremaining: 3m 48s\n",
            "25:\tloss: 2904622.4146765\tbest: 2904622.4146765 (25)\ttotal: 51.5s\tremaining: 3m 53s\n",
            "26:\tloss: 3253741.6347005\tbest: 2904622.4146765 (25)\ttotal: 55.1s\tremaining: 3m 58s\n",
            "27:\tloss: 2961811.9066841\tbest: 2904622.4146765 (25)\ttotal: 58.7s\tremaining: 4m 3s\n",
            "28:\tloss: 2913078.9637612\tbest: 2904622.4146765 (25)\ttotal: 1m 2s\tremaining: 4m 6s\n",
            "29:\tloss: 3016869.3212896\tbest: 2904622.4146765 (25)\ttotal: 1m 5s\tremaining: 4m 10s\n",
            "30:\tloss: 2968700.4571403\tbest: 2904622.4146765 (25)\ttotal: 1m 9s\tremaining: 4m 12s\n",
            "31:\tloss: 2926008.6328703\tbest: 2904622.4146765 (25)\ttotal: 1m 12s\tremaining: 4m 15s\n",
            "32:\tloss: 3031862.9695520\tbest: 2904622.4146765 (25)\ttotal: 1m 16s\tremaining: 4m 17s\n",
            "33:\tloss: 2965674.3802302\tbest: 2904622.4146765 (25)\ttotal: 1m 20s\tremaining: 4m 19s\n",
            "34:\tloss: 2920866.6103256\tbest: 2904622.4146765 (25)\ttotal: 1m 23s\tremaining: 4m 20s\n",
            "35:\tloss: 3135142.2593887\tbest: 2904622.4146765 (25)\ttotal: 1m 27s\tremaining: 4m 22s\n",
            "36:\tloss: 3015218.8506021\tbest: 2904622.4146765 (25)\ttotal: 1m 30s\tremaining: 4m 21s\n",
            "37:\tloss: 2920670.3242989\tbest: 2904622.4146765 (25)\ttotal: 1m 33s\tremaining: 4m 20s\n",
            "38:\tloss: 3187164.0013870\tbest: 2904622.4146765 (25)\ttotal: 1m 36s\tremaining: 4m 19s\n",
            "39:\tloss: 3014304.4639288\tbest: 2904622.4146765 (25)\ttotal: 1m 39s\tremaining: 4m 18s\n",
            "40:\tloss: 2875461.4066198\tbest: 2875461.4066198 (40)\ttotal: 1m 42s\tremaining: 4m 17s\n",
            "41:\tloss: 3223167.3978209\tbest: 2875461.4066198 (40)\ttotal: 1m 45s\tremaining: 4m 16s\n",
            "42:\tloss: 3018277.2495237\tbest: 2875461.4066198 (40)\ttotal: 1m 48s\tremaining: 4m 15s\n",
            "43:\tloss: 2874140.4630524\tbest: 2874140.4630524 (43)\ttotal: 1m 51s\tremaining: 4m 13s\n",
            "44:\tloss: 3273464.0280925\tbest: 2874140.4630524 (43)\ttotal: 1m 54s\tremaining: 4m 12s\n",
            "45:\tloss: 3035085.8161589\tbest: 2874140.4630524 (43)\ttotal: 1m 57s\tremaining: 4m 11s\n",
            "46:\tloss: 2834939.6183610\tbest: 2834939.6183610 (46)\ttotal: 2m\tremaining: 4m 9s\n",
            "47:\tloss: 3105390.7928251\tbest: 2834939.6183610 (46)\ttotal: 2m 4s\tremaining: 4m 8s\n",
            "48:\tloss: 2904781.1277335\tbest: 2834939.6183610 (46)\ttotal: 2m 8s\tremaining: 4m 9s\n",
            "49:\tloss: 2899296.3819833\tbest: 2834939.6183610 (46)\ttotal: 2m 13s\tremaining: 4m 10s\n",
            "50:\tloss: 3187164.0013870\tbest: 2834939.6183610 (46)\ttotal: 2m 17s\tremaining: 4m 10s\n",
            "51:\tloss: 2916278.4505900\tbest: 2834939.6183610 (46)\ttotal: 2m 22s\tremaining: 4m 11s\n",
            "52:\tloss: 2863605.9663785\tbest: 2834939.6183610 (46)\ttotal: 2m 26s\tremaining: 4m 12s\n",
            "53:\tloss: 3223167.3978209\tbest: 2834939.6183610 (46)\ttotal: 2m 31s\tremaining: 4m 12s\n",
            "54:\tloss: 2906202.1350624\tbest: 2834939.6183610 (46)\ttotal: 2m 36s\tremaining: 4m 12s\n",
            "55:\tloss: 2854590.2958556\tbest: 2834939.6183610 (46)\ttotal: 2m 40s\tremaining: 4m 12s\n",
            "56:\tloss: 3273464.0280925\tbest: 2834939.6183610 (46)\ttotal: 2m 45s\tremaining: 4m 12s\n",
            "57:\tloss: 2926826.2879667\tbest: 2834939.6183610 (46)\ttotal: 2m 50s\tremaining: 4m 12s\n",
            "58:\tloss: 2812448.1944080\tbest: 2812448.1944080 (58)\ttotal: 2m 54s\tremaining: 4m 11s\n",
            "59:\tloss: 3105390.7928251\tbest: 2812448.1944080 (58)\ttotal: 2m 59s\tremaining: 4m 11s\n",
            "60:\tloss: 2882559.6672158\tbest: 2812448.1944080 (58)\ttotal: 3m 8s\tremaining: 4m 16s\n",
            "61:\tloss: 2819449.7519666\tbest: 2812448.1944080 (58)\ttotal: 3m 17s\tremaining: 4m 20s\n",
            "62:\tloss: 3273851.4840356\tbest: 2812448.1944080 (58)\ttotal: 3m 25s\tremaining: 4m 24s\n",
            "63:\tloss: 2910996.7262619\tbest: 2812448.1944080 (58)\ttotal: 3m 34s\tremaining: 4m 27s\n",
            "64:\tloss: 2812264.9272957\tbest: 2812264.9272957 (64)\ttotal: 3m 42s\tremaining: 4m 30s\n",
            "65:\tloss: 3217300.3216875\tbest: 2812264.9272957 (64)\ttotal: 3m 51s\tremaining: 4m 33s\n",
            "66:\tloss: 2882734.2976419\tbest: 2812264.9272957 (64)\ttotal: 4m\tremaining: 4m 35s\n",
            "67:\tloss: 2832064.2228739\tbest: 2812264.9272957 (64)\ttotal: 4m 8s\tremaining: 4m 37s\n",
            "68:\tloss: 3187560.2579896\tbest: 2812264.9272957 (64)\ttotal: 4m 17s\tremaining: 4m 39s\n",
            "69:\tloss: 2877184.2629822\tbest: 2812264.9272957 (64)\ttotal: 4m 25s\tremaining: 4m 40s\n",
            "70:\tloss: 2798513.5753517\tbest: 2798513.5753517 (70)\ttotal: 4m 34s\tremaining: 4m 41s\n",
            "71:\tloss: 3158943.9228714\tbest: 2798513.5753517 (70)\ttotal: 4m 42s\tremaining: 4m 42s\n",
            "72:\tloss: 2959268.1192047\tbest: 2798513.5753517 (70)\ttotal: 4m 49s\tremaining: 4m 41s\n",
            "73:\tloss: 2780564.5220161\tbest: 2780564.5220161 (73)\ttotal: 4m 56s\tremaining: 4m 40s\n",
            "74:\tloss: 3587095.0905789\tbest: 2780564.5220161 (73)\ttotal: 5m 3s\tremaining: 4m 39s\n",
            "75:\tloss: 2960702.5193912\tbest: 2780564.5220161 (73)\ttotal: 5m 10s\tremaining: 4m 37s\n",
            "76:\tloss: 2854831.5404296\tbest: 2780564.5220161 (73)\ttotal: 5m 16s\tremaining: 4m 35s\n",
            "77:\tloss: 3462404.0719446\tbest: 2780564.5220161 (73)\ttotal: 5m 23s\tremaining: 4m 33s\n",
            "78:\tloss: 2978867.9867140\tbest: 2780564.5220161 (73)\ttotal: 5m 30s\tremaining: 4m 32s\n",
            "79:\tloss: 2800450.6421275\tbest: 2780564.5220161 (73)\ttotal: 5m 37s\tremaining: 4m 29s\n",
            "80:\tloss: 3096662.7067544\tbest: 2780564.5220161 (73)\ttotal: 5m 44s\tremaining: 4m 27s\n",
            "81:\tloss: 2988405.4948125\tbest: 2780564.5220161 (73)\ttotal: 5m 51s\tremaining: 4m 25s\n",
            "82:\tloss: 2821278.2761054\tbest: 2780564.5220161 (73)\ttotal: 5m 57s\tremaining: 4m 23s\n",
            "83:\tloss: 3119954.3672419\tbest: 2780564.5220161 (73)\ttotal: 6m 4s\tremaining: 4m 20s\n",
            "84:\tloss: 2869792.6044200\tbest: 2780564.5220161 (73)\ttotal: 6m 14s\tremaining: 4m 20s\n",
            "85:\tloss: 2755731.7174445\tbest: 2755731.7174445 (85)\ttotal: 6m 24s\tremaining: 4m 19s\n",
            "86:\tloss: 3587095.0905789\tbest: 2755731.7174445 (85)\ttotal: 6m 34s\tremaining: 4m 18s\n",
            "87:\tloss: 2861630.2117690\tbest: 2755731.7174445 (85)\ttotal: 6m 44s\tremaining: 4m 17s\n",
            "88:\tloss: 2823600.4547461\tbest: 2755731.7174445 (85)\ttotal: 6m 54s\tremaining: 4m 16s\n",
            "89:\tloss: 3462404.0719446\tbest: 2755731.7174445 (85)\ttotal: 7m 4s\tremaining: 4m 14s\n",
            "90:\tloss: 2878098.2480219\tbest: 2755731.7174445 (85)\ttotal: 7m 14s\tremaining: 4m 13s\n",
            "91:\tloss: 2773826.8458461\tbest: 2755731.7174445 (85)\ttotal: 7m 24s\tremaining: 4m 11s\n",
            "92:\tloss: 3096662.7067544\tbest: 2755731.7174445 (85)\ttotal: 7m 34s\tremaining: 4m 9s\n",
            "93:\tloss: 2881771.4904509\tbest: 2755731.7174445 (85)\ttotal: 7m 44s\tremaining: 4m 6s\n",
            "94:\tloss: 2798237.7911901\tbest: 2755731.7174445 (85)\ttotal: 7m 54s\tremaining: 4m 4s\n",
            "95:\tloss: 3119954.3672419\tbest: 2755731.7174445 (85)\ttotal: 8m 4s\tremaining: 4m 2s\n",
            "96:\tloss: 2865264.5818792\tbest: 2755731.7174445 (85)\ttotal: 8m 22s\tremaining: 4m 3s\n",
            "97:\tloss: 2829580.2967568\tbest: 2755731.7174445 (85)\ttotal: 8m 40s\tremaining: 4m 4s\n",
            "98:\tloss: 3233319.8994189\tbest: 2755731.7174445 (85)\ttotal: 8m 59s\tremaining: 4m 5s\n",
            "99:\tloss: 2858516.3529259\tbest: 2755731.7174445 (85)\ttotal: 9m 17s\tremaining: 4m 5s\n",
            "100:\tloss: 2775104.0161843\tbest: 2755731.7174445 (85)\ttotal: 9m 35s\tremaining: 4m 5s\n",
            "101:\tloss: 3233382.4291623\tbest: 2755731.7174445 (85)\ttotal: 9m 54s\tremaining: 4m 4s\n",
            "102:\tloss: 2856661.9299347\tbest: 2755731.7174445 (85)\ttotal: 10m 12s\tremaining: 4m 3s\n",
            "103:\tloss: 2797458.0254621\tbest: 2755731.7174445 (85)\ttotal: 10m 30s\tremaining: 4m 2s\n",
            "104:\tloss: 3172785.1119556\tbest: 2755731.7174445 (85)\ttotal: 10m 48s\tremaining: 4m\n",
            "105:\tloss: 2853781.6514590\tbest: 2755731.7174445 (85)\ttotal: 11m 6s\tremaining: 3m 59s\n",
            "106:\tloss: 2768464.2076427\tbest: 2755731.7174445 (85)\ttotal: 11m 24s\tremaining: 3m 56s\n",
            "107:\tloss: 3115238.6014108\tbest: 2755731.7174445 (85)\ttotal: 11m 42s\tremaining: 3m 54s\n",
            "108:\tloss: 2927804.6974303\tbest: 2755731.7174445 (85)\ttotal: 12m\tremaining: 3m 51s\n",
            "109:\tloss: 2839715.5065188\tbest: 2755731.7174445 (85)\ttotal: 12m 18s\tremaining: 3m 48s\n",
            "110:\tloss: 3382868.1442843\tbest: 2755731.7174445 (85)\ttotal: 12m 35s\tremaining: 3m 44s\n",
            "111:\tloss: 2946028.5388354\tbest: 2755731.7174445 (85)\ttotal: 12m 53s\tremaining: 3m 40s\n",
            "112:\tloss: 2818545.2763376\tbest: 2755731.7174445 (85)\ttotal: 13m 11s\tremaining: 3m 37s\n",
            "113:\tloss: 3328632.8261693\tbest: 2755731.7174445 (85)\ttotal: 13m 28s\tremaining: 3m 32s\n",
            "114:\tloss: 2941002.0516609\tbest: 2755731.7174445 (85)\ttotal: 13m 46s\tremaining: 3m 28s\n",
            "115:\tloss: 2787452.0422688\tbest: 2755731.7174445 (85)\ttotal: 14m 4s\tremaining: 3m 23s\n",
            "116:\tloss: 3316196.7040071\tbest: 2755731.7174445 (85)\ttotal: 14m 21s\tremaining: 3m 18s\n",
            "117:\tloss: 2993988.8719383\tbest: 2755731.7174445 (85)\ttotal: 14m 39s\tremaining: 3m 13s\n",
            "118:\tloss: 2801281.5814422\tbest: 2755731.7174445 (85)\ttotal: 14m 57s\tremaining: 3m 8s\n",
            "119:\tloss: 3243017.8736255\tbest: 2755731.7174445 (85)\ttotal: 15m 15s\tremaining: 3m 3s\n",
            "120:\tloss: 2835898.9994440\tbest: 2755731.7174445 (85)\ttotal: 15m 41s\tremaining: 2m 58s\n",
            "121:\tloss: 2827618.0157665\tbest: 2755731.7174445 (85)\ttotal: 16m 7s\tremaining: 2m 54s\n",
            "122:\tloss: 3382868.1442843\tbest: 2755731.7174445 (85)\ttotal: 16m 34s\tremaining: 2m 49s\n",
            "123:\tloss: 2840593.0672715\tbest: 2755731.7174445 (85)\ttotal: 17m\tremaining: 2m 44s\n",
            "124:\tloss: 2804923.7573564\tbest: 2755731.7174445 (85)\ttotal: 17m 27s\tremaining: 2m 39s\n",
            "125:\tloss: 3328632.8261693\tbest: 2755731.7174445 (85)\ttotal: 17m 53s\tremaining: 2m 33s\n",
            "126:\tloss: 2832359.4936157\tbest: 2755731.7174445 (85)\ttotal: 18m 20s\tremaining: 2m 27s\n",
            "127:\tloss: 2768877.4266786\tbest: 2755731.7174445 (85)\ttotal: 18m 47s\tremaining: 2m 20s\n",
            "128:\tloss: 3316196.7040071\tbest: 2755731.7174445 (85)\ttotal: 19m 13s\tremaining: 2m 14s\n",
            "129:\tloss: 2861864.9721610\tbest: 2755731.7174445 (85)\ttotal: 19m 40s\tremaining: 2m 7s\n",
            "130:\tloss: 2784751.5876960\tbest: 2755731.7174445 (85)\ttotal: 20m 6s\tremaining: 1m 59s\n",
            "131:\tloss: 3243017.8736255\tbest: 2755731.7174445 (85)\ttotal: 20m 33s\tremaining: 1m 52s\n",
            "132:\tloss: 2828807.1062603\tbest: 2755731.7174445 (85)\ttotal: 21m 17s\tremaining: 1m 45s\n",
            "133:\tloss: 2812545.7571527\tbest: 2755731.7174445 (85)\ttotal: 22m 1s\tremaining: 1m 38s\n",
            "134:\tloss: 3511851.5265525\tbest: 2755731.7174445 (85)\ttotal: 22m 46s\tremaining: 1m 31s\n",
            "135:\tloss: 2802965.9364731\tbest: 2755731.7174445 (85)\ttotal: 23m 30s\tremaining: 1m 22s\n",
            "136:\tloss: 2853591.0740659\tbest: 2755731.7174445 (85)\ttotal: 24m 14s\tremaining: 1m 14s\n",
            "137:\tloss: 3179036.3995784\tbest: 2755731.7174445 (85)\ttotal: 24m 58s\tremaining: 1m 5s\n",
            "138:\tloss: 2806889.7077716\tbest: 2755731.7174445 (85)\ttotal: 25m 42s\tremaining: 55.5s\n",
            "139:\tloss: 2766999.7991773\tbest: 2755731.7174445 (85)\ttotal: 26m 25s\tremaining: 45.3s\n",
            "140:\tloss: 3251770.3913299\tbest: 2755731.7174445 (85)\ttotal: 27m 10s\tremaining: 34.7s\n",
            "141:\tloss: 2829124.6854960\tbest: 2755731.7174445 (85)\ttotal: 27m 54s\tremaining: 23.6s\n",
            "142:\tloss: 2796496.2930967\tbest: 2755731.7174445 (85)\ttotal: 28m 37s\tremaining: 12s\n",
            "143:\tloss: 3179696.2450233\tbest: 2755731.7174445 (85)\ttotal: 29m 22s\tremaining: 0us\n",
            "Estimating final quality...\n"
          ]
        },
        {
          "output_type": "execute_result",
          "data": {
            "text/plain": [
              "{'cv_results': defaultdict(list,\n",
              "             {'iterations': [0,\n",
              "               1,\n",
              "               2,\n",
              "               3,\n",
              "               4,\n",
              "               5,\n",
              "               6,\n",
              "               7,\n",
              "               8,\n",
              "               9,\n",
              "               10,\n",
              "               11,\n",
              "               12,\n",
              "               13,\n",
              "               14,\n",
              "               15,\n",
              "               16,\n",
              "               17,\n",
              "               18,\n",
              "               19,\n",
              "               20,\n",
              "               21,\n",
              "               22,\n",
              "               23,\n",
              "               24,\n",
              "               25,\n",
              "               26,\n",
              "               27,\n",
              "               28,\n",
              "               29,\n",
              "               30,\n",
              "               31,\n",
              "               32,\n",
              "               33,\n",
              "               34,\n",
              "               35,\n",
              "               36,\n",
              "               37,\n",
              "               38,\n",
              "               39,\n",
              "               40,\n",
              "               41,\n",
              "               42,\n",
              "               43,\n",
              "               44,\n",
              "               45,\n",
              "               46,\n",
              "               47,\n",
              "               48,\n",
              "               49,\n",
              "               50,\n",
              "               51,\n",
              "               52,\n",
              "               53,\n",
              "               54,\n",
              "               55,\n",
              "               56,\n",
              "               57,\n",
              "               58,\n",
              "               59,\n",
              "               60,\n",
              "               61,\n",
              "               62,\n",
              "               63,\n",
              "               64,\n",
              "               65,\n",
              "               66,\n",
              "               67,\n",
              "               68,\n",
              "               69,\n",
              "               70,\n",
              "               71,\n",
              "               72,\n",
              "               73,\n",
              "               74,\n",
              "               75,\n",
              "               76,\n",
              "               77,\n",
              "               78,\n",
              "               79,\n",
              "               80,\n",
              "               81,\n",
              "               82,\n",
              "               83,\n",
              "               84,\n",
              "               85,\n",
              "               86,\n",
              "               87,\n",
              "               88,\n",
              "               89,\n",
              "               90,\n",
              "               91,\n",
              "               92,\n",
              "               93,\n",
              "               94,\n",
              "               95,\n",
              "               96,\n",
              "               97,\n",
              "               98,\n",
              "               99,\n",
              "               100,\n",
              "               101,\n",
              "               102,\n",
              "               103,\n",
              "               104,\n",
              "               105,\n",
              "               106,\n",
              "               107,\n",
              "               108,\n",
              "               109,\n",
              "               110,\n",
              "               111,\n",
              "               112,\n",
              "               113,\n",
              "               114,\n",
              "               115,\n",
              "               116,\n",
              "               117,\n",
              "               118,\n",
              "               119,\n",
              "               120,\n",
              "               121,\n",
              "               122,\n",
              "               123,\n",
              "               124,\n",
              "               125,\n",
              "               126,\n",
              "               127,\n",
              "               128,\n",
              "               129,\n",
              "               130,\n",
              "               131,\n",
              "               132,\n",
              "               133,\n",
              "               134,\n",
              "               135,\n",
              "               136,\n",
              "               137,\n",
              "               138,\n",
              "               139,\n",
              "               140,\n",
              "               141,\n",
              "               142,\n",
              "               143,\n",
              "               144,\n",
              "               145,\n",
              "               146,\n",
              "               147,\n",
              "               148,\n",
              "               149],\n",
              "              'test-RMSE-mean': [8233452.891654167,\n",
              "               7593819.086305075,\n",
              "               7043074.998952079,\n",
              "               6552475.189135977,\n",
              "               6117870.629203391,\n",
              "               5734401.873649557,\n",
              "               5408278.20760313,\n",
              "               5102760.361742853,\n",
              "               4835178.731602783,\n",
              "               4583710.7713360535,\n",
              "               4388718.12733715,\n",
              "               4213666.324324618,\n",
              "               4062960.8396800533,\n",
              "               3928685.753239818,\n",
              "               3815445.507057063,\n",
              "               3724079.552372144,\n",
              "               3648341.1488991505,\n",
              "               3574030.2201902843,\n",
              "               3512193.271818457,\n",
              "               3465031.1870070244,\n",
              "               3418357.899186441,\n",
              "               3381057.1068886817,\n",
              "               3347122.7422455805,\n",
              "               3320032.9236569456,\n",
              "               3290884.123355307,\n",
              "               3271131.1591738625,\n",
              "               3254032.809723444,\n",
              "               3232747.5652529574,\n",
              "               3215716.663418157,\n",
              "               3199330.3968859264,\n",
              "               3186793.412583047,\n",
              "               3174188.4130645446,\n",
              "               3160906.24677668,\n",
              "               3149484.900657385,\n",
              "               3141715.569314105,\n",
              "               3132254.973043988,\n",
              "               3126593.882598994,\n",
              "               3121052.8086502035,\n",
              "               3111873.455898855,\n",
              "               3107445.122918932,\n",
              "               3101976.1172793307,\n",
              "               3097080.3677028655,\n",
              "               3091559.9268896296,\n",
              "               3088747.426133845,\n",
              "               3083527.6961552836,\n",
              "               3079860.163063168,\n",
              "               3076879.635263001,\n",
              "               3075471.2756265216,\n",
              "               3073559.9309003153,\n",
              "               3067868.615555707,\n",
              "               3065365.830251325,\n",
              "               3062386.8559930488,\n",
              "               3058783.424658272,\n",
              "               3057531.87587397,\n",
              "               3054040.886886054,\n",
              "               3051475.699722085,\n",
              "               3050268.22872127,\n",
              "               3048297.47390042,\n",
              "               3045952.121918702,\n",
              "               3044316.0022417097,\n",
              "               3041632.011172204,\n",
              "               3038566.2359245257,\n",
              "               3036369.676325464,\n",
              "               3035113.1956888703,\n",
              "               3033207.6059119557,\n",
              "               3031388.2810204388,\n",
              "               3031001.850375246,\n",
              "               3029829.1688743904,\n",
              "               3028042.5655372464,\n",
              "               3027274.0713742413,\n",
              "               3026887.137528013,\n",
              "               3026952.5576964393,\n",
              "               3026852.4010694786,\n",
              "               3025032.003573024,\n",
              "               3024462.092176454,\n",
              "               3024136.8210047893,\n",
              "               3022389.466027489,\n",
              "               3020301.720820704,\n",
              "               3019114.4559934493,\n",
              "               3018653.7619570396,\n",
              "               3017810.1362996395,\n",
              "               3016500.9575467105,\n",
              "               3016369.127504552,\n",
              "               3016106.7287557437,\n",
              "               3014378.908952143,\n",
              "               3012961.1606972055,\n",
              "               3009663.367988087,\n",
              "               3007997.359452287,\n",
              "               3007612.671798967,\n",
              "               3007506.518577141,\n",
              "               3008301.4461403876,\n",
              "               3008113.527817499,\n",
              "               3007094.3160789846,\n",
              "               3007281.2524574795,\n",
              "               3006581.742110873,\n",
              "               3005149.6288767657,\n",
              "               3003251.4390630983,\n",
              "               3002590.4599033897,\n",
              "               3000596.3333356977,\n",
              "               3000852.2784904786,\n",
              "               3000543.1696093194,\n",
              "               2999448.39250309,\n",
              "               2998944.420447407,\n",
              "               2998669.675089214,\n",
              "               2998739.0972037353,\n",
              "               2997846.433139657,\n",
              "               2996993.772849266,\n",
              "               2996127.6152539044,\n",
              "               2994167.0664644726,\n",
              "               2994532.400978068,\n",
              "               2993781.0926838317,\n",
              "               2992890.8944576005,\n",
              "               2992674.755290225,\n",
              "               2992463.037204483,\n",
              "               2991636.1007534694,\n",
              "               2990681.3565629795,\n",
              "               2990451.1346704178,\n",
              "               2989604.4660616913,\n",
              "               2988980.181330491,\n",
              "               2989053.341736278,\n",
              "               2988176.7001508153,\n",
              "               2987584.835419873,\n",
              "               2988126.209450451,\n",
              "               2986743.892031685,\n",
              "               2985846.2166735884,\n",
              "               2985757.1927382057,\n",
              "               2984651.951914752,\n",
              "               2984327.6944990824,\n",
              "               2982513.4105275874,\n",
              "               2982117.624389246,\n",
              "               2982093.4969413113,\n",
              "               2980850.2315054894,\n",
              "               2980176.5519441073,\n",
              "               2980090.165388994,\n",
              "               2979717.6663415306,\n",
              "               2979641.5195575114,\n",
              "               2979123.23716793,\n",
              "               2977912.1266521034,\n",
              "               2977913.6002196744,\n",
              "               2976994.148327727,\n",
              "               2977042.387650926,\n",
              "               2976217.980271245,\n",
              "               2976325.0274771876,\n",
              "               2975757.3045404055,\n",
              "               2974729.605142997,\n",
              "               2974915.228143389,\n",
              "               2973859.2036261396,\n",
              "               2974413.717414115,\n",
              "               2973766.3249627636,\n",
              "               2972703.9326753914],\n",
              "              'test-RMSE-std': [42448.727116988455,\n",
              "               42885.95950631638,\n",
              "               44121.40834004333,\n",
              "               47367.77412701985,\n",
              "               48529.46374367345,\n",
              "               65669.73785689835,\n",
              "               66444.2989841636,\n",
              "               74065.73155488675,\n",
              "               67023.0700953559,\n",
              "               70200.89211694153,\n",
              "               67009.43528762078,\n",
              "               66509.38795015331,\n",
              "               72168.79359979791,\n",
              "               78452.56138407525,\n",
              "               83485.4520535587,\n",
              "               93150.21578215754,\n",
              "               98895.06564964309,\n",
              "               97356.1128470654,\n",
              "               101964.77978221896,\n",
              "               99437.30101590403,\n",
              "               98727.208776878,\n",
              "               99391.87284613334,\n",
              "               104223.36110475619,\n",
              "               101795.81194099883,\n",
              "               102872.86675835209,\n",
              "               99210.72771158317,\n",
              "               102316.06724709907,\n",
              "               92317.42721016529,\n",
              "               90467.6106394434,\n",
              "               90615.48145323357,\n",
              "               91235.38364247914,\n",
              "               94130.50226261839,\n",
              "               95055.6190857346,\n",
              "               96517.546466112,\n",
              "               96985.79999755067,\n",
              "               95662.923363877,\n",
              "               95180.78026078163,\n",
              "               94618.26158624107,\n",
              "               93537.96366415768,\n",
              "               92674.96283653216,\n",
              "               94597.96228809576,\n",
              "               95356.40005134454,\n",
              "               95135.05750122403,\n",
              "               95858.17462990798,\n",
              "               97096.71281468301,\n",
              "               94629.66863337638,\n",
              "               92389.33973424269,\n",
              "               93088.23133383236,\n",
              "               93116.44775821672,\n",
              "               93904.29371610067,\n",
              "               96062.5995599051,\n",
              "               95983.19099622147,\n",
              "               96593.21435383131,\n",
              "               97598.25130462505,\n",
              "               96512.77424606205,\n",
              "               96259.8058141493,\n",
              "               96124.53909073085,\n",
              "               95861.42149645952,\n",
              "               95238.52676787462,\n",
              "               96469.04401743482,\n",
              "               96681.50693968024,\n",
              "               96221.45233582624,\n",
              "               96870.6356182397,\n",
              "               96367.20233800894,\n",
              "               96299.2032178638,\n",
              "               96531.09536552445,\n",
              "               94838.97250990469,\n",
              "               94038.67501127312,\n",
              "               93286.91680973199,\n",
              "               93247.87217391106,\n",
              "               91748.98540785837,\n",
              "               92250.35116289543,\n",
              "               93689.9014933813,\n",
              "               93854.03614766519,\n",
              "               94357.21456893913,\n",
              "               94847.49538894778,\n",
              "               95147.16427238178,\n",
              "               94483.99545177745,\n",
              "               93681.86688838505,\n",
              "               92944.7160035462,\n",
              "               93467.88496960544,\n",
              "               95271.41897798325,\n",
              "               93913.18897791562,\n",
              "               94040.2272543195,\n",
              "               93026.43552676245,\n",
              "               93191.65949527283,\n",
              "               94328.54716529674,\n",
              "               93687.2540188178,\n",
              "               93800.83371605756,\n",
              "               93606.37797503099,\n",
              "               94911.14612065356,\n",
              "               94891.82981266358,\n",
              "               94485.64400199655,\n",
              "               94702.70506165503,\n",
              "               95115.67329665348,\n",
              "               96318.03992043357,\n",
              "               94050.63648058411,\n",
              "               93469.45852603004,\n",
              "               94012.27821830117,\n",
              "               95761.74927376217,\n",
              "               95645.67964816949,\n",
              "               95465.88060176765,\n",
              "               95994.15612020945,\n",
              "               96111.35884997524,\n",
              "               96770.56280853484,\n",
              "               96989.14607735754,\n",
              "               95453.91521256068,\n",
              "               95223.89818431536,\n",
              "               96682.849200051,\n",
              "               96785.04991399459,\n",
              "               96178.74889613144,\n",
              "               96469.28009907814,\n",
              "               97119.55474005888,\n",
              "               96743.27506870353,\n",
              "               96175.90709653254,\n",
              "               95700.22540333521,\n",
              "               95587.93792543157,\n",
              "               95637.98559509874,\n",
              "               96056.96977923372,\n",
              "               95256.14858526678,\n",
              "               93840.52024408444,\n",
              "               94191.28817304202,\n",
              "               94281.1437447288,\n",
              "               94559.5973666346,\n",
              "               94045.48483058276,\n",
              "               94359.85203538631,\n",
              "               94481.56807702806,\n",
              "               94471.42103540266,\n",
              "               93186.68582332692,\n",
              "               92770.95311449423,\n",
              "               92452.79046653851,\n",
              "               92801.74498917564,\n",
              "               92966.49249049895,\n",
              "               92352.25083767723,\n",
              "               92582.17559127137,\n",
              "               92072.33815201807,\n",
              "               92014.44716528941,\n",
              "               91594.33062237804,\n",
              "               90405.09967417993,\n",
              "               91235.37708185638,\n",
              "               90935.39553273152,\n",
              "               90509.51097990703,\n",
              "               90611.72810028194,\n",
              "               91444.58496578441,\n",
              "               91308.45966560979,\n",
              "               90172.47876560425,\n",
              "               90232.64969016546,\n",
              "               90576.46737147318,\n",
              "               90240.88172037614,\n",
              "               90820.76318746833],\n",
              "              'train-RMSE-mean': [8228025.73789624,\n",
              "               7582418.1851321375,\n",
              "               7024639.347700899,\n",
              "               6528545.483251621,\n",
              "               6089821.430437375,\n",
              "               5689767.223219876,\n",
              "               5351809.902090489,\n",
              "               5040029.692330069,\n",
              "               4760789.596152644,\n",
              "               4498957.204017802,\n",
              "               4283987.108087137,\n",
              "               4099920.3139240197,\n",
              "               3934316.616129128,\n",
              "               3794392.932469646,\n",
              "               3663133.2561915014,\n",
              "               3560901.2289892645,\n",
              "               3465614.831811832,\n",
              "               3383796.5020111618,\n",
              "               3311018.476720383,\n",
              "               3249216.5847919346,\n",
              "               3194056.047845485,\n",
              "               3147230.6597299906,\n",
              "               3104591.3092648047,\n",
              "               3067385.714532748,\n",
              "               3029464.055575669,\n",
              "               3002888.521445734,\n",
              "               2973870.855210729,\n",
              "               2948445.4610996298,\n",
              "               2925230.5727073983,\n",
              "               2904004.147718303,\n",
              "               2887433.8935612156,\n",
              "               2867725.73338473,\n",
              "               2849658.3064372637,\n",
              "               2833448.590233308,\n",
              "               2820679.634699464,\n",
              "               2810200.813421672,\n",
              "               2801692.9342595437,\n",
              "               2791907.1395941484,\n",
              "               2775700.7292835265,\n",
              "               2768286.899657992,\n",
              "               2759059.0398660987,\n",
              "               2750233.3825006294,\n",
              "               2740229.634075446,\n",
              "               2733310.3833936434,\n",
              "               2723297.7284835363,\n",
              "               2715192.231808657,\n",
              "               2708532.901236976,\n",
              "               2700818.9874074175,\n",
              "               2693397.4573555198,\n",
              "               2686766.3713211254,\n",
              "               2680784.347486813,\n",
              "               2675138.155232188,\n",
              "               2668587.347180189,\n",
              "               2662352.4134003283,\n",
              "               2655365.344876028,\n",
              "               2651618.940487171,\n",
              "               2645214.133229399,\n",
              "               2639924.5909665697,\n",
              "               2633959.6843013247,\n",
              "               2627500.431591707,\n",
              "               2621981.042329001,\n",
              "               2615461.7064302634,\n",
              "               2610235.2335532005,\n",
              "               2606818.5614382797,\n",
              "               2602445.660032513,\n",
              "               2598034.744292551,\n",
              "               2592510.6708354275,\n",
              "               2587788.7178714843,\n",
              "               2583859.29370409,\n",
              "               2579485.4261992835,\n",
              "               2574070.9748458373,\n",
              "               2569739.0842538085,\n",
              "               2565292.1645382033,\n",
              "               2561400.410977104,\n",
              "               2556800.2290314175,\n",
              "               2552409.794186815,\n",
              "               2546326.5336713195,\n",
              "               2542274.0384601858,\n",
              "               2538630.835618189,\n",
              "               2534883.709677898,\n",
              "               2530341.3778085224,\n",
              "               2525333.560061782,\n",
              "               2521514.1352297845,\n",
              "               2517557.2688698345,\n",
              "               2511073.7959739803,\n",
              "               2506507.186088595,\n",
              "               2500580.514480953,\n",
              "               2496202.418766106,\n",
              "               2492755.902527802,\n",
              "               2487933.014111227,\n",
              "               2483566.3431964465,\n",
              "               2479358.202531664,\n",
              "               2476490.385833774,\n",
              "               2472153.1013638317,\n",
              "               2468020.676872658,\n",
              "               2464686.7281562807,\n",
              "               2458142.4794566627,\n",
              "               2453873.2303325958,\n",
              "               2449474.464494919,\n",
              "               2444687.542022074,\n",
              "               2441449.379934075,\n",
              "               2437155.744448388,\n",
              "               2431909.482660689,\n",
              "               2428552.0939685837,\n",
              "               2424527.4042063453,\n",
              "               2421634.018604354,\n",
              "               2417515.5272225584,\n",
              "               2413610.384473951,\n",
              "               2409522.3644164014,\n",
              "               2404429.119960439,\n",
              "               2400251.991556451,\n",
              "               2396502.209139584,\n",
              "               2392633.0178225674,\n",
              "               2387260.450536149,\n",
              "               2383480.060331349,\n",
              "               2380107.8027788657,\n",
              "               2377370.4395654495,\n",
              "               2373229.9881305196,\n",
              "               2369142.6383897727,\n",
              "               2364624.2238632813,\n",
              "               2360143.4903834015,\n",
              "               2355171.56309717,\n",
              "               2352223.089256584,\n",
              "               2348270.4688778273,\n",
              "               2344992.2451151647,\n",
              "               2342427.02135064,\n",
              "               2338413.5290392814,\n",
              "               2335616.9885500125,\n",
              "               2331664.1088530314,\n",
              "               2328772.976038296,\n",
              "               2325579.111683089,\n",
              "               2321286.396677377,\n",
              "               2317074.895437834,\n",
              "               2313659.556986933,\n",
              "               2310847.2418501475,\n",
              "               2308399.9514403534,\n",
              "               2305513.2153763915,\n",
              "               2301577.85210971,\n",
              "               2299059.659370066,\n",
              "               2295307.386137996,\n",
              "               2291641.4777002158,\n",
              "               2288427.6249498012,\n",
              "               2285433.347866627,\n",
              "               2281799.0004169545,\n",
              "               2278872.776787222,\n",
              "               2275176.962474661,\n",
              "               2271922.145409201,\n",
              "               2267948.4598259595,\n",
              "               2265100.322699802,\n",
              "               2261996.5672541168],\n",
              "              'train-RMSE-std': [17727.235642167034,\n",
              "               16043.842007903439,\n",
              "               11897.315906209384,\n",
              "               2448.629205225289,\n",
              "               6063.936577596974,\n",
              "               7544.07263946361,\n",
              "               5989.939187938059,\n",
              "               12555.603277100381,\n",
              "               12805.447703370985,\n",
              "               16774.55058652712,\n",
              "               22528.26629108649,\n",
              "               16219.65845917468,\n",
              "               16921.689399105446,\n",
              "               17032.819878928163,\n",
              "               24065.790306131592,\n",
              "               18019.1479904784,\n",
              "               22019.696317260088,\n",
              "               26380.714040158713,\n",
              "               25253.279778431268,\n",
              "               24822.98716756533,\n",
              "               20789.778697961,\n",
              "               20279.738044172853,\n",
              "               23622.242962078926,\n",
              "               25381.43427991656,\n",
              "               21241.082616373766,\n",
              "               24275.694401637767,\n",
              "               17612.97093158023,\n",
              "               23592.596579792535,\n",
              "               18245.415638133618,\n",
              "               18225.804723883262,\n",
              "               19402.67598137583,\n",
              "               19633.236213915174,\n",
              "               14729.795198360676,\n",
              "               12651.29482397246,\n",
              "               14902.784334741526,\n",
              "               15607.512287063819,\n",
              "               14090.893726367727,\n",
              "               14574.256015807563,\n",
              "               12651.360143251124,\n",
              "               14102.76748331356,\n",
              "               12594.879610945536,\n",
              "               14497.34994336549,\n",
              "               14139.305014405272,\n",
              "               14614.106227228014,\n",
              "               14415.677940012776,\n",
              "               16400.843281270987,\n",
              "               15202.145287669144,\n",
              "               14742.885538940825,\n",
              "               14295.860497429632,\n",
              "               13103.95458332731,\n",
              "               12911.513793179432,\n",
              "               12538.60745036495,\n",
              "               12307.897062309788,\n",
              "               13782.423316728857,\n",
              "               16156.288156450353,\n",
              "               17322.771182020162,\n",
              "               16891.27699255859,\n",
              "               14311.827067029215,\n",
              "               14650.692588037029,\n",
              "               15792.894490529152,\n",
              "               17247.453460113666,\n",
              "               16502.97042950271,\n",
              "               15551.861143110975,\n",
              "               15863.84774444546,\n",
              "               15861.206658493838,\n",
              "               17111.601728774163,\n",
              "               14813.171108535811,\n",
              "               13491.073751863467,\n",
              "               12788.474536075866,\n",
              "               11493.405977247989,\n",
              "               12313.197486198485,\n",
              "               13026.61590545164,\n",
              "               13311.853910448825,\n",
              "               12727.07488158164,\n",
              "               13344.49262185225,\n",
              "               13448.091331758491,\n",
              "               11196.251071707135,\n",
              "               12574.188780364582,\n",
              "               12927.826423857512,\n",
              "               14268.455864300257,\n",
              "               12603.195065631398,\n",
              "               12470.53902675261,\n",
              "               11730.46552686636,\n",
              "               11784.373485000715,\n",
              "               10722.645878946289,\n",
              "               11732.236223814381,\n",
              "               9946.393759259625,\n",
              "               8963.33165442513,\n",
              "               7439.126703748537,\n",
              "               7056.286276848212,\n",
              "               5060.67353545879,\n",
              "               7001.028648074364,\n",
              "               6489.556809186455,\n",
              "               6592.689110906889,\n",
              "               5835.436018096705,\n",
              "               5468.556557465985,\n",
              "               7096.907172144574,\n",
              "               7322.189389223412,\n",
              "               7024.527638519285,\n",
              "               8679.276221099182,\n",
              "               8160.934749462513,\n",
              "               7311.676279458063,\n",
              "               5949.51883669267,\n",
              "               5993.126687875255,\n",
              "               6249.4128441033545,\n",
              "               5462.600493229434,\n",
              "               8176.965979962967,\n",
              "               8230.201523198537,\n",
              "               7140.438879197913,\n",
              "               8267.799338573192,\n",
              "               9514.059589568988,\n",
              "               9877.696667187569,\n",
              "               9599.076031882512,\n",
              "               9608.579775748778,\n",
              "               8846.870291446674,\n",
              "               8207.277405261264,\n",
              "               7114.714670509641,\n",
              "               8282.595046778584,\n",
              "               8883.85443321687,\n",
              "               9606.31170548725,\n",
              "               9578.390726891217,\n",
              "               8849.563320136076,\n",
              "               10627.109914055369,\n",
              "               10188.857269003038,\n",
              "               11439.643392856382,\n",
              "               11654.039614357805,\n",
              "               12492.971406161581,\n",
              "               12676.655616017655,\n",
              "               12023.864125916665,\n",
              "               11309.820708565763,\n",
              "               10361.374711676337,\n",
              "               11691.914632384298,\n",
              "               12725.963053863405,\n",
              "               12050.79510343896,\n",
              "               12446.038614087664,\n",
              "               12480.320864785066,\n",
              "               12971.466343170861,\n",
              "               12754.823681702173,\n",
              "               13265.933732787384,\n",
              "               12460.891045225622,\n",
              "               13445.367818916471,\n",
              "               14822.543434240091,\n",
              "               15691.12690951557,\n",
              "               16717.711754132742,\n",
              "               17186.640059110494,\n",
              "               17339.372971282937,\n",
              "               16435.08408089135,\n",
              "               16893.207200548575,\n",
              "               17311.356640731097,\n",
              "               16992.75615951577]}),\n",
              " 'params': {'depth': 6,\n",
              "  'iterations': 150,\n",
              "  'l2_leaf_reg': 0.2,\n",
              "  'learning_rate': 0.1}}"
            ]
          },
          "metadata": {},
          "execution_count": 102
        }
      ]
    },
    {
      "cell_type": "code",
      "source": [
        "grid = {'iterations': [100, 150, 200],\n",
        " 'learning_rate': [0.03, 0.1, 1],\n",
        " 'depth': [2, 4, 6, 8],\n",
        " 'l2_leaf_reg': [0.2, 0.5, 1, 3]}\n",
        "\n",
        "model_owner_cbr.grid_search(\n",
        "                      grid, \n",
        "                      Pool(X_owner_1,\n",
        "                           y_owner_1,\n",
        "                           cat_features = categorical_feature_indices_1),\n",
        "                      partition_random_seed=42,\n",
        "                      plot=True)"
      ],
      "metadata": {
        "colab": {
          "base_uri": "https://localhost:8080/",
          "height": 1000,
          "referenced_widgets": [
            "be6c954ea57a48c4979f7e311017ae76"
          ]
        },
        "id": "WXugnhFhnNDv",
        "outputId": "8daa556f-3a67-4bc4-cab1-5c094267f4ee"
      },
      "execution_count": null,
      "outputs": [
        {
          "output_type": "display_data",
          "data": {
            "application/vnd.jupyter.widget-view+json": {
              "model_id": "be6c954ea57a48c4979f7e311017ae76",
              "version_minor": 0,
              "version_major": 2
            },
            "text/plain": [
              "MetricVisualizer(layout=Layout(align_self='stretch', height='500px'))"
            ]
          },
          "metadata": {}
        },
        {
          "output_type": "stream",
          "name": "stdout",
          "text": [
            "0:\tloss: 2586830.3777756\tbest: 2586830.3777756 (0)\ttotal: 1.16s\tremaining: 2m 45s\n",
            "1:\tloss: 2180312.8321929\tbest: 2180312.8321929 (1)\ttotal: 2.18s\tremaining: 2m 35s\n",
            "2:\tloss: 1913656.6273493\tbest: 1913656.6273493 (2)\ttotal: 3.21s\tremaining: 2m 30s\n",
            "3:\tloss: 2564785.2554156\tbest: 1913656.6273493 (2)\ttotal: 4.26s\tremaining: 2m 29s\n",
            "4:\tloss: 2223984.0404286\tbest: 1913656.6273493 (2)\ttotal: 5.28s\tremaining: 2m 26s\n",
            "5:\tloss: 2090475.6010138\tbest: 1913656.6273493 (2)\ttotal: 6.33s\tremaining: 2m 25s\n",
            "6:\tloss: 2577061.9782274\tbest: 1913656.6273493 (2)\ttotal: 7.36s\tremaining: 2m 24s\n",
            "7:\tloss: 2210130.5860846\tbest: 1913656.6273493 (2)\ttotal: 8.45s\tremaining: 2m 23s\n",
            "8:\tloss: 1919285.5546202\tbest: 1913656.6273493 (2)\ttotal: 9.52s\tremaining: 2m 22s\n",
            "9:\tloss: 2612381.3454800\tbest: 1913656.6273493 (2)\ttotal: 10.6s\tremaining: 2m 21s\n",
            "10:\tloss: 2194168.1183759\tbest: 1913656.6273493 (2)\ttotal: 11.6s\tremaining: 2m 20s\n",
            "11:\tloss: 2172811.1803431\tbest: 1913656.6273493 (2)\ttotal: 12.6s\tremaining: 2m 18s\n",
            "12:\tloss: 2353641.7414568\tbest: 1913656.6273493 (2)\ttotal: 14.1s\tremaining: 2m 22s\n",
            "13:\tloss: 2117161.2873301\tbest: 1913656.6273493 (2)\ttotal: 15.6s\tremaining: 2m 25s\n",
            "14:\tloss: 1910403.8910200\tbest: 1910403.8910200 (14)\ttotal: 17.2s\tremaining: 2m 27s\n",
            "15:\tloss: 2328118.9480725\tbest: 1910403.8910200 (14)\ttotal: 18.7s\tremaining: 2m 29s\n",
            "16:\tloss: 2178887.6949191\tbest: 1910403.8910200 (14)\ttotal: 20.3s\tremaining: 2m 31s\n",
            "17:\tloss: 2090475.6010138\tbest: 1910403.8910200 (14)\ttotal: 21.8s\tremaining: 2m 32s\n",
            "18:\tloss: 2348492.8010434\tbest: 1910403.8910200 (14)\ttotal: 23.3s\tremaining: 2m 33s\n",
            "19:\tloss: 2187649.5308756\tbest: 1910403.8910200 (14)\ttotal: 24.8s\tremaining: 2m 33s\n",
            "20:\tloss: 1918886.5223205\tbest: 1910403.8910200 (14)\ttotal: 26.3s\tremaining: 2m 34s\n",
            "21:\tloss: 2380520.1223840\tbest: 1910403.8910200 (14)\ttotal: 27.9s\tremaining: 2m 34s\n",
            "22:\tloss: 2130421.9247901\tbest: 1910403.8910200 (14)\ttotal: 29.4s\tremaining: 2m 34s\n",
            "23:\tloss: 2159970.6824180\tbest: 1910403.8910200 (14)\ttotal: 30.9s\tremaining: 2m 34s\n",
            "24:\tloss: 2241533.1958341\tbest: 1910403.8910200 (14)\ttotal: 33.3s\tremaining: 2m 38s\n",
            "25:\tloss: 1997064.4349085\tbest: 1910403.8910200 (14)\ttotal: 35.6s\tremaining: 2m 41s\n",
            "26:\tloss: 2011986.0482734\tbest: 1910403.8910200 (14)\ttotal: 38s\tremaining: 2m 44s\n",
            "27:\tloss: 2258825.7485962\tbest: 1910403.8910200 (14)\ttotal: 40.4s\tremaining: 2m 47s\n",
            "28:\tloss: 2023704.7640710\tbest: 1910403.8910200 (14)\ttotal: 42.8s\tremaining: 2m 49s\n",
            "29:\tloss: 1921509.9896935\tbest: 1910403.8910200 (14)\ttotal: 45.2s\tremaining: 2m 51s\n",
            "30:\tloss: 2263155.9802991\tbest: 1910403.8910200 (14)\ttotal: 47.6s\tremaining: 2m 53s\n",
            "31:\tloss: 2100694.2683911\tbest: 1910403.8910200 (14)\ttotal: 50s\tremaining: 2m 55s\n",
            "32:\tloss: 2100860.9722231\tbest: 1910403.8910200 (14)\ttotal: 52.5s\tremaining: 2m 56s\n",
            "33:\tloss: 2302049.2101199\tbest: 1910403.8910200 (14)\ttotal: 54.9s\tremaining: 2m 57s\n",
            "34:\tloss: 2117287.3035277\tbest: 1910403.8910200 (14)\ttotal: 57.3s\tremaining: 2m 58s\n",
            "35:\tloss: 2021472.0656883\tbest: 1910403.8910200 (14)\ttotal: 59.7s\tremaining: 2m 59s\n",
            "36:\tloss: 2364139.0792928\tbest: 1910403.8910200 (14)\ttotal: 1m 1s\tremaining: 2m 58s\n",
            "37:\tloss: 2082448.5143890\tbest: 1910403.8910200 (14)\ttotal: 1m 4s\tremaining: 2m 58s\n",
            "38:\tloss: 2187727.5161563\tbest: 1910403.8910200 (14)\ttotal: 1m 6s\tremaining: 2m 58s\n",
            "39:\tloss: 2377393.0436345\tbest: 1910403.8910200 (14)\ttotal: 1m 8s\tremaining: 2m 57s\n",
            "40:\tloss: 2037852.3637656\tbest: 1910403.8910200 (14)\ttotal: 1m 10s\tremaining: 2m 57s\n",
            "41:\tloss: 2047855.4703342\tbest: 1910403.8910200 (14)\ttotal: 1m 12s\tremaining: 2m 56s\n",
            "42:\tloss: 2382252.0226795\tbest: 1910403.8910200 (14)\ttotal: 1m 14s\tremaining: 2m 55s\n",
            "43:\tloss: 2040753.0471896\tbest: 1910403.8910200 (14)\ttotal: 1m 16s\tremaining: 2m 54s\n",
            "44:\tloss: 2151473.3028843\tbest: 1910403.8910200 (14)\ttotal: 1m 19s\tremaining: 2m 54s\n",
            "45:\tloss: 2410052.7381038\tbest: 1910403.8910200 (14)\ttotal: 1m 21s\tremaining: 2m 53s\n",
            "46:\tloss: 2018185.4562892\tbest: 1910403.8910200 (14)\ttotal: 1m 23s\tremaining: 2m 52s\n",
            "47:\tloss: 1924506.5129765\tbest: 1910403.8910200 (14)\ttotal: 1m 25s\tremaining: 2m 51s\n",
            "48:\tloss: 2215067.5247933\tbest: 1910403.8910200 (14)\ttotal: 1m 28s\tremaining: 2m 52s\n",
            "49:\tloss: 2042303.5100248\tbest: 1910403.8910200 (14)\ttotal: 1m 31s\tremaining: 2m 52s\n",
            "50:\tloss: 2187727.5161563\tbest: 1910403.8910200 (14)\ttotal: 1m 35s\tremaining: 2m 53s\n",
            "51:\tloss: 2226640.5220883\tbest: 1910403.8910200 (14)\ttotal: 1m 38s\tremaining: 2m 54s\n",
            "52:\tloss: 1991686.8327959\tbest: 1910403.8910200 (14)\ttotal: 1m 41s\tremaining: 2m 54s\n",
            "53:\tloss: 2047855.4703342\tbest: 1910403.8910200 (14)\ttotal: 1m 44s\tremaining: 2m 54s\n",
            "54:\tloss: 2215747.0844097\tbest: 1910403.8910200 (14)\ttotal: 1m 48s\tremaining: 2m 54s\n",
            "55:\tloss: 2025970.7876190\tbest: 1910403.8910200 (14)\ttotal: 1m 51s\tremaining: 2m 54s\n",
            "56:\tloss: 2151473.3028843\tbest: 1910403.8910200 (14)\ttotal: 1m 54s\tremaining: 2m 54s\n",
            "57:\tloss: 2232623.6776880\tbest: 1910403.8910200 (14)\ttotal: 1m 57s\tremaining: 2m 54s\n",
            "58:\tloss: 1935897.6776606\tbest: 1910403.8910200 (14)\ttotal: 2m 1s\tremaining: 2m 54s\n",
            "59:\tloss: 1924506.5129765\tbest: 1910403.8910200 (14)\ttotal: 2m 4s\tremaining: 2m 53s\n",
            "60:\tloss: 2105160.0772460\tbest: 1910403.8910200 (14)\ttotal: 2m 9s\tremaining: 2m 56s\n",
            "61:\tloss: 2057298.5222144\tbest: 1910403.8910200 (14)\ttotal: 2m 15s\tremaining: 2m 59s\n",
            "62:\tloss: 2144604.3320017\tbest: 1910403.8910200 (14)\ttotal: 2m 21s\tremaining: 3m 1s\n",
            "63:\tloss: 2115021.9780984\tbest: 1910403.8910200 (14)\ttotal: 2m 26s\tremaining: 3m 3s\n",
            "64:\tloss: 1911444.2589569\tbest: 1910403.8910200 (14)\ttotal: 2m 32s\tremaining: 3m 5s\n",
            "65:\tloss: 2213279.7719167\tbest: 1910403.8910200 (14)\ttotal: 2m 38s\tremaining: 3m 6s\n",
            "66:\tloss: 2142831.4176370\tbest: 1910403.8910200 (14)\ttotal: 2m 43s\tremaining: 3m 8s\n",
            "67:\tloss: 1928469.8243164\tbest: 1910403.8910200 (14)\ttotal: 2m 49s\tremaining: 3m 9s\n",
            "68:\tloss: 2204850.4447674\tbest: 1910403.8910200 (14)\ttotal: 2m 55s\tremaining: 3m 10s\n",
            "69:\tloss: 2135972.9635692\tbest: 1910403.8910200 (14)\ttotal: 3m 1s\tremaining: 3m 11s\n",
            "70:\tloss: 1926036.6855837\tbest: 1910403.8910200 (14)\ttotal: 3m 6s\tremaining: 3m 11s\n",
            "71:\tloss: 2284480.0267564\tbest: 1910403.8910200 (14)\ttotal: 3m 12s\tremaining: 3m 12s\n",
            "72:\tloss: 2169406.2250928\tbest: 1910403.8910200 (14)\ttotal: 3m 17s\tremaining: 3m 11s\n",
            "73:\tloss: 1845975.6632427\tbest: 1845975.6632427 (73)\ttotal: 3m 22s\tremaining: 3m 11s\n",
            "74:\tloss: 2388830.0141820\tbest: 1845975.6632427 (73)\ttotal: 3m 27s\tremaining: 3m 10s\n",
            "75:\tloss: 2257549.8974253\tbest: 1845975.6632427 (73)\ttotal: 3m 32s\tremaining: 3m 9s\n",
            "76:\tloss: 1955108.8975826\tbest: 1845975.6632427 (73)\ttotal: 3m 37s\tremaining: 3m 8s\n",
            "77:\tloss: 2206680.0222342\tbest: 1845975.6632427 (73)\ttotal: 3m 42s\tremaining: 3m 7s\n",
            "78:\tloss: 2226876.0105360\tbest: 1845975.6632427 (73)\ttotal: 3m 47s\tremaining: 3m 6s\n",
            "79:\tloss: 1928082.2055359\tbest: 1845975.6632427 (73)\ttotal: 3m 52s\tremaining: 3m 5s\n",
            "80:\tloss: 2004434.5389525\tbest: 1845975.6632427 (73)\ttotal: 3m 57s\tremaining: 3m 4s\n",
            "81:\tloss: 2308472.0092575\tbest: 1845975.6632427 (73)\ttotal: 4m 2s\tremaining: 3m 3s\n",
            "82:\tloss: 1959609.3468610\tbest: 1845975.6632427 (73)\ttotal: 4m 6s\tremaining: 3m 1s\n",
            "83:\tloss: 2188261.7717232\tbest: 1845975.6632427 (73)\ttotal: 4m 11s\tremaining: 2m 59s\n",
            "84:\tloss: 2031944.5385486\tbest: 1845975.6632427 (73)\ttotal: 4m 19s\tremaining: 2m 59s\n",
            "85:\tloss: 1827802.6570633\tbest: 1827802.6570633 (85)\ttotal: 4m 26s\tremaining: 2m 59s\n",
            "86:\tloss: 2388830.0141820\tbest: 1827802.6570633 (85)\ttotal: 4m 34s\tremaining: 2m 59s\n",
            "87:\tloss: 2077945.1211652\tbest: 1827802.6570633 (85)\ttotal: 4m 41s\tremaining: 2m 59s\n",
            "88:\tloss: 1955108.8975826\tbest: 1827802.6570633 (85)\ttotal: 4m 48s\tremaining: 2m 58s\n",
            "89:\tloss: 2206680.0222342\tbest: 1827802.6570633 (85)\ttotal: 4m 56s\tremaining: 2m 57s\n",
            "90:\tloss: 2069103.7398747\tbest: 1827802.6570633 (85)\ttotal: 5m 3s\tremaining: 2m 56s\n",
            "91:\tloss: 1924319.5996365\tbest: 1827802.6570633 (85)\ttotal: 5m 10s\tremaining: 2m 55s\n",
            "92:\tloss: 2004434.5389525\tbest: 1827802.6570633 (85)\ttotal: 5m 18s\tremaining: 2m 54s\n",
            "93:\tloss: 2129832.0371606\tbest: 1827802.6570633 (85)\ttotal: 5m 25s\tremaining: 2m 53s\n",
            "94:\tloss: 1945759.2936132\tbest: 1827802.6570633 (85)\ttotal: 5m 32s\tremaining: 2m 51s\n",
            "95:\tloss: 2188261.7717232\tbest: 1827802.6570633 (85)\ttotal: 5m 39s\tremaining: 2m 49s\n",
            "96:\tloss: 2028298.6466166\tbest: 1827802.6570633 (85)\ttotal: 5m 52s\tremaining: 2m 50s\n",
            "97:\tloss: 1865971.9675845\tbest: 1827802.6570633 (85)\ttotal: 6m 5s\tremaining: 2m 51s\n",
            "98:\tloss: 2396361.1560344\tbest: 1827802.6570633 (85)\ttotal: 6m 18s\tremaining: 2m 52s\n",
            "99:\tloss: 2018463.0199811\tbest: 1827802.6570633 (85)\ttotal: 6m 31s\tremaining: 2m 52s\n",
            "100:\tloss: 1900165.0147050\tbest: 1827802.6570633 (85)\ttotal: 6m 43s\tremaining: 2m 51s\n",
            "101:\tloss: 2248111.7168283\tbest: 1827802.6570633 (85)\ttotal: 6m 56s\tremaining: 2m 51s\n",
            "102:\tloss: 2024161.5336769\tbest: 1827802.6570633 (85)\ttotal: 7m 9s\tremaining: 2m 50s\n",
            "103:\tloss: 1931275.9249529\tbest: 1827802.6570633 (85)\ttotal: 7m 21s\tremaining: 2m 49s\n",
            "104:\tloss: 2325072.1109495\tbest: 1827802.6570633 (85)\ttotal: 7m 34s\tremaining: 2m 48s\n",
            "105:\tloss: 2073080.9577628\tbest: 1827802.6570633 (85)\ttotal: 7m 47s\tremaining: 2m 47s\n",
            "106:\tloss: 1884327.5628156\tbest: 1827802.6570633 (85)\ttotal: 8m\tremaining: 2m 45s\n",
            "107:\tloss: 2173031.7864046\tbest: 1827802.6570633 (85)\ttotal: 8m 12s\tremaining: 2m 44s\n",
            "108:\tloss: 2292572.1188108\tbest: 1827802.6570633 (85)\ttotal: 8m 26s\tremaining: 2m 42s\n",
            "109:\tloss: 1909494.9565679\tbest: 1827802.6570633 (85)\ttotal: 8m 39s\tremaining: 2m 40s\n",
            "110:\tloss: 2249224.7273968\tbest: 1827802.6570633 (85)\ttotal: 8m 53s\tremaining: 2m 38s\n",
            "111:\tloss: 2258934.2003331\tbest: 1827802.6570633 (85)\ttotal: 9m 7s\tremaining: 2m 36s\n",
            "112:\tloss: 1915728.5614233\tbest: 1827802.6570633 (85)\ttotal: 9m 20s\tremaining: 2m 33s\n",
            "113:\tloss: 2292760.2191940\tbest: 1827802.6570633 (85)\ttotal: 9m 34s\tremaining: 2m 31s\n",
            "114:\tloss: 2307944.0587069\tbest: 1827802.6570633 (85)\ttotal: 9m 47s\tremaining: 2m 28s\n",
            "115:\tloss: 2001117.4338599\tbest: 1827802.6570633 (85)\ttotal: 10m 1s\tremaining: 2m 25s\n",
            "116:\tloss: 2040899.9904647\tbest: 1827802.6570633 (85)\ttotal: 10m 14s\tremaining: 2m 21s\n",
            "117:\tloss: 2378951.3357559\tbest: 1827802.6570633 (85)\ttotal: 10m 28s\tremaining: 2m 18s\n",
            "118:\tloss: 2055558.9226146\tbest: 1827802.6570633 (85)\ttotal: 10m 41s\tremaining: 2m 14s\n",
            "119:\tloss: 2142763.1844102\tbest: 1827802.6570633 (85)\ttotal: 10m 55s\tremaining: 2m 11s\n",
            "120:\tloss: 2149562.7531981\tbest: 1827802.6570633 (85)\ttotal: 11m 15s\tremaining: 2m 8s\n",
            "121:\tloss: 1880385.2434961\tbest: 1827802.6570633 (85)\ttotal: 11m 35s\tremaining: 2m 5s\n",
            "122:\tloss: 2249224.7273968\tbest: 1827802.6570633 (85)\ttotal: 11m 55s\tremaining: 2m 2s\n",
            "123:\tloss: 2115430.8128965\tbest: 1827802.6570633 (85)\ttotal: 12m 15s\tremaining: 1m 58s\n",
            "124:\tloss: 1881871.6564693\tbest: 1827802.6570633 (85)\ttotal: 12m 35s\tremaining: 1m 54s\n",
            "125:\tloss: 2292022.7113379\tbest: 1827802.6570633 (85)\ttotal: 12m 55s\tremaining: 1m 50s\n",
            "126:\tloss: 2148138.7316837\tbest: 1827802.6570633 (85)\ttotal: 13m 15s\tremaining: 1m 46s\n",
            "127:\tloss: 1974399.2087843\tbest: 1827802.6570633 (85)\ttotal: 13m 35s\tremaining: 1m 41s\n",
            "128:\tloss: 2040899.9904647\tbest: 1827802.6570633 (85)\ttotal: 13m 55s\tremaining: 1m 37s\n",
            "129:\tloss: 2204288.5739374\tbest: 1827802.6570633 (85)\ttotal: 14m 15s\tremaining: 1m 32s\n",
            "130:\tloss: 2015232.4966550\tbest: 1827802.6570633 (85)\ttotal: 14m 35s\tremaining: 1m 26s\n",
            "131:\tloss: 2142763.1844102\tbest: 1827802.6570633 (85)\ttotal: 14m 56s\tremaining: 1m 21s\n",
            "132:\tloss: 2066326.9295575\tbest: 1827802.6570633 (85)\ttotal: 15m 28s\tremaining: 1m 16s\n",
            "133:\tloss: 2015970.7142776\tbest: 1827802.6570633 (85)\ttotal: 16m\tremaining: 1m 11s\n",
            "134:\tloss: 2345167.5741979\tbest: 1827802.6570633 (85)\ttotal: 16m 33s\tremaining: 1m 6s\n",
            "135:\tloss: 2011459.9227760\tbest: 1827802.6570633 (85)\ttotal: 17m 5s\tremaining: 1m\n",
            "136:\tloss: 1969943.7292891\tbest: 1827802.6570633 (85)\ttotal: 17m 37s\tremaining: 54s\n",
            "137:\tloss: 2254479.9006659\tbest: 1827802.6570633 (85)\ttotal: 18m 10s\tremaining: 47.4s\n",
            "138:\tloss: 1999321.1633798\tbest: 1827802.6570633 (85)\ttotal: 18m 42s\tremaining: 40.4s\n",
            "139:\tloss: 2025530.9864883\tbest: 1827802.6570633 (85)\ttotal: 19m 13s\tremaining: 33s\n",
            "140:\tloss: 2254980.6227424\tbest: 1827802.6570633 (85)\ttotal: 19m 46s\tremaining: 25.2s\n",
            "141:\tloss: 2066304.6852418\tbest: 1827802.6570633 (85)\ttotal: 20m 18s\tremaining: 17.2s\n",
            "142:\tloss: 1968498.8271440\tbest: 1827802.6570633 (85)\ttotal: 20m 50s\tremaining: 8.74s\n",
            "143:\tloss: 2083710.4293909\tbest: 1827802.6570633 (85)\ttotal: 21m 23s\tremaining: 0us\n",
            "Estimating final quality...\n"
          ]
        },
        {
          "output_type": "execute_result",
          "data": {
            "text/plain": [
              "{'cv_results': defaultdict(list,\n",
              "             {'iterations': [0,\n",
              "               1,\n",
              "               2,\n",
              "               3,\n",
              "               4,\n",
              "               5,\n",
              "               6,\n",
              "               7,\n",
              "               8,\n",
              "               9,\n",
              "               10,\n",
              "               11,\n",
              "               12,\n",
              "               13,\n",
              "               14,\n",
              "               15,\n",
              "               16,\n",
              "               17,\n",
              "               18,\n",
              "               19,\n",
              "               20,\n",
              "               21,\n",
              "               22,\n",
              "               23,\n",
              "               24,\n",
              "               25,\n",
              "               26,\n",
              "               27,\n",
              "               28,\n",
              "               29,\n",
              "               30,\n",
              "               31,\n",
              "               32,\n",
              "               33,\n",
              "               34,\n",
              "               35,\n",
              "               36,\n",
              "               37,\n",
              "               38,\n",
              "               39,\n",
              "               40,\n",
              "               41,\n",
              "               42,\n",
              "               43,\n",
              "               44,\n",
              "               45,\n",
              "               46,\n",
              "               47,\n",
              "               48,\n",
              "               49,\n",
              "               50,\n",
              "               51,\n",
              "               52,\n",
              "               53,\n",
              "               54,\n",
              "               55,\n",
              "               56,\n",
              "               57,\n",
              "               58,\n",
              "               59,\n",
              "               60,\n",
              "               61,\n",
              "               62,\n",
              "               63,\n",
              "               64,\n",
              "               65,\n",
              "               66,\n",
              "               67,\n",
              "               68,\n",
              "               69,\n",
              "               70,\n",
              "               71,\n",
              "               72,\n",
              "               73,\n",
              "               74,\n",
              "               75,\n",
              "               76,\n",
              "               77,\n",
              "               78,\n",
              "               79,\n",
              "               80,\n",
              "               81,\n",
              "               82,\n",
              "               83,\n",
              "               84,\n",
              "               85,\n",
              "               86,\n",
              "               87,\n",
              "               88,\n",
              "               89,\n",
              "               90,\n",
              "               91,\n",
              "               92,\n",
              "               93,\n",
              "               94,\n",
              "               95,\n",
              "               96,\n",
              "               97,\n",
              "               98,\n",
              "               99,\n",
              "               100,\n",
              "               101,\n",
              "               102,\n",
              "               103,\n",
              "               104,\n",
              "               105,\n",
              "               106,\n",
              "               107,\n",
              "               108,\n",
              "               109,\n",
              "               110,\n",
              "               111,\n",
              "               112,\n",
              "               113,\n",
              "               114,\n",
              "               115,\n",
              "               116,\n",
              "               117,\n",
              "               118,\n",
              "               119,\n",
              "               120,\n",
              "               121,\n",
              "               122,\n",
              "               123,\n",
              "               124,\n",
              "               125,\n",
              "               126,\n",
              "               127,\n",
              "               128,\n",
              "               129,\n",
              "               130,\n",
              "               131,\n",
              "               132,\n",
              "               133,\n",
              "               134,\n",
              "               135,\n",
              "               136,\n",
              "               137,\n",
              "               138,\n",
              "               139,\n",
              "               140,\n",
              "               141,\n",
              "               142,\n",
              "               143,\n",
              "               144,\n",
              "               145,\n",
              "               146,\n",
              "               147,\n",
              "               148,\n",
              "               149],\n",
              "              'test-RMSE-mean': [7042085.283964346,\n",
              "               6437826.80801,\n",
              "               5898002.889465111,\n",
              "               5417675.76761569,\n",
              "               4978841.563133254,\n",
              "               4596039.69318987,\n",
              "               4243704.75446465,\n",
              "               3964691.8800744824,\n",
              "               3703082.244621113,\n",
              "               3454374.1049737628,\n",
              "               3245351.828357524,\n",
              "               3047593.4213695363,\n",
              "               2874285.1778658614,\n",
              "               2727804.428956009,\n",
              "               2608513.8183394144,\n",
              "               2499119.881349087,\n",
              "               2392488.0801110766,\n",
              "               2316456.109610914,\n",
              "               2242261.694794759,\n",
              "               2174518.807117438,\n",
              "               2120694.2390415682,\n",
              "               2062871.6590564952,\n",
              "               2022126.7932438813,\n",
              "               1980495.2806899454,\n",
              "               1947141.9987581105,\n",
              "               1916520.1717502344,\n",
              "               1890374.5627857102,\n",
              "               1870185.3841440808,\n",
              "               1856540.8714374972,\n",
              "               1837076.3004207227,\n",
              "               1821135.807602865,\n",
              "               1809879.9786675607,\n",
              "               1797568.7961020803,\n",
              "               1791661.7115894214,\n",
              "               1779819.7026354678,\n",
              "               1769186.9780105131,\n",
              "               1765197.2880122184,\n",
              "               1760675.5787083583,\n",
              "               1753245.13066792,\n",
              "               1746101.8822848515,\n",
              "               1739279.197046681,\n",
              "               1732589.9625696798,\n",
              "               1726685.1817834836,\n",
              "               1723338.4608953893,\n",
              "               1724451.1192904364,\n",
              "               1720255.2464422632,\n",
              "               1716480.4789898358,\n",
              "               1710827.2656868629,\n",
              "               1706789.3652458347,\n",
              "               1704273.2322967157,\n",
              "               1701740.37626875,\n",
              "               1698955.331833719,\n",
              "               1696051.756262934,\n",
              "               1691492.1448208734,\n",
              "               1687959.8265235517,\n",
              "               1677272.6374608946,\n",
              "               1679212.5034413477,\n",
              "               1675360.0169706866,\n",
              "               1672763.5088167612,\n",
              "               1672885.0812768687,\n",
              "               1671826.8748731494,\n",
              "               1672287.325145704,\n",
              "               1667749.2713421278,\n",
              "               1666748.1235215936,\n",
              "               1660810.8595153994,\n",
              "               1658503.7435088984,\n",
              "               1656627.05898487,\n",
              "               1654166.8261071753,\n",
              "               1651236.2670500642,\n",
              "               1649304.8575894795,\n",
              "               1646600.4333574844,\n",
              "               1645824.5630544268,\n",
              "               1645915.4585845775,\n",
              "               1643494.7167410478,\n",
              "               1641621.0001928585,\n",
              "               1639669.4702615086,\n",
              "               1637164.172864896,\n",
              "               1637059.0023476165,\n",
              "               1634548.4859941702,\n",
              "               1632868.9804026491,\n",
              "               1632051.7427883458,\n",
              "               1626331.1189890902,\n",
              "               1626064.9896723854,\n",
              "               1623784.3300278827,\n",
              "               1622694.9808916915,\n",
              "               1622761.880040229,\n",
              "               1624574.7176970842,\n",
              "               1620340.0445122616,\n",
              "               1619511.7448894065,\n",
              "               1616988.2025722787,\n",
              "               1616478.7250264436,\n",
              "               1614376.1961020462,\n",
              "               1613478.6031300481,\n",
              "               1612012.0842995874,\n",
              "               1611272.923195387,\n",
              "               1611826.6905346299,\n",
              "               1610573.3418223888,\n",
              "               1607979.6794736653,\n",
              "               1606004.4711305413,\n",
              "               1606911.126162709,\n",
              "               1608015.5107097402,\n",
              "               1606968.741694485,\n",
              "               1605549.6368191906,\n",
              "               1605135.405006579,\n",
              "               1603368.4504139416,\n",
              "               1603048.1888082025,\n",
              "               1602827.2989936313,\n",
              "               1602161.82952229,\n",
              "               1602100.4339392027,\n",
              "               1602209.1133937573,\n",
              "               1602757.684493075,\n",
              "               1601580.7233779926,\n",
              "               1600371.5171705124,\n",
              "               1599263.4956534933,\n",
              "               1596617.7766285988,\n",
              "               1596015.3418061777,\n",
              "               1594520.304815496,\n",
              "               1593796.1371941443,\n",
              "               1593746.1293810494,\n",
              "               1593252.425568593,\n",
              "               1593389.3881777823,\n",
              "               1592788.9501266116,\n",
              "               1591079.9335324697,\n",
              "               1590703.3146322214,\n",
              "               1590823.9461669177,\n",
              "               1589142.270124304,\n",
              "               1590923.5063538833,\n",
              "               1590299.3619480648,\n",
              "               1589908.629232727,\n",
              "               1588412.7340796527,\n",
              "               1588388.8461964794,\n",
              "               1588497.2780902393,\n",
              "               1587764.3250365546,\n",
              "               1586417.248532376,\n",
              "               1586132.9719877804,\n",
              "               1585370.3421418306,\n",
              "               1583631.1199755475,\n",
              "               1582140.9746582739,\n",
              "               1581951.8708790736,\n",
              "               1581856.231239306,\n",
              "               1582943.892149927,\n",
              "               1582830.2798229847,\n",
              "               1582663.8967825416,\n",
              "               1582350.5630723971,\n",
              "               1582153.7745340168,\n",
              "               1581509.5039104454,\n",
              "               1580478.6769277633,\n",
              "               1577693.7206796315,\n",
              "               1576521.1294618447,\n",
              "               1576182.808191682],\n",
              "              'test-RMSE-std': [471517.60129916674,\n",
              "               470494.19115817605,\n",
              "               466275.6045292993,\n",
              "               480504.8940544406,\n",
              "               490171.958401592,\n",
              "               497140.6396153852,\n",
              "               504787.04681997164,\n",
              "               525546.1408934763,\n",
              "               527010.2116535346,\n",
              "               543687.2324819615,\n",
              "               560557.9341810207,\n",
              "               550050.7304231946,\n",
              "               543663.5361311998,\n",
              "               536632.9722646262,\n",
              "               544109.2982287784,\n",
              "               550571.7055080893,\n",
              "               549978.2024452669,\n",
              "               553166.5054297739,\n",
              "               555801.0265934401,\n",
              "               552073.3474529488,\n",
              "               557103.4477017679,\n",
              "               550486.2989327001,\n",
              "               554293.8288307338,\n",
              "               554909.0817352951,\n",
              "               551990.6284824002,\n",
              "               541419.6182838129,\n",
              "               537287.6283017707,\n",
              "               540719.0973864122,\n",
              "               535112.3132318415,\n",
              "               536992.030140853,\n",
              "               536486.2974637778,\n",
              "               541887.0727839562,\n",
              "               540463.6169006886,\n",
              "               539774.9750872876,\n",
              "               536616.963097828,\n",
              "               540395.394864496,\n",
              "               537344.9348143167,\n",
              "               543284.265642607,\n",
              "               539990.9225868952,\n",
              "               541855.6956046128,\n",
              "               542223.6837381002,\n",
              "               537455.5414725922,\n",
              "               537250.284219208,\n",
              "               540134.7843685242,\n",
              "               549046.1583559855,\n",
              "               549320.2596628942,\n",
              "               550836.2330232474,\n",
              "               551517.1553373894,\n",
              "               552637.2413616402,\n",
              "               551482.1421546568,\n",
              "               549911.2560287303,\n",
              "               550845.9161823536,\n",
              "               552354.7950828451,\n",
              "               553549.6076322572,\n",
              "               550936.2696545963,\n",
              "               542271.318416004,\n",
              "               546624.5061406011,\n",
              "               545144.5222831466,\n",
              "               545795.3668486053,\n",
              "               546117.6772683662,\n",
              "               544951.0235583223,\n",
              "               547758.614803599,\n",
              "               545970.0906149594,\n",
              "               546314.8501325889,\n",
              "               541567.1251636147,\n",
              "               542609.7305502632,\n",
              "               542305.0348666345,\n",
              "               541264.8373689187,\n",
              "               539282.0149787477,\n",
              "               541819.871661756,\n",
              "               542149.3119571834,\n",
              "               543041.210140518,\n",
              "               541657.644661276,\n",
              "               543620.7323176393,\n",
              "               542491.109231884,\n",
              "               542501.3156963463,\n",
              "               539462.8680491267,\n",
              "               539023.5928166489,\n",
              "               536783.7192010902,\n",
              "               537317.5284573674,\n",
              "               538635.9415344293,\n",
              "               532513.102706543,\n",
              "               534561.9033736961,\n",
              "               527681.4380784298,\n",
              "               528154.9197274942,\n",
              "               531047.8537621897,\n",
              "               530950.2355266362,\n",
              "               524847.2116934808,\n",
              "               525041.30183072,\n",
              "               525540.3043659143,\n",
              "               526104.2923052359,\n",
              "               525122.6634173084,\n",
              "               523846.42848341976,\n",
              "               524819.9619191163,\n",
              "               525134.5715437218,\n",
              "               524267.81029586436,\n",
              "               523987.0493736874,\n",
              "               526129.1498961706,\n",
              "               525609.4942953193,\n",
              "               525950.2840471229,\n",
              "               520602.07416078396,\n",
              "               521035.3896138989,\n",
              "               521587.27248624264,\n",
              "               521867.51933207334,\n",
              "               522360.33725005866,\n",
              "               521640.71405073715,\n",
              "               521460.85556459427,\n",
              "               521165.5655868781,\n",
              "               522382.3106964,\n",
              "               521650.40724614897,\n",
              "               520931.3113075859,\n",
              "               521889.63799055276,\n",
              "               522361.36228127225,\n",
              "               522410.8528486239,\n",
              "               519631.52389097976,\n",
              "               520028.619730907,\n",
              "               518663.7004747077,\n",
              "               518656.5914253047,\n",
              "               518777.7588243637,\n",
              "               518031.58708578843,\n",
              "               517882.5806200679,\n",
              "               518313.3771340168,\n",
              "               516587.45597694366,\n",
              "               516870.4239645853,\n",
              "               517275.2623180668,\n",
              "               517506.5170264174,\n",
              "               515764.1862026234,\n",
              "               516583.83229036664,\n",
              "               516390.3773071008,\n",
              "               518429.935893437,\n",
              "               518686.46355648,\n",
              "               518115.4660983798,\n",
              "               518436.5791237399,\n",
              "               518356.4590651571,\n",
              "               518345.91549091117,\n",
              "               518864.0392423366,\n",
              "               520661.53585125454,\n",
              "               520254.1844551511,\n",
              "               519892.8581338112,\n",
              "               522532.46799601626,\n",
              "               522571.340998469,\n",
              "               522547.1894598823,\n",
              "               522419.6830507661,\n",
              "               522702.9234181589,\n",
              "               522527.37729969335,\n",
              "               523236.95806969004,\n",
              "               523244.0716497688,\n",
              "               520919.44518624886,\n",
              "               521244.89602638356,\n",
              "               521865.3875480501],\n",
              "              'train-RMSE-mean': [7037376.981134039,\n",
              "               6422501.338638183,\n",
              "               5871746.360943533,\n",
              "               5380058.858802225,\n",
              "               4937430.823157051,\n",
              "               4542999.49673806,\n",
              "               4189718.0053590485,\n",
              "               3881135.537373532,\n",
              "               3605030.08344193,\n",
              "               3341319.774682322,\n",
              "               3109229.9840466115,\n",
              "               2905165.434991684,\n",
              "               2716477.9181652754,\n",
              "               2554767.9745041314,\n",
              "               2420564.6644389615,\n",
              "               2294641.3881443837,\n",
              "               2181387.256779626,\n",
              "               2083399.3724761389,\n",
              "               1992093.4804548137,\n",
              "               1909410.8038155695,\n",
              "               1839358.2474645274,\n",
              "               1776542.9398909837,\n",
              "               1721451.6439160851,\n",
              "               1669407.1334639008,\n",
              "               1622921.7122306563,\n",
              "               1575946.3805860088,\n",
              "               1540610.933526324,\n",
              "               1510636.146866791,\n",
              "               1477349.7404984161,\n",
              "               1449577.5254044663,\n",
              "               1419265.1139139086,\n",
              "               1396373.7427258405,\n",
              "               1372824.734981358,\n",
              "               1354240.2801749997,\n",
              "               1333843.3918065585,\n",
              "               1312791.2823682956,\n",
              "               1294623.0378569511,\n",
              "               1277282.192222557,\n",
              "               1261596.954167139,\n",
              "               1246322.5639770506,\n",
              "               1232819.5719130402,\n",
              "               1217846.840225912,\n",
              "               1204919.4585045225,\n",
              "               1192940.655347557,\n",
              "               1182397.9925126396,\n",
              "               1171887.558779681,\n",
              "               1164218.7603753963,\n",
              "               1153959.7217558725,\n",
              "               1146753.308599034,\n",
              "               1135697.1550236782,\n",
              "               1124848.2541452425,\n",
              "               1116289.3869016946,\n",
              "               1109376.2695827433,\n",
              "               1102203.6614213015,\n",
              "               1094933.487131344,\n",
              "               1085430.8701137172,\n",
              "               1077236.9520551283,\n",
              "               1068555.9884526676,\n",
              "               1060794.7029005692,\n",
              "               1053520.9324498973,\n",
              "               1046886.3383403759,\n",
              "               1039873.8704107109,\n",
              "               1033606.2456792239,\n",
              "               1026841.0724125593,\n",
              "               1019275.7343032582,\n",
              "               1013702.1098795747,\n",
              "               1008643.404171307,\n",
              "               1002718.6521528279,\n",
              "               997590.0526592474,\n",
              "               991763.6080433266,\n",
              "               988233.8519356613,\n",
              "               982753.0118330886,\n",
              "               976490.7403547795,\n",
              "               971549.0764034995,\n",
              "               966175.6364654364,\n",
              "               961614.7782286672,\n",
              "               956698.5195283298,\n",
              "               950092.0438500127,\n",
              "               945542.0289116661,\n",
              "               941766.7884519516,\n",
              "               935991.3862610628,\n",
              "               930657.2576587118,\n",
              "               927368.0977247241,\n",
              "               920508.8654157628,\n",
              "               916252.0819476551,\n",
              "               912984.119110502,\n",
              "               908648.0213059549,\n",
              "               904857.9406361688,\n",
              "               898496.2477845392,\n",
              "               892782.5170377794,\n",
              "               888402.1528851846,\n",
              "               884310.0216500683,\n",
              "               880168.7860239344,\n",
              "               875674.2423433686,\n",
              "               871567.1374165462,\n",
              "               864487.3464332526,\n",
              "               859780.345322974,\n",
              "               855527.072061718,\n",
              "               850803.9347069556,\n",
              "               847204.2627536501,\n",
              "               842215.6748044553,\n",
              "               839921.0118001787,\n",
              "               836458.1350007522,\n",
              "               832782.7749357849,\n",
              "               829175.0177087616,\n",
              "               825203.2249074563,\n",
              "               821838.1882456107,\n",
              "               818429.6261093557,\n",
              "               815784.2155351993,\n",
              "               812045.4337484349,\n",
              "               809370.8202055166,\n",
              "               806528.0818207789,\n",
              "               803048.8813218664,\n",
              "               798947.9224650051,\n",
              "               796188.8241671659,\n",
              "               793713.1291047636,\n",
              "               790790.8159988624,\n",
              "               788108.2043220823,\n",
              "               786028.6174177037,\n",
              "               783134.5725324578,\n",
              "               777575.0072541506,\n",
              "               775423.3452436026,\n",
              "               772849.933810033,\n",
              "               769886.0307339645,\n",
              "               767340.4945077795,\n",
              "               762710.8351386822,\n",
              "               759483.3861906467,\n",
              "               754852.5511045743,\n",
              "               752064.5081166057,\n",
              "               748766.5801662472,\n",
              "               746605.4103788944,\n",
              "               744139.7333383061,\n",
              "               741270.9196155238,\n",
              "               737998.1496995933,\n",
              "               736186.7118767229,\n",
              "               733135.8675097785,\n",
              "               730584.3131565823,\n",
              "               727751.5120969224,\n",
              "               725874.7969593088,\n",
              "               722616.709801977,\n",
              "               719796.8855686995,\n",
              "               717258.6855893508,\n",
              "               715383.2601828916,\n",
              "               712738.9612716595,\n",
              "               710837.1654168317,\n",
              "               707379.2282547603,\n",
              "               706083.8236416123,\n",
              "               703603.975045489,\n",
              "               700554.4631078057,\n",
              "               698621.1248376567],\n",
              "              'train-RMSE-std': [195225.14900538634,\n",
              "               183863.05335650986,\n",
              "               181684.3357289777,\n",
              "               170762.98081658245,\n",
              "               160689.46936636075,\n",
              "               150681.81915369688,\n",
              "               146734.0642758454,\n",
              "               130581.58840031532,\n",
              "               124754.54299699563,\n",
              "               119337.57436588348,\n",
              "               114798.13491785663,\n",
              "               116598.98558116987,\n",
              "               121496.59780509704,\n",
              "               121120.71774915367,\n",
              "               117753.70727481584,\n",
              "               118815.40775965707,\n",
              "               120484.41559622827,\n",
              "               117105.13087363046,\n",
              "               120970.48681944361,\n",
              "               117947.91264483762,\n",
              "               118610.46106972126,\n",
              "               118015.32272260041,\n",
              "               112252.96273115014,\n",
              "               113050.39023182065,\n",
              "               112321.56708377103,\n",
              "               109191.73343098661,\n",
              "               110337.72332042696,\n",
              "               110601.77934369374,\n",
              "               106944.72657996205,\n",
              "               102117.92585384485,\n",
              "               96439.6150335327,\n",
              "               93992.71991217083,\n",
              "               91410.98149412798,\n",
              "               88858.87472350514,\n",
              "               86624.03823825966,\n",
              "               85581.06358502443,\n",
              "               81414.49511489893,\n",
              "               80922.26162800447,\n",
              "               80485.54751956703,\n",
              "               80582.85108431317,\n",
              "               79416.70921799396,\n",
              "               79062.35651282892,\n",
              "               76891.85193873021,\n",
              "               74060.36416578077,\n",
              "               75655.57095840381,\n",
              "               73443.72507758088,\n",
              "               73071.972516551,\n",
              "               71316.22612654013,\n",
              "               70284.30056844949,\n",
              "               64587.72094151843,\n",
              "               62824.900694496835,\n",
              "               60363.21466178208,\n",
              "               57852.86581266868,\n",
              "               57058.1756344305,\n",
              "               58835.08910585508,\n",
              "               59734.61136492369,\n",
              "               61441.48285981779,\n",
              "               60437.61215270191,\n",
              "               59867.370053329236,\n",
              "               59735.7098555964,\n",
              "               58719.7065147586,\n",
              "               56845.681336787566,\n",
              "               55267.90949815067,\n",
              "               54074.923084914546,\n",
              "               55913.39232391109,\n",
              "               54852.49805057473,\n",
              "               54137.62242590754,\n",
              "               55011.47407841656,\n",
              "               53487.9257258565,\n",
              "               54792.3347183335,\n",
              "               53926.503202803826,\n",
              "               51438.29244211037,\n",
              "               49327.63182472967,\n",
              "               48744.811812948494,\n",
              "               48284.90238000723,\n",
              "               49053.216803854775,\n",
              "               49752.78345119641,\n",
              "               46288.34279872269,\n",
              "               46889.70881713853,\n",
              "               47010.466534379295,\n",
              "               48535.40508088394,\n",
              "               51042.7467572983,\n",
              "               49963.56717658023,\n",
              "               47995.3288476534,\n",
              "               46583.51167143678,\n",
              "               45907.75666208143,\n",
              "               45632.117743764094,\n",
              "               45768.534635205084,\n",
              "               44735.301608206624,\n",
              "               45612.89580458898,\n",
              "               45302.581577550394,\n",
              "               44808.66711758952,\n",
              "               46416.12020486761,\n",
              "               45640.589428963016,\n",
              "               45222.4378869173,\n",
              "               40973.340501795385,\n",
              "               42525.39809690816,\n",
              "               41295.26761331213,\n",
              "               42510.43354505812,\n",
              "               42593.459097768675,\n",
              "               40146.24638459645,\n",
              "               40551.42739584098,\n",
              "               39658.00445108216,\n",
              "               39921.22372942028,\n",
              "               39582.166449270015,\n",
              "               39562.847853405474,\n",
              "               38392.57401506418,\n",
              "               37961.96938829984,\n",
              "               37472.79624918843,\n",
              "               36598.83544742821,\n",
              "               35829.51971702105,\n",
              "               35600.02570013031,\n",
              "               34966.90529797624,\n",
              "               37321.945432163855,\n",
              "               37752.4087529868,\n",
              "               37977.321866191494,\n",
              "               37400.428589296636,\n",
              "               37213.494727805235,\n",
              "               36360.569023159005,\n",
              "               37428.62346541501,\n",
              "               33656.96449928141,\n",
              "               33706.499465746354,\n",
              "               33896.83045872654,\n",
              "               34195.22318980988,\n",
              "               33469.80700670516,\n",
              "               30927.877142103065,\n",
              "               28967.26088128703,\n",
              "               32264.97500564567,\n",
              "               31506.9628570863,\n",
              "               31559.451452464407,\n",
              "               31692.232457970727,\n",
              "               31916.5837488843,\n",
              "               33113.8164595209,\n",
              "               33171.340856386545,\n",
              "               33194.70819820386,\n",
              "               33944.28258734091,\n",
              "               33768.106152062624,\n",
              "               34680.2870492393,\n",
              "               35105.67898831943,\n",
              "               35615.58678144368,\n",
              "               34712.01403261749,\n",
              "               33787.15887433435,\n",
              "               33904.2202831178,\n",
              "               33424.6765740259,\n",
              "               33010.71768430903,\n",
              "               33848.48792143414,\n",
              "               33941.211964821574,\n",
              "               33790.79581629716,\n",
              "               33601.141916439614,\n",
              "               33364.40877415653]}),\n",
              " 'params': {'depth': 6,\n",
              "  'iterations': 150,\n",
              "  'l2_leaf_reg': 0.2,\n",
              "  'learning_rate': 0.1}}"
            ]
          },
          "metadata": {},
          "execution_count": 103
        }
      ]
    },
    {
      "cell_type": "code",
      "source": [
        "-np.mean(cross_val_score(\n",
        "                        RandomForestRegressor(max_depth=10,\n",
        "                                              random_state=42),\n",
        "                        X_owner, \n",
        "                        y_owner, \n",
        "                        cv=5, \n",
        "                        scoring='neg_root_mean_squared_error',\n",
        "                        )\n",
        "        )"
      ],
      "metadata": {
        "colab": {
          "base_uri": "https://localhost:8080/"
        },
        "id": "v1z2W_1vmt7D",
        "outputId": "3be0d21f-2b4a-4114-c711-b1edfb54945a"
      },
      "execution_count": null,
      "outputs": [
        {
          "output_type": "execute_result",
          "data": {
            "text/plain": [
              "1526591.862011908"
            ]
          },
          "metadata": {},
          "execution_count": 104
        }
      ]
    },
    {
      "cell_type": "code",
      "source": [
        "parametrs = {\n",
        "    'max_depth': range(6, 13, 2),\n",
        "}\n",
        "grid = GridSearchCV(RandomForestRegressor(random_state=42), parametrs, cv=5, scoring='neg_root_mean_squared_error', n_jobs=-1)\n",
        "grid.fit(X_owner, y_owner)"
      ],
      "metadata": {
        "colab": {
          "base_uri": "https://localhost:8080/"
        },
        "id": "kg6B3mxGCJbj",
        "outputId": "7de4250d-44cf-4269-9f04-c892fa64d030"
      },
      "execution_count": null,
      "outputs": [
        {
          "output_type": "execute_result",
          "data": {
            "text/plain": [
              "GridSearchCV(cv=5, estimator=RandomForestRegressor(random_state=42), n_jobs=-1,\n",
              "             param_grid={'max_depth': range(6, 13, 2)},\n",
              "             scoring='neg_root_mean_squared_error')"
            ]
          },
          "metadata": {},
          "execution_count": 106
        }
      ]
    },
    {
      "cell_type": "code",
      "source": [
        "-grid.best_score_"
      ],
      "metadata": {
        "colab": {
          "base_uri": "https://localhost:8080/"
        },
        "id": "i9-TZj_-EFw7",
        "outputId": "5351f06b-3dd3-4dea-a3fb-2705f57f58f3"
      },
      "execution_count": null,
      "outputs": [
        {
          "output_type": "execute_result",
          "data": {
            "text/plain": [
              "1515753.2533735395"
            ]
          },
          "metadata": {},
          "execution_count": 108
        }
      ]
    },
    {
      "cell_type": "code",
      "source": [
        "grid.best_params_"
      ],
      "metadata": {
        "colab": {
          "base_uri": "https://localhost:8080/"
        },
        "id": "VY9P7h-cEKEZ",
        "outputId": "ac37d796-8cb8-4b4c-d80d-d89087335ba3"
      },
      "execution_count": null,
      "outputs": [
        {
          "output_type": "execute_result",
          "data": {
            "text/plain": [
              "{'max_depth': 12}"
            ]
          },
          "metadata": {},
          "execution_count": 109
        }
      ]
    },
    {
      "cell_type": "code",
      "source": [
        "parametrs = {\n",
        "    'max_depth': range(14, 21, 2),\n",
        "}\n",
        "grid = GridSearchCV(RandomForestRegressor(random_state=42), parametrs, cv=5, scoring='neg_root_mean_squared_error', n_jobs=-1)\n",
        "grid.fit(X_owner, y_owner)"
      ],
      "metadata": {
        "colab": {
          "base_uri": "https://localhost:8080/"
        },
        "id": "-w1NcFVpER5G",
        "outputId": "84fa354c-d124-4300-ad9b-8454b2770c69"
      },
      "execution_count": null,
      "outputs": [
        {
          "output_type": "execute_result",
          "data": {
            "text/plain": [
              "GridSearchCV(cv=5, estimator=RandomForestRegressor(random_state=42), n_jobs=-1,\n",
              "             param_grid={'max_depth': range(14, 21, 2)},\n",
              "             scoring='neg_root_mean_squared_error')"
            ]
          },
          "metadata": {},
          "execution_count": 110
        }
      ]
    },
    {
      "cell_type": "code",
      "source": [
        "-grid.best_score_"
      ],
      "metadata": {
        "colab": {
          "base_uri": "https://localhost:8080/"
        },
        "id": "8luEWUPdGy_W",
        "outputId": "d741944c-d4ec-4b76-c79c-a600fea5a5b3"
      },
      "execution_count": null,
      "outputs": [
        {
          "output_type": "execute_result",
          "data": {
            "text/plain": [
              "1511803.9147927877"
            ]
          },
          "metadata": {},
          "execution_count": 112
        }
      ]
    },
    {
      "cell_type": "code",
      "source": [
        "grid.best_estimator_"
      ],
      "metadata": {
        "colab": {
          "base_uri": "https://localhost:8080/"
        },
        "id": "XXfluIiDTQoh",
        "outputId": "92ae85d3-0f9c-43ab-d9c7-e7734f28c4b0"
      },
      "execution_count": null,
      "outputs": [
        {
          "output_type": "execute_result",
          "data": {
            "text/plain": [
              "RandomForestRegressor(max_depth=16, random_state=42)"
            ]
          },
          "metadata": {},
          "execution_count": 125
        }
      ]
    },
    {
      "cell_type": "code",
      "source": [
        "grid.best_params_"
      ],
      "metadata": {
        "colab": {
          "base_uri": "https://localhost:8080/"
        },
        "id": "RM00htDiG1lY",
        "outputId": "6e8f07f8-35c9-496d-bd29-3ccb28d1a1f0"
      },
      "execution_count": null,
      "outputs": [
        {
          "output_type": "execute_result",
          "data": {
            "text/plain": [
              "{'max_depth': 16}"
            ]
          },
          "metadata": {},
          "execution_count": 113
        }
      ]
    },
    {
      "cell_type": "code",
      "source": [
        "-np.mean(cross_val_score(\n",
        "                        RandomForestRegressor(max_depth=10,\n",
        "                                              random_state=42),\n",
        "                        X_invest, \n",
        "                        y_invest, \n",
        "                        cv=5, \n",
        "                        scoring='neg_root_mean_squared_error',\n",
        "                        )\n",
        "        )"
      ],
      "metadata": {
        "colab": {
          "base_uri": "https://localhost:8080/"
        },
        "id": "O7KXEsX7uqAr",
        "outputId": "d5b73337-7bea-4a91-d666-4112b2c066f9"
      },
      "execution_count": null,
      "outputs": [
        {
          "output_type": "execute_result",
          "data": {
            "text/plain": [
              "3147003.0552781606"
            ]
          },
          "metadata": {},
          "execution_count": 105
        }
      ]
    },
    {
      "cell_type": "markdown",
      "source": [
        "Из этого можно сделать вывод, что для product_type == Investment лучшая модель: Catboost\n",
        "\n",
        " RMSE on cv = 2.755.500\n",
        "его гиперпараметры:\n",
        "\n",
        "'params': {'depth': 6,\n",
        "\n",
        "  'iterations': 150,\n",
        "\n",
        "  'l2_leaf_reg': 0.2,\n",
        "\n",
        "  'learning_rate': 0.1}"
      ],
      "metadata": {
        "id": "jkMBmg1UJOBi"
      }
    },
    {
      "cell_type": "code",
      "source": [
        "model_invest_cbr = cb.CatBoostRegressor(\n",
        "                                loss_function='RMSE',\n",
        "                                random_seed=42,\n",
        "                                logging_level='Silent',\n",
        "                                depth = 6,\n",
        "                                iterations = 150,\n",
        "                                l2_leaf_reg = 0.2,\n",
        "                                learning_rate = 0.1\n",
        "                                )"
      ],
      "metadata": {
        "id": "_IHVGjQ9OfxS"
      },
      "execution_count": null,
      "outputs": []
    },
    {
      "cell_type": "code",
      "source": [
        "model_invest_cbr.fit(invest_train_X_1, invest_train_y_1,\n",
        "                     cat_features=categorical_feature_indices_1,\n",
        "                     eval_set=(invest_test_X_1, invest_test_y_1),\n",
        "                     logging_level='Verbose',\n",
        "                     plot=True)"
      ],
      "metadata": {
        "colab": {
          "base_uri": "https://localhost:8080/",
          "height": 1000,
          "referenced_widgets": [
            "2e69011a44414f69a48b22db274f59b4"
          ]
        },
        "id": "uL49nNp5PKTL",
        "outputId": "5d955be5-6fa1-42bb-abf5-1509f2164a02"
      },
      "execution_count": null,
      "outputs": [
        {
          "output_type": "display_data",
          "data": {
            "application/vnd.jupyter.widget-view+json": {
              "model_id": "2e69011a44414f69a48b22db274f59b4",
              "version_minor": 0,
              "version_major": 2
            },
            "text/plain": [
              "MetricVisualizer(layout=Layout(align_self='stretch', height='500px'))"
            ]
          },
          "metadata": {}
        },
        {
          "output_type": "stream",
          "name": "stdout",
          "text": [
            "0:\tlearn: 4537270.3406764\ttest: 5108804.3023691\tbest: 5108804.3023691 (0)\ttotal: 73.4ms\tremaining: 10.9s\n",
            "1:\tlearn: 4347586.8276972\ttest: 4938450.8323486\tbest: 4938450.8323486 (1)\ttotal: 142ms\tremaining: 10.5s\n",
            "2:\tlearn: 4175306.7065026\ttest: 4769800.3628278\tbest: 4769800.3628278 (2)\ttotal: 201ms\tremaining: 9.86s\n",
            "3:\tlearn: 4011349.1690415\ttest: 4602323.2126300\tbest: 4602323.2126300 (3)\ttotal: 267ms\tremaining: 9.75s\n",
            "4:\tlearn: 3864033.7604340\ttest: 4461174.7633919\tbest: 4461174.7633919 (4)\ttotal: 334ms\tremaining: 9.69s\n",
            "5:\tlearn: 3751850.0913406\ttest: 4349384.0087107\tbest: 4349384.0087107 (5)\ttotal: 397ms\tremaining: 9.54s\n",
            "6:\tlearn: 3644362.0228488\ttest: 4233198.9546219\tbest: 4233198.9546219 (6)\ttotal: 486ms\tremaining: 9.94s\n",
            "7:\tlearn: 3551909.5799320\ttest: 4152099.1364830\tbest: 4152099.1364830 (7)\ttotal: 556ms\tremaining: 9.87s\n",
            "8:\tlearn: 3462075.7146735\ttest: 4056322.4957597\tbest: 4056322.4957597 (8)\ttotal: 617ms\tremaining: 9.66s\n",
            "9:\tlearn: 3395812.8234012\ttest: 4003705.6487089\tbest: 4003705.6487089 (9)\ttotal: 675ms\tremaining: 9.45s\n",
            "10:\tlearn: 3331031.2560223\ttest: 3921941.3363905\tbest: 3921941.3363905 (10)\ttotal: 734ms\tremaining: 9.28s\n",
            "11:\tlearn: 3275385.3186916\ttest: 3871866.8905882\tbest: 3871866.8905882 (11)\ttotal: 802ms\tremaining: 9.22s\n",
            "12:\tlearn: 3221745.2360326\ttest: 3828965.0756304\tbest: 3828965.0756304 (12)\ttotal: 879ms\tremaining: 9.26s\n",
            "13:\tlearn: 3180797.0179024\ttest: 3791851.9807691\tbest: 3791851.9807691 (13)\ttotal: 940ms\tremaining: 9.13s\n",
            "14:\tlearn: 3137619.4255254\ttest: 3752485.1327671\tbest: 3752485.1327671 (14)\ttotal: 997ms\tremaining: 8.97s\n",
            "15:\tlearn: 3110118.6530827\ttest: 3726745.9230528\tbest: 3726745.9230528 (15)\ttotal: 1.06s\tremaining: 8.87s\n",
            "16:\tlearn: 3076212.5437179\ttest: 3704333.9004834\tbest: 3704333.9004834 (16)\ttotal: 1.12s\tremaining: 8.75s\n",
            "17:\tlearn: 3050677.2441175\ttest: 3683075.7344625\tbest: 3683075.7344625 (17)\ttotal: 1.18s\tremaining: 8.68s\n",
            "18:\tlearn: 3021170.8305135\ttest: 3654861.9156730\tbest: 3654861.9156730 (18)\ttotal: 1.26s\tremaining: 8.68s\n",
            "19:\tlearn: 2999767.4724021\ttest: 3627398.0364232\tbest: 3627398.0364232 (19)\ttotal: 1.33s\tremaining: 8.63s\n",
            "20:\tlearn: 2982310.9804279\ttest: 3610631.5513143\tbest: 3610631.5513143 (20)\ttotal: 1.39s\tremaining: 8.53s\n",
            "21:\tlearn: 2962905.1751410\ttest: 3591817.7976639\tbest: 3591817.7976639 (21)\ttotal: 1.46s\tremaining: 8.52s\n",
            "22:\tlearn: 2941258.7956207\ttest: 3581031.3610179\tbest: 3581031.3610179 (22)\ttotal: 1.52s\tremaining: 8.41s\n",
            "23:\tlearn: 2921144.4940979\ttest: 3568884.5712330\tbest: 3568884.5712330 (23)\ttotal: 1.58s\tremaining: 8.32s\n",
            "24:\tlearn: 2895187.7022857\ttest: 3547800.1930008\tbest: 3547800.1930008 (24)\ttotal: 1.66s\tremaining: 8.3s\n",
            "25:\tlearn: 2881209.9859889\ttest: 3530557.3508487\tbest: 3530557.3508487 (25)\ttotal: 1.72s\tremaining: 8.19s\n",
            "26:\tlearn: 2864580.9503513\ttest: 3523469.9233141\tbest: 3523469.9233141 (26)\ttotal: 1.79s\tremaining: 8.15s\n",
            "27:\tlearn: 2848734.3220859\ttest: 3512909.1821007\tbest: 3512909.1821007 (27)\ttotal: 1.85s\tremaining: 8.06s\n",
            "28:\tlearn: 2838002.9762730\ttest: 3505898.9957739\tbest: 3505898.9957739 (28)\ttotal: 1.91s\tremaining: 7.99s\n",
            "29:\tlearn: 2824656.3502848\ttest: 3499402.2244550\tbest: 3499402.2244550 (29)\ttotal: 1.98s\tremaining: 7.91s\n",
            "30:\tlearn: 2813333.6087431\ttest: 3491540.7314216\tbest: 3491540.7314216 (30)\ttotal: 2.06s\tremaining: 7.89s\n",
            "31:\tlearn: 2804478.2096574\ttest: 3485893.6824545\tbest: 3485893.6824545 (31)\ttotal: 2.12s\tremaining: 7.83s\n",
            "32:\tlearn: 2792585.6509777\ttest: 3477038.2977274\tbest: 3477038.2977274 (32)\ttotal: 2.18s\tremaining: 7.74s\n",
            "33:\tlearn: 2784496.7677127\ttest: 3472324.3601441\tbest: 3472324.3601441 (33)\ttotal: 2.24s\tremaining: 7.66s\n",
            "34:\tlearn: 2771197.3984941\ttest: 3468412.4395493\tbest: 3468412.4395493 (34)\ttotal: 2.31s\tremaining: 7.59s\n",
            "35:\tlearn: 2764879.9334807\ttest: 3465062.1578383\tbest: 3465062.1578383 (35)\ttotal: 2.38s\tremaining: 7.53s\n",
            "36:\tlearn: 2756323.3121418\ttest: 3464003.8253484\tbest: 3464003.8253484 (36)\ttotal: 2.47s\tremaining: 7.55s\n",
            "37:\tlearn: 2749457.0602987\ttest: 3459530.6849319\tbest: 3459530.6849319 (37)\ttotal: 2.54s\tremaining: 7.48s\n",
            "38:\tlearn: 2741010.5049762\ttest: 3457495.8952411\tbest: 3457495.8952411 (38)\ttotal: 2.6s\tremaining: 7.4s\n",
            "39:\tlearn: 2732178.4366864\ttest: 3445082.5037835\tbest: 3445082.5037835 (39)\ttotal: 2.67s\tremaining: 7.33s\n",
            "40:\tlearn: 2725618.6749390\ttest: 3436852.8246640\tbest: 3436852.8246640 (40)\ttotal: 2.73s\tremaining: 7.25s\n",
            "41:\tlearn: 2718781.7872966\ttest: 3434670.1852915\tbest: 3434670.1852915 (41)\ttotal: 2.81s\tremaining: 7.21s\n",
            "42:\tlearn: 2715215.0193695\ttest: 3430894.8034453\tbest: 3430894.8034453 (42)\ttotal: 2.88s\tremaining: 7.17s\n",
            "43:\tlearn: 2706543.4117967\ttest: 3417899.5492116\tbest: 3417899.5492116 (43)\ttotal: 2.94s\tremaining: 7.09s\n",
            "44:\tlearn: 2701189.2063058\ttest: 3415118.6419659\tbest: 3415118.6419659 (44)\ttotal: 3s\tremaining: 7s\n",
            "45:\tlearn: 2695647.0224535\ttest: 3413426.9360062\tbest: 3413426.9360062 (45)\ttotal: 3.06s\tremaining: 6.93s\n",
            "46:\tlearn: 2691543.1617411\ttest: 3408779.1805996\tbest: 3408779.1805996 (46)\ttotal: 3.13s\tremaining: 6.85s\n",
            "47:\tlearn: 2687708.3188552\ttest: 3407927.9579145\tbest: 3407927.9579145 (47)\ttotal: 3.19s\tremaining: 6.77s\n",
            "48:\tlearn: 2680740.0919927\ttest: 3405315.5487553\tbest: 3405315.5487553 (48)\ttotal: 3.27s\tremaining: 6.75s\n",
            "49:\tlearn: 2674546.7889563\ttest: 3407078.1597539\tbest: 3405315.5487553 (48)\ttotal: 3.33s\tremaining: 6.67s\n",
            "50:\tlearn: 2670735.2765626\ttest: 3403903.1565362\tbest: 3403903.1565362 (50)\ttotal: 3.39s\tremaining: 6.59s\n",
            "51:\tlearn: 2666337.7315961\ttest: 3400670.7972537\tbest: 3400670.7972537 (51)\ttotal: 3.46s\tremaining: 6.52s\n",
            "52:\tlearn: 2661213.0528741\ttest: 3396046.6430476\tbest: 3396046.6430476 (52)\ttotal: 3.53s\tremaining: 6.47s\n",
            "53:\tlearn: 2657569.6816549\ttest: 3392406.1754434\tbest: 3392406.1754434 (53)\ttotal: 3.61s\tremaining: 6.42s\n",
            "54:\tlearn: 2652731.2745768\ttest: 3381519.8722258\tbest: 3381519.8722258 (54)\ttotal: 3.69s\tremaining: 6.38s\n",
            "55:\tlearn: 2650012.1335376\ttest: 3380532.6360425\tbest: 3380532.6360425 (55)\ttotal: 3.76s\tremaining: 6.31s\n",
            "56:\tlearn: 2643559.2040672\ttest: 3381391.0560795\tbest: 3380532.6360425 (55)\ttotal: 3.83s\tremaining: 6.25s\n",
            "57:\tlearn: 2637821.3269091\ttest: 3380859.3612080\tbest: 3380532.6360425 (55)\ttotal: 3.9s\tremaining: 6.18s\n",
            "58:\tlearn: 2632205.2627835\ttest: 3374971.3409227\tbest: 3374971.3409227 (58)\ttotal: 3.97s\tremaining: 6.12s\n",
            "59:\tlearn: 2625396.3415156\ttest: 3376051.5979982\tbest: 3374971.3409227 (58)\ttotal: 4.03s\tremaining: 6.04s\n",
            "60:\tlearn: 2619414.6940355\ttest: 3377528.0526724\tbest: 3374971.3409227 (58)\ttotal: 4.1s\tremaining: 5.98s\n",
            "61:\tlearn: 2616597.7688923\ttest: 3376609.5071936\tbest: 3374971.3409227 (58)\ttotal: 4.16s\tremaining: 5.91s\n",
            "62:\tlearn: 2611627.6127378\ttest: 3369394.4243144\tbest: 3369394.4243144 (62)\ttotal: 4.23s\tremaining: 5.85s\n",
            "63:\tlearn: 2607845.7684562\ttest: 3369167.3004674\tbest: 3369167.3004674 (63)\ttotal: 4.3s\tremaining: 5.78s\n",
            "64:\tlearn: 2599894.4396172\ttest: 3368879.9493888\tbest: 3368879.9493888 (64)\ttotal: 4.37s\tremaining: 5.71s\n",
            "65:\tlearn: 2594509.7216146\ttest: 3366575.1328993\tbest: 3366575.1328993 (65)\ttotal: 4.44s\tremaining: 5.65s\n",
            "66:\tlearn: 2588716.9053973\ttest: 3366331.0345439\tbest: 3366331.0345439 (66)\ttotal: 4.53s\tremaining: 5.61s\n",
            "67:\tlearn: 2586122.3722334\ttest: 3365694.8890452\tbest: 3365694.8890452 (67)\ttotal: 4.59s\tremaining: 5.54s\n",
            "68:\tlearn: 2580965.3735148\ttest: 3366951.1391321\tbest: 3365694.8890452 (67)\ttotal: 4.66s\tremaining: 5.47s\n",
            "69:\tlearn: 2578160.2181072\ttest: 3366836.5134118\tbest: 3365694.8890452 (67)\ttotal: 4.72s\tremaining: 5.4s\n",
            "70:\tlearn: 2574900.0829548\ttest: 3360038.0913586\tbest: 3360038.0913586 (70)\ttotal: 4.79s\tremaining: 5.33s\n",
            "71:\tlearn: 2572078.5578595\ttest: 3359556.6261467\tbest: 3359556.6261467 (71)\ttotal: 4.85s\tremaining: 5.26s\n",
            "72:\tlearn: 2569497.3269835\ttest: 3357758.4259432\tbest: 3357758.4259432 (72)\ttotal: 4.94s\tremaining: 5.21s\n",
            "73:\tlearn: 2563685.2817819\ttest: 3357694.1754081\tbest: 3357694.1754081 (73)\ttotal: 5s\tremaining: 5.14s\n",
            "74:\tlearn: 2558993.6831630\ttest: 3353854.9740768\tbest: 3353854.9740768 (74)\ttotal: 5.07s\tremaining: 5.07s\n",
            "75:\tlearn: 2555920.6409288\ttest: 3354414.0838658\tbest: 3353854.9740768 (74)\ttotal: 5.13s\tremaining: 4.99s\n",
            "76:\tlearn: 2547809.3306583\ttest: 3349486.9494013\tbest: 3349486.9494013 (76)\ttotal: 5.2s\tremaining: 4.93s\n",
            "77:\tlearn: 2542184.7269167\ttest: 3350390.9599411\tbest: 3349486.9494013 (76)\ttotal: 5.26s\tremaining: 4.86s\n",
            "78:\tlearn: 2539344.2745632\ttest: 3347959.3632639\tbest: 3347959.3632639 (78)\ttotal: 5.34s\tremaining: 4.8s\n",
            "79:\tlearn: 2536314.4502845\ttest: 3347516.3266040\tbest: 3347516.3266040 (79)\ttotal: 5.4s\tremaining: 4.72s\n",
            "80:\tlearn: 2530588.2584278\ttest: 3346083.9821809\tbest: 3346083.9821809 (80)\ttotal: 5.47s\tremaining: 4.66s\n",
            "81:\tlearn: 2526370.0262020\ttest: 3344990.9968739\tbest: 3344990.9968739 (81)\ttotal: 5.54s\tremaining: 4.59s\n",
            "82:\tlearn: 2522246.8147364\ttest: 3343586.4348875\tbest: 3343586.4348875 (82)\ttotal: 5.6s\tremaining: 4.52s\n",
            "83:\tlearn: 2519681.3581867\ttest: 3344076.2264946\tbest: 3343586.4348875 (82)\ttotal: 5.66s\tremaining: 4.45s\n",
            "84:\tlearn: 2516815.6348274\ttest: 3343157.6274515\tbest: 3343157.6274515 (84)\ttotal: 5.74s\tremaining: 4.39s\n",
            "85:\tlearn: 2513687.8753005\ttest: 3345291.5230288\tbest: 3343157.6274515 (84)\ttotal: 5.82s\tremaining: 4.33s\n",
            "86:\tlearn: 2508848.6538587\ttest: 3345758.2401817\tbest: 3343157.6274515 (84)\ttotal: 5.88s\tremaining: 4.26s\n",
            "87:\tlearn: 2503225.0175751\ttest: 3343267.9709689\tbest: 3343157.6274515 (84)\ttotal: 5.94s\tremaining: 4.18s\n",
            "88:\tlearn: 2495600.4004561\ttest: 3350026.9184282\tbest: 3343157.6274515 (84)\ttotal: 6s\tremaining: 4.12s\n",
            "89:\tlearn: 2491343.0161747\ttest: 3349600.7823867\tbest: 3343157.6274515 (84)\ttotal: 6.07s\tremaining: 4.04s\n",
            "90:\tlearn: 2489023.6931866\ttest: 3349166.6469522\tbest: 3343157.6274515 (84)\ttotal: 6.14s\tremaining: 3.98s\n",
            "91:\tlearn: 2486142.7056929\ttest: 3349225.0722333\tbest: 3343157.6274515 (84)\ttotal: 6.2s\tremaining: 3.91s\n",
            "92:\tlearn: 2481882.7472640\ttest: 3346773.1480168\tbest: 3343157.6274515 (84)\ttotal: 6.26s\tremaining: 3.84s\n",
            "93:\tlearn: 2476046.7074210\ttest: 3342047.6429064\tbest: 3342047.6429064 (93)\ttotal: 6.32s\tremaining: 3.77s\n",
            "94:\tlearn: 2474644.6171454\ttest: 3340806.4196360\tbest: 3340806.4196360 (94)\ttotal: 6.38s\tremaining: 3.69s\n",
            "95:\tlearn: 2470613.6015458\ttest: 3340306.6996998\tbest: 3340306.6996998 (95)\ttotal: 6.44s\tremaining: 3.62s\n",
            "96:\tlearn: 2466818.2104278\ttest: 3341491.5309560\tbest: 3340306.6996998 (95)\ttotal: 6.53s\tremaining: 3.57s\n",
            "97:\tlearn: 2461978.5071678\ttest: 3338871.8881956\tbest: 3338871.8881956 (97)\ttotal: 6.6s\tremaining: 3.5s\n",
            "98:\tlearn: 2456651.0612539\ttest: 3340293.3241375\tbest: 3338871.8881956 (97)\ttotal: 6.67s\tremaining: 3.43s\n",
            "99:\tlearn: 2450450.0587533\ttest: 3340098.2249892\tbest: 3338871.8881956 (97)\ttotal: 6.73s\tremaining: 3.36s\n",
            "100:\tlearn: 2448622.1900944\ttest: 3340407.7130971\tbest: 3338871.8881956 (97)\ttotal: 6.8s\tremaining: 3.3s\n",
            "101:\tlearn: 2443466.2209960\ttest: 3337834.3825866\tbest: 3337834.3825866 (101)\ttotal: 6.88s\tremaining: 3.23s\n",
            "102:\tlearn: 2440198.2078766\ttest: 3338224.3382176\tbest: 3337834.3825866 (101)\ttotal: 6.95s\tremaining: 3.17s\n",
            "103:\tlearn: 2437382.8805898\ttest: 3337175.6869555\tbest: 3337175.6869555 (103)\ttotal: 7.01s\tremaining: 3.1s\n",
            "104:\tlearn: 2431708.6174877\ttest: 3335586.6602656\tbest: 3335586.6602656 (104)\ttotal: 7.07s\tremaining: 3.03s\n",
            "105:\tlearn: 2428624.7262372\ttest: 3332873.0140349\tbest: 3332873.0140349 (105)\ttotal: 7.14s\tremaining: 2.96s\n",
            "106:\tlearn: 2426927.4590231\ttest: 3332429.3765996\tbest: 3332429.3765996 (106)\ttotal: 7.19s\tremaining: 2.89s\n",
            "107:\tlearn: 2422997.1754234\ttest: 3331694.5813170\tbest: 3331694.5813170 (107)\ttotal: 7.26s\tremaining: 2.82s\n",
            "108:\tlearn: 2416861.8222603\ttest: 3329823.9367246\tbest: 3329823.9367246 (108)\ttotal: 7.33s\tremaining: 2.76s\n",
            "109:\tlearn: 2412677.3597649\ttest: 3329811.8656424\tbest: 3329811.8656424 (109)\ttotal: 7.39s\tremaining: 2.69s\n",
            "110:\tlearn: 2408764.8518766\ttest: 3331688.1590289\tbest: 3329811.8656424 (109)\ttotal: 7.46s\tremaining: 2.62s\n",
            "111:\tlearn: 2405572.6490339\ttest: 3331315.7776183\tbest: 3329811.8656424 (109)\ttotal: 7.52s\tremaining: 2.55s\n",
            "112:\tlearn: 2401766.4400584\ttest: 3332115.1273300\tbest: 3329811.8656424 (109)\ttotal: 7.59s\tremaining: 2.49s\n",
            "113:\tlearn: 2396823.7608731\ttest: 3332584.9359053\tbest: 3329811.8656424 (109)\ttotal: 7.66s\tremaining: 2.42s\n",
            "114:\tlearn: 2393221.3113817\ttest: 3334112.6771584\tbest: 3329811.8656424 (109)\ttotal: 7.74s\tremaining: 2.36s\n",
            "115:\tlearn: 2389246.3093794\ttest: 3334551.6412173\tbest: 3329811.8656424 (109)\ttotal: 7.81s\tremaining: 2.29s\n",
            "116:\tlearn: 2385437.1743477\ttest: 3333370.9049127\tbest: 3329811.8656424 (109)\ttotal: 7.88s\tremaining: 2.22s\n",
            "117:\tlearn: 2382763.2275761\ttest: 3331435.4635518\tbest: 3329811.8656424 (109)\ttotal: 7.94s\tremaining: 2.15s\n",
            "118:\tlearn: 2376120.6524586\ttest: 3325788.1347605\tbest: 3325788.1347605 (118)\ttotal: 8.01s\tremaining: 2.09s\n",
            "119:\tlearn: 2372284.0697730\ttest: 3325017.3635250\tbest: 3325017.3635250 (119)\ttotal: 8.07s\tremaining: 2.02s\n",
            "120:\tlearn: 2368861.6339302\ttest: 3324948.3915543\tbest: 3324948.3915543 (120)\ttotal: 8.15s\tremaining: 1.95s\n",
            "121:\tlearn: 2365078.9653148\ttest: 3323433.7376518\tbest: 3323433.7376518 (121)\ttotal: 8.21s\tremaining: 1.88s\n",
            "122:\tlearn: 2362332.9337729\ttest: 3323020.2381407\tbest: 3323020.2381407 (122)\ttotal: 8.27s\tremaining: 1.81s\n",
            "123:\tlearn: 2360025.7744528\ttest: 3322377.6566264\tbest: 3322377.6566264 (123)\ttotal: 8.33s\tremaining: 1.75s\n",
            "124:\tlearn: 2357656.1662697\ttest: 3322392.7469933\tbest: 3322377.6566264 (123)\ttotal: 8.39s\tremaining: 1.68s\n",
            "125:\tlearn: 2355649.1922272\ttest: 3320152.6716873\tbest: 3320152.6716873 (125)\ttotal: 8.45s\tremaining: 1.61s\n",
            "126:\tlearn: 2353569.4991836\ttest: 3321156.9466974\tbest: 3320152.6716873 (125)\ttotal: 8.52s\tremaining: 1.54s\n",
            "127:\tlearn: 2348756.1650721\ttest: 3318848.5614745\tbest: 3318848.5614745 (127)\ttotal: 8.59s\tremaining: 1.48s\n",
            "128:\tlearn: 2344611.1662435\ttest: 3316791.3516759\tbest: 3316791.3516759 (128)\ttotal: 8.66s\tremaining: 1.41s\n",
            "129:\tlearn: 2341486.5751921\ttest: 3318478.9060831\tbest: 3316791.3516759 (128)\ttotal: 8.71s\tremaining: 1.34s\n",
            "130:\tlearn: 2338662.0085145\ttest: 3317444.0909267\tbest: 3316791.3516759 (128)\ttotal: 8.78s\tremaining: 1.27s\n",
            "131:\tlearn: 2336655.5452295\ttest: 3316747.0887513\tbest: 3316747.0887513 (131)\ttotal: 8.86s\tremaining: 1.21s\n",
            "132:\tlearn: 2333094.9965344\ttest: 3323629.0487061\tbest: 3316747.0887513 (131)\ttotal: 8.93s\tremaining: 1.14s\n",
            "133:\tlearn: 2330249.4869776\ttest: 3323512.2561984\tbest: 3316747.0887513 (131)\ttotal: 9s\tremaining: 1.07s\n",
            "134:\tlearn: 2327223.0833150\ttest: 3321711.5024538\tbest: 3316747.0887513 (131)\ttotal: 9.06s\tremaining: 1.01s\n",
            "135:\tlearn: 2324652.4180997\ttest: 3321819.8315316\tbest: 3316747.0887513 (131)\ttotal: 9.12s\tremaining: 939ms\n",
            "136:\tlearn: 2318590.3705194\ttest: 3321252.7977243\tbest: 3316747.0887513 (131)\ttotal: 9.18s\tremaining: 871ms\n",
            "137:\tlearn: 2316673.6533169\ttest: 3321685.0495716\tbest: 3316747.0887513 (131)\ttotal: 9.25s\tremaining: 804ms\n",
            "138:\tlearn: 2313194.5944152\ttest: 3321242.8372941\tbest: 3316747.0887513 (131)\ttotal: 9.32s\tremaining: 738ms\n",
            "139:\tlearn: 2309922.6565481\ttest: 3320289.9228104\tbest: 3316747.0887513 (131)\ttotal: 9.39s\tremaining: 671ms\n",
            "140:\tlearn: 2307457.8222815\ttest: 3322129.2846868\tbest: 3316747.0887513 (131)\ttotal: 9.45s\tremaining: 603ms\n",
            "141:\tlearn: 2305388.6790465\ttest: 3322940.1614900\tbest: 3316747.0887513 (131)\ttotal: 9.51s\tremaining: 536ms\n",
            "142:\tlearn: 2302683.4003424\ttest: 3322875.1372942\tbest: 3316747.0887513 (131)\ttotal: 9.58s\tremaining: 469ms\n",
            "143:\tlearn: 2299860.3614136\ttest: 3321977.2070298\tbest: 3316747.0887513 (131)\ttotal: 9.65s\tremaining: 402ms\n",
            "144:\tlearn: 2297308.1054560\ttest: 3321600.1179512\tbest: 3316747.0887513 (131)\ttotal: 9.74s\tremaining: 336ms\n",
            "145:\tlearn: 2295543.4217518\ttest: 3322622.1605376\tbest: 3316747.0887513 (131)\ttotal: 9.8s\tremaining: 268ms\n",
            "146:\tlearn: 2291907.9319291\ttest: 3320944.3715893\tbest: 3316747.0887513 (131)\ttotal: 9.88s\tremaining: 202ms\n",
            "147:\tlearn: 2291228.0068136\ttest: 3320812.1968354\tbest: 3316747.0887513 (131)\ttotal: 9.94s\tremaining: 134ms\n",
            "148:\tlearn: 2287533.0761909\ttest: 3320174.0638792\tbest: 3316747.0887513 (131)\ttotal: 10s\tremaining: 67.1ms\n",
            "149:\tlearn: 2284570.1928715\ttest: 3319307.2226406\tbest: 3316747.0887513 (131)\ttotal: 10.1s\tremaining: 0us\n",
            "\n",
            "bestTest = 3316747.089\n",
            "bestIteration = 131\n",
            "\n",
            "Shrink model to first 132 iterations.\n"
          ]
        },
        {
          "output_type": "execute_result",
          "data": {
            "text/plain": [
              "<catboost.core.CatBoostRegressor at 0x7f5aad989d50>"
            ]
          },
          "metadata": {},
          "execution_count": 122
        }
      ]
    },
    {
      "cell_type": "code",
      "source": [
        "y_pred_invest_cbr = model_invest_cbr.predict(invest_test_X_1)"
      ],
      "metadata": {
        "id": "xxhmG7weSmlU"
      },
      "execution_count": null,
      "outputs": []
    },
    {
      "cell_type": "code",
      "source": [
        "mean_squared_error(invest_test_y_1, y_pred_invest_cbr, squared=False)"
      ],
      "metadata": {
        "colab": {
          "base_uri": "https://localhost:8080/"
        },
        "id": "bqhsh_D1S0jR",
        "outputId": "51417a68-33c5-48bb-96f8-261e5921ced6"
      },
      "execution_count": null,
      "outputs": [
        {
          "output_type": "execute_result",
          "data": {
            "text/plain": [
              "3316747.08875129"
            ]
          },
          "metadata": {},
          "execution_count": 124
        }
      ]
    },
    {
      "cell_type": "markdown",
      "source": [
        "  для product_type == OwnerOccupier лучшая модель: RandomForestRegressor \n",
        "  \n",
        "  RMSE on cv = 1.511.803\n",
        "  его гиперпараметры:\n",
        "  {'max_depth': 16}"
      ],
      "metadata": {
        "id": "gP1_G2ceKZZt"
      }
    },
    {
      "cell_type": "code",
      "source": [
        "rf = RandomForestRegressor(max_depth=16, random_state=42)"
      ],
      "metadata": {
        "id": "hyg1U8BWTWn3"
      },
      "execution_count": null,
      "outputs": []
    },
    {
      "cell_type": "code",
      "source": [
        "rf.fit(owner_train_X,  owner_train_y)\n",
        "y_pred_rf = rf.predict(owner_test_X)"
      ],
      "metadata": {
        "id": "P3IfAzgWL916"
      },
      "execution_count": null,
      "outputs": []
    },
    {
      "cell_type": "code",
      "source": [
        "mean_squared_error(owner_test_y, y_pred_rf, squared=False)"
      ],
      "metadata": {
        "colab": {
          "base_uri": "https://localhost:8080/"
        },
        "id": "c31m6drMT2ko",
        "outputId": "3d4a802c-c975-451b-b89b-8b31d267854e"
      },
      "execution_count": null,
      "outputs": [
        {
          "output_type": "execute_result",
          "data": {
            "text/plain": [
              "1455457.7623441913"
            ]
          },
          "metadata": {},
          "execution_count": 129
        }
      ]
    },
    {
      "cell_type": "code",
      "source": [
        "y_pred = np.concatenate((y_pred_invest_cbr, y_pred_rf))\n",
        "y_test = np.concatenate((invest_test_y_1, owner_test_y))\n",
        "mean_squared_error(y_test, y_pred, squared=False)"
      ],
      "metadata": {
        "colab": {
          "base_uri": "https://localhost:8080/"
        },
        "id": "VPY2BibkV8te",
        "outputId": "04409c4a-77a5-4c5b-f6c7-854c0b6688fb"
      },
      "execution_count": null,
      "outputs": [
        {
          "output_type": "execute_result",
          "data": {
            "text/plain": [
              "2797208.9916566038"
            ]
          },
          "metadata": {},
          "execution_count": 134
        }
      ]
    },
    {
      "cell_type": "markdown",
      "metadata": {
        "id": "J8t-klaK2A6s"
      },
      "source": [
        "### (*) Ensemble v.2 (дополнительно, 2 балла)\n",
        "\n",
        "Попробуйте сделать для `Investment` более сложную модель: обучите `CatBoostRegressor` и `HuberRegressor` из `sklearn`, а затем сложите их предсказания с весами `w_1` и `w_2` (выберите веса сами; сумма весов равняется 1)."
      ]
    },
    {
      "cell_type": "code",
      "execution_count": null,
      "metadata": {
        "id": "JOKD-l8HuOgM"
      },
      "outputs": [],
      "source": [
        "from sklearn.linear_model import HuberRegressor, LinearRegression, Ridge, Lasso"
      ]
    },
    {
      "cell_type": "code",
      "source": [
        "hr = HuberRegressor(max_iter=400)\n",
        "hr.fit(invest_train_X, invest_train_y)\n",
        "y_pred_invest_hr = hr.predict(invest_test_X)\n",
        "mean_squared_error(invest_test_y, y_pred_invest_hr, squared=False)"
      ],
      "metadata": {
        "colab": {
          "base_uri": "https://localhost:8080/"
        },
        "id": "wcVt9P4-ZjGH",
        "outputId": "ad7885fa-8b08-4181-dc03-6ced538ec904"
      },
      "execution_count": null,
      "outputs": [
        {
          "output_type": "execute_result",
          "data": {
            "text/plain": [
              "5346440.8330126535"
            ]
          },
          "metadata": {},
          "execution_count": 163
        }
      ]
    },
    {
      "cell_type": "code",
      "source": [
        "import matplotlib.pyplot as plt"
      ],
      "metadata": {
        "id": "qjkalPlTnDJH"
      },
      "execution_count": null,
      "outputs": []
    },
    {
      "cell_type": "code",
      "source": [
        "result = []\n",
        "for eps in np.arange(0.0, 1.0, 0.01):\n",
        "    y_pred = (eps * y_pred_invest_cbr) + ((1-eps) * y_pred_invest_hr)\n",
        "    result.append(mean_squared_error(invest_test_y, y_pred, squared=False))\n",
        "plt.plot(np.arange(0.0, 1.00, 0.01), result)\n",
        "plt.xlabel('w_1')\n",
        "plt.ylabel('RMSE')\n",
        "plt.title('w_1 vs RMSE')\n",
        "plt.show()"
      ],
      "metadata": {
        "colab": {
          "base_uri": "https://localhost:8080/",
          "height": 296
        },
        "id": "A0dLBb0RaFrN",
        "outputId": "4f5a8f91-35c4-4b8e-d304-93913b07ab65"
      },
      "execution_count": null,
      "outputs": [
        {
          "output_type": "display_data",
          "data": {
            "image/png": "[encoded data removed]",
            "text/plain": [
              "<Figure size 432x288 with 1 Axes>"
            ]
          },
          "metadata": {
            "needs_background": "light"
          }
        }
      ]
    },
    {
      "cell_type": "markdown",
      "source": [
        "Судя по графику, лучший результат получается, когда w_2 = 0, w_1 = 1"
      ],
      "metadata": {
        "id": "q5Usb_yQvK7E"
      }
    },
    {
      "cell_type": "markdown",
      "source": [
        "То есть результат на тестовой выборке для Investment остается таким же(скопировал последнюю ячейку из предыдущего пункта):"
      ],
      "metadata": {
        "id": "KfVzIgTwvh8h"
      }
    },
    {
      "cell_type": "code",
      "source": [
        "y_pred = np.concatenate((y_pred_invest_cbr, y_pred_rf))\n",
        "y_test = np.concatenate((invest_test_y_1, owner_test_y))\n",
        "mean_squared_error(y_test, y_pred, squared=False)"
      ],
      "metadata": {
        "colab": {
          "base_uri": "https://localhost:8080/"
        },
        "id": "XVGWBZlonBhZ",
        "outputId": "f7fe3ced-3d78-4d33-d579-0256e8a1c07f"
      },
      "execution_count": null,
      "outputs": [
        {
          "output_type": "execute_result",
          "data": {
            "text/plain": [
              "2797208.9916566038"
            ]
          },
          "metadata": {},
          "execution_count": 178
        }
      ]
    }
  ],
  "metadata": {
    "colab": {
      "collapsed_sections": [],
      "name": "task_Badriev_decision_trees.ipynb\"",
      "provenance": []
    },
    "kernelspec": {
      "display_name": "Python 3",
      "name": "python3"
    },
    "widgets": {
      "application/vnd.jupyter.widget-state+json": {
        "e873315a165442aba34ac6c28bb2e4d1": {
          "model_module": "catboost-widget",
          "model_name": "CatboostWidgetModel",
          "model_module_version": "^1.0.0",
          "state": {
            "_view_name": "CatboostWidgetView",
            "_dom_classes": [],
            "_model_name": "CatboostWidgetModel",
            "data": {
              "catboost_info": {
                "content": {
                  "data": {
                    "meta": {
                      "name": "experiment",
                      "parameters": "parameters",
                      "test_metrics": [
                        {
                          "best_value": "Min",
                          "name": "RMSE"
                        }
                      ],
                      "learn_sets": [
                        "learn"
                      ],
                      "launch_mode": "Train",
                      "learn_metrics": [
                        {
                          "best_value": "Min",
                          "name": "RMSE"
                        }
                      ],
                      "iteration_count": 144,
                      "test_sets": [
                        "test"
                      ]
                    },
                    "iterations": [
                      {
                        "parameters": [
                          {
                            "l2_leaf_reg": 0.2,
                            "depth": 2,
                            "learning_rate": 0.03,
                            "iterations": 100
                          }
                        ],
                        "iteration": 0,
                        "remaining_time": 248.4041877,
                        "passed_time": 1.737092222,
                        "learn": [
                          3384103.781
                        ],
                        "test": [
                          3138630.762
                        ]
                      },
                      {
                        "parameters": [
                          {
                            "l2_leaf_reg": 0.2,
                            "depth": 2,
                            "learning_rate": 0.1,
                            "iterations": 100
                          }
                        ],
                        "iteration": 1,
                        "remaining_time": 229.4688553,
                        "passed_time": 3.231955709,
                        "learn": [
                          2981311.373
                        ],
                        "test": [
                          2936623.897
                        ]
                      },
                      {
                        "parameters": [
                          {
                            "l2_leaf_reg": 0.2,
                            "depth": 2,
                            "learning_rate": 1,
                            "iterations": 100
                          }
                        ],
                        "iteration": 2,
                        "remaining_time": 220.8553951,
                        "passed_time": 4.699050959,
                        "learn": [
                          2516948.576
                        ],
                        "test": [
                          3072372.721
                        ]
                      },
                      {
                        "parameters": [
                          {
                            "l2_leaf_reg": 0.5,
                            "depth": 2,
                            "learning_rate": 0.03,
                            "iterations": 100
                          }
                        ],
                        "iteration": 3,
                        "remaining_time": 217.8783427,
                        "passed_time": 6.225095506,
                        "learn": [
                          3386665.1
                        ],
                        "test": [
                          3140054.921
                        ]
                      },
                      {
                        "parameters": [
                          {
                            "l2_leaf_reg": 0.5,
                            "depth": 2,
                            "learning_rate": 0.1,
                            "iterations": 100
                          }
                        ],
                        "iteration": 4,
                        "remaining_time": 214.7509311,
                        "passed_time": 7.724853635,
                        "learn": [
                          2986278.547
                        ],
                        "test": [
                          2941402.225
                        ]
                      },
                      {
                        "parameters": [
                          {
                            "l2_leaf_reg": 0.5,
                            "depth": 2,
                            "learning_rate": 1,
                            "iterations": 100
                          }
                        ],
                        "iteration": 5,
                        "remaining_time": 211.9586421,
                        "passed_time": 9.215593137,
                        "learn": [
                          2536263.284
                        ],
                        "test": [
                          3179702.601
                        ]
                      },
                      {
                        "parameters": [
                          {
                            "l2_leaf_reg": 1,
                            "depth": 2,
                            "learning_rate": 0.03,
                            "iterations": 100
                          }
                        ],
                        "iteration": 6,
                        "remaining_time": 209.439581,
                        "passed_time": 10.70129246,
                        "learn": [
                          3386414.821
                        ],
                        "test": [
                          3139058.631
                        ]
                      },
                      {
                        "parameters": [
                          {
                            "l2_leaf_reg": 1,
                            "depth": 2,
                            "learning_rate": 0.1,
                            "iterations": 100
                          }
                        ],
                        "iteration": 7,
                        "remaining_time": 207.3308892,
                        "passed_time": 12.19593466,
                        "learn": [
                          2993996.493
                        ],
                        "test": [
                          2942291.537
                        ]
                      },
                      {
                        "parameters": [
                          {
                            "l2_leaf_reg": 1,
                            "depth": 2,
                            "learning_rate": 1,
                            "iterations": 100
                          }
                        ],
                        "iteration": 8,
                        "remaining_time": 204.8202735,
                        "passed_time": 13.6546849,
                        "learn": [
                          2528943.607
                        ],
                        "test": [
                          3137361.484
                        ]
                      },
                      {
                        "parameters": [
                          {
                            "l2_leaf_reg": 3,
                            "depth": 2,
                            "learning_rate": 0.03,
                            "iterations": 100
                          }
                        ],
                        "iteration": 9,
                        "remaining_time": 202.6102109,
                        "passed_time": 15.12016499,
                        "learn": [
                          3388583.138
                        ],
                        "test": [
                          3140901.819
                        ]
                      },
                      {
                        "parameters": [
                          {
                            "l2_leaf_reg": 3,
                            "depth": 2,
                            "learning_rate": 0.1,
                            "iterations": 100
                          }
                        ],
                        "iteration": 10,
                        "remaining_time": 200.4988233,
                        "passed_time": 16.58260945,
                        "learn": [
                          3004298.418
                        ],
                        "test": [
                          2930452.613
                        ]
                      },
                      {
                        "parameters": [
                          {
                            "l2_leaf_reg": 3,
                            "depth": 2,
                            "learning_rate": 1,
                            "iterations": 100
                          }
                        ],
                        "iteration": 11,
                        "remaining_time": 198.3025024,
                        "passed_time": 18.02750022,
                        "learn": [
                          2575937.685
                        ],
                        "test": [
                          2966428.148
                        ]
                      },
                      {
                        "parameters": [
                          {
                            "l2_leaf_reg": 0.2,
                            "depth": 2,
                            "learning_rate": 0.03,
                            "iterations": 150
                          }
                        ],
                        "iteration": 12,
                        "remaining_time": 204.4160054,
                        "passed_time": 20.28555779,
                        "learn": [
                          3216621.259
                        ],
                        "test": [
                          3011100.523
                        ]
                      },
                      {
                        "parameters": [
                          {
                            "l2_leaf_reg": 0.2,
                            "depth": 2,
                            "learning_rate": 0.1,
                            "iterations": 150
                          }
                        ],
                        "iteration": 13,
                        "remaining_time": 208.9886864,
                        "passed_time": 22.50647392,
                        "learn": [
                          2871967.439
                        ],
                        "test": [
                          2918842.092
                        ]
                      },
                      {
                        "parameters": [
                          {
                            "l2_leaf_reg": 0.2,
                            "depth": 2,
                            "learning_rate": 1,
                            "iterations": 150
                          }
                        ],
                        "iteration": 14,
                        "remaining_time": 212.2463496,
                        "passed_time": 24.6798081,
                        "learn": [
                          2390615.621
                        ],
                        "test": [
                          3072372.721
                        ]
                      },
                      {
                        "parameters": [
                          {
                            "l2_leaf_reg": 0.5,
                            "depth": 2,
                            "learning_rate": 0.03,
                            "iterations": 150
                          }
                        ],
                        "iteration": 15,
                        "remaining_time": 215.5013752,
                        "passed_time": 26.9376719,
                        "learn": [
                          3218840.981
                        ],
                        "test": [
                          3016472.31
                        ]
                      },
                      {
                        "parameters": [
                          {
                            "l2_leaf_reg": 0.5,
                            "depth": 2,
                            "learning_rate": 0.1,
                            "iterations": 150
                          }
                        ],
                        "iteration": 16,
                        "remaining_time": 217.4233384,
                        "passed_time": 29.10391143,
                        "learn": [
                          2878160.647
                        ],
                        "test": [
                          2920675.723
                        ]
                      },
                      {
                        "parameters": [
                          {
                            "l2_leaf_reg": 0.5,
                            "depth": 2,
                            "learning_rate": 1,
                            "iterations": 150
                          }
                        ],
                        "iteration": 17,
                        "remaining_time": 218.7658355,
                        "passed_time": 31.25226222,
                        "learn": [
                          2407454.322
                        ],
                        "test": [
                          3179702.601
                        ]
                      },
                      {
                        "parameters": [
                          {
                            "l2_leaf_reg": 1,
                            "depth": 2,
                            "learning_rate": 0.03,
                            "iterations": 150
                          }
                        ],
                        "iteration": 18,
                        "remaining_time": 219.8460852,
                        "passed_time": 33.41660495,
                        "learn": [
                          3224868.138
                        ],
                        "test": [
                          3013426.069
                        ]
                      },
                      {
                        "parameters": [
                          {
                            "l2_leaf_reg": 1,
                            "depth": 2,
                            "learning_rate": 0.1,
                            "iterations": 150
                          }
                        ],
                        "iteration": 19,
                        "remaining_time": 220.7445086,
                        "passed_time": 35.60395301,
                        "learn": [
                          2880780.954
                        ],
                        "test": [
                          2926197.684
                        ]
                      },
                      {
                        "parameters": [
                          {
                            "l2_leaf_reg": 1,
                            "depth": 2,
                            "learning_rate": 1,
                            "iterations": 150
                          }
                        ],
                        "iteration": 20,
                        "remaining_time": 221.4291716,
                        "passed_time": 37.80498051,
                        "learn": [
                          2407623.832
                        ],
                        "test": [
                          3137361.484
                        ]
                      },
                      {
                        "parameters": [
                          {
                            "l2_leaf_reg": 3,
                            "depth": 2,
                            "learning_rate": 0.03,
                            "iterations": 150
                          }
                        ],
                        "iteration": 21,
                        "remaining_time": 221.7566805,
                        "passed_time": 39.98890959,
                        "learn": [
                          3225740.57
                        ],
                        "test": [
                          3021170.913
                        ]
                      },
                      {
                        "parameters": [
                          {
                            "l2_leaf_reg": 3,
                            "depth": 2,
                            "learning_rate": 0.1,
                            "iterations": 150
                          }
                        ],
                        "iteration": 22,
                        "remaining_time": 221.8496941,
                        "passed_time": 42.16977657,
                        "learn": [
                          2908904.852
                        ],
                        "test": [
                          2917658.872
                        ]
                      },
                      {
                        "parameters": [
                          {
                            "l2_leaf_reg": 3,
                            "depth": 2,
                            "learning_rate": 1,
                            "iterations": 150
                          }
                        ],
                        "iteration": 23,
                        "remaining_time": 221.5777634,
                        "passed_time": 44.31555268,
                        "learn": [
                          2440837.877
                        ],
                        "test": [
                          2966428.148
                        ]
                      },
                      {
                        "parameters": [
                          {
                            "l2_leaf_reg": 0.2,
                            "depth": 2,
                            "learning_rate": 0.03,
                            "iterations": 200
                          }
                        ],
                        "iteration": 24,
                        "remaining_time": 228.0217249,
                        "passed_time": 47.90372371,
                        "learn": [
                          3115800.521
                        ],
                        "test": [
                          2973282.111
                        ]
                      },
                      {
                        "parameters": [
                          {
                            "l2_leaf_reg": 0.2,
                            "depth": 2,
                            "learning_rate": 0.1,
                            "iterations": 200
                          }
                        ],
                        "iteration": 25,
                        "remaining_time": 233.8044889,
                        "passed_time": 51.51624333,
                        "learn": [
                          2789002.885
                        ],
                        "test": [
                          2904622.415
                        ]
                      },
                      {
                        "parameters": [
                          {
                            "l2_leaf_reg": 0.2,
                            "depth": 2,
                            "learning_rate": 1,
                            "iterations": 200
                          }
                        ],
                        "iteration": 26,
                        "remaining_time": 238.9138518,
                        "passed_time": 55.13396581,
                        "learn": [
                          2335496.669
                        ],
                        "test": [
                          3253741.635
                        ]
                      },
                      {
                        "parameters": [
                          {
                            "l2_leaf_reg": 0.5,
                            "depth": 2,
                            "learning_rate": 0.03,
                            "iterations": 200
                          }
                        ],
                        "iteration": 27,
                        "remaining_time": 243.1883596,
                        "passed_time": 58.70063852,
                        "learn": [
                          3119725.107
                        ],
                        "test": [
                          2961811.907
                        ]
                      },
                      {
                        "parameters": [
                          {
                            "l2_leaf_reg": 0.5,
                            "depth": 2,
                            "learning_rate": 0.1,
                            "iterations": 200
                          }
                        ],
                        "iteration": 28,
                        "remaining_time": 246.8702915,
                        "passed_time": 62.25424741,
                        "learn": [
                          2803299.966
                        ],
                        "test": [
                          2913078.964
                        ]
                      },
                      {
                        "parameters": [
                          {
                            "l2_leaf_reg": 0.5,
                            "depth": 2,
                            "learning_rate": 1,
                            "iterations": 200
                          }
                        ],
                        "iteration": 29,
                        "remaining_time": 250.0631897,
                        "passed_time": 65.80610255,
                        "learn": [
                          2344422.262
                        ],
                        "test": [
                          3016869.321
                        ]
                      },
                      {
                        "parameters": [
                          {
                            "l2_leaf_reg": 1,
                            "depth": 2,
                            "learning_rate": 0.03,
                            "iterations": 200
                          }
                        ],
                        "iteration": 30,
                        "remaining_time": 252.9794862,
                        "passed_time": 69.40145197,
                        "learn": [
                          3126517.633
                        ],
                        "test": [
                          2968700.457
                        ]
                      },
                      {
                        "parameters": [
                          {
                            "l2_leaf_reg": 1,
                            "depth": 2,
                            "learning_rate": 0.1,
                            "iterations": 200
                          }
                        ],
                        "iteration": 31,
                        "remaining_time": 255.4364373,
                        "passed_time": 72.98183924,
                        "learn": [
                          2815766.184
                        ],
                        "test": [
                          2926008.633
                        ]
                      },
                      {
                        "parameters": [
                          {
                            "l2_leaf_reg": 1,
                            "depth": 2,
                            "learning_rate": 1,
                            "iterations": 200
                          }
                        ],
                        "iteration": 32,
                        "remaining_time": 257.6286044,
                        "passed_time": 76.5922878,
                        "learn": [
                          2366760.135
                        ],
                        "test": [
                          3031862.97
                        ]
                      },
                      {
                        "parameters": [
                          {
                            "l2_leaf_reg": 3,
                            "depth": 2,
                            "learning_rate": 0.03,
                            "iterations": 200
                          }
                        ],
                        "iteration": 33,
                        "remaining_time": 259.5367756,
                        "passed_time": 80.22045791,
                        "learn": [
                          3135473.188
                        ],
                        "test": [
                          2965674.38
                        ]
                      },
                      {
                        "parameters": [
                          {
                            "l2_leaf_reg": 3,
                            "depth": 2,
                            "learning_rate": 0.1,
                            "iterations": 200
                          }
                        ],
                        "iteration": 34,
                        "remaining_time": 260.9487005,
                        "passed_time": 83.79086713,
                        "learn": [
                          2836158.824
                        ],
                        "test": [
                          2920866.61
                        ]
                      },
                      {
                        "parameters": [
                          {
                            "l2_leaf_reg": 3,
                            "depth": 2,
                            "learning_rate": 1,
                            "iterations": 200
                          }
                        ],
                        "iteration": 35,
                        "remaining_time": 262.3245301,
                        "passed_time": 87.44151002,
                        "learn": [
                          2368020.795
                        ],
                        "test": [
                          3135142.259
                        ]
                      },
                      {
                        "parameters": [
                          {
                            "l2_leaf_reg": 0.2,
                            "depth": 4,
                            "learning_rate": 0.03,
                            "iterations": 100
                          }
                        ],
                        "iteration": 36,
                        "remaining_time": 261.5448606,
                        "passed_time": 90.4407462,
                        "learn": [
                          3125673.267
                        ],
                        "test": [
                          3015218.851
                        ]
                      },
                      {
                        "parameters": [
                          {
                            "l2_leaf_reg": 0.2,
                            "depth": 4,
                            "learning_rate": 0.1,
                            "iterations": 100
                          }
                        ],
                        "iteration": 37,
                        "remaining_time": 260.6897767,
                        "passed_time": 93.45482562,
                        "learn": [
                          2699052.589
                        ],
                        "test": [
                          2920670.324
                        ]
                      },
                      {
                        "parameters": [
                          {
                            "l2_leaf_reg": 0.2,
                            "depth": 4,
                            "learning_rate": 1,
                            "iterations": 100
                          }
                        ],
                        "iteration": 38,
                        "remaining_time": 259.9299821,
                        "passed_time": 96.54542193,
                        "learn": [
                          2067047.731
                        ],
                        "test": [
                          3187164.001
                        ]
                      },
                      {
                        "parameters": [
                          {
                            "l2_leaf_reg": 0.5,
                            "depth": 4,
                            "learning_rate": 0.03,
                            "iterations": 100
                          }
                        ],
                        "iteration": 39,
                        "remaining_time": 258.9809048,
                        "passed_time": 99.6080403,
                        "learn": [
                          3141490.431
                        ],
                        "test": [
                          3014304.464
                        ]
                      },
                      {
                        "parameters": [
                          {
                            "l2_leaf_reg": 0.5,
                            "depth": 4,
                            "learning_rate": 0.1,
                            "iterations": 100
                          }
                        ],
                        "iteration": 40,
                        "remaining_time": 257.8106164,
                        "passed_time": 102.6236434,
                        "learn": [
                          2705727.254
                        ],
                        "test": [
                          2875461.407
                        ]
                      },
                      {
                        "parameters": [
                          {
                            "l2_leaf_reg": 0.5,
                            "depth": 4,
                            "learning_rate": 1,
                            "iterations": 100
                          }
                        ],
                        "iteration": 41,
                        "remaining_time": 256.4993442,
                        "passed_time": 105.617377,
                        "learn": [
                          2079497.765
                        ],
                        "test": [
                          3223167.398
                        ]
                      },
                      {
                        "parameters": [
                          {
                            "l2_leaf_reg": 1,
                            "depth": 4,
                            "learning_rate": 0.03,
                            "iterations": 100
                          }
                        ],
                        "iteration": 42,
                        "remaining_time": 255.341353,
                        "passed_time": 108.7096849,
                        "learn": [
                          3142743.232
                        ],
                        "test": [
                          3018277.25
                        ]
                      },
                      {
                        "parameters": [
                          {
                            "l2_leaf_reg": 1,
                            "depth": 4,
                            "learning_rate": 0.1,
                            "iterations": 100
                          }
                        ],
                        "iteration": 43,
                        "remaining_time": 253.8485764,
                        "passed_time": 111.6933736,
                        "learn": [
                          2728261.37
                        ],
                        "test": [
                          2874140.463
                        ]
                      },
                      {
                        "parameters": [
                          {
                            "l2_leaf_reg": 1,
                            "depth": 4,
                            "learning_rate": 1,
                            "iterations": 100
                          }
                        ],
                        "iteration": 44,
                        "remaining_time": 252.4990243,
                        "passed_time": 114.7722838,
                        "learn": [
                          2099126.063
                        ],
                        "test": [
                          3273464.028
                        ]
                      },
                      {
                        "parameters": [
                          {
                            "l2_leaf_reg": 3,
                            "depth": 4,
                            "learning_rate": 0.03,
                            "iterations": 100
                          }
                        ],
                        "iteration": 45,
                        "remaining_time": 251.2128369,
                        "passed_time": 117.9162296,
                        "learn": [
                          3175880.286
                        ],
                        "test": [
                          3035085.816
                        ]
                      },
                      {
                        "parameters": [
                          {
                            "l2_leaf_reg": 3,
                            "depth": 4,
                            "learning_rate": 0.1,
                            "iterations": 100
                          }
                        ],
                        "iteration": 46,
                        "remaining_time": 249.573848,
                        "passed_time": 120.9275346,
                        "learn": [
                          2764097.343
                        ],
                        "test": [
                          2834939.618
                        ]
                      },
                      {
                        "parameters": [
                          {
                            "l2_leaf_reg": 3,
                            "depth": 4,
                            "learning_rate": 1,
                            "iterations": 100
                          }
                        ],
                        "iteration": 47,
                        "remaining_time": 248.021659,
                        "passed_time": 124.0108295,
                        "learn": [
                          2107666.04
                        ],
                        "test": [
                          3105390.793
                        ]
                      },
                      {
                        "parameters": [
                          {
                            "l2_leaf_reg": 0.2,
                            "depth": 4,
                            "learning_rate": 0.03,
                            "iterations": 150
                          }
                        ],
                        "iteration": 48,
                        "remaining_time": 249.3582672,
                        "passed_time": 128.6163694,
                        "learn": [
                          2936808.946
                        ],
                        "test": [
                          2904781.128
                        ]
                      },
                      {
                        "parameters": [
                          {
                            "l2_leaf_reg": 0.2,
                            "depth": 4,
                            "learning_rate": 0.1,
                            "iterations": 150
                          }
                        ],
                        "iteration": 49,
                        "remaining_time": 250.2229294,
                        "passed_time": 133.0973029,
                        "learn": [
                          2566222.657
                        ],
                        "test": [
                          2899296.382
                        ]
                      },
                      {
                        "parameters": [
                          {
                            "l2_leaf_reg": 0.2,
                            "depth": 4,
                            "learning_rate": 1,
                            "iterations": 150
                          }
                        ],
                        "iteration": 50,
                        "remaining_time": 250.9740012,
                        "passed_time": 137.6309039,
                        "learn": [
                          1861625.298
                        ],
                        "test": [
                          3187164.001
                        ]
                      },
                      {
                        "parameters": [
                          {
                            "l2_leaf_reg": 0.5,
                            "depth": 4,
                            "learning_rate": 0.03,
                            "iterations": 150
                          }
                        ],
                        "iteration": 51,
                        "remaining_time": 251.6268645,
                        "passed_time": 142.2238799,
                        "learn": [
                          2953166.666
                        ],
                        "test": [
                          2916278.451
                        ]
                      },
                      {
                        "parameters": [
                          {
                            "l2_leaf_reg": 0.5,
                            "depth": 4,
                            "learning_rate": 0.1,
                            "iterations": 150
                          }
                        ],
                        "iteration": 52,
                        "remaining_time": 252.0181473,
                        "passed_time": 146.7798001,
                        "learn": [
                          2575266.429
                        ],
                        "test": [
                          2863605.966
                        ]
                      },
                      {
                        "parameters": [
                          {
                            "l2_leaf_reg": 0.5,
                            "depth": 4,
                            "learning_rate": 1,
                            "iterations": 150
                          }
                        ],
                        "iteration": 53,
                        "remaining_time": 252.4264952,
                        "passed_time": 151.4558971,
                        "learn": [
                          1881099.701
                        ],
                        "test": [
                          3223167.398
                        ]
                      },
                      {
                        "parameters": [
                          {
                            "l2_leaf_reg": 1,
                            "depth": 4,
                            "learning_rate": 0.03,
                            "iterations": 150
                          }
                        ],
                        "iteration": 54,
                        "remaining_time": 252.6589577,
                        "passed_time": 156.1375582,
                        "learn": [
                          2960454.869
                        ],
                        "test": [
                          2906202.135
                        ]
                      },
                      {
                        "parameters": [
                          {
                            "l2_leaf_reg": 1,
                            "depth": 4,
                            "learning_rate": 0.1,
                            "iterations": 150
                          }
                        ],
                        "iteration": 55,
                        "remaining_time": 252.7118885,
                        "passed_time": 160.8166563,
                        "learn": [
                          2586151.637
                        ],
                        "test": [
                          2854590.296
                        ]
                      },
                      {
                        "parameters": [
                          {
                            "l2_leaf_reg": 1,
                            "depth": 4,
                            "learning_rate": 1,
                            "iterations": 150
                          }
                        ],
                        "iteration": 56,
                        "remaining_time": 252.618729,
                        "passed_time": 165.5088224,
                        "learn": [
                          1914033.799
                        ],
                        "test": [
                          3273464.028
                        ]
                      },
                      {
                        "parameters": [
                          {
                            "l2_leaf_reg": 3,
                            "depth": 4,
                            "learning_rate": 0.03,
                            "iterations": 150
                          }
                        ],
                        "iteration": 57,
                        "remaining_time": 252.3985898,
                        "passed_time": 170.2223047,
                        "learn": [
                          2996796.999
                        ],
                        "test": [
                          2926826.288
                        ]
                      },
                      {
                        "parameters": [
                          {
                            "l2_leaf_reg": 3,
                            "depth": 4,
                            "learning_rate": 0.1,
                            "iterations": 150
                          }
                        ],
                        "iteration": 58,
                        "remaining_time": 251.9621774,
                        "passed_time": 174.8913938,
                        "learn": [
                          2615159.673
                        ],
                        "test": [
                          2812448.194
                        ]
                      },
                      {
                        "parameters": [
                          {
                            "l2_leaf_reg": 3,
                            "depth": 4,
                            "learning_rate": 1,
                            "iterations": 150
                          }
                        ],
                        "iteration": 59,
                        "remaining_time": 251.5872378,
                        "passed_time": 179.7051698,
                        "learn": [
                          1914707.214
                        ],
                        "test": [
                          3105390.793
                        ]
                      },
                      {
                        "parameters": [
                          {
                            "l2_leaf_reg": 0.2,
                            "depth": 4,
                            "learning_rate": 0.03,
                            "iterations": 200
                          }
                        ],
                        "iteration": 60,
                        "remaining_time": 256.4426454,
                        "passed_time": 188.469896,
                        "learn": [
                          2842668.765
                        ],
                        "test": [
                          2882559.667
                        ]
                      },
                      {
                        "parameters": [
                          {
                            "l2_leaf_reg": 0.2,
                            "depth": 4,
                            "learning_rate": 0.1,
                            "iterations": 200
                          }
                        ],
                        "iteration": 61,
                        "remaining_time": 260.6334477,
                        "passed_time": 197.0643141,
                        "learn": [
                          2473494.384
                        ],
                        "test": [
                          2819449.752
                        ]
                      },
                      {
                        "parameters": [
                          {
                            "l2_leaf_reg": 0.2,
                            "depth": 4,
                            "learning_rate": 1,
                            "iterations": 200
                          }
                        ],
                        "iteration": 62,
                        "remaining_time": 264.4264228,
                        "passed_time": 205.6649955,
                        "learn": [
                          1764062.699
                        ],
                        "test": [
                          3273851.484
                        ]
                      },
                      {
                        "parameters": [
                          {
                            "l2_leaf_reg": 0.5,
                            "depth": 4,
                            "learning_rate": 0.03,
                            "iterations": 200
                          }
                        ],
                        "iteration": 63,
                        "remaining_time": 267.942474,
                        "passed_time": 214.3539792,
                        "learn": [
                          2859301.338
                        ],
                        "test": [
                          2910996.726
                        ]
                      },
                      {
                        "parameters": [
                          {
                            "l2_leaf_reg": 0.5,
                            "depth": 4,
                            "learning_rate": 0.1,
                            "iterations": 200
                          }
                        ],
                        "iteration": 64,
                        "remaining_time": 270.9136791,
                        "passed_time": 222.90366,
                        "learn": [
                          2486992.539
                        ],
                        "test": [
                          2812264.927
                        ]
                      },
                      {
                        "parameters": [
                          {
                            "l2_leaf_reg": 0.5,
                            "depth": 4,
                            "learning_rate": 1,
                            "iterations": 200
                          }
                        ],
                        "iteration": 65,
                        "remaining_time": 273.630723,
                        "passed_time": 231.5336887,
                        "learn": [
                          1750449.696
                        ],
                        "test": [
                          3217300.322
                        ]
                      },
                      {
                        "parameters": [
                          {
                            "l2_leaf_reg": 1,
                            "depth": 4,
                            "learning_rate": 0.03,
                            "iterations": 200
                          }
                        ],
                        "iteration": 66,
                        "remaining_time": 275.85108,
                        "passed_time": 240.0262644,
                        "learn": [
                          2871538.335
                        ],
                        "test": [
                          2882734.298
                        ]
                      },
                      {
                        "parameters": [
                          {
                            "l2_leaf_reg": 1,
                            "depth": 4,
                            "learning_rate": 0.1,
                            "iterations": 200
                          }
                        ],
                        "iteration": 67,
                        "remaining_time": 277.8226439,
                        "passed_time": 248.578155,
                        "learn": [
                          2499720.711
                        ],
                        "test": [
                          2832064.223
                        ]
                      },
                      {
                        "parameters": [
                          {
                            "l2_leaf_reg": 1,
                            "depth": 4,
                            "learning_rate": 1,
                            "iterations": 200
                          }
                        ],
                        "iteration": 68,
                        "remaining_time": 279.4684671,
                        "passed_time": 257.1109898,
                        "learn": [
                          1773223.322
                        ],
                        "test": [
                          3187560.258
                        ]
                      },
                      {
                        "parameters": [
                          {
                            "l2_leaf_reg": 3,
                            "depth": 4,
                            "learning_rate": 0.03,
                            "iterations": 200
                          }
                        ],
                        "iteration": 69,
                        "remaining_time": 280.8694151,
                        "passed_time": 265.6872846,
                        "learn": [
                          2897022.642
                        ],
                        "test": [
                          2877184.263
                        ]
                      },
                      {
                        "parameters": [
                          {
                            "l2_leaf_reg": 3,
                            "depth": 4,
                            "learning_rate": 0.1,
                            "iterations": 200
                          }
                        ],
                        "iteration": 70,
                        "remaining_time": 281.9018656,
                        "passed_time": 274.1785268,
                        "learn": [
                          2543962.53
                        ],
                        "test": [
                          2798513.575
                        ]
                      },
                      {
                        "parameters": [
                          {
                            "l2_leaf_reg": 3,
                            "depth": 4,
                            "learning_rate": 1,
                            "iterations": 200
                          }
                        ],
                        "iteration": 71,
                        "remaining_time": 282.8220678,
                        "passed_time": 282.8220678,
                        "learn": [
                          1783417.128
                        ],
                        "test": [
                          3158943.923
                        ]
                      },
                      {
                        "parameters": [
                          {
                            "l2_leaf_reg": 0.2,
                            "depth": 6,
                            "learning_rate": 0.03,
                            "iterations": 100
                          }
                        ],
                        "iteration": 72,
                        "remaining_time": 281.7356188,
                        "passed_time": 289.6718334,
                        "learn": [
                          2945022.355
                        ],
                        "test": [
                          2959268.119
                        ]
                      },
                      {
                        "parameters": [
                          {
                            "l2_leaf_reg": 0.2,
                            "depth": 6,
                            "learning_rate": 0.1,
                            "iterations": 100
                          }
                        ],
                        "iteration": 73,
                        "remaining_time": 280.4935125,
                        "passed_time": 296.5217132,
                        "learn": [
                          2498733.685
                        ],
                        "test": [
                          2780564.522
                        ]
                      },
                      {
                        "parameters": [
                          {
                            "l2_leaf_reg": 0.2,
                            "depth": 6,
                            "learning_rate": 1,
                            "iterations": 100
                          }
                        ],
                        "iteration": 74,
                        "remaining_time": 279.0705237,
                        "passed_time": 303.3375258,
                        "learn": [
                          1605870.289
                        ],
                        "test": [
                          3587095.091
                        ]
                      },
                      {
                        "parameters": [
                          {
                            "l2_leaf_reg": 0.5,
                            "depth": 6,
                            "learning_rate": 0.03,
                            "iterations": 100
                          }
                        ],
                        "iteration": 75,
                        "remaining_time": 277.5408171,
                        "passed_time": 310.192678,
                        "learn": [
                          2956913.605
                        ],
                        "test": [
                          2960702.519
                        ]
                      },
                      {
                        "parameters": [
                          {
                            "l2_leaf_reg": 0.5,
                            "depth": 6,
                            "learning_rate": 0.1,
                            "iterations": 100
                          }
                        ],
                        "iteration": 76,
                        "remaining_time": 275.8148412,
                        "passed_time": 316.9812354,
                        "learn": [
                          2502772.885
                        ],
                        "test": [
                          2854831.54
                        ]
                      },
                      {
                        "parameters": [
                          {
                            "l2_leaf_reg": 0.5,
                            "depth": 6,
                            "learning_rate": 1,
                            "iterations": 100
                          }
                        ],
                        "iteration": 77,
                        "remaining_time": 273.9949947,
                        "passed_time": 323.8122665,
                        "learn": [
                          1612252.304
                        ],
                        "test": [
                          3462404.072
                        ]
                      },
                      {
                        "parameters": [
                          {
                            "l2_leaf_reg": 1,
                            "depth": 6,
                            "learning_rate": 0.03,
                            "iterations": 100
                          }
                        ],
                        "iteration": 78,
                        "remaining_time": 272.0763182,
                        "passed_time": 330.6773713,
                        "learn": [
                          2990380.954
                        ],
                        "test": [
                          2978867.987
                        ]
                      },
                      {
                        "parameters": [
                          {
                            "l2_leaf_reg": 1,
                            "depth": 6,
                            "learning_rate": 0.1,
                            "iterations": 100
                          }
                        ],
                        "iteration": 79,
                        "remaining_time": 269.9639236,
                        "passed_time": 337.4549045,
                        "learn": [
                          2520343.58
                        ],
                        "test": [
                          2800450.642
                        ]
                      },
                      {
                        "parameters": [
                          {
                            "l2_leaf_reg": 1,
                            "depth": 6,
                            "learning_rate": 1,
                            "iterations": 100
                          }
                        ],
                        "iteration": 80,
                        "remaining_time": 267.7352028,
                        "passed_time": 344.230975,
                        "learn": [
                          1627175.354
                        ],
                        "test": [
                          3096662.707
                        ]
                      },
                      {
                        "parameters": [
                          {
                            "l2_leaf_reg": 3,
                            "depth": 6,
                            "learning_rate": 0.03,
                            "iterations": 100
                          }
                        ],
                        "iteration": 81,
                        "remaining_time": 265.531395,
                        "passed_time": 351.1866837,
                        "learn": [
                          3039314.818
                        ],
                        "test": [
                          2988405.495
                        ]
                      },
                      {
                        "parameters": [
                          {
                            "l2_leaf_reg": 3,
                            "depth": 6,
                            "learning_rate": 0.1,
                            "iterations": 100
                          }
                        ],
                        "iteration": 82,
                        "remaining_time": 263.0641239,
                        "passed_time": 357.9397096,
                        "learn": [
                          2574926.6
                        ],
                        "test": [
                          2821278.276
                        ]
                      },
                      {
                        "parameters": [
                          {
                            "l2_leaf_reg": 3,
                            "depth": 6,
                            "learning_rate": 1,
                            "iterations": 100
                          }
                        ],
                        "iteration": 83,
                        "remaining_time": 260.4820134,
                        "passed_time": 364.6748187,
                        "learn": [
                          1661354.454
                        ],
                        "test": [
                          3119954.367
                        ]
                      },
                      {
                        "parameters": [
                          {
                            "l2_leaf_reg": 0.2,
                            "depth": 6,
                            "learning_rate": 0.03,
                            "iterations": 150
                          }
                        ],
                        "iteration": 84,
                        "remaining_time": 260.0504131,
                        "passed_time": 374.6489002,
                        "learn": [
                          2753309.163
                        ],
                        "test": [
                          2869792.604
                        ]
                      },
                      {
                        "parameters": [
                          {
                            "l2_leaf_reg": 0.2,
                            "depth": 6,
                            "learning_rate": 0.1,
                            "iterations": 150
                          }
                        ],
                        "iteration": 85,
                        "remaining_time": 259.3424362,
                        "passed_time": 384.542233,
                        "learn": [
                          2317900.143
                        ],
                        "test": [
                          2755731.717
                        ]
                      },
                      {
                        "parameters": [
                          {
                            "l2_leaf_reg": 0.2,
                            "depth": 6,
                            "learning_rate": 1,
                            "iterations": 150
                          }
                        ],
                        "iteration": 86,
                        "remaining_time": 258.466998,
                        "passed_time": 394.50226,
                        "learn": [
                          1318303.417
                        ],
                        "test": [
                          3587095.091
                        ]
                      },
                      {
                        "parameters": [
                          {
                            "l2_leaf_reg": 0.5,
                            "depth": 6,
                            "learning_rate": 0.03,
                            "iterations": 150
                          }
                        ],
                        "iteration": 87,
                        "remaining_time": 257.4832304,
                        "passed_time": 404.6165049,
                        "learn": [
                          2759001.901
                        ],
                        "test": [
                          2861630.212
                        ]
                      },
                      {
                        "parameters": [
                          {
                            "l2_leaf_reg": 0.5,
                            "depth": 6,
                            "learning_rate": 0.1,
                            "iterations": 150
                          }
                        ],
                        "iteration": 88,
                        "remaining_time": 256.2857014,
                        "passed_time": 414.7168622,
                        "learn": [
                          2332064.688
                        ],
                        "test": [
                          2823600.455
                        ]
                      },
                      {
                        "parameters": [
                          {
                            "l2_leaf_reg": 0.5,
                            "depth": 6,
                            "learning_rate": 1,
                            "iterations": 150
                          }
                        ],
                        "iteration": 89,
                        "remaining_time": 254.8448128,
                        "passed_time": 424.7413547,
                        "learn": [
                          1338311.854
                        ],
                        "test": [
                          3462404.072
                        ]
                      },
                      {
                        "parameters": [
                          {
                            "l2_leaf_reg": 1,
                            "depth": 6,
                            "learning_rate": 0.03,
                            "iterations": 150
                          }
                        ],
                        "iteration": 90,
                        "remaining_time": 253.1595518,
                        "passed_time": 434.6701738,
                        "learn": [
                          2793576.291
                        ],
                        "test": [
                          2878098.248
                        ]
                      },
                      {
                        "parameters": [
                          {
                            "l2_leaf_reg": 1,
                            "depth": 6,
                            "learning_rate": 0.1,
                            "iterations": 150
                          }
                        ],
                        "iteration": 91,
                        "remaining_time": 251.2309688,
                        "passed_time": 444.4855603,
                        "learn": [
                          2360134.475
                        ],
                        "test": [
                          2773826.846
                        ]
                      },
                      {
                        "parameters": [
                          {
                            "l2_leaf_reg": 1,
                            "depth": 6,
                            "learning_rate": 1,
                            "iterations": 150
                          }
                        ],
                        "iteration": 92,
                        "remaining_time": 249.1777819,
                        "passed_time": 454.3830141,
                        "learn": [
                          1327790.82
                        ],
                        "test": [
                          3096662.707
                        ]
                      },
                      {
                        "parameters": [
                          {
                            "l2_leaf_reg": 3,
                            "depth": 6,
                            "learning_rate": 0.03,
                            "iterations": 150
                          }
                        ],
                        "iteration": 93,
                        "remaining_time": 246.9697894,
                        "passed_time": 464.3032041,
                        "learn": [
                          2845806.811
                        ],
                        "test": [
                          2881771.49
                        ]
                      },
                      {
                        "parameters": [
                          {
                            "l2_leaf_reg": 3,
                            "depth": 6,
                            "learning_rate": 0.1,
                            "iterations": 150
                          }
                        ],
                        "iteration": 94,
                        "remaining_time": 244.5966532,
                        "passed_time": 474.2180011,
                        "learn": [
                          2424176.866
                        ],
                        "test": [
                          2798237.791
                        ]
                      },
                      {
                        "parameters": [
                          {
                            "l2_leaf_reg": 3,
                            "depth": 6,
                            "learning_rate": 1,
                            "iterations": 150
                          }
                        ],
                        "iteration": 95,
                        "remaining_time": 242.1669481,
                        "passed_time": 484.3338962,
                        "learn": [
                          1377024.721
                        ],
                        "test": [
                          3119954.367
                        ]
                      },
                      {
                        "parameters": [
                          {
                            "l2_leaf_reg": 0.2,
                            "depth": 6,
                            "learning_rate": 0.03,
                            "iterations": 200
                          }
                        ],
                        "iteration": 96,
                        "remaining_time": 243.4979309,
                        "passed_time": 502.538283,
                        "learn": [
                          2656816.205
                        ],
                        "test": [
                          2865264.582
                        ]
                      },
                      {
                        "parameters": [
                          {
                            "l2_leaf_reg": 0.2,
                            "depth": 6,
                            "learning_rate": 0.1,
                            "iterations": 200
                          }
                        ],
                        "iteration": 97,
                        "remaining_time": 244.4535837,
                        "passed_time": 520.7924175,
                        "learn": [
                          2204830.98
                        ],
                        "test": [
                          2829580.297
                        ]
                      },
                      {
                        "parameters": [
                          {
                            "l2_leaf_reg": 0.2,
                            "depth": 6,
                            "learning_rate": 1,
                            "iterations": 200
                          }
                        ],
                        "iteration": 98,
                        "remaining_time": 245.0732938,
                        "passed_time": 539.1612463,
                        "learn": [
                          1099548.504
                        ],
                        "test": [
                          3233319.899
                        ]
                      },
                      {
                        "parameters": [
                          {
                            "l2_leaf_reg": 0.5,
                            "depth": 6,
                            "learning_rate": 0.03,
                            "iterations": 200
                          }
                        ],
                        "iteration": 99,
                        "remaining_time": 245.2689643,
                        "passed_time": 557.4294644,
                        "learn": [
                          2663700.393
                        ],
                        "test": [
                          2858516.353
                        ]
                      },
                      {
                        "parameters": [
                          {
                            "l2_leaf_reg": 0.5,
                            "depth": 6,
                            "learning_rate": 0.1,
                            "iterations": 200
                          }
                        ],
                        "iteration": 100,
                        "remaining_time": 245.0695723,
                        "passed_time": 575.6285303,
                        "learn": [
                          2218819.603
                        ],
                        "test": [
                          2775104.016
                        ]
                      },
                      {
                        "parameters": [
                          {
                            "l2_leaf_reg": 0.5,
                            "depth": 6,
                            "learning_rate": 1,
                            "iterations": 200
                          }
                        ],
                        "iteration": 101,
                        "remaining_time": 244.651702,
                        "passed_time": 594.1541333,
                        "learn": [
                          1121830.928
                        ],
                        "test": [
                          3233382.429
                        ]
                      },
                      {
                        "parameters": [
                          {
                            "l2_leaf_reg": 1,
                            "depth": 6,
                            "learning_rate": 0.03,
                            "iterations": 200
                          }
                        ],
                        "iteration": 102,
                        "remaining_time": 243.6995137,
                        "passed_time": 612.2207295,
                        "learn": [
                          2697220.464
                        ],
                        "test": [
                          2856661.93
                        ]
                      },
                      {
                        "parameters": [
                          {
                            "l2_leaf_reg": 1,
                            "depth": 6,
                            "learning_rate": 0.1,
                            "iterations": 200
                          }
                        ],
                        "iteration": 103,
                        "remaining_time": 242.3544555,
                        "passed_time": 630.1215843,
                        "learn": [
                          2262925.612
                        ],
                        "test": [
                          2797458.025
                        ]
                      },
                      {
                        "parameters": [
                          {
                            "l2_leaf_reg": 1,
                            "depth": 6,
                            "learning_rate": 1,
                            "iterations": 200
                          }
                        ],
                        "iteration": 104,
                        "remaining_time": 240.9324874,
                        "passed_time": 648.6643891,
                        "learn": [
                          1158615.229
                        ],
                        "test": [
                          3172785.112
                        ]
                      },
                      {
                        "parameters": [
                          {
                            "l2_leaf_reg": 3,
                            "depth": 6,
                            "learning_rate": 0.03,
                            "iterations": 200
                          }
                        ],
                        "iteration": 105,
                        "remaining_time": 239.0191766,
                        "passed_time": 666.7377032,
                        "learn": [
                          2749290.484
                        ],
                        "test": [
                          2853781.651
                        ]
                      },
                      {
                        "parameters": [
                          {
                            "l2_leaf_reg": 3,
                            "depth": 6,
                            "learning_rate": 0.1,
                            "iterations": 200
                          }
                        ],
                        "iteration": 106,
                        "remaining_time": 236.7698727,
                        "passed_time": 684.7128752,
                        "learn": [
                          2327622.013
                        ],
                        "test": [
                          2768464.208
                        ]
                      },
                      {
                        "parameters": [
                          {
                            "l2_leaf_reg": 3,
                            "depth": 6,
                            "learning_rate": 1,
                            "iterations": 200
                          }
                        ],
                        "iteration": 107,
                        "remaining_time": 234.2844306,
                        "passed_time": 702.8532919,
                        "learn": [
                          1234850.56
                        ],
                        "test": [
                          3115238.601
                        ]
                      },
                      {
                        "parameters": [
                          {
                            "l2_leaf_reg": 0.2,
                            "depth": 8,
                            "learning_rate": 0.03,
                            "iterations": 100
                          }
                        ],
                        "iteration": 108,
                        "remaining_time": 231.3540365,
                        "passed_time": 720.5025709,
                        "learn": [
                          2772987.605
                        ],
                        "test": [
                          2927804.697
                        ]
                      },
                      {
                        "parameters": [
                          {
                            "l2_leaf_reg": 0.2,
                            "depth": 8,
                            "learning_rate": 0.1,
                            "iterations": 100
                          }
                        ],
                        "iteration": 109,
                        "remaining_time": 228.1276214,
                        "passed_time": 738.0599515,
                        "learn": [
                          2217066.097
                        ],
                        "test": [
                          2839715.507
                        ]
                      },
                      {
                        "parameters": [
                          {
                            "l2_leaf_reg": 0.2,
                            "depth": 8,
                            "learning_rate": 1,
                            "iterations": 100
                          }
                        ],
                        "iteration": 110,
                        "remaining_time": 224.7065262,
                        "passed_time": 755.8310428,
                        "learn": [
                          967806.8726
                        ],
                        "test": [
                          3382868.144
                        ]
                      },
                      {
                        "parameters": [
                          {
                            "l2_leaf_reg": 0.5,
                            "depth": 8,
                            "learning_rate": 0.03,
                            "iterations": 100
                          }
                        ],
                        "iteration": 111,
                        "remaining_time": 220.9709797,
                        "passed_time": 773.398429,
                        "learn": [
                          2790747.789
                        ],
                        "test": [
                          2946028.539
                        ]
                      },
                      {
                        "parameters": [
                          {
                            "l2_leaf_reg": 0.5,
                            "depth": 8,
                            "learning_rate": 0.1,
                            "iterations": 100
                          }
                        ],
                        "iteration": 112,
                        "remaining_time": 217.0112834,
                        "passed_time": 791.0411298,
                        "learn": [
                          2250006.867
                        ],
                        "test": [
                          2818545.276
                        ]
                      },
                      {
                        "parameters": [
                          {
                            "l2_leaf_reg": 0.5,
                            "depth": 8,
                            "learning_rate": 1,
                            "iterations": 100
                          }
                        ],
                        "iteration": 113,
                        "remaining_time": 212.856553,
                        "passed_time": 808.8549015,
                        "learn": [
                          935385.3824
                        ],
                        "test": [
                          3328632.826
                        ]
                      },
                      {
                        "parameters": [
                          {
                            "l2_leaf_reg": 1,
                            "depth": 8,
                            "learning_rate": 0.03,
                            "iterations": 100
                          }
                        ],
                        "iteration": 114,
                        "remaining_time": 208.4025567,
                        "passed_time": 826.4239319,
                        "learn": [
                          2850360.194
                        ],
                        "test": [
                          2941002.052
                        ]
                      },
                      {
                        "parameters": [
                          {
                            "l2_leaf_reg": 1,
                            "depth": 8,
                            "learning_rate": 0.1,
                            "iterations": 100
                          }
                        ],
                        "iteration": 115,
                        "remaining_time": 203.736,
                        "passed_time": 844.0491428,
                        "learn": [
                          2282339.96
                        ],
                        "test": [
                          2787452.042
                        ]
                      },
                      {
                        "parameters": [
                          {
                            "l2_leaf_reg": 1,
                            "depth": 8,
                            "learning_rate": 1,
                            "iterations": 100
                          }
                        ],
                        "iteration": 116,
                        "remaining_time": 198.8777731,
                        "passed_time": 861.8036833,
                        "learn": [
                          1036320.316
                        ],
                        "test": [
                          3316196.704
                        ]
                      },
                      {
                        "parameters": [
                          {
                            "l2_leaf_reg": 3,
                            "depth": 8,
                            "learning_rate": 0.03,
                            "iterations": 100
                          }
                        ],
                        "iteration": 117,
                        "remaining_time": 193.7970599,
                        "passed_time": 879.5405027,
                        "learn": [
                          2950752.384
                        ],
                        "test": [
                          2993988.872
                        ]
                      },
                      {
                        "parameters": [
                          {
                            "l2_leaf_reg": 3,
                            "depth": 8,
                            "learning_rate": 0.1,
                            "iterations": 100
                          }
                        ],
                        "iteration": 118,
                        "remaining_time": 188.4704252,
                        "passed_time": 897.1192241,
                        "learn": [
                          2408464.855
                        ],
                        "test": [
                          2801281.581
                        ]
                      },
                      {
                        "parameters": [
                          {
                            "l2_leaf_reg": 3,
                            "depth": 8,
                            "learning_rate": 1,
                            "iterations": 100
                          }
                        ],
                        "iteration": 119,
                        "remaining_time": 183.0022683,
                        "passed_time": 915.0113416,
                        "learn": [
                          1112456.968
                        ],
                        "test": [
                          3243017.874
                        ]
                      },
                      {
                        "parameters": [
                          {
                            "l2_leaf_reg": 0.2,
                            "depth": 8,
                            "learning_rate": 0.03,
                            "iterations": 150
                          }
                        ],
                        "iteration": 120,
                        "remaining_time": 178.9418994,
                        "passed_time": 941.3899928,
                        "learn": [
                          2554242.107
                        ],
                        "test": [
                          2835898.999
                        ]
                      },
                      {
                        "parameters": [
                          {
                            "l2_leaf_reg": 0.2,
                            "depth": 8,
                            "learning_rate": 0.1,
                            "iterations": 150
                          }
                        ],
                        "iteration": 121,
                        "remaining_time": 174.5334,
                        "passed_time": 967.8670362,
                        "learn": [
                          1980624.459
                        ],
                        "test": [
                          2827618.016
                        ]
                      },
                      {
                        "parameters": [
                          {
                            "l2_leaf_reg": 0.2,
                            "depth": 8,
                            "learning_rate": 1,
                            "iterations": 150
                          }
                        ],
                        "iteration": 122,
                        "remaining_time": 169.8018362,
                        "passed_time": 994.5536121,
                        "learn": [
                          627524.1939
                        ],
                        "test": [
                          3382868.144
                        ]
                      },
                      {
                        "parameters": [
                          {
                            "l2_leaf_reg": 0.5,
                            "depth": 8,
                            "learning_rate": 0.03,
                            "iterations": 150
                          }
                        ],
                        "iteration": 123,
                        "remaining_time": 164.6587653,
                        "passed_time": 1020.884345,
                        "learn": [
                          2566509.048
                        ],
                        "test": [
                          2840593.067
                        ]
                      },
                      {
                        "parameters": [
                          {
                            "l2_leaf_reg": 0.5,
                            "depth": 8,
                            "learning_rate": 0.1,
                            "iterations": 150
                          }
                        ],
                        "iteration": 124,
                        "remaining_time": 159.1861009,
                        "passed_time": 1047.27698,
                        "learn": [
                          2013580.537
                        ],
                        "test": [
                          2804923.757
                        ]
                      },
                      {
                        "parameters": [
                          {
                            "l2_leaf_reg": 0.5,
                            "depth": 8,
                            "learning_rate": 1,
                            "iterations": 150
                          }
                        ],
                        "iteration": 125,
                        "remaining_time": 153.4192904,
                        "passed_time": 1073.935033,
                        "learn": [
                          638245.8045
                        ],
                        "test": [
                          3328632.826
                        ]
                      },
                      {
                        "parameters": [
                          {
                            "l2_leaf_reg": 1,
                            "depth": 8,
                            "learning_rate": 0.03,
                            "iterations": 150
                          }
                        ],
                        "iteration": 126,
                        "remaining_time": 147.30425,
                        "passed_time": 1100.449397,
                        "learn": [
                          2620851.003
                        ],
                        "test": [
                          2832359.494
                        ]
                      },
                      {
                        "parameters": [
                          {
                            "l2_leaf_reg": 1,
                            "depth": 8,
                            "learning_rate": 0.1,
                            "iterations": 150
                          }
                        ],
                        "iteration": 127,
                        "remaining_time": 140.8771712,
                        "passed_time": 1127.017369,
                        "learn": [
                          2074550.691
                        ],
                        "test": [
                          2768877.427
                        ]
                      },
                      {
                        "parameters": [
                          {
                            "l2_leaf_reg": 1,
                            "depth": 8,
                            "learning_rate": 1,
                            "iterations": 150
                          }
                        ],
                        "iteration": 128,
                        "remaining_time": 134.1642584,
                        "passed_time": 1153.812623,
                        "learn": [
                          689000.9278
                        ],
                        "test": [
                          3316196.704
                        ]
                      },
                      {
                        "parameters": [
                          {
                            "l2_leaf_reg": 3,
                            "depth": 8,
                            "learning_rate": 0.03,
                            "iterations": 150
                          }
                        ],
                        "iteration": 129,
                        "remaining_time": 127.1259778,
                        "passed_time": 1180.455508,
                        "learn": [
                          2709501.76
                        ],
                        "test": [
                          2861864.972
                        ]
                      },
                      {
                        "parameters": [
                          {
                            "l2_leaf_reg": 3,
                            "depth": 8,
                            "learning_rate": 0.1,
                            "iterations": 150
                          }
                        ],
                        "iteration": 130,
                        "remaining_time": 119.75658,
                        "passed_time": 1206.777845,
                        "learn": [
                          2199117.695
                        ],
                        "test": [
                          2784751.588
                        ]
                      },
                      {
                        "parameters": [
                          {
                            "l2_leaf_reg": 3,
                            "depth": 8,
                            "learning_rate": 1,
                            "iterations": 150
                          }
                        ],
                        "iteration": 131,
                        "remaining_time": 112.1500702,
                        "passed_time": 1233.650773,
                        "learn": [
                          776217.2968
                        ],
                        "test": [
                          3243017.874
                        ]
                      },
                      {
                        "parameters": [
                          {
                            "l2_leaf_reg": 0.2,
                            "depth": 8,
                            "learning_rate": 0.03,
                            "iterations": 200
                          }
                        ],
                        "iteration": 132,
                        "remaining_time": 105.6716537,
                        "passed_time": 1277.666358,
                        "learn": [
                          2439121.956
                        ],
                        "test": [
                          2828807.106
                        ]
                      },
                      {
                        "parameters": [
                          {
                            "l2_leaf_reg": 0.2,
                            "depth": 8,
                            "learning_rate": 0.1,
                            "iterations": 200
                          }
                        ],
                        "iteration": 133,
                        "remaining_time": 98.63430743,
                        "passed_time": 1321.69972,
                        "learn": [
                          1817724.522
                        ],
                        "test": [
                          2812545.757
                        ]
                      },
                      {
                        "parameters": [
                          {
                            "l2_leaf_reg": 0.2,
                            "depth": 8,
                            "learning_rate": 1,
                            "iterations": 200
                          }
                        ],
                        "iteration": 134,
                        "remaining_time": 91.06814564,
                        "passed_time": 1366.022185,
                        "learn": [
                          485441.5891
                        ],
                        "test": [
                          3511851.527
                        ]
                      },
                      {
                        "parameters": [
                          {
                            "l2_leaf_reg": 0.5,
                            "depth": 8,
                            "learning_rate": 0.03,
                            "iterations": 200
                          }
                        ],
                        "iteration": 135,
                        "remaining_time": 82.94123352,
                        "passed_time": 1410.00097,
                        "learn": [
                          2454215.174
                        ],
                        "test": [
                          2802965.936
                        ]
                      },
                      {
                        "parameters": [
                          {
                            "l2_leaf_reg": 0.5,
                            "depth": 8,
                            "learning_rate": 0.1,
                            "iterations": 200
                          }
                        ],
                        "iteration": 136,
                        "remaining_time": 74.29323406,
                        "passed_time": 1454.024724,
                        "learn": [
                          1894316.335
                        ],
                        "test": [
                          2853591.074
                        ]
                      },
                      {
                        "parameters": [
                          {
                            "l2_leaf_reg": 0.5,
                            "depth": 8,
                            "learning_rate": 1,
                            "iterations": 200
                          }
                        ],
                        "iteration": 137,
                        "remaining_time": 65.16117891,
                        "passed_time": 1498.707115,
                        "learn": [
                          518160.0802
                        ],
                        "test": [
                          3179036.4
                        ]
                      },
                      {
                        "parameters": [
                          {
                            "l2_leaf_reg": 1,
                            "depth": 8,
                            "learning_rate": 0.03,
                            "iterations": 200
                          }
                        ],
                        "iteration": 138,
                        "remaining_time": 55.48240549,
                        "passed_time": 1542.410873,
                        "learn": [
                          2510424.788
                        ],
                        "test": [
                          2806889.708
                        ]
                      },
                      {
                        "parameters": [
                          {
                            "l2_leaf_reg": 1,
                            "depth": 8,
                            "learning_rate": 0.1,
                            "iterations": 200
                          }
                        ],
                        "iteration": 139,
                        "remaining_time": 45.30986486,
                        "passed_time": 1585.84527,
                        "learn": [
                          1910742.718
                        ],
                        "test": [
                          2766999.799
                        ]
                      },
                      {
                        "parameters": [
                          {
                            "l2_leaf_reg": 1,
                            "depth": 8,
                            "learning_rate": 1,
                            "iterations": 200
                          }
                        ],
                        "iteration": 140,
                        "remaining_time": 34.6850544,
                        "passed_time": 1630.197557,
                        "learn": [
                          476863.9314
                        ],
                        "test": [
                          3251770.391
                        ]
                      },
                      {
                        "parameters": [
                          {
                            "l2_leaf_reg": 3,
                            "depth": 8,
                            "learning_rate": 0.03,
                            "iterations": 200
                          }
                        ],
                        "iteration": 141,
                        "remaining_time": 23.57776759,
                        "passed_time": 1674.021499,
                        "learn": [
                          2583680.866
                        ],
                        "test": [
                          2829124.685
                        ]
                      },
                      {
                        "parameters": [
                          {
                            "l2_leaf_reg": 3,
                            "depth": 8,
                            "learning_rate": 0.1,
                            "iterations": 200
                          }
                        ],
                        "iteration": 142,
                        "remaining_time": 12.01191813,
                        "passed_time": 1717.704293,
                        "learn": [
                          2051287.949
                        ],
                        "test": [
                          2796496.293
                        ]
                      },
                      {
                        "parameters": [
                          {
                            "l2_leaf_reg": 3,
                            "depth": 8,
                            "learning_rate": 1,
                            "iterations": 200
                          }
                        ],
                        "iteration": 143,
                        "remaining_time": 0,
                        "passed_time": 1762.445892,
                        "learn": [
                          617931.0356
                        ],
                        "test": [
                          3179696.245
                        ]
                      }
                    ]
                  },
                  "total_iterations": 144,
                  "passed_iterations": 143
                },
                "path": "catboost_info",
                "name": "catboost_info"
              }
            },
            "_view_module": "catboost-widget",
            "_model_module_version": "^1.0.0",
            "_view_count": null,
            "_view_module_version": "^1.0.0",
            "layout": "IPY_MODEL_cba3a4ff25cd4ccb822c4c104ce879f8",
            "_model_module": "catboost-widget"
          }
        },
        "be6c954ea57a48c4979f7e311017ae76": {
          "model_module": "catboost-widget",
          "model_name": "CatboostWidgetModel",
          "model_module_version": "^1.0.0",
          "state": {
            "_view_name": "CatboostWidgetView",
            "_dom_classes": [],
            "_model_name": "CatboostWidgetModel",
            "data": {
              "catboost_info": {
                "content": {
                  "data": {
                    "meta": {
                      "name": "experiment",
                      "parameters": "parameters",
                      "test_metrics": [
                        {
                          "best_value": "Min",
                          "name": "RMSE"
                        }
                      ],
                      "learn_sets": [
                        "learn"
                      ],
                      "launch_mode": "Train",
                      "learn_metrics": [
                        {
                          "best_value": "Min",
                          "name": "RMSE"
                        }
                      ],
                      "iteration_count": 144,
                      "test_sets": [
                        "test"
                      ]
                    },
                    "iterations": [
                      {
                        "parameters": [
                          {
                            "l2_leaf_reg": 0.2,
                            "depth": 2,
                            "learning_rate": 0.03,
                            "iterations": 100
                          }
                        ],
                        "iteration": 0,
                        "remaining_time": 165.4914237,
                        "passed_time": 1.157282683,
                        "learn": [
                          1975327.957
                        ],
                        "test": [
                          2586830.378
                        ]
                      },
                      {
                        "parameters": [
                          {
                            "l2_leaf_reg": 0.2,
                            "depth": 2,
                            "learning_rate": 0.1,
                            "iterations": 100
                          }
                        ],
                        "iteration": 1,
                        "remaining_time": 155.0489851,
                        "passed_time": 2.183788523,
                        "learn": [
                          1324182.751
                        ],
                        "test": [
                          2180312.832
                        ]
                      },
                      {
                        "parameters": [
                          {
                            "l2_leaf_reg": 0.2,
                            "depth": 2,
                            "learning_rate": 1,
                            "iterations": 100
                          }
                        ],
                        "iteration": 2,
                        "remaining_time": 150.9742572,
                        "passed_time": 3.212218238,
                        "learn": [
                          867227.982
                        ],
                        "test": [
                          1913656.627
                        ]
                      },
                      {
                        "parameters": [
                          {
                            "l2_leaf_reg": 0.5,
                            "depth": 2,
                            "learning_rate": 0.03,
                            "iterations": 100
                          }
                        ],
                        "iteration": 3,
                        "remaining_time": 149.2990845,
                        "passed_time": 4.265688129,
                        "learn": [
                          1967195.052
                        ],
                        "test": [
                          2564785.255
                        ]
                      },
                      {
                        "parameters": [
                          {
                            "l2_leaf_reg": 0.5,
                            "depth": 2,
                            "learning_rate": 0.1,
                            "iterations": 100
                          }
                        ],
                        "iteration": 4,
                        "remaining_time": 146.7084515,
                        "passed_time": 5.277282429,
                        "learn": [
                          1344402.971
                        ],
                        "test": [
                          2223984.04
                        ]
                      },
                      {
                        "parameters": [
                          {
                            "l2_leaf_reg": 0.5,
                            "depth": 2,
                            "learning_rate": 1,
                            "iterations": 100
                          }
                        ],
                        "iteration": 5,
                        "remaining_time": 145.5209571,
                        "passed_time": 6.326998135,
                        "learn": [
                          823793.7509
                        ],
                        "test": [
                          2090475.601
                        ]
                      },
                      {
                        "parameters": [
                          {
                            "l2_leaf_reg": 1,
                            "depth": 2,
                            "learning_rate": 0.03,
                            "iterations": 100
                          }
                        ],
                        "iteration": 6,
                        "remaining_time": 144.1221146,
                        "passed_time": 7.363903665,
                        "learn": [
                          1969129.18
                        ],
                        "test": [
                          2577061.978
                        ]
                      },
                      {
                        "parameters": [
                          {
                            "l2_leaf_reg": 1,
                            "depth": 2,
                            "learning_rate": 0.1,
                            "iterations": 100
                          }
                        ],
                        "iteration": 7,
                        "remaining_time": 143.7303744,
                        "passed_time": 8.454727908,
                        "learn": [
                          1356588.994
                        ],
                        "test": [
                          2210130.586
                        ]
                      },
                      {
                        "parameters": [
                          {
                            "l2_leaf_reg": 1,
                            "depth": 2,
                            "learning_rate": 1,
                            "iterations": 100
                          }
                        ],
                        "iteration": 8,
                        "remaining_time": 142.7541617,
                        "passed_time": 9.51694411,
                        "learn": [
                          854851.0617
                        ],
                        "test": [
                          1919285.555
                        ]
                      },
                      {
                        "parameters": [
                          {
                            "l2_leaf_reg": 3,
                            "depth": 2,
                            "learning_rate": 0.03,
                            "iterations": 100
                          }
                        ],
                        "iteration": 9,
                        "remaining_time": 141.6177547,
                        "passed_time": 10.56848915,
                        "learn": [
                          2023077.647
                        ],
                        "test": [
                          2612381.345
                        ]
                      },
                      {
                        "parameters": [
                          {
                            "l2_leaf_reg": 3,
                            "depth": 2,
                            "learning_rate": 0.1,
                            "iterations": 100
                          }
                        ],
                        "iteration": 10,
                        "remaining_time": 140.469378,
                        "passed_time": 11.6177681,
                        "learn": [
                          1406621.566
                        ],
                        "test": [
                          2194168.118
                        ]
                      },
                      {
                        "parameters": [
                          {
                            "l2_leaf_reg": 3,
                            "depth": 2,
                            "learning_rate": 1,
                            "iterations": 100
                          }
                        ],
                        "iteration": 11,
                        "remaining_time": 138.8839327,
                        "passed_time": 12.62581207,
                        "learn": [
                          930056.6189
                        ],
                        "test": [
                          2172811.18
                        ]
                      },
                      {
                        "parameters": [
                          {
                            "l2_leaf_reg": 0.2,
                            "depth": 2,
                            "learning_rate": 0.03,
                            "iterations": 150
                          }
                        ],
                        "iteration": 12,
                        "remaining_time": 142.5454723,
                        "passed_time": 14.14573389,
                        "learn": [
                          1680369.981
                        ],
                        "test": [
                          2353641.741
                        ]
                      },
                      {
                        "parameters": [
                          {
                            "l2_leaf_reg": 0.2,
                            "depth": 2,
                            "learning_rate": 0.1,
                            "iterations": 150
                          }
                        ],
                        "iteration": 13,
                        "remaining_time": 145.2678828,
                        "passed_time": 15.64423353,
                        "learn": [
                          1185122.411
                        ],
                        "test": [
                          2117161.287
                        ]
                      },
                      {
                        "parameters": [
                          {
                            "l2_leaf_reg": 0.2,
                            "depth": 2,
                            "learning_rate": 1,
                            "iterations": 150
                          }
                        ],
                        "iteration": 14,
                        "remaining_time": 147.6450202,
                        "passed_time": 17.16802561,
                        "learn": [
                          773807.2801
                        ],
                        "test": [
                          1910403.891
                        ]
                      },
                      {
                        "parameters": [
                          {
                            "l2_leaf_reg": 0.5,
                            "depth": 2,
                            "learning_rate": 0.03,
                            "iterations": 150
                          }
                        ],
                        "iteration": 15,
                        "remaining_time": 149.9391186,
                        "passed_time": 18.74238982,
                        "learn": [
                          1674968.025
                        ],
                        "test": [
                          2328118.948
                        ]
                      },
                      {
                        "parameters": [
                          {
                            "l2_leaf_reg": 0.5,
                            "depth": 2,
                            "learning_rate": 0.1,
                            "iterations": 150
                          }
                        ],
                        "iteration": 16,
                        "remaining_time": 151.3184404,
                        "passed_time": 20.25522431,
                        "learn": [
                          1206828.209
                        ],
                        "test": [
                          2178887.695
                        ]
                      },
                      {
                        "parameters": [
                          {
                            "l2_leaf_reg": 0.5,
                            "depth": 2,
                            "learning_rate": 1,
                            "iterations": 150
                          }
                        ],
                        "iteration": 17,
                        "remaining_time": 152.3102039,
                        "passed_time": 21.75860056,
                        "learn": [
                          731490.7994
                        ],
                        "test": [
                          2090475.601
                        ]
                      },
                      {
                        "parameters": [
                          {
                            "l2_leaf_reg": 1,
                            "depth": 2,
                            "learning_rate": 0.03,
                            "iterations": 150
                          }
                        ],
                        "iteration": 18,
                        "remaining_time": 153.3601691,
                        "passed_time": 23.31074571,
                        "learn": [
                          1671127.65
                        ],
                        "test": [
                          2348492.801
                        ]
                      },
                      {
                        "parameters": [
                          {
                            "l2_leaf_reg": 1,
                            "depth": 2,
                            "learning_rate": 0.1,
                            "iterations": 150
                          }
                        ],
                        "iteration": 19,
                        "remaining_time": 153.729526,
                        "passed_time": 24.79508483,
                        "learn": [
                          1226153.357
                        ],
                        "test": [
                          2187649.531
                        ]
                      },
                      {
                        "parameters": [
                          {
                            "l2_leaf_reg": 1,
                            "depth": 2,
                            "learning_rate": 1,
                            "iterations": 150
                          }
                        ],
                        "iteration": 20,
                        "remaining_time": 154.0685676,
                        "passed_time": 26.30438958,
                        "learn": [
                          766579.702
                        ],
                        "test": [
                          1918886.522
                        ]
                      },
                      {
                        "parameters": [
                          {
                            "l2_leaf_reg": 3,
                            "depth": 2,
                            "learning_rate": 0.03,
                            "iterations": 150
                          }
                        ],
                        "iteration": 21,
                        "remaining_time": 154.5577063,
                        "passed_time": 27.8710618,
                        "learn": [
                          1714602.982
                        ],
                        "test": [
                          2380520.122
                        ]
                      },
                      {
                        "parameters": [
                          {
                            "l2_leaf_reg": 3,
                            "depth": 2,
                            "learning_rate": 0.1,
                            "iterations": 150
                          }
                        ],
                        "iteration": 22,
                        "remaining_time": 154.5743068,
                        "passed_time": 29.38189302,
                        "learn": [
                          1276818.508
                        ],
                        "test": [
                          2130421.925
                        ]
                      },
                      {
                        "parameters": [
                          {
                            "l2_leaf_reg": 3,
                            "depth": 2,
                            "learning_rate": 1,
                            "iterations": 150
                          }
                        ],
                        "iteration": 23,
                        "remaining_time": 154.3589629,
                        "passed_time": 30.87179258,
                        "learn": [
                          805459.6025
                        ],
                        "test": [
                          2159970.682
                        ]
                      },
                      {
                        "parameters": [
                          {
                            "l2_leaf_reg": 0.2,
                            "depth": 2,
                            "learning_rate": 0.03,
                            "iterations": 200
                          }
                        ],
                        "iteration": 24,
                        "remaining_time": 158.3216278,
                        "passed_time": 33.26084618,
                        "learn": [
                          1540593.807
                        ],
                        "test": [
                          2241533.196
                        ]
                      },
                      {
                        "parameters": [
                          {
                            "l2_leaf_reg": 0.2,
                            "depth": 2,
                            "learning_rate": 0.1,
                            "iterations": 200
                          }
                        ],
                        "iteration": 25,
                        "remaining_time": 161.6005292,
                        "passed_time": 35.60689626,
                        "learn": [
                          1118788.928
                        ],
                        "test": [
                          1997064.435
                        ]
                      },
                      {
                        "parameters": [
                          {
                            "l2_leaf_reg": 0.2,
                            "depth": 2,
                            "learning_rate": 1,
                            "iterations": 200
                          }
                        ],
                        "iteration": 26,
                        "remaining_time": 164.702849,
                        "passed_time": 38.00834977,
                        "learn": [
                          711373.1827
                        ],
                        "test": [
                          2011986.048
                        ]
                      },
                      {
                        "parameters": [
                          {
                            "l2_leaf_reg": 0.5,
                            "depth": 2,
                            "learning_rate": 0.03,
                            "iterations": 200
                          }
                        ],
                        "iteration": 27,
                        "remaining_time": 167.5492375,
                        "passed_time": 40.44291939,
                        "learn": [
                          1557433.026
                        ],
                        "test": [
                          2258825.749
                        ]
                      },
                      {
                        "parameters": [
                          {
                            "l2_leaf_reg": 0.5,
                            "depth": 2,
                            "learning_rate": 0.1,
                            "iterations": 200
                          }
                        ],
                        "iteration": 28,
                        "remaining_time": 169.8262788,
                        "passed_time": 42.82575725,
                        "learn": [
                          1122235.489
                        ],
                        "test": [
                          2023704.764
                        ]
                      },
                      {
                        "parameters": [
                          {
                            "l2_leaf_reg": 0.5,
                            "depth": 2,
                            "learning_rate": 1,
                            "iterations": 200
                          }
                        ],
                        "iteration": 29,
                        "remaining_time": 171.730005,
                        "passed_time": 45.19210659,
                        "learn": [
                          714248.2157
                        ],
                        "test": [
                          1921509.99
                        ]
                      },
                      {
                        "parameters": [
                          {
                            "l2_leaf_reg": 1,
                            "depth": 2,
                            "learning_rate": 0.03,
                            "iterations": 200
                          }
                        ],
                        "iteration": 30,
                        "remaining_time": 173.5499254,
                        "passed_time": 47.61104148,
                        "learn": [
                          1549144.103
                        ],
                        "test": [
                          2263155.98
                        ]
                      },
                      {
                        "parameters": [
                          {
                            "l2_leaf_reg": 1,
                            "depth": 2,
                            "learning_rate": 0.1,
                            "iterations": 200
                          }
                        ],
                        "iteration": 31,
                        "remaining_time": 175.0607828,
                        "passed_time": 50.01736653,
                        "learn": [
                          1142894.193
                        ],
                        "test": [
                          2100694.268
                        ]
                      },
                      {
                        "parameters": [
                          {
                            "l2_leaf_reg": 1,
                            "depth": 2,
                            "learning_rate": 1,
                            "iterations": 200
                          }
                        ],
                        "iteration": 32,
                        "remaining_time": 176.5200837,
                        "passed_time": 52.47894379,
                        "learn": [
                          702402.7761
                        ],
                        "test": [
                          2100860.972
                        ]
                      },
                      {
                        "parameters": [
                          {
                            "l2_leaf_reg": 3,
                            "depth": 2,
                            "learning_rate": 0.03,
                            "iterations": 200
                          }
                        ],
                        "iteration": 33,
                        "remaining_time": 177.6857601,
                        "passed_time": 54.92105312,
                        "learn": [
                          1577887.207
                        ],
                        "test": [
                          2302049.21
                        ]
                      },
                      {
                        "parameters": [
                          {
                            "l2_leaf_reg": 3,
                            "depth": 2,
                            "learning_rate": 0.1,
                            "iterations": 200
                          }
                        ],
                        "iteration": 34,
                        "remaining_time": 178.519916,
                        "passed_time": 57.32290881,
                        "learn": [
                          1187894.191
                        ],
                        "test": [
                          2117287.304
                        ]
                      },
                      {
                        "parameters": [
                          {
                            "l2_leaf_reg": 3,
                            "depth": 2,
                            "learning_rate": 1,
                            "iterations": 200
                          }
                        ],
                        "iteration": 35,
                        "remaining_time": 179.0694921,
                        "passed_time": 59.68983068,
                        "learn": [
                          743954.5862
                        ],
                        "test": [
                          2021472.066
                        ]
                      },
                      {
                        "parameters": [
                          {
                            "l2_leaf_reg": 0.2,
                            "depth": 4,
                            "learning_rate": 0.03,
                            "iterations": 100
                          }
                        ],
                        "iteration": 36,
                        "remaining_time": 178.9801055,
                        "passed_time": 61.89031685,
                        "learn": [
                          1595729.91
                        ],
                        "test": [
                          2364139.079
                        ]
                      },
                      {
                        "parameters": [
                          {
                            "l2_leaf_reg": 0.2,
                            "depth": 4,
                            "learning_rate": 0.1,
                            "iterations": 100
                          }
                        ],
                        "iteration": 37,
                        "remaining_time": 178.7051045,
                        "passed_time": 64.06409406,
                        "learn": [
                          1047934.295
                        ],
                        "test": [
                          2082448.514
                        ]
                      },
                      {
                        "parameters": [
                          {
                            "l2_leaf_reg": 0.2,
                            "depth": 4,
                            "learning_rate": 1,
                            "iterations": 100
                          }
                        ],
                        "iteration": 38,
                        "remaining_time": 178.2814607,
                        "passed_time": 66.21882826,
                        "learn": [
                          508516.3941
                        ],
                        "test": [
                          2187727.516
                        ]
                      },
                      {
                        "parameters": [
                          {
                            "l2_leaf_reg": 0.5,
                            "depth": 4,
                            "learning_rate": 0.03,
                            "iterations": 100
                          }
                        ],
                        "iteration": 39,
                        "remaining_time": 177.8887828,
                        "passed_time": 68.41876262,
                        "learn": [
                          1604200.488
                        ],
                        "test": [
                          2377393.044
                        ]
                      },
                      {
                        "parameters": [
                          {
                            "l2_leaf_reg": 0.5,
                            "depth": 4,
                            "learning_rate": 0.1,
                            "iterations": 100
                          }
                        ],
                        "iteration": 40,
                        "remaining_time": 177.2852679,
                        "passed_time": 70.56986391,
                        "learn": [
                          1053668.893
                        ],
                        "test": [
                          2037852.364
                        ]
                      },
                      {
                        "parameters": [
                          {
                            "l2_leaf_reg": 0.5,
                            "depth": 4,
                            "learning_rate": 1,
                            "iterations": 100
                          }
                        ],
                        "iteration": 41,
                        "remaining_time": 176.5832756,
                        "passed_time": 72.71076053,
                        "learn": [
                          557384.136
                        ],
                        "test": [
                          2047855.47
                        ]
                      },
                      {
                        "parameters": [
                          {
                            "l2_leaf_reg": 1,
                            "depth": 4,
                            "learning_rate": 0.03,
                            "iterations": 100
                          }
                        ],
                        "iteration": 42,
                        "remaining_time": 175.876304,
                        "passed_time": 74.8780304,
                        "learn": [
                          1620501.308
                        ],
                        "test": [
                          2382252.023
                        ]
                      },
                      {
                        "parameters": [
                          {
                            "l2_leaf_reg": 1,
                            "depth": 4,
                            "learning_rate": 0.1,
                            "iterations": 100
                          }
                        ],
                        "iteration": 43,
                        "remaining_time": 174.9388093,
                        "passed_time": 76.9730761,
                        "learn": [
                          1080694.741
                        ],
                        "test": [
                          2040753.047
                        ]
                      },
                      {
                        "parameters": [
                          {
                            "l2_leaf_reg": 1,
                            "depth": 4,
                            "learning_rate": 1,
                            "iterations": 100
                          }
                        ],
                        "iteration": 44,
                        "remaining_time": 174.0314189,
                        "passed_time": 79.10519041,
                        "learn": [
                          552302.1778
                        ],
                        "test": [
                          2151473.303
                        ]
                      },
                      {
                        "parameters": [
                          {
                            "l2_leaf_reg": 3,
                            "depth": 4,
                            "learning_rate": 0.03,
                            "iterations": 100
                          }
                        ],
                        "iteration": 45,
                        "remaining_time": 173.1813295,
                        "passed_time": 81.28919547,
                        "learn": [
                          1663621.158
                        ],
                        "test": [
                          2410052.738
                        ]
                      },
                      {
                        "parameters": [
                          {
                            "l2_leaf_reg": 3,
                            "depth": 4,
                            "learning_rate": 0.1,
                            "iterations": 100
                          }
                        ],
                        "iteration": 46,
                        "remaining_time": 172.1473252,
                        "passed_time": 83.41159058,
                        "learn": [
                          1132635.311
                        ],
                        "test": [
                          2018185.456
                        ]
                      },
                      {
                        "parameters": [
                          {
                            "l2_leaf_reg": 3,
                            "depth": 4,
                            "learning_rate": 1,
                            "iterations": 100
                          }
                        ],
                        "iteration": 47,
                        "remaining_time": 171.1183966,
                        "passed_time": 85.55919829,
                        "learn": [
                          569060.8933
                        ],
                        "test": [
                          1924506.513
                        ]
                      },
                      {
                        "parameters": [
                          {
                            "l2_leaf_reg": 0.2,
                            "depth": 4,
                            "learning_rate": 0.03,
                            "iterations": 150
                          }
                        ],
                        "iteration": 48,
                        "remaining_time": 172.1442739,
                        "passed_time": 88.79020444,
                        "learn": [
                          1328429.175
                        ],
                        "test": [
                          2215067.525
                        ]
                      },
                      {
                        "parameters": [
                          {
                            "l2_leaf_reg": 0.2,
                            "depth": 4,
                            "learning_rate": 0.1,
                            "iterations": 150
                          }
                        ],
                        "iteration": 49,
                        "remaining_time": 172.9160484,
                        "passed_time": 91.97662151,
                        "learn": [
                          908495.1302
                        ],
                        "test": [
                          2042303.51
                        ]
                      },
                      {
                        "parameters": [
                          {
                            "l2_leaf_reg": 0.2,
                            "depth": 4,
                            "learning_rate": 1,
                            "iterations": 150
                          }
                        ],
                        "iteration": 50,
                        "remaining_time": 173.5741857,
                        "passed_time": 95.18584375,
                        "learn": [
                          438547.6179
                        ],
                        "test": [
                          2187727.516
                        ]
                      },
                      {
                        "parameters": [
                          {
                            "l2_leaf_reg": 0.5,
                            "depth": 4,
                            "learning_rate": 0.03,
                            "iterations": 150
                          }
                        ],
                        "iteration": 51,
                        "remaining_time": 174.1523301,
                        "passed_time": 98.43392572,
                        "learn": [
                          1341336.189
                        ],
                        "test": [
                          2226640.522
                        ]
                      },
                      {
                        "parameters": [
                          {
                            "l2_leaf_reg": 0.5,
                            "depth": 4,
                            "learning_rate": 0.1,
                            "iterations": 150
                          }
                        ],
                        "iteration": 52,
                        "remaining_time": 174.47614,
                        "passed_time": 101.6179716,
                        "learn": [
                          913656.7056
                        ],
                        "test": [
                          1991686.833
                        ]
                      },
                      {
                        "parameters": [
                          {
                            "l2_leaf_reg": 0.5,
                            "depth": 4,
                            "learning_rate": 1,
                            "iterations": 150
                          }
                        ],
                        "iteration": 53,
                        "remaining_time": 174.7196437,
                        "passed_time": 104.8317862,
                        "learn": [
                          447708.6103
                        ],
                        "test": [
                          2047855.47
                        ]
                      },
                      {
                        "parameters": [
                          {
                            "l2_leaf_reg": 1,
                            "depth": 4,
                            "learning_rate": 0.03,
                            "iterations": 150
                          }
                        ],
                        "iteration": 54,
                        "remaining_time": 174.8916627,
                        "passed_time": 108.0791174,
                        "learn": [
                          1359368.606
                        ],
                        "test": [
                          2215747.084
                        ]
                      },
                      {
                        "parameters": [
                          {
                            "l2_leaf_reg": 1,
                            "depth": 4,
                            "learning_rate": 0.1,
                            "iterations": 150
                          }
                        ],
                        "iteration": 55,
                        "remaining_time": 174.8715058,
                        "passed_time": 111.2818673,
                        "learn": [
                          950128.3916
                        ],
                        "test": [
                          2025970.788
                        ]
                      },
                      {
                        "parameters": [
                          {
                            "l2_leaf_reg": 1,
                            "depth": 4,
                            "learning_rate": 1,
                            "iterations": 150
                          }
                        ],
                        "iteration": 56,
                        "remaining_time": 174.8309087,
                        "passed_time": 114.5443885,
                        "learn": [
                          466316.3425
                        ],
                        "test": [
                          2151473.303
                        ]
                      },
                      {
                        "parameters": [
                          {
                            "l2_leaf_reg": 3,
                            "depth": 4,
                            "learning_rate": 0.03,
                            "iterations": 150
                          }
                        ],
                        "iteration": 57,
                        "remaining_time": 174.753751,
                        "passed_time": 117.8571809,
                        "learn": [
                          1408591.704
                        ],
                        "test": [
                          2232623.678
                        ]
                      },
                      {
                        "parameters": [
                          {
                            "l2_leaf_reg": 3,
                            "depth": 4,
                            "learning_rate": 0.1,
                            "iterations": 150
                          }
                        ],
                        "iteration": 58,
                        "remaining_time": 174.4082626,
                        "passed_time": 121.0598529,
                        "learn": [
                          1005275.386
                        ],
                        "test": [
                          1935897.678
                        ]
                      },
                      {
                        "parameters": [
                          {
                            "l2_leaf_reg": 3,
                            "depth": 4,
                            "learning_rate": 1,
                            "iterations": 150
                          }
                        ],
                        "iteration": 59,
                        "remaining_time": 173.9758878,
                        "passed_time": 124.2684913,
                        "learn": [
                          481793.2675
                        ],
                        "test": [
                          1924506.513
                        ]
                      },
                      {
                        "parameters": [
                          {
                            "l2_leaf_reg": 0.2,
                            "depth": 4,
                            "learning_rate": 0.03,
                            "iterations": 200
                          }
                        ],
                        "iteration": 60,
                        "remaining_time": 176.8655428,
                        "passed_time": 129.9855194,
                        "learn": [
                          1211466.516
                        ],
                        "test": [
                          2105160.077
                        ]
                      },
                      {
                        "parameters": [
                          {
                            "l2_leaf_reg": 0.2,
                            "depth": 4,
                            "learning_rate": 0.1,
                            "iterations": 200
                          }
                        ],
                        "iteration": 61,
                        "remaining_time": 179.2705208,
                        "passed_time": 135.5460035,
                        "learn": [
                          825549.5119
                        ],
                        "test": [
                          2057298.522
                        ]
                      },
                      {
                        "parameters": [
                          {
                            "l2_leaf_reg": 0.2,
                            "depth": 4,
                            "learning_rate": 1,
                            "iterations": 200
                          }
                        ],
                        "iteration": 62,
                        "remaining_time": 181.5816394,
                        "passed_time": 141.230164,
                        "learn": [
                          393550.4401
                        ],
                        "test": [
                          2144604.332
                        ]
                      },
                      {
                        "parameters": [
                          {
                            "l2_leaf_reg": 0.5,
                            "depth": 4,
                            "learning_rate": 0.03,
                            "iterations": 200
                          }
                        ],
                        "iteration": 63,
                        "remaining_time": 183.6248104,
                        "passed_time": 146.8998483,
                        "learn": [
                          1228488.111
                        ],
                        "test": [
                          2115021.978
                        ]
                      },
                      {
                        "parameters": [
                          {
                            "l2_leaf_reg": 0.5,
                            "depth": 4,
                            "learning_rate": 0.1,
                            "iterations": 200
                          }
                        ],
                        "iteration": 64,
                        "remaining_time": 185.4112603,
                        "passed_time": 152.5535686,
                        "learn": [
                          835672.5968
                        ],
                        "test": [
                          1911444.259
                        ]
                      },
                      {
                        "parameters": [
                          {
                            "l2_leaf_reg": 0.5,
                            "depth": 4,
                            "learning_rate": 1,
                            "iterations": 200
                          }
                        ],
                        "iteration": 65,
                        "remaining_time": 186.8851551,
                        "passed_time": 158.1335928,
                        "learn": [
                          397665.9059
                        ],
                        "test": [
                          2213279.772
                        ]
                      },
                      {
                        "parameters": [
                          {
                            "l2_leaf_reg": 1,
                            "depth": 4,
                            "learning_rate": 0.03,
                            "iterations": 200
                          }
                        ],
                        "iteration": 66,
                        "remaining_time": 188.3211576,
                        "passed_time": 163.8638644,
                        "learn": [
                          1252779.131
                        ],
                        "test": [
                          2142831.418
                        ]
                      },
                      {
                        "parameters": [
                          {
                            "l2_leaf_reg": 1,
                            "depth": 4,
                            "learning_rate": 0.1,
                            "iterations": 200
                          }
                        ],
                        "iteration": 67,
                        "remaining_time": 189.4005417,
                        "passed_time": 169.4636426,
                        "learn": [
                          859101.8385
                        ],
                        "test": [
                          1928469.824
                        ]
                      },
                      {
                        "parameters": [
                          {
                            "l2_leaf_reg": 1,
                            "depth": 4,
                            "learning_rate": 1,
                            "iterations": 200
                          }
                        ],
                        "iteration": 68,
                        "remaining_time": 190.4912585,
                        "passed_time": 175.2519579,
                        "learn": [
                          417800.7629
                        ],
                        "test": [
                          2204850.445
                        ]
                      },
                      {
                        "parameters": [
                          {
                            "l2_leaf_reg": 3,
                            "depth": 4,
                            "learning_rate": 0.03,
                            "iterations": 200
                          }
                        ],
                        "iteration": 69,
                        "remaining_time": 191.3477461,
                        "passed_time": 181.0046247,
                        "learn": [
                          1295333.131
                        ],
                        "test": [
                          2135972.964
                        ]
                      },
                      {
                        "parameters": [
                          {
                            "l2_leaf_reg": 3,
                            "depth": 4,
                            "learning_rate": 0.1,
                            "iterations": 200
                          }
                        ],
                        "iteration": 70,
                        "remaining_time": 191.9033721,
                        "passed_time": 186.6457454,
                        "learn": [
                          936668.2577
                        ],
                        "test": [
                          1926036.686
                        ]
                      },
                      {
                        "parameters": [
                          {
                            "l2_leaf_reg": 3,
                            "depth": 4,
                            "learning_rate": 1,
                            "iterations": 200
                          }
                        ],
                        "iteration": 71,
                        "remaining_time": 192.3240962,
                        "passed_time": 192.3240962,
                        "learn": [
                          430718.4632
                        ],
                        "test": [
                          2284480.027
                        ]
                      },
                      {
                        "parameters": [
                          {
                            "l2_leaf_reg": 0.2,
                            "depth": 6,
                            "learning_rate": 0.03,
                            "iterations": 100
                          }
                        ],
                        "iteration": 72,
                        "remaining_time": 191.9416882,
                        "passed_time": 197.3484964,
                        "learn": [
                          1382583.059
                        ],
                        "test": [
                          2169406.225
                        ]
                      },
                      {
                        "parameters": [
                          {
                            "l2_leaf_reg": 0.2,
                            "depth": 6,
                            "learning_rate": 0.1,
                            "iterations": 100
                          }
                        ],
                        "iteration": 73,
                        "remaining_time": 191.4381707,
                        "passed_time": 202.3774947,
                        "learn": [
                          839916.4735
                        ],
                        "test": [
                          1845975.663
                        ]
                      },
                      {
                        "parameters": [
                          {
                            "l2_leaf_reg": 0.2,
                            "depth": 6,
                            "learning_rate": 1,
                            "iterations": 100
                          }
                        ],
                        "iteration": 74,
                        "remaining_time": 190.7540051,
                        "passed_time": 207.3413099,
                        "learn": [
                          360459.8236
                        ],
                        "test": [
                          2388830.014
                        ]
                      },
                      {
                        "parameters": [
                          {
                            "l2_leaf_reg": 0.5,
                            "depth": 6,
                            "learning_rate": 0.03,
                            "iterations": 100
                          }
                        ],
                        "iteration": 75,
                        "remaining_time": 189.964778,
                        "passed_time": 212.3135754,
                        "learn": [
                          1413445.006
                        ],
                        "test": [
                          2257549.897
                        ]
                      },
                      {
                        "parameters": [
                          {
                            "l2_leaf_reg": 0.5,
                            "depth": 6,
                            "learning_rate": 0.1,
                            "iterations": 100
                          }
                        ],
                        "iteration": 76,
                        "remaining_time": 188.9914476,
                        "passed_time": 217.1991263,
                        "learn": [
                          870512.3343
                        ],
                        "test": [
                          1955108.898
                        ]
                      },
                      {
                        "parameters": [
                          {
                            "l2_leaf_reg": 0.5,
                            "depth": 6,
                            "learning_rate": 1,
                            "iterations": 100
                          }
                        ],
                        "iteration": 77,
                        "remaining_time": 187.9645019,
                        "passed_time": 222.1398659,
                        "learn": [
                          342915.2877
                        ],
                        "test": [
                          2206680.022
                        ]
                      },
                      {
                        "parameters": [
                          {
                            "l2_leaf_reg": 1,
                            "depth": 6,
                            "learning_rate": 0.03,
                            "iterations": 100
                          }
                        ],
                        "iteration": 78,
                        "remaining_time": 186.8829772,
                        "passed_time": 227.1346954,
                        "learn": [
                          1438627.626
                        ],
                        "test": [
                          2226876.011
                        ]
                      },
                      {
                        "parameters": [
                          {
                            "l2_leaf_reg": 1,
                            "depth": 6,
                            "learning_rate": 0.1,
                            "iterations": 100
                          }
                        ],
                        "iteration": 79,
                        "remaining_time": 185.6768269,
                        "passed_time": 232.0960336,
                        "learn": [
                          904340.2208
                        ],
                        "test": [
                          1928082.206
                        ]
                      },
                      {
                        "parameters": [
                          {
                            "l2_leaf_reg": 1,
                            "depth": 6,
                            "learning_rate": 1,
                            "iterations": 100
                          }
                        ],
                        "iteration": 80,
                        "remaining_time": 184.3837456,
                        "passed_time": 237.0648158,
                        "learn": [
                          359078.6231
                        ],
                        "test": [
                          2004434.539
                        ]
                      },
                      {
                        "parameters": [
                          {
                            "l2_leaf_reg": 3,
                            "depth": 6,
                            "learning_rate": 0.03,
                            "iterations": 100
                          }
                        ],
                        "iteration": 81,
                        "remaining_time": 183.0261692,
                        "passed_time": 242.0668689,
                        "learn": [
                          1511159.511
                        ],
                        "test": [
                          2308472.009
                        ]
                      },
                      {
                        "parameters": [
                          {
                            "l2_leaf_reg": 3,
                            "depth": 6,
                            "learning_rate": 0.1,
                            "iterations": 100
                          }
                        ],
                        "iteration": 82,
                        "remaining_time": 181.4993525,
                        "passed_time": 246.9581354,
                        "learn": [
                          997463.0468
                        ],
                        "test": [
                          1959609.347
                        ]
                      },
                      {
                        "parameters": [
                          {
                            "l2_leaf_reg": 3,
                            "depth": 6,
                            "learning_rate": 1,
                            "iterations": 100
                          }
                        ],
                        "iteration": 83,
                        "remaining_time": 179.9275303,
                        "passed_time": 251.8985425,
                        "learn": [
                          414340.3968
                        ],
                        "test": [
                          2188261.772
                        ]
                      },
                      {
                        "parameters": [
                          {
                            "l2_leaf_reg": 0.2,
                            "depth": 6,
                            "learning_rate": 0.03,
                            "iterations": 150
                          }
                        ],
                        "iteration": 84,
                        "remaining_time": 179.9936589,
                        "passed_time": 259.3128984,
                        "learn": [
                          1134763.091
                        ],
                        "test": [
                          2031944.539
                        ]
                      },
                      {
                        "parameters": [
                          {
                            "l2_leaf_reg": 0.2,
                            "depth": 6,
                            "learning_rate": 0.1,
                            "iterations": 150
                          }
                        ],
                        "iteration": 85,
                        "remaining_time": 179.8248655,
                        "passed_time": 266.6368695,
                        "learn": [
                          692426.1698
                        ],
                        "test": [
                          1827802.657
                        ]
                      },
                      {
                        "parameters": [
                          {
                            "l2_leaf_reg": 0.2,
                            "depth": 6,
                            "learning_rate": 1,
                            "iterations": 150
                          }
                        ],
                        "iteration": 86,
                        "remaining_time": 179.5276974,
                        "passed_time": 274.0159591,
                        "learn": [
                          276213.7345
                        ],
                        "test": [
                          2388830.014
                        ]
                      },
                      {
                        "parameters": [
                          {
                            "l2_leaf_reg": 0.5,
                            "depth": 6,
                            "learning_rate": 0.03,
                            "iterations": 150
                          }
                        ],
                        "iteration": 87,
                        "remaining_time": 179.0506051,
                        "passed_time": 281.3652366,
                        "learn": [
                          1158770.243
                        ],
                        "test": [
                          2077945.121
                        ]
                      },
                      {
                        "parameters": [
                          {
                            "l2_leaf_reg": 0.5,
                            "depth": 6,
                            "learning_rate": 0.1,
                            "iterations": 150
                          }
                        ],
                        "iteration": 88,
                        "remaining_time": 178.3646294,
                        "passed_time": 288.6264003,
                        "learn": [
                          719678.426
                        ],
                        "test": [
                          1955108.898
                        ]
                      },
                      {
                        "parameters": [
                          {
                            "l2_leaf_reg": 0.5,
                            "depth": 6,
                            "learning_rate": 1,
                            "iterations": 150
                          }
                        ],
                        "iteration": 89,
                        "remaining_time": 177.6334517,
                        "passed_time": 296.0557528,
                        "learn": [
                          255540.0007
                        ],
                        "test": [
                          2206680.022
                        ]
                      },
                      {
                        "parameters": [
                          {
                            "l2_leaf_reg": 1,
                            "depth": 6,
                            "learning_rate": 0.03,
                            "iterations": 150
                          }
                        ],
                        "iteration": 90,
                        "remaining_time": 176.7846144,
                        "passed_time": 303.5358473,
                        "learn": [
                          1179009.143
                        ],
                        "test": [
                          2069103.74
                        ]
                      },
                      {
                        "parameters": [
                          {
                            "l2_leaf_reg": 1,
                            "depth": 6,
                            "learning_rate": 0.1,
                            "iterations": 150
                          }
                        ],
                        "iteration": 91,
                        "remaining_time": 175.657259,
                        "passed_time": 310.7782275,
                        "learn": [
                          752626.4471
                        ],
                        "test": [
                          1924319.6
                        ]
                      },
                      {
                        "parameters": [
                          {
                            "l2_leaf_reg": 1,
                            "depth": 6,
                            "learning_rate": 1,
                            "iterations": 150
                          }
                        ],
                        "iteration": 92,
                        "remaining_time": 174.474271,
                        "passed_time": 318.1589648,
                        "learn": [
                          272512.6422
                        ],
                        "test": [
                          2004434.539
                        ]
                      },
                      {
                        "parameters": [
                          {
                            "l2_leaf_reg": 3,
                            "depth": 6,
                            "learning_rate": 0.03,
                            "iterations": 150
                          }
                        ],
                        "iteration": 93,
                        "remaining_time": 173.1394277,
                        "passed_time": 325.5021241,
                        "learn": [
                          1254786.01
                        ],
                        "test": [
                          2129832.037
                        ]
                      },
                      {
                        "parameters": [
                          {
                            "l2_leaf_reg": 3,
                            "depth": 6,
                            "learning_rate": 0.1,
                            "iterations": 150
                          }
                        ],
                        "iteration": 94,
                        "remaining_time": 171.6110905,
                        "passed_time": 332.7153796,
                        "learn": [
                          862587.2069
                        ],
                        "test": [
                          1945759.294
                        ]
                      },
                      {
                        "parameters": [
                          {
                            "l2_leaf_reg": 3,
                            "depth": 6,
                            "learning_rate": 1,
                            "iterations": 150
                          }
                        ],
                        "iteration": 95,
                        "remaining_time": 169.9965894,
                        "passed_time": 339.9931788,
                        "learn": [
                          318978.6825
                        ],
                        "test": [
                          2188261.772
                        ]
                      },
                      {
                        "parameters": [
                          {
                            "l2_leaf_reg": 0.2,
                            "depth": 6,
                            "learning_rate": 0.03,
                            "iterations": 200
                          }
                        ],
                        "iteration": 96,
                        "remaining_time": 170.9860607,
                        "passed_time": 352.8861253,
                        "learn": [
                          1017075.838
                        ],
                        "test": [
                          2028298.647
                        ]
                      },
                      {
                        "parameters": [
                          {
                            "l2_leaf_reg": 0.2,
                            "depth": 6,
                            "learning_rate": 0.1,
                            "iterations": 200
                          }
                        ],
                        "iteration": 97,
                        "remaining_time": 171.5979345,
                        "passed_time": 365.5782083,
                        "learn": [
                          601553.9666
                        ],
                        "test": [
                          1865971.968
                        ]
                      },
                      {
                        "parameters": [
                          {
                            "l2_leaf_reg": 0.2,
                            "depth": 6,
                            "learning_rate": 1,
                            "iterations": 200
                          }
                        ],
                        "iteration": 98,
                        "remaining_time": 172.0187064,
                        "passed_time": 378.441154,
                        "learn": [
                          202383.8831
                        ],
                        "test": [
                          2396361.156
                        ]
                      },
                      {
                        "parameters": [
                          {
                            "l2_leaf_reg": 0.5,
                            "depth": 6,
                            "learning_rate": 0.03,
                            "iterations": 200
                          }
                        ],
                        "iteration": 99,
                        "remaining_time": 172.1096666,
                        "passed_time": 391.1583332,
                        "learn": [
                          1037991.818
                        ],
                        "test": [
                          2018463.02
                        ]
                      },
                      {
                        "parameters": [
                          {
                            "l2_leaf_reg": 0.5,
                            "depth": 6,
                            "learning_rate": 0.1,
                            "iterations": 200
                          }
                        ],
                        "iteration": 100,
                        "remaining_time": 171.862788,
                        "passed_time": 403.6777114,
                        "learn": [
                          629137.9742
                        ],
                        "test": [
                          1900165.015
                        ]
                      },
                      {
                        "parameters": [
                          {
                            "l2_leaf_reg": 0.5,
                            "depth": 6,
                            "learning_rate": 1,
                            "iterations": 200
                          }
                        ],
                        "iteration": 101,
                        "remaining_time": 171.5401536,
                        "passed_time": 416.597516,
                        "learn": [
                          209349.4011
                        ],
                        "test": [
                          2248111.717
                        ]
                      },
                      {
                        "parameters": [
                          {
                            "l2_leaf_reg": 1,
                            "depth": 6,
                            "learning_rate": 0.03,
                            "iterations": 200
                          }
                        ],
                        "iteration": 102,
                        "remaining_time": 170.8721132,
                        "passed_time": 429.2640892,
                        "learn": [
                          1068203.204
                        ],
                        "test": [
                          2024161.534
                        ]
                      },
                      {
                        "parameters": [
                          {
                            "l2_leaf_reg": 1,
                            "depth": 6,
                            "learning_rate": 0.1,
                            "iterations": 200
                          }
                        ],
                        "iteration": 103,
                        "remaining_time": 169.9483534,
                        "passed_time": 441.8657189,
                        "learn": [
                          667685.6185
                        ],
                        "test": [
                          1931275.925
                        ]
                      },
                      {
                        "parameters": [
                          {
                            "l2_leaf_reg": 1,
                            "depth": 6,
                            "learning_rate": 1,
                            "iterations": 200
                          }
                        ],
                        "iteration": 104,
                        "remaining_time": 168.8614034,
                        "passed_time": 454.6268553,
                        "learn": [
                          206376.8619
                        ],
                        "test": [
                          2325072.111
                        ]
                      },
                      {
                        "parameters": [
                          {
                            "l2_leaf_reg": 3,
                            "depth": 6,
                            "learning_rate": 0.03,
                            "iterations": 200
                          }
                        ],
                        "iteration": 105,
                        "remaining_time": 167.5257265,
                        "passed_time": 467.3086056,
                        "learn": [
                          1135999.531
                        ],
                        "test": [
                          2073080.958
                        ]
                      },
                      {
                        "parameters": [
                          {
                            "l2_leaf_reg": 3,
                            "depth": 6,
                            "learning_rate": 0.1,
                            "iterations": 200
                          }
                        ],
                        "iteration": 106,
                        "remaining_time": 165.9839968,
                        "passed_time": 480.0077747,
                        "learn": [
                          757202.2846
                        ],
                        "test": [
                          1884327.563
                        ]
                      },
                      {
                        "parameters": [
                          {
                            "l2_leaf_reg": 3,
                            "depth": 6,
                            "learning_rate": 1,
                            "iterations": 200
                          }
                        ],
                        "iteration": 107,
                        "remaining_time": 164.3048011,
                        "passed_time": 492.9144032,
                        "learn": [
                          250099.6694
                        ],
                        "test": [
                          2173031.786
                        ]
                      },
                      {
                        "parameters": [
                          {
                            "l2_leaf_reg": 0.2,
                            "depth": 8,
                            "learning_rate": 0.03,
                            "iterations": 100
                          }
                        ],
                        "iteration": 108,
                        "remaining_time": 162.5844968,
                        "passed_time": 506.3345758,
                        "learn": [
                          1210109.372
                        ],
                        "test": [
                          2292572.119
                        ]
                      },
                      {
                        "parameters": [
                          {
                            "l2_leaf_reg": 0.2,
                            "depth": 8,
                            "learning_rate": 0.1,
                            "iterations": 100
                          }
                        ],
                        "iteration": 109,
                        "remaining_time": 160.6893811,
                        "passed_time": 519.8774096,
                        "learn": [
                          648522.634
                        ],
                        "test": [
                          1909494.957
                        ]
                      },
                      {
                        "parameters": [
                          {
                            "l2_leaf_reg": 0.2,
                            "depth": 8,
                            "learning_rate": 1,
                            "iterations": 100
                          }
                        ],
                        "iteration": 110,
                        "remaining_time": 158.6198032,
                        "passed_time": 533.539338,
                        "learn": [
                          173411.1519
                        ],
                        "test": [
                          2249224.727
                        ]
                      },
                      {
                        "parameters": [
                          {
                            "l2_leaf_reg": 0.5,
                            "depth": 8,
                            "learning_rate": 0.03,
                            "iterations": 100
                          }
                        ],
                        "iteration": 111,
                        "remaining_time": 156.2879801,
                        "passed_time": 547.0079305,
                        "learn": [
                          1251942.286
                        ],
                        "test": [
                          2258934.2
                        ]
                      },
                      {
                        "parameters": [
                          {
                            "l2_leaf_reg": 0.5,
                            "depth": 8,
                            "learning_rate": 0.1,
                            "iterations": 100
                          }
                        ],
                        "iteration": 112,
                        "remaining_time": 153.7975895,
                        "passed_time": 560.6170197,
                        "learn": [
                          682626.4979
                        ],
                        "test": [
                          1915728.561
                        ]
                      },
                      {
                        "parameters": [
                          {
                            "l2_leaf_reg": 0.5,
                            "depth": 8,
                            "learning_rate": 1,
                            "iterations": 100
                          }
                        ],
                        "iteration": 113,
                        "remaining_time": 151.1293437,
                        "passed_time": 574.2915059,
                        "learn": [
                          177043.0527
                        ],
                        "test": [
                          2292760.219
                        ]
                      },
                      {
                        "parameters": [
                          {
                            "l2_leaf_reg": 1,
                            "depth": 8,
                            "learning_rate": 0.03,
                            "iterations": 100
                          }
                        ],
                        "iteration": 114,
                        "remaining_time": 148.1966744,
                        "passed_time": 587.6764676,
                        "learn": [
                          1292093.67
                        ],
                        "test": [
                          2307944.059
                        ]
                      },
                      {
                        "parameters": [
                          {
                            "l2_leaf_reg": 1,
                            "depth": 8,
                            "learning_rate": 0.1,
                            "iterations": 100
                          }
                        ],
                        "iteration": 115,
                        "remaining_time": 145.0949389,
                        "passed_time": 601.107604,
                        "learn": [
                          724317.7822
                        ],
                        "test": [
                          2001117.434
                        ]
                      },
                      {
                        "parameters": [
                          {
                            "l2_leaf_reg": 1,
                            "depth": 8,
                            "learning_rate": 1,
                            "iterations": 100
                          }
                        ],
                        "iteration": 116,
                        "remaining_time": 141.8351608,
                        "passed_time": 614.6190303,
                        "learn": [
                          178445.9957
                        ],
                        "test": [
                          2040899.99
                        ]
                      },
                      {
                        "parameters": [
                          {
                            "l2_leaf_reg": 3,
                            "depth": 8,
                            "learning_rate": 0.03,
                            "iterations": 100
                          }
                        ],
                        "iteration": 117,
                        "remaining_time": 138.3741628,
                        "passed_time": 628.0058156,
                        "learn": [
                          1426308.195
                        ],
                        "test": [
                          2378951.336
                        ]
                      },
                      {
                        "parameters": [
                          {
                            "l2_leaf_reg": 3,
                            "depth": 8,
                            "learning_rate": 0.1,
                            "iterations": 100
                          }
                        ],
                        "iteration": 118,
                        "remaining_time": 134.7454802,
                        "passed_time": 641.3884859,
                        "learn": [
                          842270.4396
                        ],
                        "test": [
                          2055558.923
                        ]
                      },
                      {
                        "parameters": [
                          {
                            "l2_leaf_reg": 3,
                            "depth": 8,
                            "learning_rate": 1,
                            "iterations": 100
                          }
                        ],
                        "iteration": 119,
                        "remaining_time": 131.0117494,
                        "passed_time": 655.058747,
                        "learn": [
                          230094.0872
                        ],
                        "test": [
                          2142763.184
                        ]
                      },
                      {
                        "parameters": [
                          {
                            "l2_leaf_reg": 0.2,
                            "depth": 8,
                            "learning_rate": 0.03,
                            "iterations": 150
                          }
                        ],
                        "iteration": 120,
                        "remaining_time": 128.3253669,
                        "passed_time": 675.1030173,
                        "learn": [
                          948201.6719
                        ],
                        "test": [
                          2149562.753
                        ]
                      },
                      {
                        "parameters": [
                          {
                            "l2_leaf_reg": 0.2,
                            "depth": 8,
                            "learning_rate": 0.1,
                            "iterations": 150
                          }
                        ],
                        "iteration": 121,
                        "remaining_time": 125.3618993,
                        "passed_time": 695.1887141,
                        "learn": [
                          511896.7216
                        ],
                        "test": [
                          1880385.243
                        ]
                      },
                      {
                        "parameters": [
                          {
                            "l2_leaf_reg": 0.2,
                            "depth": 8,
                            "learning_rate": 1,
                            "iterations": 150
                          }
                        ],
                        "iteration": 122,
                        "remaining_time": 122.1516515,
                        "passed_time": 715.4596729,
                        "learn": [
                          103691.733
                        ],
                        "test": [
                          2249224.727
                        ]
                      },
                      {
                        "parameters": [
                          {
                            "l2_leaf_reg": 0.5,
                            "depth": 8,
                            "learning_rate": 0.03,
                            "iterations": 150
                          }
                        ],
                        "iteration": 123,
                        "remaining_time": 118.5947176,
                        "passed_time": 735.2872493,
                        "learn": [
                          986620.7526
                        ],
                        "test": [
                          2115430.813
                        ]
                      },
                      {
                        "parameters": [
                          {
                            "l2_leaf_reg": 0.5,
                            "depth": 8,
                            "learning_rate": 0.1,
                            "iterations": 150
                          }
                        ],
                        "iteration": 124,
                        "remaining_time": 114.7946293,
                        "passed_time": 755.2278244,
                        "learn": [
                          547153.1583
                        ],
                        "test": [
                          1881871.656
                        ]
                      },
                      {
                        "parameters": [
                          {
                            "l2_leaf_reg": 0.5,
                            "depth": 8,
                            "learning_rate": 1,
                            "iterations": 150
                          }
                        ],
                        "iteration": 125,
                        "remaining_time": 110.7772423,
                        "passed_time": 775.4406961,
                        "learn": [
                          106119.2692
                        ],
                        "test": [
                          2292022.711
                        ]
                      },
                      {
                        "parameters": [
                          {
                            "l2_leaf_reg": 1,
                            "depth": 8,
                            "learning_rate": 0.03,
                            "iterations": 150
                          }
                        ],
                        "iteration": 126,
                        "remaining_time": 106.476182,
                        "passed_time": 795.4397125,
                        "learn": [
                          1018985.217
                        ],
                        "test": [
                          2148138.732
                        ]
                      },
                      {
                        "parameters": [
                          {
                            "l2_leaf_reg": 1,
                            "depth": 8,
                            "learning_rate": 0.1,
                            "iterations": 150
                          }
                        ],
                        "iteration": 127,
                        "remaining_time": 101.9299206,
                        "passed_time": 815.4393651,
                        "learn": [
                          587449.7632
                        ],
                        "test": [
                          1974399.209
                        ]
                      },
                      {
                        "parameters": [
                          {
                            "l2_leaf_reg": 1,
                            "depth": 8,
                            "learning_rate": 1,
                            "iterations": 150
                          }
                        ],
                        "iteration": 128,
                        "remaining_time": 97.17349936,
                        "passed_time": 835.6920945,
                        "learn": [
                          105815.9098
                        ],
                        "test": [
                          2040899.99
                        ]
                      },
                      {
                        "parameters": [
                          {
                            "l2_leaf_reg": 3,
                            "depth": 8,
                            "learning_rate": 0.03,
                            "iterations": 150
                          }
                        ],
                        "iteration": 129,
                        "remaining_time": 92.16317254,
                        "passed_time": 855.8008879,
                        "learn": [
                          1137012.651
                        ],
                        "test": [
                          2204288.574
                        ]
                      },
                      {
                        "parameters": [
                          {
                            "l2_leaf_reg": 3,
                            "depth": 8,
                            "learning_rate": 0.1,
                            "iterations": 150
                          }
                        ],
                        "iteration": 130,
                        "remaining_time": 86.91726626,
                        "passed_time": 875.8586062,
                        "learn": [
                          711103.0758
                        ],
                        "test": [
                          2015232.497
                        ]
                      },
                      {
                        "parameters": [
                          {
                            "l2_leaf_reg": 3,
                            "depth": 8,
                            "learning_rate": 1,
                            "iterations": 150
                          }
                        ],
                        "iteration": 131,
                        "remaining_time": 81.46595573,
                        "passed_time": 896.125513,
                        "learn": [
                          145856.8351
                        ],
                        "test": [
                          2142763.184
                        ]
                      },
                      {
                        "parameters": [
                          {
                            "l2_leaf_reg": 0.2,
                            "depth": 8,
                            "learning_rate": 0.03,
                            "iterations": 200
                          }
                        ],
                        "iteration": 132,
                        "remaining_time": 76.7921318,
                        "passed_time": 928.4866845,
                        "learn": [
                          829236.6189
                        ],
                        "test": [
                          2066326.93
                        ]
                      },
                      {
                        "parameters": [
                          {
                            "l2_leaf_reg": 0.2,
                            "depth": 8,
                            "learning_rate": 0.1,
                            "iterations": 200
                          }
                        ],
                        "iteration": 133,
                        "remaining_time": 71.69871819,
                        "passed_time": 960.7628237,
                        "learn": [
                          434334.7951
                        ],
                        "test": [
                          2015970.714
                        ]
                      },
                      {
                        "parameters": [
                          {
                            "l2_leaf_reg": 0.2,
                            "depth": 8,
                            "learning_rate": 1,
                            "iterations": 200
                          }
                        ],
                        "iteration": 134,
                        "remaining_time": 66.22968281,
                        "passed_time": 993.4452422,
                        "learn": [
                          69786.15753
                        ],
                        "test": [
                          2345167.574
                        ]
                      },
                      {
                        "parameters": [
                          {
                            "l2_leaf_reg": 0.5,
                            "depth": 8,
                            "learning_rate": 0.03,
                            "iterations": 200
                          }
                        ],
                        "iteration": 135,
                        "remaining_time": 60.3145745,
                        "passed_time": 1025.347767,
                        "learn": [
                          861499.7751
                        ],
                        "test": [
                          2011459.923
                        ]
                      },
                      {
                        "parameters": [
                          {
                            "l2_leaf_reg": 0.5,
                            "depth": 8,
                            "learning_rate": 0.1,
                            "iterations": 200
                          }
                        ],
                        "iteration": 136,
                        "remaining_time": 54.02508748,
                        "passed_time": 1057.348141,
                        "learn": [
                          461024.9519
                        ],
                        "test": [
                          1969943.729
                        ]
                      },
                      {
                        "parameters": [
                          {
                            "l2_leaf_reg": 0.5,
                            "depth": 8,
                            "learning_rate": 1,
                            "iterations": 200
                          }
                        ],
                        "iteration": 137,
                        "remaining_time": 47.39209911,
                        "passed_time": 1090.01828,
                        "learn": [
                          72755.45579
                        ],
                        "test": [
                          2254479.901
                        ]
                      },
                      {
                        "parameters": [
                          {
                            "l2_leaf_reg": 1,
                            "depth": 8,
                            "learning_rate": 0.03,
                            "iterations": 200
                          }
                        ],
                        "iteration": 138,
                        "remaining_time": 40.36122829,
                        "passed_time": 1122.042146,
                        "learn": [
                          905757.2321
                        ],
                        "test": [
                          1999321.163
                        ]
                      },
                      {
                        "parameters": [
                          {
                            "l2_leaf_reg": 1,
                            "depth": 8,
                            "learning_rate": 0.1,
                            "iterations": 200
                          }
                        ],
                        "iteration": 139,
                        "remaining_time": 32.97016433,
                        "passed_time": 1153.955752,
                        "learn": [
                          495745.0252
                        ],
                        "test": [
                          2025530.986
                        ]
                      },
                      {
                        "parameters": [
                          {
                            "l2_leaf_reg": 1,
                            "depth": 8,
                            "learning_rate": 1,
                            "iterations": 200
                          }
                        ],
                        "iteration": 140,
                        "remaining_time": 25.24764436,
                        "passed_time": 1186.639285,
                        "learn": [
                          81814.90704
                        ],
                        "test": [
                          2254980.623
                        ]
                      },
                      {
                        "parameters": [
                          {
                            "l2_leaf_reg": 3,
                            "depth": 8,
                            "learning_rate": 0.03,
                            "iterations": 200
                          }
                        ],
                        "iteration": 141,
                        "remaining_time": 17.16305875,
                        "passed_time": 1218.577171,
                        "learn": [
                          1013916.344
                        ],
                        "test": [
                          2066304.685
                        ]
                      },
                      {
                        "parameters": [
                          {
                            "l2_leaf_reg": 3,
                            "depth": 8,
                            "learning_rate": 0.1,
                            "iterations": 200
                          }
                        ],
                        "iteration": 142,
                        "remaining_time": 8.744321586,
                        "passed_time": 1250.437987,
                        "learn": [
                          609015.1044
                        ],
                        "test": [
                          1968498.827
                        ]
                      },
                      {
                        "parameters": [
                          {
                            "l2_leaf_reg": 3,
                            "depth": 8,
                            "learning_rate": 1,
                            "iterations": 200
                          }
                        ],
                        "iteration": 143,
                        "remaining_time": 0,
                        "passed_time": 1283.092254,
                        "learn": [
                          102900.4954
                        ],
                        "test": [
                          2083710.429
                        ]
                      }
                    ]
                  },
                  "total_iterations": 144,
                  "passed_iterations": 143
                },
                "path": "catboost_info",
                "name": "catboost_info"
              }
            },
            "_view_module": "catboost-widget",
            "_model_module_version": "^1.0.0",
            "_view_count": null,
            "_view_module_version": "^1.0.0",
            "layout": "IPY_MODEL_bb83442d3c5d44f68b99374824e4cd97",
            "_model_module": "catboost-widget"
          }
        },
        "2e69011a44414f69a48b22db274f59b4": {
          "model_module": "catboost-widget",
          "model_name": "CatboostWidgetModel",
          "model_module_version": "^1.0.0",
          "state": {
            "_view_name": "CatboostWidgetView",
            "_dom_classes": [],
            "_model_name": "CatboostWidgetModel",
            "data": {
              "catboost_info": {
                "content": {
                  "data": {
                    "meta": {
                      "name": "experiment",
                      "parameters": "",
                      "test_metrics": [
                        {
                          "best_value": "Min",
                          "name": "RMSE"
                        }
                      ],
                      "learn_sets": [
                        "learn"
                      ],
                      "launch_mode": "Train",
                      "learn_metrics": [
                        {
                          "best_value": "Min",
                          "name": "RMSE"
                        }
                      ],
                      "iteration_count": 150,
                      "test_sets": [
                        "test"
                      ]
                    },
                    "iterations": [
                      {
                        "test": [
                          5108804.302
                        ],
                        "passed_time": 0.073437804,
                        "iteration": 0,
                        "remaining_time": 10.9422328,
                        "learn": [
                          4537270.341
                        ]
                      },
                      {
                        "test": [
                          4938450.832
                        ],
                        "passed_time": 0.1423831328,
                        "iteration": 1,
                        "remaining_time": 10.53635182,
                        "learn": [
                          4347586.828
                        ]
                      },
                      {
                        "test": [
                          4769800.363
                        ],
                        "passed_time": 0.2012924787,
                        "iteration": 2,
                        "remaining_time": 9.863331457,
                        "learn": [
                          4175306.707
                        ]
                      },
                      {
                        "test": [
                          4602323.213
                        ],
                        "passed_time": 0.2670222456,
                        "iteration": 3,
                        "remaining_time": 9.746311964,
                        "learn": [
                          4011349.169
                        ]
                      },
                      {
                        "test": [
                          4461174.763
                        ],
                        "passed_time": 0.3341454728,
                        "iteration": 4,
                        "remaining_time": 9.690218712,
                        "learn": [
                          3864033.76
                        ]
                      },
                      {
                        "test": [
                          4349384.009
                        ],
                        "passed_time": 0.3973816044,
                        "iteration": 5,
                        "remaining_time": 9.537158504,
                        "learn": [
                          3751850.091
                        ]
                      },
                      {
                        "test": [
                          4233198.955
                        ],
                        "passed_time": 0.4864226006,
                        "iteration": 6,
                        "remaining_time": 9.93691884,
                        "learn": [
                          3644362.023
                        ]
                      },
                      {
                        "test": [
                          4152099.136
                        ],
                        "passed_time": 0.5559680522,
                        "iteration": 7,
                        "remaining_time": 9.868432927,
                        "learn": [
                          3551909.58
                        ]
                      },
                      {
                        "test": [
                          4056322.496
                        ],
                        "passed_time": 0.6165625062,
                        "iteration": 8,
                        "remaining_time": 9.659479264,
                        "learn": [
                          3462075.715
                        ]
                      },
                      {
                        "test": [
                          4003705.649
                        ],
                        "passed_time": 0.6747778396,
                        "iteration": 9,
                        "remaining_time": 9.446889754,
                        "learn": [
                          3395812.823
                        ]
                      },
                      {
                        "test": [
                          3921941.336
                        ],
                        "passed_time": 0.7344076171,
                        "iteration": 10,
                        "remaining_time": 9.280241707,
                        "learn": [
                          3331031.256
                        ]
                      },
                      {
                        "test": [
                          3871866.891
                        ],
                        "passed_time": 0.8017038278,
                        "iteration": 11,
                        "remaining_time": 9.21959402,
                        "learn": [
                          3275385.319
                        ]
                      },
                      {
                        "test": [
                          3828965.076
                        ],
                        "passed_time": 0.8791423888,
                        "iteration": 12,
                        "remaining_time": 9.264808251,
                        "learn": [
                          3221745.236
                        ]
                      },
                      {
                        "test": [
                          3791851.981
                        ],
                        "passed_time": 0.9397527308,
                        "iteration": 13,
                        "remaining_time": 9.129026528,
                        "learn": [
                          3180797.018
                        ]
                      },
                      {
                        "test": [
                          3752485.133
                        ],
                        "passed_time": 0.9966410186,
                        "iteration": 14,
                        "remaining_time": 8.969769167,
                        "learn": [
                          3137619.426
                        ]
                      },
                      {
                        "test": [
                          3726745.923
                        ],
                        "passed_time": 1.059088992,
                        "iteration": 15,
                        "remaining_time": 8.869870304,
                        "learn": [
                          3110118.653
                        ]
                      },
                      {
                        "test": [
                          3704333.9
                        ],
                        "passed_time": 1.118632875,
                        "iteration": 16,
                        "remaining_time": 8.751657199,
                        "learn": [
                          3076212.544
                        ]
                      },
                      {
                        "test": [
                          3683075.734
                        ],
                        "passed_time": 1.183727806,
                        "iteration": 17,
                        "remaining_time": 8.680670576,
                        "learn": [
                          3050677.244
                        ]
                      },
                      {
                        "test": [
                          3654861.916
                        ],
                        "passed_time": 1.258447734,
                        "iteration": 18,
                        "remaining_time": 8.676665958,
                        "learn": [
                          3021170.831
                        ]
                      },
                      {
                        "test": [
                          3627398.036
                        ],
                        "passed_time": 1.326934007,
                        "iteration": 19,
                        "remaining_time": 8.625071046,
                        "learn": [
                          2999767.472
                        ]
                      },
                      {
                        "test": [
                          3610631.551
                        ],
                        "passed_time": 1.389342996,
                        "iteration": 20,
                        "remaining_time": 8.534535545,
                        "learn": [
                          2982310.98
                        ]
                      },
                      {
                        "test": [
                          3591817.798
                        ],
                        "passed_time": 1.464829673,
                        "iteration": 21,
                        "remaining_time": 8.522645371,
                        "learn": [
                          2962905.175
                        ]
                      },
                      {
                        "test": [
                          3581031.361
                        ],
                        "passed_time": 1.522693523,
                        "iteration": 22,
                        "remaining_time": 8.407916409,
                        "learn": [
                          2941258.796
                        ]
                      },
                      {
                        "test": [
                          3568884.571
                        ],
                        "passed_time": 1.585284656,
                        "iteration": 23,
                        "remaining_time": 8.322744444,
                        "learn": [
                          2921144.494
                        ]
                      },
                      {
                        "test": [
                          3547800.193
                        ],
                        "passed_time": 1.659934289,
                        "iteration": 24,
                        "remaining_time": 8.299671445,
                        "learn": [
                          2895187.702
                        ]
                      },
                      {
                        "test": [
                          3530557.351
                        ],
                        "passed_time": 1.717896356,
                        "iteration": 25,
                        "remaining_time": 8.193044159,
                        "learn": [
                          2881209.986
                        ]
                      },
                      {
                        "test": [
                          3523469.923
                        ],
                        "passed_time": 1.789811749,
                        "iteration": 26,
                        "remaining_time": 8.153586854,
                        "learn": [
                          2864580.95
                        ]
                      },
                      {
                        "test": [
                          3512909.182
                        ],
                        "passed_time": 1.850051984,
                        "iteration": 27,
                        "remaining_time": 8.060940789,
                        "learn": [
                          2848734.322
                        ]
                      },
                      {
                        "test": [
                          3505898.996
                        ],
                        "passed_time": 1.914063715,
                        "iteration": 28,
                        "remaining_time": 7.986265843,
                        "learn": [
                          2838002.976
                        ]
                      },
                      {
                        "test": [
                          3499402.224
                        ],
                        "passed_time": 1.976560581,
                        "iteration": 29,
                        "remaining_time": 7.906242324,
                        "learn": [
                          2824656.35
                        ]
                      },
                      {
                        "test": [
                          3491540.731
                        ],
                        "passed_time": 2.05668101,
                        "iteration": 30,
                        "remaining_time": 7.895001296,
                        "learn": [
                          2813333.609
                        ]
                      },
                      {
                        "test": [
                          3485893.682
                        ],
                        "passed_time": 2.122128107,
                        "iteration": 31,
                        "remaining_time": 7.825347396,
                        "learn": [
                          2804478.21
                        ]
                      },
                      {
                        "test": [
                          3477038.298
                        ],
                        "passed_time": 2.182121868,
                        "iteration": 32,
                        "remaining_time": 7.736613897,
                        "learn": [
                          2792585.651
                        ]
                      },
                      {
                        "test": [
                          3472324.36
                        ],
                        "passed_time": 2.244074183,
                        "iteration": 33,
                        "remaining_time": 7.656253094,
                        "learn": [
                          2784496.768
                        ]
                      },
                      {
                        "test": [
                          3468412.44
                        ],
                        "passed_time": 2.309051522,
                        "iteration": 34,
                        "remaining_time": 7.586883572,
                        "learn": [
                          2771197.398
                        ]
                      },
                      {
                        "test": [
                          3465062.158
                        ],
                        "passed_time": 2.377842593,
                        "iteration": 35,
                        "remaining_time": 7.529834876,
                        "learn": [
                          2764879.933
                        ]
                      },
                      {
                        "test": [
                          3464003.825
                        ],
                        "passed_time": 2.472445996,
                        "iteration": 36,
                        "remaining_time": 7.550983716,
                        "learn": [
                          2756323.312
                        ]
                      },
                      {
                        "test": [
                          3459530.685
                        ],
                        "passed_time": 2.538258577,
                        "iteration": 37,
                        "remaining_time": 7.481183173,
                        "learn": [
                          2749457.06
                        ]
                      },
                      {
                        "test": [
                          3457495.895
                        ],
                        "passed_time": 2.600017514,
                        "iteration": 38,
                        "remaining_time": 7.400049848,
                        "learn": [
                          2741010.505
                        ]
                      },
                      {
                        "test": [
                          3445082.504
                        ],
                        "passed_time": 2.666891543,
                        "iteration": 39,
                        "remaining_time": 7.333951744,
                        "learn": [
                          2732178.437
                        ]
                      },
                      {
                        "test": [
                          3436852.825
                        ],
                        "passed_time": 2.726279153,
                        "iteration": 40,
                        "remaining_time": 7.24791287,
                        "learn": [
                          2725618.675
                        ]
                      },
                      {
                        "test": [
                          3434670.185
                        ],
                        "passed_time": 2.805411657,
                        "iteration": 41,
                        "remaining_time": 7.21391569,
                        "learn": [
                          2718781.787
                        ]
                      },
                      {
                        "test": [
                          3430894.803
                        ],
                        "passed_time": 2.881310601,
                        "iteration": 42,
                        "remaining_time": 7.16977289,
                        "learn": [
                          2715215.019
                        ]
                      },
                      {
                        "test": [
                          3417899.549
                        ],
                        "passed_time": 2.941884838,
                        "iteration": 43,
                        "remaining_time": 7.087268019,
                        "learn": [
                          2706543.412
                        ]
                      },
                      {
                        "test": [
                          3415118.642
                        ],
                        "passed_time": 3.001421372,
                        "iteration": 44,
                        "remaining_time": 7.003316534,
                        "learn": [
                          2701189.206
                        ]
                      },
                      {
                        "test": [
                          3413426.936
                        ],
                        "passed_time": 3.064230673,
                        "iteration": 45,
                        "remaining_time": 6.927825868,
                        "learn": [
                          2695647.022
                        ]
                      },
                      {
                        "test": [
                          3408779.181
                        ],
                        "passed_time": 3.127178127,
                        "iteration": 46,
                        "remaining_time": 6.853177597,
                        "learn": [
                          2691543.162
                        ]
                      },
                      {
                        "test": [
                          3407927.958
                        ],
                        "passed_time": 3.187248529,
                        "iteration": 47,
                        "remaining_time": 6.772903124,
                        "learn": [
                          2687708.319
                        ]
                      },
                      {
                        "test": [
                          3405315.549
                        ],
                        "passed_time": 3.274063381,
                        "iteration": 48,
                        "remaining_time": 6.748579622,
                        "learn": [
                          2680740.092
                        ]
                      },
                      {
                        "test": [
                          3407078.16
                        ],
                        "passed_time": 3.333588224,
                        "iteration": 49,
                        "remaining_time": 6.667176447,
                        "learn": [
                          2674546.789
                        ]
                      },
                      {
                        "test": [
                          3403903.157
                        ],
                        "passed_time": 3.394993722,
                        "iteration": 50,
                        "remaining_time": 6.59028193,
                        "learn": [
                          2670735.277
                        ]
                      },
                      {
                        "test": [
                          3400670.797
                        ],
                        "passed_time": 3.458648186,
                        "iteration": 51,
                        "remaining_time": 6.518221582,
                        "learn": [
                          2666337.732
                        ]
                      },
                      {
                        "test": [
                          3396046.643
                        ],
                        "passed_time": 3.534025687,
                        "iteration": 52,
                        "remaining_time": 6.467933804,
                        "learn": [
                          2661213.053
                        ]
                      },
                      {
                        "test": [
                          3392406.175
                        ],
                        "passed_time": 3.613283358,
                        "iteration": 53,
                        "remaining_time": 6.423614858,
                        "learn": [
                          2657569.682
                        ]
                      },
                      {
                        "test": [
                          3381519.872
                        ],
                        "passed_time": 3.694583517,
                        "iteration": 54,
                        "remaining_time": 6.381553347,
                        "learn": [
                          2652731.275
                        ]
                      },
                      {
                        "test": [
                          3380532.636
                        ],
                        "passed_time": 3.757907147,
                        "iteration": 55,
                        "remaining_time": 6.307915568,
                        "learn": [
                          2650012.134
                        ]
                      },
                      {
                        "test": [
                          3381391.056
                        ],
                        "passed_time": 3.829349295,
                        "iteration": 56,
                        "remaining_time": 6.247885691,
                        "learn": [
                          2643559.204
                        ]
                      },
                      {
                        "test": [
                          3380859.361
                        ],
                        "passed_time": 3.89616431,
                        "iteration": 57,
                        "remaining_time": 6.180122699,
                        "learn": [
                          2637821.327
                        ]
                      },
                      {
                        "test": [
                          3374971.341
                        ],
                        "passed_time": 3.967039939,
                        "iteration": 58,
                        "remaining_time": 6.118654821,
                        "learn": [
                          2632205.263
                        ]
                      },
                      {
                        "test": [
                          3376051.598
                        ],
                        "passed_time": 4.026607436,
                        "iteration": 59,
                        "remaining_time": 6.039911154,
                        "learn": [
                          2625396.342
                        ]
                      },
                      {
                        "test": [
                          3377528.053
                        ],
                        "passed_time": 4.101148529,
                        "iteration": 60,
                        "remaining_time": 5.983642935,
                        "learn": [
                          2619414.694
                        ]
                      },
                      {
                        "test": [
                          3376609.507
                        ],
                        "passed_time": 4.164979523,
                        "iteration": 61,
                        "remaining_time": 5.911583839,
                        "learn": [
                          2616597.769
                        ]
                      },
                      {
                        "test": [
                          3369394.424
                        ],
                        "passed_time": 4.233931564,
                        "iteration": 62,
                        "remaining_time": 5.846857874,
                        "learn": [
                          2611627.613
                        ]
                      },
                      {
                        "test": [
                          3369167.3
                        ],
                        "passed_time": 4.298127406,
                        "iteration": 63,
                        "remaining_time": 5.775608702,
                        "learn": [
                          2607845.768
                        ]
                      },
                      {
                        "test": [
                          3368879.949
                        ],
                        "passed_time": 4.367890837,
                        "iteration": 64,
                        "remaining_time": 5.711857248,
                        "learn": [
                          2599894.44
                        ]
                      },
                      {
                        "test": [
                          3366575.133
                        ],
                        "passed_time": 4.439836899,
                        "iteration": 65,
                        "remaining_time": 5.650701507,
                        "learn": [
                          2594509.722
                        ]
                      },
                      {
                        "test": [
                          3366331.035
                        ],
                        "passed_time": 4.528790821,
                        "iteration": 66,
                        "remaining_time": 5.610293106,
                        "learn": [
                          2588716.905
                        ]
                      },
                      {
                        "test": [
                          3365694.889
                        ],
                        "passed_time": 4.593411378,
                        "iteration": 67,
                        "remaining_time": 5.539113721,
                        "learn": [
                          2586122.372
                        ]
                      },
                      {
                        "test": [
                          3366951.139
                        ],
                        "passed_time": 4.661966557,
                        "iteration": 68,
                        "remaining_time": 5.472743349,
                        "learn": [
                          2580965.374
                        ]
                      },
                      {
                        "test": [
                          3366836.513
                        ],
                        "passed_time": 4.722867982,
                        "iteration": 69,
                        "remaining_time": 5.397563409,
                        "learn": [
                          2578160.218
                        ]
                      },
                      {
                        "test": [
                          3360038.091
                        ],
                        "passed_time": 4.792997011,
                        "iteration": 70,
                        "remaining_time": 5.333053012,
                        "learn": [
                          2574900.083
                        ]
                      },
                      {
                        "test": [
                          3359556.626
                        ],
                        "passed_time": 4.853937302,
                        "iteration": 71,
                        "remaining_time": 5.258432077,
                        "learn": [
                          2572078.558
                        ]
                      },
                      {
                        "test": [
                          3357758.426
                        ],
                        "passed_time": 4.940132408,
                        "iteration": 72,
                        "remaining_time": 5.210824595,
                        "learn": [
                          2569497.327
                        ]
                      },
                      {
                        "test": [
                          3357694.175
                        ],
                        "passed_time": 5.003136946,
                        "iteration": 73,
                        "remaining_time": 5.138356864,
                        "learn": [
                          2563685.282
                        ]
                      },
                      {
                        "test": [
                          3353854.974
                        ],
                        "passed_time": 5.0675245,
                        "iteration": 74,
                        "remaining_time": 5.0675245,
                        "learn": [
                          2558993.683
                        ]
                      },
                      {
                        "test": [
                          3354414.084
                        ],
                        "passed_time": 5.129083435,
                        "iteration": 75,
                        "remaining_time": 4.994107555,
                        "learn": [
                          2555920.641
                        ]
                      },
                      {
                        "test": [
                          3349486.949
                        ],
                        "passed_time": 5.201225799,
                        "iteration": 76,
                        "remaining_time": 4.931032251,
                        "learn": [
                          2547809.331
                        ]
                      },
                      {
                        "test": [
                          3350390.96
                        ],
                        "passed_time": 5.262942504,
                        "iteration": 77,
                        "remaining_time": 4.858100773,
                        "learn": [
                          2542184.727
                        ]
                      },
                      {
                        "test": [
                          3347959.363
                        ],
                        "passed_time": 5.336896781,
                        "iteration": 78,
                        "remaining_time": 4.796451537,
                        "learn": [
                          2539344.275
                        ]
                      },
                      {
                        "test": [
                          3347516.327
                        ],
                        "passed_time": 5.396891093,
                        "iteration": 79,
                        "remaining_time": 4.722279707,
                        "learn": [
                          2536314.45
                        ]
                      },
                      {
                        "test": [
                          3346083.982
                        ],
                        "passed_time": 5.46919127,
                        "iteration": 80,
                        "remaining_time": 4.658940711,
                        "learn": [
                          2530588.258
                        ]
                      },
                      {
                        "test": [
                          3344990.997
                        ],
                        "passed_time": 5.53810552,
                        "iteration": 81,
                        "remaining_time": 4.592575309,
                        "learn": [
                          2526370.026
                        ]
                      },
                      {
                        "test": [
                          3343586.435
                        ],
                        "passed_time": 5.599230904,
                        "iteration": 82,
                        "remaining_time": 4.519861091,
                        "learn": [
                          2522246.815
                        ]
                      },
                      {
                        "test": [
                          3344076.226
                        ],
                        "passed_time": 5.663460766,
                        "iteration": 83,
                        "remaining_time": 4.44986203,
                        "learn": [
                          2519681.358
                        ]
                      },
                      {
                        "test": [
                          3343157.627
                        ],
                        "passed_time": 5.742896884,
                        "iteration": 84,
                        "remaining_time": 4.391627029,
                        "learn": [
                          2516815.635
                        ]
                      },
                      {
                        "test": [
                          3345291.523
                        ],
                        "passed_time": 5.820289808,
                        "iteration": 85,
                        "remaining_time": 4.331378462,
                        "learn": [
                          2513687.875
                        ]
                      },
                      {
                        "test": [
                          3345758.24
                        ],
                        "passed_time": 5.883013668,
                        "iteration": 86,
                        "remaining_time": 4.260113346,
                        "learn": [
                          2508848.654
                        ]
                      },
                      {
                        "test": [
                          3343267.971
                        ],
                        "passed_time": 5.941327222,
                        "iteration": 87,
                        "remaining_time": 4.185935088,
                        "learn": [
                          2503225.018
                        ]
                      },
                      {
                        "test": [
                          3350026.918
                        ],
                        "passed_time": 6.004102695,
                        "iteration": 88,
                        "remaining_time": 4.11517151,
                        "learn": [
                          2495600.4
                        ]
                      },
                      {
                        "test": [
                          3349600.782
                        ],
                        "passed_time": 6.065953171,
                        "iteration": 89,
                        "remaining_time": 4.043968781,
                        "learn": [
                          2491343.016
                        ]
                      },
                      {
                        "test": [
                          3349166.647
                        ],
                        "passed_time": 6.138102908,
                        "iteration": 90,
                        "remaining_time": 3.979649138,
                        "learn": [
                          2489023.693
                        ]
                      },
                      {
                        "test": [
                          3349225.072
                        ],
                        "passed_time": 6.199080427,
                        "iteration": 91,
                        "remaining_time": 3.908115922,
                        "learn": [
                          2486142.706
                        ]
                      },
                      {
                        "test": [
                          3346773.148
                        ],
                        "passed_time": 6.26089057,
                        "iteration": 92,
                        "remaining_time": 3.837320027,
                        "learn": [
                          2481882.747
                        ]
                      },
                      {
                        "test": [
                          3342047.643
                        ],
                        "passed_time": 6.321934633,
                        "iteration": 93,
                        "remaining_time": 3.76625893,
                        "learn": [
                          2476046.707
                        ]
                      },
                      {
                        "test": [
                          3340806.42
                        ],
                        "passed_time": 6.382859142,
                        "iteration": 94,
                        "remaining_time": 3.695339503,
                        "learn": [
                          2474644.617
                        ]
                      },
                      {
                        "test": [
                          3340306.7
                        ],
                        "passed_time": 6.444023895,
                        "iteration": 95,
                        "remaining_time": 3.624763441,
                        "learn": [
                          2470613.602
                        ]
                      },
                      {
                        "test": [
                          3341491.531
                        ],
                        "passed_time": 6.530015646,
                        "iteration": 96,
                        "remaining_time": 3.567946693,
                        "learn": [
                          2466818.21
                        ]
                      },
                      {
                        "test": [
                          3338871.888
                        ],
                        "passed_time": 6.604735833,
                        "iteration": 97,
                        "remaining_time": 3.504553708,
                        "learn": [
                          2461978.507
                        ]
                      },
                      {
                        "test": [
                          3340293.324
                        ],
                        "passed_time": 6.666345016,
                        "iteration": 98,
                        "remaining_time": 3.434177736,
                        "learn": [
                          2456651.061
                        ]
                      },
                      {
                        "test": [
                          3340098.225
                        ],
                        "passed_time": 6.726733139,
                        "iteration": 99,
                        "remaining_time": 3.36336657,
                        "learn": [
                          2450450.059
                        ]
                      },
                      {
                        "test": [
                          3340407.713
                        ],
                        "passed_time": 6.804356889,
                        "iteration": 100,
                        "remaining_time": 3.301123639,
                        "learn": [
                          2448622.19
                        ]
                      },
                      {
                        "test": [
                          3337834.383
                        ],
                        "passed_time": 6.875299911,
                        "iteration": 101,
                        "remaining_time": 3.235435252,
                        "learn": [
                          2443466.221
                        ]
                      },
                      {
                        "test": [
                          3338224.338
                        ],
                        "passed_time": 6.948314264,
                        "iteration": 102,
                        "remaining_time": 3.170590004,
                        "learn": [
                          2440198.208
                        ]
                      },
                      {
                        "test": [
                          3337175.687
                        ],
                        "passed_time": 7.008607198,
                        "iteration": 103,
                        "remaining_time": 3.099960876,
                        "learn": [
                          2437382.881
                        ]
                      },
                      {
                        "test": [
                          3335586.66
                        ],
                        "passed_time": 7.070444721,
                        "iteration": 104,
                        "remaining_time": 3.030190595,
                        "learn": [
                          2431708.617
                        ]
                      },
                      {
                        "test": [
                          3332873.014
                        ],
                        "passed_time": 7.136297824,
                        "iteration": 105,
                        "remaining_time": 2.962236833,
                        "learn": [
                          2428624.726
                        ]
                      },
                      {
                        "test": [
                          3332429.377
                        ],
                        "passed_time": 7.194157045,
                        "iteration": 106,
                        "remaining_time": 2.891109841,
                        "learn": [
                          2426927.459
                        ]
                      },
                      {
                        "test": [
                          3331694.581
                        ],
                        "passed_time": 7.256499588,
                        "iteration": 107,
                        "remaining_time": 2.821972062,
                        "learn": [
                          2422997.175
                        ]
                      },
                      {
                        "test": [
                          3329823.937
                        ],
                        "passed_time": 7.3310984,
                        "iteration": 108,
                        "remaining_time": 2.757569123,
                        "learn": [
                          2416861.822
                        ]
                      },
                      {
                        "test": [
                          3329811.866
                        ],
                        "passed_time": 7.393771781,
                        "iteration": 109,
                        "remaining_time": 2.688644284,
                        "learn": [
                          2412677.36
                        ]
                      },
                      {
                        "test": [
                          3331688.159
                        ],
                        "passed_time": 7.455281966,
                        "iteration": 110,
                        "remaining_time": 2.619423393,
                        "learn": [
                          2408764.852
                        ]
                      },
                      {
                        "test": [
                          3331315.778
                        ],
                        "passed_time": 7.524569539,
                        "iteration": 111,
                        "remaining_time": 2.552978951,
                        "learn": [
                          2405572.649
                        ]
                      },
                      {
                        "test": [
                          3332115.127
                        ],
                        "passed_time": 7.595126995,
                        "iteration": 112,
                        "remaining_time": 2.486899989,
                        "learn": [
                          2401766.44
                        ]
                      },
                      {
                        "test": [
                          3332584.936
                        ],
                        "passed_time": 7.663432907,
                        "iteration": 113,
                        "remaining_time": 2.420031444,
                        "learn": [
                          2396823.761
                        ]
                      },
                      {
                        "test": [
                          3334112.677
                        ],
                        "passed_time": 7.74429267,
                        "iteration": 114,
                        "remaining_time": 2.356958639,
                        "learn": [
                          2393221.311
                        ]
                      },
                      {
                        "test": [
                          3334551.641
                        ],
                        "passed_time": 7.812011445,
                        "iteration": 115,
                        "remaining_time": 2.289727492,
                        "learn": [
                          2389246.309
                        ]
                      },
                      {
                        "test": [
                          3333370.905
                        ],
                        "passed_time": 7.884935448,
                        "iteration": 116,
                        "remaining_time": 2.223956152,
                        "learn": [
                          2385437.174
                        ]
                      },
                      {
                        "test": [
                          3331435.464
                        ],
                        "passed_time": 7.94358095,
                        "iteration": 117,
                        "remaining_time": 2.154191444,
                        "learn": [
                          2382763.228
                        ]
                      },
                      {
                        "test": [
                          3325788.135
                        ],
                        "passed_time": 8.008525813,
                        "iteration": 118,
                        "remaining_time": 2.086254624,
                        "learn": [
                          2376120.652
                        ]
                      },
                      {
                        "test": [
                          3325017.364
                        ],
                        "passed_time": 8.073848046,
                        "iteration": 119,
                        "remaining_time": 2.018462011,
                        "learn": [
                          2372284.07
                        ]
                      },
                      {
                        "test": [
                          3324948.392
                        ],
                        "passed_time": 8.148561614,
                        "iteration": 120,
                        "remaining_time": 1.952961048,
                        "learn": [
                          2368861.634
                        ]
                      },
                      {
                        "test": [
                          3323433.738
                        ],
                        "passed_time": 8.208015738,
                        "iteration": 121,
                        "remaining_time": 1.883806891,
                        "learn": [
                          2365078.965
                        ]
                      },
                      {
                        "test": [
                          3323020.238
                        ],
                        "passed_time": 8.267403456,
                        "iteration": 122,
                        "remaining_time": 1.814795881,
                        "learn": [
                          2362332.934
                        ]
                      },
                      {
                        "test": [
                          3322377.657
                        ],
                        "passed_time": 8.326349081,
                        "iteration": 123,
                        "remaining_time": 1.745847388,
                        "learn": [
                          2360025.774
                        ]
                      },
                      {
                        "test": [
                          3322392.747
                        ],
                        "passed_time": 8.392082212,
                        "iteration": 124,
                        "remaining_time": 1.678416442,
                        "learn": [
                          2357656.166
                        ]
                      },
                      {
                        "test": [
                          3320152.672
                        ],
                        "passed_time": 8.450420217,
                        "iteration": 125,
                        "remaining_time": 1.609603851,
                        "learn": [
                          2355649.192
                        ]
                      },
                      {
                        "test": [
                          3321156.947
                        ],
                        "passed_time": 8.524708285,
                        "iteration": 126,
                        "remaining_time": 1.543844807,
                        "learn": [
                          2353569.499
                        ]
                      },
                      {
                        "test": [
                          3318848.561
                        ],
                        "passed_time": 8.591076859,
                        "iteration": 127,
                        "remaining_time": 1.476591335,
                        "learn": [
                          2348756.165
                        ]
                      },
                      {
                        "test": [
                          3316791.352
                        ],
                        "passed_time": 8.659460609,
                        "iteration": 128,
                        "remaining_time": 1.409679634,
                        "learn": [
                          2344611.166
                        ]
                      },
                      {
                        "test": [
                          3318478.906
                        ],
                        "passed_time": 8.715455795,
                        "iteration": 129,
                        "remaining_time": 1.340839353,
                        "learn": [
                          2341486.575
                        ]
                      },
                      {
                        "test": [
                          3317444.091
                        ],
                        "passed_time": 8.779740705,
                        "iteration": 130,
                        "remaining_time": 1.273397507,
                        "learn": [
                          2338662.009
                        ]
                      },
                      {
                        "test": [
                          3316747.089
                        ],
                        "passed_time": 8.855593231,
                        "iteration": 131,
                        "remaining_time": 1.207580895,
                        "learn": [
                          2336655.545
                        ]
                      },
                      {
                        "test": [
                          3323629.049
                        ],
                        "passed_time": 8.934562769,
                        "iteration": 132,
                        "remaining_time": 1.142011782,
                        "learn": [
                          2333094.997
                        ]
                      },
                      {
                        "test": [
                          3323512.256
                        ],
                        "passed_time": 8.997502415,
                        "iteration": 133,
                        "remaining_time": 1.074328647,
                        "learn": [
                          2330249.487
                        ]
                      },
                      {
                        "test": [
                          3321711.502
                        ],
                        "passed_time": 9.05829599,
                        "iteration": 134,
                        "remaining_time": 1.006477332,
                        "learn": [
                          2327223.083
                        ]
                      },
                      {
                        "test": [
                          3321819.832
                        ],
                        "passed_time": 9.118979226,
                        "iteration": 135,
                        "remaining_time": 0.9387184498,
                        "learn": [
                          2324652.418
                        ]
                      },
                      {
                        "test": [
                          3321252.798
                        ],
                        "passed_time": 9.179167203,
                        "iteration": 136,
                        "remaining_time": 0.871015866,
                        "learn": [
                          2318590.371
                        ]
                      },
                      {
                        "test": [
                          3321685.05
                        ],
                        "passed_time": 9.247207786,
                        "iteration": 137,
                        "remaining_time": 0.8041050248,
                        "learn": [
                          2316673.653
                        ]
                      },
                      {
                        "test": [
                          3321242.837
                        ],
                        "passed_time": 9.324042401,
                        "iteration": 138,
                        "remaining_time": 0.737873859,
                        "learn": [
                          2313194.594
                        ]
                      },
                      {
                        "test": [
                          3320289.923
                        ],
                        "passed_time": 9.389226603,
                        "iteration": 139,
                        "remaining_time": 0.6706590431,
                        "learn": [
                          2309922.657
                        ]
                      },
                      {
                        "test": [
                          3322129.285
                        ],
                        "passed_time": 9.4532825,
                        "iteration": 140,
                        "remaining_time": 0.6034010107,
                        "learn": [
                          2307457.822
                        ]
                      },
                      {
                        "test": [
                          3322940.161
                        ],
                        "passed_time": 9.511731039,
                        "iteration": 141,
                        "remaining_time": 0.5358721712,
                        "learn": [
                          2305388.679
                        ]
                      },
                      {
                        "test": [
                          3322875.137
                        ],
                        "passed_time": 9.578636862,
                        "iteration": 142,
                        "remaining_time": 0.4688843219,
                        "learn": [
                          2302683.4
                        ]
                      },
                      {
                        "test": [
                          3321977.207
                        ],
                        "passed_time": 9.65228159,
                        "iteration": 143,
                        "remaining_time": 0.4021783996,
                        "learn": [
                          2299860.361
                        ]
                      },
                      {
                        "test": [
                          3321600.118
                        ],
                        "passed_time": 9.741117611,
                        "iteration": 144,
                        "remaining_time": 0.3359006073,
                        "learn": [
                          2297308.105
                        ]
                      },
                      {
                        "test": [
                          3322622.161
                        ],
                        "passed_time": 9.799587776,
                        "iteration": 145,
                        "remaining_time": 0.2684818569,
                        "learn": [
                          2295543.422
                        ]
                      },
                      {
                        "test": [
                          3320944.372
                        ],
                        "passed_time": 9.8790363,
                        "iteration": 146,
                        "remaining_time": 0.2016129857,
                        "learn": [
                          2291907.932
                        ]
                      },
                      {
                        "test": [
                          3320812.197
                        ],
                        "passed_time": 9.935667886,
                        "iteration": 147,
                        "remaining_time": 0.1342657822,
                        "learn": [
                          2291228.007
                        ]
                      },
                      {
                        "test": [
                          3320174.064
                        ],
                        "passed_time": 10.00176415,
                        "iteration": 148,
                        "remaining_time": 0.06712593392,
                        "learn": [
                          2287533.076
                        ]
                      },
                      {
                        "test": [
                          3319307.223
                        ],
                        "passed_time": 10.06071804,
                        "iteration": 149,
                        "remaining_time": 0,
                        "learn": [
                          2284570.193
                        ]
                      }
                    ]
                  },
                  "total_iterations": 150,
                  "passed_iterations": 149
                },
                "path": "catboost_info",
                "name": "catboost_info"
              }
            },
            "_view_module": "catboost-widget",
            "_model_module_version": "^1.0.0",
            "_view_count": null,
            "_view_module_version": "^1.0.0",
            "layout": "IPY_MODEL_7ff6431a9f184498a3701cd89ef2be5a",
            "_model_module": "catboost-widget"
          }
        }
      }
    }
  },
  "nbformat": 4,
  "nbformat_minor": 0
}